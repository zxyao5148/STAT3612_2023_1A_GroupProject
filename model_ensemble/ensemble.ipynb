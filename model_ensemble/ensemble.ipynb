{
 "cells": [
  {
   "cell_type": "markdown",
   "metadata": {},
   "source": [
    "# Model Ensembling"
   ]
  },
  {
   "cell_type": "code",
   "execution_count": 5,
   "metadata": {},
   "outputs": [],
   "source": [
    "#!pip install tpot\n",
    "#!pip install scikit-optimize\n",
    "import pandas as pd\n",
    "import numpy as np\n",
    "import pandas as pd\n",
    "import matplotlib.pyplot as plt\n",
    "import seaborn as sns\n",
    "import math\n",
    "import zipfile\n",
    "import urllib.request\n",
    "import io\n",
    "import warnings\n",
    "from xgboost import XGBClassifier\n",
    "from sklearn.model_selection import GridSearchCV, cross_val_score, train_test_split, KFold \n",
    "from sklearn.linear_model import LogisticRegression\n",
    "from sklearn.discriminant_analysis import LinearDiscriminantAnalysis, QuadraticDiscriminantAnalysis\n",
    "from sklearn.naive_bayes import GaussianNB\n",
    "from sklearn.neighbors import KNeighborsClassifier\n",
    "from sklearn.svm import SVC\n",
    "from sklearn.tree import DecisionTreeClassifier\n",
    "from sklearn.ensemble import BaggingClassifier, RandomForestClassifier, GradientBoostingClassifier, AdaBoostClassifier, ExtraTreesClassifier, StackingClassifier\n",
    "from sklearn.metrics import accuracy_score, confusion_matrix, classification_report, roc_curve, auc, roc_auc_score, make_scorer\n",
    "warnings.filterwarnings('ignore')\n",
    "from sklearn.model_selection import train_test_split\n",
    "from sklearn.datasets import load_digits\n",
    "from skopt import BayesSearchCV, plots\n",
    "from skopt.space import Real, Categorical, Integer\n",
    "from collections import OrderedDict\n",
    "from itertools import combinations"
   ]
  },
  {
   "cell_type": "code",
   "execution_count": 3,
   "metadata": {},
   "outputs": [],
   "source": [
    "# combined data\n",
    "# load processed data\n",
    "train_median = pd.read_csv('../data_processing/train/train_valid_mean_mode.csv')\n",
    "train_latest = pd.read_csv('../data_processing/train/train_valid_latest.csv')\n",
    "train_dispers = pd.read_csv('../data_processing/train/train_valid_entropy_std.csv')\n",
    "train_min = pd.read_csv('../data_processing/train/train_valid_min.csv')\n",
    "train_max = pd.read_csv('../data_processing/train/train_valid_max.csv')\n",
    "train_q1 = pd.read_csv('../data_processing/train/train_valid_q1.csv')\n",
    "train_q3 = pd.read_csv('../data_processing/train/train_valid_q3.csv')\n",
    "train_kurtosis = pd.read_csv('../data_processing/train/train_valid_kurtosis.csv')\n",
    "train_skewness = pd.read_csv('../data_processing/train/train_valid_skewness.csv')\n",
    "train_range = pd.read_csv('../data_processing/train/train_valid_range.csv')\n",
    "train_iqr = pd.read_csv('../data_processing/train/train_valid_iqr.csv')\n",
    "train_latest = train_latest.drop(train_latest.columns[0:13], axis=1)\n",
    "train_dispers = train_dispers.drop(train_dispers.columns[0:13], axis=1)\n",
    "train_min = train_min.drop(train_min.columns[0:13], axis=1)\n",
    "train_max = train_max.drop(train_max.columns[0:13], axis=1)\n",
    "train_q1 = train_q1.drop(train_q1.columns[0:13], axis=1)\n",
    "train_q3 = train_q3.drop(train_q3.columns[0:13], axis=1)\n",
    "train_kurtois = train_kurtosis.drop(train_kurtosis.columns[0:13], axis=1)\n",
    "train_skewness = train_skewness.drop(train_skewness.columns[0:13], axis=1)\n",
    "train_range = train_range.drop(train_range.columns[0:13], axis=1)\n",
    "train_iqr = train_iqr.drop(train_iqr.columns[0:13], axis=1)\n",
    "train = pd.concat([train_median, train_latest, train_dispers, train_min, train_max], axis=1)\n",
    "\n",
    "# load processed data\n",
    "test_median = pd.read_csv('../data_processing/test/test_mean_mode.csv')\n",
    "test_latest = pd.read_csv('../data_processing/test/test_latest.csv')\n",
    "test_dispers = pd.read_csv('../data_processing/test/test_entropy_std.csv')\n",
    "test_min = pd.read_csv('../data_processing/test/test_min.csv')\n",
    "test_max = pd.read_csv('../data_processing/test/test_max.csv')\n",
    "test_q1 = pd.read_csv('../data_processing/test/test_q1.csv')\n",
    "test_q3 = pd.read_csv('../data_processing/test/test_q3.csv')\n",
    "test_kurtosis = pd.read_csv('../data_processing/test/test_kurtosis.csv')\n",
    "test_skewness = pd.read_csv('../data_processing/test/test_skewness.csv')\n",
    "test_range = pd.read_csv('../data_processing/test/test_range.csv')\n",
    "test_iqr = pd.read_csv('../data_processing/test/test_iqr.csv')\n",
    "test_latest = test_latest.drop(test_latest.columns[0:12], axis=1)\n",
    "test_dispers = test_dispers.drop(test_dispers.columns[0:12], axis=1)\n",
    "test_min = test_min.drop(test_min.columns[0:12], axis=1)\n",
    "test_max = test_max.drop(test_max.columns[0:12], axis=1)\n",
    "test_q1 = test_q1.drop(test_q1.columns[0:12], axis=1)\n",
    "test_q3 = test_q3.drop(test_q3.columns[0:12], axis=1)\n",
    "test_kurtosis = test_kurtosis.drop(test_kurtosis.columns[0:12], axis=1)\n",
    "test_skewness = test_skewness.drop(test_skewness.columns[0:12], axis=1)\n",
    "test_range = test_range.drop(test_range.columns[0:12], axis=1)\n",
    "test_iqr = test_iqr.drop(test_iqr.columns[0:12], axis=1)\n",
    "test = pd.concat([test_median, test_latest, test_dispers, test_min, test_max], axis=1)"
   ]
  },
  {
   "cell_type": "code",
   "execution_count": 4,
   "metadata": {},
   "outputs": [],
   "source": [
    "# separate response and features\n",
    "X_train = train.drop(train.columns[0:13], axis=1)\n",
    "y_train = train[\"readmitted_within_30days\"]\n",
    "X_test = test.drop(test.columns[0:12], axis=1)"
   ]
  },
  {
   "cell_type": "code",
   "execution_count": 11,
   "metadata": {},
   "outputs": [
    {
     "name": "stdout",
     "output_type": "stream",
     "text": [
      "AUC for ('extra_trees', 'random_forest'): 0.8006\n",
      "AUC for ('extra_trees', 'gradient_boost'): 0.8072\n",
      "AUC for ('extra_trees', 'xgboost'): 0.8056\n",
      "AUC for ('random_forest', 'gradient_boost'): 0.8038\n",
      "AUC for ('random_forest', 'xgboost'): 0.7993\n",
      "AUC for ('gradient_boost', 'xgboost'): 0.8044\n",
      "AUC for ('extra_trees', 'random_forest', 'gradient_boost'): 0.8066\n",
      "AUC for ('extra_trees', 'random_forest', 'xgboost'): 0.8024\n",
      "AUC for ('extra_trees', 'gradient_boost', 'xgboost'): 0.8087\n",
      "AUC for ('random_forest', 'gradient_boost', 'xgboost'): 0.8053\n",
      "AUC for ('extra_trees', 'random_forest', 'gradient_boost', 'xgboost'): 0.8071\n"
     ]
    }
   ],
   "source": [
    "# model ensembles\n",
    "hyperparameters = {\n",
    "    'extra_trees': OrderedDict([('max_depth', 1135), ('min_samples_leaf', 2), ('min_samples_split', 2), ('n_estimators', 1614)]),\n",
    "    'random_forest': OrderedDict([('max_depth', 25), ('min_samples_leaf', 1), ('min_samples_split', 20), ('n_estimators', 155)]),\n",
    "    'gradient_boost': OrderedDict([('learning_rate', 0.05104619739803147), ('max_depth', 10), ('min_samples_leaf', 18), ('min_samples_split', 17), ('n_estimators', 103)]),\n",
    "    'xgboost': OrderedDict([('learning_rate', 0.07856721676232462), ('max_depth', 7), ('n_estimators', 78), ('scale_pos_weight', 0.1)])\n",
    "}\n",
    "\n",
    "models = {\n",
    "    'extra_trees': ExtraTreesClassifier(**hyperparameters['extra_trees']),\n",
    "    'random_forest': RandomForestClassifier(**hyperparameters['random_forest']),\n",
    "    'gradient_boost': GradientBoostingClassifier(**hyperparameters['gradient_boost']),\n",
    "    'xgboost': XGBClassifier(**hyperparameters['xgboost'])\n",
    "}\n",
    "\n",
    "kfold = StratifiedKFold(n_splits=5, random_state=42, shuffle=True)\n",
    "for r in range(2, len(models) + 1):\n",
    "    for combination in combinations(models.keys(), r):\n",
    "        auc_scores = []\n",
    "        for train_index, test_index in kfold.split(X_train, y_train):\n",
    "            X_train_fold, X_test_fold = X_train.iloc[train_index], X_train.iloc[test_index]\n",
    "            y_train_fold, y_test_fold = y_train.iloc[train_index], y_train.iloc[test_index]\n",
    "            predicted_probs = []\n",
    "            for model_name in combination:\n",
    "                model = models[model_name]\n",
    "                model.fit(X_train_fold, y_train_fold)\n",
    "                predicted_probs.append(model.predict_proba(X_test_fold)[:, 1])\n",
    "            avg_predicted_probs = np.mean(predicted_probs, axis=0)\n",
    "            auc = roc_auc_score(y_test_fold, avg_predicted_probs)\n",
    "            auc_scores.append(auc)\n",
    "        print(f\"AUC for {combination}: {np.mean(auc_scores):.4f}\")"
   ]
  },
  {
   "cell_type": "code",
   "execution_count": 36,
   "metadata": {},
   "outputs": [
    {
     "name": "stdout",
     "output_type": "stream",
     "text": [
      "AUC for weight 0.0 of Gradient Boosting: 0.8029\n",
      "AUC for weight 0.1 of Gradient Boosting: 0.8051\n",
      "AUC for weight 0.2 of Gradient Boosting: 0.8068\n",
      "AUC for weight 0.3 of Gradient Boosting: 0.8079\n",
      "AUC for weight 0.4 of Gradient Boosting: 0.8084\n",
      "AUC for weight 0.5 of Gradient Boosting: 0.8085\n",
      "AUC for weight 0.6 of Gradient Boosting: 0.8081\n",
      "AUC for weight 0.7 of Gradient Boosting: 0.8072\n",
      "AUC for weight 0.8 of Gradient Boosting: 0.8055\n",
      "AUC for weight 0.9 of Gradient Boosting: 0.8030\n",
      "AUC for weight 1.0 of Gradient Boosting: 0.7998\n"
     ]
    }
   ],
   "source": [
    "# adjust weightings (extra trees + gradient boost)\n",
    "# explore different weightings of gradient boost (0,0.1,...,1)\n",
    "models = {\n",
    "    'extra_trees': ExtraTreesClassifier(**hyperparameters['extra_trees']),\n",
    "    'gradient_boost': GradientBoostingClassifier(**hyperparameters['gradient_boost'])\n",
    "}\n",
    "\n",
    "kfold = StratifiedKFold(n_splits=5, random_state=42, shuffle=True)\n",
    "model_predictions = {model_name: [] for model_name in models.keys()}\n",
    "for train_index, test_index in kfold.split(X_train, y_train):\n",
    "    X_train_fold, X_test_fold = X_train.iloc[train_index], X_train.iloc[test_index]\n",
    "    y_train_fold, y_test_fold = y_train.iloc[train_index], y_train.iloc[test_index]\n",
    "    for model_name in models.keys():\n",
    "        model = models[model_name]\n",
    "        model.fit(X_train_fold, y_train_fold)\n",
    "        model_predictions[model_name].append(model.predict_proba(X_test_fold)[:, 1])\n",
    "\n",
    "mean_auc_scores = []\n",
    "for weight in np.arange(0, 1.1, 0.1):\n",
    "    auc_scores = []\n",
    "    for i in range(kfold.get_n_splits()):\n",
    "        predicted_probs = []\n",
    "        for model_name in models.keys():\n",
    "            predicted_prob = model_predictions[model_name][i].copy()  \n",
    "            if model_name == 'gradient_boost':\n",
    "                predicted_prob *= weight\n",
    "            elif model_name == 'extra_trees':\n",
    "                predicted_prob *= (1 - weight)\n",
    "            predicted_probs.append(predicted_prob)\n",
    "        avg_predicted_probs = np.sum(predicted_probs, axis=0)\n",
    "        _, test_index = list(kfold.split(X_train, y_train))[i]\n",
    "        y_test_fold = y_train.iloc[test_index]\n",
    "        auc = roc_auc_score(y_test_fold, avg_predicted_probs)\n",
    "        auc_scores.append(auc)\n",
    "    mean_auc_scores.append(np.mean(auc_scores))\n",
    "    print(f\"AUC for weight {weight:.1f} of Gradient Boosting: {np.mean(auc_scores):.4f}\")"
   ]
  },
  {
   "cell_type": "code",
   "execution_count": 37,
   "metadata": {},
   "outputs": [
    {
     "data": {
      "image/png": "[encoded data removed]",
      "text/plain": [
       "<Figure size 640x480 with 1 Axes>"
      ]
     },
     "metadata": {},
     "output_type": "display_data"
    }
   ],
   "source": [
    "# visualize the results\n",
    "plt.plot(np.arange(0,1.1,0.1), mean_auc_scores)\n",
    "plt.xlabel('Weight of Gradient Boosting')\n",
    "plt.ylabel('AUC (5-fold CV)')\n",
    "plt.title('Gradient Boosting + Extra Trees')\n",
    "max_auc = max(mean_auc_scores)\n",
    "max_weight = np.arange(0,1.1,0.1)[mean_auc_scores.index(max_auc)]\n",
    "plt.plot(max_weight, max_auc, 'ro')\n",
    "plt.show()"
   ]
  },
  {
   "cell_type": "code",
   "execution_count": 38,
   "metadata": {},
   "outputs": [],
   "source": [
    "# output weighted average predicted probabilities \n",
    "model_predictions = {model_name: [] for model_name in models.keys()}\n",
    "for model_name in models.keys():\n",
    "    model = models[model_name]\n",
    "    model.fit(X_train, y_train)\n",
    "    model_predictions[model_name] = model.predict_proba(X_test)[:, 1]\n",
    "\n",
    "weights = {'gradient_boost': 0.5, 'extra_trees': 0.5}\n",
    "weighted_predictions = []\n",
    "for model_name in models.keys():\n",
    "    predicted_prob = model_predictions[model_name].copy()\n",
    "    predicted_prob *= weights[model_name]\n",
    "    weighted_predictions.append(predicted_prob)\n",
    "weighted_avg_predictions = np.sum(weighted_predictions, axis=0)\n",
    "#print(f\"Weighted average predictions for the test set: {weighted_avg_predictions}\")"
   ]
  },
  {
   "cell_type": "code",
   "execution_count": 35,
   "metadata": {},
   "outputs": [],
   "source": [
    "# construct dataframe\n",
    "# make predictions\n",
    "df = pd.DataFrame({'id': test['id'], 'readmitted_within_30days': weighted_avg_predictions})\n",
    "df.to_csv('../df.csv', index=False)"
   ]
  }
 ],
 "metadata": {
  "kernelspec": {
   "display_name": "base",
   "language": "python",
   "name": "python3"
  },
  "language_info": {
   "codemirror_mode": {
    "name": "ipython",
    "version": 3
   },
   "file_extension": ".py",
   "mimetype": "text/x-python",
   "name": "python",
   "nbconvert_exporter": "python",
   "pygments_lexer": "ipython3",
   "version": "3.11.4"
  }
 },
 "nbformat": 4,
 "nbformat_minor": 2
}
