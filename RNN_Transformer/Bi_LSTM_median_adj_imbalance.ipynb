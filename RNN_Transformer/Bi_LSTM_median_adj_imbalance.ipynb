{
  "cells": [
    {
      "cell_type": "markdown",
      "metadata": {
        "id": "view-in-github",
        "colab_type": "text"
      },
      "source": [
        "<a href=\"https://colab.research.google.com/github/zxyao5148/STAT3612_2023_1A_GroupProject/blob/main/RNN_Transformer/Bi_LSTM_median_adj_imbalance.ipynb\" target=\"_parent\"><img src=\"https://colab.research.google.com/assets/colab-badge.svg\" alt=\"Open In Colab\"/></a>"
      ]
    },
    {
      "cell_type": "markdown",
      "metadata": {
        "id": "fFipp7tAAVxh"
      },
      "source": [
        "**Description:** This notebook demonstrates how to do timeseries classification using RNN models (Simple RNN, LSTM, and GRU).\n",
        "\n",
        "Reference: https://www.kaggle.com/code/thebrownviking20/intro-to-recurrent-neural-networks-lstm-gru/notebook"
      ]
    },
    {
      "cell_type": "markdown",
      "metadata": {
        "id": "ll7UTtsyAVxj"
      },
      "source": [
        "## Load the dataset"
      ]
    },
    {
      "cell_type": "code",
      "execution_count": 1,
      "metadata": {
        "id": "U-qy06BXAVxk",
        "colab": {
          "base_uri": "https://localhost:8080/"
        },
        "outputId": "b1d1e18a-1714-4a47-f777-3cbb0f674020"
      },
      "outputs": [
        {
          "output_type": "stream",
          "name": "stdout",
          "text": [
            "--2023-11-17 16:23:46--  https://raw.githubusercontent.com/zxyao5148/STAT3612_2023_1A_GroupProject/main/code_base/adjust_imbl.py\n",
            "Resolving raw.githubusercontent.com (raw.githubusercontent.com)... 185.199.111.133, 185.199.110.133, 185.199.108.133, ...\n",
            "Connecting to raw.githubusercontent.com (raw.githubusercontent.com)|185.199.111.133|:443... connected.\n",
            "HTTP request sent, awaiting response... 200 OK\n",
            "Length: 927 [text/plain]\n",
            "Saving to: ‘adjust_imbl.py.2’\n",
            "\n",
            "\radjust_imbl.py.2      0%[                    ]       0  --.-KB/s               \radjust_imbl.py.2    100%[===================>]     927  --.-KB/s    in 0s      \n",
            "\n",
            "2023-11-17 16:23:46 (74.0 MB/s) - ‘adjust_imbl.py.2’ saved [927/927]\n",
            "\n",
            "Original dataset shape Counter({0: 7638, 1: 1638})\n",
            "Resampled dataset shape Counter({0: 1638, 1: 1638})\n"
          ]
        }
      ],
      "source": [
        "import pandas as pd\n",
        "import requests\n",
        "from io import StringIO\n",
        "import numpy as np\n",
        "from sklearn.model_selection import train_test_split\n",
        "\n",
        "# Raw URLs for the CSV files\n",
        "train_url = \"https://raw.githubusercontent.com/zxyao5148/STAT3612_2023_1A_GroupProject/main/data_processing/train/train_valid_median.csv\"\n",
        "test_url = \"https://raw.githubusercontent.com/zxyao5148/STAT3612_2023_1A_GroupProject/main/data_processing/test/test_median.csv\"\n",
        "\n",
        "# Download the CSV files\n",
        "train_csv = requests.get(train_url).text\n",
        "test_csv = requests.get(test_url).text\n",
        "\n",
        "# Read the CSV files into pandas DataFrames\n",
        "train_valid = pd.read_csv(StringIO(train_csv))\n",
        "test = pd.read_csv(StringIO(test_csv))\n",
        "\n",
        "train_valid['deathtime'] = np.where(train_valid['deathtime'].notnull(), 1, 0)\n",
        "test['deathtime'] = np.where(test['deathtime'].notnull(), 1, 0)\n",
        "\n",
        "# with 80% of the data for training and 20% for validation\n",
        "train, valid = train_test_split(train_valid, test_size=0.2, random_state=3612)\n",
        "\n",
        "# Split the data into features (X) and target variable (y)\n",
        "x_train = train[['deathtime']].join(train.iloc[:, 9:])\n",
        "y_train = train.iloc[:, 8]\n",
        "\n",
        "!wget https://raw.githubusercontent.com/zxyao5148/STAT3612_2023_1A_GroupProject/main/code_base/adjust_imbl.py\n",
        "from adjust_imbl import adjust_imbl\n",
        "x_train, y_train = adjust_imbl(x_train, y_train)\n",
        "\n",
        "x_valid = valid[['deathtime']].join(valid.iloc[:, 9:])\n",
        "y_valid = valid.iloc[:, 8]\n",
        "\n",
        "x_test = test[['deathtime']].join(test.iloc[:,8:])"
      ]
    },
    {
      "cell_type": "code",
      "execution_count": 2,
      "metadata": {
        "id": "ElXnpwlhE0i8"
      },
      "outputs": [],
      "source": [
        "x_train = x_train.values.reshape((x_train.shape[0], x_train.shape[1], 1))\n",
        "x_valid = x_valid.values.reshape((x_valid.shape[0], x_valid.shape[1], 1))\n",
        "x_test = x_test.values.reshape((x_test.shape[0], x_test.shape[1], 1))\n",
        "\n",
        "# Reset the index of the y_train DataFrame\n",
        "y_train = y_train.reset_index(drop=True)\n",
        "\n",
        "# Shuffle the indices\n",
        "idx = np.random.permutation(len(x_train))\n",
        "\n",
        "# Reassign the values using the shuffled indices\n",
        "x_train = x_train[idx]\n",
        "y_train = y_train.iloc[idx]"
      ]
    },
    {
      "cell_type": "markdown",
      "metadata": {
        "id": "teAicBzgAVxl"
      },
      "source": [
        "## Build the model\n",
        "\n",
        "The model processes a tensor of shape `(batch size, sequence length, features)`,\n",
        "where `sequence length` is the number of time steps and `features` is each input\n",
        "timeseries.\n"
      ]
    },
    {
      "cell_type": "code",
      "execution_count": 3,
      "metadata": {
        "id": "My1EkBMVAVxm"
      },
      "outputs": [],
      "source": [
        "from keras.layers import Dense, Activation, Dropout\n",
        "from keras.layers import LSTM, GRU, SimpleRNN\n",
        "from keras.models import Sequential\n",
        "import keras"
      ]
    },
    {
      "cell_type": "markdown",
      "source": [
        "#  Bidirectional LSTM"
      ],
      "metadata": {
        "id": "9MsiVoA-zIf5"
      }
    },
    {
      "cell_type": "code",
      "source": [
        "from keras.models import Sequential\n",
        "from keras.layers import LSTM, Dropout, Dense, Bidirectional\n",
        "import keras\n",
        "from keras.optimizers import Adam\n",
        "from keras.layers import BatchNormalization\n",
        "from keras.regularizers import l2\n",
        "from keras.callbacks import EarlyStopping, ReduceLROnPlateau\n",
        "\n",
        "model = Sequential()\n",
        "# Add a Bidirectional LSTM layer with return_sequences=True and L2 regularization\n",
        "model.add(Bidirectional(LSTM(64, return_sequences=True, input_shape=(x_train.shape[1], 1), kernel_regularizer=l2(0.01))))\n",
        "# Add Batch Normalization\n",
        "model.add(BatchNormalization())\n",
        "model.add(Dropout(0.3))\n",
        "# Add another Bidirectional LSTM layer with return_sequences=False and activation function set to \"tanh\"\n",
        "model.add(Bidirectional(LSTM(128, return_sequences=False, activation=\"tanh\", kernel_regularizer=l2(0.01))))\n",
        "# Add Batch Normalization\n",
        "model.add(BatchNormalization())\n",
        "model.add(Dropout(0.3))\n",
        "model.add(Dense(1, activation=\"sigmoid\"))\n",
        "\n",
        "# Compile the model with a lower learning rate and use ReduceLROnPlateau for learning rate scheduling\n",
        "model.compile(loss='binary_crossentropy', optimizer=Adam(learning_rate=0.001), metrics=[\"accuracy\"])\n",
        "\n",
        "print('model compiled')\n",
        "\n",
        "# Define early stopping and learning rate reduction callbacks\n",
        "callbacks = [EarlyStopping(patience=10, restore_best_weights=True), ReduceLROnPlateau(factor=0.1, patience=5)]\n",
        "\n",
        "# Print model summary\n",
        "#print(model.summary())\n",
        "\n",
        "# Train the model with a smaller batch size\n",
        "history_LSTM = model.fit(x_train, y_train, batch_size=128, epochs=100, validation_data=(x_valid, y_valid), callbacks=callbacks)"
      ],
      "metadata": {
        "colab": {
          "base_uri": "https://localhost:8080/"
        },
        "id": "NNvQqs6LzVl4",
        "outputId": "f1adca20-0fe5-4948-cdc1-bfc71eeaff88"
      },
      "execution_count": 4,
      "outputs": [
        {
          "output_type": "stream",
          "name": "stdout",
          "text": [
            "model compiled\n",
            "Epoch 1/100\n",
            "26/26 [==============================] - 27s 116ms/step - loss: 3.8635 - accuracy: 0.7601 - val_loss: 3.2888 - val_accuracy: 0.1703 - lr: 0.0010\n",
            "Epoch 2/100\n",
            "26/26 [==============================] - 1s 46ms/step - loss: 2.4462 - accuracy: 0.7692 - val_loss: 2.3815 - val_accuracy: 0.1698 - lr: 0.0010\n",
            "Epoch 3/100\n",
            "26/26 [==============================] - 1s 48ms/step - loss: 1.6490 - accuracy: 0.7811 - val_loss: 1.8676 - val_accuracy: 0.1698 - lr: 0.0010\n",
            "Epoch 4/100\n",
            "26/26 [==============================] - 1s 46ms/step - loss: 1.2155 - accuracy: 0.7781 - val_loss: 1.5739 - val_accuracy: 0.1698 - lr: 0.0010\n",
            "Epoch 5/100\n",
            "26/26 [==============================] - 1s 46ms/step - loss: 0.9575 - accuracy: 0.7845 - val_loss: 1.4420 - val_accuracy: 0.1698 - lr: 0.0010\n",
            "Epoch 6/100\n",
            "26/26 [==============================] - 1s 46ms/step - loss: 0.8183 - accuracy: 0.7860 - val_loss: 1.3018 - val_accuracy: 0.1698 - lr: 0.0010\n",
            "Epoch 7/100\n",
            "26/26 [==============================] - 1s 50ms/step - loss: 0.7170 - accuracy: 0.7894 - val_loss: 1.3140 - val_accuracy: 0.1698 - lr: 0.0010\n",
            "Epoch 8/100\n",
            "26/26 [==============================] - 1s 51ms/step - loss: 0.6556 - accuracy: 0.7927 - val_loss: 1.2959 - val_accuracy: 0.1698 - lr: 0.0010\n",
            "Epoch 9/100\n",
            "26/26 [==============================] - 1s 49ms/step - loss: 0.6005 - accuracy: 0.7964 - val_loss: 1.3140 - val_accuracy: 0.1698 - lr: 0.0010\n",
            "Epoch 10/100\n",
            "26/26 [==============================] - 1s 50ms/step - loss: 0.5735 - accuracy: 0.7885 - val_loss: 1.2594 - val_accuracy: 0.1698 - lr: 0.0010\n",
            "Epoch 11/100\n",
            "26/26 [==============================] - 1s 46ms/step - loss: 0.5366 - accuracy: 0.7995 - val_loss: 1.1243 - val_accuracy: 0.1698 - lr: 0.0010\n",
            "Epoch 12/100\n",
            "26/26 [==============================] - 1s 46ms/step - loss: 0.5198 - accuracy: 0.8004 - val_loss: 1.2001 - val_accuracy: 0.1698 - lr: 0.0010\n",
            "Epoch 13/100\n",
            "26/26 [==============================] - 1s 47ms/step - loss: 0.5055 - accuracy: 0.7909 - val_loss: 1.0832 - val_accuracy: 0.1698 - lr: 0.0010\n",
            "Epoch 14/100\n",
            "26/26 [==============================] - 1s 49ms/step - loss: 0.4862 - accuracy: 0.8074 - val_loss: 1.0705 - val_accuracy: 0.1698 - lr: 0.0010\n",
            "Epoch 15/100\n",
            "26/26 [==============================] - 1s 48ms/step - loss: 0.4787 - accuracy: 0.7998 - val_loss: 1.0875 - val_accuracy: 0.1746 - lr: 0.0010\n",
            "Epoch 16/100\n",
            "26/26 [==============================] - 1s 49ms/step - loss: 0.4718 - accuracy: 0.7979 - val_loss: 1.0186 - val_accuracy: 0.1703 - lr: 0.0010\n",
            "Epoch 17/100\n",
            "26/26 [==============================] - 1s 47ms/step - loss: 0.4676 - accuracy: 0.8004 - val_loss: 0.8344 - val_accuracy: 0.1780 - lr: 0.0010\n",
            "Epoch 18/100\n",
            "26/26 [==============================] - 1s 50ms/step - loss: 0.4484 - accuracy: 0.8068 - val_loss: 0.9222 - val_accuracy: 0.1750 - lr: 0.0010\n",
            "Epoch 19/100\n",
            "26/26 [==============================] - 1s 51ms/step - loss: 0.4512 - accuracy: 0.7967 - val_loss: 0.8469 - val_accuracy: 0.1707 - lr: 0.0010\n",
            "Epoch 20/100\n",
            "26/26 [==============================] - 1s 50ms/step - loss: 0.4538 - accuracy: 0.8046 - val_loss: 0.7564 - val_accuracy: 0.2707 - lr: 0.0010\n",
            "Epoch 21/100\n",
            "26/26 [==============================] - 1s 47ms/step - loss: 0.4378 - accuracy: 0.8089 - val_loss: 0.7402 - val_accuracy: 0.3142 - lr: 0.0010\n",
            "Epoch 22/100\n",
            "26/26 [==============================] - 1s 46ms/step - loss: 0.4351 - accuracy: 0.8104 - val_loss: 0.7456 - val_accuracy: 0.3125 - lr: 0.0010\n",
            "Epoch 23/100\n",
            "26/26 [==============================] - 1s 47ms/step - loss: 0.4363 - accuracy: 0.8001 - val_loss: 0.6805 - val_accuracy: 0.5164 - lr: 0.0010\n",
            "Epoch 24/100\n",
            "26/26 [==============================] - 1s 48ms/step - loss: 0.4324 - accuracy: 0.8056 - val_loss: 0.6479 - val_accuracy: 0.6750 - lr: 0.0010\n",
            "Epoch 25/100\n",
            "26/26 [==============================] - 1s 47ms/step - loss: 0.4244 - accuracy: 0.8077 - val_loss: 0.5907 - val_accuracy: 0.7668 - lr: 0.0010\n",
            "Epoch 26/100\n",
            "26/26 [==============================] - 1s 47ms/step - loss: 0.4285 - accuracy: 0.8086 - val_loss: 0.5695 - val_accuracy: 0.7845 - lr: 0.0010\n",
            "Epoch 27/100\n",
            "26/26 [==============================] - 1s 47ms/step - loss: 0.4266 - accuracy: 0.8071 - val_loss: 0.5500 - val_accuracy: 0.8151 - lr: 0.0010\n",
            "Epoch 28/100\n",
            "26/26 [==============================] - 1s 47ms/step - loss: 0.4249 - accuracy: 0.8077 - val_loss: 0.4810 - val_accuracy: 0.8716 - lr: 0.0010\n",
            "Epoch 29/100\n",
            "26/26 [==============================] - 1s 49ms/step - loss: 0.4232 - accuracy: 0.8071 - val_loss: 0.4344 - val_accuracy: 0.8996 - lr: 0.0010\n",
            "Epoch 30/100\n",
            "26/26 [==============================] - 1s 49ms/step - loss: 0.4205 - accuracy: 0.8062 - val_loss: 0.4707 - val_accuracy: 0.8853 - lr: 0.0010\n",
            "Epoch 31/100\n",
            "26/26 [==============================] - 1s 51ms/step - loss: 0.4270 - accuracy: 0.8019 - val_loss: 0.4044 - val_accuracy: 0.9026 - lr: 0.0010\n",
            "Epoch 32/100\n",
            "26/26 [==============================] - 1s 48ms/step - loss: 0.4231 - accuracy: 0.8074 - val_loss: 0.5088 - val_accuracy: 0.8638 - lr: 0.0010\n",
            "Epoch 33/100\n",
            "26/26 [==============================] - 1s 46ms/step - loss: 0.4226 - accuracy: 0.8086 - val_loss: 0.4360 - val_accuracy: 0.8754 - lr: 0.0010\n",
            "Epoch 34/100\n",
            "26/26 [==============================] - 1s 47ms/step - loss: 0.4204 - accuracy: 0.8056 - val_loss: 0.4057 - val_accuracy: 0.9013 - lr: 0.0010\n",
            "Epoch 35/100\n",
            "26/26 [==============================] - 1s 46ms/step - loss: 0.4203 - accuracy: 0.8068 - val_loss: 0.4559 - val_accuracy: 0.8754 - lr: 0.0010\n",
            "Epoch 36/100\n",
            "26/26 [==============================] - 1s 46ms/step - loss: 0.4179 - accuracy: 0.8132 - val_loss: 0.4175 - val_accuracy: 0.9198 - lr: 0.0010\n",
            "Epoch 37/100\n",
            "26/26 [==============================] - 1s 49ms/step - loss: 0.4149 - accuracy: 0.8080 - val_loss: 0.3865 - val_accuracy: 0.9112 - lr: 1.0000e-04\n",
            "Epoch 38/100\n",
            "26/26 [==============================] - 1s 46ms/step - loss: 0.4110 - accuracy: 0.8147 - val_loss: 0.3750 - val_accuracy: 0.9095 - lr: 1.0000e-04\n",
            "Epoch 39/100\n",
            "26/26 [==============================] - 1s 47ms/step - loss: 0.4104 - accuracy: 0.8132 - val_loss: 0.3718 - val_accuracy: 0.9121 - lr: 1.0000e-04\n",
            "Epoch 40/100\n",
            "26/26 [==============================] - 1s 49ms/step - loss: 0.4129 - accuracy: 0.8080 - val_loss: 0.3651 - val_accuracy: 0.9108 - lr: 1.0000e-04\n",
            "Epoch 41/100\n",
            "26/26 [==============================] - 1s 50ms/step - loss: 0.4094 - accuracy: 0.8147 - val_loss: 0.3602 - val_accuracy: 0.9172 - lr: 1.0000e-04\n",
            "Epoch 42/100\n",
            "26/26 [==============================] - 1s 52ms/step - loss: 0.4033 - accuracy: 0.8129 - val_loss: 0.3614 - val_accuracy: 0.9112 - lr: 1.0000e-04\n",
            "Epoch 43/100\n",
            "26/26 [==============================] - 2s 71ms/step - loss: 0.4097 - accuracy: 0.8126 - val_loss: 0.3619 - val_accuracy: 0.9112 - lr: 1.0000e-04\n",
            "Epoch 44/100\n",
            "26/26 [==============================] - 2s 58ms/step - loss: 0.4075 - accuracy: 0.8117 - val_loss: 0.3635 - val_accuracy: 0.9134 - lr: 1.0000e-04\n",
            "Epoch 45/100\n",
            "26/26 [==============================] - 2s 68ms/step - loss: 0.4043 - accuracy: 0.8132 - val_loss: 0.3550 - val_accuracy: 0.9112 - lr: 1.0000e-04\n",
            "Epoch 46/100\n",
            "26/26 [==============================] - 2s 69ms/step - loss: 0.4102 - accuracy: 0.8080 - val_loss: 0.3565 - val_accuracy: 0.9142 - lr: 1.0000e-04\n",
            "Epoch 47/100\n",
            "26/26 [==============================] - 1s 54ms/step - loss: 0.4056 - accuracy: 0.8135 - val_loss: 0.3511 - val_accuracy: 0.9164 - lr: 1.0000e-04\n",
            "Epoch 48/100\n",
            "26/26 [==============================] - 1s 46ms/step - loss: 0.4084 - accuracy: 0.8144 - val_loss: 0.3522 - val_accuracy: 0.9129 - lr: 1.0000e-04\n",
            "Epoch 49/100\n",
            "26/26 [==============================] - 1s 46ms/step - loss: 0.4057 - accuracy: 0.8089 - val_loss: 0.3537 - val_accuracy: 0.9151 - lr: 1.0000e-04\n",
            "Epoch 50/100\n",
            "26/26 [==============================] - 1s 49ms/step - loss: 0.4033 - accuracy: 0.8129 - val_loss: 0.3571 - val_accuracy: 0.9129 - lr: 1.0000e-04\n",
            "Epoch 51/100\n",
            "26/26 [==============================] - 1s 52ms/step - loss: 0.4091 - accuracy: 0.8141 - val_loss: 0.3591 - val_accuracy: 0.9099 - lr: 1.0000e-04\n",
            "Epoch 52/100\n",
            "26/26 [==============================] - 1s 50ms/step - loss: 0.4066 - accuracy: 0.8132 - val_loss: 0.3560 - val_accuracy: 0.9121 - lr: 1.0000e-04\n",
            "Epoch 53/100\n",
            "26/26 [==============================] - 1s 47ms/step - loss: 0.4061 - accuracy: 0.8153 - val_loss: 0.3550 - val_accuracy: 0.9121 - lr: 1.0000e-05\n",
            "Epoch 54/100\n",
            "26/26 [==============================] - 1s 46ms/step - loss: 0.4076 - accuracy: 0.8120 - val_loss: 0.3546 - val_accuracy: 0.9116 - lr: 1.0000e-05\n",
            "Epoch 55/100\n",
            "26/26 [==============================] - 1s 46ms/step - loss: 0.4014 - accuracy: 0.8172 - val_loss: 0.3548 - val_accuracy: 0.9116 - lr: 1.0000e-05\n",
            "Epoch 56/100\n",
            "26/26 [==============================] - 1s 45ms/step - loss: 0.4047 - accuracy: 0.8138 - val_loss: 0.3541 - val_accuracy: 0.9129 - lr: 1.0000e-05\n",
            "Epoch 57/100\n",
            "26/26 [==============================] - 1s 47ms/step - loss: 0.4024 - accuracy: 0.8156 - val_loss: 0.3543 - val_accuracy: 0.9125 - lr: 1.0000e-05\n"
          ]
        }
      ]
    },
    {
      "cell_type": "code",
      "source": [
        "import matplotlib.pyplot as plt\n",
        "\n",
        "# Plot the training and validation accuracy over epochs\n",
        "plt.plot(history_LSTM.history['accuracy'], label='Training Accuracy')\n",
        "plt.plot(history_LSTM.history['val_accuracy'], label='Validation Accuracy')\n",
        "plt.xlabel('Epoch')\n",
        "plt.ylabel('Accuracy')\n",
        "plt.ylim([0, 1])\n",
        "plt.legend(loc='lower right')\n",
        "plt.show()\n",
        "\n",
        "# Plot the training and validation loss over epochs\n",
        "plt.plot(history_LSTM.history['loss'], label='Training Loss')\n",
        "plt.plot(history_LSTM.history['val_loss'], label='Validation Loss')\n",
        "plt.xlabel('Epoch')\n",
        "plt.ylabel('Loss')\n",
        "plt.legend(loc='upper right')\n",
        "plt.show()\n"
      ],
      "metadata": {
        "colab": {
          "base_uri": "https://localhost:8080/",
          "height": 889
        },
        "id": "QGBVZcU_0_Fw",
        "outputId": "b824dfa2-0be4-4b94-fe55-4557cd9b5210"
      },
      "execution_count": 5,
      "outputs": [
        {
          "output_type": "display_data",
          "data": {
            "text/plain": [
              "<Figure size 640x480 with 1 Axes>"
            ],
            "image/png": "[encoded data removed]"
          },
          "metadata": {}
        },
        {
          "output_type": "display_data",
          "data": {
            "text/plain": [
              "<Figure size 640x480 with 1 Axes>"
            ],
            "image/png": "[encoded data removed]"
          },
          "metadata": {}
        }
      ]
    },
    {
      "cell_type": "markdown",
      "metadata": {
        "id": "NEl8DpHrzmQH"
      },
      "source": [
        "##Evaluation"
      ]
    },
    {
      "cell_type": "code",
      "execution_count": 6,
      "metadata": {
        "colab": {
          "base_uri": "https://localhost:8080/"
        },
        "outputId": "859df7ac-8930-4caf-911f-35bf0b531c66",
        "id": "USYW_yNXzmQI"
      },
      "outputs": [
        {
          "output_type": "stream",
          "name": "stdout",
          "text": [
            "103/103 [==============================] - 3s 14ms/step\n",
            "73/73 [==============================] - 1s 12ms/step\n",
            "Accuracy (train): 0.8168\n",
            "AUC (train): 0.8685\n",
            "Accuracy (valid): 0.9164\n",
            "AUC (valid): 0.8563\n"
          ]
        }
      ],
      "source": [
        "from sklearn.metrics import roc_auc_score\n",
        "\n",
        "threshold = 0.5\n",
        "\n",
        "y_train_pred = model.predict(x_train)\n",
        "# Convert probabilities to binary predictions\n",
        "y_train_pred_binary = (y_train_pred > threshold).astype(int)\n",
        "y_valid_pred = model.predict(x_valid)\n",
        "y_valid_pred_binary = (y_valid_pred > threshold).astype(int)\n",
        "\n",
        "from sklearn.metrics import accuracy_score, confusion_matrix, classification_report, roc_curve, auc, roc_auc_score\n",
        "accuracy_train = accuracy_score(y_train, y_train_pred_binary)\n",
        "auc_train = roc_auc_score(y_train, y_train_pred)\n",
        "\n",
        "accuracy_valid = accuracy_score(y_valid, y_valid_pred_binary)\n",
        "auc_valid = roc_auc_score(y_valid, y_valid_pred)\n",
        "\n",
        "print(f'Accuracy (train): {accuracy_train:.4f}')\n",
        "print(f'AUC (train): {auc_train:.4f}')\n",
        "\n",
        "print(f'Accuracy (valid): {accuracy_valid:.4f}')\n",
        "print(f'AUC (valid): {auc_valid:.4f}')"
      ]
    },
    {
      "cell_type": "code",
      "execution_count": 7,
      "metadata": {
        "colab": {
          "base_uri": "https://localhost:8080/"
        },
        "outputId": "677e0974-6986-4690-d4e5-95ae827697c5",
        "id": "WlO-I_zuzmQI"
      },
      "outputs": [
        {
          "output_type": "stream",
          "name": "stdout",
          "text": [
            "For training set:\n",
            "Precision: 0.9601\n",
            "Recall: 0.6612\n",
            "F1 Score: 0.7831 \n",
            "\n",
            "For validation set:\n",
            "Precision: 0.803\n",
            "Recall: 0.6726\n",
            "F1 Score: 0.732\n"
          ]
        }
      ],
      "source": [
        "from sklearn.metrics import precision_score, recall_score, f1_score\n",
        "# Calculate precision, recall, and F1 score\n",
        "precision = precision_score(y_train, y_train_pred_binary, zero_division=1)\n",
        "recall = recall_score(y_train, y_train_pred_binary, zero_division=1)\n",
        "f1 = f1_score(y_train, y_train_pred_binary, zero_division=1)\n",
        "\n",
        "# Print with 4 digits limit\n",
        "print(\"For training set:\")\n",
        "print(\"Precision:\", round(precision, 4))\n",
        "print(\"Recall:\", round(recall, 4))\n",
        "print(\"F1 Score:\", round(f1, 4),\"\\n\")\n",
        "\n",
        "# Calculate precision, recall, and F1 score\n",
        "precision = precision_score(y_valid, y_valid_pred_binary, zero_division=1)\n",
        "recall = recall_score(y_valid, y_valid_pred_binary, zero_division=1)\n",
        "f1 = f1_score(y_valid, y_valid_pred_binary, zero_division=1)\n",
        "\n",
        "# Print with 4 digits limit\n",
        "print(\"For validation set:\")\n",
        "print(\"Precision:\", round(precision, 4))\n",
        "print(\"Recall:\", round(recall, 4))\n",
        "print(\"F1 Score:\", round(f1, 4))"
      ]
    },
    {
      "cell_type": "code",
      "execution_count": 8,
      "metadata": {
        "colab": {
          "base_uri": "https://localhost:8080/"
        },
        "outputId": "0316b997-9ccd-435a-b983-427bd653ce3a",
        "id": "Vwi1uceMzmQI"
      },
      "outputs": [
        {
          "output_type": "stream",
          "name": "stdout",
          "text": [
            "92/92 [==============================] - 1s 9ms/step\n"
          ]
        }
      ],
      "source": [
        "y_test_pred = model.predict(x_test)\n",
        "y_test_pred_binary = (y_test_pred > threshold).astype(int)"
      ]
    },
    {
      "cell_type": "code",
      "execution_count": 9,
      "metadata": {
        "colab": {
          "base_uri": "https://localhost:8080/",
          "height": 17
        },
        "outputId": "31231f9b-7bf9-4eab-e3bb-1332751d33e7",
        "id": "z6AmCWTMzmQJ"
      },
      "outputs": [
        {
          "output_type": "display_data",
          "data": {
            "text/plain": [
              "<IPython.core.display.Javascript object>"
            ],
            "application/javascript": [
              "\n",
              "    async function download(id, filename, size) {\n",
              "      if (!google.colab.kernel.accessAllowed) {\n",
              "        return;\n",
              "      }\n",
              "      const div = document.createElement('div');\n",
              "      const label = document.createElement('label');\n",
              "      label.textContent = `Downloading \"${filename}\": `;\n",
              "      div.appendChild(label);\n",
              "      const progress = document.createElement('progress');\n",
              "      progress.max = size;\n",
              "      div.appendChild(progress);\n",
              "      document.body.appendChild(div);\n",
              "\n",
              "      const buffers = [];\n",
              "      let downloaded = 0;\n",
              "\n",
              "      const channel = await google.colab.kernel.comms.open(id);\n",
              "      // Send a message to notify the kernel that we're ready.\n",
              "      channel.send({})\n",
              "\n",
              "      for await (const message of channel.messages) {\n",
              "        // Send a message to notify the kernel that we're ready.\n",
              "        channel.send({})\n",
              "        if (message.buffers) {\n",
              "          for (const buffer of message.buffers) {\n",
              "            buffers.push(buffer);\n",
              "            downloaded += buffer.byteLength;\n",
              "            progress.value = downloaded;\n",
              "          }\n",
              "        }\n",
              "      }\n",
              "      const blob = new Blob(buffers, {type: 'application/binary'});\n",
              "      const a = document.createElement('a');\n",
              "      a.href = window.URL.createObjectURL(blob);\n",
              "      a.download = filename;\n",
              "      div.appendChild(a);\n",
              "      a.click();\n",
              "      div.remove();\n",
              "    }\n",
              "  "
            ]
          },
          "metadata": {}
        },
        {
          "output_type": "display_data",
          "data": {
            "text/plain": [
              "<IPython.core.display.Javascript object>"
            ],
            "application/javascript": [
              "download(\"download_d389528a-c719-499a-a752-74c5ef3d077a\", \"predictions.csv\", 58748)"
            ]
          },
          "metadata": {}
        }
      ],
      "source": [
        "# Assuming y_test_pred_binary is a numpy array\n",
        "predictions_df = pd.DataFrame(y_test_pred_binary, columns=['readmitted_within_30days'])\n",
        "merged_df = test[['id']].merge(predictions_df, left_index=True, right_index=True)\n",
        "merged_df.to_csv('predictions.csv', index=False)\n",
        "\n",
        "from google.colab import files\n",
        "files.download('predictions.csv')"
      ]
    }
  ],
  "metadata": {
    "accelerator": "GPU",
    "colab": {
      "provenance": [],
      "toc_visible": true,
      "gpuType": "T4",
      "include_colab_link": true
    },
    "kernelspec": {
      "display_name": "Python 3",
      "name": "python3"
    },
    "language_info": {
      "codemirror_mode": {
        "name": "ipython",
        "version": 3
      },
      "file_extension": ".py",
      "mimetype": "text/x-python",
      "name": "python",
      "nbconvert_exporter": "python",
      "pygments_lexer": "ipython3",
      "version": "3.7.0"
    }
  },
  "nbformat": 4,
  "nbformat_minor": 0
}