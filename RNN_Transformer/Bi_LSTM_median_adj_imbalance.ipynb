{
  "cells": [
    {
      "cell_type": "markdown",
      "metadata": {
        "id": "view-in-github",
        "colab_type": "text"
      },
      "source": [
        "<a href=\"https://colab.research.google.com/github/zxyao5148/STAT3612_2023_1A_GroupProject/blob/main/RNN_Transformer/Bi_LSTM_median_adj_imbalance.ipynb\" target=\"_parent\"><img src=\"https://colab.research.google.com/assets/colab-badge.svg\" alt=\"Open In Colab\"/></a>"
      ]
    },
    {
      "cell_type": "markdown",
      "metadata": {
        "id": "fFipp7tAAVxh"
      },
      "source": [
        "**Description:** This notebook demonstrates how to do timeseries classification using RNN models (Simple RNN, LSTM, and GRU).\n",
        "\n",
        "Reference: https://www.kaggle.com/code/thebrownviking20/intro-to-recurrent-neural-networks-lstm-gru/notebook"
      ]
    },
    {
      "cell_type": "markdown",
      "metadata": {
        "id": "ll7UTtsyAVxj"
      },
      "source": [
        "## Load the dataset"
      ]
    },
    {
      "cell_type": "code",
      "execution_count": 11,
      "metadata": {
        "id": "U-qy06BXAVxk",
        "colab": {
          "base_uri": "https://localhost:8080/"
        },
        "outputId": "e933c0c5-1728-476f-b486-10417274206e"
      },
      "outputs": [
        {
          "output_type": "stream",
          "name": "stdout",
          "text": [
            "--2023-11-17 16:33:44--  https://raw.githubusercontent.com/zxyao5148/STAT3612_2023_1A_GroupProject/main/code_base/adjust_imbl.py\n",
            "Resolving raw.githubusercontent.com (raw.githubusercontent.com)... 185.199.111.133, 185.199.109.133, 185.199.108.133, ...\n",
            "Connecting to raw.githubusercontent.com (raw.githubusercontent.com)|185.199.111.133|:443... connected.\n",
            "HTTP request sent, awaiting response... 200 OK\n",
            "Length: 927 [text/plain]\n",
            "Saving to: ‘adjust_imbl.py.3’\n",
            "\n",
            "\radjust_imbl.py.3      0%[                    ]       0  --.-KB/s               \radjust_imbl.py.3    100%[===================>]     927  --.-KB/s    in 0s      \n",
            "\n",
            "2023-11-17 16:33:44 (62.0 MB/s) - ‘adjust_imbl.py.3’ saved [927/927]\n",
            "\n",
            "Original dataset shape Counter({0: 9564, 1: 2032})\n",
            "Resampled dataset shape Counter({0: 2032, 1: 2032})\n"
          ]
        }
      ],
      "source": [
        "import pandas as pd\n",
        "import requests\n",
        "from io import StringIO\n",
        "import numpy as np\n",
        "from sklearn.model_selection import train_test_split\n",
        "\n",
        "# Raw URLs for the CSV files\n",
        "train_url = \"https://raw.githubusercontent.com/zxyao5148/STAT3612_2023_1A_GroupProject/main/data_processing/train/train_valid_median.csv\"\n",
        "test_url = \"https://raw.githubusercontent.com/zxyao5148/STAT3612_2023_1A_GroupProject/main/data_processing/test/test_median.csv\"\n",
        "\n",
        "# Download the CSV files\n",
        "train_csv = requests.get(train_url).text\n",
        "test_csv = requests.get(test_url).text\n",
        "\n",
        "# Read the CSV files into pandas DataFrames\n",
        "train_valid = pd.read_csv(StringIO(train_csv))\n",
        "test = pd.read_csv(StringIO(test_csv))\n",
        "\n",
        "train_valid['deathtime'] = np.where(train_valid['deathtime'].notnull(), 1, 0)\n",
        "test['deathtime'] = np.where(test['deathtime'].notnull(), 1, 0)\n",
        "\n",
        "x_train_valid = train_valid[['deathtime']].join(train_valid.iloc[:, 9:])\n",
        "y_train_valid = train_valid.iloc[:, 8]\n",
        "\n",
        "!wget https://raw.githubusercontent.com/zxyao5148/STAT3612_2023_1A_GroupProject/main/code_base/adjust_imbl.py\n",
        "from adjust_imbl import adjust_imbl\n",
        "x_train_valid, y_train_valid = adjust_imbl(x_train_valid, y_train_valid)\n",
        "\n",
        "# with 80% of the data for training and 20% for validation\n",
        "x_train, x_valid, y_train, y_valid = train_test_split(x_train_valid, y_train_valid, test_size=0.2, random_state=3612)\n",
        "\n",
        "# Split the data into features (X) and target variable (y)\n",
        "x_train = train[['deathtime']].join(train.iloc[:, 9:])\n",
        "y_train = train.iloc[:, 8]\n",
        "\n",
        "x_valid = valid[['deathtime']].join(valid.iloc[:, 9:])\n",
        "y_valid = valid.iloc[:, 8]\n",
        "\n",
        "x_test = test[['deathtime']].join(test.iloc[:,8:])"
      ]
    },
    {
      "cell_type": "code",
      "execution_count": 12,
      "metadata": {
        "id": "ElXnpwlhE0i8"
      },
      "outputs": [],
      "source": [
        "x_train = x_train.values.reshape((x_train.shape[0], x_train.shape[1], 1))\n",
        "x_valid = x_valid.values.reshape((x_valid.shape[0], x_valid.shape[1], 1))\n",
        "x_test = x_test.values.reshape((x_test.shape[0], x_test.shape[1], 1))\n",
        "\n",
        "# Reset the index of the y_train DataFrame\n",
        "y_train = y_train.reset_index(drop=True)\n",
        "\n",
        "# Shuffle the indices\n",
        "idx = np.random.permutation(len(x_train))\n",
        "\n",
        "# Reassign the values using the shuffled indices\n",
        "x_train = x_train[idx]\n",
        "y_train = y_train.iloc[idx]"
      ]
    },
    {
      "cell_type": "markdown",
      "metadata": {
        "id": "teAicBzgAVxl"
      },
      "source": [
        "## Build the model\n",
        "\n",
        "The model processes a tensor of shape `(batch size, sequence length, features)`,\n",
        "where `sequence length` is the number of time steps and `features` is each input\n",
        "timeseries.\n"
      ]
    },
    {
      "cell_type": "code",
      "execution_count": 13,
      "metadata": {
        "id": "My1EkBMVAVxm"
      },
      "outputs": [],
      "source": [
        "from keras.layers import Dense, Activation, Dropout\n",
        "from keras.layers import LSTM, GRU, SimpleRNN\n",
        "from keras.models import Sequential\n",
        "import keras"
      ]
    },
    {
      "cell_type": "markdown",
      "source": [
        "#  Bidirectional LSTM"
      ],
      "metadata": {
        "id": "9MsiVoA-zIf5"
      }
    },
    {
      "cell_type": "code",
      "source": [
        "from keras.models import Sequential\n",
        "from keras.layers import LSTM, Dropout, Dense, Bidirectional\n",
        "import keras\n",
        "from keras.optimizers import Adam\n",
        "from keras.layers import BatchNormalization\n",
        "from keras.regularizers import l2\n",
        "from keras.callbacks import EarlyStopping, ReduceLROnPlateau\n",
        "\n",
        "model = Sequential()\n",
        "# Add a Bidirectional LSTM layer with return_sequences=True and L2 regularization\n",
        "model.add(Bidirectional(LSTM(64, return_sequences=True, input_shape=(x_train.shape[1], 1), kernel_regularizer=l2(0.01))))\n",
        "# Add Batch Normalization\n",
        "model.add(BatchNormalization())\n",
        "model.add(Dropout(0.3))\n",
        "# Add another Bidirectional LSTM layer with return_sequences=False and activation function set to \"tanh\"\n",
        "model.add(Bidirectional(LSTM(128, return_sequences=False, activation=\"tanh\", kernel_regularizer=l2(0.01))))\n",
        "# Add Batch Normalization\n",
        "model.add(BatchNormalization())\n",
        "model.add(Dropout(0.3))\n",
        "model.add(Dense(1, activation=\"sigmoid\"))\n",
        "\n",
        "# Compile the model with a lower learning rate and use ReduceLROnPlateau for learning rate scheduling\n",
        "model.compile(loss='binary_crossentropy', optimizer=Adam(learning_rate=0.001), metrics=[\"accuracy\"])\n",
        "\n",
        "print('model compiled')\n",
        "\n",
        "# Define early stopping and learning rate reduction callbacks\n",
        "callbacks = [EarlyStopping(patience=10, restore_best_weights=True), ReduceLROnPlateau(factor=0.1, patience=5)]\n",
        "\n",
        "# Print model summary\n",
        "#print(model.summary())\n",
        "\n",
        "# Train the model with a smaller batch size\n",
        "history_LSTM = model.fit(x_train, y_train, batch_size=128, epochs=100, validation_data=(x_valid, y_valid), callbacks=callbacks)"
      ],
      "metadata": {
        "colab": {
          "base_uri": "https://localhost:8080/"
        },
        "id": "NNvQqs6LzVl4",
        "outputId": "5fd56761-c100-4164-8fb1-79f0fdd1f78b"
      },
      "execution_count": 14,
      "outputs": [
        {
          "output_type": "stream",
          "name": "stdout",
          "text": [
            "model compiled\n",
            "Epoch 1/100\n",
            "73/73 [==============================] - 13s 59ms/step - loss: 2.7209 - accuracy: 0.8430 - val_loss: 1.5224 - val_accuracy: 0.8302 - lr: 0.0010\n",
            "Epoch 2/100\n",
            "73/73 [==============================] - 3s 40ms/step - loss: 0.8893 - accuracy: 0.9216 - val_loss: 0.8159 - val_accuracy: 0.8302 - lr: 0.0010\n",
            "Epoch 3/100\n",
            "73/73 [==============================] - 3s 42ms/step - loss: 0.5115 - accuracy: 0.9241 - val_loss: 0.6095 - val_accuracy: 0.8302 - lr: 0.0010\n",
            "Epoch 4/100\n",
            "73/73 [==============================] - 3s 40ms/step - loss: 0.3798 - accuracy: 0.9272 - val_loss: 0.5066 - val_accuracy: 0.8302 - lr: 0.0010\n",
            "Epoch 5/100\n",
            "73/73 [==============================] - 3s 40ms/step - loss: 0.3296 - accuracy: 0.9267 - val_loss: 0.4569 - val_accuracy: 0.8302 - lr: 0.0010\n",
            "Epoch 6/100\n",
            "73/73 [==============================] - 3s 41ms/step - loss: 0.2947 - accuracy: 0.9279 - val_loss: 0.4033 - val_accuracy: 0.8539 - lr: 0.0010\n",
            "Epoch 7/100\n",
            "73/73 [==============================] - 3s 41ms/step - loss: 0.2789 - accuracy: 0.9297 - val_loss: 0.3585 - val_accuracy: 0.9254 - lr: 0.0010\n",
            "Epoch 8/100\n",
            "73/73 [==============================] - 3s 42ms/step - loss: 0.2702 - accuracy: 0.9292 - val_loss: 0.3150 - val_accuracy: 0.9388 - lr: 0.0010\n",
            "Epoch 9/100\n",
            "73/73 [==============================] - 3s 39ms/step - loss: 0.2616 - accuracy: 0.9309 - val_loss: 0.2718 - val_accuracy: 0.9392 - lr: 0.0010\n",
            "Epoch 10/100\n",
            "73/73 [==============================] - 3s 40ms/step - loss: 0.2584 - accuracy: 0.9312 - val_loss: 0.2578 - val_accuracy: 0.9392 - lr: 0.0010\n",
            "Epoch 11/100\n",
            "73/73 [==============================] - 3s 39ms/step - loss: 0.2581 - accuracy: 0.9300 - val_loss: 0.2936 - val_accuracy: 0.9392 - lr: 0.0010\n",
            "Epoch 12/100\n",
            "73/73 [==============================] - 3s 41ms/step - loss: 0.2566 - accuracy: 0.9294 - val_loss: 0.3213 - val_accuracy: 0.9332 - lr: 0.0010\n",
            "Epoch 13/100\n",
            "73/73 [==============================] - 3s 41ms/step - loss: 0.2584 - accuracy: 0.9300 - val_loss: 0.2340 - val_accuracy: 0.9392 - lr: 0.0010\n",
            "Epoch 14/100\n",
            "73/73 [==============================] - 3s 39ms/step - loss: 0.2552 - accuracy: 0.9305 - val_loss: 0.2339 - val_accuracy: 0.9392 - lr: 0.0010\n",
            "Epoch 15/100\n",
            "73/73 [==============================] - 3s 39ms/step - loss: 0.2546 - accuracy: 0.9304 - val_loss: 0.2294 - val_accuracy: 0.9392 - lr: 0.0010\n",
            "Epoch 16/100\n",
            "73/73 [==============================] - 3s 39ms/step - loss: 0.2516 - accuracy: 0.9306 - val_loss: 0.2317 - val_accuracy: 0.9392 - lr: 0.0010\n",
            "Epoch 17/100\n",
            "73/73 [==============================] - 3s 42ms/step - loss: 0.2541 - accuracy: 0.9310 - val_loss: 0.2378 - val_accuracy: 0.9392 - lr: 0.0010\n",
            "Epoch 18/100\n",
            "73/73 [==============================] - 3s 40ms/step - loss: 0.2501 - accuracy: 0.9312 - val_loss: 0.2338 - val_accuracy: 0.9392 - lr: 0.0010\n",
            "Epoch 19/100\n",
            "73/73 [==============================] - 3s 39ms/step - loss: 0.2513 - accuracy: 0.9310 - val_loss: 0.2377 - val_accuracy: 0.9392 - lr: 0.0010\n",
            "Epoch 20/100\n",
            "73/73 [==============================] - 3s 39ms/step - loss: 0.2511 - accuracy: 0.9309 - val_loss: 0.2474 - val_accuracy: 0.9392 - lr: 0.0010\n",
            "Epoch 21/100\n",
            "73/73 [==============================] - 3s 39ms/step - loss: 0.2486 - accuracy: 0.9315 - val_loss: 0.2276 - val_accuracy: 0.9392 - lr: 1.0000e-04\n",
            "Epoch 22/100\n",
            "73/73 [==============================] - 3s 41ms/step - loss: 0.2476 - accuracy: 0.9314 - val_loss: 0.2269 - val_accuracy: 0.9392 - lr: 1.0000e-04\n",
            "Epoch 23/100\n",
            "73/73 [==============================] - 3s 44ms/step - loss: 0.2448 - accuracy: 0.9314 - val_loss: 0.2268 - val_accuracy: 0.9392 - lr: 1.0000e-04\n",
            "Epoch 24/100\n",
            "73/73 [==============================] - 3s 39ms/step - loss: 0.2466 - accuracy: 0.9315 - val_loss: 0.2261 - val_accuracy: 0.9392 - lr: 1.0000e-04\n",
            "Epoch 25/100\n",
            "73/73 [==============================] - 3s 39ms/step - loss: 0.2439 - accuracy: 0.9315 - val_loss: 0.2266 - val_accuracy: 0.9392 - lr: 1.0000e-04\n",
            "Epoch 26/100\n",
            "73/73 [==============================] - 3s 40ms/step - loss: 0.2446 - accuracy: 0.9314 - val_loss: 0.2255 - val_accuracy: 0.9392 - lr: 1.0000e-04\n",
            "Epoch 27/100\n",
            "73/73 [==============================] - 3s 41ms/step - loss: 0.2449 - accuracy: 0.9313 - val_loss: 0.2272 - val_accuracy: 0.9392 - lr: 1.0000e-04\n",
            "Epoch 28/100\n",
            "73/73 [==============================] - 3s 39ms/step - loss: 0.2432 - accuracy: 0.9315 - val_loss: 0.2264 - val_accuracy: 0.9392 - lr: 1.0000e-04\n",
            "Epoch 29/100\n",
            "73/73 [==============================] - 3s 40ms/step - loss: 0.2445 - accuracy: 0.9314 - val_loss: 0.2260 - val_accuracy: 0.9392 - lr: 1.0000e-04\n",
            "Epoch 30/100\n",
            "73/73 [==============================] - 3s 39ms/step - loss: 0.2430 - accuracy: 0.9315 - val_loss: 0.2268 - val_accuracy: 0.9392 - lr: 1.0000e-04\n",
            "Epoch 31/100\n",
            "73/73 [==============================] - 3s 41ms/step - loss: 0.2447 - accuracy: 0.9315 - val_loss: 0.2258 - val_accuracy: 0.9392 - lr: 1.0000e-04\n",
            "Epoch 32/100\n",
            "73/73 [==============================] - 3s 41ms/step - loss: 0.2446 - accuracy: 0.9315 - val_loss: 0.2251 - val_accuracy: 0.9392 - lr: 1.0000e-05\n",
            "Epoch 33/100\n",
            "73/73 [==============================] - 3s 39ms/step - loss: 0.2438 - accuracy: 0.9315 - val_loss: 0.2249 - val_accuracy: 0.9392 - lr: 1.0000e-05\n",
            "Epoch 34/100\n",
            "73/73 [==============================] - 3s 39ms/step - loss: 0.2428 - accuracy: 0.9315 - val_loss: 0.2247 - val_accuracy: 0.9392 - lr: 1.0000e-05\n",
            "Epoch 35/100\n",
            "73/73 [==============================] - 3s 40ms/step - loss: 0.2437 - accuracy: 0.9315 - val_loss: 0.2244 - val_accuracy: 0.9392 - lr: 1.0000e-05\n",
            "Epoch 36/100\n",
            "73/73 [==============================] - 3s 42ms/step - loss: 0.2430 - accuracy: 0.9315 - val_loss: 0.2244 - val_accuracy: 0.9392 - lr: 1.0000e-05\n",
            "Epoch 37/100\n",
            "73/73 [==============================] - 3s 40ms/step - loss: 0.2437 - accuracy: 0.9315 - val_loss: 0.2243 - val_accuracy: 0.9392 - lr: 1.0000e-05\n",
            "Epoch 38/100\n",
            "73/73 [==============================] - 3s 40ms/step - loss: 0.2436 - accuracy: 0.9315 - val_loss: 0.2243 - val_accuracy: 0.9392 - lr: 1.0000e-05\n",
            "Epoch 39/100\n",
            "73/73 [==============================] - 3s 39ms/step - loss: 0.2432 - accuracy: 0.9315 - val_loss: 0.2243 - val_accuracy: 0.9392 - lr: 1.0000e-05\n",
            "Epoch 40/100\n",
            "73/73 [==============================] - 3s 41ms/step - loss: 0.2430 - accuracy: 0.9315 - val_loss: 0.2243 - val_accuracy: 0.9392 - lr: 1.0000e-05\n",
            "Epoch 41/100\n",
            "73/73 [==============================] - 3s 41ms/step - loss: 0.2424 - accuracy: 0.9315 - val_loss: 0.2243 - val_accuracy: 0.9392 - lr: 1.0000e-05\n",
            "Epoch 42/100\n",
            "73/73 [==============================] - 3s 39ms/step - loss: 0.2441 - accuracy: 0.9315 - val_loss: 0.2244 - val_accuracy: 0.9392 - lr: 1.0000e-05\n",
            "Epoch 43/100\n",
            "73/73 [==============================] - 3s 40ms/step - loss: 0.2428 - accuracy: 0.9315 - val_loss: 0.2243 - val_accuracy: 0.9392 - lr: 1.0000e-05\n",
            "Epoch 44/100\n",
            "73/73 [==============================] - 4s 58ms/step - loss: 0.2442 - accuracy: 0.9314 - val_loss: 0.2243 - val_accuracy: 0.9392 - lr: 1.0000e-05\n",
            "Epoch 45/100\n",
            "73/73 [==============================] - 6s 87ms/step - loss: 0.2451 - accuracy: 0.9314 - val_loss: 0.2242 - val_accuracy: 0.9392 - lr: 1.0000e-06\n",
            "Epoch 46/100\n",
            "73/73 [==============================] - 3s 42ms/step - loss: 0.2430 - accuracy: 0.9315 - val_loss: 0.2242 - val_accuracy: 0.9392 - lr: 1.0000e-06\n",
            "Epoch 47/100\n",
            "73/73 [==============================] - 3s 39ms/step - loss: 0.2430 - accuracy: 0.9314 - val_loss: 0.2242 - val_accuracy: 0.9392 - lr: 1.0000e-06\n",
            "Epoch 48/100\n",
            "73/73 [==============================] - 3s 40ms/step - loss: 0.2434 - accuracy: 0.9315 - val_loss: 0.2242 - val_accuracy: 0.9392 - lr: 1.0000e-06\n",
            "Epoch 49/100\n",
            "73/73 [==============================] - 3s 41ms/step - loss: 0.2427 - accuracy: 0.9315 - val_loss: 0.2241 - val_accuracy: 0.9392 - lr: 1.0000e-06\n",
            "Epoch 50/100\n",
            "73/73 [==============================] - 3s 40ms/step - loss: 0.2439 - accuracy: 0.9315 - val_loss: 0.2242 - val_accuracy: 0.9392 - lr: 1.0000e-06\n",
            "Epoch 51/100\n",
            "73/73 [==============================] - 3s 39ms/step - loss: 0.2444 - accuracy: 0.9314 - val_loss: 0.2242 - val_accuracy: 0.9392 - lr: 1.0000e-06\n",
            "Epoch 52/100\n",
            "73/73 [==============================] - 3s 39ms/step - loss: 0.2439 - accuracy: 0.9315 - val_loss: 0.2242 - val_accuracy: 0.9392 - lr: 1.0000e-07\n",
            "Epoch 53/100\n",
            "73/73 [==============================] - 3s 40ms/step - loss: 0.2434 - accuracy: 0.9315 - val_loss: 0.2241 - val_accuracy: 0.9392 - lr: 1.0000e-07\n",
            "Epoch 54/100\n",
            "73/73 [==============================] - 3s 41ms/step - loss: 0.2429 - accuracy: 0.9315 - val_loss: 0.2241 - val_accuracy: 0.9392 - lr: 1.0000e-07\n",
            "Epoch 55/100\n",
            "73/73 [==============================] - 3s 39ms/step - loss: 0.2429 - accuracy: 0.9315 - val_loss: 0.2241 - val_accuracy: 0.9392 - lr: 1.0000e-07\n",
            "Epoch 56/100\n",
            "73/73 [==============================] - 3s 40ms/step - loss: 0.2425 - accuracy: 0.9315 - val_loss: 0.2242 - val_accuracy: 0.9392 - lr: 1.0000e-07\n",
            "Epoch 57/100\n",
            "73/73 [==============================] - 3s 39ms/step - loss: 0.2440 - accuracy: 0.9315 - val_loss: 0.2241 - val_accuracy: 0.9392 - lr: 1.0000e-08\n",
            "Epoch 58/100\n",
            "73/73 [==============================] - 3s 41ms/step - loss: 0.2427 - accuracy: 0.9315 - val_loss: 0.2242 - val_accuracy: 0.9392 - lr: 1.0000e-08\n",
            "Epoch 59/100\n",
            "73/73 [==============================] - 3s 41ms/step - loss: 0.2437 - accuracy: 0.9315 - val_loss: 0.2241 - val_accuracy: 0.9392 - lr: 1.0000e-08\n",
            "Epoch 60/100\n",
            "73/73 [==============================] - 3s 40ms/step - loss: 0.2432 - accuracy: 0.9315 - val_loss: 0.2241 - val_accuracy: 0.9392 - lr: 1.0000e-08\n",
            "Epoch 61/100\n",
            "73/73 [==============================] - 3s 39ms/step - loss: 0.2426 - accuracy: 0.9315 - val_loss: 0.2241 - val_accuracy: 0.9392 - lr: 1.0000e-08\n",
            "Epoch 62/100\n",
            "73/73 [==============================] - 3s 39ms/step - loss: 0.2443 - accuracy: 0.9315 - val_loss: 0.2241 - val_accuracy: 0.9392 - lr: 1.0000e-09\n",
            "Epoch 63/100\n",
            "73/73 [==============================] - 3s 41ms/step - loss: 0.2434 - accuracy: 0.9315 - val_loss: 0.2241 - val_accuracy: 0.9392 - lr: 1.0000e-09\n",
            "Epoch 64/100\n",
            "73/73 [==============================] - 3s 42ms/step - loss: 0.2436 - accuracy: 0.9315 - val_loss: 0.2241 - val_accuracy: 0.9392 - lr: 1.0000e-09\n",
            "Epoch 65/100\n",
            "73/73 [==============================] - 3s 39ms/step - loss: 0.2431 - accuracy: 0.9315 - val_loss: 0.2241 - val_accuracy: 0.9392 - lr: 1.0000e-09\n",
            "Epoch 66/100\n",
            "73/73 [==============================] - 3s 39ms/step - loss: 0.2432 - accuracy: 0.9315 - val_loss: 0.2241 - val_accuracy: 0.9392 - lr: 1.0000e-09\n",
            "Epoch 67/100\n",
            "73/73 [==============================] - 3s 39ms/step - loss: 0.2431 - accuracy: 0.9315 - val_loss: 0.2241 - val_accuracy: 0.9392 - lr: 1.0000e-10\n",
            "Epoch 68/100\n",
            "73/73 [==============================] - 3s 42ms/step - loss: 0.2432 - accuracy: 0.9315 - val_loss: 0.2242 - val_accuracy: 0.9392 - lr: 1.0000e-10\n",
            "Epoch 69/100\n",
            "73/73 [==============================] - 3s 41ms/step - loss: 0.2433 - accuracy: 0.9314 - val_loss: 0.2242 - val_accuracy: 0.9392 - lr: 1.0000e-10\n",
            "Epoch 70/100\n",
            "73/73 [==============================] - 3s 40ms/step - loss: 0.2422 - accuracy: 0.9315 - val_loss: 0.2241 - val_accuracy: 0.9392 - lr: 1.0000e-10\n",
            "Epoch 71/100\n",
            "73/73 [==============================] - 3s 40ms/step - loss: 0.2439 - accuracy: 0.9314 - val_loss: 0.2241 - val_accuracy: 0.9392 - lr: 1.0000e-10\n",
            "Epoch 72/100\n",
            "73/73 [==============================] - 3s 40ms/step - loss: 0.2440 - accuracy: 0.9315 - val_loss: 0.2242 - val_accuracy: 0.9392 - lr: 1.0000e-11\n",
            "Epoch 73/100\n",
            "73/73 [==============================] - 3s 43ms/step - loss: 0.2422 - accuracy: 0.9315 - val_loss: 0.2241 - val_accuracy: 0.9392 - lr: 1.0000e-11\n",
            "Epoch 74/100\n",
            "73/73 [==============================] - 3s 39ms/step - loss: 0.2425 - accuracy: 0.9315 - val_loss: 0.2242 - val_accuracy: 0.9392 - lr: 1.0000e-11\n",
            "Epoch 75/100\n",
            "73/73 [==============================] - 3s 39ms/step - loss: 0.2423 - accuracy: 0.9315 - val_loss: 0.2242 - val_accuracy: 0.9392 - lr: 1.0000e-11\n",
            "Epoch 76/100\n",
            "73/73 [==============================] - 3s 39ms/step - loss: 0.2426 - accuracy: 0.9315 - val_loss: 0.2242 - val_accuracy: 0.9392 - lr: 1.0000e-11\n",
            "Epoch 77/100\n",
            "73/73 [==============================] - 3s 42ms/step - loss: 0.2433 - accuracy: 0.9315 - val_loss: 0.2242 - val_accuracy: 0.9392 - lr: 1.0000e-12\n"
          ]
        }
      ]
    },
    {
      "cell_type": "code",
      "source": [
        "import matplotlib.pyplot as plt\n",
        "\n",
        "# Plot the training and validation accuracy over epochs\n",
        "plt.plot(history_LSTM.history['accuracy'], label='Training Accuracy')\n",
        "plt.plot(history_LSTM.history['val_accuracy'], label='Validation Accuracy')\n",
        "plt.xlabel('Epoch')\n",
        "plt.ylabel('Accuracy')\n",
        "plt.ylim([0, 1])\n",
        "plt.legend(loc='lower right')\n",
        "plt.show()\n",
        "\n",
        "# Plot the training and validation loss over epochs\n",
        "plt.plot(history_LSTM.history['loss'], label='Training Loss')\n",
        "plt.plot(history_LSTM.history['val_loss'], label='Validation Loss')\n",
        "plt.xlabel('Epoch')\n",
        "plt.ylabel('Loss')\n",
        "plt.legend(loc='upper right')\n",
        "plt.show()\n"
      ],
      "metadata": {
        "colab": {
          "base_uri": "https://localhost:8080/",
          "height": 887
        },
        "id": "QGBVZcU_0_Fw",
        "outputId": "3e2b024a-02dd-476c-c72c-c99891888f00"
      },
      "execution_count": 15,
      "outputs": [
        {
          "output_type": "display_data",
          "data": {
            "text/plain": [
              "<Figure size 640x480 with 1 Axes>"
            ],
            "image/png": "[encoded data removed]"
          },
          "metadata": {}
        },
        {
          "output_type": "display_data",
          "data": {
            "text/plain": [
              "<Figure size 640x480 with 1 Axes>"
            ],
            "image/png": "[encoded data removed]"
          },
          "metadata": {}
        }
      ]
    },
    {
      "cell_type": "markdown",
      "metadata": {
        "id": "NEl8DpHrzmQH"
      },
      "source": [
        "##Evaluation"
      ]
    },
    {
      "cell_type": "code",
      "execution_count": 16,
      "metadata": {
        "colab": {
          "base_uri": "https://localhost:8080/"
        },
        "outputId": "61598c64-9042-488f-820d-d167e763d7b4",
        "id": "USYW_yNXzmQI"
      },
      "outputs": [
        {
          "output_type": "stream",
          "name": "stdout",
          "text": [
            "290/290 [==============================] - 4s 9ms/step\n",
            "73/73 [==============================] - 1s 14ms/step\n",
            "Accuracy (train): 0.9315\n",
            "AUC (train): 0.8521\n",
            "Accuracy (valid): 0.9392\n",
            "AUC (valid): 0.8532\n"
          ]
        }
      ],
      "source": [
        "from sklearn.metrics import roc_auc_score\n",
        "\n",
        "threshold = 0.5\n",
        "\n",
        "y_train_pred = model.predict(x_train)\n",
        "# Convert probabilities to binary predictions\n",
        "y_train_pred_binary = (y_train_pred > threshold).astype(int)\n",
        "y_valid_pred = model.predict(x_valid)\n",
        "y_valid_pred_binary = (y_valid_pred > threshold).astype(int)\n",
        "\n",
        "from sklearn.metrics import accuracy_score, confusion_matrix, classification_report, roc_curve, auc, roc_auc_score\n",
        "accuracy_train = accuracy_score(y_train, y_train_pred_binary)\n",
        "auc_train = roc_auc_score(y_train, y_train_pred)\n",
        "\n",
        "accuracy_valid = accuracy_score(y_valid, y_valid_pred_binary)\n",
        "auc_valid = roc_auc_score(y_valid, y_valid_pred)\n",
        "\n",
        "print(f'Accuracy (train): {accuracy_train:.4f}')\n",
        "print(f'AUC (train): {auc_train:.4f}')\n",
        "\n",
        "print(f'Accuracy (valid): {accuracy_valid:.4f}')\n",
        "print(f'AUC (valid): {auc_valid:.4f}')"
      ]
    },
    {
      "cell_type": "code",
      "execution_count": 17,
      "metadata": {
        "colab": {
          "base_uri": "https://localhost:8080/"
        },
        "outputId": "10b1946e-86e2-4275-876c-8e4027441593",
        "id": "WlO-I_zuzmQI"
      },
      "outputs": [
        {
          "output_type": "stream",
          "name": "stdout",
          "text": [
            "For training set:\n",
            "Precision: 1.0\n",
            "Recall: 0.6123\n",
            "F1 Score: 0.7596 \n",
            "\n",
            "For validation set:\n",
            "Precision: 1.0\n",
            "Recall: 0.6421\n",
            "F1 Score: 0.7821\n"
          ]
        }
      ],
      "source": [
        "from sklearn.metrics import precision_score, recall_score, f1_score\n",
        "# Calculate precision, recall, and F1 score\n",
        "precision = precision_score(y_train, y_train_pred_binary, zero_division=1)\n",
        "recall = recall_score(y_train, y_train_pred_binary, zero_division=1)\n",
        "f1 = f1_score(y_train, y_train_pred_binary, zero_division=1)\n",
        "\n",
        "# Print with 4 digits limit\n",
        "print(\"For training set:\")\n",
        "print(\"Precision:\", round(precision, 4))\n",
        "print(\"Recall:\", round(recall, 4))\n",
        "print(\"F1 Score:\", round(f1, 4),\"\\n\")\n",
        "\n",
        "# Calculate precision, recall, and F1 score\n",
        "precision = precision_score(y_valid, y_valid_pred_binary, zero_division=1)\n",
        "recall = recall_score(y_valid, y_valid_pred_binary, zero_division=1)\n",
        "f1 = f1_score(y_valid, y_valid_pred_binary, zero_division=1)\n",
        "\n",
        "# Print with 4 digits limit\n",
        "print(\"For validation set:\")\n",
        "print(\"Precision:\", round(precision, 4))\n",
        "print(\"Recall:\", round(recall, 4))\n",
        "print(\"F1 Score:\", round(f1, 4))"
      ]
    },
    {
      "cell_type": "code",
      "execution_count": 18,
      "metadata": {
        "colab": {
          "base_uri": "https://localhost:8080/"
        },
        "outputId": "d0aae5a5-7b2b-41e8-9e47-e11812f9b4f3",
        "id": "Vwi1uceMzmQI"
      },
      "outputs": [
        {
          "output_type": "stream",
          "name": "stdout",
          "text": [
            "92/92 [==============================] - 1s 13ms/step\n"
          ]
        }
      ],
      "source": [
        "y_test_pred = model.predict(x_test)\n",
        "y_test_pred_binary = (y_test_pred > threshold).astype(int)"
      ]
    },
    {
      "cell_type": "code",
      "execution_count": 19,
      "metadata": {
        "colab": {
          "base_uri": "https://localhost:8080/",
          "height": 17
        },
        "outputId": "759da444-ddd3-4624-c7c8-07ec845b7428",
        "id": "z6AmCWTMzmQJ"
      },
      "outputs": [
        {
          "output_type": "display_data",
          "data": {
            "text/plain": [
              "<IPython.core.display.Javascript object>"
            ],
            "application/javascript": [
              "\n",
              "    async function download(id, filename, size) {\n",
              "      if (!google.colab.kernel.accessAllowed) {\n",
              "        return;\n",
              "      }\n",
              "      const div = document.createElement('div');\n",
              "      const label = document.createElement('label');\n",
              "      label.textContent = `Downloading \"${filename}\": `;\n",
              "      div.appendChild(label);\n",
              "      const progress = document.createElement('progress');\n",
              "      progress.max = size;\n",
              "      div.appendChild(progress);\n",
              "      document.body.appendChild(div);\n",
              "\n",
              "      const buffers = [];\n",
              "      let downloaded = 0;\n",
              "\n",
              "      const channel = await google.colab.kernel.comms.open(id);\n",
              "      // Send a message to notify the kernel that we're ready.\n",
              "      channel.send({})\n",
              "\n",
              "      for await (const message of channel.messages) {\n",
              "        // Send a message to notify the kernel that we're ready.\n",
              "        channel.send({})\n",
              "        if (message.buffers) {\n",
              "          for (const buffer of message.buffers) {\n",
              "            buffers.push(buffer);\n",
              "            downloaded += buffer.byteLength;\n",
              "            progress.value = downloaded;\n",
              "          }\n",
              "        }\n",
              "      }\n",
              "      const blob = new Blob(buffers, {type: 'application/binary'});\n",
              "      const a = document.createElement('a');\n",
              "      a.href = window.URL.createObjectURL(blob);\n",
              "      a.download = filename;\n",
              "      div.appendChild(a);\n",
              "      a.click();\n",
              "      div.remove();\n",
              "    }\n",
              "  "
            ]
          },
          "metadata": {}
        },
        {
          "output_type": "display_data",
          "data": {
            "text/plain": [
              "<IPython.core.display.Javascript object>"
            ],
            "application/javascript": [
              "download(\"download_c752b1f4-325e-42ec-b1d5-aab99701a90d\", \"predictions.csv\", 58748)"
            ]
          },
          "metadata": {}
        }
      ],
      "source": [
        "# Assuming y_test_pred_binary is a numpy array\n",
        "predictions_df = pd.DataFrame(y_test_pred_binary, columns=['readmitted_within_30days'])\n",
        "merged_df = test[['id']].merge(predictions_df, left_index=True, right_index=True)\n",
        "merged_df.to_csv('predictions.csv', index=False)\n",
        "\n",
        "from google.colab import files\n",
        "files.download('predictions.csv')"
      ]
    }
  ],
  "metadata": {
    "accelerator": "GPU",
    "colab": {
      "provenance": [],
      "gpuType": "T4",
      "include_colab_link": true
    },
    "kernelspec": {
      "display_name": "Python 3",
      "name": "python3"
    },
    "language_info": {
      "codemirror_mode": {
        "name": "ipython",
        "version": 3
      },
      "file_extension": ".py",
      "mimetype": "text/x-python",
      "name": "python",
      "nbconvert_exporter": "python",
      "pygments_lexer": "ipython3",
      "version": "3.7.0"
    }
  },
  "nbformat": 4,
  "nbformat_minor": 0
}