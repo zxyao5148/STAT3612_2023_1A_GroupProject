{
 "cells": [
  {
   "cell_type": "code",
   "execution_count": 1,
   "id": "bfb68c5c",
   "metadata": {},
   "outputs": [],
   "source": [
    "import pandas as pd\n",
    "import requests\n",
    "from io import StringIO\n",
    "import numpy as np\n",
    "import torch\n",
    "import torch.nn as nn\n",
    "from torch.nn import TransformerEncoder, TransformerEncoderLayer\n",
    "import torch.optim as optim\n",
    "from torch.utils.data import Dataset, DataLoader, TensorDataset\n",
    "from sklearn.model_selection import train_test_split\n",
    "from sklearn.preprocessing import StandardScaler\n",
    "import tensorflow as tf\n",
    "import math\n",
    "from sklearn.metrics import roc_auc_score, roc_curve\n",
    "import matplotlib.pyplot as plt"
   ]
  },
  {
   "cell_type": "code",
   "execution_count": 2,
   "id": "49abf304",
   "metadata": {
    "scrolled": true
   },
   "outputs": [
    {
     "name": "stdout",
     "output_type": "stream",
     "text": [
      "True\n",
      "1\n",
      "0\n",
      "NVIDIA GeForce RTX 2060\n"
     ]
    }
   ],
   "source": [
    "#Check GPU acceleration availability for PyTorch\n",
    "print(torch.cuda.is_available())\n",
    "print(torch.cuda.device_count())\n",
    "print(torch.cuda.current_device())\n",
    "print(torch.cuda.get_device_name(0))\n",
    "# Check if CUDA is available and set PyTorch to use GPU or CPU\n",
    "device = torch.device('cuda')"
   ]
  },
  {
   "cell_type": "code",
   "execution_count": 3,
   "id": "ff00bdb4",
   "metadata": {
    "scrolled": false
   },
   "outputs": [],
   "source": [
    "#Check GPU acceleration availability for TensorFlow\n",
    "#tf.test.is_gpu_available()"
   ]
  },
  {
   "cell_type": "code",
   "execution_count": 4,
   "id": "39206406",
   "metadata": {},
   "outputs": [
    {
     "name": "stdout",
     "output_type": "stream",
     "text": [
      "      stay_len  prev_admits       age  gender  ethnicity  Y90-Y99  G30-G32  \\\n",
      "4401 -0.656202    -0.406394  0.785597       1          6        0        0   \n",
      "3508 -0.311923     1.004126 -0.137411       1          2        0        0   \n",
      "4250 -0.254543     1.004126 -0.137411       0          2        0        0   \n",
      "2030  0.089736    -0.406394  1.400935       0          5        0        0   \n",
      "9370 -0.598822    -0.406394 -2.291095       1          6        0        0   \n",
      "7412 -0.311923    -0.406394  1.462469       0          6        0        0   \n",
      "\n",
      "      O85-O92  C60-C63  F40-F48  ...  PRE-NATAL VITAMINS  ANESTHETICS  \\\n",
      "4401        0        0        0  ...           -0.015166     0.215206   \n",
      "3508        0        0        0  ...           -0.015166    -0.464590   \n",
      "4250        0        0        0  ...           -0.015166     0.215206   \n",
      "2030        0        0        0  ...           -0.015166    -0.464590   \n",
      "9370        0        0        0  ...           -0.015166     0.215206   \n",
      "7412        0        0        0  ...           -0.015166    -0.464590   \n",
      "\n",
      "      ANTIBIOTICS  ANTIHYPERGLYCEMICS  \\\n",
      "4401    -0.779376           -0.324178   \n",
      "3508    -0.779376            0.021994   \n",
      "4250    -0.779376            0.714338   \n",
      "2030    -0.617367           -0.324178   \n",
      "9370    -0.779376           -0.324178   \n",
      "7412    -0.455359           -0.064549   \n",
      "\n",
      "      ANTIINFLAM.TUMOR NECROSIS FACTOR INHIBITING AGENTS  SEDATIVE/HYPNOTICS  \\\n",
      "4401                                          -0.009287            -0.428196   \n",
      "3508                                          -0.009287            -0.065231   \n",
      "4250                                          -0.009287            -0.428196   \n",
      "2030                                          -0.009287            -0.428196   \n",
      "9370                                          -0.009287            -0.428196   \n",
      "7412                                          -0.009287            -0.428196   \n",
      "\n",
      "      ANTIDOTES  AUTONOMIC DRUGS  VITAMINS  BIOLOGICALS  \n",
      "4401  -0.047867        -0.305346 -0.380706     1.551782  \n",
      "3508  -0.047867        -0.305346 -0.380706    -0.304657  \n",
      "4250  -0.047867        -0.305346 -0.380706    -0.304657  \n",
      "2030  -0.047867        -0.305346 -0.380706    -0.304657  \n",
      "9370  -0.047867        -0.305346 -0.380706    -0.304657  \n",
      "7412  -0.047867         0.532315 -0.380706     3.408222  \n",
      "\n",
      "[6 rows x 158 columns]\n",
      "      stay_len  prev_admits       age  gender  ethnicity  Y90-Y99  G30-G32  \\\n",
      "908  -0.484062    -0.406394  0.847130       1          6        0        0   \n",
      "6372 -0.426682     1.004126  0.047190       1          6        0        0   \n",
      "3912 -0.656202    -0.406394  0.047190       1          6        0        0   \n",
      "3090 -0.656202    -0.406394 -0.445080       1          6        0        0   \n",
      "468   0.319256    -0.406394  1.093266       0          2        0        0   \n",
      "4098  0.261876    -0.406394  0.108724       1          3        0        0   \n",
      "\n",
      "      O85-O92  C60-C63  F40-F48  ...  PRE-NATAL VITAMINS  ANESTHETICS  \\\n",
      "908         0        0        0  ...           -0.015166     0.215206   \n",
      "6372        0        0        0  ...           -0.015166    -0.464590   \n",
      "3912        0        0        0  ...           -0.015166    -0.464590   \n",
      "3090        0        0        0  ...           -0.015166    -0.464590   \n",
      "468         0        0        0  ...           -0.015166    -0.464590   \n",
      "4098        0        0        0  ...           -0.015166     0.215206   \n",
      "\n",
      "      ANTIBIOTICS  ANTIHYPERGLYCEMICS  \\\n",
      "908     -0.617367           -0.324178   \n",
      "6372    -0.455359           -0.324178   \n",
      "3912    -0.779376           -0.324178   \n",
      "3090    -0.779376           -0.324178   \n",
      "468     -0.617367            0.108537   \n",
      "4098     0.678700           -0.151092   \n",
      "\n",
      "      ANTIINFLAM.TUMOR NECROSIS FACTOR INHIBITING AGENTS  SEDATIVE/HYPNOTICS  \\\n",
      "908                                           -0.009287            -0.428196   \n",
      "6372                                          -0.009287            -0.428196   \n",
      "3912                                          -0.009287            -0.428196   \n",
      "3090                                          -0.009287            -0.428196   \n",
      "468                                           -0.009287            -0.428196   \n",
      "4098                                          -0.009287            -0.065231   \n",
      "\n",
      "      ANTIDOTES  AUTONOMIC DRUGS  VITAMINS  BIOLOGICALS  \n",
      "908   -0.047867        -0.305346 -0.380706     1.551782  \n",
      "6372  -0.047867        -0.305346  0.718017    -0.304657  \n",
      "3912  -0.047867        -0.305346 -0.380706    -0.304657  \n",
      "3090  -0.047867        -0.305346 -0.380706    -0.304657  \n",
      "468   -0.047867        -0.305346 -0.380706    -0.304657  \n",
      "4098  -0.047867         0.532315 -0.380706     1.551782  \n",
      "\n",
      "[6 rows x 158 columns]\n"
     ]
    }
   ],
   "source": [
    "   # Read the dataset\n",
    "dataset = pd.read_csv('train_valid_median_160columns.csv')\n",
    "\n",
    "# Split the data into features (X) and target variable (y)\n",
    "features = dataset.iloc[:, 9:]\n",
    "target = dataset.iloc[:, 8]\n",
    "\n",
    "# Split the dataset into a training set and a test set.\n",
    "# 80% of the data will be used for training and 20% for testing.\n",
    "x_train, x_test, y_train, y_test = train_test_split(features, target, test_size=0.2, random_state=42)\n",
    "\n",
    "# Check the first few rows \n",
    "print(x_train.head(6))\n",
    "print(x_test.head(6))\n",
    "x_train.to_csv('my_dataset.csv', index=False)\n",
    "y_train.to_csv('my_dataset1.csv', index=False)"
   ]
  },
  {
   "cell_type": "code",
   "execution_count": 5,
   "id": "ab93144f",
   "metadata": {
    "scrolled": true
   },
   "outputs": [
    {
     "name": "stdout",
     "output_type": "stream",
     "text": [
      "stay_len              0\n",
      "prev_admits           0\n",
      "age                   0\n",
      "gender                0\n",
      "ethnicity             0\n",
      "                     ..\n",
      "SEDATIVE/HYPNOTICS    0\n",
      "ANTIDOTES             0\n",
      "AUTONOMIC DRUGS       0\n",
      "VITAMINS              0\n",
      "BIOLOGICALS           0\n",
      "Length: 158, dtype: int64\n",
      "0\n",
      "stay_len              0.0\n",
      "prev_admits           0.0\n",
      "age                   0.0\n",
      "gender                0.0\n",
      "ethnicity             0.0\n",
      "                     ... \n",
      "SEDATIVE/HYPNOTICS    0.0\n",
      "ANTIDOTES             0.0\n",
      "AUTONOMIC DRUGS       0.0\n",
      "VITAMINS              0.0\n",
      "BIOLOGICALS           0.0\n",
      "Length: 158, dtype: float64\n",
      "0.0\n"
     ]
    }
   ],
   "source": [
    "#Check missing values\n",
    "print(x_train.isnull().sum())\n",
    "print(y_train.isnull().sum())\n",
    "\n",
    "# Percentage of missing values in each column\n",
    "print(x_train.isnull().mean()*100)\n",
    "print(y_train.isnull().mean()*100)\n",
    "\n",
    "# Drop the rows where at least one element is missing.\n",
    "#x_train = x_train.dropna()\n",
    "#y_train = y_train.dropna()\n",
    "\n",
    "#fill the missing values with mean\n",
    "#x_train = x_train.fillna(x_train.mean())\n",
    "#y_train = y_train.fillna(y_train.mean())"
   ]
  },
  {
   "cell_type": "code",
   "execution_count": 7,
   "id": "b1bb3e8e",
   "metadata": {},
   "outputs": [],
   "source": [
    "# Convert dataframe to tensor\n",
    "x_train_tensor = torch.tensor(x_train.values, dtype=torch.float32)\n",
    "y_train_tensor = torch.tensor(y_train.values, dtype=torch.float32)\n",
    "x_test_tensor = torch.tensor(x_test.values, dtype=torch.float32)\n",
    "y_test_tensor = torch.tensor(y_test.values, dtype=torch.float32)\n",
    "\n",
    "# Create TensorDataset\n",
    "train_data = torch.utils.data.TensorDataset(x_train_tensor, y_train_tensor)\n",
    "test_data = torch.utils.data.TensorDataset(x_test_tensor, y_test_tensor)\n",
    "\n",
    "# Define DataLoader with appropriate batch size\n",
    "batch_size = 64  # Adjust this depending on your VRAM availability\n",
    "train_loader = DataLoader(dataset=train_data, batch_size=batch_size, shuffle=True)\n",
    "# Define DataLoader with appropriate batch size\n",
    "test_loader = DataLoader(dataset=test_data, batch_size=batch_size)"
   ]
  },
  {
   "cell_type": "code",
   "execution_count": 15,
   "id": "f9bef95e",
   "metadata": {
    "scrolled": true
   },
   "outputs": [
    {
     "name": "stderr",
     "output_type": "stream",
     "text": [
      "C:\\Users\\86139\\anaconda3\\Lib\\site-packages\\torch\\nn\\modules\\loss.py:535: UserWarning: Using a target size (torch.Size([64])) that is different to the input size (torch.Size([64, 1])). This will likely lead to incorrect results due to broadcasting. Please ensure they have the same size.\n",
      "  return F.mse_loss(input, target, reduction=self.reduction)\n"
     ]
    },
    {
     "name": "stdout",
     "output_type": "stream",
     "text": [
      "Epoch 1/20, Step 100/145, Loss: 0.13330700993537903\n"
     ]
    },
    {
     "name": "stderr",
     "output_type": "stream",
     "text": [
      "C:\\Users\\86139\\anaconda3\\Lib\\site-packages\\torch\\nn\\modules\\loss.py:535: UserWarning: Using a target size (torch.Size([60])) that is different to the input size (torch.Size([60, 1])). This will likely lead to incorrect results due to broadcasting. Please ensure they have the same size.\n",
      "  return F.mse_loss(input, target, reduction=self.reduction)\n"
     ]
    },
    {
     "name": "stdout",
     "output_type": "stream",
     "text": [
      "Epoch 2/20, Step 100/145, Loss: 0.15348422527313232\n",
      "Epoch 3/20, Step 100/145, Loss: 0.15332193672657013\n",
      "Epoch 4/20, Step 100/145, Loss: 0.132428839802742\n",
      "Epoch 5/20, Step 100/145, Loss: 0.1526990830898285\n",
      "Epoch 6/20, Step 100/145, Loss: 0.15284842252731323\n",
      "Epoch 7/20, Step 100/145, Loss: 0.1737791895866394\n",
      "Epoch 8/20, Step 100/145, Loss: 0.17228135466575623\n",
      "Epoch 9/20, Step 100/145, Loss: 0.21281901001930237\n",
      "Epoch 10/20, Step 100/145, Loss: 0.13222604990005493\n",
      "Epoch 11/20, Step 100/145, Loss: 0.1526787132024765\n",
      "Epoch 12/20, Step 100/145, Loss: 0.17246344685554504\n",
      "Epoch 13/20, Step 100/145, Loss: 0.19439220428466797\n",
      "Epoch 14/20, Step 100/145, Loss: 0.1925455927848816\n",
      "Epoch 15/20, Step 100/145, Loss: 0.18225997686386108\n",
      "Epoch 16/20, Step 100/145, Loss: 0.15249784290790558\n",
      "Epoch 17/20, Step 100/145, Loss: 0.16305795311927795\n",
      "Epoch 18/20, Step 100/145, Loss: 0.15309910476207733\n",
      "Epoch 19/20, Step 100/145, Loss: 0.132485032081604\n",
      "Epoch 20/20, Step 100/145, Loss: 0.14245155453681946\n",
      "Finished Training\n"
     ]
    }
   ],
   "source": [
    "# Define model architecture\n",
    "class NeuralNet(nn.Module):\n",
    "    def __init__(self):\n",
    "        super(NeuralNet, self).__init__()\n",
    "        self.layer1 = nn.Linear(158, 64)  # 158 input features\n",
    "        self.layer2 = nn.Linear(64, 32)\n",
    "        self.layer3 = nn.Linear(32, 1)  # 1 output\n",
    "\n",
    "    def forward(self, x):\n",
    "        x = torch.relu(self.layer1(x))\n",
    "        x = torch.relu(self.layer2(x))\n",
    "        x = self.layer3(x)\n",
    "        return x\n",
    "\n",
    "# Define the model\n",
    "model = NeuralNet()\n",
    "\n",
    "# Move the model to the device\n",
    "model = model.to(device)\n",
    "\n",
    "# Define loss function and optimizer\n",
    "criterion = nn.MSELoss()  # or another appropriate loss function\n",
    "optimizer = optim.Adam(model.parameters(), lr=0.0001)\n",
    "\n",
    "# Train the model\n",
    "num_epochs = 20  # adjust as needed\n",
    "for epoch in range(num_epochs):\n",
    "    for i, (features, labels) in enumerate(train_loader):\n",
    "        # Move features and labels to the GPU\n",
    "        features = features.to(device)\n",
    "        labels = labels.to(device)\n",
    "        \n",
    "        outputs = model(features)\n",
    "        loss = criterion(outputs, labels)\n",
    "\n",
    "        optimizer.zero_grad()\n",
    "        loss.backward()\n",
    "        optimizer.step()\n",
    "        \n",
    "        if (i+1) % 100 == 0:\n",
    "            print(f'Epoch {epoch+1}/{num_epochs}, Step {i+1}/{len(train_loader)}, Loss: {loss.item()}')\n",
    "\n",
    "print('Finished Training')"
   ]
  },
  {
   "cell_type": "code",
   "execution_count": 16,
   "id": "f8caac51",
   "metadata": {},
   "outputs": [
    {
     "name": "stdout",
     "output_type": "stream",
     "text": [
      "AUC Score: 0.4744720090890698\n"
     ]
    },
    {
     "data": {
      "image/png": "[encoded data removed]",
      "text/plain": [
       "<Figure size 640x480 with 1 Axes>"
      ]
     },
     "metadata": {},
     "output_type": "display_data"
    }
   ],
   "source": [
    "model.eval()  # set the model to evaluation mode\n",
    "\n",
    "# initialize a list to hold all the probabilities and real values\n",
    "probs_list = []\n",
    "real_values_list = []\n",
    "\n",
    "with torch.no_grad():  # disable gradient calculation\n",
    "    for features, labels in test_loader:\n",
    "        features = features.to(device)\n",
    "        labels = labels.to(device)\n",
    "        outputs = torch.sigmoid(model(features))  # assuming your model returns logits\n",
    "        probs_list.extend(outputs.detach().cpu().numpy().tolist())\n",
    "        real_values_list.extend(labels.cpu().numpy().tolist())\n",
    "\n",
    "auc_score = roc_auc_score(real_values_list, probs_list)\n",
    "print(f'AUC Score: {auc_score}')\n",
    "\n",
    "fpr, tpr, _ = roc_curve(real_values_list, probs_list)\n",
    "plt.figure()\n",
    "plt.plot(fpr, tpr, color='darkorange', label='ROC curve (area = %0.2f)' % auc_score)\n",
    "plt.plot([0, 1], [0, 1], color='navy', linestyle='--')\n",
    "plt.xlim([0.0, 1.0])\n",
    "plt.ylim([0.0, 1.05])\n",
    "plt.xlabel('False Positive Rate')\n",
    "plt.ylabel('True Positive Rate')\n",
    "plt.title('Receiver Operating Characteristic (ROC)')\n",
    "plt.legend(loc=\"lower right\")\n",
    "plt.show()"
   ]
  },
  {
   "cell_type": "markdown",
   "id": "64258de4",
   "metadata": {},
   "source": [
    "##### Epoch = 80, LR = 0.001, Batch Size = 64, AUC Score: 0.5667031111387796\n",
    "##### Epoch = 40, LR = 0.001, Batch Size = 64, AUC Score: 0.5738577705839935\n",
    "##### Epoch = 30, LR = 0.001, Batch Size = 64, AUC Score: 0.5873072074455667\n",
    "##### Epoch = 20, LR = 0.001, Batch Size = 64, AUC Score: 0.4744720090890698"
   ]
  }
 ],
 "metadata": {
  "kernelspec": {
   "display_name": "Python 3 (ipykernel)",
   "language": "python",
   "name": "python3"
  },
  "language_info": {
   "codemirror_mode": {
    "name": "ipython",
    "version": 3
   },
   "file_extension": ".py",
   "mimetype": "text/x-python",
   "name": "python",
   "nbconvert_exporter": "python",
   "pygments_lexer": "ipython3",
   "version": "3.11.5"
  }
 },
 "nbformat": 4,
 "nbformat_minor": 5
}
