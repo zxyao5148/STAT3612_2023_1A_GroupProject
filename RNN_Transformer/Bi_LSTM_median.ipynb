{
  "cells": [
    {
      "cell_type": "markdown",
      "metadata": {
        "id": "view-in-github",
        "colab_type": "text"
      },
      "source": [
        "<a href=\"https://colab.research.google.com/github/zxyao5148/STAT3612_2023_1A_GroupProject/blob/main/RNN_Transformer/Bi_LSTM_median.ipynb\" target=\"_parent\"><img src=\"https://colab.research.google.com/assets/colab-badge.svg\" alt=\"Open In Colab\"/></a>"
      ]
    },
    {
      "cell_type": "markdown",
      "metadata": {
        "id": "fFipp7tAAVxh"
      },
      "source": [
        "**Description:** This notebook demonstrates how to do timeseries classification using RNN models (Simple RNN, LSTM, and GRU).\n",
        "\n",
        "Reference: https://www.kaggle.com/code/thebrownviking20/intro-to-recurrent-neural-networks-lstm-gru/notebook"
      ]
    },
    {
      "cell_type": "markdown",
      "metadata": {
        "id": "ll7UTtsyAVxj"
      },
      "source": [
        "## Load the dataset"
      ]
    },
    {
      "cell_type": "code",
      "execution_count": 1,
      "metadata": {
        "id": "U-qy06BXAVxk"
      },
      "outputs": [],
      "source": [
        "import pandas as pd\n",
        "import requests\n",
        "from io import StringIO\n",
        "import numpy as np\n",
        "from sklearn.model_selection import train_test_split\n",
        "\n",
        "# Raw URLs for the CSV files\n",
        "train_url = \"https://raw.githubusercontent.com/zxyao5148/STAT3612_2023_1A_GroupProject/main/data_processing/train/train_valid_median.csv\"\n",
        "test_url = \"https://raw.githubusercontent.com/zxyao5148/STAT3612_2023_1A_GroupProject/main/data_processing/test/test_median.csv\"\n",
        "\n",
        "# Download the CSV files\n",
        "train_csv = requests.get(train_url).text\n",
        "test_csv = requests.get(test_url).text\n",
        "\n",
        "# Read the CSV files into pandas DataFrames\n",
        "train_valid = pd.read_csv(StringIO(train_csv))\n",
        "test = pd.read_csv(StringIO(test_csv))\n",
        "\n",
        "train_valid['deathtime'] = np.where(train_valid['deathtime'].notnull(), 1, 0)\n",
        "test['deathtime'] = np.where(test['deathtime'].notnull(), 1, 0)\n",
        "\n",
        "# with 80% of the data for training and 20% for validation\n",
        "train, valid = train_test_split(train_valid, test_size=0.2, random_state=3612)\n",
        "\n",
        "# Split the data into features (X) and target variable (y)\n",
        "x_train = train[['deathtime']].join(train.iloc[:, 9:])\n",
        "y_train = train.iloc[:, 8]\n",
        "\n",
        "x_valid = valid[['deathtime']].join(valid.iloc[:, 9:])\n",
        "y_valid = valid.iloc[:, 8]\n",
        "\n",
        "x_test = test[['deathtime']].join(test.iloc[:,8:])"
      ]
    },
    {
      "cell_type": "code",
      "execution_count": 2,
      "metadata": {
        "id": "ElXnpwlhE0i8"
      },
      "outputs": [],
      "source": [
        "x_train = x_train.values.reshape((x_train.shape[0], x_train.shape[1], 1))\n",
        "x_valid = x_valid.values.reshape((x_valid.shape[0], x_valid.shape[1], 1))\n",
        "x_test = x_test.values.reshape((x_test.shape[0], x_test.shape[1], 1))\n",
        "\n",
        "# Reset the index of the y_train DataFrame\n",
        "y_train = y_train.reset_index(drop=True)\n",
        "\n",
        "# Shuffle the indices\n",
        "idx = np.random.permutation(len(x_train))\n",
        "\n",
        "# Reassign the values using the shuffled indices\n",
        "x_train = x_train[idx]\n",
        "y_train = y_train.iloc[idx]"
      ]
    },
    {
      "cell_type": "markdown",
      "metadata": {
        "id": "teAicBzgAVxl"
      },
      "source": [
        "## Build the model\n",
        "\n",
        "The model processes a tensor of shape `(batch size, sequence length, features)`,\n",
        "where `sequence length` is the number of time steps and `features` is each input\n",
        "timeseries.\n"
      ]
    },
    {
      "cell_type": "code",
      "execution_count": null,
      "metadata": {
        "id": "My1EkBMVAVxm"
      },
      "outputs": [],
      "source": [
        "from keras.layers import Dense, Activation, Dropout\n",
        "from keras.layers import LSTM, GRU, SimpleRNN\n",
        "from keras.models import Sequential\n",
        "import keras"
      ]
    },
    {
      "cell_type": "markdown",
      "source": [
        "#  Bidirectional LSTM"
      ],
      "metadata": {
        "id": "9MsiVoA-zIf5"
      }
    },
    {
      "cell_type": "code",
      "source": [
        "from keras.models import Sequential\n",
        "from keras.layers import LSTM, Dropout, Dense, Bidirectional\n",
        "import keras\n",
        "from keras.optimizers import Adam\n",
        "from keras.layers import BatchNormalization\n",
        "from keras.regularizers import l2\n",
        "from keras.callbacks import EarlyStopping, ReduceLROnPlateau\n",
        "\n",
        "model = Sequential()\n",
        "# Add a Bidirectional LSTM layer with return_sequences=True and L2 regularization\n",
        "model.add(Bidirectional(LSTM(64, return_sequences=True, input_shape=(x_train.shape[1], 1), kernel_regularizer=l2(0.01))))\n",
        "# Add Batch Normalization\n",
        "model.add(BatchNormalization())\n",
        "model.add(Dropout(0.3))\n",
        "# Add another Bidirectional LSTM layer with return_sequences=False and activation function set to \"tanh\"\n",
        "model.add(Bidirectional(LSTM(128, return_sequences=False, activation=\"tanh\", kernel_regularizer=l2(0.01))))\n",
        "# Add Batch Normalization\n",
        "model.add(BatchNormalization())\n",
        "model.add(Dropout(0.3))\n",
        "model.add(Dense(1, activation=\"sigmoid\"))\n",
        "\n",
        "# Compile the model with a lower learning rate and use ReduceLROnPlateau for learning rate scheduling\n",
        "model.compile(loss='binary_crossentropy', optimizer=Adam(learning_rate=0.001), metrics=[\"accuracy\"])\n",
        "\n",
        "print('model compiled')\n",
        "\n",
        "# Define early stopping and learning rate reduction callbacks\n",
        "callbacks = [EarlyStopping(patience=10, restore_best_weights=True), ReduceLROnPlateau(factor=0.1, patience=5)]\n",
        "\n",
        "# Print model summary\n",
        "#print(model.summary())\n",
        "\n",
        "# Train the model with a smaller batch size\n",
        "history_LSTM = model.fit(x_train, y_train, batch_size=128, epochs=100, validation_data=(x_valid, y_valid), callbacks=callbacks)"
      ],
      "metadata": {
        "colab": {
          "base_uri": "https://localhost:8080/"
        },
        "id": "NNvQqs6LzVl4",
        "outputId": "c4ebec0f-6c69-4cad-9ee3-429d46baff50"
      },
      "execution_count": 3,
      "outputs": [
        {
          "output_type": "stream",
          "name": "stdout",
          "text": [
            "model compiled\n",
            "Epoch 1/100\n",
            "73/73 [==============================] - 24s 70ms/step - loss: 2.7026 - accuracy: 0.8369 - val_loss: 1.5299 - val_accuracy: 0.8302 - lr: 0.0010\n",
            "Epoch 2/100\n",
            "73/73 [==============================] - 3s 41ms/step - loss: 0.8804 - accuracy: 0.9237 - val_loss: 0.8355 - val_accuracy: 0.8302 - lr: 0.0010\n",
            "Epoch 3/100\n",
            "73/73 [==============================] - 3s 38ms/step - loss: 0.5059 - accuracy: 0.9245 - val_loss: 0.6110 - val_accuracy: 0.8302 - lr: 0.0010\n",
            "Epoch 4/100\n",
            "73/73 [==============================] - 3s 38ms/step - loss: 0.3779 - accuracy: 0.9274 - val_loss: 0.5162 - val_accuracy: 0.8302 - lr: 0.0010\n",
            "Epoch 5/100\n",
            "73/73 [==============================] - 3s 38ms/step - loss: 0.3291 - accuracy: 0.9271 - val_loss: 0.4621 - val_accuracy: 0.8388 - lr: 0.0010\n",
            "Epoch 6/100\n",
            "73/73 [==============================] - 3s 40ms/step - loss: 0.2938 - accuracy: 0.9295 - val_loss: 0.3947 - val_accuracy: 0.8310 - lr: 0.0010\n",
            "Epoch 7/100\n",
            "73/73 [==============================] - 3s 41ms/step - loss: 0.2860 - accuracy: 0.9295 - val_loss: 0.3675 - val_accuracy: 0.9366 - lr: 0.0010\n",
            "Epoch 8/100\n",
            "73/73 [==============================] - 3s 39ms/step - loss: 0.2681 - accuracy: 0.9308 - val_loss: 0.3237 - val_accuracy: 0.9375 - lr: 0.0010\n",
            "Epoch 9/100\n",
            "73/73 [==============================] - 3s 40ms/step - loss: 0.2609 - accuracy: 0.9306 - val_loss: 0.2520 - val_accuracy: 0.9392 - lr: 0.0010\n",
            "Epoch 10/100\n",
            "73/73 [==============================] - 3s 38ms/step - loss: 0.2546 - accuracy: 0.9310 - val_loss: 0.2411 - val_accuracy: 0.9392 - lr: 0.0010\n",
            "Epoch 11/100\n",
            "73/73 [==============================] - 3s 42ms/step - loss: 0.2541 - accuracy: 0.9311 - val_loss: 0.2297 - val_accuracy: 0.9392 - lr: 0.0010\n",
            "Epoch 12/100\n",
            "73/73 [==============================] - 3s 40ms/step - loss: 0.2534 - accuracy: 0.9311 - val_loss: 0.2329 - val_accuracy: 0.9392 - lr: 0.0010\n",
            "Epoch 13/100\n",
            "73/73 [==============================] - 3s 40ms/step - loss: 0.2519 - accuracy: 0.9317 - val_loss: 0.2437 - val_accuracy: 0.9392 - lr: 0.0010\n",
            "Epoch 14/100\n",
            "73/73 [==============================] - 3s 39ms/step - loss: 0.2535 - accuracy: 0.9313 - val_loss: 0.2330 - val_accuracy: 0.9392 - lr: 0.0010\n",
            "Epoch 15/100\n",
            "73/73 [==============================] - 3s 39ms/step - loss: 0.2524 - accuracy: 0.9310 - val_loss: 0.2396 - val_accuracy: 0.9392 - lr: 0.0010\n",
            "Epoch 16/100\n",
            "73/73 [==============================] - 3s 42ms/step - loss: 0.2499 - accuracy: 0.9314 - val_loss: 0.2326 - val_accuracy: 0.9392 - lr: 0.0010\n",
            "Epoch 17/100\n",
            "73/73 [==============================] - 3s 40ms/step - loss: 0.2520 - accuracy: 0.9311 - val_loss: 0.2277 - val_accuracy: 0.9392 - lr: 1.0000e-04\n",
            "Epoch 18/100\n",
            "73/73 [==============================] - 3s 39ms/step - loss: 0.2487 - accuracy: 0.9315 - val_loss: 0.2278 - val_accuracy: 0.9392 - lr: 1.0000e-04\n",
            "Epoch 19/100\n",
            "73/73 [==============================] - 3s 40ms/step - loss: 0.2484 - accuracy: 0.9315 - val_loss: 0.2263 - val_accuracy: 0.9392 - lr: 1.0000e-04\n",
            "Epoch 20/100\n",
            "73/73 [==============================] - 3s 46ms/step - loss: 0.2474 - accuracy: 0.9315 - val_loss: 0.2258 - val_accuracy: 0.9392 - lr: 1.0000e-04\n",
            "Epoch 21/100\n",
            "73/73 [==============================] - 3s 42ms/step - loss: 0.2468 - accuracy: 0.9315 - val_loss: 0.2264 - val_accuracy: 0.9392 - lr: 1.0000e-04\n",
            "Epoch 22/100\n",
            "73/73 [==============================] - 3s 39ms/step - loss: 0.2475 - accuracy: 0.9315 - val_loss: 0.2265 - val_accuracy: 0.9392 - lr: 1.0000e-04\n",
            "Epoch 23/100\n",
            "73/73 [==============================] - 3s 40ms/step - loss: 0.2465 - accuracy: 0.9315 - val_loss: 0.2254 - val_accuracy: 0.9392 - lr: 1.0000e-04\n",
            "Epoch 24/100\n",
            "73/73 [==============================] - 3s 39ms/step - loss: 0.2472 - accuracy: 0.9315 - val_loss: 0.2252 - val_accuracy: 0.9392 - lr: 1.0000e-04\n",
            "Epoch 25/100\n",
            "73/73 [==============================] - 3s 41ms/step - loss: 0.2476 - accuracy: 0.9314 - val_loss: 0.2253 - val_accuracy: 0.9392 - lr: 1.0000e-04\n",
            "Epoch 26/100\n",
            "73/73 [==============================] - 3s 40ms/step - loss: 0.2450 - accuracy: 0.9314 - val_loss: 0.2248 - val_accuracy: 0.9392 - lr: 1.0000e-04\n",
            "Epoch 27/100\n",
            "73/73 [==============================] - 3s 39ms/step - loss: 0.2458 - accuracy: 0.9315 - val_loss: 0.2249 - val_accuracy: 0.9392 - lr: 1.0000e-04\n",
            "Epoch 28/100\n",
            "73/73 [==============================] - 3s 39ms/step - loss: 0.2454 - accuracy: 0.9315 - val_loss: 0.2251 - val_accuracy: 0.9392 - lr: 1.0000e-04\n",
            "Epoch 29/100\n",
            "73/73 [==============================] - 3s 39ms/step - loss: 0.2464 - accuracy: 0.9315 - val_loss: 0.2245 - val_accuracy: 0.9392 - lr: 1.0000e-04\n",
            "Epoch 30/100\n",
            "73/73 [==============================] - 3s 41ms/step - loss: 0.2445 - accuracy: 0.9317 - val_loss: 0.2251 - val_accuracy: 0.9392 - lr: 1.0000e-04\n",
            "Epoch 31/100\n",
            "73/73 [==============================] - 3s 40ms/step - loss: 0.2470 - accuracy: 0.9312 - val_loss: 0.2249 - val_accuracy: 0.9392 - lr: 1.0000e-04\n",
            "Epoch 32/100\n",
            "73/73 [==============================] - 4s 54ms/step - loss: 0.2457 - accuracy: 0.9314 - val_loss: 0.2272 - val_accuracy: 0.9392 - lr: 1.0000e-04\n",
            "Epoch 33/100\n",
            "73/73 [==============================] - 3s 39ms/step - loss: 0.2466 - accuracy: 0.9313 - val_loss: 0.2255 - val_accuracy: 0.9392 - lr: 1.0000e-04\n",
            "Epoch 34/100\n",
            "73/73 [==============================] - 3s 41ms/step - loss: 0.2447 - accuracy: 0.9315 - val_loss: 0.2254 - val_accuracy: 0.9392 - lr: 1.0000e-04\n",
            "Epoch 35/100\n",
            "73/73 [==============================] - 3s 42ms/step - loss: 0.2449 - accuracy: 0.9315 - val_loss: 0.2250 - val_accuracy: 0.9392 - lr: 1.0000e-05\n",
            "Epoch 36/100\n",
            "73/73 [==============================] - 4s 53ms/step - loss: 0.2471 - accuracy: 0.9315 - val_loss: 0.2247 - val_accuracy: 0.9392 - lr: 1.0000e-05\n",
            "Epoch 37/100\n",
            "73/73 [==============================] - 4s 56ms/step - loss: 0.2449 - accuracy: 0.9315 - val_loss: 0.2246 - val_accuracy: 0.9392 - lr: 1.0000e-05\n",
            "Epoch 38/100\n",
            "73/73 [==============================] - 5s 69ms/step - loss: 0.2441 - accuracy: 0.9314 - val_loss: 0.2244 - val_accuracy: 0.9392 - lr: 1.0000e-05\n",
            "Epoch 39/100\n",
            "73/73 [==============================] - 4s 54ms/step - loss: 0.2447 - accuracy: 0.9317 - val_loss: 0.2244 - val_accuracy: 0.9392 - lr: 1.0000e-05\n",
            "Epoch 40/100\n",
            "73/73 [==============================] - 4s 53ms/step - loss: 0.2441 - accuracy: 0.9315 - val_loss: 0.2244 - val_accuracy: 0.9392 - lr: 1.0000e-06\n",
            "Epoch 41/100\n",
            "73/73 [==============================] - 5s 64ms/step - loss: 0.2458 - accuracy: 0.9313 - val_loss: 0.2243 - val_accuracy: 0.9392 - lr: 1.0000e-06\n",
            "Epoch 42/100\n",
            "73/73 [==============================] - 4s 49ms/step - loss: 0.2458 - accuracy: 0.9317 - val_loss: 0.2243 - val_accuracy: 0.9392 - lr: 1.0000e-06\n",
            "Epoch 43/100\n",
            "73/73 [==============================] - 3s 39ms/step - loss: 0.2445 - accuracy: 0.9315 - val_loss: 0.2243 - val_accuracy: 0.9392 - lr: 1.0000e-06\n",
            "Epoch 44/100\n",
            "73/73 [==============================] - 3s 39ms/step - loss: 0.2455 - accuracy: 0.9315 - val_loss: 0.2243 - val_accuracy: 0.9392 - lr: 1.0000e-06\n",
            "Epoch 45/100\n",
            "73/73 [==============================] - 3s 39ms/step - loss: 0.2452 - accuracy: 0.9314 - val_loss: 0.2243 - val_accuracy: 0.9392 - lr: 1.0000e-06\n",
            "Epoch 46/100\n",
            "73/73 [==============================] - 3s 42ms/step - loss: 0.2462 - accuracy: 0.9315 - val_loss: 0.2243 - val_accuracy: 0.9392 - lr: 1.0000e-07\n",
            "Epoch 47/100\n",
            "73/73 [==============================] - 3s 41ms/step - loss: 0.2444 - accuracy: 0.9315 - val_loss: 0.2243 - val_accuracy: 0.9392 - lr: 1.0000e-07\n",
            "Epoch 48/100\n",
            "73/73 [==============================] - 3s 39ms/step - loss: 0.2426 - accuracy: 0.9315 - val_loss: 0.2242 - val_accuracy: 0.9392 - lr: 1.0000e-07\n",
            "Epoch 49/100\n",
            "73/73 [==============================] - 3s 39ms/step - loss: 0.2454 - accuracy: 0.9314 - val_loss: 0.2243 - val_accuracy: 0.9392 - lr: 1.0000e-07\n",
            "Epoch 50/100\n",
            "73/73 [==============================] - 3s 39ms/step - loss: 0.2458 - accuracy: 0.9315 - val_loss: 0.2243 - val_accuracy: 0.9392 - lr: 1.0000e-07\n",
            "Epoch 51/100\n",
            "73/73 [==============================] - 3s 42ms/step - loss: 0.2441 - accuracy: 0.9315 - val_loss: 0.2242 - val_accuracy: 0.9392 - lr: 1.0000e-07\n",
            "Epoch 52/100\n",
            "73/73 [==============================] - 3s 40ms/step - loss: 0.2435 - accuracy: 0.9314 - val_loss: 0.2243 - val_accuracy: 0.9392 - lr: 1.0000e-08\n",
            "Epoch 53/100\n",
            "73/73 [==============================] - 3s 39ms/step - loss: 0.2453 - accuracy: 0.9314 - val_loss: 0.2243 - val_accuracy: 0.9392 - lr: 1.0000e-08\n",
            "Epoch 54/100\n",
            "73/73 [==============================] - 3s 39ms/step - loss: 0.2458 - accuracy: 0.9315 - val_loss: 0.2243 - val_accuracy: 0.9392 - lr: 1.0000e-08\n",
            "Epoch 55/100\n",
            "73/73 [==============================] - 3s 40ms/step - loss: 0.2472 - accuracy: 0.9314 - val_loss: 0.2242 - val_accuracy: 0.9392 - lr: 1.0000e-08\n",
            "Epoch 56/100\n",
            "73/73 [==============================] - 3s 42ms/step - loss: 0.2443 - accuracy: 0.9317 - val_loss: 0.2242 - val_accuracy: 0.9392 - lr: 1.0000e-08\n",
            "Epoch 57/100\n",
            "73/73 [==============================] - 3s 40ms/step - loss: 0.2434 - accuracy: 0.9314 - val_loss: 0.2243 - val_accuracy: 0.9392 - lr: 1.0000e-09\n",
            "Epoch 58/100\n",
            "73/73 [==============================] - 3s 39ms/step - loss: 0.2446 - accuracy: 0.9314 - val_loss: 0.2243 - val_accuracy: 0.9392 - lr: 1.0000e-09\n",
            "Epoch 59/100\n",
            "73/73 [==============================] - 3s 39ms/step - loss: 0.2458 - accuracy: 0.9315 - val_loss: 0.2242 - val_accuracy: 0.9392 - lr: 1.0000e-09\n",
            "Epoch 60/100\n",
            "73/73 [==============================] - 3s 40ms/step - loss: 0.2450 - accuracy: 0.9313 - val_loss: 0.2242 - val_accuracy: 0.9392 - lr: 1.0000e-09\n",
            "Epoch 61/100\n",
            "73/73 [==============================] - 3s 41ms/step - loss: 0.2448 - accuracy: 0.9315 - val_loss: 0.2243 - val_accuracy: 0.9392 - lr: 1.0000e-09\n",
            "Epoch 62/100\n",
            "73/73 [==============================] - 3s 39ms/step - loss: 0.2435 - accuracy: 0.9315 - val_loss: 0.2242 - val_accuracy: 0.9392 - lr: 1.0000e-10\n",
            "Epoch 63/100\n",
            "73/73 [==============================] - 3s 39ms/step - loss: 0.2457 - accuracy: 0.9313 - val_loss: 0.2243 - val_accuracy: 0.9392 - lr: 1.0000e-10\n",
            "Epoch 64/100\n",
            "73/73 [==============================] - 3s 39ms/step - loss: 0.2452 - accuracy: 0.9314 - val_loss: 0.2242 - val_accuracy: 0.9392 - lr: 1.0000e-10\n",
            "Epoch 65/100\n",
            "73/73 [==============================] - 3s 41ms/step - loss: 0.2461 - accuracy: 0.9315 - val_loss: 0.2243 - val_accuracy: 0.9392 - lr: 1.0000e-10\n",
            "Epoch 66/100\n",
            "73/73 [==============================] - 3s 41ms/step - loss: 0.2434 - accuracy: 0.9317 - val_loss: 0.2243 - val_accuracy: 0.9392 - lr: 1.0000e-10\n"
          ]
        }
      ]
    },
    {
      "cell_type": "code",
      "source": [
        "import matplotlib.pyplot as plt\n",
        "\n",
        "# Plot the training and validation accuracy over epochs\n",
        "plt.plot(history_LSTM.history['accuracy'], label='Training Accuracy')\n",
        "plt.plot(history_LSTM.history['val_accuracy'], label='Validation Accuracy')\n",
        "plt.xlabel('Epoch')\n",
        "plt.ylabel('Accuracy')\n",
        "plt.ylim([0, 1])\n",
        "plt.legend(loc='lower right')\n",
        "plt.show()\n",
        "\n",
        "# Plot the training and validation loss over epochs\n",
        "plt.plot(history_LSTM.history['loss'], label='Training Loss')\n",
        "plt.plot(history_LSTM.history['val_loss'], label='Validation Loss')\n",
        "plt.xlabel('Epoch')\n",
        "plt.ylabel('Loss')\n",
        "plt.legend(loc='upper right')\n",
        "plt.show()\n"
      ],
      "metadata": {
        "colab": {
          "base_uri": "https://localhost:8080/",
          "height": 887
        },
        "id": "QGBVZcU_0_Fw",
        "outputId": "6aaa9800-a36f-4b69-c006-efd0a062dc4c"
      },
      "execution_count": 4,
      "outputs": [
        {
          "output_type": "display_data",
          "data": {
            "text/plain": [
              "<Figure size 640x480 with 1 Axes>"
            ],
            "image/png": "[encoded data removed]"
          },
          "metadata": {}
        },
        {
          "output_type": "display_data",
          "data": {
            "text/plain": [
              "<Figure size 640x480 with 1 Axes>"
            ],
            "image/png": "[encoded data removed]"
          },
          "metadata": {}
        }
      ]
    },
    {
      "cell_type": "markdown",
      "metadata": {
        "id": "NEl8DpHrzmQH"
      },
      "source": [
        "##Evaluation"
      ]
    },
    {
      "cell_type": "code",
      "execution_count": 5,
      "metadata": {
        "colab": {
          "base_uri": "https://localhost:8080/"
        },
        "outputId": "6b2d37ea-dd3e-494b-a02f-aed291f50255",
        "id": "USYW_yNXzmQI"
      },
      "outputs": [
        {
          "output_type": "stream",
          "name": "stdout",
          "text": [
            "290/290 [==============================] - 4s 9ms/step\n",
            "73/73 [==============================] - 1s 9ms/step\n",
            "Accuracy (train): 0.9315\n",
            "AUC (train): 0.8502\n",
            "Accuracy (valid): 0.9392\n",
            "AUC (valid): 0.8531\n"
          ]
        }
      ],
      "source": [
        "from sklearn.metrics import roc_auc_score\n",
        "\n",
        "threshold = 0.5\n",
        "\n",
        "y_train_pred = model.predict(x_train)\n",
        "# Convert probabilities to binary predictions\n",
        "y_train_pred_binary = (y_train_pred > threshold).astype(int)\n",
        "y_valid_pred = model.predict(x_valid)\n",
        "y_valid_pred_binary = (y_valid_pred > threshold).astype(int)\n",
        "\n",
        "from sklearn.metrics import accuracy_score, confusion_matrix, classification_report, roc_curve, auc, roc_auc_score\n",
        "accuracy_train = accuracy_score(y_train, y_train_pred_binary)\n",
        "auc_train = roc_auc_score(y_train, y_train_pred)\n",
        "\n",
        "accuracy_valid = accuracy_score(y_valid, y_valid_pred_binary)\n",
        "auc_valid = roc_auc_score(y_valid, y_valid_pred)\n",
        "\n",
        "print(f'Accuracy (train): {accuracy_train:.4f}')\n",
        "print(f'AUC (train): {auc_train:.4f}')\n",
        "\n",
        "print(f'Accuracy (valid): {accuracy_valid:.4f}')\n",
        "print(f'AUC (valid): {auc_valid:.4f}')"
      ]
    },
    {
      "cell_type": "code",
      "execution_count": 6,
      "metadata": {
        "colab": {
          "base_uri": "https://localhost:8080/"
        },
        "outputId": "e1b0196e-6dd6-4e46-b9ae-2c799c0d0d87",
        "id": "WlO-I_zuzmQI"
      },
      "outputs": [
        {
          "output_type": "stream",
          "name": "stdout",
          "text": [
            "For training set:\n",
            "Precision: 1.0\n",
            "Recall: 0.6123\n",
            "F1 Score: 0.7596 \n",
            "\n",
            "For validation set:\n",
            "Precision: 1.0\n",
            "Recall: 0.6421\n",
            "F1 Score: 0.7821\n"
          ]
        }
      ],
      "source": [
        "from sklearn.metrics import precision_score, recall_score, f1_score\n",
        "# Calculate precision, recall, and F1 score\n",
        "precision = precision_score(y_train, y_train_pred_binary, zero_division=1)\n",
        "recall = recall_score(y_train, y_train_pred_binary, zero_division=1)\n",
        "f1 = f1_score(y_train, y_train_pred_binary, zero_division=1)\n",
        "\n",
        "# Print with 4 digits limit\n",
        "print(\"For training set:\")\n",
        "print(\"Precision:\", round(precision, 4))\n",
        "print(\"Recall:\", round(recall, 4))\n",
        "print(\"F1 Score:\", round(f1, 4),\"\\n\")\n",
        "\n",
        "# Calculate precision, recall, and F1 score\n",
        "precision = precision_score(y_valid, y_valid_pred_binary, zero_division=1)\n",
        "recall = recall_score(y_valid, y_valid_pred_binary, zero_division=1)\n",
        "f1 = f1_score(y_valid, y_valid_pred_binary, zero_division=1)\n",
        "\n",
        "# Print with 4 digits limit\n",
        "print(\"For validation set:\")\n",
        "print(\"Precision:\", round(precision, 4))\n",
        "print(\"Recall:\", round(recall, 4))\n",
        "print(\"F1 Score:\", round(f1, 4))"
      ]
    },
    {
      "cell_type": "code",
      "execution_count": 7,
      "metadata": {
        "colab": {
          "base_uri": "https://localhost:8080/"
        },
        "outputId": "4b621ef6-e8d8-4562-914a-1ad95d364d51",
        "id": "Vwi1uceMzmQI"
      },
      "outputs": [
        {
          "output_type": "stream",
          "name": "stdout",
          "text": [
            "92/92 [==============================] - 1s 9ms/step\n"
          ]
        }
      ],
      "source": [
        "y_test_pred = model.predict(x_test)\n",
        "y_test_pred_binary = (y_test_pred > threshold).astype(int)"
      ]
    },
    {
      "cell_type": "code",
      "execution_count": 8,
      "metadata": {
        "colab": {
          "base_uri": "https://localhost:8080/",
          "height": 17
        },
        "outputId": "a5afc0b3-3f87-4e03-e1ed-e440c5923f15",
        "id": "z6AmCWTMzmQJ"
      },
      "outputs": [
        {
          "output_type": "display_data",
          "data": {
            "text/plain": [
              "<IPython.core.display.Javascript object>"
            ],
            "application/javascript": [
              "\n",
              "    async function download(id, filename, size) {\n",
              "      if (!google.colab.kernel.accessAllowed) {\n",
              "        return;\n",
              "      }\n",
              "      const div = document.createElement('div');\n",
              "      const label = document.createElement('label');\n",
              "      label.textContent = `Downloading \"${filename}\": `;\n",
              "      div.appendChild(label);\n",
              "      const progress = document.createElement('progress');\n",
              "      progress.max = size;\n",
              "      div.appendChild(progress);\n",
              "      document.body.appendChild(div);\n",
              "\n",
              "      const buffers = [];\n",
              "      let downloaded = 0;\n",
              "\n",
              "      const channel = await google.colab.kernel.comms.open(id);\n",
              "      // Send a message to notify the kernel that we're ready.\n",
              "      channel.send({})\n",
              "\n",
              "      for await (const message of channel.messages) {\n",
              "        // Send a message to notify the kernel that we're ready.\n",
              "        channel.send({})\n",
              "        if (message.buffers) {\n",
              "          for (const buffer of message.buffers) {\n",
              "            buffers.push(buffer);\n",
              "            downloaded += buffer.byteLength;\n",
              "            progress.value = downloaded;\n",
              "          }\n",
              "        }\n",
              "      }\n",
              "      const blob = new Blob(buffers, {type: 'application/binary'});\n",
              "      const a = document.createElement('a');\n",
              "      a.href = window.URL.createObjectURL(blob);\n",
              "      a.download = filename;\n",
              "      div.appendChild(a);\n",
              "      a.click();\n",
              "      div.remove();\n",
              "    }\n",
              "  "
            ]
          },
          "metadata": {}
        },
        {
          "output_type": "display_data",
          "data": {
            "text/plain": [
              "<IPython.core.display.Javascript object>"
            ],
            "application/javascript": [
              "download(\"download_b358bec2-74aa-43f6-8ffb-ac7c2e9068cc\", \"predictions.csv\", 58748)"
            ]
          },
          "metadata": {}
        }
      ],
      "source": [
        "# Assuming y_test_pred_binary is a numpy array\n",
        "predictions_df = pd.DataFrame(y_test_pred_binary, columns=['readmitted_within_30days'])\n",
        "merged_df = test[['id']].merge(predictions_df, left_index=True, right_index=True)\n",
        "merged_df.to_csv('predictions.csv', index=False)\n",
        "\n",
        "from google.colab import files\n",
        "files.download('predictions.csv')"
      ]
    },
    {
      "cell_type": "markdown",
      "source": [
        "#  Bidirectional LSTM train on auc"
      ],
      "metadata": {
        "id": "EXFtvaao_MSP"
      }
    },
    {
      "cell_type": "code",
      "source": [
        "from keras.models import Sequential\n",
        "from keras.layers import LSTM, Dropout, Dense, Bidirectional\n",
        "import keras\n",
        "from keras.optimizers import Adam\n",
        "from keras.layers import BatchNormalization\n",
        "from keras.regularizers import l2\n",
        "from keras.callbacks import EarlyStopping, ReduceLROnPlateau\n",
        "from keras.metrics import AUC\n",
        "\n",
        "model = Sequential()\n",
        "# Add a Bidirectional LSTM layer with return_sequences=True and L2 regularization\n",
        "model.add(Bidirectional(LSTM(64, return_sequences=True, input_shape=(x_train.shape[1], 1), kernel_regularizer=l2(0.01))))\n",
        "# Add Batch Normalization\n",
        "model.add(BatchNormalization())\n",
        "model.add(Dropout(0.3))\n",
        "# Add another Bidirectional LSTM layer with return_sequences=False and activation function set to \"tanh\"\n",
        "model.add(Bidirectional(LSTM(128, return_sequences=False, activation=\"tanh\", kernel_regularizer=l2(0.01))))\n",
        "# Add Batch Normalization\n",
        "model.add(BatchNormalization())\n",
        "model.add(Dropout(0.3))\n",
        "model.add(Dense(1, activation=\"sigmoid\"))\n",
        "\n",
        "# Compile the model with AUC as the evaluation metric\n",
        "model.compile(loss='binary_crossentropy', optimizer=Adam(learning_rate=0.001), metrics=[AUC()])\n",
        "\n",
        "print('model compiled')\n",
        "\n",
        "# Define early stopping and learning rate reduction callbacks\n",
        "callbacks = [EarlyStopping(patience=10, restore_best_weights=True), ReduceLROnPlateau(factor=0.1, patience=5)]\n",
        "\n",
        "# Print model summary\n",
        "#print(model.summary())\n",
        "\n",
        "# Train the model with a smaller batch size\n",
        "history_LSTM = model.fit(x_train, y_train, batch_size=128, epochs=100, validation_data=(x_valid, y_valid), callbacks=callbacks)"
      ],
      "metadata": {
        "colab": {
          "base_uri": "https://localhost:8080/"
        },
        "outputId": "fdbfa9c8-4c8f-424f-d4f0-66fce54e7aff",
        "id": "sI1JDZrv_MSW"
      },
      "execution_count": 9,
      "outputs": [
        {
          "output_type": "stream",
          "name": "stdout",
          "text": [
            "model compiled\n",
            "Epoch 1/100\n",
            "73/73 [==============================] - 15s 73ms/step - loss: 2.6206 - auc: 0.8040 - val_loss: 1.4388 - val_auc: 0.8358 - lr: 0.0010\n",
            "Epoch 2/100\n",
            "73/73 [==============================] - 3s 39ms/step - loss: 0.8062 - auc: 0.8300 - val_loss: 0.7435 - val_auc: 0.8409 - lr: 0.0010\n",
            "Epoch 3/100\n",
            "73/73 [==============================] - 3s 40ms/step - loss: 0.4704 - auc: 0.8226 - val_loss: 0.6090 - val_auc: 0.8356 - lr: 0.0010\n",
            "Epoch 4/100\n",
            "73/73 [==============================] - 3s 41ms/step - loss: 0.3670 - auc: 0.8208 - val_loss: 0.5367 - val_auc: 0.7840 - lr: 0.0010\n",
            "Epoch 5/100\n",
            "73/73 [==============================] - 3s 43ms/step - loss: 0.3159 - auc: 0.8227 - val_loss: 0.4606 - val_auc: 0.8243 - lr: 0.0010\n",
            "Epoch 6/100\n",
            "73/73 [==============================] - 3s 41ms/step - loss: 0.2920 - auc: 0.8274 - val_loss: 0.4525 - val_auc: 0.8394 - lr: 0.0010\n",
            "Epoch 7/100\n",
            "73/73 [==============================] - 3s 39ms/step - loss: 0.2869 - auc: 0.8201 - val_loss: 0.4141 - val_auc: 0.8568 - lr: 0.0010\n",
            "Epoch 8/100\n",
            "73/73 [==============================] - 3s 39ms/step - loss: 0.2831 - auc: 0.8257 - val_loss: 0.3849 - val_auc: 0.8391 - lr: 0.0010\n",
            "Epoch 9/100\n",
            "73/73 [==============================] - 3s 41ms/step - loss: 0.2682 - auc: 0.8230 - val_loss: 0.3322 - val_auc: 0.8384 - lr: 0.0010\n",
            "Epoch 10/100\n",
            "73/73 [==============================] - 3s 43ms/step - loss: 0.2590 - auc: 0.8359 - val_loss: 0.3081 - val_auc: 0.8446 - lr: 0.0010\n",
            "Epoch 11/100\n",
            "73/73 [==============================] - 3s 41ms/step - loss: 0.2571 - auc: 0.8323 - val_loss: 0.3199 - val_auc: 0.8390 - lr: 0.0010\n",
            "Epoch 12/100\n",
            "73/73 [==============================] - 4s 51ms/step - loss: 0.2574 - auc: 0.8309 - val_loss: 0.2582 - val_auc: 0.8490 - lr: 0.0010\n",
            "Epoch 13/100\n",
            "73/73 [==============================] - 4s 58ms/step - loss: 0.2529 - auc: 0.8359 - val_loss: 0.2773 - val_auc: 0.8531 - lr: 0.0010\n",
            "Epoch 14/100\n",
            "73/73 [==============================] - 5s 74ms/step - loss: 0.2530 - auc: 0.8353 - val_loss: 0.2689 - val_auc: 0.8555 - lr: 0.0010\n",
            "Epoch 15/100\n",
            "73/73 [==============================] - 3s 41ms/step - loss: 0.2514 - auc: 0.8376 - val_loss: 0.2378 - val_auc: 0.8508 - lr: 0.0010\n",
            "Epoch 16/100\n",
            "73/73 [==============================] - 3s 42ms/step - loss: 0.2518 - auc: 0.8318 - val_loss: 0.2452 - val_auc: 0.8545 - lr: 0.0010\n",
            "Epoch 17/100\n",
            "73/73 [==============================] - 4s 48ms/step - loss: 0.2525 - auc: 0.8284 - val_loss: 0.2316 - val_auc: 0.8532 - lr: 0.0010\n",
            "Epoch 18/100\n",
            "73/73 [==============================] - 4s 54ms/step - loss: 0.2557 - auc: 0.8298 - val_loss: 0.3174 - val_auc: 0.8473 - lr: 0.0010\n",
            "Epoch 19/100\n",
            "73/73 [==============================] - 3s 40ms/step - loss: 0.2518 - auc: 0.8328 - val_loss: 0.2520 - val_auc: 0.8505 - lr: 0.0010\n",
            "Epoch 20/100\n",
            "73/73 [==============================] - 3s 39ms/step - loss: 0.2493 - auc: 0.8351 - val_loss: 0.2287 - val_auc: 0.8558 - lr: 0.0010\n",
            "Epoch 21/100\n",
            "73/73 [==============================] - 3s 39ms/step - loss: 0.2508 - auc: 0.8288 - val_loss: 0.2350 - val_auc: 0.8539 - lr: 0.0010\n",
            "Epoch 22/100\n",
            "73/73 [==============================] - 3s 44ms/step - loss: 0.2506 - auc: 0.8386 - val_loss: 0.2799 - val_auc: 0.8515 - lr: 0.0010\n",
            "Epoch 23/100\n",
            "73/73 [==============================] - 3s 40ms/step - loss: 0.2496 - auc: 0.8332 - val_loss: 0.2314 - val_auc: 0.8455 - lr: 0.0010\n",
            "Epoch 24/100\n",
            "73/73 [==============================] - 3s 39ms/step - loss: 0.2504 - auc: 0.8333 - val_loss: 0.3403 - val_auc: 0.8530 - lr: 0.0010\n",
            "Epoch 25/100\n",
            "73/73 [==============================] - 3s 39ms/step - loss: 0.2471 - auc: 0.8390 - val_loss: 0.2342 - val_auc: 0.8543 - lr: 0.0010\n",
            "Epoch 26/100\n",
            "73/73 [==============================] - 3s 39ms/step - loss: 0.2465 - auc: 0.8336 - val_loss: 0.2351 - val_auc: 0.8539 - lr: 1.0000e-04\n",
            "Epoch 27/100\n",
            "73/73 [==============================] - 3s 42ms/step - loss: 0.2454 - auc: 0.8404 - val_loss: 0.2324 - val_auc: 0.8540 - lr: 1.0000e-04\n",
            "Epoch 28/100\n",
            "73/73 [==============================] - 3s 41ms/step - loss: 0.2452 - auc: 0.8376 - val_loss: 0.2287 - val_auc: 0.8525 - lr: 1.0000e-04\n",
            "Epoch 29/100\n",
            "73/73 [==============================] - 3s 40ms/step - loss: 0.2432 - auc: 0.8436 - val_loss: 0.2267 - val_auc: 0.8537 - lr: 1.0000e-04\n",
            "Epoch 30/100\n",
            "73/73 [==============================] - 3s 40ms/step - loss: 0.2444 - auc: 0.8416 - val_loss: 0.2270 - val_auc: 0.8532 - lr: 1.0000e-04\n",
            "Epoch 31/100\n",
            "73/73 [==============================] - 3s 40ms/step - loss: 0.2438 - auc: 0.8382 - val_loss: 0.2266 - val_auc: 0.8527 - lr: 1.0000e-04\n",
            "Epoch 32/100\n",
            "73/73 [==============================] - 3s 41ms/step - loss: 0.2426 - auc: 0.8421 - val_loss: 0.2248 - val_auc: 0.8508 - lr: 1.0000e-04\n",
            "Epoch 33/100\n",
            "73/73 [==============================] - 3s 40ms/step - loss: 0.2442 - auc: 0.8389 - val_loss: 0.2245 - val_auc: 0.8533 - lr: 1.0000e-04\n",
            "Epoch 34/100\n",
            "73/73 [==============================] - 3s 39ms/step - loss: 0.2439 - auc: 0.8389 - val_loss: 0.2256 - val_auc: 0.8535 - lr: 1.0000e-04\n",
            "Epoch 35/100\n",
            "73/73 [==============================] - 3s 39ms/step - loss: 0.2433 - auc: 0.8412 - val_loss: 0.2265 - val_auc: 0.8536 - lr: 1.0000e-04\n",
            "Epoch 36/100\n",
            "73/73 [==============================] - 3s 41ms/step - loss: 0.2443 - auc: 0.8380 - val_loss: 0.2251 - val_auc: 0.8530 - lr: 1.0000e-04\n",
            "Epoch 37/100\n",
            "73/73 [==============================] - 3s 42ms/step - loss: 0.2430 - auc: 0.8421 - val_loss: 0.2249 - val_auc: 0.8522 - lr: 1.0000e-04\n",
            "Epoch 38/100\n",
            "73/73 [==============================] - 3s 39ms/step - loss: 0.2438 - auc: 0.8401 - val_loss: 0.2257 - val_auc: 0.8527 - lr: 1.0000e-04\n",
            "Epoch 39/100\n",
            "73/73 [==============================] - 3s 39ms/step - loss: 0.2424 - auc: 0.8429 - val_loss: 0.2245 - val_auc: 0.8535 - lr: 1.0000e-05\n",
            "Epoch 40/100\n",
            "73/73 [==============================] - 3s 40ms/step - loss: 0.2419 - auc: 0.8472 - val_loss: 0.2240 - val_auc: 0.8515 - lr: 1.0000e-05\n",
            "Epoch 41/100\n",
            "73/73 [==============================] - 3s 41ms/step - loss: 0.2437 - auc: 0.8392 - val_loss: 0.2240 - val_auc: 0.8532 - lr: 1.0000e-05\n",
            "Epoch 42/100\n",
            "73/73 [==============================] - 3s 41ms/step - loss: 0.2438 - auc: 0.8382 - val_loss: 0.2239 - val_auc: 0.8530 - lr: 1.0000e-05\n",
            "Epoch 43/100\n",
            "73/73 [==============================] - 3s 40ms/step - loss: 0.2444 - auc: 0.8363 - val_loss: 0.2239 - val_auc: 0.8533 - lr: 1.0000e-05\n",
            "Epoch 44/100\n",
            "73/73 [==============================] - 3s 39ms/step - loss: 0.2431 - auc: 0.8416 - val_loss: 0.2239 - val_auc: 0.8532 - lr: 1.0000e-05\n",
            "Epoch 45/100\n",
            "73/73 [==============================] - 3s 40ms/step - loss: 0.2428 - auc: 0.8404 - val_loss: 0.2238 - val_auc: 0.8521 - lr: 1.0000e-05\n",
            "Epoch 46/100\n",
            "73/73 [==============================] - 3s 42ms/step - loss: 0.2435 - auc: 0.8402 - val_loss: 0.2238 - val_auc: 0.8535 - lr: 1.0000e-05\n",
            "Epoch 47/100\n",
            "73/73 [==============================] - 3s 40ms/step - loss: 0.2446 - auc: 0.8366 - val_loss: 0.2238 - val_auc: 0.8525 - lr: 1.0000e-05\n",
            "Epoch 48/100\n",
            "73/73 [==============================] - 3s 39ms/step - loss: 0.2442 - auc: 0.8386 - val_loss: 0.2239 - val_auc: 0.8534 - lr: 1.0000e-05\n",
            "Epoch 49/100\n",
            "73/73 [==============================] - 3s 43ms/step - loss: 0.2423 - auc: 0.8431 - val_loss: 0.2239 - val_auc: 0.8532 - lr: 1.0000e-05\n",
            "Epoch 50/100\n",
            "73/73 [==============================] - 3s 40ms/step - loss: 0.2448 - auc: 0.8350 - val_loss: 0.2238 - val_auc: 0.8526 - lr: 1.0000e-05\n",
            "Epoch 51/100\n",
            "73/73 [==============================] - 3s 42ms/step - loss: 0.2438 - auc: 0.8379 - val_loss: 0.2238 - val_auc: 0.8525 - lr: 1.0000e-06\n",
            "Epoch 52/100\n",
            "73/73 [==============================] - 3s 40ms/step - loss: 0.2433 - auc: 0.8422 - val_loss: 0.2238 - val_auc: 0.8525 - lr: 1.0000e-06\n",
            "Epoch 53/100\n",
            "73/73 [==============================] - 3s 39ms/step - loss: 0.2434 - auc: 0.8410 - val_loss: 0.2237 - val_auc: 0.8530 - lr: 1.0000e-06\n",
            "Epoch 54/100\n",
            "73/73 [==============================] - 3s 40ms/step - loss: 0.2423 - auc: 0.8433 - val_loss: 0.2238 - val_auc: 0.8528 - lr: 1.0000e-06\n",
            "Epoch 55/100\n",
            "73/73 [==============================] - 3s 40ms/step - loss: 0.2421 - auc: 0.8437 - val_loss: 0.2238 - val_auc: 0.8532 - lr: 1.0000e-06\n",
            "Epoch 56/100\n",
            "73/73 [==============================] - 3s 41ms/step - loss: 0.2428 - auc: 0.8409 - val_loss: 0.2238 - val_auc: 0.8529 - lr: 1.0000e-07\n",
            "Epoch 57/100\n",
            "73/73 [==============================] - 3s 39ms/step - loss: 0.2438 - auc: 0.8406 - val_loss: 0.2238 - val_auc: 0.8529 - lr: 1.0000e-07\n",
            "Epoch 58/100\n",
            "73/73 [==============================] - 3s 47ms/step - loss: 0.2433 - auc: 0.8395 - val_loss: 0.2237 - val_auc: 0.8530 - lr: 1.0000e-07\n",
            "Epoch 59/100\n",
            "73/73 [==============================] - 3s 39ms/step - loss: 0.2427 - auc: 0.8408 - val_loss: 0.2238 - val_auc: 0.8529 - lr: 1.0000e-07\n",
            "Epoch 60/100\n",
            "73/73 [==============================] - 3s 41ms/step - loss: 0.2442 - auc: 0.8391 - val_loss: 0.2237 - val_auc: 0.8524 - lr: 1.0000e-07\n",
            "Epoch 61/100\n",
            "73/73 [==============================] - 3s 40ms/step - loss: 0.2437 - auc: 0.8375 - val_loss: 0.2238 - val_auc: 0.8524 - lr: 1.0000e-08\n",
            "Epoch 62/100\n",
            "73/73 [==============================] - 3s 39ms/step - loss: 0.2417 - auc: 0.8450 - val_loss: 0.2238 - val_auc: 0.8525 - lr: 1.0000e-08\n",
            "Epoch 63/100\n",
            "73/73 [==============================] - 3s 40ms/step - loss: 0.2422 - auc: 0.8453 - val_loss: 0.2238 - val_auc: 0.8528 - lr: 1.0000e-08\n"
          ]
        }
      ]
    },
    {
      "cell_type": "code",
      "source": [
        "import matplotlib.pyplot as plt\n",
        "\n",
        "# Plot the training and validation accuracy over epochs\n",
        "plt.plot(history_LSTM.history['auc'], label='Training Auc')\n",
        "plt.plot(history_LSTM.history['val_auc'], label='Validation Auc')\n",
        "plt.xlabel('Epoch')\n",
        "plt.ylabel('Accuracy')\n",
        "plt.ylim([0, 1])\n",
        "plt.legend(loc='lower right')\n",
        "plt.show()\n",
        "\n",
        "# Plot the training and validation loss over epochs\n",
        "plt.plot(history_LSTM.history['loss'], label='Training Loss')\n",
        "plt.plot(history_LSTM.history['val_loss'], label='Validation Loss')\n",
        "plt.xlabel('Epoch')\n",
        "plt.ylabel('Loss')\n",
        "plt.legend(loc='upper right')\n",
        "plt.show()\n"
      ],
      "metadata": {
        "colab": {
          "base_uri": "https://localhost:8080/",
          "height": 887
        },
        "outputId": "40c6e7c5-5295-4fa0-8390-9cebe26ffadd",
        "id": "sdjhIwdS_MSX"
      },
      "execution_count": 11,
      "outputs": [
        {
          "output_type": "display_data",
          "data": {
            "text/plain": [
              "<Figure size 640x480 with 1 Axes>"
            ],
            "image/png": "[encoded data removed]"
          },
          "metadata": {}
        },
        {
          "output_type": "display_data",
          "data": {
            "text/plain": [
              "<Figure size 640x480 with 1 Axes>"
            ],
            "image/png": "[encoded data removed]"
          },
          "metadata": {}
        }
      ]
    },
    {
      "cell_type": "markdown",
      "metadata": {
        "id": "VPPJreux_MSX"
      },
      "source": [
        "##Evaluation"
      ]
    },
    {
      "cell_type": "code",
      "execution_count": 12,
      "metadata": {
        "colab": {
          "base_uri": "https://localhost:8080/"
        },
        "outputId": "575951f7-1bdf-4a53-e175-32673f5a9b5c",
        "id": "AfgOdSbY_MSX"
      },
      "outputs": [
        {
          "output_type": "stream",
          "name": "stdout",
          "text": [
            "290/290 [==============================] - 4s 9ms/step\n",
            "73/73 [==============================] - 1s 11ms/step\n",
            "Accuracy (train): 0.9315\n",
            "AUC (train): 0.8512\n",
            "Accuracy (valid): 0.9392\n",
            "AUC (valid): 0.8528\n"
          ]
        }
      ],
      "source": [
        "from sklearn.metrics import roc_auc_score\n",
        "\n",
        "threshold = 0.5\n",
        "\n",
        "y_train_pred = model.predict(x_train)\n",
        "# Convert probabilities to binary predictions\n",
        "y_train_pred_binary = (y_train_pred > threshold).astype(int)\n",
        "y_valid_pred = model.predict(x_valid)\n",
        "y_valid_pred_binary = (y_valid_pred > threshold).astype(int)\n",
        "\n",
        "from sklearn.metrics import accuracy_score, confusion_matrix, classification_report, roc_curve, auc, roc_auc_score\n",
        "accuracy_train = accuracy_score(y_train, y_train_pred_binary)\n",
        "auc_train = roc_auc_score(y_train, y_train_pred)\n",
        "\n",
        "accuracy_valid = accuracy_score(y_valid, y_valid_pred_binary)\n",
        "auc_valid = roc_auc_score(y_valid, y_valid_pred)\n",
        "\n",
        "print(f'Accuracy (train): {accuracy_train:.4f}')\n",
        "print(f'AUC (train): {auc_train:.4f}')\n",
        "\n",
        "print(f'Accuracy (valid): {accuracy_valid:.4f}')\n",
        "print(f'AUC (valid): {auc_valid:.4f}')"
      ]
    },
    {
      "cell_type": "code",
      "execution_count": 14,
      "metadata": {
        "colab": {
          "base_uri": "https://localhost:8080/"
        },
        "outputId": "fcbb3a5e-6276-40b1-80bd-5e89d2640296",
        "id": "m6GSb7RZ_MSX"
      },
      "outputs": [
        {
          "output_type": "stream",
          "name": "stdout",
          "text": [
            "For training set:\n",
            "Precision: 1.0\n",
            "Recall: 0.6123\n",
            "F1 Score: 0.7596 \n",
            "\n",
            "For validation set:\n",
            "Precision: 1.0\n",
            "Recall: 0.6421\n",
            "F1 Score: 0.7821\n"
          ]
        }
      ],
      "source": [
        "from sklearn.metrics import precision_score, recall_score, f1_score\n",
        "# Calculate precision, recall, and F1 score\n",
        "precision = precision_score(y_train, y_train_pred_binary, zero_division=1)\n",
        "recall = recall_score(y_train, y_train_pred_binary, zero_division=1)\n",
        "f1 = f1_score(y_train, y_train_pred_binary, zero_division=1)\n",
        "\n",
        "# Print with 4 digits limit\n",
        "print(\"For training set:\")\n",
        "print(\"Precision:\", round(precision, 4))\n",
        "print(\"Recall:\", round(recall, 4))\n",
        "print(\"F1 Score:\", round(f1, 4),\"\\n\")\n",
        "\n",
        "# Calculate precision, recall, and F1 score\n",
        "precision = precision_score(y_valid, y_valid_pred_binary, zero_division=1)\n",
        "recall = recall_score(y_valid, y_valid_pred_binary, zero_division=1)\n",
        "f1 = f1_score(y_valid, y_valid_pred_binary, zero_division=1)\n",
        "\n",
        "# Print with 4 digits limit\n",
        "print(\"For validation set:\")\n",
        "print(\"Precision:\", round(precision, 4))\n",
        "print(\"Recall:\", round(recall, 4))\n",
        "print(\"F1 Score:\", round(f1, 4))"
      ]
    },
    {
      "cell_type": "code",
      "execution_count": 15,
      "metadata": {
        "colab": {
          "base_uri": "https://localhost:8080/"
        },
        "outputId": "11622e0d-d937-4277-a0e9-755197a8f59c",
        "id": "bdxTNvF7_MSX"
      },
      "outputs": [
        {
          "output_type": "stream",
          "name": "stdout",
          "text": [
            "92/92 [==============================] - 1s 10ms/step\n"
          ]
        }
      ],
      "source": [
        "y_test_pred = model.predict(x_test)\n",
        "y_test_pred_binary = (y_test_pred > threshold).astype(int)"
      ]
    },
    {
      "cell_type": "code",
      "execution_count": 16,
      "metadata": {
        "colab": {
          "base_uri": "https://localhost:8080/",
          "height": 17
        },
        "outputId": "6f1e656e-b9de-4ff1-afd5-73d9cb3a5bd9",
        "id": "dAyWP9R3_MSX"
      },
      "outputs": [
        {
          "output_type": "display_data",
          "data": {
            "text/plain": [
              "<IPython.core.display.Javascript object>"
            ],
            "application/javascript": [
              "\n",
              "    async function download(id, filename, size) {\n",
              "      if (!google.colab.kernel.accessAllowed) {\n",
              "        return;\n",
              "      }\n",
              "      const div = document.createElement('div');\n",
              "      const label = document.createElement('label');\n",
              "      label.textContent = `Downloading \"${filename}\": `;\n",
              "      div.appendChild(label);\n",
              "      const progress = document.createElement('progress');\n",
              "      progress.max = size;\n",
              "      div.appendChild(progress);\n",
              "      document.body.appendChild(div);\n",
              "\n",
              "      const buffers = [];\n",
              "      let downloaded = 0;\n",
              "\n",
              "      const channel = await google.colab.kernel.comms.open(id);\n",
              "      // Send a message to notify the kernel that we're ready.\n",
              "      channel.send({})\n",
              "\n",
              "      for await (const message of channel.messages) {\n",
              "        // Send a message to notify the kernel that we're ready.\n",
              "        channel.send({})\n",
              "        if (message.buffers) {\n",
              "          for (const buffer of message.buffers) {\n",
              "            buffers.push(buffer);\n",
              "            downloaded += buffer.byteLength;\n",
              "            progress.value = downloaded;\n",
              "          }\n",
              "        }\n",
              "      }\n",
              "      const blob = new Blob(buffers, {type: 'application/binary'});\n",
              "      const a = document.createElement('a');\n",
              "      a.href = window.URL.createObjectURL(blob);\n",
              "      a.download = filename;\n",
              "      div.appendChild(a);\n",
              "      a.click();\n",
              "      div.remove();\n",
              "    }\n",
              "  "
            ]
          },
          "metadata": {}
        },
        {
          "output_type": "display_data",
          "data": {
            "text/plain": [
              "<IPython.core.display.Javascript object>"
            ],
            "application/javascript": [
              "download(\"download_06209f47-4805-4bd3-99d0-f6c474af71de\", \"predictions.csv\", 58748)"
            ]
          },
          "metadata": {}
        }
      ],
      "source": [
        "# Assuming y_test_pred_binary is a numpy array\n",
        "predictions_df = pd.DataFrame(y_test_pred_binary, columns=['readmitted_within_30days'])\n",
        "merged_df = test[['id']].merge(predictions_df, left_index=True, right_index=True)\n",
        "merged_df.to_csv('predictions.csv', index=False)\n",
        "\n",
        "from google.colab import files\n",
        "files.download('predictions.csv')"
      ]
    }
  ],
  "metadata": {
    "accelerator": "GPU",
    "colab": {
      "provenance": [],
      "toc_visible": true,
      "gpuType": "T4",
      "include_colab_link": true
    },
    "kernelspec": {
      "display_name": "Python 3",
      "name": "python3"
    },
    "language_info": {
      "codemirror_mode": {
        "name": "ipython",
        "version": 3
      },
      "file_extension": ".py",
      "mimetype": "text/x-python",
      "name": "python",
      "nbconvert_exporter": "python",
      "pygments_lexer": "ipython3",
      "version": "3.7.0"
    }
  },
  "nbformat": 4,
  "nbformat_minor": 0
}