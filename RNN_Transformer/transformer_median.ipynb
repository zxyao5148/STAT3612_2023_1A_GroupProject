{
  "cells": [
    {
      "cell_type": "markdown",
      "metadata": {
        "id": "view-in-github",
        "colab_type": "text"
      },
      "source": [
        "<a href=\"https://colab.research.google.com/github/zxyao5148/STAT3612_2023_1A_GroupProject/blob/main/RNN_Transformer/transformer_median.ipynb\" target=\"_parent\"><img src=\"https://colab.research.google.com/assets/colab-badge.svg\" alt=\"Open In Colab\"/></a>"
      ]
    },
    {
      "cell_type": "markdown",
      "metadata": {
        "id": "fFipp7tAAVxh"
      },
      "source": [
        "# Timeseries classification with a Transformer model\n",
        "\n",
        "[Code source](https://keras.io/examples/timeseries/timeseries_classification_transformer/)<br>\n",
        "**Description:** This notebook demonstrates how to do timeseries classification using a Transformer model."
      ]
    },
    {
      "cell_type": "markdown",
      "metadata": {
        "id": "ll7UTtsyAVxj"
      },
      "source": [
        "## Introduction\n",
        "\n",
        "This is the Transformer architecture from\n",
        "[Attention Is All You Need](https://arxiv.org/abs/1706.03762),\n",
        "applied to timeseries instead of natural language.\n",
        "\n",
        "This example requires TensorFlow 2.4 or higher.\n",
        "\n",
        "## Load the dataset\n",
        "\n",
        "We are going to use the same dataset and preprocessing as the\n",
        "[TimeSeries Classification from Scratch](https://keras.io/examples/timeseries/timeseries_classification_from_scratch)\n",
        "example."
      ]
    },
    {
      "cell_type": "code",
      "execution_count": 23,
      "metadata": {
        "id": "U-qy06BXAVxk"
      },
      "outputs": [],
      "source": [
        "import pandas as pd\n",
        "import requests\n",
        "from io import StringIO\n",
        "import numpy as np\n",
        "from sklearn.model_selection import train_test_split\n",
        "\n",
        "# Raw URLs for the CSV files\n",
        "train_url = \"https://raw.githubusercontent.com/zxyao5148/STAT3612_2023_1A_GroupProject/main/data_processing/train/train_valid_median.csv\"\n",
        "test_url = \"https://raw.githubusercontent.com/zxyao5148/STAT3612_2023_1A_GroupProject/main/data_processing/test/test_median.csv\"\n",
        "\n",
        "# Download the CSV files\n",
        "train_csv = requests.get(train_url).text\n",
        "test_csv = requests.get(test_url).text\n",
        "\n",
        "# Read the CSV files into pandas DataFrames\n",
        "train = pd.read_csv(StringIO(train_csv))\n",
        "test = pd.read_csv(StringIO(test_csv))\n",
        "\n",
        "# Split the data into features (X) and target variable (y)\n",
        "x_train = train.iloc[:,9:]\n",
        "y_train = train.iloc[:, 8]\n",
        "\n",
        "x_test = test.iloc[:,8:]"
      ]
    },
    {
      "cell_type": "code",
      "execution_count": 24,
      "metadata": {
        "id": "ElXnpwlhE0i8"
      },
      "outputs": [],
      "source": [
        "x_train = x_train.values.reshape((x_train.shape[0], x_train.shape[1], 1))\n",
        "x_test = x_test.values.reshape((x_test.shape[0], x_test.shape[1], 1))\n",
        "\n",
        "n_classes = len(np.unique(y_train))\n",
        "\n",
        "# Reset the index of the y_train DataFrame\n",
        "y_train = y_train.reset_index(drop=True)\n",
        "\n",
        "# Shuffle the indices\n",
        "idx = np.random.permutation(len(x_train))\n",
        "\n",
        "# Reassign the values using the shuffled indices\n",
        "x_train = x_train[idx]\n",
        "y_train = y_train.iloc[idx]"
      ]
    },
    {
      "cell_type": "markdown",
      "metadata": {
        "id": "teAicBzgAVxl"
      },
      "source": [
        "## Build the model\n",
        "\n",
        "Our model processes a tensor of shape `(batch size, sequence length, features)`,\n",
        "where `sequence length` is the number of time steps and `features` is each input\n",
        "timeseries.\n",
        "\n",
        "You can replace your classification RNN layers with this one: the\n",
        "inputs are fully compatible!"
      ]
    },
    {
      "cell_type": "code",
      "execution_count": 25,
      "metadata": {
        "id": "My1EkBMVAVxm"
      },
      "outputs": [],
      "source": [
        "from tensorflow import keras\n",
        "from tensorflow.keras import layers"
      ]
    },
    {
      "cell_type": "markdown",
      "metadata": {
        "id": "EqvY-0bTAVxm"
      },
      "source": [
        "We include residual connections, layer normalization, and dropout.\n",
        "The resulting layer can be stacked multiple times.\n",
        "\n",
        "The projection layers are implemented through `keras.layers.Conv1D`."
      ]
    },
    {
      "cell_type": "code",
      "execution_count": 26,
      "metadata": {
        "id": "ROFmOBEbAVxm"
      },
      "outputs": [],
      "source": [
        "\n",
        "def transformer_encoder(inputs, head_size, num_heads, ff_dim, dropout=0):\n",
        "    # Normalization and Attention\n",
        "    x = layers.LayerNormalization(epsilon=1e-6)(inputs)\n",
        "    x = layers.MultiHeadAttention(\n",
        "        key_dim=head_size, num_heads=num_heads, dropout=dropout\n",
        "    )(x, x)\n",
        "    x = layers.Dropout(dropout)(x)\n",
        "    res = x + inputs\n",
        "\n",
        "    # Feed Forward Part\n",
        "    x = layers.LayerNormalization(epsilon=1e-6)(res)\n",
        "    x = layers.Conv1D(filters=ff_dim, kernel_size=1, activation=\"relu\")(x)\n",
        "    x = layers.Dropout(dropout)(x)\n",
        "    x = layers.Conv1D(filters=inputs.shape[-1], kernel_size=1)(x)\n",
        "    return x + res\n"
      ]
    },
    {
      "cell_type": "markdown",
      "metadata": {
        "id": "HToe2fRaAVxm"
      },
      "source": [
        "The main part of our model is now complete. We can stack multiple of those\n",
        "`transformer_encoder` blocks and we can also proceed to add the final\n",
        "Multi-Layer Perceptron classification head. Apart from a stack of `Dense`\n",
        "layers, we need to reduce the output tensor of the `TransformerEncoder` part of\n",
        "our model down to a vector of features for each data point in the current\n",
        "batch. A common way to achieve this is to use a pooling layer. For\n",
        "this example, a `GlobalAveragePooling1D` layer is sufficient."
      ]
    },
    {
      "cell_type": "code",
      "execution_count": 27,
      "metadata": {
        "id": "ZjN7kGY8AVxn"
      },
      "outputs": [],
      "source": [
        "\n",
        "def build_model(\n",
        "    input_shape,\n",
        "    head_size,\n",
        "    num_heads,\n",
        "    ff_dim,\n",
        "    num_transformer_blocks,\n",
        "    mlp_units,\n",
        "    dropout=0,\n",
        "    mlp_dropout=0,\n",
        "):\n",
        "    inputs = keras.Input(shape=input_shape)\n",
        "    x = inputs\n",
        "    for _ in range(num_transformer_blocks):\n",
        "        x = transformer_encoder(x, head_size, num_heads, ff_dim, dropout)\n",
        "\n",
        "    x = layers.GlobalAveragePooling1D(data_format=\"channels_first\")(x)\n",
        "    for dim in mlp_units:\n",
        "        x = layers.Dense(dim, activation=\"relu\")(x)\n",
        "        x = layers.Dropout(mlp_dropout)(x)\n",
        "    outputs = layers.Dense(n_classes, activation=\"softmax\")(x)\n",
        "    return keras.Model(inputs, outputs)\n"
      ]
    },
    {
      "cell_type": "markdown",
      "metadata": {
        "id": "ThjL6P51AVxn"
      },
      "source": [
        "## Train"
      ]
    },
    {
      "cell_type": "code",
      "execution_count": 28,
      "metadata": {
        "colab": {
          "base_uri": "https://localhost:8080/"
        },
        "id": "_xfOV48KAVxn",
        "outputId": "b9956d40-4c3e-43b7-9f78-7fd1c73bbbff"
      },
      "outputs": [
        {
          "output_type": "stream",
          "name": "stdout",
          "text": [
            "Model: \"model_2\"\n",
            "__________________________________________________________________________________________________\n",
            " Layer (type)                Output Shape                 Param #   Connected to                  \n",
            "==================================================================================================\n",
            " input_3 (InputLayer)        [(None, 158, 1)]             0         []                            \n",
            "                                                                                                  \n",
            " layer_normalization_16 (La  (None, 158, 1)               2         ['input_3[0][0]']             \n",
            " yerNormalization)                                                                                \n",
            "                                                                                                  \n",
            " multi_head_attention_8 (Mu  (None, 158, 1)               7169      ['layer_normalization_16[0][0]\n",
            " ltiHeadAttention)                                                  ',                            \n",
            "                                                                     'layer_normalization_16[0][0]\n",
            "                                                                    ']                            \n",
            "                                                                                                  \n",
            " dropout_18 (Dropout)        (None, 158, 1)               0         ['multi_head_attention_8[0][0]\n",
            "                                                                    ']                            \n",
            "                                                                                                  \n",
            " tf.__operators__.add_16 (T  (None, 158, 1)               0         ['dropout_18[0][0]',          \n",
            " FOpLambda)                                                          'input_3[0][0]']             \n",
            "                                                                                                  \n",
            " layer_normalization_17 (La  (None, 158, 1)               2         ['tf.__operators__.add_16[0][0\n",
            " yerNormalization)                                                  ]']                           \n",
            "                                                                                                  \n",
            " conv1d_16 (Conv1D)          (None, 158, 4)               8         ['layer_normalization_17[0][0]\n",
            "                                                                    ']                            \n",
            "                                                                                                  \n",
            " dropout_19 (Dropout)        (None, 158, 4)               0         ['conv1d_16[0][0]']           \n",
            "                                                                                                  \n",
            " conv1d_17 (Conv1D)          (None, 158, 1)               5         ['dropout_19[0][0]']          \n",
            "                                                                                                  \n",
            " tf.__operators__.add_17 (T  (None, 158, 1)               0         ['conv1d_17[0][0]',           \n",
            " FOpLambda)                                                          'tf.__operators__.add_16[0][0\n",
            "                                                                    ]']                           \n",
            "                                                                                                  \n",
            " layer_normalization_18 (La  (None, 158, 1)               2         ['tf.__operators__.add_17[0][0\n",
            " yerNormalization)                                                  ]']                           \n",
            "                                                                                                  \n",
            " multi_head_attention_9 (Mu  (None, 158, 1)               7169      ['layer_normalization_18[0][0]\n",
            " ltiHeadAttention)                                                  ',                            \n",
            "                                                                     'layer_normalization_18[0][0]\n",
            "                                                                    ']                            \n",
            "                                                                                                  \n",
            " dropout_20 (Dropout)        (None, 158, 1)               0         ['multi_head_attention_9[0][0]\n",
            "                                                                    ']                            \n",
            "                                                                                                  \n",
            " tf.__operators__.add_18 (T  (None, 158, 1)               0         ['dropout_20[0][0]',          \n",
            " FOpLambda)                                                          'tf.__operators__.add_17[0][0\n",
            "                                                                    ]']                           \n",
            "                                                                                                  \n",
            " layer_normalization_19 (La  (None, 158, 1)               2         ['tf.__operators__.add_18[0][0\n",
            " yerNormalization)                                                  ]']                           \n",
            "                                                                                                  \n",
            " conv1d_18 (Conv1D)          (None, 158, 4)               8         ['layer_normalization_19[0][0]\n",
            "                                                                    ']                            \n",
            "                                                                                                  \n",
            " dropout_21 (Dropout)        (None, 158, 4)               0         ['conv1d_18[0][0]']           \n",
            "                                                                                                  \n",
            " conv1d_19 (Conv1D)          (None, 158, 1)               5         ['dropout_21[0][0]']          \n",
            "                                                                                                  \n",
            " tf.__operators__.add_19 (T  (None, 158, 1)               0         ['conv1d_19[0][0]',           \n",
            " FOpLambda)                                                          'tf.__operators__.add_18[0][0\n",
            "                                                                    ]']                           \n",
            "                                                                                                  \n",
            " layer_normalization_20 (La  (None, 158, 1)               2         ['tf.__operators__.add_19[0][0\n",
            " yerNormalization)                                                  ]']                           \n",
            "                                                                                                  \n",
            " multi_head_attention_10 (M  (None, 158, 1)               7169      ['layer_normalization_20[0][0]\n",
            " ultiHeadAttention)                                                 ',                            \n",
            "                                                                     'layer_normalization_20[0][0]\n",
            "                                                                    ']                            \n",
            "                                                                                                  \n",
            " dropout_22 (Dropout)        (None, 158, 1)               0         ['multi_head_attention_10[0][0\n",
            "                                                                    ]']                           \n",
            "                                                                                                  \n",
            " tf.__operators__.add_20 (T  (None, 158, 1)               0         ['dropout_22[0][0]',          \n",
            " FOpLambda)                                                          'tf.__operators__.add_19[0][0\n",
            "                                                                    ]']                           \n",
            "                                                                                                  \n",
            " layer_normalization_21 (La  (None, 158, 1)               2         ['tf.__operators__.add_20[0][0\n",
            " yerNormalization)                                                  ]']                           \n",
            "                                                                                                  \n",
            " conv1d_20 (Conv1D)          (None, 158, 4)               8         ['layer_normalization_21[0][0]\n",
            "                                                                    ']                            \n",
            "                                                                                                  \n",
            " dropout_23 (Dropout)        (None, 158, 4)               0         ['conv1d_20[0][0]']           \n",
            "                                                                                                  \n",
            " conv1d_21 (Conv1D)          (None, 158, 1)               5         ['dropout_23[0][0]']          \n",
            "                                                                                                  \n",
            " tf.__operators__.add_21 (T  (None, 158, 1)               0         ['conv1d_21[0][0]',           \n",
            " FOpLambda)                                                          'tf.__operators__.add_20[0][0\n",
            "                                                                    ]']                           \n",
            "                                                                                                  \n",
            " layer_normalization_22 (La  (None, 158, 1)               2         ['tf.__operators__.add_21[0][0\n",
            " yerNormalization)                                                  ]']                           \n",
            "                                                                                                  \n",
            " multi_head_attention_11 (M  (None, 158, 1)               7169      ['layer_normalization_22[0][0]\n",
            " ultiHeadAttention)                                                 ',                            \n",
            "                                                                     'layer_normalization_22[0][0]\n",
            "                                                                    ']                            \n",
            "                                                                                                  \n",
            " dropout_24 (Dropout)        (None, 158, 1)               0         ['multi_head_attention_11[0][0\n",
            "                                                                    ]']                           \n",
            "                                                                                                  \n",
            " tf.__operators__.add_22 (T  (None, 158, 1)               0         ['dropout_24[0][0]',          \n",
            " FOpLambda)                                                          'tf.__operators__.add_21[0][0\n",
            "                                                                    ]']                           \n",
            "                                                                                                  \n",
            " layer_normalization_23 (La  (None, 158, 1)               2         ['tf.__operators__.add_22[0][0\n",
            " yerNormalization)                                                  ]']                           \n",
            "                                                                                                  \n",
            " conv1d_22 (Conv1D)          (None, 158, 4)               8         ['layer_normalization_23[0][0]\n",
            "                                                                    ']                            \n",
            "                                                                                                  \n",
            " dropout_25 (Dropout)        (None, 158, 4)               0         ['conv1d_22[0][0]']           \n",
            "                                                                                                  \n",
            " conv1d_23 (Conv1D)          (None, 158, 1)               5         ['dropout_25[0][0]']          \n",
            "                                                                                                  \n",
            " tf.__operators__.add_23 (T  (None, 158, 1)               0         ['conv1d_23[0][0]',           \n",
            " FOpLambda)                                                          'tf.__operators__.add_22[0][0\n",
            "                                                                    ]']                           \n",
            "                                                                                                  \n",
            " global_average_pooling1d_2  (None, 158)                  0         ['tf.__operators__.add_23[0][0\n",
            "  (GlobalAveragePooling1D)                                          ]']                           \n",
            "                                                                                                  \n",
            " dense_4 (Dense)             (None, 128)                  20352     ['global_average_pooling1d_2[0\n",
            "                                                                    ][0]']                        \n",
            "                                                                                                  \n",
            " dropout_26 (Dropout)        (None, 128)                  0         ['dense_4[0][0]']             \n",
            "                                                                                                  \n",
            " dense_5 (Dense)             (None, 2)                    258       ['dropout_26[0][0]']          \n",
            "                                                                                                  \n",
            "==================================================================================================\n",
            "Total params: 49354 (192.79 KB)\n",
            "Trainable params: 49354 (192.79 KB)\n",
            "Non-trainable params: 0 (0.00 Byte)\n",
            "__________________________________________________________________________________________________\n",
            "Epoch 1/200\n",
            "145/145 [==============================] - 26s 107ms/step - loss: 0.5476 - sparse_categorical_accuracy: 0.7859 - val_loss: 0.4568 - val_sparse_categorical_accuracy: 0.8267\n",
            "Epoch 2/200\n",
            "145/145 [==============================] - 15s 105ms/step - loss: 0.4996 - sparse_categorical_accuracy: 0.8072 - val_loss: 0.4326 - val_sparse_categorical_accuracy: 0.8284\n",
            "Epoch 3/200\n",
            "145/145 [==============================] - 15s 104ms/step - loss: 0.4855 - sparse_categorical_accuracy: 0.8123 - val_loss: 0.4203 - val_sparse_categorical_accuracy: 0.8306\n",
            "Epoch 4/200\n",
            "145/145 [==============================] - 15s 103ms/step - loss: 0.4630 - sparse_categorical_accuracy: 0.8181 - val_loss: 0.4141 - val_sparse_categorical_accuracy: 0.8349\n",
            "Epoch 5/200\n",
            "145/145 [==============================] - 15s 102ms/step - loss: 0.4534 - sparse_categorical_accuracy: 0.8191 - val_loss: 0.4080 - val_sparse_categorical_accuracy: 0.8375\n",
            "Epoch 6/200\n",
            "145/145 [==============================] - 15s 102ms/step - loss: 0.4411 - sparse_categorical_accuracy: 0.8254 - val_loss: 0.4055 - val_sparse_categorical_accuracy: 0.8366\n",
            "Epoch 7/200\n",
            "145/145 [==============================] - 15s 102ms/step - loss: 0.4337 - sparse_categorical_accuracy: 0.8285 - val_loss: 0.4029 - val_sparse_categorical_accuracy: 0.8392\n",
            "Epoch 8/200\n",
            "145/145 [==============================] - 15s 103ms/step - loss: 0.4306 - sparse_categorical_accuracy: 0.8300 - val_loss: 0.4005 - val_sparse_categorical_accuracy: 0.8401\n",
            "Epoch 9/200\n",
            "145/145 [==============================] - 15s 103ms/step - loss: 0.4205 - sparse_categorical_accuracy: 0.8316 - val_loss: 0.3981 - val_sparse_categorical_accuracy: 0.8418\n",
            "Epoch 10/200\n",
            "145/145 [==============================] - 15s 102ms/step - loss: 0.4217 - sparse_categorical_accuracy: 0.8338 - val_loss: 0.3973 - val_sparse_categorical_accuracy: 0.8418\n",
            "Epoch 11/200\n",
            "145/145 [==============================] - 15s 102ms/step - loss: 0.4145 - sparse_categorical_accuracy: 0.8361 - val_loss: 0.3965 - val_sparse_categorical_accuracy: 0.8414\n",
            "Epoch 12/200\n",
            "145/145 [==============================] - 15s 102ms/step - loss: 0.4125 - sparse_categorical_accuracy: 0.8353 - val_loss: 0.3945 - val_sparse_categorical_accuracy: 0.8435\n",
            "Epoch 13/200\n",
            "145/145 [==============================] - 15s 102ms/step - loss: 0.4138 - sparse_categorical_accuracy: 0.8362 - val_loss: 0.3945 - val_sparse_categorical_accuracy: 0.8435\n",
            "Epoch 14/200\n",
            "145/145 [==============================] - 15s 102ms/step - loss: 0.4124 - sparse_categorical_accuracy: 0.8371 - val_loss: 0.3922 - val_sparse_categorical_accuracy: 0.8453\n",
            "Epoch 15/200\n",
            "145/145 [==============================] - 15s 103ms/step - loss: 0.4074 - sparse_categorical_accuracy: 0.8383 - val_loss: 0.3919 - val_sparse_categorical_accuracy: 0.8453\n",
            "Epoch 16/200\n",
            "145/145 [==============================] - 15s 103ms/step - loss: 0.4096 - sparse_categorical_accuracy: 0.8388 - val_loss: 0.3916 - val_sparse_categorical_accuracy: 0.8483\n",
            "Epoch 17/200\n",
            "145/145 [==============================] - 15s 103ms/step - loss: 0.4025 - sparse_categorical_accuracy: 0.8404 - val_loss: 0.3913 - val_sparse_categorical_accuracy: 0.8483\n",
            "Epoch 18/200\n",
            "145/145 [==============================] - 15s 104ms/step - loss: 0.4008 - sparse_categorical_accuracy: 0.8431 - val_loss: 0.3916 - val_sparse_categorical_accuracy: 0.8487\n",
            "Epoch 19/200\n",
            "145/145 [==============================] - 15s 103ms/step - loss: 0.4037 - sparse_categorical_accuracy: 0.8421 - val_loss: 0.3887 - val_sparse_categorical_accuracy: 0.8491\n",
            "Epoch 20/200\n",
            "145/145 [==============================] - 15s 103ms/step - loss: 0.3977 - sparse_categorical_accuracy: 0.8454 - val_loss: 0.3880 - val_sparse_categorical_accuracy: 0.8474\n",
            "Epoch 21/200\n",
            "145/145 [==============================] - 15s 103ms/step - loss: 0.4013 - sparse_categorical_accuracy: 0.8447 - val_loss: 0.3887 - val_sparse_categorical_accuracy: 0.8491\n",
            "Epoch 22/200\n",
            "145/145 [==============================] - 15s 102ms/step - loss: 0.3975 - sparse_categorical_accuracy: 0.8420 - val_loss: 0.3925 - val_sparse_categorical_accuracy: 0.8448\n",
            "Epoch 23/200\n",
            "145/145 [==============================] - 15s 102ms/step - loss: 0.3980 - sparse_categorical_accuracy: 0.8454 - val_loss: 0.3867 - val_sparse_categorical_accuracy: 0.8504\n",
            "Epoch 24/200\n",
            "145/145 [==============================] - 15s 102ms/step - loss: 0.3953 - sparse_categorical_accuracy: 0.8450 - val_loss: 0.3874 - val_sparse_categorical_accuracy: 0.8500\n",
            "Epoch 25/200\n",
            "145/145 [==============================] - 15s 102ms/step - loss: 0.3933 - sparse_categorical_accuracy: 0.8452 - val_loss: 0.3867 - val_sparse_categorical_accuracy: 0.8509\n",
            "Epoch 26/200\n",
            "145/145 [==============================] - 15s 102ms/step - loss: 0.3921 - sparse_categorical_accuracy: 0.8463 - val_loss: 0.3860 - val_sparse_categorical_accuracy: 0.8500\n",
            "Epoch 27/200\n",
            "145/145 [==============================] - 15s 102ms/step - loss: 0.3889 - sparse_categorical_accuracy: 0.8463 - val_loss: 0.3851 - val_sparse_categorical_accuracy: 0.8500\n",
            "Epoch 28/200\n",
            "145/145 [==============================] - 15s 103ms/step - loss: 0.3889 - sparse_categorical_accuracy: 0.8458 - val_loss: 0.3875 - val_sparse_categorical_accuracy: 0.8517\n",
            "Epoch 29/200\n",
            "145/145 [==============================] - 15s 102ms/step - loss: 0.3918 - sparse_categorical_accuracy: 0.8453 - val_loss: 0.3851 - val_sparse_categorical_accuracy: 0.8517\n",
            "Epoch 30/200\n",
            "145/145 [==============================] - 15s 102ms/step - loss: 0.3894 - sparse_categorical_accuracy: 0.8493 - val_loss: 0.3871 - val_sparse_categorical_accuracy: 0.8526\n",
            "Epoch 31/200\n",
            "145/145 [==============================] - 15s 102ms/step - loss: 0.3876 - sparse_categorical_accuracy: 0.8510 - val_loss: 0.3893 - val_sparse_categorical_accuracy: 0.8539\n",
            "Epoch 32/200\n",
            "145/145 [==============================] - 15s 103ms/step - loss: 0.3877 - sparse_categorical_accuracy: 0.8470 - val_loss: 0.3844 - val_sparse_categorical_accuracy: 0.8517\n",
            "Epoch 33/200\n",
            "145/145 [==============================] - 15s 103ms/step - loss: 0.3858 - sparse_categorical_accuracy: 0.8466 - val_loss: 0.3843 - val_sparse_categorical_accuracy: 0.8517\n",
            "Epoch 34/200\n",
            "145/145 [==============================] - 15s 103ms/step - loss: 0.3843 - sparse_categorical_accuracy: 0.8473 - val_loss: 0.3862 - val_sparse_categorical_accuracy: 0.8517\n",
            "Epoch 35/200\n",
            "145/145 [==============================] - 15s 102ms/step - loss: 0.3852 - sparse_categorical_accuracy: 0.8483 - val_loss: 0.3833 - val_sparse_categorical_accuracy: 0.8530\n",
            "Epoch 36/200\n",
            "145/145 [==============================] - 15s 103ms/step - loss: 0.3860 - sparse_categorical_accuracy: 0.8509 - val_loss: 0.3846 - val_sparse_categorical_accuracy: 0.8496\n",
            "Epoch 37/200\n",
            "145/145 [==============================] - 15s 103ms/step - loss: 0.3830 - sparse_categorical_accuracy: 0.8510 - val_loss: 0.3828 - val_sparse_categorical_accuracy: 0.8534\n",
            "Epoch 38/200\n",
            "145/145 [==============================] - 15s 102ms/step - loss: 0.3831 - sparse_categorical_accuracy: 0.8525 - val_loss: 0.3856 - val_sparse_categorical_accuracy: 0.8500\n",
            "Epoch 39/200\n",
            "145/145 [==============================] - 15s 102ms/step - loss: 0.3810 - sparse_categorical_accuracy: 0.8522 - val_loss: 0.3825 - val_sparse_categorical_accuracy: 0.8530\n",
            "Epoch 40/200\n",
            "145/145 [==============================] - 15s 102ms/step - loss: 0.3787 - sparse_categorical_accuracy: 0.8525 - val_loss: 0.3824 - val_sparse_categorical_accuracy: 0.8547\n",
            "Epoch 41/200\n",
            "145/145 [==============================] - 15s 102ms/step - loss: 0.3756 - sparse_categorical_accuracy: 0.8539 - val_loss: 0.3815 - val_sparse_categorical_accuracy: 0.8534\n",
            "Epoch 42/200\n",
            "145/145 [==============================] - 15s 102ms/step - loss: 0.3772 - sparse_categorical_accuracy: 0.8518 - val_loss: 0.3815 - val_sparse_categorical_accuracy: 0.8552\n",
            "Epoch 43/200\n",
            "145/145 [==============================] - 15s 103ms/step - loss: 0.3755 - sparse_categorical_accuracy: 0.8524 - val_loss: 0.3816 - val_sparse_categorical_accuracy: 0.8534\n",
            "Epoch 44/200\n",
            "145/145 [==============================] - 15s 102ms/step - loss: 0.3753 - sparse_categorical_accuracy: 0.8514 - val_loss: 0.3807 - val_sparse_categorical_accuracy: 0.8543\n",
            "Epoch 45/200\n",
            "145/145 [==============================] - 15s 102ms/step - loss: 0.3758 - sparse_categorical_accuracy: 0.8530 - val_loss: 0.3804 - val_sparse_categorical_accuracy: 0.8547\n",
            "Epoch 46/200\n",
            "145/145 [==============================] - 15s 102ms/step - loss: 0.3728 - sparse_categorical_accuracy: 0.8525 - val_loss: 0.3814 - val_sparse_categorical_accuracy: 0.8530\n",
            "Epoch 47/200\n",
            "145/145 [==============================] - 15s 103ms/step - loss: 0.3777 - sparse_categorical_accuracy: 0.8530 - val_loss: 0.3809 - val_sparse_categorical_accuracy: 0.8530\n",
            "Epoch 48/200\n",
            "145/145 [==============================] - 15s 102ms/step - loss: 0.3760 - sparse_categorical_accuracy: 0.8539 - val_loss: 0.3818 - val_sparse_categorical_accuracy: 0.8526\n",
            "Epoch 49/200\n",
            "145/145 [==============================] - 15s 102ms/step - loss: 0.3767 - sparse_categorical_accuracy: 0.8519 - val_loss: 0.3810 - val_sparse_categorical_accuracy: 0.8552\n",
            "Epoch 50/200\n",
            "145/145 [==============================] - 15s 102ms/step - loss: 0.3709 - sparse_categorical_accuracy: 0.8538 - val_loss: 0.3819 - val_sparse_categorical_accuracy: 0.8530\n",
            "Epoch 51/200\n",
            "145/145 [==============================] - 15s 103ms/step - loss: 0.3732 - sparse_categorical_accuracy: 0.8549 - val_loss: 0.3798 - val_sparse_categorical_accuracy: 0.8530\n",
            "Epoch 52/200\n",
            "145/145 [==============================] - 15s 102ms/step - loss: 0.3713 - sparse_categorical_accuracy: 0.8551 - val_loss: 0.3805 - val_sparse_categorical_accuracy: 0.8517\n",
            "Epoch 53/200\n",
            "145/145 [==============================] - 15s 103ms/step - loss: 0.3710 - sparse_categorical_accuracy: 0.8540 - val_loss: 0.3813 - val_sparse_categorical_accuracy: 0.8534\n",
            "Epoch 54/200\n",
            "145/145 [==============================] - 15s 102ms/step - loss: 0.3717 - sparse_categorical_accuracy: 0.8554 - val_loss: 0.3806 - val_sparse_categorical_accuracy: 0.8552\n",
            "Epoch 55/200\n",
            "145/145 [==============================] - 15s 102ms/step - loss: 0.3692 - sparse_categorical_accuracy: 0.8564 - val_loss: 0.3801 - val_sparse_categorical_accuracy: 0.8530\n",
            "Epoch 56/200\n",
            "145/145 [==============================] - 15s 102ms/step - loss: 0.3681 - sparse_categorical_accuracy: 0.8571 - val_loss: 0.3810 - val_sparse_categorical_accuracy: 0.8539\n",
            "Epoch 57/200\n",
            "145/145 [==============================] - 15s 102ms/step - loss: 0.3680 - sparse_categorical_accuracy: 0.8548 - val_loss: 0.3807 - val_sparse_categorical_accuracy: 0.8513\n",
            "Epoch 58/200\n",
            "145/145 [==============================] - 15s 102ms/step - loss: 0.3669 - sparse_categorical_accuracy: 0.8571 - val_loss: 0.3798 - val_sparse_categorical_accuracy: 0.8552\n",
            "Epoch 59/200\n",
            "145/145 [==============================] - 15s 103ms/step - loss: 0.3677 - sparse_categorical_accuracy: 0.8563 - val_loss: 0.3791 - val_sparse_categorical_accuracy: 0.8530\n",
            "Epoch 60/200\n",
            "145/145 [==============================] - 15s 103ms/step - loss: 0.3697 - sparse_categorical_accuracy: 0.8569 - val_loss: 0.3797 - val_sparse_categorical_accuracy: 0.8526\n",
            "Epoch 61/200\n",
            "145/145 [==============================] - 15s 102ms/step - loss: 0.3660 - sparse_categorical_accuracy: 0.8591 - val_loss: 0.3793 - val_sparse_categorical_accuracy: 0.8513\n",
            "Epoch 62/200\n",
            "145/145 [==============================] - 15s 103ms/step - loss: 0.3651 - sparse_categorical_accuracy: 0.8578 - val_loss: 0.3793 - val_sparse_categorical_accuracy: 0.8534\n",
            "Epoch 63/200\n",
            "145/145 [==============================] - 15s 103ms/step - loss: 0.3686 - sparse_categorical_accuracy: 0.8567 - val_loss: 0.3786 - val_sparse_categorical_accuracy: 0.8530\n",
            "Epoch 64/200\n",
            "145/145 [==============================] - 15s 102ms/step - loss: 0.3636 - sparse_categorical_accuracy: 0.8545 - val_loss: 0.3786 - val_sparse_categorical_accuracy: 0.8552\n",
            "Epoch 65/200\n",
            "145/145 [==============================] - 15s 102ms/step - loss: 0.3630 - sparse_categorical_accuracy: 0.8565 - val_loss: 0.3795 - val_sparse_categorical_accuracy: 0.8547\n",
            "Epoch 66/200\n",
            "145/145 [==============================] - 15s 102ms/step - loss: 0.3628 - sparse_categorical_accuracy: 0.8602 - val_loss: 0.3790 - val_sparse_categorical_accuracy: 0.8522\n",
            "Epoch 67/200\n",
            "145/145 [==============================] - 15s 102ms/step - loss: 0.3650 - sparse_categorical_accuracy: 0.8587 - val_loss: 0.3787 - val_sparse_categorical_accuracy: 0.8517\n",
            "Epoch 68/200\n",
            "145/145 [==============================] - 15s 103ms/step - loss: 0.3604 - sparse_categorical_accuracy: 0.8582 - val_loss: 0.3782 - val_sparse_categorical_accuracy: 0.8522\n",
            "Epoch 69/200\n",
            "145/145 [==============================] - 15s 102ms/step - loss: 0.3618 - sparse_categorical_accuracy: 0.8580 - val_loss: 0.3780 - val_sparse_categorical_accuracy: 0.8526\n",
            "Epoch 70/200\n",
            "145/145 [==============================] - 15s 102ms/step - loss: 0.3617 - sparse_categorical_accuracy: 0.8591 - val_loss: 0.3781 - val_sparse_categorical_accuracy: 0.8522\n",
            "Epoch 71/200\n",
            "145/145 [==============================] - 15s 103ms/step - loss: 0.3601 - sparse_categorical_accuracy: 0.8597 - val_loss: 0.3781 - val_sparse_categorical_accuracy: 0.8526\n",
            "Epoch 72/200\n",
            "145/145 [==============================] - 15s 103ms/step - loss: 0.3588 - sparse_categorical_accuracy: 0.8599 - val_loss: 0.3790 - val_sparse_categorical_accuracy: 0.8552\n",
            "Epoch 73/200\n",
            "145/145 [==============================] - 15s 103ms/step - loss: 0.3567 - sparse_categorical_accuracy: 0.8590 - val_loss: 0.3799 - val_sparse_categorical_accuracy: 0.8552\n",
            "Epoch 74/200\n",
            "145/145 [==============================] - 15s 103ms/step - loss: 0.3604 - sparse_categorical_accuracy: 0.8576 - val_loss: 0.3784 - val_sparse_categorical_accuracy: 0.8522\n",
            "Epoch 75/200\n",
            "145/145 [==============================] - 15s 103ms/step - loss: 0.3585 - sparse_categorical_accuracy: 0.8619 - val_loss: 0.3788 - val_sparse_categorical_accuracy: 0.8543\n",
            "Epoch 76/200\n",
            "145/145 [==============================] - 15s 102ms/step - loss: 0.3592 - sparse_categorical_accuracy: 0.8601 - val_loss: 0.3776 - val_sparse_categorical_accuracy: 0.8526\n",
            "Epoch 77/200\n",
            "145/145 [==============================] - 15s 103ms/step - loss: 0.3564 - sparse_categorical_accuracy: 0.8602 - val_loss: 0.3774 - val_sparse_categorical_accuracy: 0.8530\n",
            "Epoch 78/200\n",
            "145/145 [==============================] - 15s 103ms/step - loss: 0.3572 - sparse_categorical_accuracy: 0.8611 - val_loss: 0.3797 - val_sparse_categorical_accuracy: 0.8547\n",
            "Epoch 79/200\n",
            "145/145 [==============================] - 15s 103ms/step - loss: 0.3569 - sparse_categorical_accuracy: 0.8613 - val_loss: 0.3793 - val_sparse_categorical_accuracy: 0.8547\n",
            "Epoch 80/200\n",
            "145/145 [==============================] - 15s 103ms/step - loss: 0.3542 - sparse_categorical_accuracy: 0.8610 - val_loss: 0.3782 - val_sparse_categorical_accuracy: 0.8552\n",
            "Epoch 81/200\n",
            "145/145 [==============================] - 15s 102ms/step - loss: 0.3563 - sparse_categorical_accuracy: 0.8599 - val_loss: 0.3775 - val_sparse_categorical_accuracy: 0.8534\n",
            "Epoch 82/200\n",
            "145/145 [==============================] - 15s 102ms/step - loss: 0.3562 - sparse_categorical_accuracy: 0.8613 - val_loss: 0.3774 - val_sparse_categorical_accuracy: 0.8534\n",
            "Epoch 83/200\n",
            "145/145 [==============================] - 15s 102ms/step - loss: 0.3538 - sparse_categorical_accuracy: 0.8609 - val_loss: 0.3775 - val_sparse_categorical_accuracy: 0.8556\n",
            "Epoch 84/200\n",
            "145/145 [==============================] - 15s 102ms/step - loss: 0.3569 - sparse_categorical_accuracy: 0.8604 - val_loss: 0.3771 - val_sparse_categorical_accuracy: 0.8526\n",
            "Epoch 85/200\n",
            "145/145 [==============================] - 15s 102ms/step - loss: 0.3528 - sparse_categorical_accuracy: 0.8613 - val_loss: 0.3777 - val_sparse_categorical_accuracy: 0.8534\n",
            "Epoch 86/200\n",
            "145/145 [==============================] - 15s 102ms/step - loss: 0.3538 - sparse_categorical_accuracy: 0.8604 - val_loss: 0.3777 - val_sparse_categorical_accuracy: 0.8522\n",
            "Epoch 87/200\n",
            "145/145 [==============================] - 15s 103ms/step - loss: 0.3537 - sparse_categorical_accuracy: 0.8629 - val_loss: 0.3775 - val_sparse_categorical_accuracy: 0.8539\n",
            "Epoch 88/200\n",
            "145/145 [==============================] - 15s 103ms/step - loss: 0.3525 - sparse_categorical_accuracy: 0.8610 - val_loss: 0.3780 - val_sparse_categorical_accuracy: 0.8547\n",
            "Epoch 89/200\n",
            "145/145 [==============================] - 15s 102ms/step - loss: 0.3524 - sparse_categorical_accuracy: 0.8628 - val_loss: 0.3781 - val_sparse_categorical_accuracy: 0.8556\n",
            "Epoch 90/200\n",
            "145/145 [==============================] - 15s 102ms/step - loss: 0.3513 - sparse_categorical_accuracy: 0.8642 - val_loss: 0.3778 - val_sparse_categorical_accuracy: 0.8513\n",
            "Epoch 91/200\n",
            "145/145 [==============================] - 15s 102ms/step - loss: 0.3516 - sparse_categorical_accuracy: 0.8629 - val_loss: 0.3780 - val_sparse_categorical_accuracy: 0.8530\n",
            "Epoch 92/200\n",
            "145/145 [==============================] - 15s 103ms/step - loss: 0.3490 - sparse_categorical_accuracy: 0.8627 - val_loss: 0.3769 - val_sparse_categorical_accuracy: 0.8547\n",
            "Epoch 93/200\n",
            "145/145 [==============================] - 15s 103ms/step - loss: 0.3503 - sparse_categorical_accuracy: 0.8645 - val_loss: 0.3772 - val_sparse_categorical_accuracy: 0.8534\n",
            "Epoch 94/200\n",
            "145/145 [==============================] - 15s 103ms/step - loss: 0.3513 - sparse_categorical_accuracy: 0.8608 - val_loss: 0.3775 - val_sparse_categorical_accuracy: 0.8534\n",
            "Epoch 95/200\n",
            "145/145 [==============================] - 15s 102ms/step - loss: 0.3496 - sparse_categorical_accuracy: 0.8623 - val_loss: 0.3780 - val_sparse_categorical_accuracy: 0.8526\n",
            "Epoch 96/200\n",
            "145/145 [==============================] - 15s 103ms/step - loss: 0.3519 - sparse_categorical_accuracy: 0.8635 - val_loss: 0.3778 - val_sparse_categorical_accuracy: 0.8534\n",
            "Epoch 97/200\n",
            "145/145 [==============================] - 15s 102ms/step - loss: 0.3463 - sparse_categorical_accuracy: 0.8639 - val_loss: 0.3778 - val_sparse_categorical_accuracy: 0.8539\n",
            "Epoch 98/200\n",
            "145/145 [==============================] - 15s 102ms/step - loss: 0.3432 - sparse_categorical_accuracy: 0.8636 - val_loss: 0.3787 - val_sparse_categorical_accuracy: 0.8517\n",
            "Epoch 99/200\n",
            "145/145 [==============================] - 15s 102ms/step - loss: 0.3464 - sparse_categorical_accuracy: 0.8657 - val_loss: 0.3780 - val_sparse_categorical_accuracy: 0.8526\n",
            "Epoch 100/200\n",
            "145/145 [==============================] - 15s 102ms/step - loss: 0.3423 - sparse_categorical_accuracy: 0.8661 - val_loss: 0.3779 - val_sparse_categorical_accuracy: 0.8534\n",
            "Epoch 101/200\n",
            "145/145 [==============================] - 15s 103ms/step - loss: 0.3479 - sparse_categorical_accuracy: 0.8650 - val_loss: 0.3777 - val_sparse_categorical_accuracy: 0.8534\n",
            "Epoch 102/200\n",
            "145/145 [==============================] - 15s 102ms/step - loss: 0.3489 - sparse_categorical_accuracy: 0.8633 - val_loss: 0.3774 - val_sparse_categorical_accuracy: 0.8534\n"
          ]
        }
      ],
      "source": [
        "input_shape = x_train.shape[1:]\n",
        "\n",
        "model = build_model(\n",
        "    input_shape,\n",
        "    head_size=256,\n",
        "    num_heads=4,\n",
        "    ff_dim=4,\n",
        "    num_transformer_blocks=4,\n",
        "    mlp_units=[128],\n",
        "    mlp_dropout=0.4,\n",
        "    dropout=0.25,\n",
        ")\n",
        "\n",
        "model.compile(\n",
        "    loss=\"sparse_categorical_crossentropy\",\n",
        "    optimizer=keras.optimizers.Adam(learning_rate=1e-4),\n",
        "    metrics=[\"sparse_categorical_accuracy\"],\n",
        ")\n",
        "model.summary()\n",
        "\n",
        "callbacks = [keras.callbacks.EarlyStopping(patience=10, restore_best_weights=True)]\n",
        "\n",
        "history=model.fit(\n",
        "    x_train,\n",
        "    y_train,\n",
        "    validation_split=0.2,\n",
        "    epochs=200,\n",
        "    batch_size=64,\n",
        "    callbacks=callbacks,\n",
        ")\n"
      ]
    },
    {
      "cell_type": "code",
      "source": [
        "import matplotlib.pyplot as plt\n",
        "\n",
        "# Plot the training and validation accuracy over epochs\n",
        "plt.plot(history.history['sparse_categorical_accuracy'], label='Training Accuracy')\n",
        "plt.plot(history.history['val_sparse_categorical_accuracy'], label='Validation Accuracy')\n",
        "plt.xlabel('Epoch')\n",
        "plt.ylabel('Accuracy')\n",
        "plt.ylim([0, 1])\n",
        "plt.legend(loc='lower right')\n",
        "plt.show()\n",
        "\n",
        "# Plot the training and validation loss over epochs\n",
        "plt.plot(history.history['loss'], label='Training Loss')\n",
        "plt.plot(history.history['val_loss'], label='Validation Loss')\n",
        "plt.xlabel('Epoch')\n",
        "plt.ylabel('Loss')\n",
        "plt.legend(loc='upper right')\n",
        "plt.show()\n"
      ],
      "metadata": {
        "id": "Y_Z2ZOXat02p",
        "colab": {
          "base_uri": "https://localhost:8080/",
          "height": 887
        },
        "outputId": "753e36c7-1d90-4d46-8256-021abd87843b"
      },
      "execution_count": 29,
      "outputs": [
        {
          "output_type": "display_data",
          "data": {
            "text/plain": [
              "<Figure size 640x480 with 1 Axes>"
            ],
            "image/png": "[encoded data removed]"
          },
          "metadata": {}
        },
        {
          "output_type": "display_data",
          "data": {
            "text/plain": [
              "<Figure size 640x480 with 1 Axes>"
            ],
            "image/png": "[encoded data removed]"
          },
          "metadata": {}
        }
      ]
    },
    {
      "cell_type": "code",
      "execution_count": 30,
      "metadata": {
        "id": "CJPGAOfCXdbQ",
        "colab": {
          "base_uri": "https://localhost:8080/"
        },
        "outputId": "0a95bf47-3889-4cdd-baf6-893b6912048e"
      },
      "outputs": [
        {
          "output_type": "stream",
          "name": "stdout",
          "text": [
            "363/363 [==============================] - 7s 17ms/step\n"
          ]
        }
      ],
      "source": [
        "from sklearn.metrics import roc_auc_score\n",
        "\n",
        "y_train_pred = model.predict(x_train)\n",
        "# Convert probabilities to binary predictions\n",
        "y_train_pred_binary = np.argmax(y_train_pred, axis=1) # Choose the class with the highest probability\n"
      ]
    },
    {
      "cell_type": "code",
      "execution_count": 31,
      "metadata": {
        "id": "Sy0ek675ZiFH",
        "colab": {
          "base_uri": "https://localhost:8080/"
        },
        "outputId": "c6328d4e-d7c8-47c6-d9f9-c39cf1fc12cc"
      },
      "outputs": [
        {
          "output_type": "stream",
          "name": "stdout",
          "text": [
            "Accuracy (train): 0.8641\n",
            "AUC (train): 0.8236\n"
          ]
        }
      ],
      "source": [
        "from sklearn.metrics import accuracy_score, confusion_matrix, classification_report, roc_curve, auc, roc_auc_score\n",
        "accuracy_train = accuracy_score(y_train, y_train_pred_binary)\n",
        "auc_train = roc_auc_score(y_train, y_train_pred[:, 1])\n",
        "\n",
        "print(f'Accuracy (train): {accuracy_train:.4f}')\n",
        "print(f'AUC (train): {auc_train:.4f}')\n"
      ]
    },
    {
      "cell_type": "code",
      "execution_count": 32,
      "metadata": {
        "id": "GeA1W5inTJF5",
        "colab": {
          "base_uri": "https://localhost:8080/"
        },
        "outputId": "d6a3cb1b-7308-461c-9c24-8d80394fd55f"
      },
      "outputs": [
        {
          "output_type": "stream",
          "name": "stdout",
          "text": [
            "For training set:\n",
            "Precision: 0.822\n",
            "Recall: 0.2864\n",
            "F1 Score: 0.4248 \n",
            "\n"
          ]
        }
      ],
      "source": [
        "from sklearn.metrics import precision_score, recall_score, f1_score\n",
        "# Calculate precision, recall, and F1 score\n",
        "precision = precision_score(y_train, y_train_pred_binary)\n",
        "recall = recall_score(y_train, y_train_pred_binary)\n",
        "f1 = f1_score(y_train, y_train_pred_binary)\n",
        "\n",
        "# Print with 4 digits limit\n",
        "print(\"For training set:\")\n",
        "print(\"Precision:\", round(precision, 4))\n",
        "print(\"Recall:\", round(recall, 4))\n",
        "print(\"F1 Score:\", round(f1, 4),\"\\n\")"
      ]
    },
    {
      "cell_type": "markdown",
      "source": [
        "## Export prediction"
      ],
      "metadata": {
        "id": "z-wKWgSmudgB"
      }
    },
    {
      "cell_type": "code",
      "source": [
        "y_test_pred = model.predict(x_test)\n",
        "y_test_pred_binary = np.argmax(y_test_pred, axis=1)"
      ],
      "metadata": {
        "id": "Y6B7uK6asv-A",
        "colab": {
          "base_uri": "https://localhost:8080/"
        },
        "outputId": "a75568f6-dc0c-4fab-f97b-723ebdfdb269"
      },
      "execution_count": 49,
      "outputs": [
        {
          "output_type": "stream",
          "name": "stdout",
          "text": [
            "92/92 [==============================] - 2s 25ms/step\n"
          ]
        }
      ]
    },
    {
      "cell_type": "code",
      "source": [
        "# Assuming y_test_pred_binary is a numpy array\n",
        "predictions_df = pd.DataFrame(y_test_pred_binary, columns=['readmitted_within_30days'])\n",
        "merged_df = test[['id']].merge(predictions_df, left_index=True, right_index=True)\n",
        "merged_df.to_csv('predictions.csv', index=False)\n",
        "\n",
        "from google.colab import files\n",
        "files.download('predictions.csv')"
      ],
      "metadata": {
        "id": "LjjuObbnsyw_",
        "colab": {
          "base_uri": "https://localhost:8080/",
          "height": 17
        },
        "outputId": "582fc943-2154-404a-c876-8a46156186f8"
      },
      "execution_count": 52,
      "outputs": [
        {
          "output_type": "display_data",
          "data": {
            "text/plain": [
              "<IPython.core.display.Javascript object>"
            ],
            "application/javascript": [
              "\n",
              "    async function download(id, filename, size) {\n",
              "      if (!google.colab.kernel.accessAllowed) {\n",
              "        return;\n",
              "      }\n",
              "      const div = document.createElement('div');\n",
              "      const label = document.createElement('label');\n",
              "      label.textContent = `Downloading \"${filename}\": `;\n",
              "      div.appendChild(label);\n",
              "      const progress = document.createElement('progress');\n",
              "      progress.max = size;\n",
              "      div.appendChild(progress);\n",
              "      document.body.appendChild(div);\n",
              "\n",
              "      const buffers = [];\n",
              "      let downloaded = 0;\n",
              "\n",
              "      const channel = await google.colab.kernel.comms.open(id);\n",
              "      // Send a message to notify the kernel that we're ready.\n",
              "      channel.send({})\n",
              "\n",
              "      for await (const message of channel.messages) {\n",
              "        // Send a message to notify the kernel that we're ready.\n",
              "        channel.send({})\n",
              "        if (message.buffers) {\n",
              "          for (const buffer of message.buffers) {\n",
              "            buffers.push(buffer);\n",
              "            downloaded += buffer.byteLength;\n",
              "            progress.value = downloaded;\n",
              "          }\n",
              "        }\n",
              "      }\n",
              "      const blob = new Blob(buffers, {type: 'application/binary'});\n",
              "      const a = document.createElement('a');\n",
              "      a.href = window.URL.createObjectURL(blob);\n",
              "      a.download = filename;\n",
              "      div.appendChild(a);\n",
              "      a.click();\n",
              "      div.remove();\n",
              "    }\n",
              "  "
            ]
          },
          "metadata": {}
        },
        {
          "output_type": "display_data",
          "data": {
            "text/plain": [
              "<IPython.core.display.Javascript object>"
            ],
            "application/javascript": [
              "download(\"download_0bb15b92-f53e-4261-95c8-29495b65f52d\", \"predictions.csv\", 58748)"
            ]
          },
          "metadata": {}
        }
      ]
    },
    {
      "cell_type": "markdown",
      "source": [
        "##Hyperparameter Tuning"
      ],
      "metadata": {
        "id": "hVdaA92rViHu"
      }
    },
    {
      "cell_type": "markdown",
      "source": [
        "from sklearn.model_selection import train_test_split\n",
        "\n",
        "# Define the hyperparameters to search over\n",
        "hyperparameters = {\n",
        "    'head_size': [128, 256, 512],\n",
        "    'num_heads': [2, 4, 8],\n",
        "    'ff_dim': [4, 8, 16],\n",
        "    'num_transformer_blocks': [2, 4, 6],\n",
        "    'mlp_units': [[64], [128], [256]],\n",
        "    'mlp_dropout': [0.2, 0.4, 0.6],\n",
        "    'dropout': [0.2, 0.25, 0.3],\n",
        "}\n",
        "\n",
        "def train_and_evaluate_model(input_shape, head_size, num_heads, ff_dim, num_transformer_blocks, mlp_units, mlp_dropout, dropout, x_train, y_train, x_val, y_val):\n",
        "    # Build the model with the given hyperparameters\n",
        "    model = build_model(input_shape, head_size, num_heads, ff_dim, num_transformer_blocks, mlp_units, mlp_dropout, dropout)\n",
        "    model.compile(\n",
        "    loss=\"sparse_categorical_crossentropy\",\n",
        "    optimizer=keras.optimizers.Adam(learning_rate=1e-4),\n",
        "    metrics=[\"sparse_categorical_accuracy\"],\n",
        ")\n",
        "    # Train the model\n",
        "    model.fit(\n",
        "    x_train,\n",
        "    y_train,\n",
        "    validation_split=0.2,\n",
        "    # 200 originally\n",
        "    epochs=10,\n",
        "    batch_size=64,\n",
        "    callbacks=callbacks,\n",
        ")\n",
        "    # Evaluate the model\n",
        "    score = model.evaluate(x_val, y_val, verbose=0)\n",
        "\n",
        "    return score[1]  # Return the validation metric (e.g., accuracy)\n",
        "\n",
        "# Split the data into training and validation sets\n",
        "X_train, X_val, Y_train, Y_val = train_test_split(x_train, y_train, test_size=0.2, random_state=42)\n",
        "\n",
        "best_score = 0\n",
        "best_hyperparameters = None\n",
        "\n",
        "# Iterate over different sets of hyperparameters and train/evaluate the model\n",
        "for head_size in hyperparameters['head_size']:\n",
        "    for num_heads in hyperparameters['num_heads']:\n",
        "        for ff_dim in hyperparameters['ff_dim']:\n",
        "            for num_transformer_blocks in hyperparameters['num_transformer_blocks']:\n",
        "                for mlp_units in hyperparameters['mlp_units']:\n",
        "                    for mlp_dropout in hyperparameters['mlp_dropout']:\n",
        "                        for dropout in hyperparameters['dropout']:\n",
        "                            score = train_and_evaluate_model(input_shape, head_size, num_heads, ff_dim, num_transformer_blocks, mlp_units, mlp_dropout, dropout, X_train, Y_train, X_val, Y_val)\n",
        "                            if score > best_score:\n",
        "                                best_score = score\n",
        "                                best_hyperparameters = {\n",
        "                                    'head_size': head_size,\n",
        "                                    'num_heads': num_heads,\n",
        "                                    'ff_dim': ff_dim,\n",
        "                                    'num_transformer_blocks': num_transformer_blocks,\n",
        "                                    'mlp_units': mlp_units,\n",
        "                                    'mlp_dropout': mlp_dropout,\n",
        "                                    'dropout': dropout,\n",
        "                                }\n",
        "\n",
        "print(\"Best parameters:\", best_hyperparameters)\n",
        "print(\"Best score:\", best_score)\n"
      ],
      "metadata": {
        "id": "hijabv40XAU_"
      }
    },
    {
      "cell_type": "markdown",
      "metadata": {
        "id": "_ZYqswcwAVxo"
      },
      "source": [
        "## Conclusions\n",
        "\n",
        "In about 110-120 epochs (25s each on Colab), the model reaches a training\n",
        "accuracy of ~0.95, validation accuracy of ~84 and a testing\n",
        "accuracy of ~85, without hyperparameter tuning. And that is for a model\n",
        "with less than 100k parameters. Of course, parameter count and accuracy could be\n",
        "improved by a hyperparameter search and a more sophisticated learning rate\n",
        "schedule, or a different optimizer.\n",
        "\n",
        "You can use the trained model hosted on [Hugging Face Hub](https://huggingface.co/keras-io/timeseries_transformer_classification) and try the demo on [Hugging Face Spaces](https://huggingface.co/spaces/keras-io/timeseries_transformer_classification)."
      ]
    },
    {
      "cell_type": "code",
      "source": [
        "from sklearn.model_selection import train_test_split\n",
        "\n",
        "# Define the hyperparameters to search over\n",
        "hyperparameters = {\n",
        "    'head_size': [128, 256, 512],\n",
        "    'num_heads': [2, 4, 8],\n",
        "    'ff_dim': [4, 8, 16],\n",
        "    'num_transformer_blocks': [2, 4, 6],\n",
        "    'mlp_units': [[64], [128], [256]],\n",
        "    'mlp_dropout': [0.2, 0.4, 0.6],\n",
        "    'dropout': [0.2, 0.25, 0.3],\n",
        "}\n",
        "\n",
        "def train_and_evaluate_model(input_shape, head_size, num_heads, ff_dim, num_transformer_blocks, mlp_units, mlp_dropout, dropout, x_train, y_train, x_val, y_val):\n",
        "    # Build the model with the given hyperparameters\n",
        "    model = build_model(input_shape, head_size, num_heads, ff_dim, num_transformer_blocks, mlp_units, mlp_dropout, dropout)\n",
        "    model.compile(\n",
        "    loss=\"sparse_categorical_crossentropy\",\n",
        "    optimizer=keras.optimizers.Adam(learning_rate=1e-4),\n",
        "    metrics=[\"sparse_categorical_accuracy\"],\n",
        ")\n",
        "    # Train the model\n",
        "    model.fit(\n",
        "    x_train,\n",
        "    y_train,\n",
        "    validation_split=0.2,\n",
        "    # 200 originally\n",
        "    epochs=10,\n",
        "    batch_size=64,\n",
        "    callbacks=callbacks,\n",
        ")\n",
        "    # Evaluate the model\n",
        "    score = model.evaluate(x_val, y_val, verbose=0)\n",
        "\n",
        "    return score[1]  # Return the validation metric (e.g., accuracy)\n",
        "\n",
        "# Split the data into training and validation sets\n",
        "X_train, X_val, Y_train, Y_val = train_test_split(x_train, y_train, test_size=0.2, random_state=42)\n",
        "\n",
        "best_score = 0\n",
        "best_hyperparameters = None\n",
        "\n",
        "# Iterate over different sets of hyperparameters and train/evaluate the model\n",
        "for head_size in hyperparameters['head_size']:\n",
        "    for num_heads in hyperparameters['num_heads']:\n",
        "        for ff_dim in hyperparameters['ff_dim']:\n",
        "            for num_transformer_blocks in hyperparameters['num_transformer_blocks']:\n",
        "                for mlp_units in hyperparameters['mlp_units']:\n",
        "                    for mlp_dropout in hyperparameters['mlp_dropout']:\n",
        "                        for dropout in hyperparameters['dropout']:\n",
        "                            score = train_and_evaluate_model(input_shape, head_size, num_heads, ff_dim, num_transformer_blocks, mlp_units, mlp_dropout, dropout, X_train, Y_train, X_val, Y_val)\n",
        "                            if score > best_score:\n",
        "                                best_score = score\n",
        "                                best_hyperparameters = {\n",
        "                                    'head_size': head_size,\n",
        "                                    'num_heads': num_heads,\n",
        "                                    'ff_dim': ff_dim,\n",
        "                                    'num_transformer_blocks': num_transformer_blocks,\n",
        "                                    'mlp_units': mlp_units,\n",
        "                                    'mlp_dropout': mlp_dropout,\n",
        "                                    'dropout': dropout,\n",
        "                                }\n",
        "\n",
        "print(\"Best parameters:\", best_hyperparameters)\n",
        "print(\"Best score:\", best_score)\n"
      ],
      "metadata": {
        "id": "ty87brtRKIAW"
      },
      "execution_count": null,
      "outputs": []
    }
  ],
  "metadata": {
    "colab": {
      "provenance": [],
      "gpuType": "T4",
      "include_colab_link": true
    },
    "kernelspec": {
      "display_name": "Python 3",
      "name": "python3"
    },
    "language_info": {
      "codemirror_mode": {
        "name": "ipython",
        "version": 3
      },
      "file_extension": ".py",
      "mimetype": "text/x-python",
      "name": "python",
      "nbconvert_exporter": "python",
      "pygments_lexer": "ipython3",
      "version": "3.7.0"
    },
    "accelerator": "GPU"
  },
  "nbformat": 4,
  "nbformat_minor": 0
}