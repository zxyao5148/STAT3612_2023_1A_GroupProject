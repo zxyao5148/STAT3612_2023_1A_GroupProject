{
  "cells": [
    {
      "cell_type": "markdown",
      "metadata": {
        "id": "view-in-github",
        "colab_type": "text"
      },
      "source": [
        "<a href=\"https://colab.research.google.com/github/zxyao5148/STAT3612_2023_1A_GroupProject/blob/main/RNN_Transformer/Data_prerocess.ipynb\" target=\"_parent\"><img src=\"https://colab.research.google.com/assets/colab-badge.svg\" alt=\"Open In Colab\"/></a>"
      ]
    },
    {
      "cell_type": "markdown",
      "metadata": {
        "id": "Hk02EmAvZ5Jo"
      },
      "source": [
        "## **STAT3612 Group Project** ##\n",
        "Hospital readmission prediction based on patients' Electronic Health Record (EHR) data from MIMIC-IV v1.0"
      ]
    },
    {
      "cell_type": "code",
      "execution_count": 148,
      "metadata": {
        "id": "FXpqeUX9E1wM"
      },
      "outputs": [],
      "source": [
        "# import libraries\n",
        "import numpy as np\n",
        "import pandas as pd\n",
        "import matplotlib.pyplot as plt\n",
        "import seaborn as sns"
      ]
    },
    {
      "cell_type": "code",
      "execution_count": 149,
      "metadata": {
        "colab": {
          "base_uri": "https://localhost:8080/"
        },
        "id": "JJZ58lpvW0WZ",
        "outputId": "c4a49d80-2b1e-4f0c-d9c6-29e99d6fb4ba"
      },
      "outputs": [
        {
          "output_type": "stream",
          "name": "stdout",
          "text": [
            "Drive already mounted at /content/drive; to attempt to forcibly remount, call drive.mount(\"/content/drive\", force_remount=True).\n"
          ]
        }
      ],
      "source": [
        "from google.colab import drive\n",
        "drive.mount('/content/drive')"
      ]
    },
    {
      "cell_type": "code",
      "execution_count": 165,
      "metadata": {
        "colab": {
          "base_uri": "https://localhost:8080/"
        },
        "id": "vkZgjEiqWEIM",
        "outputId": "5d28b5b2-a211-4c5f-ab45-39a319db5751"
      },
      "outputs": [
        {
          "output_type": "stream",
          "name": "stdout",
          "text": [
            "(17933, 12)\n",
            "(55941, 13)\n",
            "(13598, 13)\n"
          ]
        }
      ],
      "source": [
        "# Import data for predicting readmission\n",
        "\n",
        "EHR = pd.read_pickle('/content/drive/MyDrive/3612/ehr_preprocessed_seq_by_day_cat_embedding.pkl')\n",
        "test = pd.read_csv('/content/drive/MyDrive/3612/test.csv')\n",
        "train_original = pd.read_csv('/content/drive/MyDrive/3612/train.csv')\n",
        "valid_original = pd.read_csv('/content/drive/MyDrive/3612/valid.csv')\n",
        "\n",
        "print(test.shape)\n",
        "print(train_original.shape)\n",
        "print(valid_original.shape)"
      ]
    },
    {
      "cell_type": "code",
      "execution_count": 166,
      "metadata": {
        "colab": {
          "base_uri": "https://localhost:8080/"
        },
        "id": "9ZzlP5FH60p_",
        "outputId": "4e651720-1a49-4dae-b764-5731289a5d70"
      },
      "outputs": [
        {
          "output_type": "execute_result",
          "data": {
            "text/plain": [
              "(69539, 13)"
            ]
          },
          "metadata": {},
          "execution_count": 166
        }
      ],
      "source": [
        "train = pd.concat([train_original,valid_original], ignore_index=True)\n",
        "train.shape"
      ]
    },
    {
      "cell_type": "code",
      "execution_count": 167,
      "metadata": {
        "id": "OsecKmFzkQ9w"
      },
      "outputs": [],
      "source": [
        "train['deathtime'] = np.where(train['deathtime'].notnull(), 1, 0)\n",
        "test['deathtime'] = np.where(test['deathtime'].notnull(), 1, 0)"
      ]
    },
    {
      "cell_type": "code",
      "source": [
        "# Calculate the number of repeated occurrences for each 'id'\n",
        "id_counts = train['id'].value_counts()\n",
        "\n",
        "# Create a new column 'times of study' to assign the values to the corresponding id\n",
        "train['times of study'] = train['id'].map(id_counts)\n",
        "\n",
        "train['StudyDate'] = pd.to_datetime(train['StudyDate'], format='%Y%m%d')\n",
        "train_latest_date_idxs = train.groupby('id')['StudyDate'].idxmax()\n",
        "train=train.loc[train_latest_date_idxs]\n",
        "\n",
        "train[\"admittime\"] = pd.to_datetime(train[\"admittime\"])\n",
        "train[\"dischtime\"] = pd.to_datetime(train[\"dischtime\"])\n",
        "# Sort the DataFrame by \"subject_id\" and \"admittime\"\n",
        "train.sort_values(by=[\"subject_id\", \"admittime\"], inplace=True)\n",
        "\n",
        "# Calculate the number of repeated occurrences for each 'id'\n",
        "id_counts = test['id'].value_counts()\n",
        "\n",
        "# Create a new column 'times of study' to assign the values to the corresponding id\n",
        "test['times of study'] = test['id'].map(id_counts)\n",
        "\n",
        "test['StudyDate'] = pd.to_datetime(test['StudyDate'], format='%Y%m%d')\n",
        "test_latest_date_idxs = test.groupby('id')['StudyDate'].idxmax()\n",
        "test=test.loc[test_latest_date_idxs]\n",
        "\n",
        "test[\"admittime\"] = pd.to_datetime(test[\"admittime\"])\n",
        "test[\"dischtime\"] = pd.to_datetime(test[\"dischtime\"])\n",
        "# Sort the DataFrame by \"subject_id\" and \"admittime\"\n",
        "test.sort_values(by=[\"subject_id\", \"admittime\"], inplace=True)"
      ],
      "metadata": {
        "id": "6XGK0KjMn47J"
      },
      "execution_count": 168,
      "outputs": []
    },
    {
      "cell_type": "code",
      "source": [
        "# Calculate the time differences for each \"subject_id\"\n",
        "train[\"admittime_diff\"] = train.groupby(\"subject_id\")[\"admittime\"].diff().dt.total_seconds()\n",
        "train[\"dischtime_diff\"] = train.groupby(\"subject_id\")[\"dischtime\"].diff().dt.total_seconds()\n",
        "\n",
        "# Calculate the mean time difference for each \"subject_id\"\n",
        "mean_admittime_diff = train.groupby(\"subject_id\")[\"admittime_diff\"].mean()\n",
        "mean_dischtime_diff = train.groupby(\"subject_id\")[\"dischtime_diff\"].mean()\n",
        "\n",
        "# Create a new column to assign the means to the corresponding \"subject_id\"\n",
        "train[\"mean_admittime_diff\"] = train[\"subject_id\"].map(mean_admittime_diff)\n",
        "train[\"mean_dischtime_diff\"] = train[\"subject_id\"].map(mean_dischtime_diff)\n",
        "\n",
        "# Calculate the time differences for each \"subject_id\"\n",
        "test[\"admittime_diff\"] = test.groupby(\"subject_id\")[\"admittime\"].diff().dt.total_seconds()\n",
        "test[\"dischtime_diff\"] = test.groupby(\"subject_id\")[\"dischtime\"].diff().dt.total_seconds()\n",
        "\n",
        "# Calculate the mean time difference for each \"subject_id\"\n",
        "mean_admittime_diff = test.groupby(\"subject_id\")[\"admittime_diff\"].mean()\n",
        "mean_dischtime_diff = test.groupby(\"subject_id\")[\"dischtime_diff\"].mean()\n",
        "\n",
        "# Create a new column to assign the means to the corresponding \"subject_id\"\n",
        "test[\"mean_admittime_diff\"] = test[\"subject_id\"].map(mean_admittime_diff)\n",
        "test[\"mean_dischtime_diff\"] = test[\"subject_id\"].map(mean_dischtime_diff)"
      ],
      "metadata": {
        "id": "bEfzirxypG4h"
      },
      "execution_count": 169,
      "outputs": []
    },
    {
      "cell_type": "code",
      "execution_count": 170,
      "metadata": {
        "id": "9V_8hOVlIaTl"
      },
      "outputs": [],
      "source": [
        "# add two new predictors (length of stay + previous number of admissions)\n",
        "# length of stay\n",
        "test_masked['dischtime'] = pd.to_datetime(test_masked['dischtime'])\n",
        "test_masked['admittime'] = pd.to_datetime(test_masked['admittime'])\n",
        "test_masked['stay_len'] = (test_masked['dischtime'] - test_masked['admittime']).dt.days\n",
        "train_masked['dischtime'] = pd.to_datetime(train_masked['dischtime'])\n",
        "train_masked['admittime'] = pd.to_datetime(train_masked['admittime'])\n",
        "train_masked['stay_len'] = (train_masked['dischtime'] - train_masked['admittime']).dt.days\n",
        "\n",
        "# previous number of admissions\n",
        "test_masked = test_masked.sort_values('admittime')\n",
        "test_masked['prev_admits'] = test_masked.groupby('subject_id').cumcount()\n",
        "train_masked = train_masked.sort_values('admittime')\n",
        "train_masked['prev_admits'] = train_masked.groupby('subject_id').cumcount()"
      ]
    },
    {
      "cell_type": "code",
      "source": [
        "train = train.drop(train.columns[11], axis=1)\n",
        "train = train.drop(train.columns[6:10], axis=1)\n",
        "\n",
        "test = test.drop(test.columns[11], axis=1)\n",
        "test = test.drop(test.columns[6:10], axis=1)"
      ],
      "metadata": {
        "id": "YCsMm4257aBV"
      },
      "execution_count": 171,
      "outputs": []
    },
    {
      "cell_type": "code",
      "execution_count": 174,
      "metadata": {
        "colab": {
          "base_uri": "https://localhost:8080/",
          "height": 151
        },
        "id": "By6SF3BWX69-",
        "outputId": "6fffff63-2f1c-436a-903b-e06c6537fc76"
      },
      "outputs": [
        {
          "output_type": "execute_result",
          "data": {
            "text/plain": [
              "Empty DataFrame\n",
              "Columns: [id, number of studies, age, gender, ethnicity, Y90-Y99, G30-G32, O85-O92, C60-C63, F40-F48, M80-M85, R00-R09, J90-J94, A00-A09, E00-E07, F01-F09, F30-F39, H30-H36, D60-D64, N00-N08, F60-F69, I80-I89, I95-I99, N30-N39, K55-K64, F50-F59, R40-R46, J60-J70, N20-N23, I30-I52, R50-R69, B25-B34, C00-C14, D65-D69, C73-C75, G35-G37, E70-E88, K20-K31, C30-C39, I70-I79, M60-M63, A20-A28, N10-N16, E89-E89, R70-R79, C7B-C7B, M50-M54, A30-A49, F20-F29, G89-G99, R30-R39, J30-J39, N25-N29, Q65-Q79, G20-G26, B20-B20, K65-K68, R10-R19, E65-E68, B65-B83, E40-E46, F70-F79, N17-N19, J09-J18, J40-J47, C15-C26, L80-L99, B50-B64, O60-O77, C7A-C7A, B85-B89, E50-E64, K00-K14, R20-R23, J00-J06, N60-N65, D37-D48, K35-K38, G00-G09, M05-M14, I10-I16, B35-B49, K40-K46, K70-K77, Q00-Q07, E20-E35, J20-J22, A80-A89, B00-B09, J80-J84, G60-G65, D3A-D3A, G10-G14, B90-B94, N40-N53, R90-R94, Creatinine Blood, Sodium Blood, pO2 Blood, Basophils Other Body Fluid, ...]\n",
              "Index: []\n",
              "\n",
              "[0 rows x 173 columns]"
            ],
            "text/html": [
              "\n",
              "  <div id=\"df-e58ba88a-8d75-4c05-9fc2-82697d2055e6\" class=\"colab-df-container\">\n",
              "    <div>\n",
              "<style scoped>\n",
              "    .dataframe tbody tr th:only-of-type {\n",
              "        vertical-align: middle;\n",
              "    }\n",
              "\n",
              "    .dataframe tbody tr th {\n",
              "        vertical-align: top;\n",
              "    }\n",
              "\n",
              "    .dataframe thead th {\n",
              "        text-align: right;\n",
              "    }\n",
              "</style>\n",
              "<table border=\"1\" class=\"dataframe\">\n",
              "  <thead>\n",
              "    <tr style=\"text-align: right;\">\n",
              "      <th></th>\n",
              "      <th>id</th>\n",
              "      <th>number of studies</th>\n",
              "      <th>age</th>\n",
              "      <th>gender</th>\n",
              "      <th>ethnicity</th>\n",
              "      <th>Y90-Y99</th>\n",
              "      <th>G30-G32</th>\n",
              "      <th>O85-O92</th>\n",
              "      <th>C60-C63</th>\n",
              "      <th>F40-F48</th>\n",
              "      <th>...</th>\n",
              "      <th>PRE-NATAL VITAMINS</th>\n",
              "      <th>ANESTHETICS</th>\n",
              "      <th>ANTIBIOTICS</th>\n",
              "      <th>ANTIHYPERGLYCEMICS</th>\n",
              "      <th>ANTIINFLAM.TUMOR NECROSIS FACTOR INHIBITING AGENTS</th>\n",
              "      <th>SEDATIVE/HYPNOTICS</th>\n",
              "      <th>ANTIDOTES</th>\n",
              "      <th>AUTONOMIC DRUGS</th>\n",
              "      <th>VITAMINS</th>\n",
              "      <th>BIOLOGICALS</th>\n",
              "    </tr>\n",
              "  </thead>\n",
              "  <tbody>\n",
              "  </tbody>\n",
              "</table>\n",
              "<p>0 rows × 173 columns</p>\n",
              "</div>\n",
              "    <div class=\"colab-df-buttons\">\n",
              "\n",
              "  <div class=\"colab-df-container\">\n",
              "    <button class=\"colab-df-convert\" onclick=\"convertToInteractive('df-e58ba88a-8d75-4c05-9fc2-82697d2055e6')\"\n",
              "            title=\"Convert this dataframe to an interactive table.\"\n",
              "            style=\"display:none;\">\n",
              "\n",
              "  <svg xmlns=\"http://www.w3.org/2000/svg\" height=\"24px\" viewBox=\"0 -960 960 960\">\n",
              "    <path d=\"M120-120v-720h720v720H120Zm60-500h600v-160H180v160Zm220 220h160v-160H400v160Zm0 220h160v-160H400v160ZM180-400h160v-160H180v160Zm440 0h160v-160H620v160ZM180-180h160v-160H180v160Zm440 0h160v-160H620v160Z\"/>\n",
              "  </svg>\n",
              "    </button>\n",
              "\n",
              "  <style>\n",
              "    .colab-df-container {\n",
              "      display:flex;\n",
              "      gap: 12px;\n",
              "    }\n",
              "\n",
              "    .colab-df-convert {\n",
              "      background-color: #E8F0FE;\n",
              "      border: none;\n",
              "      border-radius: 50%;\n",
              "      cursor: pointer;\n",
              "      display: none;\n",
              "      fill: #1967D2;\n",
              "      height: 32px;\n",
              "      padding: 0 0 0 0;\n",
              "      width: 32px;\n",
              "    }\n",
              "\n",
              "    .colab-df-convert:hover {\n",
              "      background-color: #E2EBFA;\n",
              "      box-shadow: 0px 1px 2px rgba(60, 64, 67, 0.3), 0px 1px 3px 1px rgba(60, 64, 67, 0.15);\n",
              "      fill: #174EA6;\n",
              "    }\n",
              "\n",
              "    .colab-df-buttons div {\n",
              "      margin-bottom: 4px;\n",
              "    }\n",
              "\n",
              "    [theme=dark] .colab-df-convert {\n",
              "      background-color: #3B4455;\n",
              "      fill: #D2E3FC;\n",
              "    }\n",
              "\n",
              "    [theme=dark] .colab-df-convert:hover {\n",
              "      background-color: #434B5C;\n",
              "      box-shadow: 0px 1px 3px 1px rgba(0, 0, 0, 0.15);\n",
              "      filter: drop-shadow(0px 1px 2px rgba(0, 0, 0, 0.3));\n",
              "      fill: #FFFFFF;\n",
              "    }\n",
              "  </style>\n",
              "\n",
              "    <script>\n",
              "      const buttonEl =\n",
              "        document.querySelector('#df-e58ba88a-8d75-4c05-9fc2-82697d2055e6 button.colab-df-convert');\n",
              "      buttonEl.style.display =\n",
              "        google.colab.kernel.accessAllowed ? 'block' : 'none';\n",
              "\n",
              "      async function convertToInteractive(key) {\n",
              "        const element = document.querySelector('#df-e58ba88a-8d75-4c05-9fc2-82697d2055e6');\n",
              "        const dataTable =\n",
              "          await google.colab.kernel.invokeFunction('convertToInteractive',\n",
              "                                                    [key], {});\n",
              "        if (!dataTable) return;\n",
              "\n",
              "        const docLinkHtml = 'Like what you see? Visit the ' +\n",
              "          '<a target=\"_blank\" href=https://colab.research.google.com/notebooks/data_table.ipynb>data table notebook</a>'\n",
              "          + ' to learn more about interactive tables.';\n",
              "        element.innerHTML = '';\n",
              "        dataTable['output_type'] = 'display_data';\n",
              "        await google.colab.output.renderOutput(dataTable, element);\n",
              "        const docLink = document.createElement('div');\n",
              "        docLink.innerHTML = docLinkHtml;\n",
              "        element.appendChild(docLink);\n",
              "      }\n",
              "    </script>\n",
              "  </div>\n",
              "\n",
              "    </div>\n",
              "  </div>\n"
            ]
          },
          "metadata": {},
          "execution_count": 174
        }
      ],
      "source": [
        "df = pd.DataFrame(columns=['id','number of studies'] + EHR['feature_cols'])\n",
        "df"
      ]
    },
    {
      "cell_type": "code",
      "execution_count": 175,
      "metadata": {
        "id": "dKCOA9-TYTO3"
      },
      "outputs": [],
      "source": [
        "for i in EHR[\"feat_dict\"].keys():\n",
        "  # add id columns\n",
        "  row = pd.DataFrame({'id': [i],'number of studies':EHR[\"feat_dict\"][i].shape[0]})\n",
        "  # add EHR data\n",
        "  # each subject and each admission could have multiple lines of data during the admission for different times of study\n",
        "  arr=EHR[\"feat_dict\"][i]\n",
        "  median_values = np.median(arr, axis=0)\n",
        "  reshaped_array = median_values.reshape(1, -1)\n",
        "  data = pd.DataFrame(reshaped_array, columns=EHR['feature_cols'])\n",
        "  row = pd.concat([row, data], axis=1)\n",
        "  # Concatenate the original DataFrame with the new row DataFrame\n",
        "  df = pd.concat([df, row], ignore_index=True)"
      ]
    },
    {
      "cell_type": "code",
      "source": [
        "df.shape"
      ],
      "metadata": {
        "colab": {
          "base_uri": "https://localhost:8080/"
        },
        "id": "jmLIuieGDYuC",
        "outputId": "f4959716-c6ce-4bb6-a0d6-bebf07d8b36c"
      },
      "execution_count": 176,
      "outputs": [
        {
          "output_type": "execute_result",
          "data": {
            "text/plain": [
              "(14532, 173)"
            ]
          },
          "metadata": {},
          "execution_count": 176
        }
      ]
    },
    {
      "cell_type": "code",
      "source": [
        "common_key = 'id'\n",
        "\n",
        "# Merge the additional information from df to the train DataFrame\n",
        "df_train = pd.merge(train, df, on=common_key, how='left')\n",
        "\n",
        "# Merge the additional information from df to the test DataFrame\n",
        "df_test = pd.merge(test, df, on=common_key, how='left')\n"
      ],
      "metadata": {
        "id": "wpVcFW2pGT9Q"
      },
      "execution_count": 179,
      "outputs": []
    },
    {
      "cell_type": "code",
      "source": [
        "print(train.shape)\n",
        "print(test.shape)"
      ],
      "metadata": {
        "colab": {
          "base_uri": "https://localhost:8080/"
        },
        "id": "6sKriWSUGnww",
        "outputId": "f85bbf89-9846-4627-e3b3-3dc861a86bd4"
      },
      "execution_count": 185,
      "outputs": [
        {
          "output_type": "stream",
          "name": "stdout",
          "text": [
            "(11596, 13)\n",
            "(2936, 12)\n"
          ]
        }
      ]
    },
    {
      "cell_type": "code",
      "source": [
        "print(df_train.shape)\n",
        "print(df_test.shape)"
      ],
      "metadata": {
        "colab": {
          "base_uri": "https://localhost:8080/"
        },
        "id": "3kE804fbGkn5",
        "outputId": "b983446c-8517-4434-d2ba-25b0fba82b0d"
      },
      "execution_count": 186,
      "outputs": [
        {
          "output_type": "stream",
          "name": "stdout",
          "text": [
            "(11596, 185)\n",
            "(2936, 184)\n"
          ]
        }
      ]
    },
    {
      "cell_type": "code",
      "source": [
        "# Calculate the correlation matrix\n",
        "correlation_matrix = df_train.corr()\n",
        "\n",
        "# Select the correlation of features with the target variable\n",
        "target_correlation = correlation_matrix['readmitted_within_30days']\n",
        "\n",
        "# Set the threshold for high correlation\n",
        "threshold = 0.1  # You can adjust this threshold as needed\n",
        "\n",
        "# Filter the features with high correlation\n",
        "highly_correlated_features = target_correlation[abs(target_correlation) > threshold].index.tolist()\n",
        "\n",
        "# Remove \"readmitted_within_30days\" from the list of highly correlated features\n",
        "highly_correlated_features = [feature for feature in highly_correlated_features if feature != 'readmitted_within_30days']\n",
        "\n",
        "# Print the names of highly correlated features\n",
        "print(highly_correlated_features)"
      ],
      "metadata": {
        "colab": {
          "base_uri": "https://localhost:8080/"
        },
        "id": "SR2vLQZIH8w4",
        "outputId": "f5e253ba-0b7d-4b98-e81c-9aed0002d908"
      },
      "execution_count": 201,
      "outputs": [
        {
          "output_type": "stream",
          "name": "stderr",
          "text": [
            "<ipython-input-201-4d055f5d5a9c>:2: FutureWarning: The default value of numeric_only in DataFrame.corr is deprecated. In a future version, it will default to False. Select only valid columns or specify the value of numeric_only to silence this warning.\n",
            "  correlation_matrix = df_train.corr()\n"
          ]
        },
        {
          "output_type": "stream",
          "name": "stdout",
          "text": [
            "['deathtime', 'StudyTime', 'times of study', 'mean_admittime_diff', 'mean_dischtime_diff', 'Creatinine Blood', 'Sodium Blood', 'pO2 Blood', 'Lactate Blood', 'Anion Gap Blood', 'Chloride Blood', 'Calcium, Total Blood', 'Bicarbonate Blood', 'Glucose Blood', 'pH Blood', 'Platelet Count Blood', 'pCO2 Blood', 'ELECT/CALORIC/H2O', 'ANTIBIOTICS', 'AUTONOMIC DRUGS', 'VITAMINS']\n"
          ]
        }
      ]
    },
    {
      "cell_type": "code",
      "source": [
        "# corr > 0.7: death time\n",
        "# corr > 0.3: pO2 Blood\n",
        "# corr > 0.2: 'mean_admittime_diff', 'mean_dischtime_diff', 'Lactate Blood', 'pH Blood', 'pCO2 Blood'\n",
        "# corr > 0.1: 'StudyTime', 'times of study', 'Creatinine Blood', 'Sodium Blood', 'Anion Gap Blood',\n",
        "#         'Chloride Blood', 'Calcium, Total Blood', 'Bicarbonate Blood', 'Glucose Blood',\n",
        "#          'Platelet Count Blood', 'ELECT/CALORIC/H2O', 'ANTIBIOTICS', 'AUTONOMIC DRUGS', 'VITAMINS'"
      ],
      "metadata": {
        "id": "1_4CqBK8IgQy"
      },
      "execution_count": null,
      "outputs": []
    },
    {
      "cell_type": "code",
      "source": [
        "df_train.to_csv('train_valid.csv', index=False)\n",
        "df_test.to_csv('test.csv', index=False)\n",
        "\n",
        "from google.colab import files\n",
        "files.download('train_valid.csv')\n",
        "files.download('test.csv')"
      ],
      "metadata": {
        "colab": {
          "base_uri": "https://localhost:8080/",
          "height": 17
        },
        "id": "h6WdImc5DQw0",
        "outputId": "0d2d2616-4630-4ce9-a96c-406666847ace"
      },
      "execution_count": 189,
      "outputs": [
        {
          "output_type": "display_data",
          "data": {
            "text/plain": [
              "<IPython.core.display.Javascript object>"
            ],
            "application/javascript": [
              "\n",
              "    async function download(id, filename, size) {\n",
              "      if (!google.colab.kernel.accessAllowed) {\n",
              "        return;\n",
              "      }\n",
              "      const div = document.createElement('div');\n",
              "      const label = document.createElement('label');\n",
              "      label.textContent = `Downloading \"${filename}\": `;\n",
              "      div.appendChild(label);\n",
              "      const progress = document.createElement('progress');\n",
              "      progress.max = size;\n",
              "      div.appendChild(progress);\n",
              "      document.body.appendChild(div);\n",
              "\n",
              "      const buffers = [];\n",
              "      let downloaded = 0;\n",
              "\n",
              "      const channel = await google.colab.kernel.comms.open(id);\n",
              "      // Send a message to notify the kernel that we're ready.\n",
              "      channel.send({})\n",
              "\n",
              "      for await (const message of channel.messages) {\n",
              "        // Send a message to notify the kernel that we're ready.\n",
              "        channel.send({})\n",
              "        if (message.buffers) {\n",
              "          for (const buffer of message.buffers) {\n",
              "            buffers.push(buffer);\n",
              "            downloaded += buffer.byteLength;\n",
              "            progress.value = downloaded;\n",
              "          }\n",
              "        }\n",
              "      }\n",
              "      const blob = new Blob(buffers, {type: 'application/binary'});\n",
              "      const a = document.createElement('a');\n",
              "      a.href = window.URL.createObjectURL(blob);\n",
              "      a.download = filename;\n",
              "      div.appendChild(a);\n",
              "      a.click();\n",
              "      div.remove();\n",
              "    }\n",
              "  "
            ]
          },
          "metadata": {}
        },
        {
          "output_type": "display_data",
          "data": {
            "text/plain": [
              "<IPython.core.display.Javascript object>"
            ],
            "application/javascript": [
              "download(\"download_119c60f6-b8e2-4680-859d-131effb25a23\", \"train_valid.csv\", 9228208)"
            ]
          },
          "metadata": {}
        },
        {
          "output_type": "display_data",
          "data": {
            "text/plain": [
              "<IPython.core.display.Javascript object>"
            ],
            "application/javascript": [
              "\n",
              "    async function download(id, filename, size) {\n",
              "      if (!google.colab.kernel.accessAllowed) {\n",
              "        return;\n",
              "      }\n",
              "      const div = document.createElement('div');\n",
              "      const label = document.createElement('label');\n",
              "      label.textContent = `Downloading \"${filename}\": `;\n",
              "      div.appendChild(label);\n",
              "      const progress = document.createElement('progress');\n",
              "      progress.max = size;\n",
              "      div.appendChild(progress);\n",
              "      document.body.appendChild(div);\n",
              "\n",
              "      const buffers = [];\n",
              "      let downloaded = 0;\n",
              "\n",
              "      const channel = await google.colab.kernel.comms.open(id);\n",
              "      // Send a message to notify the kernel that we're ready.\n",
              "      channel.send({})\n",
              "\n",
              "      for await (const message of channel.messages) {\n",
              "        // Send a message to notify the kernel that we're ready.\n",
              "        channel.send({})\n",
              "        if (message.buffers) {\n",
              "          for (const buffer of message.buffers) {\n",
              "            buffers.push(buffer);\n",
              "            downloaded += buffer.byteLength;\n",
              "            progress.value = downloaded;\n",
              "          }\n",
              "        }\n",
              "      }\n",
              "      const blob = new Blob(buffers, {type: 'application/binary'});\n",
              "      const a = document.createElement('a');\n",
              "      a.href = window.URL.createObjectURL(blob);\n",
              "      a.download = filename;\n",
              "      div.appendChild(a);\n",
              "      a.click();\n",
              "      div.remove();\n",
              "    }\n",
              "  "
            ]
          },
          "metadata": {}
        },
        {
          "output_type": "display_data",
          "data": {
            "text/plain": [
              "<IPython.core.display.Javascript object>"
            ],
            "application/javascript": [
              "download(\"download_9145f891-3803-452b-8ab6-da6693a8de96\", \"test.csv\", 2333836)"
            ]
          },
          "metadata": {}
        }
      ]
    }
  ],
  "metadata": {
    "colab": {
      "provenance": [],
      "include_colab_link": true
    },
    "kernelspec": {
      "display_name": "Python 3",
      "name": "python3"
    },
    "language_info": {
      "name": "python"
    }
  },
  "nbformat": 4,
  "nbformat_minor": 0
}