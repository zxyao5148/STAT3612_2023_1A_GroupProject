{
  "cells": [
    {
      "cell_type": "markdown",
      "metadata": {
        "id": "view-in-github",
        "colab_type": "text"
      },
      "source": [
        "<a href=\"https://colab.research.google.com/github/zxyao5148/STAT3612_2023_1A_GroupProject/blob/main/RNN_Transformer/Bi_LSTM_mean%26mode_adj_imbalance.ipynb\" target=\"_parent\"><img src=\"https://colab.research.google.com/assets/colab-badge.svg\" alt=\"Open In Colab\"/></a>"
      ]
    },
    {
      "cell_type": "markdown",
      "metadata": {
        "id": "fFipp7tAAVxh"
      },
      "source": [
        "**Description:** This notebook demonstrates how to do timeseries classification using RNN models (Simple RNN, LSTM, and GRU).\n",
        "\n",
        "Reference: https://www.kaggle.com/code/thebrownviking20/intro-to-recurrent-neural-networks-lstm-gru/notebook"
      ]
    },
    {
      "cell_type": "markdown",
      "metadata": {
        "id": "ll7UTtsyAVxj"
      },
      "source": [
        "## Load the dataset"
      ]
    },
    {
      "cell_type": "code",
      "execution_count": 1,
      "metadata": {
        "id": "U-qy06BXAVxk",
        "colab": {
          "base_uri": "https://localhost:8080/"
        },
        "outputId": "be49e56d-0fcf-493b-c6c0-1759f0dfe8df"
      },
      "outputs": [
        {
          "output_type": "stream",
          "name": "stdout",
          "text": [
            "--2023-11-17 19:31:18--  https://raw.githubusercontent.com/zxyao5148/STAT3612_2023_1A_GroupProject/main/code_base/adjust_imbl.py\n",
            "Resolving raw.githubusercontent.com (raw.githubusercontent.com)... 185.199.108.133, 185.199.109.133, 185.199.110.133, ...\n",
            "Connecting to raw.githubusercontent.com (raw.githubusercontent.com)|185.199.108.133|:443... connected.\n",
            "HTTP request sent, awaiting response... 200 OK\n",
            "Length: 927 [text/plain]\n",
            "Saving to: ‘adjust_imbl.py’\n",
            "\n",
            "\radjust_imbl.py        0%[                    ]       0  --.-KB/s               \radjust_imbl.py      100%[===================>]     927  --.-KB/s    in 0s      \n",
            "\n",
            "2023-11-17 19:31:19 (42.1 MB/s) - ‘adjust_imbl.py’ saved [927/927]\n",
            "\n",
            "Original dataset shape Counter({0: 9564, 1: 2032})\n",
            "Resampled dataset shape Counter({0: 2032, 1: 2032})\n"
          ]
        }
      ],
      "source": [
        "import pandas as pd\n",
        "import requests\n",
        "from io import StringIO\n",
        "import numpy as np\n",
        "from sklearn.model_selection import train_test_split\n",
        "\n",
        "# Raw URLs for the CSV files\n",
        "train_url = \"https://raw.githubusercontent.com/zxyao5148/STAT3612_2023_1A_GroupProject/main/data_processing/train/train_valid_mean_mode.csv\"\n",
        "test_url = \"https://raw.githubusercontent.com/zxyao5148/STAT3612_2023_1A_GroupProject/main/data_processing/test/test_mean_mode.csv\"\n",
        "\n",
        "# Download the CSV files\n",
        "train_csv = requests.get(train_url).text\n",
        "test_csv = requests.get(test_url).text\n",
        "\n",
        "# Read the CSV files into pandas DataFrames\n",
        "train_valid = pd.read_csv(StringIO(train_csv))\n",
        "test = pd.read_csv(StringIO(test_csv))\n",
        "\n",
        "train_valid['deathtime'] = np.where(train_valid['deathtime'].notnull(), 1, 0)\n",
        "test['deathtime'] = np.where(test['deathtime'].notnull(), 1, 0)\n",
        "\n",
        "x_train_valid = train_valid[['deathtime']].join(train_valid.iloc[:, 9:])\n",
        "y_train_valid = train_valid.iloc[:, 8]\n",
        "\n",
        "!wget https://raw.githubusercontent.com/zxyao5148/STAT3612_2023_1A_GroupProject/main/code_base/adjust_imbl.py\n",
        "from adjust_imbl import adjust_imbl\n",
        "x_train_valid, y_train_valid = adjust_imbl(x_train_valid, y_train_valid)\n",
        "\n",
        "# with 80% of the data for training and 20% for validation\n",
        "x_train, x_valid, y_train, y_valid = train_test_split(x_train_valid, y_train_valid, test_size=0.2, random_state=3612)\n",
        "\n",
        "x_test = test[['deathtime']].join(test.iloc[:,8:])"
      ]
    },
    {
      "cell_type": "code",
      "execution_count": 2,
      "metadata": {
        "id": "ElXnpwlhE0i8"
      },
      "outputs": [],
      "source": [
        "x_train = x_train.values.reshape((x_train.shape[0], x_train.shape[1], 1))\n",
        "x_valid = x_valid.values.reshape((x_valid.shape[0], x_valid.shape[1], 1))\n",
        "x_test = x_test.values.reshape((x_test.shape[0], x_test.shape[1], 1))\n",
        "\n",
        "# Reset the index of the y_train DataFrame\n",
        "y_train = y_train.reset_index(drop=True)\n",
        "\n",
        "# Shuffle the indices\n",
        "idx = np.random.permutation(len(x_train))\n",
        "\n",
        "# Reassign the values using the shuffled indices\n",
        "x_train = x_train[idx]\n",
        "y_train = y_train.iloc[idx]"
      ]
    },
    {
      "cell_type": "markdown",
      "metadata": {
        "id": "teAicBzgAVxl"
      },
      "source": [
        "## Build the model\n",
        "\n",
        "The model processes a tensor of shape `(batch size, sequence length, features)`,\n",
        "where `sequence length` is the number of time steps and `features` is each input\n",
        "timeseries.\n"
      ]
    },
    {
      "cell_type": "code",
      "execution_count": 3,
      "metadata": {
        "id": "My1EkBMVAVxm"
      },
      "outputs": [],
      "source": [
        "from keras.layers import Dense, Activation, Dropout\n",
        "from keras.layers import LSTM, GRU, SimpleRNN\n",
        "from keras.models import Sequential\n",
        "import keras"
      ]
    },
    {
      "cell_type": "markdown",
      "source": [
        "#  Bidirectional LSTM"
      ],
      "metadata": {
        "id": "9MsiVoA-zIf5"
      }
    },
    {
      "cell_type": "code",
      "source": [
        "from keras.models import Sequential\n",
        "from keras.layers import LSTM, Dropout, Dense, Bidirectional\n",
        "import keras\n",
        "from keras.optimizers import Adam\n",
        "from keras.layers import BatchNormalization\n",
        "from keras.regularizers import l2\n",
        "from keras.callbacks import EarlyStopping, ReduceLROnPlateau\n",
        "\n",
        "model = Sequential()\n",
        "# Add a Bidirectional LSTM layer with return_sequences=True and L2 regularization\n",
        "model.add(Bidirectional(LSTM(64, return_sequences=True, input_shape=(x_train.shape[1], 1), kernel_regularizer=l2(0.01))))\n",
        "# Add Batch Normalization\n",
        "model.add(BatchNormalization())\n",
        "model.add(Dropout(0.3))\n",
        "# Add another Bidirectional LSTM layer with return_sequences=False and activation function set to \"tanh\"\n",
        "model.add(Bidirectional(LSTM(128, return_sequences=False, activation=\"tanh\", kernel_regularizer=l2(0.01))))\n",
        "# Add Batch Normalization\n",
        "model.add(BatchNormalization())\n",
        "model.add(Dropout(0.3))\n",
        "model.add(Dense(1, activation=\"sigmoid\"))\n",
        "\n",
        "# Compile the model with a lower learning rate and use ReduceLROnPlateau for learning rate scheduling\n",
        "model.compile(loss='binary_crossentropy', optimizer=Adam(learning_rate=0.001), metrics=[\"accuracy\"])\n",
        "\n",
        "print('model compiled')\n",
        "\n",
        "# Define early stopping and learning rate reduction callbacks\n",
        "callbacks = [EarlyStopping(patience=10, restore_best_weights=True), ReduceLROnPlateau(factor=0.1, patience=5)]\n",
        "\n",
        "# Print model summary\n",
        "#print(model.summary())\n",
        "\n",
        "# Train the model with a smaller batch size\n",
        "history_LSTM = model.fit(x_train, y_train, batch_size=128, epochs=100, validation_data=(x_valid, y_valid), callbacks=callbacks)"
      ],
      "metadata": {
        "colab": {
          "base_uri": "https://localhost:8080/"
        },
        "id": "NNvQqs6LzVl4",
        "outputId": "7622dd30-519a-479d-efc9-94c75340d9cf"
      },
      "execution_count": 4,
      "outputs": [
        {
          "output_type": "stream",
          "name": "stdout",
          "text": [
            "model compiled\n",
            "Epoch 1/100\n",
            "26/26 [==============================] - 29s 98ms/step - loss: 3.9323 - accuracy: 0.7422 - val_loss: 3.2628 - val_accuracy: 0.4957 - lr: 0.0010\n",
            "Epoch 2/100\n",
            "26/26 [==============================] - 1s 38ms/step - loss: 2.5140 - accuracy: 0.7801 - val_loss: 2.2530 - val_accuracy: 0.4957 - lr: 0.0010\n",
            "Epoch 3/100\n",
            "26/26 [==============================] - 1s 38ms/step - loss: 1.7031 - accuracy: 0.7816 - val_loss: 1.6932 - val_accuracy: 0.4957 - lr: 0.0010\n",
            "Epoch 4/100\n",
            "26/26 [==============================] - 1s 40ms/step - loss: 1.2573 - accuracy: 0.7859 - val_loss: 1.3727 - val_accuracy: 0.4957 - lr: 0.0010\n",
            "Epoch 5/100\n",
            "26/26 [==============================] - 1s 38ms/step - loss: 1.0044 - accuracy: 0.7791 - val_loss: 1.1835 - val_accuracy: 0.4957 - lr: 0.0010\n",
            "Epoch 6/100\n",
            "26/26 [==============================] - 1s 39ms/step - loss: 0.8187 - accuracy: 0.7958 - val_loss: 1.0739 - val_accuracy: 0.4957 - lr: 0.0010\n",
            "Epoch 7/100\n",
            "26/26 [==============================] - 1s 38ms/step - loss: 0.7352 - accuracy: 0.7936 - val_loss: 0.9858 - val_accuracy: 0.4957 - lr: 0.0010\n",
            "Epoch 8/100\n",
            "26/26 [==============================] - 1s 38ms/step - loss: 0.6632 - accuracy: 0.7954 - val_loss: 0.9555 - val_accuracy: 0.4957 - lr: 0.0010\n",
            "Epoch 9/100\n",
            "26/26 [==============================] - 1s 43ms/step - loss: 0.6123 - accuracy: 0.7945 - val_loss: 0.8949 - val_accuracy: 0.4957 - lr: 0.0010\n",
            "Epoch 10/100\n",
            "26/26 [==============================] - 1s 43ms/step - loss: 0.5880 - accuracy: 0.7890 - val_loss: 0.8583 - val_accuracy: 0.4957 - lr: 0.0010\n",
            "Epoch 11/100\n",
            "26/26 [==============================] - 1s 43ms/step - loss: 0.5481 - accuracy: 0.7964 - val_loss: 0.7875 - val_accuracy: 0.4957 - lr: 0.0010\n",
            "Epoch 12/100\n",
            "26/26 [==============================] - 1s 40ms/step - loss: 0.5358 - accuracy: 0.7985 - val_loss: 0.7760 - val_accuracy: 0.4957 - lr: 0.0010\n",
            "Epoch 13/100\n",
            "26/26 [==============================] - 1s 38ms/step - loss: 0.5059 - accuracy: 0.7988 - val_loss: 0.7212 - val_accuracy: 0.4957 - lr: 0.0010\n",
            "Epoch 14/100\n",
            "26/26 [==============================] - 1s 39ms/step - loss: 0.5028 - accuracy: 0.7982 - val_loss: 0.7065 - val_accuracy: 0.4969 - lr: 0.0010\n",
            "Epoch 15/100\n",
            "26/26 [==============================] - 1s 41ms/step - loss: 0.4900 - accuracy: 0.8016 - val_loss: 0.6854 - val_accuracy: 0.5043 - lr: 0.0010\n",
            "Epoch 16/100\n",
            "26/26 [==============================] - 1s 39ms/step - loss: 0.4693 - accuracy: 0.8078 - val_loss: 0.6682 - val_accuracy: 0.5363 - lr: 0.0010\n",
            "Epoch 17/100\n",
            "26/26 [==============================] - 1s 38ms/step - loss: 0.4629 - accuracy: 0.7991 - val_loss: 0.6489 - val_accuracy: 0.5092 - lr: 0.0010\n",
            "Epoch 18/100\n",
            "26/26 [==============================] - 1s 38ms/step - loss: 0.4563 - accuracy: 0.7998 - val_loss: 0.6422 - val_accuracy: 0.5203 - lr: 0.0010\n",
            "Epoch 19/100\n",
            "26/26 [==============================] - 1s 38ms/step - loss: 0.4471 - accuracy: 0.8056 - val_loss: 0.6081 - val_accuracy: 0.5351 - lr: 0.0010\n",
            "Epoch 20/100\n",
            "26/26 [==============================] - 1s 38ms/step - loss: 0.4445 - accuracy: 0.8047 - val_loss: 0.6157 - val_accuracy: 0.5117 - lr: 0.0010\n",
            "Epoch 21/100\n",
            "26/26 [==============================] - 1s 39ms/step - loss: 0.4367 - accuracy: 0.8081 - val_loss: 0.5843 - val_accuracy: 0.6494 - lr: 0.0010\n",
            "Epoch 22/100\n",
            "26/26 [==============================] - 1s 43ms/step - loss: 0.4331 - accuracy: 0.8127 - val_loss: 0.5439 - val_accuracy: 0.7245 - lr: 0.0010\n",
            "Epoch 23/100\n",
            "26/26 [==============================] - 1s 43ms/step - loss: 0.4369 - accuracy: 0.8038 - val_loss: 0.5134 - val_accuracy: 0.7811 - lr: 0.0010\n",
            "Epoch 24/100\n",
            "26/26 [==============================] - 1s 43ms/step - loss: 0.4305 - accuracy: 0.8087 - val_loss: 0.4848 - val_accuracy: 0.7724 - lr: 0.0010\n",
            "Epoch 25/100\n",
            "26/26 [==============================] - 1s 40ms/step - loss: 0.4340 - accuracy: 0.8050 - val_loss: 0.4782 - val_accuracy: 0.7761 - lr: 0.0010\n",
            "Epoch 26/100\n",
            "26/26 [==============================] - 1s 38ms/step - loss: 0.4247 - accuracy: 0.8078 - val_loss: 0.4908 - val_accuracy: 0.7823 - lr: 0.0010\n",
            "Epoch 27/100\n",
            "26/26 [==============================] - 1s 38ms/step - loss: 0.4247 - accuracy: 0.8062 - val_loss: 0.4606 - val_accuracy: 0.7737 - lr: 0.0010\n",
            "Epoch 28/100\n",
            "26/26 [==============================] - 1s 39ms/step - loss: 0.4192 - accuracy: 0.8124 - val_loss: 0.4500 - val_accuracy: 0.7749 - lr: 0.0010\n",
            "Epoch 29/100\n",
            "26/26 [==============================] - 1s 49ms/step - loss: 0.4260 - accuracy: 0.8053 - val_loss: 0.4371 - val_accuracy: 0.7872 - lr: 0.0010\n",
            "Epoch 30/100\n",
            "26/26 [==============================] - 1s 46ms/step - loss: 0.4162 - accuracy: 0.8118 - val_loss: 0.4452 - val_accuracy: 0.7700 - lr: 0.0010\n",
            "Epoch 31/100\n",
            "26/26 [==============================] - 1s 51ms/step - loss: 0.4277 - accuracy: 0.8050 - val_loss: 0.4436 - val_accuracy: 0.7909 - lr: 0.0010\n",
            "Epoch 32/100\n",
            "26/26 [==============================] - 1s 54ms/step - loss: 0.4203 - accuracy: 0.8111 - val_loss: 0.4356 - val_accuracy: 0.7761 - lr: 0.0010\n",
            "Epoch 33/100\n",
            "26/26 [==============================] - 2s 62ms/step - loss: 0.4271 - accuracy: 0.8041 - val_loss: 0.4274 - val_accuracy: 0.7884 - lr: 0.0010\n",
            "Epoch 34/100\n",
            "26/26 [==============================] - 2s 66ms/step - loss: 0.4241 - accuracy: 0.8102 - val_loss: 0.4245 - val_accuracy: 0.7934 - lr: 0.0010\n",
            "Epoch 35/100\n",
            "26/26 [==============================] - 1s 41ms/step - loss: 0.4213 - accuracy: 0.8074 - val_loss: 0.4313 - val_accuracy: 0.7860 - lr: 0.0010\n",
            "Epoch 36/100\n",
            "26/26 [==============================] - 1s 41ms/step - loss: 0.4208 - accuracy: 0.8074 - val_loss: 0.4257 - val_accuracy: 0.7835 - lr: 0.0010\n",
            "Epoch 37/100\n",
            "26/26 [==============================] - 1s 39ms/step - loss: 0.4124 - accuracy: 0.8136 - val_loss: 0.4143 - val_accuracy: 0.7995 - lr: 0.0010\n",
            "Epoch 38/100\n",
            "26/26 [==============================] - 1s 39ms/step - loss: 0.4182 - accuracy: 0.8056 - val_loss: 0.4139 - val_accuracy: 0.8007 - lr: 0.0010\n",
            "Epoch 39/100\n",
            "26/26 [==============================] - 1s 38ms/step - loss: 0.4166 - accuracy: 0.8121 - val_loss: 0.4296 - val_accuracy: 0.7970 - lr: 0.0010\n",
            "Epoch 40/100\n",
            "26/26 [==============================] - 1s 41ms/step - loss: 0.4156 - accuracy: 0.8096 - val_loss: 0.4216 - val_accuracy: 0.8069 - lr: 0.0010\n",
            "Epoch 41/100\n",
            "26/26 [==============================] - 1s 50ms/step - loss: 0.4172 - accuracy: 0.8111 - val_loss: 0.4430 - val_accuracy: 0.7811 - lr: 0.0010\n",
            "Epoch 42/100\n",
            "26/26 [==============================] - 1s 48ms/step - loss: 0.4217 - accuracy: 0.8071 - val_loss: 0.4295 - val_accuracy: 0.7909 - lr: 0.0010\n",
            "Epoch 43/100\n",
            "26/26 [==============================] - 1s 52ms/step - loss: 0.4115 - accuracy: 0.8127 - val_loss: 0.4267 - val_accuracy: 0.7872 - lr: 0.0010\n",
            "Epoch 44/100\n",
            "26/26 [==============================] - 1s 56ms/step - loss: 0.4100 - accuracy: 0.8139 - val_loss: 0.4196 - val_accuracy: 0.8007 - lr: 1.0000e-04\n",
            "Epoch 45/100\n",
            "26/26 [==============================] - 2s 77ms/step - loss: 0.4063 - accuracy: 0.8182 - val_loss: 0.4164 - val_accuracy: 0.8044 - lr: 1.0000e-04\n",
            "Epoch 46/100\n",
            "26/26 [==============================] - 2s 76ms/step - loss: 0.4084 - accuracy: 0.8161 - val_loss: 0.4146 - val_accuracy: 0.8057 - lr: 1.0000e-04\n",
            "Epoch 47/100\n",
            "26/26 [==============================] - 1s 51ms/step - loss: 0.4063 - accuracy: 0.8164 - val_loss: 0.4144 - val_accuracy: 0.8057 - lr: 1.0000e-04\n",
            "Epoch 48/100\n",
            "26/26 [==============================] - 1s 39ms/step - loss: 0.4045 - accuracy: 0.8154 - val_loss: 0.4130 - val_accuracy: 0.8057 - lr: 1.0000e-04\n",
            "Epoch 49/100\n",
            "26/26 [==============================] - 1s 42ms/step - loss: 0.4032 - accuracy: 0.8204 - val_loss: 0.4121 - val_accuracy: 0.8093 - lr: 1.0000e-04\n",
            "Epoch 50/100\n",
            "26/26 [==============================] - 1s 39ms/step - loss: 0.4047 - accuracy: 0.8194 - val_loss: 0.4129 - val_accuracy: 0.8044 - lr: 1.0000e-04\n",
            "Epoch 51/100\n",
            "26/26 [==============================] - 1s 39ms/step - loss: 0.4020 - accuracy: 0.8201 - val_loss: 0.4120 - val_accuracy: 0.8106 - lr: 1.0000e-04\n",
            "Epoch 52/100\n",
            "26/26 [==============================] - 1s 39ms/step - loss: 0.3998 - accuracy: 0.8201 - val_loss: 0.4129 - val_accuracy: 0.8044 - lr: 1.0000e-04\n",
            "Epoch 53/100\n",
            "26/26 [==============================] - 1s 39ms/step - loss: 0.3994 - accuracy: 0.8197 - val_loss: 0.4140 - val_accuracy: 0.8044 - lr: 1.0000e-04\n",
            "Epoch 54/100\n",
            "26/26 [==============================] - 1s 39ms/step - loss: 0.4001 - accuracy: 0.8207 - val_loss: 0.4136 - val_accuracy: 0.8020 - lr: 1.0000e-04\n",
            "Epoch 55/100\n",
            "26/26 [==============================] - 1s 52ms/step - loss: 0.4011 - accuracy: 0.8176 - val_loss: 0.4140 - val_accuracy: 0.7995 - lr: 1.0000e-04\n",
            "Epoch 56/100\n",
            "26/26 [==============================] - 1s 56ms/step - loss: 0.3991 - accuracy: 0.8225 - val_loss: 0.4150 - val_accuracy: 0.7970 - lr: 1.0000e-04\n",
            "Epoch 57/100\n",
            "26/26 [==============================] - 2s 69ms/step - loss: 0.3986 - accuracy: 0.8182 - val_loss: 0.4150 - val_accuracy: 0.7970 - lr: 1.0000e-05\n",
            "Epoch 58/100\n",
            "26/26 [==============================] - 1s 44ms/step - loss: 0.4023 - accuracy: 0.8244 - val_loss: 0.4154 - val_accuracy: 0.7970 - lr: 1.0000e-05\n",
            "Epoch 59/100\n",
            "26/26 [==============================] - 1s 39ms/step - loss: 0.3996 - accuracy: 0.8164 - val_loss: 0.4161 - val_accuracy: 0.7958 - lr: 1.0000e-05\n",
            "Epoch 60/100\n",
            "26/26 [==============================] - 1s 39ms/step - loss: 0.3964 - accuracy: 0.8207 - val_loss: 0.4164 - val_accuracy: 0.7970 - lr: 1.0000e-05\n",
            "Epoch 61/100\n",
            "26/26 [==============================] - 1s 40ms/step - loss: 0.3973 - accuracy: 0.8204 - val_loss: 0.4166 - val_accuracy: 0.7983 - lr: 1.0000e-05\n"
          ]
        }
      ]
    },
    {
      "cell_type": "code",
      "source": [
        "import matplotlib.pyplot as plt\n",
        "\n",
        "# Plot the training and validation accuracy over epochs\n",
        "plt.plot(history_LSTM.history['accuracy'], label='Training Accuracy')\n",
        "plt.plot(history_LSTM.history['val_accuracy'], label='Validation Accuracy')\n",
        "plt.xlabel('Epoch')\n",
        "plt.ylabel('Accuracy')\n",
        "plt.ylim([0, 1])\n",
        "plt.legend(loc='lower right')\n",
        "plt.show()\n",
        "\n",
        "# Plot the training and validation loss over epochs\n",
        "plt.plot(history_LSTM.history['loss'], label='Training Loss')\n",
        "plt.plot(history_LSTM.history['val_loss'], label='Validation Loss')\n",
        "plt.xlabel('Epoch')\n",
        "plt.ylabel('Loss')\n",
        "plt.legend(loc='upper right')\n",
        "plt.show()\n"
      ],
      "metadata": {
        "colab": {
          "base_uri": "https://localhost:8080/",
          "height": 887
        },
        "id": "QGBVZcU_0_Fw",
        "outputId": "f5f82518-068a-4934-ca6f-1fad6c6a3025"
      },
      "execution_count": 5,
      "outputs": [
        {
          "output_type": "display_data",
          "data": {
            "text/plain": [
              "<Figure size 640x480 with 1 Axes>"
            ],
            "image/png": "[encoded data removed]"
          },
          "metadata": {}
        },
        {
          "output_type": "display_data",
          "data": {
            "text/plain": [
              "<Figure size 640x480 with 1 Axes>"
            ],
            "image/png": "[encoded data removed]"
          },
          "metadata": {}
        }
      ]
    },
    {
      "cell_type": "markdown",
      "metadata": {
        "id": "NEl8DpHrzmQH"
      },
      "source": [
        "##Evaluation"
      ]
    },
    {
      "cell_type": "code",
      "execution_count": 6,
      "metadata": {
        "colab": {
          "base_uri": "https://localhost:8080/"
        },
        "outputId": "b9924f4a-536b-4edc-847b-f80278ff3b6a",
        "id": "USYW_yNXzmQI"
      },
      "outputs": [
        {
          "output_type": "stream",
          "name": "stdout",
          "text": [
            "102/102 [==============================] - 2s 10ms/step\n",
            "26/26 [==============================] - 0s 9ms/step\n",
            "Accuracy (train): 0.8241\n",
            "AUC (train): 0.8716\n",
            "Accuracy (valid): 0.8106\n",
            "AUC (valid): 0.8549\n"
          ]
        }
      ],
      "source": [
        "from sklearn.metrics import roc_auc_score\n",
        "\n",
        "threshold = 0.5\n",
        "\n",
        "y_train_pred = model.predict(x_train)\n",
        "# Convert probabilities to binary predictions\n",
        "y_train_pred_binary = (y_train_pred > threshold).astype(int)\n",
        "y_valid_pred = model.predict(x_valid)\n",
        "y_valid_pred_binary = (y_valid_pred > threshold).astype(int)\n",
        "\n",
        "from sklearn.metrics import accuracy_score, confusion_matrix, classification_report, roc_curve, auc, roc_auc_score\n",
        "accuracy_train = accuracy_score(y_train, y_train_pred_binary)\n",
        "auc_train = roc_auc_score(y_train, y_train_pred)\n",
        "\n",
        "accuracy_valid = accuracy_score(y_valid, y_valid_pred_binary)\n",
        "auc_valid = roc_auc_score(y_valid, y_valid_pred)\n",
        "\n",
        "print(f'Accuracy (train): {accuracy_train:.4f}')\n",
        "print(f'AUC (train): {auc_train:.4f}')\n",
        "\n",
        "print(f'Accuracy (valid): {accuracy_valid:.4f}')\n",
        "print(f'AUC (valid): {auc_valid:.4f}')"
      ]
    },
    {
      "cell_type": "code",
      "execution_count": 7,
      "metadata": {
        "colab": {
          "base_uri": "https://localhost:8080/"
        },
        "outputId": "829046da-aeb8-45fb-b389-94ea829ff371",
        "id": "WlO-I_zuzmQI"
      },
      "outputs": [
        {
          "output_type": "stream",
          "name": "stdout",
          "text": [
            "For training set:\n",
            "Precision: 0.9835\n",
            "Recall: 0.6599\n",
            "F1 Score: 0.7899 \n",
            "\n",
            "For validation set:\n",
            "Precision: 0.9399\n",
            "Recall: 0.66\n",
            "F1 Score: 0.7755\n"
          ]
        }
      ],
      "source": [
        "from sklearn.metrics import precision_score, recall_score, f1_score\n",
        "# Calculate precision, recall, and F1 score\n",
        "precision = precision_score(y_train, y_train_pred_binary, zero_division=1)\n",
        "recall = recall_score(y_train, y_train_pred_binary, zero_division=1)\n",
        "f1 = f1_score(y_train, y_train_pred_binary, zero_division=1)\n",
        "\n",
        "# Print with 4 digits limit\n",
        "print(\"For training set:\")\n",
        "print(\"Precision:\", round(precision, 4))\n",
        "print(\"Recall:\", round(recall, 4))\n",
        "print(\"F1 Score:\", round(f1, 4),\"\\n\")\n",
        "\n",
        "# Calculate precision, recall, and F1 score\n",
        "precision = precision_score(y_valid, y_valid_pred_binary, zero_division=1)\n",
        "recall = recall_score(y_valid, y_valid_pred_binary, zero_division=1)\n",
        "f1 = f1_score(y_valid, y_valid_pred_binary, zero_division=1)\n",
        "\n",
        "# Print with 4 digits limit\n",
        "print(\"For validation set:\")\n",
        "print(\"Precision:\", round(precision, 4))\n",
        "print(\"Recall:\", round(recall, 4))\n",
        "print(\"F1 Score:\", round(f1, 4))"
      ]
    },
    {
      "cell_type": "code",
      "execution_count": 8,
      "metadata": {
        "colab": {
          "base_uri": "https://localhost:8080/"
        },
        "outputId": "4f1aa4da-9b9e-4b3d-996e-9525d2ca4ebe",
        "id": "Vwi1uceMzmQI"
      },
      "outputs": [
        {
          "output_type": "stream",
          "name": "stdout",
          "text": [
            "92/92 [==============================] - 1s 9ms/step\n"
          ]
        }
      ],
      "source": [
        "y_test_pred = model.predict(x_test)\n",
        "y_test_pred_binary = (y_test_pred > threshold).astype(int)"
      ]
    },
    {
      "cell_type": "code",
      "execution_count": 9,
      "metadata": {
        "colab": {
          "base_uri": "https://localhost:8080/",
          "height": 17
        },
        "outputId": "bf7b4898-44b5-4183-8d62-a90ccf4e3858",
        "id": "z6AmCWTMzmQJ"
      },
      "outputs": [
        {
          "output_type": "display_data",
          "data": {
            "text/plain": [
              "<IPython.core.display.Javascript object>"
            ],
            "application/javascript": [
              "\n",
              "    async function download(id, filename, size) {\n",
              "      if (!google.colab.kernel.accessAllowed) {\n",
              "        return;\n",
              "      }\n",
              "      const div = document.createElement('div');\n",
              "      const label = document.createElement('label');\n",
              "      label.textContent = `Downloading \"${filename}\": `;\n",
              "      div.appendChild(label);\n",
              "      const progress = document.createElement('progress');\n",
              "      progress.max = size;\n",
              "      div.appendChild(progress);\n",
              "      document.body.appendChild(div);\n",
              "\n",
              "      const buffers = [];\n",
              "      let downloaded = 0;\n",
              "\n",
              "      const channel = await google.colab.kernel.comms.open(id);\n",
              "      // Send a message to notify the kernel that we're ready.\n",
              "      channel.send({})\n",
              "\n",
              "      for await (const message of channel.messages) {\n",
              "        // Send a message to notify the kernel that we're ready.\n",
              "        channel.send({})\n",
              "        if (message.buffers) {\n",
              "          for (const buffer of message.buffers) {\n",
              "            buffers.push(buffer);\n",
              "            downloaded += buffer.byteLength;\n",
              "            progress.value = downloaded;\n",
              "          }\n",
              "        }\n",
              "      }\n",
              "      const blob = new Blob(buffers, {type: 'application/binary'});\n",
              "      const a = document.createElement('a');\n",
              "      a.href = window.URL.createObjectURL(blob);\n",
              "      a.download = filename;\n",
              "      div.appendChild(a);\n",
              "      a.click();\n",
              "      div.remove();\n",
              "    }\n",
              "  "
            ]
          },
          "metadata": {}
        },
        {
          "output_type": "display_data",
          "data": {
            "text/plain": [
              "<IPython.core.display.Javascript object>"
            ],
            "application/javascript": [
              "download(\"download_f953042f-ee36-45f3-8d80-56ed0c32ef7d\", \"predictions.csv\", 58748)"
            ]
          },
          "metadata": {}
        }
      ],
      "source": [
        "# Assuming y_test_pred_binary is a numpy array\n",
        "predictions_df = pd.DataFrame(y_test_pred_binary, columns=['readmitted_within_30days'])\n",
        "merged_df = test[['id']].merge(predictions_df, left_index=True, right_index=True)\n",
        "merged_df.to_csv('predictions.csv', index=False)\n",
        "\n",
        "from google.colab import files\n",
        "files.download('predictions.csv')"
      ]
    }
  ],
  "metadata": {
    "accelerator": "GPU",
    "colab": {
      "provenance": [],
      "gpuType": "T4",
      "toc_visible": true,
      "include_colab_link": true
    },
    "kernelspec": {
      "display_name": "Python 3",
      "name": "python3"
    },
    "language_info": {
      "codemirror_mode": {
        "name": "ipython",
        "version": 3
      },
      "file_extension": ".py",
      "mimetype": "text/x-python",
      "name": "python",
      "nbconvert_exporter": "python",
      "pygments_lexer": "ipython3",
      "version": "3.7.0"
    }
  },
  "nbformat": 4,
  "nbformat_minor": 0
}