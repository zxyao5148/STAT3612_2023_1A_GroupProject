{
  "nbformat": 4,
  "nbformat_minor": 0,
  "metadata": {
    "colab": {
      "provenance": []
    },
    "kernelspec": {
      "name": "python3",
      "display_name": "Python 3"
    },
    "language_info": {
      "name": "python"
    }
  },
  "cells": [
    {
      "cell_type": "markdown",
      "source": [
        "# Load data"
      ],
      "metadata": {
        "id": "F-FzYg8adR5b"
      }
    },
    {
      "cell_type": "code",
      "execution_count": 17,
      "metadata": {
        "id": "eJ4l9VHdURaJ"
      },
      "outputs": [],
      "source": [
        "import pandas as pd\n",
        "import requests\n",
        "from io import StringIO\n",
        "import numpy as np\n",
        "from sklearn.model_selection import train_test_split"
      ]
    },
    {
      "cell_type": "code",
      "source": [
        "# combined data\n",
        "# load processed data\n",
        "train_mean = pd.read_csv('https://raw.githubusercontent.com/zxyao5148/STAT3612_2023_1A_GroupProject/main/data_processing/train/train_valid_mean_mode.csv')\n",
        "train_latest = pd.read_csv('https://raw.githubusercontent.com/zxyao5148/STAT3612_2023_1A_GroupProject/main/data_processing/train/train_valid_latest.csv')\n",
        "train_dispers = pd.read_csv('https://raw.githubusercontent.com/zxyao5148/STAT3612_2023_1A_GroupProject/main/data_processing/train/train_valid_entropy_std.csv')\n",
        "train_min = pd.read_csv('https://raw.githubusercontent.com/zxyao5148/STAT3612_2023_1A_GroupProject/main/data_processing/train/train_valid_min.csv')\n",
        "train_max = pd.read_csv('https://raw.githubusercontent.com/zxyao5148/STAT3612_2023_1A_GroupProject/main/data_processing/train/train_valid_max.csv')\n",
        "train_q1 = pd.read_csv('https://raw.githubusercontent.com/zxyao5148/STAT3612_2023_1A_GroupProject/main/data_processing/train/train_valid_q1.csv')\n",
        "train_q3 = pd.read_csv('https://raw.githubusercontent.com/zxyao5148/STAT3612_2023_1A_GroupProject/main/data_processing/train/train_valid_q3.csv')\n",
        "train_kurtosis = pd.read_csv('https://raw.githubusercontent.com/zxyao5148/STAT3612_2023_1A_GroupProject/main/data_processing/train/train_valid_kurtosis.csv')\n",
        "train_skewness = pd.read_csv('https://raw.githubusercontent.com/zxyao5148/STAT3612_2023_1A_GroupProject/main/data_processing/train/train_valid_skewness.csv')\n",
        "train_range = pd.read_csv('https://raw.githubusercontent.com/zxyao5148/STAT3612_2023_1A_GroupProject/main/data_processing/train/train_valid_range.csv')\n",
        "train_iqr = pd.read_csv('https://raw.githubusercontent.com/zxyao5148/STAT3612_2023_1A_GroupProject/main/data_processing/train/train_valid_iqr.csv')\n",
        "train_latest = train_latest.drop(train_latest.columns[0:13], axis=1)\n",
        "train_dispers = train_dispers.drop(train_dispers.columns[0:13], axis=1)\n",
        "train_min = train_min.drop(train_min.columns[0:13], axis=1)\n",
        "train_max = train_max.drop(train_max.columns[0:13], axis=1)\n",
        "train_q1 = train_q1.drop(train_q1.columns[0:13], axis=1)\n",
        "train_q3 = train_q3.drop(train_q3.columns[0:13], axis=1)\n",
        "train_kurtois = train_kurtosis.drop(train_kurtosis.columns[0:13], axis=1)\n",
        "train_skewness = train_skewness.drop(train_skewness.columns[0:13], axis=1)\n",
        "train_range = train_range.drop(train_range.columns[0:13], axis=1)\n",
        "train_iqr = train_iqr.drop(train_iqr.columns[0:13], axis=1)\n",
        "\n",
        "# merge train_ and train_latest\n",
        "train = pd.concat([train_mean, train_latest, train_dispers, train_min, train_max], axis=1)\n",
        "\n",
        "# load processed data\n",
        "test_mean = pd.read_csv('https://raw.githubusercontent.com/zxyao5148/STAT3612_2023_1A_GroupProject/main/data_processing/test/test_mean_mode.csv')\n",
        "test_latest = pd.read_csv('https://raw.githubusercontent.com/zxyao5148/STAT3612_2023_1A_GroupProject/main/data_processing/test/test_latest.csv')\n",
        "test_dispers = pd.read_csv('https://raw.githubusercontent.com/zxyao5148/STAT3612_2023_1A_GroupProject/main/data_processing/test/test_entropy_std.csv')\n",
        "test_min = pd.read_csv('https://raw.githubusercontent.com/zxyao5148/STAT3612_2023_1A_GroupProject/main/data_processing/test/test_min.csv')\n",
        "test_max = pd.read_csv('https://raw.githubusercontent.com/zxyao5148/STAT3612_2023_1A_GroupProject/main/data_processing/test/test_max.csv')\n",
        "test_q1 = pd.read_csv('https://raw.githubusercontent.com/zxyao5148/STAT3612_2023_1A_GroupProject/main/data_processing/test/test_q1.csv')\n",
        "test_q3 = pd.read_csv('https://raw.githubusercontent.com/zxyao5148/STAT3612_2023_1A_GroupProject/main/data_processing/test/test_q3.csv')\n",
        "test_kurtosis = pd.read_csv('https://raw.githubusercontent.com/zxyao5148/STAT3612_2023_1A_GroupProject/main/data_processing/test/test_kurtosis.csv')\n",
        "test_skewness = pd.read_csv('https://raw.githubusercontent.com/zxyao5148/STAT3612_2023_1A_GroupProject/main/data_processing/test/test_skewness.csv')\n",
        "test_range = pd.read_csv('https://raw.githubusercontent.com/zxyao5148/STAT3612_2023_1A_GroupProject/main/data_processing/test/test_range.csv')\n",
        "test_iqr = pd.read_csv('https://raw.githubusercontent.com/zxyao5148/STAT3612_2023_1A_GroupProject/main/data_processing/test/test_iqr.csv')\n",
        "test_latest = test_latest.drop(test_latest.columns[0:12], axis=1)\n",
        "test_dispers = test_dispers.drop(test_dispers.columns[0:12], axis=1)\n",
        "test_min = test_min.drop(test_min.columns[0:12], axis=1)\n",
        "test_max = test_max.drop(test_max.columns[0:12], axis=1)\n",
        "test_q1 = test_q1.drop(test_q1.columns[0:12], axis=1)\n",
        "test_q3 = test_q3.drop(test_q3.columns[0:12], axis=1)\n",
        "test_kurtosis = test_kurtosis.drop(test_kurtosis.columns[0:12], axis=1)\n",
        "test_skewness = test_skewness.drop(test_skewness.columns[0:12], axis=1)\n",
        "test_range = test_range.drop(test_range.columns[0:12], axis=1)\n",
        "test_iqr = test_iqr.drop(test_iqr.columns[0:12], axis=1)\n",
        "\n",
        "# merge train_mean and train_latest\n",
        "test = pd.concat([test_mean, test_latest, test_dispers, test_min, test_max], axis=1)"
      ],
      "metadata": {
        "id": "4sLa0CpuJNV5"
      },
      "execution_count": 18,
      "outputs": []
    },
    {
      "cell_type": "code",
      "source": [
        "train = train.drop(train.columns[11], axis=1)\n",
        "test = test.drop(test.columns[11], axis=1)"
      ],
      "metadata": {
        "id": "JMykWTWrU-JE"
      },
      "execution_count": 19,
      "outputs": []
    },
    {
      "cell_type": "code",
      "source": [
        "x_train = train.iloc[:,12:]\n",
        "y_train = train.iloc[:,11]\n",
        "\n",
        "#!wget https://raw.githubusercontent.com/zxyao5148/STAT3612_2023_1A_GroupProject/main/code_base/adjust_imbl.py\n",
        "#from adjust_imbl import adjust_imbl\n",
        "#x_train, y_train = adjust_imbl(x_train, y_train)\n",
        "\n",
        "x_test = test.iloc[:,11:]"
      ],
      "metadata": {
        "id": "WCjlMfLTJMJB"
      },
      "execution_count": 20,
      "outputs": []
    },
    {
      "cell_type": "code",
      "source": [
        "from sklearn.ensemble import ExtraTreesClassifier\n",
        "from sklearn.metrics import accuracy_score, precision_score, recall_score, f1_score\n",
        "from sklearn.model_selection import GridSearchCV\n",
        "from sklearn.metrics import roc_auc_score\n",
        "from sklearn.model_selection import cross_val_score"
      ],
      "metadata": {
        "id": "RP5UwdScgSrn"
      },
      "execution_count": 21,
      "outputs": []
    },
    {
      "cell_type": "markdown",
      "source": [
        "Grid Search for Hyperparameter Tuning"
      ],
      "metadata": {
        "id": "n_C0qEHL7iGh"
      }
    },
    {
      "cell_type": "code",
      "source": [
        "from sklearn.model_selection import GridSearchCV\n",
        "from sklearn.metrics import roc_auc_score\n",
        "from sklearn.model_selection import cross_val_score"
      ],
      "metadata": {
        "id": "Rr7jlQ9mk1tl"
      },
      "execution_count": 22,
      "outputs": []
    },
    {
      "cell_type": "code",
      "source": [
        "# Define the parameter grid for Extra Trees\n",
        "extra_trees_param_grid = {\n",
        "    'n_estimators': [100, 200, 300],\n",
        "    'max_depth': [5, 10, 15],\n",
        "    'min_samples_split': [2, 5, 10],\n",
        "    'min_samples_leaf': [1, 2, 4]\n",
        "}\n",
        "\n",
        "# Perform grid search for Extra Trees\n",
        "extra_trees_grid_search = GridSearchCV(estimator=ExtraTreesClassifier(), param_grid=extra_trees_param_grid, cv=5, scoring='roc_auc')\n",
        "extra_trees_grid_search.fit(x_train, y_train)\n",
        "\n",
        "# Evaluate the model\n",
        "y_pred_train_extra_trees = extra_trees_grid_search.predict(x_train)\n",
        "y_pred_proba_train_extra_trees = extra_trees_grid_search.predict_proba(x_train)[:,1]\n",
        "extra_trees_auc_train = roc_auc_score(y_train, y_pred_proba_train_extra_trees)\n",
        "extra_trees_accuracy_train = accuracy_score(y_train, y_pred_train_extra_trees)\n",
        "\n",
        "#y_pred_test_extra_trees = extra_trees_grid_search.predict(x_test)\n",
        "#y_pred_proba_test_extra_trees = extra_trees_grid_search.predict_proba(x_test)[:,1]\n",
        "#extra_trees_auc_test = roc_auc_score(y_test, y_pred_proba_test_extra_trees)\n",
        "#extra_trees_accuracy_test = accuracy_score(y_test, y_pred_test_extra_trees)\n",
        "\n",
        "extra_trees_auc_cv = cross_val_score(extra_trees_grid_search, x_train, y_train, cv=5, scoring='roc_auc')\n",
        "extra_trees_accuracy_cv = cross_val_score(extra_trees_grid_search, x_train, y_train, cv=5)\n",
        "\n",
        "print(f'Extra Trees Best Hyperparameters: {extra_trees_grid_search.best_params_}')\n",
        "print(f'Extra Trees Accuracy (train): {extra_trees_accuracy_train:.4f}')\n",
        "print(f'Extra Trees AUC (train): {extra_trees_auc_train:.4f}')\n",
        "print(f'Extra Trees Accuracy (cv): {extra_trees_accuracy_cv.mean():.4f}')\n",
        "print(f'Extra Trees AUC (cv): {extra_trees_auc_cv.mean():.4f}')\n",
        "#print(f'Extra Trees Accuracy (test): {extra_trees_accuracy_test:.4f}')\n",
        "#print(f'Extra Trees AUC (test): {extra_trees_auc_test:.4f}')"
      ],
      "metadata": {
        "id": "V45I8cBRKtj5",
        "colab": {
          "base_uri": "https://localhost:8080/"
        },
        "outputId": "cae21c68-0e65-4e95-b525-89823d0bee60"
      },
      "execution_count": 23,
      "outputs": [
        {
          "output_type": "stream",
          "name": "stdout",
          "text": [
            "Extra Trees Best Hyperparameters: {'max_depth': 15, 'min_samples_leaf': 4, 'min_samples_split': 5, 'n_estimators': 200}\n",
            "Extra Trees Accuracy (train): 0.8874\n",
            "Extra Trees AUC (train): 0.9382\n",
            "Extra Trees Accuracy (cv): 0.7940\n",
            "Extra Trees AUC (cv): 0.7927\n"
          ]
        }
      ]
    },
    {
      "cell_type": "markdown",
      "source": [
        "# Export"
      ],
      "metadata": {
        "id": "sGo6XLuWdhyb"
      }
    },
    {
      "cell_type": "code",
      "source": [
        "y_pred_extra_trees=extra_trees_grid_search.predict_proba(x_test)[:, 1]\n",
        "pred_extra_trees = pd.DataFrame(y_pred_extra_trees, columns=['readmitted_within_30days'])\n",
        "merged_df = test[['id']].merge(pred_extra_trees, left_index=True, right_index=True)\n",
        "merged_df.to_csv('pred_extra_trees.csv', index=False)\n",
        "\n",
        "from google.colab import files\n",
        "files.download('pred_extra_trees.csv')"
      ],
      "metadata": {
        "colab": {
          "base_uri": "https://localhost:8080/",
          "height": 17
        },
        "id": "aQlplL3gk-EG",
        "outputId": "910cc0fd-c6a5-46c5-d161-52f77a82163c"
      },
      "execution_count": 25,
      "outputs": [
        {
          "output_type": "display_data",
          "data": {
            "text/plain": [
              "<IPython.core.display.Javascript object>"
            ],
            "application/javascript": [
              "\n",
              "    async function download(id, filename, size) {\n",
              "      if (!google.colab.kernel.accessAllowed) {\n",
              "        return;\n",
              "      }\n",
              "      const div = document.createElement('div');\n",
              "      const label = document.createElement('label');\n",
              "      label.textContent = `Downloading \"${filename}\": `;\n",
              "      div.appendChild(label);\n",
              "      const progress = document.createElement('progress');\n",
              "      progress.max = size;\n",
              "      div.appendChild(progress);\n",
              "      document.body.appendChild(div);\n",
              "\n",
              "      const buffers = [];\n",
              "      let downloaded = 0;\n",
              "\n",
              "      const channel = await google.colab.kernel.comms.open(id);\n",
              "      // Send a message to notify the kernel that we're ready.\n",
              "      channel.send({})\n",
              "\n",
              "      for await (const message of channel.messages) {\n",
              "        // Send a message to notify the kernel that we're ready.\n",
              "        channel.send({})\n",
              "        if (message.buffers) {\n",
              "          for (const buffer of message.buffers) {\n",
              "            buffers.push(buffer);\n",
              "            downloaded += buffer.byteLength;\n",
              "            progress.value = downloaded;\n",
              "          }\n",
              "        }\n",
              "      }\n",
              "      const blob = new Blob(buffers, {type: 'application/binary'});\n",
              "      const a = document.createElement('a');\n",
              "      a.href = window.URL.createObjectURL(blob);\n",
              "      a.download = filename;\n",
              "      div.appendChild(a);\n",
              "      a.click();\n",
              "      div.remove();\n",
              "    }\n",
              "  "
            ]
          },
          "metadata": {}
        },
        {
          "output_type": "display_data",
          "data": {
            "text/plain": [
              "<IPython.core.display.Javascript object>"
            ],
            "application/javascript": [
              "download(\"download_23cee901-f2d1-47b9-92ca-cf5c23166557\", \"pred_extra_trees.csv\", 110753)"
            ]
          },
          "metadata": {}
        }
      ]
    }
  ]
}