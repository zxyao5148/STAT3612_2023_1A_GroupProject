{
  "cells": [
    {
      "cell_type": "markdown",
      "metadata": {
        "id": "fFipp7tAAVxh"
      },
      "source": [
        "# Timeseries classification with a Transformer model\n",
        "\n",
        "[Code source](https://keras.io/examples/timeseries/timeseries_classification_transformer/)<br>\n",
        "**Description:** This notebook demonstrates how to do timeseries classification using a Transformer model."
      ]
    },
    {
      "cell_type": "markdown",
      "metadata": {
        "id": "ll7UTtsyAVxj"
      },
      "source": [
        "## Introduction\n",
        "\n",
        "This is the Transformer architecture from\n",
        "[Attention Is All You Need](https://arxiv.org/abs/1706.03762),\n",
        "applied to timeseries instead of natural language.\n",
        "\n",
        "This example requires TensorFlow 2.4 or higher.\n",
        "\n",
        "## Load the dataset\n",
        "\n",
        "We are going to use the same dataset and preprocessing as the\n",
        "[TimeSeries Classification from Scratch](https://keras.io/examples/timeseries/timeseries_classification_from_scratch)\n",
        "example."
      ]
    },
    {
      "cell_type": "code",
      "source": [
        "import pandas as pd\n",
        "import requests\n",
        "from io import StringIO\n",
        "import numpy as np\n",
        "from sklearn.model_selection import train_test_split"
      ],
      "metadata": {
        "id": "Etik5-Cq_IbE"
      },
      "execution_count": null,
      "outputs": []
    },
    {
      "cell_type": "code",
      "source": [
        "# combined data\n",
        "# load processed data\n",
        "train_mean = pd.read_csv('https://raw.githubusercontent.com/zxyao5148/STAT3612_2023_1A_GroupProject/main/data_processing/train/train_valid_mean_mode.csv')\n",
        "train_latest = pd.read_csv('https://raw.githubusercontent.com/zxyao5148/STAT3612_2023_1A_GroupProject/main/data_processing/train/train_valid_latest.csv')\n",
        "train_dispers = pd.read_csv('https://raw.githubusercontent.com/zxyao5148/STAT3612_2023_1A_GroupProject/main/data_processing/train/train_valid_entropy_std.csv')\n",
        "train_min = pd.read_csv('https://raw.githubusercontent.com/zxyao5148/STAT3612_2023_1A_GroupProject/main/data_processing/train/train_valid_min.csv')\n",
        "train_max = pd.read_csv('https://raw.githubusercontent.com/zxyao5148/STAT3612_2023_1A_GroupProject/main/data_processing/train/train_valid_max.csv')\n",
        "train_q1 = pd.read_csv('https://raw.githubusercontent.com/zxyao5148/STAT3612_2023_1A_GroupProject/main/data_processing/train/train_valid_q1.csv')\n",
        "train_q3 = pd.read_csv('https://raw.githubusercontent.com/zxyao5148/STAT3612_2023_1A_GroupProject/main/data_processing/train/train_valid_q3.csv')\n",
        "train_kurtosis = pd.read_csv('https://raw.githubusercontent.com/zxyao5148/STAT3612_2023_1A_GroupProject/main/data_processing/train/train_valid_kurtosis.csv')\n",
        "train_skewness = pd.read_csv('https://raw.githubusercontent.com/zxyao5148/STAT3612_2023_1A_GroupProject/main/data_processing/train/train_valid_skewness.csv')\n",
        "train_range = pd.read_csv('https://raw.githubusercontent.com/zxyao5148/STAT3612_2023_1A_GroupProject/main/data_processing/train/train_valid_range.csv')\n",
        "train_iqr = pd.read_csv('https://raw.githubusercontent.com/zxyao5148/STAT3612_2023_1A_GroupProject/main/data_processing/train/train_valid_iqr.csv')\n",
        "train_latest = train_latest.drop(train_latest.columns[0:13], axis=1)\n",
        "train_dispers = train_dispers.drop(train_dispers.columns[0:13], axis=1)\n",
        "train_min = train_min.drop(train_min.columns[0:13], axis=1)\n",
        "train_max = train_max.drop(train_max.columns[0:13], axis=1)\n",
        "train_q1 = train_q1.drop(train_q1.columns[0:13], axis=1)\n",
        "train_q3 = train_q3.drop(train_q3.columns[0:13], axis=1)\n",
        "train_kurtois = train_kurtosis.drop(train_kurtosis.columns[0:13], axis=1)\n",
        "train_skewness = train_skewness.drop(train_skewness.columns[0:13], axis=1)\n",
        "train_range = train_range.drop(train_range.columns[0:13], axis=1)\n",
        "train_iqr = train_iqr.drop(train_iqr.columns[0:13], axis=1)\n",
        "\n",
        "# merge train_ and train_latest\n",
        "train = pd.concat([train_mean, train_latest, train_dispers, train_min, train_max], axis=1)\n",
        "\n",
        "# load processed data\n",
        "test_mean = pd.read_csv('https://raw.githubusercontent.com/zxyao5148/STAT3612_2023_1A_GroupProject/main/data_processing/test/test_mean_mode.csv')\n",
        "test_latest = pd.read_csv('https://raw.githubusercontent.com/zxyao5148/STAT3612_2023_1A_GroupProject/main/data_processing/test/test_latest.csv')\n",
        "test_dispers = pd.read_csv('https://raw.githubusercontent.com/zxyao5148/STAT3612_2023_1A_GroupProject/main/data_processing/test/test_entropy_std.csv')\n",
        "test_min = pd.read_csv('https://raw.githubusercontent.com/zxyao5148/STAT3612_2023_1A_GroupProject/main/data_processing/test/test_min.csv')\n",
        "test_max = pd.read_csv('https://raw.githubusercontent.com/zxyao5148/STAT3612_2023_1A_GroupProject/main/data_processing/test/test_max.csv')\n",
        "test_q1 = pd.read_csv('https://raw.githubusercontent.com/zxyao5148/STAT3612_2023_1A_GroupProject/main/data_processing/test/test_q1.csv')\n",
        "test_q3 = pd.read_csv('https://raw.githubusercontent.com/zxyao5148/STAT3612_2023_1A_GroupProject/main/data_processing/test/test_q3.csv')\n",
        "test_kurtosis = pd.read_csv('https://raw.githubusercontent.com/zxyao5148/STAT3612_2023_1A_GroupProject/main/data_processing/test/test_kurtosis.csv')\n",
        "test_skewness = pd.read_csv('https://raw.githubusercontent.com/zxyao5148/STAT3612_2023_1A_GroupProject/main/data_processing/test/test_skewness.csv')\n",
        "test_range = pd.read_csv('https://raw.githubusercontent.com/zxyao5148/STAT3612_2023_1A_GroupProject/main/data_processing/test/test_range.csv')\n",
        "test_iqr = pd.read_csv('https://raw.githubusercontent.com/zxyao5148/STAT3612_2023_1A_GroupProject/main/data_processing/test/test_iqr.csv')\n",
        "test_latest = test_latest.drop(test_latest.columns[0:12], axis=1)\n",
        "test_dispers = test_dispers.drop(test_dispers.columns[0:12], axis=1)\n",
        "test_min = test_min.drop(test_min.columns[0:12], axis=1)\n",
        "test_max = test_max.drop(test_max.columns[0:12], axis=1)\n",
        "test_q1 = test_q1.drop(test_q1.columns[0:12], axis=1)\n",
        "test_q3 = test_q3.drop(test_q3.columns[0:12], axis=1)\n",
        "test_kurtosis = test_kurtosis.drop(test_kurtosis.columns[0:12], axis=1)\n",
        "test_skewness = test_skewness.drop(test_skewness.columns[0:12], axis=1)\n",
        "test_range = test_range.drop(test_range.columns[0:12], axis=1)\n",
        "test_iqr = test_iqr.drop(test_iqr.columns[0:12], axis=1)\n",
        "\n",
        "# merge train_mean and train_latest\n",
        "test = pd.concat([test_mean, test_latest, test_dispers, test_min, test_max], axis=1)"
      ],
      "metadata": {
        "id": "XTy-70aq-lHt"
      },
      "execution_count": null,
      "outputs": []
    },
    {
      "cell_type": "code",
      "source": [
        "train = train.drop(train.columns[11], axis=1)\n",
        "test = test.drop(test.columns[11], axis=1)"
      ],
      "metadata": {
        "id": "gcKNgAf8AJgT"
      },
      "execution_count": null,
      "outputs": []
    },
    {
      "cell_type": "code",
      "execution_count": null,
      "metadata": {
        "id": "ElXnpwlhE0i8",
        "colab": {
          "base_uri": "https://localhost:8080/"
        },
        "outputId": "ca4db3dc-81c6-4a2b-a2d2-292d759cddb2"
      },
      "outputs": [
        {
          "output_type": "stream",
          "name": "stdout",
          "text": [
            "--2023-11-22 03:21:13--  https://raw.githubusercontent.com/zxyao5148/STAT3612_2023_1A_GroupProject/main/code_base/adjust_imbl.py\n",
            "Resolving raw.githubusercontent.com (raw.githubusercontent.com)... 185.199.108.133, 185.199.109.133, 185.199.110.133, ...\n",
            "Connecting to raw.githubusercontent.com (raw.githubusercontent.com)|185.199.108.133|:443... connected.\n",
            "HTTP request sent, awaiting response... 200 OK\n",
            "Length: 927 [text/plain]\n",
            "Saving to: ‘adjust_imbl.py.4’\n",
            "\n",
            "adjust_imbl.py.4    100%[===================>]     927  --.-KB/s    in 0s      \n",
            "\n",
            "2023-11-22 03:21:13 (64.5 MB/s) - ‘adjust_imbl.py.4’ saved [927/927]\n",
            "\n",
            "Original dataset shape Counter({0: 9564, 1: 2032})\n",
            "Resampled dataset shape Counter({0: 2032, 1: 2032})\n"
          ]
        }
      ],
      "source": [
        "x_train = pd.concat([train.iloc[:,10], train.iloc[:,12:]], axis=1)\n",
        "y_train = train.iloc[:,11]\n",
        "\n",
        "!wget https://raw.githubusercontent.com/zxyao5148/STAT3612_2023_1A_GroupProject/main/code_base/adjust_imbl.py\n",
        "from adjust_imbl import adjust_imbl\n",
        "x_train, y_train = adjust_imbl(x_train, y_train)\n",
        "\n",
        "x_test = test.iloc[:,10:]"
      ]
    },
    {
      "cell_type": "code",
      "source": [
        "# standarize data\n",
        "from sklearn.preprocessing import StandardScaler\n",
        "scaler = StandardScaler()\n",
        "x_train = scaler.fit_transform(x_train)\n",
        "x_test = scaler.fit_transform(x_test)"
      ],
      "metadata": {
        "id": "9BynG2C0vyKK"
      },
      "execution_count": null,
      "outputs": []
    },
    {
      "cell_type": "code",
      "source": [
        "# Reshape the arrays\n",
        "x_train = x_train.reshape((x_train.shape[0], x_train.shape[1], 1))\n",
        "x_test = x_test.reshape((x_test.shape[0], x_test.shape[1], 1))\n",
        "\n",
        "x_train.shape\n",
        "\n",
        "# Reset the index of the y_train DataFrame\n",
        "y_train = y_train.reset_index(drop=True)\n",
        "\n",
        "# Shuffle the indices\n",
        "idx = np.random.permutation(len(x_train))\n",
        "\n",
        "# Reassign the values using the shuffled indices\n",
        "x_train = x_train[idx]\n",
        "y_train = y_train.iloc[idx]"
      ],
      "metadata": {
        "id": "b5V-AUZMQvgh"
      },
      "execution_count": null,
      "outputs": []
    },
    {
      "cell_type": "markdown",
      "metadata": {
        "id": "teAicBzgAVxl"
      },
      "source": [
        "## Build the model\n",
        "\n",
        "Our model processes a tensor of shape `(batch size, sequence length, features)`,\n",
        "where `sequence length` is the number of time steps and `features` is each input\n",
        "timeseries.\n",
        "\n",
        "You can replace your classification RNN layers with this one: the\n",
        "inputs are fully compatible!"
      ]
    },
    {
      "cell_type": "code",
      "execution_count": null,
      "metadata": {
        "id": "My1EkBMVAVxm"
      },
      "outputs": [],
      "source": [
        "from tensorflow import keras\n",
        "from tensorflow.keras import layers\n",
        "from keras.callbacks import EarlyStopping, ReduceLROnPlateau"
      ]
    },
    {
      "cell_type": "markdown",
      "metadata": {
        "id": "EqvY-0bTAVxm"
      },
      "source": [
        "We include residual connections, layer normalization, and dropout.\n",
        "The resulting layer can be stacked multiple times.\n",
        "\n",
        "The projection layers are implemented through `keras.layers.Conv1D`."
      ]
    },
    {
      "cell_type": "code",
      "execution_count": null,
      "metadata": {
        "id": "ROFmOBEbAVxm"
      },
      "outputs": [],
      "source": [
        "\n",
        "def transformer_encoder(inputs, head_size, num_heads, ff_dim, dropout=0):\n",
        "    # Normalization and Attention\n",
        "    x = layers.LayerNormalization(epsilon=1e-4)(inputs)\n",
        "    x = layers.MultiHeadAttention(\n",
        "        key_dim=head_size, num_heads=num_heads, dropout=dropout\n",
        "    )(x, x)\n",
        "    x = layers.Dropout(dropout)(x)\n",
        "    res = x + inputs\n",
        "\n",
        "    # Feed Forward Part\n",
        "    x = layers.LayerNormalization(epsilon=1e-6)(res)\n",
        "    x = layers.Conv1D(filters=ff_dim, kernel_size=1, activation=\"relu\")(x)\n",
        "    x = layers.Dropout(dropout)(x)\n",
        "    x = layers.Conv1D(filters=inputs.shape[-1], kernel_size=1)(x)\n",
        "    return x + res\n"
      ]
    },
    {
      "cell_type": "markdown",
      "metadata": {
        "id": "HToe2fRaAVxm"
      },
      "source": [
        "The main part of our model is now complete. We can stack multiple of those\n",
        "`transformer_encoder` blocks and we can also proceed to add the final\n",
        "Multi-Layer Perceptron classification head. Apart from a stack of `Dense`\n",
        "layers, we need to reduce the output tensor of the `TransformerEncoder` part of\n",
        "our model down to a vector of features for each data point in the current\n",
        "batch. A common way to achieve this is to use a pooling layer. For\n",
        "this example, a `GlobalAveragePooling1D` layer is sufficient."
      ]
    },
    {
      "cell_type": "code",
      "execution_count": null,
      "metadata": {
        "id": "ZjN7kGY8AVxn"
      },
      "outputs": [],
      "source": [
        "\n",
        "def build_model(\n",
        "    input_shape,\n",
        "    head_size,\n",
        "    num_heads,\n",
        "    ff_dim,\n",
        "    num_transformer_blocks,\n",
        "    mlp_units,\n",
        "    dropout=0,\n",
        "    mlp_dropout=0,\n",
        "):\n",
        "    inputs = keras.Input(shape=input_shape)\n",
        "    x = inputs\n",
        "    for _ in range(num_transformer_blocks):\n",
        "        x = transformer_encoder(x, head_size, num_heads, ff_dim, dropout)\n",
        "\n",
        "    x = layers.GlobalAveragePooling1D(data_format=\"channels_first\")(x)\n",
        "    for dim in mlp_units:\n",
        "        x = layers.Dense(dim, activation=\"relu\")(x)\n",
        "        x = layers.Dropout(mlp_dropout)(x)\n",
        "    outputs = layers.Dense(n_classes, activation=\"softmax\")(x)\n",
        "    return keras.Model(inputs, outputs)\n"
      ]
    },
    {
      "cell_type": "markdown",
      "metadata": {
        "id": "ThjL6P51AVxn"
      },
      "source": [
        "## Train"
      ]
    },
    {
      "cell_type": "code",
      "execution_count": null,
      "metadata": {
        "colab": {
          "base_uri": "https://localhost:8080/"
        },
        "id": "_xfOV48KAVxn",
        "outputId": "a2c03c7a-baee-423c-ddb5-3faaf978661f"
      },
      "outputs": [
        {
          "output_type": "stream",
          "name": "stdout",
          "text": [
            "Model: \"model\"\n",
            "__________________________________________________________________________________________________\n",
            " Layer (type)                Output Shape                 Param #   Connected to                  \n",
            "==================================================================================================\n",
            " input_1 (InputLayer)        [(None, 467, 1)]             0         []                            \n",
            "                                                                                                  \n",
            " layer_normalization (Layer  (None, 467, 1)               2         ['input_1[0][0]']             \n",
            " Normalization)                                                                                   \n",
            "                                                                                                  \n",
            " multi_head_attention (Mult  (None, 467, 1)               7169      ['layer_normalization[0][0]', \n",
            " iHeadAttention)                                                     'layer_normalization[0][0]'] \n",
            "                                                                                                  \n",
            " dropout (Dropout)           (None, 467, 1)               0         ['multi_head_attention[0][0]']\n",
            "                                                                                                  \n",
            " tf.__operators__.add (TFOp  (None, 467, 1)               0         ['dropout[0][0]',             \n",
            " Lambda)                                                             'input_1[0][0]']             \n",
            "                                                                                                  \n",
            " layer_normalization_1 (Lay  (None, 467, 1)               2         ['tf.__operators__.add[0][0]']\n",
            " erNormalization)                                                                                 \n",
            "                                                                                                  \n",
            " conv1d (Conv1D)             (None, 467, 4)               8         ['layer_normalization_1[0][0]'\n",
            "                                                                    ]                             \n",
            "                                                                                                  \n",
            " dropout_1 (Dropout)         (None, 467, 4)               0         ['conv1d[0][0]']              \n",
            "                                                                                                  \n",
            " conv1d_1 (Conv1D)           (None, 467, 1)               5         ['dropout_1[0][0]']           \n",
            "                                                                                                  \n",
            " tf.__operators__.add_1 (TF  (None, 467, 1)               0         ['conv1d_1[0][0]',            \n",
            " OpLambda)                                                           'tf.__operators__.add[0][0]']\n",
            "                                                                                                  \n",
            " layer_normalization_2 (Lay  (None, 467, 1)               2         ['tf.__operators__.add_1[0][0]\n",
            " erNormalization)                                                   ']                            \n",
            "                                                                                                  \n",
            " multi_head_attention_1 (Mu  (None, 467, 1)               7169      ['layer_normalization_2[0][0]'\n",
            " ltiHeadAttention)                                                  , 'layer_normalization_2[0][0]\n",
            "                                                                    ']                            \n",
            "                                                                                                  \n",
            " dropout_2 (Dropout)         (None, 467, 1)               0         ['multi_head_attention_1[0][0]\n",
            "                                                                    ']                            \n",
            "                                                                                                  \n",
            " tf.__operators__.add_2 (TF  (None, 467, 1)               0         ['dropout_2[0][0]',           \n",
            " OpLambda)                                                           'tf.__operators__.add_1[0][0]\n",
            "                                                                    ']                            \n",
            "                                                                                                  \n",
            " layer_normalization_3 (Lay  (None, 467, 1)               2         ['tf.__operators__.add_2[0][0]\n",
            " erNormalization)                                                   ']                            \n",
            "                                                                                                  \n",
            " conv1d_2 (Conv1D)           (None, 467, 4)               8         ['layer_normalization_3[0][0]'\n",
            "                                                                    ]                             \n",
            "                                                                                                  \n",
            " dropout_3 (Dropout)         (None, 467, 4)               0         ['conv1d_2[0][0]']            \n",
            "                                                                                                  \n",
            " conv1d_3 (Conv1D)           (None, 467, 1)               5         ['dropout_3[0][0]']           \n",
            "                                                                                                  \n",
            " tf.__operators__.add_3 (TF  (None, 467, 1)               0         ['conv1d_3[0][0]',            \n",
            " OpLambda)                                                           'tf.__operators__.add_2[0][0]\n",
            "                                                                    ']                            \n",
            "                                                                                                  \n",
            " layer_normalization_4 (Lay  (None, 467, 1)               2         ['tf.__operators__.add_3[0][0]\n",
            " erNormalization)                                                   ']                            \n",
            "                                                                                                  \n",
            " multi_head_attention_2 (Mu  (None, 467, 1)               7169      ['layer_normalization_4[0][0]'\n",
            " ltiHeadAttention)                                                  , 'layer_normalization_4[0][0]\n",
            "                                                                    ']                            \n",
            "                                                                                                  \n",
            " dropout_4 (Dropout)         (None, 467, 1)               0         ['multi_head_attention_2[0][0]\n",
            "                                                                    ']                            \n",
            "                                                                                                  \n",
            " tf.__operators__.add_4 (TF  (None, 467, 1)               0         ['dropout_4[0][0]',           \n",
            " OpLambda)                                                           'tf.__operators__.add_3[0][0]\n",
            "                                                                    ']                            \n",
            "                                                                                                  \n",
            " layer_normalization_5 (Lay  (None, 467, 1)               2         ['tf.__operators__.add_4[0][0]\n",
            " erNormalization)                                                   ']                            \n",
            "                                                                                                  \n",
            " conv1d_4 (Conv1D)           (None, 467, 4)               8         ['layer_normalization_5[0][0]'\n",
            "                                                                    ]                             \n",
            "                                                                                                  \n",
            " dropout_5 (Dropout)         (None, 467, 4)               0         ['conv1d_4[0][0]']            \n",
            "                                                                                                  \n",
            " conv1d_5 (Conv1D)           (None, 467, 1)               5         ['dropout_5[0][0]']           \n",
            "                                                                                                  \n",
            " tf.__operators__.add_5 (TF  (None, 467, 1)               0         ['conv1d_5[0][0]',            \n",
            " OpLambda)                                                           'tf.__operators__.add_4[0][0]\n",
            "                                                                    ']                            \n",
            "                                                                                                  \n",
            " layer_normalization_6 (Lay  (None, 467, 1)               2         ['tf.__operators__.add_5[0][0]\n",
            " erNormalization)                                                   ']                            \n",
            "                                                                                                  \n",
            " multi_head_attention_3 (Mu  (None, 467, 1)               7169      ['layer_normalization_6[0][0]'\n",
            " ltiHeadAttention)                                                  , 'layer_normalization_6[0][0]\n",
            "                                                                    ']                            \n",
            "                                                                                                  \n",
            " dropout_6 (Dropout)         (None, 467, 1)               0         ['multi_head_attention_3[0][0]\n",
            "                                                                    ']                            \n",
            "                                                                                                  \n",
            " tf.__operators__.add_6 (TF  (None, 467, 1)               0         ['dropout_6[0][0]',           \n",
            " OpLambda)                                                           'tf.__operators__.add_5[0][0]\n",
            "                                                                    ']                            \n",
            "                                                                                                  \n",
            " layer_normalization_7 (Lay  (None, 467, 1)               2         ['tf.__operators__.add_6[0][0]\n",
            " erNormalization)                                                   ']                            \n",
            "                                                                                                  \n",
            " conv1d_6 (Conv1D)           (None, 467, 4)               8         ['layer_normalization_7[0][0]'\n",
            "                                                                    ]                             \n",
            "                                                                                                  \n",
            " dropout_7 (Dropout)         (None, 467, 4)               0         ['conv1d_6[0][0]']            \n",
            "                                                                                                  \n",
            " conv1d_7 (Conv1D)           (None, 467, 1)               5         ['dropout_7[0][0]']           \n",
            "                                                                                                  \n",
            " tf.__operators__.add_7 (TF  (None, 467, 1)               0         ['conv1d_7[0][0]',            \n",
            " OpLambda)                                                           'tf.__operators__.add_6[0][0]\n",
            "                                                                    ']                            \n",
            "                                                                                                  \n",
            " global_average_pooling1d (  (None, 467)                  0         ['tf.__operators__.add_7[0][0]\n",
            " GlobalAveragePooling1D)                                            ']                            \n",
            "                                                                                                  \n",
            " dense (Dense)               (None, 128)                  59904     ['global_average_pooling1d[0][\n",
            "                                                                    0]']                          \n",
            "                                                                                                  \n",
            " dropout_8 (Dropout)         (None, 128)                  0         ['dense[0][0]']               \n",
            "                                                                                                  \n",
            " dense_1 (Dense)             (None, 2)                    258       ['dropout_8[0][0]']           \n",
            "                                                                                                  \n",
            "==================================================================================================\n",
            "Total params: 88906 (347.29 KB)\n",
            "Trainable params: 88906 (347.29 KB)\n",
            "Non-trainable params: 0 (0.00 Byte)\n",
            "__________________________________________________________________________________________________\n",
            "Epoch 1/200\n",
            "26/26 [==============================] - 45s 947ms/step - loss: 0.9324 - sparse_categorical_accuracy: 0.5177 - auc: 0.5245 - val_loss: 0.7969 - val_sparse_categorical_accuracy: 0.5498 - val_auc: 0.5761 - lr: 1.0000e-04\n",
            "Epoch 2/200\n",
            "26/26 [==============================] - 25s 963ms/step - loss: 0.8592 - sparse_categorical_accuracy: 0.5731 - auc: 0.5993 - val_loss: 0.7483 - val_sparse_categorical_accuracy: 0.5916 - val_auc: 0.6334 - lr: 1.0000e-04\n",
            "Epoch 3/200\n",
            "26/26 [==============================] - 24s 942ms/step - loss: 0.7645 - sparse_categorical_accuracy: 0.6081 - auc: 0.6422 - val_loss: 0.7123 - val_sparse_categorical_accuracy: 0.6310 - val_auc: 0.6667 - lr: 1.0000e-04\n",
            "Epoch 4/200\n",
            "26/26 [==============================] - 24s 937ms/step - loss: 0.7310 - sparse_categorical_accuracy: 0.6361 - auc: 0.6726 - val_loss: 0.6870 - val_sparse_categorical_accuracy: 0.6396 - val_auc: 0.6858 - lr: 1.0000e-04\n",
            "Epoch 5/200\n",
            "26/26 [==============================] - 25s 947ms/step - loss: 0.7023 - sparse_categorical_accuracy: 0.6460 - auc: 0.6938 - val_loss: 0.6694 - val_sparse_categorical_accuracy: 0.6507 - val_auc: 0.7003 - lr: 1.0000e-04\n",
            "Epoch 6/200\n",
            "26/26 [==============================] - 25s 947ms/step - loss: 0.6951 - sparse_categorical_accuracy: 0.6641 - auc: 0.7048 - val_loss: 0.6554 - val_sparse_categorical_accuracy: 0.6544 - val_auc: 0.7144 - lr: 1.0000e-04\n",
            "Epoch 7/200\n",
            "26/26 [==============================] - 24s 920ms/step - loss: 0.6685 - sparse_categorical_accuracy: 0.6626 - auc: 0.7173 - val_loss: 0.6457 - val_sparse_categorical_accuracy: 0.6691 - val_auc: 0.7241 - lr: 1.0000e-04\n",
            "Epoch 8/200\n",
            "26/26 [==============================] - 24s 944ms/step - loss: 0.6473 - sparse_categorical_accuracy: 0.6902 - auc: 0.7342 - val_loss: 0.6357 - val_sparse_categorical_accuracy: 0.6765 - val_auc: 0.7324 - lr: 1.0000e-04\n",
            "Epoch 9/200\n",
            "26/26 [==============================] - 24s 916ms/step - loss: 0.6291 - sparse_categorical_accuracy: 0.6856 - auc: 0.7446 - val_loss: 0.6278 - val_sparse_categorical_accuracy: 0.6814 - val_auc: 0.7387 - lr: 1.0000e-04\n",
            "Epoch 10/200\n",
            "26/26 [==============================] - 24s 944ms/step - loss: 0.6102 - sparse_categorical_accuracy: 0.6924 - auc: 0.7610 - val_loss: 0.6195 - val_sparse_categorical_accuracy: 0.6827 - val_auc: 0.7440 - lr: 1.0000e-04\n",
            "Epoch 11/200\n",
            "26/26 [==============================] - 24s 946ms/step - loss: 0.6188 - sparse_categorical_accuracy: 0.6949 - auc: 0.7500 - val_loss: 0.6150 - val_sparse_categorical_accuracy: 0.6925 - val_auc: 0.7494 - lr: 1.0000e-04\n",
            "Epoch 12/200\n",
            "26/26 [==============================] - 24s 946ms/step - loss: 0.5842 - sparse_categorical_accuracy: 0.6939 - auc: 0.7632 - val_loss: 0.6127 - val_sparse_categorical_accuracy: 0.6913 - val_auc: 0.7506 - lr: 1.0000e-04\n",
            "Epoch 13/200\n",
            "26/26 [==============================] - 24s 922ms/step - loss: 0.5898 - sparse_categorical_accuracy: 0.7053 - auc: 0.7677 - val_loss: 0.6096 - val_sparse_categorical_accuracy: 0.6937 - val_auc: 0.7543 - lr: 1.0000e-04\n",
            "Epoch 14/200\n",
            "26/26 [==============================] - 24s 922ms/step - loss: 0.5915 - sparse_categorical_accuracy: 0.7029 - auc: 0.7672 - val_loss: 0.6059 - val_sparse_categorical_accuracy: 0.6999 - val_auc: 0.7565 - lr: 1.0000e-04\n",
            "Epoch 15/200\n",
            "26/26 [==============================] - 25s 947ms/step - loss: 0.5789 - sparse_categorical_accuracy: 0.7035 - auc: 0.7668 - val_loss: 0.6019 - val_sparse_categorical_accuracy: 0.7048 - val_auc: 0.7600 - lr: 1.0000e-04\n",
            "Epoch 16/200\n",
            "26/26 [==============================] - 24s 946ms/step - loss: 0.5644 - sparse_categorical_accuracy: 0.7216 - auc: 0.7884 - val_loss: 0.6005 - val_sparse_categorical_accuracy: 0.7073 - val_auc: 0.7632 - lr: 1.0000e-04\n",
            "Epoch 17/200\n",
            "26/26 [==============================] - 24s 945ms/step - loss: 0.5575 - sparse_categorical_accuracy: 0.7152 - auc: 0.7835 - val_loss: 0.5994 - val_sparse_categorical_accuracy: 0.7097 - val_auc: 0.7639 - lr: 1.0000e-04\n",
            "Epoch 18/200\n",
            "26/26 [==============================] - 24s 945ms/step - loss: 0.5481 - sparse_categorical_accuracy: 0.7244 - auc: 0.7970 - val_loss: 0.5972 - val_sparse_categorical_accuracy: 0.7122 - val_auc: 0.7664 - lr: 1.0000e-04\n",
            "Epoch 19/200\n",
            "26/26 [==============================] - 24s 946ms/step - loss: 0.5456 - sparse_categorical_accuracy: 0.7345 - auc: 0.7942 - val_loss: 0.5950 - val_sparse_categorical_accuracy: 0.7159 - val_auc: 0.7677 - lr: 1.0000e-04\n",
            "Epoch 20/200\n",
            "26/26 [==============================] - 25s 947ms/step - loss: 0.5509 - sparse_categorical_accuracy: 0.7219 - auc: 0.7865 - val_loss: 0.5933 - val_sparse_categorical_accuracy: 0.7134 - val_auc: 0.7700 - lr: 1.0000e-04\n",
            "Epoch 21/200\n",
            "26/26 [==============================] - 24s 925ms/step - loss: 0.5334 - sparse_categorical_accuracy: 0.7349 - auc: 0.8027 - val_loss: 0.5923 - val_sparse_categorical_accuracy: 0.7146 - val_auc: 0.7706 - lr: 1.0000e-04\n",
            "Epoch 22/200\n",
            "26/26 [==============================] - 24s 923ms/step - loss: 0.5383 - sparse_categorical_accuracy: 0.7361 - auc: 0.8019 - val_loss: 0.5916 - val_sparse_categorical_accuracy: 0.7109 - val_auc: 0.7720 - lr: 1.0000e-04\n",
            "Epoch 23/200\n",
            "26/26 [==============================] - 25s 948ms/step - loss: 0.5265 - sparse_categorical_accuracy: 0.7299 - auc: 0.8051 - val_loss: 0.5900 - val_sparse_categorical_accuracy: 0.7220 - val_auc: 0.7728 - lr: 1.0000e-04\n",
            "Epoch 24/200\n",
            "26/26 [==============================] - 24s 922ms/step - loss: 0.5267 - sparse_categorical_accuracy: 0.7410 - auc: 0.8107 - val_loss: 0.5894 - val_sparse_categorical_accuracy: 0.7171 - val_auc: 0.7731 - lr: 1.0000e-04\n",
            "Epoch 25/200\n",
            "26/26 [==============================] - 24s 923ms/step - loss: 0.5341 - sparse_categorical_accuracy: 0.7321 - auc: 0.8018 - val_loss: 0.5878 - val_sparse_categorical_accuracy: 0.7183 - val_auc: 0.7736 - lr: 1.0000e-04\n",
            "Epoch 26/200\n",
            "26/26 [==============================] - 25s 947ms/step - loss: 0.5150 - sparse_categorical_accuracy: 0.7472 - auc: 0.8151 - val_loss: 0.5886 - val_sparse_categorical_accuracy: 0.7159 - val_auc: 0.7744 - lr: 1.0000e-04\n",
            "Epoch 27/200\n",
            "26/26 [==============================] - 25s 949ms/step - loss: 0.5217 - sparse_categorical_accuracy: 0.7410 - auc: 0.8115 - val_loss: 0.5877 - val_sparse_categorical_accuracy: 0.7146 - val_auc: 0.7748 - lr: 1.0000e-04\n",
            "Epoch 28/200\n",
            "26/26 [==============================] - 25s 948ms/step - loss: 0.5214 - sparse_categorical_accuracy: 0.7309 - auc: 0.8113 - val_loss: 0.5862 - val_sparse_categorical_accuracy: 0.7159 - val_auc: 0.7754 - lr: 1.0000e-04\n",
            "Epoch 29/200\n",
            "26/26 [==============================] - 25s 948ms/step - loss: 0.5206 - sparse_categorical_accuracy: 0.7398 - auc: 0.8106 - val_loss: 0.5868 - val_sparse_categorical_accuracy: 0.7134 - val_auc: 0.7771 - lr: 1.0000e-04\n",
            "Epoch 30/200\n",
            "26/26 [==============================] - 24s 923ms/step - loss: 0.5100 - sparse_categorical_accuracy: 0.7493 - auc: 0.8195 - val_loss: 0.5844 - val_sparse_categorical_accuracy: 0.7183 - val_auc: 0.7774 - lr: 1.0000e-04\n",
            "Epoch 31/200\n",
            "26/26 [==============================] - 24s 921ms/step - loss: 0.5081 - sparse_categorical_accuracy: 0.7521 - auc: 0.8212 - val_loss: 0.5854 - val_sparse_categorical_accuracy: 0.7183 - val_auc: 0.7781 - lr: 1.0000e-04\n",
            "Epoch 32/200\n",
            "26/26 [==============================] - 25s 948ms/step - loss: 0.5104 - sparse_categorical_accuracy: 0.7392 - auc: 0.8222 - val_loss: 0.5846 - val_sparse_categorical_accuracy: 0.7220 - val_auc: 0.7786 - lr: 1.0000e-04\n",
            "Epoch 33/200\n",
            "26/26 [==============================] - 24s 920ms/step - loss: 0.5141 - sparse_categorical_accuracy: 0.7432 - auc: 0.8153 - val_loss: 0.5836 - val_sparse_categorical_accuracy: 0.7183 - val_auc: 0.7795 - lr: 1.0000e-04\n",
            "Epoch 34/200\n",
            "26/26 [==============================] - 25s 947ms/step - loss: 0.4913 - sparse_categorical_accuracy: 0.7610 - auc: 0.8337 - val_loss: 0.5833 - val_sparse_categorical_accuracy: 0.7196 - val_auc: 0.7797 - lr: 1.0000e-04\n",
            "Epoch 35/200\n",
            "26/26 [==============================] - 25s 947ms/step - loss: 0.4992 - sparse_categorical_accuracy: 0.7558 - auc: 0.8257 - val_loss: 0.5844 - val_sparse_categorical_accuracy: 0.7183 - val_auc: 0.7801 - lr: 1.0000e-04\n",
            "Epoch 36/200\n",
            "26/26 [==============================] - 25s 948ms/step - loss: 0.4993 - sparse_categorical_accuracy: 0.7530 - auc: 0.8290 - val_loss: 0.5826 - val_sparse_categorical_accuracy: 0.7220 - val_auc: 0.7803 - lr: 1.0000e-04\n",
            "Epoch 37/200\n",
            "26/26 [==============================] - 24s 923ms/step - loss: 0.4972 - sparse_categorical_accuracy: 0.7533 - auc: 0.8313 - val_loss: 0.5826 - val_sparse_categorical_accuracy: 0.7208 - val_auc: 0.7799 - lr: 1.0000e-04\n",
            "Epoch 38/200\n",
            "26/26 [==============================] - 25s 948ms/step - loss: 0.4855 - sparse_categorical_accuracy: 0.7601 - auc: 0.8377 - val_loss: 0.5814 - val_sparse_categorical_accuracy: 0.7245 - val_auc: 0.7811 - lr: 1.0000e-04\n",
            "Epoch 39/200\n",
            "26/26 [==============================] - 25s 947ms/step - loss: 0.4881 - sparse_categorical_accuracy: 0.7588 - auc: 0.8350 - val_loss: 0.5822 - val_sparse_categorical_accuracy: 0.7146 - val_auc: 0.7812 - lr: 1.0000e-04\n",
            "Epoch 40/200\n",
            "26/26 [==============================] - 24s 921ms/step - loss: 0.4876 - sparse_categorical_accuracy: 0.7539 - auc: 0.8367 - val_loss: 0.5815 - val_sparse_categorical_accuracy: 0.7171 - val_auc: 0.7808 - lr: 1.0000e-04\n",
            "Epoch 41/200\n",
            "26/26 [==============================] - 24s 925ms/step - loss: 0.4913 - sparse_categorical_accuracy: 0.7558 - auc: 0.8291 - val_loss: 0.5804 - val_sparse_categorical_accuracy: 0.7159 - val_auc: 0.7804 - lr: 1.0000e-04\n",
            "Epoch 42/200\n",
            "26/26 [==============================] - 24s 922ms/step - loss: 0.4794 - sparse_categorical_accuracy: 0.7693 - auc: 0.8445 - val_loss: 0.5824 - val_sparse_categorical_accuracy: 0.7159 - val_auc: 0.7814 - lr: 1.0000e-04\n",
            "Epoch 43/200\n",
            "26/26 [==============================] - 25s 947ms/step - loss: 0.4755 - sparse_categorical_accuracy: 0.7699 - auc: 0.8470 - val_loss: 0.5820 - val_sparse_categorical_accuracy: 0.7220 - val_auc: 0.7822 - lr: 1.0000e-04\n",
            "Epoch 44/200\n",
            "26/26 [==============================] - 25s 947ms/step - loss: 0.4696 - sparse_categorical_accuracy: 0.7696 - auc: 0.8496 - val_loss: 0.5830 - val_sparse_categorical_accuracy: 0.7269 - val_auc: 0.7816 - lr: 1.0000e-04\n",
            "Epoch 45/200\n",
            "26/26 [==============================] - 25s 948ms/step - loss: 0.4771 - sparse_categorical_accuracy: 0.7696 - auc: 0.8448 - val_loss: 0.5803 - val_sparse_categorical_accuracy: 0.7208 - val_auc: 0.7817 - lr: 1.0000e-04\n",
            "Epoch 46/200\n",
            "26/26 [==============================] - 24s 924ms/step - loss: 0.4771 - sparse_categorical_accuracy: 0.7724 - auc: 0.8457 - val_loss: 0.5815 - val_sparse_categorical_accuracy: 0.7196 - val_auc: 0.7825 - lr: 1.0000e-04\n",
            "Epoch 47/200\n",
            "26/26 [==============================] - 24s 922ms/step - loss: 0.4703 - sparse_categorical_accuracy: 0.7733 - auc: 0.8533 - val_loss: 0.5815 - val_sparse_categorical_accuracy: 0.7196 - val_auc: 0.7817 - lr: 1.0000e-04\n",
            "Epoch 48/200\n",
            "26/26 [==============================] - 24s 921ms/step - loss: 0.4627 - sparse_categorical_accuracy: 0.7736 - auc: 0.8574 - val_loss: 0.5842 - val_sparse_categorical_accuracy: 0.7183 - val_auc: 0.7821 - lr: 1.0000e-04\n",
            "Epoch 49/200\n",
            "26/26 [==============================] - 25s 948ms/step - loss: 0.4690 - sparse_categorical_accuracy: 0.7755 - auc: 0.8503 - val_loss: 0.5820 - val_sparse_categorical_accuracy: 0.7159 - val_auc: 0.7821 - lr: 1.0000e-04\n",
            "Epoch 50/200\n",
            "26/26 [==============================] - 24s 944ms/step - loss: 0.4647 - sparse_categorical_accuracy: 0.7782 - auc: 0.8555 - val_loss: 0.5842 - val_sparse_categorical_accuracy: 0.7257 - val_auc: 0.7825 - lr: 1.0000e-04\n",
            "Epoch 51/200\n",
            "26/26 [==============================] - 24s 920ms/step - loss: 0.4588 - sparse_categorical_accuracy: 0.7761 - auc: 0.8566 - val_loss: 0.5837 - val_sparse_categorical_accuracy: 0.7245 - val_auc: 0.7829 - lr: 1.0000e-05\n",
            "Epoch 52/200\n",
            "26/26 [==============================] - 24s 922ms/step - loss: 0.4667 - sparse_categorical_accuracy: 0.7690 - auc: 0.8538 - val_loss: 0.5830 - val_sparse_categorical_accuracy: 0.7257 - val_auc: 0.7832 - lr: 1.0000e-05\n",
            "Epoch 53/200\n",
            "26/26 [==============================] - 25s 948ms/step - loss: 0.4591 - sparse_categorical_accuracy: 0.7795 - auc: 0.8553 - val_loss: 0.5826 - val_sparse_categorical_accuracy: 0.7220 - val_auc: 0.7828 - lr: 1.0000e-05\n",
            "Epoch 54/200\n",
            "26/26 [==============================] - 24s 924ms/step - loss: 0.4670 - sparse_categorical_accuracy: 0.7745 - auc: 0.8514 - val_loss: 0.5824 - val_sparse_categorical_accuracy: 0.7220 - val_auc: 0.7831 - lr: 1.0000e-05\n",
            "Epoch 55/200\n",
            "26/26 [==============================] - 24s 925ms/step - loss: 0.4540 - sparse_categorical_accuracy: 0.7804 - auc: 0.8627 - val_loss: 0.5826 - val_sparse_categorical_accuracy: 0.7232 - val_auc: 0.7834 - lr: 1.0000e-05\n"
          ]
        }
      ],
      "source": [
        "from sklearn.metrics import roc_auc_score\n",
        "import tensorflow as tf\n",
        "\n",
        "# Define a custom metric function to calculate AUC\n",
        "def auc(y_true, y_pred):\n",
        "    auc = tf.py_function(roc_auc_score, (y_true, y_pred[:, 1]), tf.float32)\n",
        "    return auc\n",
        "\n",
        "input_shape = x_train.shape[1:]\n",
        "n_classes = 2\n",
        "\n",
        "model = build_model(\n",
        "    input_shape,\n",
        "    head_size=256,\n",
        "    num_heads=4,\n",
        "    ff_dim=4,\n",
        "    num_transformer_blocks=4,\n",
        "    mlp_units=[128],\n",
        "    mlp_dropout=0.4,\n",
        "    dropout=0.25,\n",
        ")\n",
        "\n",
        "model.compile(\n",
        "    loss=\"sparse_categorical_crossentropy\",\n",
        "    optimizer=keras.optimizers.Adam(learning_rate=1e-4),\n",
        "    metrics=[\"sparse_categorical_accuracy\",auc],\n",
        ")\n",
        "model.summary()\n",
        "\n",
        "callbacks = [EarlyStopping(patience=10, restore_best_weights=True), ReduceLROnPlateau(factor=0.1, patience=5)]\n",
        "\n",
        "history=model.fit(\n",
        "    x_train,\n",
        "    y_train,\n",
        "    validation_split=0.2,\n",
        "    epochs=200,\n",
        "    batch_size=128,\n",
        "    callbacks=callbacks,\n",
        ")\n"
      ]
    },
    {
      "cell_type": "code",
      "source": [
        "model.evaluate(x_train, y_train, verbose=1)"
      ],
      "metadata": {
        "colab": {
          "base_uri": "https://localhost:8080/"
        },
        "id": "hgZtWioArFya",
        "outputId": "3631c73c-4de4-48a5-cfb0-2eaa18cd9385"
      },
      "execution_count": null,
      "outputs": [
        {
          "output_type": "stream",
          "name": "stdout",
          "text": [
            "127/127 [==============================] - 10s 78ms/step - loss: 0.4683 - sparse_categorical_accuracy: 0.7783 - auc: 0.8531\n"
          ]
        },
        {
          "output_type": "execute_result",
          "data": {
            "text/plain": [
              "[0.4682866632938385, 0.7782972455024719, 0.8531419038772583]"
            ]
          },
          "metadata": {},
          "execution_count": 11
        }
      ]
    },
    {
      "cell_type": "code",
      "execution_count": null,
      "metadata": {
        "id": "Y_Z2ZOXat02p",
        "colab": {
          "base_uri": "https://localhost:8080/",
          "height": 1000
        },
        "outputId": "20cedb5d-b55b-48ae-ead6-7f9624a316d6"
      },
      "outputs": [
        {
          "output_type": "display_data",
          "data": {
            "text/plain": [
              "<Figure size 640x480 with 1 Axes>"
            ],
            "image/png": "[encoded data removed]"
          },
          "metadata": {}
        },
        {
          "output_type": "display_data",
          "data": {
            "text/plain": [
              "<Figure size 640x480 with 1 Axes>"
            ],
            "image/png": "[encoded data removed]"
          },
          "metadata": {}
        },
        {
          "output_type": "display_data",
          "data": {
            "text/plain": [
              "<Figure size 640x480 with 1 Axes>"
            ],
            "image/png": "[encoded data removed]"
          },
          "metadata": {}
        }
      ],
      "source": [
        "import matplotlib.pyplot as plt\n",
        "\n",
        "# Plot the training and validation accuracy over epochs\n",
        "plt.plot(history.history['sparse_categorical_accuracy'], label='Training Accuracy')\n",
        "plt.plot(history.history['val_sparse_categorical_accuracy'], label='Validation Accuracy')\n",
        "plt.xlabel('Epoch')\n",
        "plt.ylabel('Accuracy')\n",
        "plt.ylim([0, 1])\n",
        "plt.legend(loc='lower right')\n",
        "plt.show()\n",
        "\n",
        "# Plot the training and validation auc over epochs\n",
        "plt.plot(history.history['auc'], label='Training Auc')\n",
        "plt.plot(history.history['val_auc'], label='Validation Auc')\n",
        "plt.xlabel('Epoch')\n",
        "plt.ylabel('Auc')\n",
        "plt.ylim([0, 1])\n",
        "plt.legend(loc='lower right')\n",
        "plt.show()\n",
        "\n",
        "# Plot the training and validation loss over epochs\n",
        "plt.plot(history.history['loss'], label='Training Loss')\n",
        "plt.plot(history.history['val_loss'], label='Validation Loss')\n",
        "plt.xlabel('Epoch')\n",
        "plt.ylabel('Loss')\n",
        "plt.legend(loc='upper right')\n",
        "plt.show()"
      ]
    },
    {
      "cell_type": "code",
      "execution_count": null,
      "metadata": {
        "id": "CJPGAOfCXdbQ",
        "colab": {
          "base_uri": "https://localhost:8080/"
        },
        "outputId": "2644e964-9a52-4db5-cc4e-9da365360cd5"
      },
      "outputs": [
        {
          "output_type": "stream",
          "name": "stdout",
          "text": [
            "127/127 [==============================] - 9s 72ms/step\n"
          ]
        }
      ],
      "source": [
        "from sklearn.metrics import roc_auc_score\n",
        "\n",
        "y_train_pred = model.predict(x_train)\n",
        "# Convert probabilities to binary predictions\n",
        "y_train_pred_binary = np.argmax(y_train_pred, axis=1) # Choose the class with the highest probability\n"
      ]
    },
    {
      "cell_type": "code",
      "execution_count": null,
      "metadata": {
        "id": "Sy0ek675ZiFH",
        "colab": {
          "base_uri": "https://localhost:8080/"
        },
        "outputId": "6c43e0f3-7515-418d-f956-8e0abb11640b"
      },
      "outputs": [
        {
          "output_type": "stream",
          "name": "stdout",
          "text": [
            "Accuracy (train): 0.7783\n",
            "AUC (train): 0.8545\n"
          ]
        }
      ],
      "source": [
        "from sklearn.metrics import accuracy_score, confusion_matrix, classification_report, roc_curve, auc, roc_auc_score\n",
        "accuracy_train = accuracy_score(y_train, y_train_pred_binary)\n",
        "auc_train = roc_auc_score(y_train, y_train_pred[:, 1])\n",
        "\n",
        "print(f'Accuracy (train): {accuracy_train:.4f}')\n",
        "print(f'AUC (train): {auc_train:.4f}')\n"
      ]
    },
    {
      "cell_type": "code",
      "execution_count": null,
      "metadata": {
        "id": "GeA1W5inTJF5",
        "colab": {
          "base_uri": "https://localhost:8080/"
        },
        "outputId": "0bf07d09-d546-4b63-9731-b5a3a09a418e"
      },
      "outputs": [
        {
          "output_type": "stream",
          "name": "stdout",
          "text": [
            "For training set:\n",
            "Precision: 0.8204\n",
            "Recall: 0.7126\n",
            "F1 Score: 0.7627 \n",
            "\n"
          ]
        }
      ],
      "source": [
        "from sklearn.metrics import precision_score, recall_score, f1_score\n",
        "# Calculate precision, recall, and F1 score\n",
        "precision = precision_score(y_train, y_train_pred_binary)\n",
        "recall = recall_score(y_train, y_train_pred_binary)\n",
        "f1 = f1_score(y_train, y_train_pred_binary)\n",
        "\n",
        "# Print with 4 digits limit\n",
        "print(\"For training set:\")\n",
        "print(\"Precision:\", round(precision, 4))\n",
        "print(\"Recall:\", round(recall, 4))\n",
        "print(\"F1 Score:\", round(f1, 4),\"\\n\")"
      ]
    },
    {
      "cell_type": "markdown",
      "metadata": {
        "id": "z-wKWgSmudgB"
      },
      "source": [
        "## Export prediction"
      ]
    },
    {
      "cell_type": "code",
      "execution_count": null,
      "metadata": {
        "id": "Y6B7uK6asv-A",
        "colab": {
          "base_uri": "https://localhost:8080/"
        },
        "outputId": "67233a65-4713-4df2-a7f0-69d8b22aeed9"
      },
      "outputs": [
        {
          "output_type": "stream",
          "name": "stdout",
          "text": [
            "92/92 [==============================] - 7s 73ms/step\n"
          ]
        }
      ],
      "source": [
        "y_test_pred = model.predict(x_test)\n",
        "#y_test_pred_binary = (y_test_pred > threshold).astype(int)"
      ]
    },
    {
      "cell_type": "code",
      "source": [
        "# Assuming y_test_pred_binary is a numpy array\n",
        "predictions_df = pd.DataFrame(y_test_pred[:, 1], columns=['readmitted_within_30days'])\n",
        "merged_df = test[['id']].merge(predictions_df, left_index=True, right_index=True)\n",
        "merged_df.to_csv('predictions.csv', index=False)\n",
        "\n",
        "from google.colab import files\n",
        "files.download('predictions.csv')"
      ],
      "metadata": {
        "id": "_qN4t543aJ4V",
        "colab": {
          "base_uri": "https://localhost:8080/",
          "height": 17
        },
        "outputId": "0de887a2-5dd4-40ec-fe2d-441ed4d13774"
      },
      "execution_count": null,
      "outputs": [
        {
          "output_type": "display_data",
          "data": {
            "text/plain": [
              "<IPython.core.display.Javascript object>"
            ],
            "application/javascript": [
              "\n",
              "    async function download(id, filename, size) {\n",
              "      if (!google.colab.kernel.accessAllowed) {\n",
              "        return;\n",
              "      }\n",
              "      const div = document.createElement('div');\n",
              "      const label = document.createElement('label');\n",
              "      label.textContent = `Downloading \"${filename}\": `;\n",
              "      div.appendChild(label);\n",
              "      const progress = document.createElement('progress');\n",
              "      progress.max = size;\n",
              "      div.appendChild(progress);\n",
              "      document.body.appendChild(div);\n",
              "\n",
              "      const buffers = [];\n",
              "      let downloaded = 0;\n",
              "\n",
              "      const channel = await google.colab.kernel.comms.open(id);\n",
              "      // Send a message to notify the kernel that we're ready.\n",
              "      channel.send({})\n",
              "\n",
              "      for await (const message of channel.messages) {\n",
              "        // Send a message to notify the kernel that we're ready.\n",
              "        channel.send({})\n",
              "        if (message.buffers) {\n",
              "          for (const buffer of message.buffers) {\n",
              "            buffers.push(buffer);\n",
              "            downloaded += buffer.byteLength;\n",
              "            progress.value = downloaded;\n",
              "          }\n",
              "        }\n",
              "      }\n",
              "      const blob = new Blob(buffers, {type: 'application/binary'});\n",
              "      const a = document.createElement('a');\n",
              "      a.href = window.URL.createObjectURL(blob);\n",
              "      a.download = filename;\n",
              "      div.appendChild(a);\n",
              "      a.click();\n",
              "      div.remove();\n",
              "    }\n",
              "  "
            ]
          },
          "metadata": {}
        },
        {
          "output_type": "display_data",
          "data": {
            "text/plain": [
              "<IPython.core.display.Javascript object>"
            ],
            "application/javascript": [
              "download(\"download_a93182ab-5739-4a5b-b3aa-7aab9691a911\", \"predictions.csv\", 83918)"
            ]
          },
          "metadata": {}
        }
      ]
    }
  ],
  "metadata": {
    "accelerator": "GPU",
    "colab": {
      "provenance": [],
      "gpuType": "T4"
    },
    "kernelspec": {
      "display_name": "Python 3",
      "name": "python3"
    },
    "language_info": {
      "codemirror_mode": {
        "name": "ipython",
        "version": 3
      },
      "file_extension": ".py",
      "mimetype": "text/x-python",
      "name": "python",
      "nbconvert_exporter": "python",
      "pygments_lexer": "ipython3",
      "version": "3.7.0"
    }
  },
  "nbformat": 4,
  "nbformat_minor": 0
}