{
  "cells": [
    {
      "cell_type": "markdown",
      "metadata": {
        "id": "view-in-github",
        "colab_type": "text"
      },
      "source": [
        "<a href=\"https://colab.research.google.com/github/zxyao5148/STAT3612_2023_1A_GroupProject/blob/main/RNN_Transformer/RNN_latest.ipynb\" target=\"_parent\"><img src=\"https://colab.research.google.com/assets/colab-badge.svg\" alt=\"Open In Colab\"/></a>"
      ]
    },
    {
      "cell_type": "markdown",
      "metadata": {
        "id": "fFipp7tAAVxh"
      },
      "source": [
        "**Description:** This notebook demonstrates how to do timeseries classification using RNN models (Simple RNN, LSTM, and GRU).\n",
        "\n",
        "Reference: https://www.kaggle.com/code/thebrownviking20/intro-to-recurrent-neural-networks-lstm-gru/notebook"
      ]
    },
    {
      "cell_type": "markdown",
      "metadata": {
        "id": "ll7UTtsyAVxj"
      },
      "source": [
        "## Load the dataset"
      ]
    },
    {
      "cell_type": "code",
      "execution_count": 1,
      "metadata": {
        "id": "U-qy06BXAVxk"
      },
      "outputs": [],
      "source": [
        "import pandas as pd\n",
        "import requests\n",
        "from io import StringIO\n",
        "import numpy as np\n",
        "from sklearn.model_selection import train_test_split\n",
        "\n",
        "# Raw URLs for the CSV files\n",
        "train_url = \"https://raw.githubusercontent.com/zxyao5148/STAT3612_2023_1A_GroupProject/main/data_processing/train/train_valid_latest.csv\"\n",
        "test_url = \"https://raw.githubusercontent.com/zxyao5148/STAT3612_2023_1A_GroupProject/main/data_processing/test/test_latest.csv\"\n",
        "\n",
        "# Download the CSV files\n",
        "train_csv = requests.get(train_url).text\n",
        "test_csv = requests.get(test_url).text\n",
        "\n",
        "# Read the CSV files into pandas DataFrames\n",
        "train_valid = pd.read_csv(StringIO(train_csv))\n",
        "test = pd.read_csv(StringIO(test_csv))\n",
        "\n",
        "train_valid['deathtime'] = np.where(train_valid['deathtime'].notnull(), 1, 0)\n",
        "test['deathtime'] = np.where(test['deathtime'].notnull(), 1, 0)\n",
        "\n",
        "# with 80% of the data for training and 20% for validation\n",
        "train, valid = train_test_split(train_valid, test_size=0.2, random_state=3612)\n",
        "\n",
        "# Split the data into features (X) and target variable (y)\n",
        "x_train = train[['deathtime']].join(train.iloc[:, 9:])\n",
        "y_train = train.iloc[:, 8]\n",
        "\n",
        "x_valid = valid[['deathtime']].join(valid.iloc[:, 9:])\n",
        "y_valid = valid.iloc[:, 8]\n",
        "\n",
        "x_test = test[['deathtime']].join(test.iloc[:,8:])"
      ]
    },
    {
      "cell_type": "code",
      "execution_count": 2,
      "metadata": {
        "id": "ElXnpwlhE0i8"
      },
      "outputs": [],
      "source": [
        "x_train = x_train.values.reshape((x_train.shape[0], x_train.shape[1], 1))\n",
        "x_valid = x_valid.values.reshape((x_valid.shape[0], x_valid.shape[1], 1))\n",
        "x_test = x_test.values.reshape((x_test.shape[0], x_test.shape[1], 1))\n",
        "\n",
        "# Reset the index of the y_train DataFrame\n",
        "y_train = y_train.reset_index(drop=True)\n",
        "\n",
        "# Shuffle the indices\n",
        "idx = np.random.permutation(len(x_train))\n",
        "\n",
        "# Reassign the values using the shuffled indices\n",
        "x_train = x_train[idx]\n",
        "y_train = y_train.iloc[idx]"
      ]
    },
    {
      "cell_type": "markdown",
      "metadata": {
        "id": "teAicBzgAVxl"
      },
      "source": [
        "## Build the model\n",
        "\n",
        "The model processes a tensor of shape `(batch size, sequence length, features)`,\n",
        "where `sequence length` is the number of time steps and `features` is each input\n",
        "timeseries.\n"
      ]
    },
    {
      "cell_type": "code",
      "execution_count": 3,
      "metadata": {
        "id": "My1EkBMVAVxm"
      },
      "outputs": [],
      "source": [
        "from keras.layers import Dense, Activation, Dropout\n",
        "from keras.layers import LSTM, GRU, SimpleRNN\n",
        "from keras.models import Sequential\n",
        "import keras"
      ]
    },
    {
      "cell_type": "markdown",
      "metadata": {
        "id": "WnIPR8DVnL27"
      },
      "source": [
        "# Simple RNN"
      ]
    },
    {
      "cell_type": "code",
      "execution_count": 18,
      "metadata": {
        "colab": {
          "base_uri": "https://localhost:8080/"
        },
        "id": "ROFmOBEbAVxm",
        "outputId": "a958d799-290b-4941-9d58-6d3c95fdac67"
      },
      "outputs": [
        {
          "output_type": "stream",
          "name": "stdout",
          "text": [
            "model compiled\n",
            "Model: \"sequential_4\"\n",
            "_________________________________________________________________\n",
            " Layer (type)                Output Shape              Param #   \n",
            "=================================================================\n",
            " simple_rnn_2 (SimpleRNN)    (None, 156, 64)           4224      \n",
            "                                                                 \n",
            " dropout_6 (Dropout)         (None, 156, 64)           0         \n",
            "                                                                 \n",
            " simple_rnn_3 (SimpleRNN)    (None, 128)               24704     \n",
            "                                                                 \n",
            " dropout_7 (Dropout)         (None, 128)               0         \n",
            "                                                                 \n",
            " dense_3 (Dense)             (None, 1)                 129       \n",
            "                                                                 \n",
            "=================================================================\n",
            "Total params: 29057 (113.50 KB)\n",
            "Trainable params: 29057 (113.50 KB)\n",
            "Non-trainable params: 0 (0.00 Byte)\n",
            "_________________________________________________________________\n",
            "None\n",
            "Epoch 1/100\n",
            "37/37 [==============================] - 14s 287ms/step - loss: 0.4903 - accuracy: 0.8019 - val_loss: 0.4356 - val_accuracy: 0.8267\n",
            "Epoch 2/100\n",
            "37/37 [==============================] - 10s 279ms/step - loss: 0.4553 - accuracy: 0.8216 - val_loss: 0.4311 - val_accuracy: 0.8302\n",
            "Epoch 3/100\n",
            "37/37 [==============================] - 8s 227ms/step - loss: 0.4535 - accuracy: 0.8216 - val_loss: 0.4405 - val_accuracy: 0.8302\n",
            "Epoch 4/100\n",
            "37/37 [==============================] - 10s 285ms/step - loss: 0.4467 - accuracy: 0.8234 - val_loss: 0.4492 - val_accuracy: 0.8297\n",
            "Epoch 5/100\n",
            "37/37 [==============================] - 10s 280ms/step - loss: 0.4465 - accuracy: 0.8214 - val_loss: 0.4256 - val_accuracy: 0.8306\n",
            "Epoch 6/100\n",
            "37/37 [==============================] - 10s 280ms/step - loss: 0.4431 - accuracy: 0.8219 - val_loss: 0.4291 - val_accuracy: 0.8362\n",
            "Epoch 7/100\n",
            "37/37 [==============================] - 9s 231ms/step - loss: 0.4431 - accuracy: 0.8231 - val_loss: 0.4310 - val_accuracy: 0.8349\n",
            "Epoch 8/100\n",
            "37/37 [==============================] - 11s 287ms/step - loss: 0.4392 - accuracy: 0.8245 - val_loss: 0.4325 - val_accuracy: 0.8319\n",
            "Epoch 9/100\n",
            "37/37 [==============================] - 12s 339ms/step - loss: 0.4423 - accuracy: 0.8229 - val_loss: 0.4293 - val_accuracy: 0.8289\n",
            "Epoch 10/100\n",
            "37/37 [==============================] - 12s 304ms/step - loss: 0.4455 - accuracy: 0.8237 - val_loss: 0.4309 - val_accuracy: 0.8332\n",
            "Epoch 11/100\n",
            "37/37 [==============================] - 12s 331ms/step - loss: 0.4404 - accuracy: 0.8233 - val_loss: 0.4273 - val_accuracy: 0.8306\n",
            "Epoch 12/100\n",
            "37/37 [==============================] - 9s 244ms/step - loss: 0.4397 - accuracy: 0.8247 - val_loss: 0.4355 - val_accuracy: 0.8310\n",
            "Epoch 13/100\n",
            "37/37 [==============================] - 10s 276ms/step - loss: 0.4398 - accuracy: 0.8237 - val_loss: 0.4291 - val_accuracy: 0.8362\n",
            "Epoch 14/100\n",
            "37/37 [==============================] - 10s 279ms/step - loss: 0.4390 - accuracy: 0.8242 - val_loss: 0.4185 - val_accuracy: 0.8366\n",
            "Epoch 15/100\n",
            "37/37 [==============================] - 9s 241ms/step - loss: 0.4445 - accuracy: 0.8250 - val_loss: 0.4428 - val_accuracy: 0.8267\n",
            "Epoch 16/100\n",
            "37/37 [==============================] - 11s 294ms/step - loss: 0.4645 - accuracy: 0.8232 - val_loss: 0.4564 - val_accuracy: 0.8315\n",
            "Epoch 17/100\n",
            "37/37 [==============================] - 11s 302ms/step - loss: 0.4570 - accuracy: 0.8221 - val_loss: 0.4507 - val_accuracy: 0.8297\n",
            "Epoch 18/100\n",
            "37/37 [==============================] - 9s 248ms/step - loss: 0.4510 - accuracy: 0.8234 - val_loss: 0.4253 - val_accuracy: 0.8353\n",
            "Epoch 19/100\n",
            "37/37 [==============================] - 10s 253ms/step - loss: 0.4388 - accuracy: 0.8264 - val_loss: 0.4338 - val_accuracy: 0.8375\n",
            "Epoch 20/100\n",
            "37/37 [==============================] - 10s 273ms/step - loss: 0.4408 - accuracy: 0.8256 - val_loss: 0.4207 - val_accuracy: 0.8379\n",
            "Epoch 21/100\n",
            "37/37 [==============================] - 10s 282ms/step - loss: 0.4345 - accuracy: 0.8269 - val_loss: 0.4156 - val_accuracy: 0.8366\n",
            "Epoch 22/100\n",
            "37/37 [==============================] - 9s 228ms/step - loss: 0.4362 - accuracy: 0.8265 - val_loss: 0.4201 - val_accuracy: 0.8362\n",
            "Epoch 23/100\n",
            "37/37 [==============================] - 11s 287ms/step - loss: 0.4341 - accuracy: 0.8271 - val_loss: 0.4229 - val_accuracy: 0.8310\n",
            "Epoch 24/100\n",
            "37/37 [==============================] - 10s 279ms/step - loss: 0.4376 - accuracy: 0.8252 - val_loss: 0.4213 - val_accuracy: 0.8375\n",
            "Epoch 25/100\n",
            "37/37 [==============================] - 8s 227ms/step - loss: 0.4323 - accuracy: 0.8274 - val_loss: 0.4217 - val_accuracy: 0.8328\n",
            "Epoch 26/100\n",
            "37/37 [==============================] - 10s 284ms/step - loss: 0.4356 - accuracy: 0.8255 - val_loss: 0.4135 - val_accuracy: 0.8414\n",
            "Epoch 27/100\n",
            "37/37 [==============================] - 11s 286ms/step - loss: 0.4329 - accuracy: 0.8272 - val_loss: 0.4175 - val_accuracy: 0.8392\n",
            "Epoch 28/100\n",
            "37/37 [==============================] - 9s 232ms/step - loss: 0.4055 - accuracy: 0.8354 - val_loss: 0.3371 - val_accuracy: 0.8784\n",
            "Epoch 29/100\n",
            "37/37 [==============================] - 19s 511ms/step - loss: 0.4575 - accuracy: 0.8213 - val_loss: 0.4235 - val_accuracy: 0.8302\n",
            "Epoch 30/100\n",
            "37/37 [==============================] - 11s 283ms/step - loss: 0.4638 - accuracy: 0.8236 - val_loss: 0.5048 - val_accuracy: 0.8362\n",
            "Epoch 31/100\n",
            "37/37 [==============================] - 15s 397ms/step - loss: 0.4637 - accuracy: 0.8199 - val_loss: 0.4654 - val_accuracy: 0.8267\n",
            "Epoch 32/100\n",
            "37/37 [==============================] - 11s 294ms/step - loss: 0.4552 - accuracy: 0.8227 - val_loss: 0.4930 - val_accuracy: 0.8155\n",
            "Epoch 33/100\n",
            "37/37 [==============================] - 17s 470ms/step - loss: 0.4604 - accuracy: 0.8216 - val_loss: 0.4420 - val_accuracy: 0.8297\n",
            "Epoch 34/100\n",
            "37/37 [==============================] - 15s 386ms/step - loss: 0.4469 - accuracy: 0.8268 - val_loss: 0.4360 - val_accuracy: 0.8448\n",
            "Epoch 35/100\n",
            "37/37 [==============================] - 16s 432ms/step - loss: 0.4083 - accuracy: 0.8401 - val_loss: 0.3150 - val_accuracy: 0.9103\n",
            "Epoch 36/100\n",
            "37/37 [==============================] - 11s 288ms/step - loss: 0.4324 - accuracy: 0.8426 - val_loss: 0.4567 - val_accuracy: 0.8259\n",
            "Epoch 37/100\n",
            "37/37 [==============================] - 11s 298ms/step - loss: 0.4726 - accuracy: 0.8233 - val_loss: 0.4549 - val_accuracy: 0.8302\n",
            "Epoch 38/100\n",
            "37/37 [==============================] - 12s 323ms/step - loss: 0.4644 - accuracy: 0.8238 - val_loss: 0.4476 - val_accuracy: 0.8310\n",
            "Epoch 39/100\n",
            "37/37 [==============================] - 11s 304ms/step - loss: 0.4597 - accuracy: 0.8247 - val_loss: 0.4657 - val_accuracy: 0.8302\n",
            "Epoch 40/100\n",
            "37/37 [==============================] - 11s 303ms/step - loss: 0.4622 - accuracy: 0.8226 - val_loss: 0.4602 - val_accuracy: 0.8267\n",
            "Epoch 41/100\n",
            "37/37 [==============================] - 9s 255ms/step - loss: 0.4627 - accuracy: 0.8231 - val_loss: 0.4420 - val_accuracy: 0.8297\n",
            "Epoch 42/100\n",
            "37/37 [==============================] - 10s 267ms/step - loss: 0.4484 - accuracy: 0.8236 - val_loss: 0.4103 - val_accuracy: 0.8284\n",
            "Epoch 43/100\n",
            "37/37 [==============================] - 10s 284ms/step - loss: 0.4342 - accuracy: 0.8251 - val_loss: 0.3890 - val_accuracy: 0.8384\n",
            "Epoch 44/100\n",
            "37/37 [==============================] - 10s 259ms/step - loss: 0.4452 - accuracy: 0.8234 - val_loss: 0.3659 - val_accuracy: 0.8440\n",
            "Epoch 45/100\n",
            "37/37 [==============================] - 10s 261ms/step - loss: 0.4073 - accuracy: 0.8353 - val_loss: 0.3312 - val_accuracy: 0.8789\n"
          ]
        }
      ],
      "source": [
        "# Create a Sequential model\n",
        "model = Sequential()\n",
        "\n",
        "model.add(SimpleRNN(64, return_sequences=True, input_shape=(x_train.shape[1], 1)))\n",
        "model.add(Dropout(0.5))\n",
        "model.add(SimpleRNN(128, return_sequences=False, activation=\"relu\"))\n",
        "model.add(Dropout(0.5))\n",
        "model.add(Dense(1, activation=\"sigmoid\"))\n",
        "model.compile(loss='binary_crossentropy', optimizer=keras.optimizers.Adam(learning_rate=0.001), metrics=[\"accuracy\"])\n",
        "\n",
        "print('model compiled')\n",
        "\n",
        "# Define early stopping callback\n",
        "callbacks = [keras.callbacks.EarlyStopping(patience=10, restore_best_weights=True)]\n",
        "\n",
        "print(model.summary())\n",
        "\n",
        "# Train the model with a smaller batch size\n",
        "history_RNN = model.fit(x_train, y_train, batch_size=256, epochs=100, validation_data=(x_valid, y_valid), callbacks=callbacks)"
      ]
    },
    {
      "cell_type": "code",
      "execution_count": 22,
      "metadata": {
        "colab": {
          "base_uri": "https://localhost:8080/",
          "height": 887
        },
        "id": "1-HwZ-HnknmJ",
        "outputId": "9a9039a8-3bfe-44fd-e462-039264765498"
      },
      "outputs": [
        {
          "output_type": "display_data",
          "data": {
            "text/plain": [
              "<Figure size 640x480 with 1 Axes>"
            ],
            "image/png": "[encoded data removed]"
          },
          "metadata": {}
        },
        {
          "output_type": "display_data",
          "data": {
            "text/plain": [
              "<Figure size 640x480 with 1 Axes>"
            ],
            "image/png": "[encoded data removed]"
          },
          "metadata": {}
        }
      ],
      "source": [
        "import matplotlib.pyplot as plt\n",
        "\n",
        "# Plot the training and validation accuracy over epochs\n",
        "plt.plot(history_RNN.history['accuracy'], label='Training Accuracy')\n",
        "plt.plot(history_RNN.history['val_accuracy'], label='Validation Accuracy')\n",
        "plt.xlabel('Epoch')\n",
        "plt.ylabel('Accuracy')\n",
        "plt.ylim([0, 1])\n",
        "plt.legend(loc='lower right')\n",
        "plt.show()\n",
        "\n",
        "# Plot the training and validation loss over epochs\n",
        "plt.plot(history_RNN.history['loss'], label='Training Loss')\n",
        "plt.plot(history_RNN.history['val_loss'], label='Validation Loss')\n",
        "plt.xlabel('Epoch')\n",
        "plt.ylabel('Loss')\n",
        "plt.legend(loc='upper right')\n",
        "plt.show()\n"
      ]
    },
    {
      "cell_type": "markdown",
      "metadata": {
        "id": "OSsJHYO0R-p0"
      },
      "source": [
        "##Evaluation"
      ]
    },
    {
      "cell_type": "code",
      "execution_count": 23,
      "metadata": {
        "colab": {
          "base_uri": "https://localhost:8080/"
        },
        "id": "CJPGAOfCXdbQ",
        "outputId": "b9fc5026-4289-4014-b9ea-46d13f0cbba3"
      },
      "outputs": [
        {
          "output_type": "stream",
          "name": "stdout",
          "text": [
            "290/290 [==============================] - 11s 38ms/step\n",
            "73/73 [==============================] - 2s 27ms/step\n",
            "Accuracy (train): 0.9020\n",
            "AUC (train): 0.8225\n",
            "Accuracy (valid): 0.9103\n",
            "AUC (valid): 0.8416\n"
          ]
        }
      ],
      "source": [
        "from sklearn.metrics import roc_auc_score\n",
        "\n",
        "threshold = 0.5\n",
        "\n",
        "y_train_pred = model.predict(x_train)\n",
        "# Convert probabilities to binary predictions\n",
        "y_train_pred_binary = (y_train_pred > threshold).astype(int)\n",
        "y_valid_pred = model.predict(x_valid)\n",
        "y_valid_pred_binary = (y_valid_pred > threshold).astype(int)\n",
        "\n",
        "from sklearn.metrics import accuracy_score, confusion_matrix, classification_report, roc_curve, auc, roc_auc_score\n",
        "accuracy_train = accuracy_score(y_train, y_train_pred_binary)\n",
        "auc_train = roc_auc_score(y_train, y_train_pred)\n",
        "\n",
        "accuracy_valid = accuracy_score(y_valid, y_valid_pred_binary)\n",
        "auc_valid = roc_auc_score(y_valid, y_valid_pred)\n",
        "\n",
        "print(f'Accuracy (train): {accuracy_train:.4f}')\n",
        "print(f'AUC (train): {auc_train:.4f}')\n",
        "\n",
        "print(f'Accuracy (valid): {accuracy_valid:.4f}')\n",
        "print(f'AUC (valid): {auc_valid:.4f}')"
      ]
    },
    {
      "cell_type": "code",
      "execution_count": 24,
      "metadata": {
        "colab": {
          "base_uri": "https://localhost:8080/"
        },
        "id": "GeA1W5inTJF5",
        "outputId": "7f268018-2ab6-458b-d247-3e68bd772296"
      },
      "outputs": [
        {
          "output_type": "stream",
          "name": "stdout",
          "text": [
            "For training set:\n",
            "Precision: 0.9691\n",
            "Recall: 0.4597\n",
            "F1 Score: 0.6236 \n",
            "\n",
            "For validation set:\n",
            "Precision: 0.9559\n",
            "Recall: 0.4949\n",
            "F1 Score: 0.6522\n"
          ]
        }
      ],
      "source": [
        "from sklearn.metrics import precision_score, recall_score, f1_score\n",
        "# Calculate precision, recall, and F1 score\n",
        "precision = precision_score(y_train, y_train_pred_binary, zero_division=1)\n",
        "recall = recall_score(y_train, y_train_pred_binary, zero_division=1)\n",
        "f1 = f1_score(y_train, y_train_pred_binary, zero_division=1)\n",
        "\n",
        "# Print with 4 digits limit\n",
        "print(\"For training set:\")\n",
        "print(\"Precision:\", round(precision, 4))\n",
        "print(\"Recall:\", round(recall, 4))\n",
        "print(\"F1 Score:\", round(f1, 4),\"\\n\")\n",
        "\n",
        "# Calculate precision, recall, and F1 score\n",
        "precision = precision_score(y_valid, y_valid_pred_binary, zero_division=1)\n",
        "recall = recall_score(y_valid, y_valid_pred_binary, zero_division=1)\n",
        "f1 = f1_score(y_valid, y_valid_pred_binary, zero_division=1)\n",
        "\n",
        "# Print with 4 digits limit\n",
        "print(\"For validation set:\")\n",
        "print(\"Precision:\", round(precision, 4))\n",
        "print(\"Recall:\", round(recall, 4))\n",
        "print(\"F1 Score:\", round(f1, 4))"
      ]
    },
    {
      "cell_type": "code",
      "execution_count": 25,
      "metadata": {
        "colab": {
          "base_uri": "https://localhost:8080/"
        },
        "id": "2n-_zbitBplK",
        "outputId": "b1a7b1f5-4e24-42d5-f6bf-63387b2db155"
      },
      "outputs": [
        {
          "output_type": "stream",
          "name": "stdout",
          "text": [
            "92/92 [==============================] - 3s 34ms/step\n"
          ]
        }
      ],
      "source": [
        "y_test_pred = model.predict(x_test)\n",
        "y_test_pred_binary = (y_test_pred > threshold).astype(int)"
      ]
    },
    {
      "cell_type": "code",
      "execution_count": 26,
      "metadata": {
        "colab": {
          "base_uri": "https://localhost:8080/",
          "height": 17
        },
        "id": "avvAz5qEBxdp",
        "outputId": "42f71985-7199-4441-e097-596f26d2f8c0"
      },
      "outputs": [
        {
          "output_type": "display_data",
          "data": {
            "text/plain": [
              "<IPython.core.display.Javascript object>"
            ],
            "application/javascript": [
              "\n",
              "    async function download(id, filename, size) {\n",
              "      if (!google.colab.kernel.accessAllowed) {\n",
              "        return;\n",
              "      }\n",
              "      const div = document.createElement('div');\n",
              "      const label = document.createElement('label');\n",
              "      label.textContent = `Downloading \"${filename}\": `;\n",
              "      div.appendChild(label);\n",
              "      const progress = document.createElement('progress');\n",
              "      progress.max = size;\n",
              "      div.appendChild(progress);\n",
              "      document.body.appendChild(div);\n",
              "\n",
              "      const buffers = [];\n",
              "      let downloaded = 0;\n",
              "\n",
              "      const channel = await google.colab.kernel.comms.open(id);\n",
              "      // Send a message to notify the kernel that we're ready.\n",
              "      channel.send({})\n",
              "\n",
              "      for await (const message of channel.messages) {\n",
              "        // Send a message to notify the kernel that we're ready.\n",
              "        channel.send({})\n",
              "        if (message.buffers) {\n",
              "          for (const buffer of message.buffers) {\n",
              "            buffers.push(buffer);\n",
              "            downloaded += buffer.byteLength;\n",
              "            progress.value = downloaded;\n",
              "          }\n",
              "        }\n",
              "      }\n",
              "      const blob = new Blob(buffers, {type: 'application/binary'});\n",
              "      const a = document.createElement('a');\n",
              "      a.href = window.URL.createObjectURL(blob);\n",
              "      a.download = filename;\n",
              "      div.appendChild(a);\n",
              "      a.click();\n",
              "      div.remove();\n",
              "    }\n",
              "  "
            ]
          },
          "metadata": {}
        },
        {
          "output_type": "display_data",
          "data": {
            "text/plain": [
              "<IPython.core.display.Javascript object>"
            ],
            "application/javascript": [
              "download(\"download_aee27746-9702-4af5-92fe-94b6f71f5af5\", \"predictions.csv\", 58748)"
            ]
          },
          "metadata": {}
        }
      ],
      "source": [
        "# Assuming y_test_pred_binary is a numpy array\n",
        "predictions_df = pd.DataFrame(y_test_pred_binary, columns=['readmitted_within_30days'])\n",
        "merged_df = test[['id']].merge(predictions_df, left_index=True, right_index=True)\n",
        "merged_df.to_csv('predictions.csv', index=False)\n",
        "\n",
        "from google.colab import files\n",
        "files.download('predictions.csv')"
      ]
    },
    {
      "cell_type": "markdown",
      "metadata": {
        "id": "hVdaA92rViHu"
      },
      "source": [
        "# LSTM"
      ]
    },
    {
      "cell_type": "code",
      "execution_count": 11,
      "metadata": {
        "colab": {
          "base_uri": "https://localhost:8080/"
        },
        "id": "itm25_POmxOr",
        "outputId": "5161c47f-8c98-499d-eb99-e77267b72698"
      },
      "outputs": [
        {
          "output_type": "stream",
          "name": "stdout",
          "text": [
            "model compiled\n",
            "Model: \"sequential_2\"\n",
            "_________________________________________________________________\n",
            " Layer (type)                Output Shape              Param #   \n",
            "=================================================================\n",
            " lstm_2 (LSTM)               (None, 156, 64)           16896     \n",
            "                                                                 \n",
            " dropout_4 (Dropout)         (None, 156, 64)           0         \n",
            "                                                                 \n",
            " lstm_3 (LSTM)               (None, 128)               98816     \n",
            "                                                                 \n",
            " dropout_5 (Dropout)         (None, 128)               0         \n",
            "                                                                 \n",
            " dense_2 (Dense)             (None, 1)                 129       \n",
            "                                                                 \n",
            "=================================================================\n",
            "Total params: 115841 (452.50 KB)\n",
            "Trainable params: 115841 (452.50 KB)\n",
            "Non-trainable params: 0 (0.00 Byte)\n",
            "_________________________________________________________________\n",
            "None\n",
            "Epoch 1/100\n",
            "37/37 [==============================] - 31s 730ms/step - loss: 0.5029 - accuracy: 0.7966 - val_loss: 0.4489 - val_accuracy: 0.8302\n",
            "Epoch 2/100\n",
            "37/37 [==============================] - 1s 29ms/step - loss: 0.4535 - accuracy: 0.8233 - val_loss: 0.4423 - val_accuracy: 0.8293\n",
            "Epoch 3/100\n",
            "37/37 [==============================] - 1s 27ms/step - loss: 0.4515 - accuracy: 0.8232 - val_loss: 0.4408 - val_accuracy: 0.8297\n",
            "Epoch 4/100\n",
            "37/37 [==============================] - 1s 27ms/step - loss: 0.4514 - accuracy: 0.8226 - val_loss: 0.4403 - val_accuracy: 0.8302\n",
            "Epoch 5/100\n",
            "37/37 [==============================] - 1s 25ms/step - loss: 0.4509 - accuracy: 0.8234 - val_loss: 0.4419 - val_accuracy: 0.8297\n",
            "Epoch 6/100\n",
            "37/37 [==============================] - 1s 26ms/step - loss: 0.4501 - accuracy: 0.8236 - val_loss: 0.4538 - val_accuracy: 0.8315\n",
            "Epoch 7/100\n",
            "37/37 [==============================] - 1s 27ms/step - loss: 0.4524 - accuracy: 0.8237 - val_loss: 0.4377 - val_accuracy: 0.8302\n",
            "Epoch 8/100\n",
            "37/37 [==============================] - 1s 26ms/step - loss: 0.4496 - accuracy: 0.8232 - val_loss: 0.4386 - val_accuracy: 0.8302\n",
            "Epoch 9/100\n",
            "37/37 [==============================] - 1s 26ms/step - loss: 0.4496 - accuracy: 0.8237 - val_loss: 0.4409 - val_accuracy: 0.8306\n",
            "Epoch 10/100\n",
            "37/37 [==============================] - 1s 26ms/step - loss: 0.4485 - accuracy: 0.8227 - val_loss: 0.4368 - val_accuracy: 0.8306\n",
            "Epoch 11/100\n",
            "37/37 [==============================] - 1s 26ms/step - loss: 0.4473 - accuracy: 0.8231 - val_loss: 0.4366 - val_accuracy: 0.8306\n",
            "Epoch 12/100\n",
            "37/37 [==============================] - 1s 27ms/step - loss: 0.4489 - accuracy: 0.8233 - val_loss: 0.4358 - val_accuracy: 0.8310\n",
            "Epoch 13/100\n",
            "37/37 [==============================] - 1s 26ms/step - loss: 0.4486 - accuracy: 0.8221 - val_loss: 0.4400 - val_accuracy: 0.8293\n",
            "Epoch 14/100\n",
            "37/37 [==============================] - 1s 26ms/step - loss: 0.4469 - accuracy: 0.8244 - val_loss: 0.4358 - val_accuracy: 0.8306\n",
            "Epoch 15/100\n",
            "37/37 [==============================] - 1s 27ms/step - loss: 0.4458 - accuracy: 0.8240 - val_loss: 0.4366 - val_accuracy: 0.8306\n",
            "Epoch 16/100\n",
            "37/37 [==============================] - 1s 27ms/step - loss: 0.4446 - accuracy: 0.8242 - val_loss: 0.4383 - val_accuracy: 0.8302\n",
            "Epoch 17/100\n",
            "37/37 [==============================] - 1s 29ms/step - loss: 0.4454 - accuracy: 0.8237 - val_loss: 0.4344 - val_accuracy: 0.8310\n",
            "Epoch 18/100\n",
            "37/37 [==============================] - 1s 27ms/step - loss: 0.4462 - accuracy: 0.8233 - val_loss: 0.4368 - val_accuracy: 0.8306\n",
            "Epoch 19/100\n",
            "37/37 [==============================] - 1s 27ms/step - loss: 0.4436 - accuracy: 0.8251 - val_loss: 0.4314 - val_accuracy: 0.8336\n",
            "Epoch 20/100\n",
            "37/37 [==============================] - 1s 26ms/step - loss: 0.4438 - accuracy: 0.8245 - val_loss: 0.4334 - val_accuracy: 0.8297\n",
            "Epoch 21/100\n",
            "37/37 [==============================] - 1s 25ms/step - loss: 0.4428 - accuracy: 0.8244 - val_loss: 0.4319 - val_accuracy: 0.8332\n",
            "Epoch 22/100\n",
            "37/37 [==============================] - 1s 25ms/step - loss: 0.4419 - accuracy: 0.8252 - val_loss: 0.4323 - val_accuracy: 0.8323\n",
            "Epoch 23/100\n",
            "37/37 [==============================] - 1s 26ms/step - loss: 0.4438 - accuracy: 0.8243 - val_loss: 0.4318 - val_accuracy: 0.8328\n",
            "Epoch 24/100\n",
            "37/37 [==============================] - 1s 25ms/step - loss: 0.4414 - accuracy: 0.8263 - val_loss: 0.4314 - val_accuracy: 0.8332\n",
            "Epoch 25/100\n",
            "37/37 [==============================] - 1s 26ms/step - loss: 0.4456 - accuracy: 0.8241 - val_loss: 0.4357 - val_accuracy: 0.8306\n",
            "Epoch 26/100\n",
            "37/37 [==============================] - 1s 26ms/step - loss: 0.4440 - accuracy: 0.8248 - val_loss: 0.4326 - val_accuracy: 0.8323\n",
            "Epoch 27/100\n",
            "37/37 [==============================] - 1s 27ms/step - loss: 0.4438 - accuracy: 0.8241 - val_loss: 0.4368 - val_accuracy: 0.8315\n",
            "Epoch 28/100\n",
            "37/37 [==============================] - 1s 26ms/step - loss: 0.4436 - accuracy: 0.8244 - val_loss: 0.4312 - val_accuracy: 0.8328\n",
            "Epoch 29/100\n",
            "37/37 [==============================] - 1s 29ms/step - loss: 0.4432 - accuracy: 0.8245 - val_loss: 0.4324 - val_accuracy: 0.8341\n",
            "Epoch 30/100\n",
            "37/37 [==============================] - 1s 29ms/step - loss: 0.4416 - accuracy: 0.8254 - val_loss: 0.4295 - val_accuracy: 0.8358\n",
            "Epoch 31/100\n",
            "37/37 [==============================] - 1s 29ms/step - loss: 0.4389 - accuracy: 0.8273 - val_loss: 0.4300 - val_accuracy: 0.8332\n",
            "Epoch 32/100\n",
            "37/37 [==============================] - 1s 28ms/step - loss: 0.4371 - accuracy: 0.8287 - val_loss: 0.4213 - val_accuracy: 0.8349\n",
            "Epoch 33/100\n",
            "37/37 [==============================] - 1s 26ms/step - loss: 0.4331 - accuracy: 0.8311 - val_loss: 0.4068 - val_accuracy: 0.8409\n",
            "Epoch 34/100\n",
            "37/37 [==============================] - 1s 25ms/step - loss: 0.4188 - accuracy: 0.8355 - val_loss: 0.3950 - val_accuracy: 0.8289\n",
            "Epoch 35/100\n",
            "37/37 [==============================] - 1s 25ms/step - loss: 0.3967 - accuracy: 0.8394 - val_loss: 0.3909 - val_accuracy: 0.8418\n",
            "Epoch 36/100\n",
            "37/37 [==============================] - 1s 25ms/step - loss: 0.3884 - accuracy: 0.8398 - val_loss: 0.3707 - val_accuracy: 0.8565\n",
            "Epoch 37/100\n",
            "37/37 [==============================] - 1s 25ms/step - loss: 0.3888 - accuracy: 0.8444 - val_loss: 0.3778 - val_accuracy: 0.8496\n",
            "Epoch 38/100\n",
            "37/37 [==============================] - 1s 25ms/step - loss: 0.3754 - accuracy: 0.8470 - val_loss: 0.3715 - val_accuracy: 0.8509\n",
            "Epoch 39/100\n",
            "37/37 [==============================] - 1s 27ms/step - loss: 0.3713 - accuracy: 0.8479 - val_loss: 0.3629 - val_accuracy: 0.8746\n",
            "Epoch 40/100\n",
            "37/37 [==============================] - 1s 25ms/step - loss: 0.3507 - accuracy: 0.8674 - val_loss: 0.3299 - val_accuracy: 0.8797\n",
            "Epoch 41/100\n",
            "37/37 [==============================] - 1s 27ms/step - loss: 0.3457 - accuracy: 0.8707 - val_loss: 0.3354 - val_accuracy: 0.8772\n",
            "Epoch 42/100\n",
            "37/37 [==============================] - 1s 25ms/step - loss: 0.3472 - accuracy: 0.8712 - val_loss: 0.4351 - val_accuracy: 0.8284\n",
            "Epoch 43/100\n",
            "37/37 [==============================] - 1s 26ms/step - loss: 0.3462 - accuracy: 0.8663 - val_loss: 0.3090 - val_accuracy: 0.8935\n",
            "Epoch 44/100\n",
            "37/37 [==============================] - 1s 27ms/step - loss: 0.3191 - accuracy: 0.8884 - val_loss: 0.3000 - val_accuracy: 0.9000\n",
            "Epoch 45/100\n",
            "37/37 [==============================] - 1s 27ms/step - loss: 0.3077 - accuracy: 0.8958 - val_loss: 0.3367 - val_accuracy: 0.8866\n",
            "Epoch 46/100\n",
            "37/37 [==============================] - 1s 28ms/step - loss: 0.3144 - accuracy: 0.8929 - val_loss: 0.3004 - val_accuracy: 0.9052\n",
            "Epoch 47/100\n",
            "37/37 [==============================] - 1s 27ms/step - loss: 0.3100 - accuracy: 0.8983 - val_loss: 0.3527 - val_accuracy: 0.8772\n",
            "Epoch 48/100\n",
            "37/37 [==============================] - 1s 25ms/step - loss: 0.3134 - accuracy: 0.8932 - val_loss: 0.2738 - val_accuracy: 0.9134\n",
            "Epoch 49/100\n",
            "37/37 [==============================] - 1s 25ms/step - loss: 0.2878 - accuracy: 0.9072 - val_loss: 0.2846 - val_accuracy: 0.9065\n",
            "Epoch 50/100\n",
            "37/37 [==============================] - 1s 28ms/step - loss: 0.2837 - accuracy: 0.9090 - val_loss: 0.2834 - val_accuracy: 0.9086\n",
            "Epoch 51/100\n",
            "37/37 [==============================] - 1s 30ms/step - loss: 0.2871 - accuracy: 0.9091 - val_loss: 0.2665 - val_accuracy: 0.9177\n",
            "Epoch 52/100\n",
            "37/37 [==============================] - 1s 30ms/step - loss: 0.2819 - accuracy: 0.9107 - val_loss: 0.3018 - val_accuracy: 0.9004\n",
            "Epoch 53/100\n",
            "37/37 [==============================] - 1s 25ms/step - loss: 0.2860 - accuracy: 0.9100 - val_loss: 0.2900 - val_accuracy: 0.9065\n",
            "Epoch 54/100\n",
            "37/37 [==============================] - 1s 25ms/step - loss: 0.2843 - accuracy: 0.9089 - val_loss: 0.2767 - val_accuracy: 0.9168\n",
            "Epoch 55/100\n",
            "37/37 [==============================] - 1s 25ms/step - loss: 0.2706 - accuracy: 0.9154 - val_loss: 0.2639 - val_accuracy: 0.9194\n",
            "Epoch 56/100\n",
            "37/37 [==============================] - 1s 25ms/step - loss: 0.2708 - accuracy: 0.9169 - val_loss: 0.2594 - val_accuracy: 0.9224\n",
            "Epoch 57/100\n",
            "37/37 [==============================] - 1s 26ms/step - loss: 0.2672 - accuracy: 0.9184 - val_loss: 0.2499 - val_accuracy: 0.9246\n",
            "Epoch 58/100\n",
            "37/37 [==============================] - 1s 26ms/step - loss: 0.2694 - accuracy: 0.9149 - val_loss: 0.2541 - val_accuracy: 0.9254\n",
            "Epoch 59/100\n",
            "37/37 [==============================] - 1s 28ms/step - loss: 0.2608 - accuracy: 0.9209 - val_loss: 0.2549 - val_accuracy: 0.9276\n",
            "Epoch 60/100\n",
            "37/37 [==============================] - 1s 28ms/step - loss: 0.2627 - accuracy: 0.9219 - val_loss: 0.2882 - val_accuracy: 0.9047\n",
            "Epoch 61/100\n",
            "37/37 [==============================] - 1s 26ms/step - loss: 0.2785 - accuracy: 0.9120 - val_loss: 0.2487 - val_accuracy: 0.9284\n",
            "Epoch 62/100\n",
            "37/37 [==============================] - 1s 27ms/step - loss: 0.2661 - accuracy: 0.9189 - val_loss: 0.3063 - val_accuracy: 0.9142\n",
            "Epoch 63/100\n",
            "37/37 [==============================] - 1s 25ms/step - loss: 0.2766 - accuracy: 0.9173 - val_loss: 0.2463 - val_accuracy: 0.9293\n",
            "Epoch 64/100\n",
            "37/37 [==============================] - 1s 25ms/step - loss: 0.2637 - accuracy: 0.9205 - val_loss: 0.2391 - val_accuracy: 0.9332\n",
            "Epoch 65/100\n",
            "37/37 [==============================] - 1s 25ms/step - loss: 0.2595 - accuracy: 0.9230 - val_loss: 0.2474 - val_accuracy: 0.9310\n",
            "Epoch 66/100\n",
            "37/37 [==============================] - 1s 25ms/step - loss: 0.2571 - accuracy: 0.9235 - val_loss: 0.2377 - val_accuracy: 0.9332\n",
            "Epoch 67/100\n",
            "37/37 [==============================] - 1s 25ms/step - loss: 0.2551 - accuracy: 0.9239 - val_loss: 0.2355 - val_accuracy: 0.9341\n",
            "Epoch 68/100\n",
            "37/37 [==============================] - 1s 25ms/step - loss: 0.2499 - accuracy: 0.9263 - val_loss: 0.2426 - val_accuracy: 0.9306\n",
            "Epoch 69/100\n",
            "37/37 [==============================] - 1s 27ms/step - loss: 0.2517 - accuracy: 0.9265 - val_loss: 0.2421 - val_accuracy: 0.9302\n",
            "Epoch 70/100\n",
            "37/37 [==============================] - 1s 25ms/step - loss: 0.2821 - accuracy: 0.9145 - val_loss: 0.2869 - val_accuracy: 0.9060\n",
            "Epoch 71/100\n",
            "37/37 [==============================] - 1s 25ms/step - loss: 0.2972 - accuracy: 0.9055 - val_loss: 0.2636 - val_accuracy: 0.9241\n",
            "Epoch 72/100\n",
            "37/37 [==============================] - 1s 28ms/step - loss: 0.3351 - accuracy: 0.8816 - val_loss: 0.2929 - val_accuracy: 0.9030\n",
            "Epoch 73/100\n",
            "37/37 [==============================] - 1s 28ms/step - loss: 0.4097 - accuracy: 0.8511 - val_loss: 0.4311 - val_accuracy: 0.8336\n",
            "Epoch 74/100\n",
            "37/37 [==============================] - 1s 27ms/step - loss: 0.4090 - accuracy: 0.8412 - val_loss: 0.3704 - val_accuracy: 0.8547\n",
            "Epoch 75/100\n",
            "37/37 [==============================] - 1s 28ms/step - loss: 0.3294 - accuracy: 0.8820 - val_loss: 0.2938 - val_accuracy: 0.8940\n",
            "Epoch 76/100\n",
            "37/37 [==============================] - 1s 25ms/step - loss: 0.2796 - accuracy: 0.9111 - val_loss: 0.2604 - val_accuracy: 0.9172\n",
            "Epoch 77/100\n",
            "37/37 [==============================] - 1s 26ms/step - loss: 0.2640 - accuracy: 0.9205 - val_loss: 0.2403 - val_accuracy: 0.9293\n"
          ]
        }
      ],
      "source": [
        "from keras.models import Sequential\n",
        "from keras.layers import LSTM, Dropout, Dense\n",
        "import keras\n",
        "\n",
        "# Create a Sequential model\n",
        "model = Sequential()\n",
        "\n",
        "model.add(LSTM(64, return_sequences=True, input_shape=(x_train.shape[1], 1)))\n",
        "model.add(Dropout(0.5))\n",
        "model.add(LSTM(128, return_sequences=False, activation=\"tanh\"))\n",
        "model.add(Dropout(0.5))\n",
        "model.add(Dense(1, activation=\"sigmoid\"))\n",
        "model.compile(loss='binary_crossentropy', optimizer=keras.optimizers.Adam(learning_rate=0.001), metrics=[\"accuracy\"])\n",
        "\n",
        "print('model compiled')\n",
        "\n",
        "# Define early stopping callback\n",
        "callbacks = [keras.callbacks.EarlyStopping(patience=10, restore_best_weights=True)]\n",
        "\n",
        "print(model.summary())\n",
        "\n",
        "# Train the model with a smaller batch size\n",
        "history_LSTM = model.fit(x_train, y_train, batch_size=256, epochs=100, validation_data=(x_valid, y_valid), callbacks=callbacks)"
      ]
    },
    {
      "cell_type": "code",
      "source": [
        "import matplotlib.pyplot as plt\n",
        "\n",
        "# Plot the training and validation accuracy over epochs\n",
        "plt.plot(history_LSTM.history['accuracy'], label='Training Accuracy')\n",
        "plt.plot(history_LSTM.history['val_accuracy'], label='Validation Accuracy')\n",
        "plt.xlabel('Epoch')\n",
        "plt.ylabel('Accuracy')\n",
        "plt.ylim([0, 1])\n",
        "plt.legend(loc='lower right')\n",
        "plt.show()\n",
        "\n",
        "# Plot the training and validation loss over epochs\n",
        "plt.plot(history_LSTM.history['loss'], label='Training Loss')\n",
        "plt.plot(history_LSTM.history['val_loss'], label='Validation Loss')\n",
        "plt.xlabel('Epoch')\n",
        "plt.ylabel('Loss')\n",
        "plt.legend(loc='upper right')\n",
        "plt.show()\n"
      ],
      "metadata": {
        "id": "16Pteij20956"
      },
      "execution_count": null,
      "outputs": []
    },
    {
      "cell_type": "markdown",
      "metadata": {
        "id": "dFothgUaKGkQ"
      },
      "source": [
        "##Evaluation"
      ]
    },
    {
      "cell_type": "code",
      "execution_count": 13,
      "metadata": {
        "colab": {
          "base_uri": "https://localhost:8080/"
        },
        "id": "pYuRxMbDKGkQ",
        "outputId": "0b40c217-6141-4a48-a8e0-48cd423cac63"
      },
      "outputs": [
        {
          "output_type": "stream",
          "name": "stdout",
          "text": [
            "290/290 [==============================] - 2s 6ms/step\n",
            "73/73 [==============================] - 1s 8ms/step\n",
            "Accuracy (train): 0.9260\n",
            "AUC (train): 0.8525\n",
            "Accuracy (valid): 0.9341\n",
            "AUC (valid): 0.8399\n"
          ]
        }
      ],
      "source": [
        "from sklearn.metrics import roc_auc_score\n",
        "\n",
        "threshold = 0.5\n",
        "\n",
        "y_train_pred = model.predict(x_train)\n",
        "# Convert probabilities to binary predictions\n",
        "y_train_pred_binary = (y_train_pred > threshold).astype(int)\n",
        "y_valid_pred = model.predict(x_valid)\n",
        "y_valid_pred_binary = (y_valid_pred > threshold).astype(int)\n",
        "\n",
        "from sklearn.metrics import accuracy_score, confusion_matrix, classification_report, roc_curve, auc, roc_auc_score\n",
        "accuracy_train = accuracy_score(y_train, y_train_pred_binary)\n",
        "auc_train = roc_auc_score(y_train, y_train_pred)\n",
        "\n",
        "accuracy_valid = accuracy_score(y_valid, y_valid_pred_binary)\n",
        "auc_valid = roc_auc_score(y_valid, y_valid_pred)\n",
        "\n",
        "print(f'Accuracy (train): {accuracy_train:.4f}')\n",
        "print(f'AUC (train): {auc_train:.4f}')\n",
        "\n",
        "print(f'Accuracy (valid): {accuracy_valid:.4f}')\n",
        "print(f'AUC (valid): {auc_valid:.4f}')"
      ]
    },
    {
      "cell_type": "code",
      "execution_count": 14,
      "metadata": {
        "colab": {
          "base_uri": "https://localhost:8080/"
        },
        "id": "WrmorL0-KGkZ",
        "outputId": "7d2f96ca-4bce-422e-be60-cc74a6d9abcf"
      },
      "outputs": [
        {
          "output_type": "stream",
          "name": "stdout",
          "text": [
            "For training set:\n",
            "Precision: 0.9969\n",
            "Recall: 0.583\n",
            "F1 Score: 0.7357 \n",
            "\n",
            "For validation set:\n",
            "Precision: 0.9959\n",
            "Recall: 0.6142\n",
            "F1 Score: 0.7598\n"
          ]
        }
      ],
      "source": [
        "from sklearn.metrics import precision_score, recall_score, f1_score\n",
        "# Calculate precision, recall, and F1 score\n",
        "precision = precision_score(y_train, y_train_pred_binary, zero_division=1)\n",
        "recall = recall_score(y_train, y_train_pred_binary, zero_division=1)\n",
        "f1 = f1_score(y_train, y_train_pred_binary, zero_division=1)\n",
        "\n",
        "# Print with 4 digits limit\n",
        "print(\"For training set:\")\n",
        "print(\"Precision:\", round(precision, 4))\n",
        "print(\"Recall:\", round(recall, 4))\n",
        "print(\"F1 Score:\", round(f1, 4),\"\\n\")\n",
        "\n",
        "# Calculate precision, recall, and F1 score\n",
        "precision = precision_score(y_valid, y_valid_pred_binary, zero_division=1)\n",
        "recall = recall_score(y_valid, y_valid_pred_binary, zero_division=1)\n",
        "f1 = f1_score(y_valid, y_valid_pred_binary, zero_division=1)\n",
        "\n",
        "# Print with 4 digits limit\n",
        "print(\"For validation set:\")\n",
        "print(\"Precision:\", round(precision, 4))\n",
        "print(\"Recall:\", round(recall, 4))\n",
        "print(\"F1 Score:\", round(f1, 4))"
      ]
    },
    {
      "cell_type": "code",
      "execution_count": 15,
      "metadata": {
        "colab": {
          "base_uri": "https://localhost:8080/"
        },
        "id": "ZRnlfJgwKGkZ",
        "outputId": "1bf20d97-ff1f-41ae-fe1c-4e7f0bbce892"
      },
      "outputs": [
        {
          "output_type": "stream",
          "name": "stdout",
          "text": [
            "92/92 [==============================] - 1s 11ms/step\n"
          ]
        }
      ],
      "source": [
        "y_test_pred = model.predict(x_test)\n",
        "y_test_pred_binary = (y_test_pred > threshold).astype(int)"
      ]
    },
    {
      "cell_type": "code",
      "execution_count": 16,
      "metadata": {
        "colab": {
          "base_uri": "https://localhost:8080/",
          "height": 17
        },
        "id": "JfyJ6xY0KGkg",
        "outputId": "ef82c685-23cb-4918-9ddb-4ba93242ba7f"
      },
      "outputs": [
        {
          "output_type": "display_data",
          "data": {
            "text/plain": [
              "<IPython.core.display.Javascript object>"
            ],
            "application/javascript": [
              "\n",
              "    async function download(id, filename, size) {\n",
              "      if (!google.colab.kernel.accessAllowed) {\n",
              "        return;\n",
              "      }\n",
              "      const div = document.createElement('div');\n",
              "      const label = document.createElement('label');\n",
              "      label.textContent = `Downloading \"${filename}\": `;\n",
              "      div.appendChild(label);\n",
              "      const progress = document.createElement('progress');\n",
              "      progress.max = size;\n",
              "      div.appendChild(progress);\n",
              "      document.body.appendChild(div);\n",
              "\n",
              "      const buffers = [];\n",
              "      let downloaded = 0;\n",
              "\n",
              "      const channel = await google.colab.kernel.comms.open(id);\n",
              "      // Send a message to notify the kernel that we're ready.\n",
              "      channel.send({})\n",
              "\n",
              "      for await (const message of channel.messages) {\n",
              "        // Send a message to notify the kernel that we're ready.\n",
              "        channel.send({})\n",
              "        if (message.buffers) {\n",
              "          for (const buffer of message.buffers) {\n",
              "            buffers.push(buffer);\n",
              "            downloaded += buffer.byteLength;\n",
              "            progress.value = downloaded;\n",
              "          }\n",
              "        }\n",
              "      }\n",
              "      const blob = new Blob(buffers, {type: 'application/binary'});\n",
              "      const a = document.createElement('a');\n",
              "      a.href = window.URL.createObjectURL(blob);\n",
              "      a.download = filename;\n",
              "      div.appendChild(a);\n",
              "      a.click();\n",
              "      div.remove();\n",
              "    }\n",
              "  "
            ]
          },
          "metadata": {}
        },
        {
          "output_type": "display_data",
          "data": {
            "text/plain": [
              "<IPython.core.display.Javascript object>"
            ],
            "application/javascript": [
              "download(\"download_2bdc6643-3743-4e94-a580-4553c0103871\", \"predictions.csv\", 58748)"
            ]
          },
          "metadata": {}
        }
      ],
      "source": [
        "# Assuming y_test_pred_binary is a numpy array\n",
        "predictions_df = pd.DataFrame(y_test_pred_binary, columns=['readmitted_within_30days'])\n",
        "merged_df = test[['id']].merge(predictions_df, left_index=True, right_index=True)\n",
        "merged_df.to_csv('predictions.csv', index=False)\n",
        "\n",
        "from google.colab import files\n",
        "files.download('predictions.csv')"
      ]
    },
    {
      "cell_type": "markdown",
      "source": [
        "#  Bidirectional LSTM"
      ],
      "metadata": {
        "id": "9MsiVoA-zIf5"
      }
    },
    {
      "cell_type": "code",
      "source": [
        "from keras.models import Sequential\n",
        "from keras.layers import LSTM, Dropout, Dense, Bidirectional\n",
        "import keras\n",
        "from keras.optimizers import Adam\n",
        "from keras.layers import BatchNormalization\n",
        "from keras.regularizers import l2\n",
        "from keras.callbacks import EarlyStopping, ReduceLROnPlateau\n",
        "\n",
        "model = Sequential()\n",
        "# Add a Bidirectional LSTM layer with return_sequences=True and L2 regularization\n",
        "model.add(Bidirectional(LSTM(64, return_sequences=True, input_shape=(x_train.shape[1], 1), kernel_regularizer=l2(0.01))))\n",
        "# Add Batch Normalization\n",
        "model.add(BatchNormalization())\n",
        "model.add(Dropout(0.3))\n",
        "# Add another Bidirectional LSTM layer with return_sequences=False and activation function set to \"tanh\"\n",
        "model.add(Bidirectional(LSTM(128, return_sequences=False, activation=\"tanh\", kernel_regularizer=l2(0.01))))\n",
        "# Add Batch Normalization\n",
        "model.add(BatchNormalization())\n",
        "model.add(Dropout(0.3))\n",
        "model.add(Dense(1, activation=\"sigmoid\"))\n",
        "\n",
        "# Compile the model with a lower learning rate and use ReduceLROnPlateau for learning rate scheduling\n",
        "model.compile(loss='binary_crossentropy', optimizer=Adam(learning_rate=0.001), metrics=[\"accuracy\"])\n",
        "\n",
        "print('model compiled')\n",
        "\n",
        "# Define early stopping and learning rate reduction callbacks\n",
        "callbacks = [EarlyStopping(patience=10, restore_best_weights=True), ReduceLROnPlateau(factor=0.1, patience=5)]\n",
        "\n",
        "# Print model summary\n",
        "#print(model.summary())\n",
        "\n",
        "# Train the model with a smaller batch size\n",
        "history_LSTM = model.fit(x_train, y_train, batch_size=128, epochs=100, validation_data=(x_valid, y_valid), callbacks=callbacks)"
      ],
      "metadata": {
        "colab": {
          "base_uri": "https://localhost:8080/"
        },
        "id": "NNvQqs6LzVl4",
        "outputId": "aa5b4cb2-90e1-4947-c544-baead405dad5"
      },
      "execution_count": 29,
      "outputs": [
        {
          "output_type": "stream",
          "name": "stdout",
          "text": [
            "model compiled\n",
            "Epoch 1/100\n",
            "73/73 [==============================] - 18s 64ms/step - loss: 2.6069 - accuracy: 0.8408 - val_loss: 1.4208 - val_accuracy: 0.8302 - lr: 0.0010\n",
            "Epoch 2/100\n",
            "73/73 [==============================] - 3s 46ms/step - loss: 0.8089 - accuracy: 0.9217 - val_loss: 0.7743 - val_accuracy: 0.8302 - lr: 0.0010\n",
            "Epoch 3/100\n",
            "73/73 [==============================] - 3s 42ms/step - loss: 0.4742 - accuracy: 0.9252 - val_loss: 0.5720 - val_accuracy: 0.8302 - lr: 0.0010\n",
            "Epoch 4/100\n",
            "73/73 [==============================] - 3s 43ms/step - loss: 0.3609 - accuracy: 0.9269 - val_loss: 0.5172 - val_accuracy: 0.8302 - lr: 0.0010\n",
            "Epoch 5/100\n",
            "73/73 [==============================] - 3s 41ms/step - loss: 0.3124 - accuracy: 0.9283 - val_loss: 0.4504 - val_accuracy: 0.8302 - lr: 0.0010\n",
            "Epoch 6/100\n",
            "73/73 [==============================] - 3s 41ms/step - loss: 0.2919 - accuracy: 0.9271 - val_loss: 0.3971 - val_accuracy: 0.8397 - lr: 0.0010\n",
            "Epoch 7/100\n",
            "73/73 [==============================] - 3s 41ms/step - loss: 0.2794 - accuracy: 0.9300 - val_loss: 0.3686 - val_accuracy: 0.9379 - lr: 0.0010\n",
            "Epoch 8/100\n",
            "73/73 [==============================] - 3s 42ms/step - loss: 0.2685 - accuracy: 0.9296 - val_loss: 0.2989 - val_accuracy: 0.9384 - lr: 0.0010\n",
            "Epoch 9/100\n",
            "73/73 [==============================] - 3s 40ms/step - loss: 0.2667 - accuracy: 0.9300 - val_loss: 0.2620 - val_accuracy: 0.9392 - lr: 0.0010\n",
            "Epoch 10/100\n",
            "73/73 [==============================] - 3s 40ms/step - loss: 0.2619 - accuracy: 0.9308 - val_loss: 0.2501 - val_accuracy: 0.9375 - lr: 0.0010\n",
            "Epoch 11/100\n",
            "73/73 [==============================] - 3s 39ms/step - loss: 0.2568 - accuracy: 0.9299 - val_loss: 0.2430 - val_accuracy: 0.9392 - lr: 0.0010\n",
            "Epoch 12/100\n",
            "73/73 [==============================] - 3s 41ms/step - loss: 0.2627 - accuracy: 0.9306 - val_loss: 0.2485 - val_accuracy: 0.9362 - lr: 0.0010\n",
            "Epoch 13/100\n",
            "73/73 [==============================] - 3s 42ms/step - loss: 0.2566 - accuracy: 0.9307 - val_loss: 0.2399 - val_accuracy: 0.9392 - lr: 0.0010\n",
            "Epoch 14/100\n",
            "73/73 [==============================] - 3s 39ms/step - loss: 0.2534 - accuracy: 0.9310 - val_loss: 0.2476 - val_accuracy: 0.9392 - lr: 0.0010\n",
            "Epoch 15/100\n",
            "73/73 [==============================] - 3s 39ms/step - loss: 0.2531 - accuracy: 0.9311 - val_loss: 0.2299 - val_accuracy: 0.9388 - lr: 0.0010\n",
            "Epoch 16/100\n",
            "73/73 [==============================] - 3s 39ms/step - loss: 0.2536 - accuracy: 0.9309 - val_loss: 0.2289 - val_accuracy: 0.9392 - lr: 0.0010\n",
            "Epoch 17/100\n",
            "73/73 [==============================] - 3s 41ms/step - loss: 0.2500 - accuracy: 0.9310 - val_loss: 0.2484 - val_accuracy: 0.9392 - lr: 0.0010\n",
            "Epoch 18/100\n",
            "73/73 [==============================] - 4s 51ms/step - loss: 0.2539 - accuracy: 0.9313 - val_loss: 0.2294 - val_accuracy: 0.9392 - lr: 0.0010\n",
            "Epoch 19/100\n",
            "73/73 [==============================] - 4s 59ms/step - loss: 0.2515 - accuracy: 0.9312 - val_loss: 0.2357 - val_accuracy: 0.9392 - lr: 0.0010\n",
            "Epoch 20/100\n",
            "73/73 [==============================] - 3s 45ms/step - loss: 0.2552 - accuracy: 0.9308 - val_loss: 0.2297 - val_accuracy: 0.9392 - lr: 0.0010\n",
            "Epoch 21/100\n",
            "73/73 [==============================] - 3s 42ms/step - loss: 0.2527 - accuracy: 0.9315 - val_loss: 0.2306 - val_accuracy: 0.9392 - lr: 0.0010\n",
            "Epoch 22/100\n",
            "73/73 [==============================] - 3s 40ms/step - loss: 0.2487 - accuracy: 0.9317 - val_loss: 0.2269 - val_accuracy: 0.9392 - lr: 1.0000e-04\n",
            "Epoch 23/100\n",
            "73/73 [==============================] - 3s 39ms/step - loss: 0.2474 - accuracy: 0.9314 - val_loss: 0.2261 - val_accuracy: 0.9392 - lr: 1.0000e-04\n",
            "Epoch 24/100\n",
            "73/73 [==============================] - 3s 39ms/step - loss: 0.2464 - accuracy: 0.9314 - val_loss: 0.2258 - val_accuracy: 0.9392 - lr: 1.0000e-04\n",
            "Epoch 25/100\n",
            "73/73 [==============================] - 3s 39ms/step - loss: 0.2461 - accuracy: 0.9315 - val_loss: 0.2257 - val_accuracy: 0.9392 - lr: 1.0000e-04\n",
            "Epoch 26/100\n",
            "73/73 [==============================] - 3s 42ms/step - loss: 0.2433 - accuracy: 0.9313 - val_loss: 0.2260 - val_accuracy: 0.9392 - lr: 1.0000e-04\n",
            "Epoch 27/100\n",
            "73/73 [==============================] - 3s 41ms/step - loss: 0.2434 - accuracy: 0.9315 - val_loss: 0.2259 - val_accuracy: 0.9392 - lr: 1.0000e-04\n",
            "Epoch 28/100\n",
            "73/73 [==============================] - 3s 39ms/step - loss: 0.2456 - accuracy: 0.9315 - val_loss: 0.2259 - val_accuracy: 0.9392 - lr: 1.0000e-04\n",
            "Epoch 29/100\n",
            "73/73 [==============================] - 3s 39ms/step - loss: 0.2449 - accuracy: 0.9314 - val_loss: 0.2252 - val_accuracy: 0.9392 - lr: 1.0000e-04\n",
            "Epoch 30/100\n",
            "73/73 [==============================] - 3s 41ms/step - loss: 0.2454 - accuracy: 0.9313 - val_loss: 0.2290 - val_accuracy: 0.9392 - lr: 1.0000e-04\n",
            "Epoch 31/100\n",
            "73/73 [==============================] - 3s 42ms/step - loss: 0.2442 - accuracy: 0.9315 - val_loss: 0.2265 - val_accuracy: 0.9392 - lr: 1.0000e-04\n",
            "Epoch 32/100\n",
            "73/73 [==============================] - 3s 40ms/step - loss: 0.2444 - accuracy: 0.9314 - val_loss: 0.2284 - val_accuracy: 0.9392 - lr: 1.0000e-04\n",
            "Epoch 33/100\n",
            "73/73 [==============================] - 3s 40ms/step - loss: 0.2439 - accuracy: 0.9315 - val_loss: 0.2277 - val_accuracy: 0.9392 - lr: 1.0000e-04\n",
            "Epoch 34/100\n",
            "73/73 [==============================] - 3s 40ms/step - loss: 0.2431 - accuracy: 0.9315 - val_loss: 0.2253 - val_accuracy: 0.9392 - lr: 1.0000e-04\n",
            "Epoch 35/100\n",
            "73/73 [==============================] - 3s 42ms/step - loss: 0.2445 - accuracy: 0.9314 - val_loss: 0.2253 - val_accuracy: 0.9392 - lr: 1.0000e-05\n",
            "Epoch 36/100\n",
            "73/73 [==============================] - 3s 44ms/step - loss: 0.2442 - accuracy: 0.9315 - val_loss: 0.2248 - val_accuracy: 0.9392 - lr: 1.0000e-05\n",
            "Epoch 37/100\n",
            "73/73 [==============================] - 3s 41ms/step - loss: 0.2447 - accuracy: 0.9315 - val_loss: 0.2246 - val_accuracy: 0.9392 - lr: 1.0000e-05\n",
            "Epoch 38/100\n",
            "73/73 [==============================] - 3s 40ms/step - loss: 0.2434 - accuracy: 0.9314 - val_loss: 0.2244 - val_accuracy: 0.9392 - lr: 1.0000e-05\n",
            "Epoch 39/100\n",
            "73/73 [==============================] - 3s 40ms/step - loss: 0.2439 - accuracy: 0.9315 - val_loss: 0.2244 - val_accuracy: 0.9392 - lr: 1.0000e-05\n",
            "Epoch 40/100\n",
            "73/73 [==============================] - 3s 42ms/step - loss: 0.2430 - accuracy: 0.9315 - val_loss: 0.2245 - val_accuracy: 0.9392 - lr: 1.0000e-05\n",
            "Epoch 41/100\n",
            "73/73 [==============================] - 3s 40ms/step - loss: 0.2427 - accuracy: 0.9315 - val_loss: 0.2244 - val_accuracy: 0.9392 - lr: 1.0000e-05\n",
            "Epoch 42/100\n",
            "73/73 [==============================] - 3s 39ms/step - loss: 0.2424 - accuracy: 0.9315 - val_loss: 0.2243 - val_accuracy: 0.9392 - lr: 1.0000e-05\n",
            "Epoch 43/100\n",
            "73/73 [==============================] - 3s 40ms/step - loss: 0.2441 - accuracy: 0.9315 - val_loss: 0.2242 - val_accuracy: 0.9392 - lr: 1.0000e-05\n",
            "Epoch 44/100\n",
            "73/73 [==============================] - 3s 40ms/step - loss: 0.2438 - accuracy: 0.9315 - val_loss: 0.2243 - val_accuracy: 0.9392 - lr: 1.0000e-05\n",
            "Epoch 45/100\n",
            "73/73 [==============================] - 3s 42ms/step - loss: 0.2438 - accuracy: 0.9315 - val_loss: 0.2243 - val_accuracy: 0.9392 - lr: 1.0000e-05\n",
            "Epoch 46/100\n",
            "73/73 [==============================] - 3s 40ms/step - loss: 0.2427 - accuracy: 0.9315 - val_loss: 0.2242 - val_accuracy: 0.9392 - lr: 1.0000e-05\n",
            "Epoch 47/100\n",
            "73/73 [==============================] - 3s 40ms/step - loss: 0.2444 - accuracy: 0.9315 - val_loss: 0.2242 - val_accuracy: 0.9392 - lr: 1.0000e-05\n",
            "Epoch 48/100\n",
            "73/73 [==============================] - 3s 39ms/step - loss: 0.2440 - accuracy: 0.9315 - val_loss: 0.2243 - val_accuracy: 0.9392 - lr: 1.0000e-05\n",
            "Epoch 49/100\n",
            "73/73 [==============================] - 3s 41ms/step - loss: 0.2434 - accuracy: 0.9315 - val_loss: 0.2242 - val_accuracy: 0.9392 - lr: 1.0000e-05\n",
            "Epoch 50/100\n",
            "73/73 [==============================] - 3s 41ms/step - loss: 0.2429 - accuracy: 0.9315 - val_loss: 0.2242 - val_accuracy: 0.9392 - lr: 1.0000e-05\n",
            "Epoch 51/100\n",
            "73/73 [==============================] - 3s 40ms/step - loss: 0.2425 - accuracy: 0.9315 - val_loss: 0.2241 - val_accuracy: 0.9392 - lr: 1.0000e-05\n",
            "Epoch 52/100\n",
            "73/73 [==============================] - 3s 39ms/step - loss: 0.2428 - accuracy: 0.9315 - val_loss: 0.2242 - val_accuracy: 0.9392 - lr: 1.0000e-05\n",
            "Epoch 53/100\n",
            "73/73 [==============================] - 3s 39ms/step - loss: 0.2427 - accuracy: 0.9315 - val_loss: 0.2242 - val_accuracy: 0.9392 - lr: 1.0000e-06\n",
            "Epoch 54/100\n",
            "73/73 [==============================] - 3s 42ms/step - loss: 0.2431 - accuracy: 0.9314 - val_loss: 0.2241 - val_accuracy: 0.9392 - lr: 1.0000e-06\n",
            "Epoch 55/100\n",
            "73/73 [==============================] - 3s 40ms/step - loss: 0.2427 - accuracy: 0.9314 - val_loss: 0.2242 - val_accuracy: 0.9392 - lr: 1.0000e-06\n",
            "Epoch 56/100\n",
            "73/73 [==============================] - 3s 39ms/step - loss: 0.2430 - accuracy: 0.9315 - val_loss: 0.2241 - val_accuracy: 0.9392 - lr: 1.0000e-06\n",
            "Epoch 57/100\n",
            "73/73 [==============================] - 3s 40ms/step - loss: 0.2425 - accuracy: 0.9315 - val_loss: 0.2241 - val_accuracy: 0.9392 - lr: 1.0000e-06\n",
            "Epoch 58/100\n",
            "73/73 [==============================] - 3s 40ms/step - loss: 0.2419 - accuracy: 0.9315 - val_loss: 0.2241 - val_accuracy: 0.9392 - lr: 1.0000e-07\n",
            "Epoch 59/100\n",
            "73/73 [==============================] - 3s 42ms/step - loss: 0.2424 - accuracy: 0.9315 - val_loss: 0.2241 - val_accuracy: 0.9392 - lr: 1.0000e-07\n",
            "Epoch 60/100\n",
            "73/73 [==============================] - 3s 40ms/step - loss: 0.2435 - accuracy: 0.9315 - val_loss: 0.2241 - val_accuracy: 0.9392 - lr: 1.0000e-07\n",
            "Epoch 61/100\n",
            "73/73 [==============================] - 3s 39ms/step - loss: 0.2429 - accuracy: 0.9315 - val_loss: 0.2241 - val_accuracy: 0.9392 - lr: 1.0000e-07\n",
            "Epoch 62/100\n",
            "73/73 [==============================] - 3s 40ms/step - loss: 0.2429 - accuracy: 0.9315 - val_loss: 0.2241 - val_accuracy: 0.9392 - lr: 1.0000e-07\n",
            "Epoch 63/100\n",
            "73/73 [==============================] - 3s 41ms/step - loss: 0.2437 - accuracy: 0.9315 - val_loss: 0.2241 - val_accuracy: 0.9392 - lr: 1.0000e-07\n",
            "Epoch 64/100\n",
            "73/73 [==============================] - 3s 42ms/step - loss: 0.2437 - accuracy: 0.9315 - val_loss: 0.2241 - val_accuracy: 0.9392 - lr: 1.0000e-07\n",
            "Epoch 65/100\n",
            "73/73 [==============================] - 3s 39ms/step - loss: 0.2452 - accuracy: 0.9315 - val_loss: 0.2241 - val_accuracy: 0.9392 - lr: 1.0000e-08\n",
            "Epoch 66/100\n",
            "73/73 [==============================] - 3s 40ms/step - loss: 0.2439 - accuracy: 0.9315 - val_loss: 0.2241 - val_accuracy: 0.9392 - lr: 1.0000e-08\n",
            "Epoch 67/100\n",
            "73/73 [==============================] - 3s 40ms/step - loss: 0.2434 - accuracy: 0.9315 - val_loss: 0.2241 - val_accuracy: 0.9392 - lr: 1.0000e-08\n",
            "Epoch 68/100\n",
            "73/73 [==============================] - 3s 42ms/step - loss: 0.2412 - accuracy: 0.9314 - val_loss: 0.2241 - val_accuracy: 0.9392 - lr: 1.0000e-08\n",
            "Epoch 69/100\n",
            "73/73 [==============================] - 3s 41ms/step - loss: 0.2436 - accuracy: 0.9315 - val_loss: 0.2241 - val_accuracy: 0.9392 - lr: 1.0000e-08\n",
            "Epoch 70/100\n",
            "73/73 [==============================] - 3s 39ms/step - loss: 0.2428 - accuracy: 0.9315 - val_loss: 0.2241 - val_accuracy: 0.9392 - lr: 1.0000e-09\n",
            "Epoch 71/100\n",
            "73/73 [==============================] - 3s 39ms/step - loss: 0.2450 - accuracy: 0.9315 - val_loss: 0.2241 - val_accuracy: 0.9392 - lr: 1.0000e-09\n",
            "Epoch 72/100\n",
            "73/73 [==============================] - 3s 41ms/step - loss: 0.2425 - accuracy: 0.9315 - val_loss: 0.2241 - val_accuracy: 0.9392 - lr: 1.0000e-09\n",
            "Epoch 73/100\n",
            "73/73 [==============================] - 3s 46ms/step - loss: 0.2434 - accuracy: 0.9315 - val_loss: 0.2241 - val_accuracy: 0.9392 - lr: 1.0000e-09\n"
          ]
        }
      ]
    },
    {
      "cell_type": "code",
      "source": [
        "import matplotlib.pyplot as plt\n",
        "\n",
        "# Plot the training and validation accuracy over epochs\n",
        "plt.plot(history_LSTM.history['accuracy'], label='Training Accuracy')\n",
        "plt.plot(history_LSTM.history['val_accuracy'], label='Validation Accuracy')\n",
        "plt.xlabel('Epoch')\n",
        "plt.ylabel('Accuracy')\n",
        "plt.ylim([0, 1])\n",
        "plt.legend(loc='lower right')\n",
        "plt.show()\n",
        "\n",
        "# Plot the training and validation loss over epochs\n",
        "plt.plot(history_LSTM.history['loss'], label='Training Loss')\n",
        "plt.plot(history_LSTM.history['val_loss'], label='Validation Loss')\n",
        "plt.xlabel('Epoch')\n",
        "plt.ylabel('Loss')\n",
        "plt.legend(loc='upper right')\n",
        "plt.show()\n"
      ],
      "metadata": {
        "colab": {
          "base_uri": "https://localhost:8080/",
          "height": 887
        },
        "id": "QGBVZcU_0_Fw",
        "outputId": "8738bbd9-a863-4d30-940a-61b0ce43e0c6"
      },
      "execution_count": 31,
      "outputs": [
        {
          "output_type": "display_data",
          "data": {
            "text/plain": [
              "<Figure size 640x480 with 1 Axes>"
            ],
            "image/png": "[encoded data removed]"
          },
          "metadata": {}
        },
        {
          "output_type": "display_data",
          "data": {
            "text/plain": [
              "<Figure size 640x480 with 1 Axes>"
            ],
            "image/png": "[encoded data removed]"
          },
          "metadata": {}
        }
      ]
    },
    {
      "cell_type": "markdown",
      "metadata": {
        "id": "NEl8DpHrzmQH"
      },
      "source": [
        "##Evaluation"
      ]
    },
    {
      "cell_type": "code",
      "execution_count": 32,
      "metadata": {
        "colab": {
          "base_uri": "https://localhost:8080/"
        },
        "outputId": "4ee01472-282a-4d76-ace2-9bc084f05a3a",
        "id": "USYW_yNXzmQI"
      },
      "outputs": [
        {
          "output_type": "stream",
          "name": "stdout",
          "text": [
            "290/290 [==============================] - 4s 14ms/step\n",
            "73/73 [==============================] - 1s 14ms/step\n",
            "Accuracy (train): 0.9315\n",
            "AUC (train): 0.8518\n",
            "Accuracy (valid): 0.9392\n",
            "AUC (valid): 0.8532\n"
          ]
        }
      ],
      "source": [
        "from sklearn.metrics import roc_auc_score\n",
        "\n",
        "threshold = 0.5\n",
        "\n",
        "y_train_pred = model.predict(x_train)\n",
        "# Convert probabilities to binary predictions\n",
        "y_train_pred_binary = (y_train_pred > threshold).astype(int)\n",
        "y_valid_pred = model.predict(x_valid)\n",
        "y_valid_pred_binary = (y_valid_pred > threshold).astype(int)\n",
        "\n",
        "from sklearn.metrics import accuracy_score, confusion_matrix, classification_report, roc_curve, auc, roc_auc_score\n",
        "accuracy_train = accuracy_score(y_train, y_train_pred_binary)\n",
        "auc_train = roc_auc_score(y_train, y_train_pred)\n",
        "\n",
        "accuracy_valid = accuracy_score(y_valid, y_valid_pred_binary)\n",
        "auc_valid = roc_auc_score(y_valid, y_valid_pred)\n",
        "\n",
        "print(f'Accuracy (train): {accuracy_train:.4f}')\n",
        "print(f'AUC (train): {auc_train:.4f}')\n",
        "\n",
        "print(f'Accuracy (valid): {accuracy_valid:.4f}')\n",
        "print(f'AUC (valid): {auc_valid:.4f}')"
      ]
    },
    {
      "cell_type": "code",
      "execution_count": 33,
      "metadata": {
        "colab": {
          "base_uri": "https://localhost:8080/"
        },
        "outputId": "a52d6124-354e-46a4-f348-06eca28f5785",
        "id": "WlO-I_zuzmQI"
      },
      "outputs": [
        {
          "output_type": "stream",
          "name": "stdout",
          "text": [
            "For training set:\n",
            "Precision: 1.0\n",
            "Recall: 0.6123\n",
            "F1 Score: 0.7596 \n",
            "\n",
            "For validation set:\n",
            "Precision: 1.0\n",
            "Recall: 0.6421\n",
            "F1 Score: 0.7821\n"
          ]
        }
      ],
      "source": [
        "from sklearn.metrics import precision_score, recall_score, f1_score\n",
        "# Calculate precision, recall, and F1 score\n",
        "precision = precision_score(y_train, y_train_pred_binary, zero_division=1)\n",
        "recall = recall_score(y_train, y_train_pred_binary, zero_division=1)\n",
        "f1 = f1_score(y_train, y_train_pred_binary, zero_division=1)\n",
        "\n",
        "# Print with 4 digits limit\n",
        "print(\"For training set:\")\n",
        "print(\"Precision:\", round(precision, 4))\n",
        "print(\"Recall:\", round(recall, 4))\n",
        "print(\"F1 Score:\", round(f1, 4),\"\\n\")\n",
        "\n",
        "# Calculate precision, recall, and F1 score\n",
        "precision = precision_score(y_valid, y_valid_pred_binary, zero_division=1)\n",
        "recall = recall_score(y_valid, y_valid_pred_binary, zero_division=1)\n",
        "f1 = f1_score(y_valid, y_valid_pred_binary, zero_division=1)\n",
        "\n",
        "# Print with 4 digits limit\n",
        "print(\"For validation set:\")\n",
        "print(\"Precision:\", round(precision, 4))\n",
        "print(\"Recall:\", round(recall, 4))\n",
        "print(\"F1 Score:\", round(f1, 4))"
      ]
    },
    {
      "cell_type": "code",
      "execution_count": 34,
      "metadata": {
        "colab": {
          "base_uri": "https://localhost:8080/"
        },
        "outputId": "c43c23a8-6aaf-4c65-fb2b-5e0b8f2f7251",
        "id": "Vwi1uceMzmQI"
      },
      "outputs": [
        {
          "output_type": "stream",
          "name": "stdout",
          "text": [
            "92/92 [==============================] - 1s 13ms/step\n"
          ]
        }
      ],
      "source": [
        "y_test_pred = model.predict(x_test)\n",
        "y_test_pred_binary = (y_test_pred > threshold).astype(int)"
      ]
    },
    {
      "cell_type": "code",
      "execution_count": 35,
      "metadata": {
        "colab": {
          "base_uri": "https://localhost:8080/",
          "height": 17
        },
        "outputId": "b6313d2f-5dfc-4562-c56b-e08e418f313b",
        "id": "z6AmCWTMzmQJ"
      },
      "outputs": [
        {
          "output_type": "display_data",
          "data": {
            "text/plain": [
              "<IPython.core.display.Javascript object>"
            ],
            "application/javascript": [
              "\n",
              "    async function download(id, filename, size) {\n",
              "      if (!google.colab.kernel.accessAllowed) {\n",
              "        return;\n",
              "      }\n",
              "      const div = document.createElement('div');\n",
              "      const label = document.createElement('label');\n",
              "      label.textContent = `Downloading \"${filename}\": `;\n",
              "      div.appendChild(label);\n",
              "      const progress = document.createElement('progress');\n",
              "      progress.max = size;\n",
              "      div.appendChild(progress);\n",
              "      document.body.appendChild(div);\n",
              "\n",
              "      const buffers = [];\n",
              "      let downloaded = 0;\n",
              "\n",
              "      const channel = await google.colab.kernel.comms.open(id);\n",
              "      // Send a message to notify the kernel that we're ready.\n",
              "      channel.send({})\n",
              "\n",
              "      for await (const message of channel.messages) {\n",
              "        // Send a message to notify the kernel that we're ready.\n",
              "        channel.send({})\n",
              "        if (message.buffers) {\n",
              "          for (const buffer of message.buffers) {\n",
              "            buffers.push(buffer);\n",
              "            downloaded += buffer.byteLength;\n",
              "            progress.value = downloaded;\n",
              "          }\n",
              "        }\n",
              "      }\n",
              "      const blob = new Blob(buffers, {type: 'application/binary'});\n",
              "      const a = document.createElement('a');\n",
              "      a.href = window.URL.createObjectURL(blob);\n",
              "      a.download = filename;\n",
              "      div.appendChild(a);\n",
              "      a.click();\n",
              "      div.remove();\n",
              "    }\n",
              "  "
            ]
          },
          "metadata": {}
        },
        {
          "output_type": "display_data",
          "data": {
            "text/plain": [
              "<IPython.core.display.Javascript object>"
            ],
            "application/javascript": [
              "download(\"download_6ca8e7d8-b483-46b8-9228-46445b0cacf8\", \"predictions.csv\", 58748)"
            ]
          },
          "metadata": {}
        }
      ],
      "source": [
        "# Assuming y_test_pred_binary is a numpy array\n",
        "predictions_df = pd.DataFrame(y_test_pred_binary, columns=['readmitted_within_30days'])\n",
        "merged_df = test[['id']].merge(predictions_df, left_index=True, right_index=True)\n",
        "merged_df.to_csv('predictions.csv', index=False)\n",
        "\n",
        "from google.colab import files\n",
        "files.download('predictions.csv')"
      ]
    },
    {
      "cell_type": "markdown",
      "metadata": {
        "id": "7A07z5aO2q_g"
      },
      "source": [
        "# GRU"
      ]
    },
    {
      "cell_type": "code",
      "execution_count": 39,
      "metadata": {
        "colab": {
          "base_uri": "https://localhost:8080/",
          "height": 444
        },
        "outputId": "a4419e4e-fdaa-46c2-e6ef-f4ecfe7188a3",
        "id": "2tp9s4zJ2q_h"
      },
      "outputs": [
        {
          "output_type": "stream",
          "name": "stderr",
          "text": [
            "WARNING:tensorflow:Layer gru_7 will not use cuDNN kernels since it doesn't meet the criteria. It will use a generic GPU kernel as fallback when running on GPU.\n"
          ]
        },
        {
          "output_type": "stream",
          "name": "stdout",
          "text": [
            "model compiled\n",
            "Epoch 1/100\n"
          ]
        },
        {
          "output_type": "error",
          "ename": "KeyboardInterrupt",
          "evalue": "ignored",
          "traceback": [
            "\u001b[0;31m---------------------------------------------------------------------------\u001b[0m",
            "\u001b[0;31mKeyboardInterrupt\u001b[0m                         Traceback (most recent call last)",
            "\u001b[0;32m<ipython-input-39-78232864c1e0>\u001b[0m in \u001b[0;36m<cell line: 27>\u001b[0;34m()\u001b[0m\n\u001b[1;32m     25\u001b[0m \u001b[0;34m\u001b[0m\u001b[0m\n\u001b[1;32m     26\u001b[0m \u001b[0;31m# Train the model\u001b[0m\u001b[0;34m\u001b[0m\u001b[0;34m\u001b[0m\u001b[0m\n\u001b[0;32m---> 27\u001b[0;31m \u001b[0mhistory_GRU\u001b[0m \u001b[0;34m=\u001b[0m \u001b[0mmodel_GRU\u001b[0m\u001b[0;34m.\u001b[0m\u001b[0mfit\u001b[0m\u001b[0;34m(\u001b[0m\u001b[0mx_train\u001b[0m\u001b[0;34m,\u001b[0m \u001b[0my_train\u001b[0m\u001b[0;34m,\u001b[0m \u001b[0mbatch_size\u001b[0m\u001b[0;34m=\u001b[0m\u001b[0;36m128\u001b[0m\u001b[0;34m,\u001b[0m \u001b[0mepochs\u001b[0m\u001b[0;34m=\u001b[0m\u001b[0;36m100\u001b[0m\u001b[0;34m,\u001b[0m \u001b[0mvalidation_data\u001b[0m\u001b[0;34m=\u001b[0m\u001b[0;34m(\u001b[0m\u001b[0mx_valid\u001b[0m\u001b[0;34m,\u001b[0m \u001b[0my_valid\u001b[0m\u001b[0;34m)\u001b[0m\u001b[0;34m,\u001b[0m \u001b[0mcallbacks\u001b[0m\u001b[0;34m=\u001b[0m\u001b[0mcallbacks\u001b[0m\u001b[0;34m)\u001b[0m\u001b[0;34m\u001b[0m\u001b[0;34m\u001b[0m\u001b[0m\n\u001b[0m",
            "\u001b[0;32m/usr/local/lib/python3.10/dist-packages/keras/src/utils/traceback_utils.py\u001b[0m in \u001b[0;36merror_handler\u001b[0;34m(*args, **kwargs)\u001b[0m\n\u001b[1;32m     63\u001b[0m         \u001b[0mfiltered_tb\u001b[0m \u001b[0;34m=\u001b[0m \u001b[0;32mNone\u001b[0m\u001b[0;34m\u001b[0m\u001b[0;34m\u001b[0m\u001b[0m\n\u001b[1;32m     64\u001b[0m         \u001b[0;32mtry\u001b[0m\u001b[0;34m:\u001b[0m\u001b[0;34m\u001b[0m\u001b[0;34m\u001b[0m\u001b[0m\n\u001b[0;32m---> 65\u001b[0;31m             \u001b[0;32mreturn\u001b[0m \u001b[0mfn\u001b[0m\u001b[0;34m(\u001b[0m\u001b[0;34m*\u001b[0m\u001b[0margs\u001b[0m\u001b[0;34m,\u001b[0m \u001b[0;34m**\u001b[0m\u001b[0mkwargs\u001b[0m\u001b[0;34m)\u001b[0m\u001b[0;34m\u001b[0m\u001b[0;34m\u001b[0m\u001b[0m\n\u001b[0m\u001b[1;32m     66\u001b[0m         \u001b[0;32mexcept\u001b[0m \u001b[0mException\u001b[0m \u001b[0;32mas\u001b[0m \u001b[0me\u001b[0m\u001b[0;34m:\u001b[0m\u001b[0;34m\u001b[0m\u001b[0;34m\u001b[0m\u001b[0m\n\u001b[1;32m     67\u001b[0m             \u001b[0mfiltered_tb\u001b[0m \u001b[0;34m=\u001b[0m \u001b[0m_process_traceback_frames\u001b[0m\u001b[0;34m(\u001b[0m\u001b[0me\u001b[0m\u001b[0;34m.\u001b[0m\u001b[0m__traceback__\u001b[0m\u001b[0;34m)\u001b[0m\u001b[0;34m\u001b[0m\u001b[0;34m\u001b[0m\u001b[0m\n",
            "\u001b[0;32m/usr/local/lib/python3.10/dist-packages/keras/src/engine/training.py\u001b[0m in \u001b[0;36mfit\u001b[0;34m(self, x, y, batch_size, epochs, verbose, callbacks, validation_split, validation_data, shuffle, class_weight, sample_weight, initial_epoch, steps_per_epoch, validation_steps, validation_batch_size, validation_freq, max_queue_size, workers, use_multiprocessing)\u001b[0m\n\u001b[1;32m   1781\u001b[0m                         ):\n\u001b[1;32m   1782\u001b[0m                             \u001b[0mcallbacks\u001b[0m\u001b[0;34m.\u001b[0m\u001b[0mon_train_batch_begin\u001b[0m\u001b[0;34m(\u001b[0m\u001b[0mstep\u001b[0m\u001b[0;34m)\u001b[0m\u001b[0;34m\u001b[0m\u001b[0;34m\u001b[0m\u001b[0m\n\u001b[0;32m-> 1783\u001b[0;31m                             \u001b[0mtmp_logs\u001b[0m \u001b[0;34m=\u001b[0m \u001b[0mself\u001b[0m\u001b[0;34m.\u001b[0m\u001b[0mtrain_function\u001b[0m\u001b[0;34m(\u001b[0m\u001b[0miterator\u001b[0m\u001b[0;34m)\u001b[0m\u001b[0;34m\u001b[0m\u001b[0;34m\u001b[0m\u001b[0m\n\u001b[0m\u001b[1;32m   1784\u001b[0m                             \u001b[0;32mif\u001b[0m \u001b[0mdata_handler\u001b[0m\u001b[0;34m.\u001b[0m\u001b[0mshould_sync\u001b[0m\u001b[0;34m:\u001b[0m\u001b[0;34m\u001b[0m\u001b[0;34m\u001b[0m\u001b[0m\n\u001b[1;32m   1785\u001b[0m                                 \u001b[0mcontext\u001b[0m\u001b[0;34m.\u001b[0m\u001b[0masync_wait\u001b[0m\u001b[0;34m(\u001b[0m\u001b[0;34m)\u001b[0m\u001b[0;34m\u001b[0m\u001b[0;34m\u001b[0m\u001b[0m\n",
            "\u001b[0;32m/usr/local/lib/python3.10/dist-packages/tensorflow/python/util/traceback_utils.py\u001b[0m in \u001b[0;36merror_handler\u001b[0;34m(*args, **kwargs)\u001b[0m\n\u001b[1;32m    148\u001b[0m     \u001b[0mfiltered_tb\u001b[0m \u001b[0;34m=\u001b[0m \u001b[0;32mNone\u001b[0m\u001b[0;34m\u001b[0m\u001b[0;34m\u001b[0m\u001b[0m\n\u001b[1;32m    149\u001b[0m     \u001b[0;32mtry\u001b[0m\u001b[0;34m:\u001b[0m\u001b[0;34m\u001b[0m\u001b[0;34m\u001b[0m\u001b[0m\n\u001b[0;32m--> 150\u001b[0;31m       \u001b[0;32mreturn\u001b[0m \u001b[0mfn\u001b[0m\u001b[0;34m(\u001b[0m\u001b[0;34m*\u001b[0m\u001b[0margs\u001b[0m\u001b[0;34m,\u001b[0m \u001b[0;34m**\u001b[0m\u001b[0mkwargs\u001b[0m\u001b[0;34m)\u001b[0m\u001b[0;34m\u001b[0m\u001b[0;34m\u001b[0m\u001b[0m\n\u001b[0m\u001b[1;32m    151\u001b[0m     \u001b[0;32mexcept\u001b[0m \u001b[0mException\u001b[0m \u001b[0;32mas\u001b[0m \u001b[0me\u001b[0m\u001b[0;34m:\u001b[0m\u001b[0;34m\u001b[0m\u001b[0;34m\u001b[0m\u001b[0m\n\u001b[1;32m    152\u001b[0m       \u001b[0mfiltered_tb\u001b[0m \u001b[0;34m=\u001b[0m \u001b[0m_process_traceback_frames\u001b[0m\u001b[0;34m(\u001b[0m\u001b[0me\u001b[0m\u001b[0;34m.\u001b[0m\u001b[0m__traceback__\u001b[0m\u001b[0;34m)\u001b[0m\u001b[0;34m\u001b[0m\u001b[0;34m\u001b[0m\u001b[0m\n",
            "\u001b[0;32m/usr/local/lib/python3.10/dist-packages/tensorflow/python/eager/polymorphic_function/polymorphic_function.py\u001b[0m in \u001b[0;36m__call__\u001b[0;34m(self, *args, **kwds)\u001b[0m\n\u001b[1;32m    829\u001b[0m \u001b[0;34m\u001b[0m\u001b[0m\n\u001b[1;32m    830\u001b[0m       \u001b[0;32mwith\u001b[0m \u001b[0mOptionalXlaContext\u001b[0m\u001b[0;34m(\u001b[0m\u001b[0mself\u001b[0m\u001b[0;34m.\u001b[0m\u001b[0m_jit_compile\u001b[0m\u001b[0;34m)\u001b[0m\u001b[0;34m:\u001b[0m\u001b[0;34m\u001b[0m\u001b[0;34m\u001b[0m\u001b[0m\n\u001b[0;32m--> 831\u001b[0;31m         \u001b[0mresult\u001b[0m \u001b[0;34m=\u001b[0m \u001b[0mself\u001b[0m\u001b[0;34m.\u001b[0m\u001b[0m_call\u001b[0m\u001b[0;34m(\u001b[0m\u001b[0;34m*\u001b[0m\u001b[0margs\u001b[0m\u001b[0;34m,\u001b[0m \u001b[0;34m**\u001b[0m\u001b[0mkwds\u001b[0m\u001b[0;34m)\u001b[0m\u001b[0;34m\u001b[0m\u001b[0;34m\u001b[0m\u001b[0m\n\u001b[0m\u001b[1;32m    832\u001b[0m \u001b[0;34m\u001b[0m\u001b[0m\n\u001b[1;32m    833\u001b[0m       \u001b[0mnew_tracing_count\u001b[0m \u001b[0;34m=\u001b[0m \u001b[0mself\u001b[0m\u001b[0;34m.\u001b[0m\u001b[0mexperimental_get_tracing_count\u001b[0m\u001b[0;34m(\u001b[0m\u001b[0;34m)\u001b[0m\u001b[0;34m\u001b[0m\u001b[0;34m\u001b[0m\u001b[0m\n",
            "\u001b[0;32m/usr/local/lib/python3.10/dist-packages/tensorflow/python/eager/polymorphic_function/polymorphic_function.py\u001b[0m in \u001b[0;36m_call\u001b[0;34m(self, *args, **kwds)\u001b[0m\n\u001b[1;32m    902\u001b[0m         \u001b[0;31m# Lifting succeeded, so variables are initialized and we can run the\u001b[0m\u001b[0;34m\u001b[0m\u001b[0;34m\u001b[0m\u001b[0m\n\u001b[1;32m    903\u001b[0m         \u001b[0;31m# no_variable_creation function.\u001b[0m\u001b[0;34m\u001b[0m\u001b[0;34m\u001b[0m\u001b[0m\n\u001b[0;32m--> 904\u001b[0;31m         return tracing_compilation.call_function(\n\u001b[0m\u001b[1;32m    905\u001b[0m             \u001b[0margs\u001b[0m\u001b[0;34m,\u001b[0m \u001b[0mkwds\u001b[0m\u001b[0;34m,\u001b[0m \u001b[0mself\u001b[0m\u001b[0;34m.\u001b[0m\u001b[0m_no_variable_creation_config\u001b[0m\u001b[0;34m\u001b[0m\u001b[0;34m\u001b[0m\u001b[0m\n\u001b[1;32m    906\u001b[0m         )\n",
            "\u001b[0;32m/usr/local/lib/python3.10/dist-packages/tensorflow/python/eager/polymorphic_function/tracing_compilation.py\u001b[0m in \u001b[0;36mcall_function\u001b[0;34m(args, kwargs, tracing_options)\u001b[0m\n\u001b[1;32m    137\u001b[0m   \u001b[0mbound_args\u001b[0m \u001b[0;34m=\u001b[0m \u001b[0mfunction\u001b[0m\u001b[0;34m.\u001b[0m\u001b[0mfunction_type\u001b[0m\u001b[0;34m.\u001b[0m\u001b[0mbind\u001b[0m\u001b[0;34m(\u001b[0m\u001b[0;34m*\u001b[0m\u001b[0margs\u001b[0m\u001b[0;34m,\u001b[0m \u001b[0;34m**\u001b[0m\u001b[0mkwargs\u001b[0m\u001b[0;34m)\u001b[0m\u001b[0;34m\u001b[0m\u001b[0;34m\u001b[0m\u001b[0m\n\u001b[1;32m    138\u001b[0m   \u001b[0mflat_inputs\u001b[0m \u001b[0;34m=\u001b[0m \u001b[0mfunction\u001b[0m\u001b[0;34m.\u001b[0m\u001b[0mfunction_type\u001b[0m\u001b[0;34m.\u001b[0m\u001b[0munpack_inputs\u001b[0m\u001b[0;34m(\u001b[0m\u001b[0mbound_args\u001b[0m\u001b[0;34m)\u001b[0m\u001b[0;34m\u001b[0m\u001b[0;34m\u001b[0m\u001b[0m\n\u001b[0;32m--> 139\u001b[0;31m   return function._call_flat(  # pylint: disable=protected-access\n\u001b[0m\u001b[1;32m    140\u001b[0m       \u001b[0mflat_inputs\u001b[0m\u001b[0;34m,\u001b[0m \u001b[0mcaptured_inputs\u001b[0m\u001b[0;34m=\u001b[0m\u001b[0mfunction\u001b[0m\u001b[0;34m.\u001b[0m\u001b[0mcaptured_inputs\u001b[0m\u001b[0;34m\u001b[0m\u001b[0;34m\u001b[0m\u001b[0m\n\u001b[1;32m    141\u001b[0m   )\n",
            "\u001b[0;32m/usr/local/lib/python3.10/dist-packages/tensorflow/python/eager/polymorphic_function/concrete_function.py\u001b[0m in \u001b[0;36m_call_flat\u001b[0;34m(self, tensor_inputs, captured_inputs)\u001b[0m\n\u001b[1;32m   1262\u001b[0m         and executing_eagerly):\n\u001b[1;32m   1263\u001b[0m       \u001b[0;31m# No tape is watching; skip to running the function.\u001b[0m\u001b[0;34m\u001b[0m\u001b[0;34m\u001b[0m\u001b[0m\n\u001b[0;32m-> 1264\u001b[0;31m       \u001b[0;32mreturn\u001b[0m \u001b[0mself\u001b[0m\u001b[0;34m.\u001b[0m\u001b[0m_inference_function\u001b[0m\u001b[0;34m.\u001b[0m\u001b[0mflat_call\u001b[0m\u001b[0;34m(\u001b[0m\u001b[0margs\u001b[0m\u001b[0;34m)\u001b[0m\u001b[0;34m\u001b[0m\u001b[0;34m\u001b[0m\u001b[0m\n\u001b[0m\u001b[1;32m   1265\u001b[0m     forward_backward = self._select_forward_and_backward_functions(\n\u001b[1;32m   1266\u001b[0m         \u001b[0margs\u001b[0m\u001b[0;34m,\u001b[0m\u001b[0;34m\u001b[0m\u001b[0;34m\u001b[0m\u001b[0m\n",
            "\u001b[0;32m/usr/local/lib/python3.10/dist-packages/tensorflow/python/eager/polymorphic_function/atomic_function.py\u001b[0m in \u001b[0;36mflat_call\u001b[0;34m(self, args)\u001b[0m\n\u001b[1;32m    215\u001b[0m   \u001b[0;32mdef\u001b[0m \u001b[0mflat_call\u001b[0m\u001b[0;34m(\u001b[0m\u001b[0mself\u001b[0m\u001b[0;34m,\u001b[0m \u001b[0margs\u001b[0m\u001b[0;34m:\u001b[0m \u001b[0mSequence\u001b[0m\u001b[0;34m[\u001b[0m\u001b[0mcore\u001b[0m\u001b[0;34m.\u001b[0m\u001b[0mTensor\u001b[0m\u001b[0;34m]\u001b[0m\u001b[0;34m)\u001b[0m \u001b[0;34m->\u001b[0m \u001b[0mAny\u001b[0m\u001b[0;34m:\u001b[0m\u001b[0;34m\u001b[0m\u001b[0;34m\u001b[0m\u001b[0m\n\u001b[1;32m    216\u001b[0m     \u001b[0;34m\"\"\"Calls with tensor inputs and returns the structured output.\"\"\"\u001b[0m\u001b[0;34m\u001b[0m\u001b[0;34m\u001b[0m\u001b[0m\n\u001b[0;32m--> 217\u001b[0;31m     \u001b[0mflat_outputs\u001b[0m \u001b[0;34m=\u001b[0m \u001b[0mself\u001b[0m\u001b[0;34m(\u001b[0m\u001b[0;34m*\u001b[0m\u001b[0margs\u001b[0m\u001b[0;34m)\u001b[0m\u001b[0;34m\u001b[0m\u001b[0;34m\u001b[0m\u001b[0m\n\u001b[0m\u001b[1;32m    218\u001b[0m     \u001b[0;32mreturn\u001b[0m \u001b[0mself\u001b[0m\u001b[0;34m.\u001b[0m\u001b[0mfunction_type\u001b[0m\u001b[0;34m.\u001b[0m\u001b[0mpack_output\u001b[0m\u001b[0;34m(\u001b[0m\u001b[0mflat_outputs\u001b[0m\u001b[0;34m)\u001b[0m\u001b[0;34m\u001b[0m\u001b[0;34m\u001b[0m\u001b[0m\n\u001b[1;32m    219\u001b[0m \u001b[0;34m\u001b[0m\u001b[0m\n",
            "\u001b[0;32m/usr/local/lib/python3.10/dist-packages/tensorflow/python/eager/polymorphic_function/atomic_function.py\u001b[0m in \u001b[0;36m__call__\u001b[0;34m(self, *args)\u001b[0m\n\u001b[1;32m    250\u001b[0m         \u001b[0;32mwith\u001b[0m \u001b[0mrecord\u001b[0m\u001b[0;34m.\u001b[0m\u001b[0mstop_recording\u001b[0m\u001b[0;34m(\u001b[0m\u001b[0;34m)\u001b[0m\u001b[0;34m:\u001b[0m\u001b[0;34m\u001b[0m\u001b[0;34m\u001b[0m\u001b[0m\n\u001b[1;32m    251\u001b[0m           \u001b[0;32mif\u001b[0m \u001b[0mself\u001b[0m\u001b[0;34m.\u001b[0m\u001b[0m_bound_context\u001b[0m\u001b[0;34m.\u001b[0m\u001b[0mexecuting_eagerly\u001b[0m\u001b[0;34m(\u001b[0m\u001b[0;34m)\u001b[0m\u001b[0;34m:\u001b[0m\u001b[0;34m\u001b[0m\u001b[0;34m\u001b[0m\u001b[0m\n\u001b[0;32m--> 252\u001b[0;31m             outputs = self._bound_context.call_function(\n\u001b[0m\u001b[1;32m    253\u001b[0m                 \u001b[0mself\u001b[0m\u001b[0;34m.\u001b[0m\u001b[0mname\u001b[0m\u001b[0;34m,\u001b[0m\u001b[0;34m\u001b[0m\u001b[0;34m\u001b[0m\u001b[0m\n\u001b[1;32m    254\u001b[0m                 \u001b[0mlist\u001b[0m\u001b[0;34m(\u001b[0m\u001b[0margs\u001b[0m\u001b[0;34m)\u001b[0m\u001b[0;34m,\u001b[0m\u001b[0;34m\u001b[0m\u001b[0;34m\u001b[0m\u001b[0m\n",
            "\u001b[0;32m/usr/local/lib/python3.10/dist-packages/tensorflow/python/eager/context.py\u001b[0m in \u001b[0;36mcall_function\u001b[0;34m(self, name, tensor_inputs, num_outputs)\u001b[0m\n\u001b[1;32m   1477\u001b[0m     \u001b[0mcancellation_context\u001b[0m \u001b[0;34m=\u001b[0m \u001b[0mcancellation\u001b[0m\u001b[0;34m.\u001b[0m\u001b[0mcontext\u001b[0m\u001b[0;34m(\u001b[0m\u001b[0;34m)\u001b[0m\u001b[0;34m\u001b[0m\u001b[0;34m\u001b[0m\u001b[0m\n\u001b[1;32m   1478\u001b[0m     \u001b[0;32mif\u001b[0m \u001b[0mcancellation_context\u001b[0m \u001b[0;32mis\u001b[0m \u001b[0;32mNone\u001b[0m\u001b[0;34m:\u001b[0m\u001b[0;34m\u001b[0m\u001b[0;34m\u001b[0m\u001b[0m\n\u001b[0;32m-> 1479\u001b[0;31m       outputs = execute.execute(\n\u001b[0m\u001b[1;32m   1480\u001b[0m           \u001b[0mname\u001b[0m\u001b[0;34m.\u001b[0m\u001b[0mdecode\u001b[0m\u001b[0;34m(\u001b[0m\u001b[0;34m\"utf-8\"\u001b[0m\u001b[0;34m)\u001b[0m\u001b[0;34m,\u001b[0m\u001b[0;34m\u001b[0m\u001b[0;34m\u001b[0m\u001b[0m\n\u001b[1;32m   1481\u001b[0m           \u001b[0mnum_outputs\u001b[0m\u001b[0;34m=\u001b[0m\u001b[0mnum_outputs\u001b[0m\u001b[0;34m,\u001b[0m\u001b[0;34m\u001b[0m\u001b[0;34m\u001b[0m\u001b[0m\n",
            "\u001b[0;32m/usr/local/lib/python3.10/dist-packages/tensorflow/python/eager/execute.py\u001b[0m in \u001b[0;36mquick_execute\u001b[0;34m(op_name, num_outputs, inputs, attrs, ctx, name)\u001b[0m\n\u001b[1;32m     58\u001b[0m         \u001b[0;32mfor\u001b[0m \u001b[0mt\u001b[0m \u001b[0;32min\u001b[0m \u001b[0minputs\u001b[0m\u001b[0;34m\u001b[0m\u001b[0;34m\u001b[0m\u001b[0m\n\u001b[1;32m     59\u001b[0m     ]\n\u001b[0;32m---> 60\u001b[0;31m     tensors = pywrap_tfe.TFE_Py_Execute(ctx._handle, device_name, op_name,\n\u001b[0m\u001b[1;32m     61\u001b[0m                                         inputs, attrs, num_outputs)\n\u001b[1;32m     62\u001b[0m   \u001b[0;32mexcept\u001b[0m \u001b[0mcore\u001b[0m\u001b[0;34m.\u001b[0m\u001b[0m_NotOkStatusException\u001b[0m \u001b[0;32mas\u001b[0m \u001b[0me\u001b[0m\u001b[0;34m:\u001b[0m\u001b[0;34m\u001b[0m\u001b[0;34m\u001b[0m\u001b[0m\n",
            "\u001b[0;31mKeyboardInterrupt\u001b[0m: "
          ]
        }
      ],
      "source": [
        "model_GRU = Sequential()\n",
        "model_GRU.add(GRU(50, return_sequences=True, input_shape=(x_train.shape[1],1)))\n",
        "model_GRU.add(Dropout(0.2))\n",
        "model_GRU.add(GRU(64, return_sequences=False, activation='relu'))\n",
        "model_GRU.add(Dropout(0.2))\n",
        "model_GRU.add(Dense(1, activation = \"sigmoid\"))\n",
        "\n",
        "model_GRU.compile(loss='binary_crossentropy', optimizer='Adam', metrics=[\"accuracy\"])\n",
        "\n",
        "print('model compiled')\n",
        "\n",
        "callbacks = [keras.callbacks.EarlyStopping(patience=10, restore_best_weights=True)]\n",
        "\n",
        "print(model_GRU.summary())\n",
        "\n",
        "#Train the model\n",
        "history_GRU=model_GRU.fit(x_train, y_train, batch_size=512, epochs=200, validation_data = (x_valid, y_valid), callbacks=callbacks)"
      ]
    },
    {
      "cell_type": "code",
      "execution_count": null,
      "metadata": {
        "colab": {
          "base_uri": "https://localhost:8080/",
          "height": 891
        },
        "outputId": "167c1dc1-a47b-4ab4-ac79-67325b47ba0b",
        "id": "DqBTzvOY2q_h"
      },
      "outputs": [
        {
          "output_type": "display_data",
          "data": {
            "text/plain": [
              "<Figure size 640x480 with 1 Axes>"
            ],
            "image/png": "[encoded data removed]"
          },
          "metadata": {}
        },
        {
          "output_type": "display_data",
          "data": {
            "text/plain": [
              "<Figure size 640x480 with 1 Axes>"
            ],
            "image/png": "[encoded data removed]"
          },
          "metadata": {}
        }
      ],
      "source": [
        "import matplotlib.pyplot as plt\n",
        "\n",
        "# Plot the training and validation accuracy over epochs\n",
        "plt.plot(history_GRU.history['accuracy'], label='Training Accuracy')\n",
        "plt.plot(history_GRU.history['val_accuracy'], label='Validation Accuracy')\n",
        "plt.xlabel('Epoch')\n",
        "plt.ylabel('Accuracy')\n",
        "plt.ylim([0, 1])\n",
        "plt.legend(loc='lower right')\n",
        "plt.show()\n",
        "\n",
        "# Plot the training and validation loss over epochs\n",
        "plt.plot(history_GRU.history['loss'], label='Training Loss')\n",
        "plt.plot(history_GRU.history['val_loss'], label='Validation Loss')\n",
        "plt.xlabel('Epoch')\n",
        "plt.ylabel('Loss')\n",
        "plt.legend(loc='upper right')\n",
        "plt.show()"
      ]
    },
    {
      "cell_type": "markdown",
      "metadata": {
        "id": "2LYpQpxE2q_h"
      },
      "source": [
        "##Evaluation"
      ]
    },
    {
      "cell_type": "code",
      "execution_count": null,
      "metadata": {
        "colab": {
          "base_uri": "https://localhost:8080/",
          "height": 249
        },
        "outputId": "cf9902de-84a8-4b59-c60c-5ce422d18b05",
        "id": "iWvT-PZ52q_h"
      },
      "outputs": [
        {
          "output_type": "error",
          "ename": "NameError",
          "evalue": "ignored",
          "traceback": [
            "\u001b[0;31m---------------------------------------------------------------------------\u001b[0m",
            "\u001b[0;31mNameError\u001b[0m                                 Traceback (most recent call last)",
            "\u001b[0;32m<ipython-input-21-04c6cedea5e5>\u001b[0m in \u001b[0;36m<cell line: 5>\u001b[0;34m()\u001b[0m\n\u001b[1;32m      3\u001b[0m \u001b[0mthreshold\u001b[0m \u001b[0;34m=\u001b[0m \u001b[0;36m0.5\u001b[0m\u001b[0;34m\u001b[0m\u001b[0;34m\u001b[0m\u001b[0m\n\u001b[1;32m      4\u001b[0m \u001b[0;34m\u001b[0m\u001b[0m\n\u001b[0;32m----> 5\u001b[0;31m \u001b[0my_train_pred\u001b[0m \u001b[0;34m=\u001b[0m \u001b[0mmodel_GRU\u001b[0m\u001b[0;34m.\u001b[0m\u001b[0mpredict\u001b[0m\u001b[0;34m(\u001b[0m\u001b[0mx_train\u001b[0m\u001b[0;34m)\u001b[0m\u001b[0;34m\u001b[0m\u001b[0;34m\u001b[0m\u001b[0m\n\u001b[0m\u001b[1;32m      6\u001b[0m \u001b[0;31m# Convert probabilities to binary predictions\u001b[0m\u001b[0;34m\u001b[0m\u001b[0;34m\u001b[0m\u001b[0m\n\u001b[1;32m      7\u001b[0m \u001b[0my_train_pred_binary\u001b[0m \u001b[0;34m=\u001b[0m \u001b[0;34m(\u001b[0m\u001b[0my_train_pred\u001b[0m \u001b[0;34m>\u001b[0m \u001b[0mthreshold\u001b[0m\u001b[0;34m)\u001b[0m\u001b[0;34m.\u001b[0m\u001b[0mastype\u001b[0m\u001b[0;34m(\u001b[0m\u001b[0mint\u001b[0m\u001b[0;34m)\u001b[0m\u001b[0;34m\u001b[0m\u001b[0;34m\u001b[0m\u001b[0m\n",
            "\u001b[0;31mNameError\u001b[0m: name 'model_GRU' is not defined"
          ]
        }
      ],
      "source": [
        "from sklearn.metrics import roc_auc_score\n",
        "\n",
        "threshold = 0.5\n",
        "\n",
        "y_train_pred = model_GRU.predict(x_train)\n",
        "# Convert probabilities to binary predictions\n",
        "y_train_pred_binary = (y_train_pred > threshold).astype(int)\n",
        "y_valid_pred = model_GRU.predict(x_valid)\n",
        "y_valid_pred_binary = (y_valid_pred > threshold).astype(int)\n",
        "\n",
        "from sklearn.metrics import accuracy_score, confusion_matrix, classification_report, roc_curve, auc, roc_auc_score\n",
        "accuracy_train = accuracy_score(y_train, y_train_pred_binary)\n",
        "auc_train = roc_auc_score(y_train, y_train_pred)\n",
        "\n",
        "accuracy_valid = accuracy_score(y_valid, y_valid_pred_binary)\n",
        "auc_valid = roc_auc_score(y_valid, y_valid_pred)\n",
        "\n",
        "print(f'Accuracy (train): {accuracy_train:.4f}')\n",
        "print(f'AUC (train): {auc_train:.4f}')\n",
        "\n",
        "print(f'Accuracy (valid): {accuracy_valid:.4f}')\n",
        "print(f'AUC (valid): {auc_valid:.4f}')"
      ]
    },
    {
      "cell_type": "code",
      "execution_count": null,
      "metadata": {
        "colab": {
          "base_uri": "https://localhost:8080/"
        },
        "outputId": "7ea0d57d-12b1-46f2-deb5-5786dabff9ac",
        "id": "HWgoAkWo2q_i"
      },
      "outputs": [
        {
          "output_type": "stream",
          "name": "stdout",
          "text": [
            "For training set:\n",
            "Precision: 0.6667\n",
            "Recall: 0.0366\n",
            "F1 Score: 0.0694 \n",
            "\n",
            "For validation set:\n",
            "Precision: 0.5312\n",
            "Recall: 0.0431\n",
            "F1 Score: 0.0798\n"
          ]
        }
      ],
      "source": [
        "from sklearn.metrics import precision_score, recall_score, f1_score\n",
        "# Calculate precision, recall, and F1 score\n",
        "precision = precision_score(y_train, y_train_pred_binary, zero_division=1)\n",
        "recall = recall_score(y_train, y_train_pred_binary, zero_division=1)\n",
        "f1 = f1_score(y_train, y_train_pred_binary, zero_division=1)\n",
        "\n",
        "# Print with 4 digits limit\n",
        "print(\"For training set:\")\n",
        "print(\"Precision:\", round(precision, 4))\n",
        "print(\"Recall:\", round(recall, 4))\n",
        "print(\"F1 Score:\", round(f1, 4),\"\\n\")\n",
        "\n",
        "# Calculate precision, recall, and F1 score\n",
        "precision = precision_score(y_valid, y_valid_pred_binary, zero_division=1)\n",
        "recall = recall_score(y_valid, y_valid_pred_binary, zero_division=1)\n",
        "f1 = f1_score(y_valid, y_valid_pred_binary, zero_division=1)\n",
        "\n",
        "# Print with 4 digits limit\n",
        "print(\"For validation set:\")\n",
        "print(\"Precision:\", round(precision, 4))\n",
        "print(\"Recall:\", round(recall, 4))\n",
        "print(\"F1 Score:\", round(f1, 4))"
      ]
    },
    {
      "cell_type": "code",
      "execution_count": null,
      "metadata": {
        "colab": {
          "base_uri": "https://localhost:8080/"
        },
        "outputId": "693e9ec0-cfeb-4721-935e-e0c3a98f0722",
        "id": "NHMv2eSl2q_i"
      },
      "outputs": [
        {
          "output_type": "stream",
          "name": "stdout",
          "text": [
            "92/92 [==============================] - 2s 26ms/step\n"
          ]
        }
      ],
      "source": [
        "y_test_pred = model_GRU.predict(x_test)\n",
        "y_test_pred_binary = (y_test_pred > threshold).astype(int)"
      ]
    },
    {
      "cell_type": "code",
      "execution_count": null,
      "metadata": {
        "colab": {
          "base_uri": "https://localhost:8080/",
          "height": 17
        },
        "outputId": "71b8d479-1662-44a4-a281-e1c095a84428",
        "id": "p-QBupsv2q_i"
      },
      "outputs": [
        {
          "output_type": "display_data",
          "data": {
            "text/plain": [
              "<IPython.core.display.Javascript object>"
            ],
            "application/javascript": [
              "\n",
              "    async function download(id, filename, size) {\n",
              "      if (!google.colab.kernel.accessAllowed) {\n",
              "        return;\n",
              "      }\n",
              "      const div = document.createElement('div');\n",
              "      const label = document.createElement('label');\n",
              "      label.textContent = `Downloading \"${filename}\": `;\n",
              "      div.appendChild(label);\n",
              "      const progress = document.createElement('progress');\n",
              "      progress.max = size;\n",
              "      div.appendChild(progress);\n",
              "      document.body.appendChild(div);\n",
              "\n",
              "      const buffers = [];\n",
              "      let downloaded = 0;\n",
              "\n",
              "      const channel = await google.colab.kernel.comms.open(id);\n",
              "      // Send a message to notify the kernel that we're ready.\n",
              "      channel.send({})\n",
              "\n",
              "      for await (const message of channel.messages) {\n",
              "        // Send a message to notify the kernel that we're ready.\n",
              "        channel.send({})\n",
              "        if (message.buffers) {\n",
              "          for (const buffer of message.buffers) {\n",
              "            buffers.push(buffer);\n",
              "            downloaded += buffer.byteLength;\n",
              "            progress.value = downloaded;\n",
              "          }\n",
              "        }\n",
              "      }\n",
              "      const blob = new Blob(buffers, {type: 'application/binary'});\n",
              "      const a = document.createElement('a');\n",
              "      a.href = window.URL.createObjectURL(blob);\n",
              "      a.download = filename;\n",
              "      div.appendChild(a);\n",
              "      a.click();\n",
              "      div.remove();\n",
              "    }\n",
              "  "
            ]
          },
          "metadata": {}
        },
        {
          "output_type": "display_data",
          "data": {
            "text/plain": [
              "<IPython.core.display.Javascript object>"
            ],
            "application/javascript": [
              "download(\"download_0caa19ae-3eca-4005-8d52-2a7dbca280d0\", \"predictions.csv\", 58748)"
            ]
          },
          "metadata": {}
        }
      ],
      "source": [
        "# Assuming y_test_pred_binary is a numpy array\n",
        "predictions_df = pd.DataFrame(y_test_pred_binary, columns=['readmitted_within_30days'])\n",
        "merged_df = test[['id']].merge(predictions_df, left_index=True, right_index=True)\n",
        "merged_df.to_csv('predictions.csv', index=False)\n",
        "\n",
        "from google.colab import files\n",
        "files.download('predictions.csv')"
      ]
    },
    {
      "cell_type": "markdown",
      "metadata": {
        "id": "TEBLJLz726Hk"
      },
      "source": [
        "# Bidirectional GRU"
      ]
    },
    {
      "cell_type": "code",
      "execution_count": 49,
      "metadata": {
        "colab": {
          "base_uri": "https://localhost:8080/",
          "height": 625
        },
        "outputId": "01a1037e-b70c-476a-d197-71a4361a7724",
        "id": "-HExjI1D26Ht"
      },
      "outputs": [
        {
          "output_type": "stream",
          "name": "stderr",
          "text": [
            "WARNING:tensorflow:Layer gru_16 will not use cuDNN kernels since it doesn't meet the criteria. It will use a generic GPU kernel as fallback when running on GPU.\n",
            "WARNING:tensorflow:Layer gru_16 will not use cuDNN kernels since it doesn't meet the criteria. It will use a generic GPU kernel as fallback when running on GPU.\n",
            "WARNING:tensorflow:Layer gru_16 will not use cuDNN kernels since it doesn't meet the criteria. It will use a generic GPU kernel as fallback when running on GPU.\n",
            "WARNING:tensorflow:Layer gru_17 will not use cuDNN kernels since it doesn't meet the criteria. It will use a generic GPU kernel as fallback when running on GPU.\n",
            "WARNING:tensorflow:Layer gru_17 will not use cuDNN kernels since it doesn't meet the criteria. It will use a generic GPU kernel as fallback when running on GPU.\n",
            "WARNING:tensorflow:Layer gru_17 will not use cuDNN kernels since it doesn't meet the criteria. It will use a generic GPU kernel as fallback when running on GPU.\n"
          ]
        },
        {
          "output_type": "stream",
          "name": "stdout",
          "text": [
            "model compiled\n",
            "Epoch 1/100\n",
            "73/73 [==============================] - 182s 2s/step - loss: 0.4308 - accuracy: 0.8331 - val_loss: 0.5004 - val_accuracy: 0.8470 - lr: 0.0010\n",
            "Epoch 2/100\n",
            "73/73 [==============================] - 166s 2s/step - loss: 0.2723 - accuracy: 0.9236 - val_loss: 0.4547 - val_accuracy: 0.9289 - lr: 0.0010\n",
            "Epoch 3/100\n",
            "25/73 [=========>....................] - ETA: 1:43 - loss: 0.2701 - accuracy: 0.9225"
          ]
        },
        {
          "output_type": "error",
          "ename": "KeyboardInterrupt",
          "evalue": "ignored",
          "traceback": [
            "\u001b[0;31m---------------------------------------------------------------------------\u001b[0m",
            "\u001b[0;31mKeyboardInterrupt\u001b[0m                         Traceback (most recent call last)",
            "\u001b[0;32m<ipython-input-49-fbc1c6475bc4>\u001b[0m in \u001b[0;36m<cell line: 38>\u001b[0;34m()\u001b[0m\n\u001b[1;32m     36\u001b[0m \u001b[0;34m\u001b[0m\u001b[0m\n\u001b[1;32m     37\u001b[0m \u001b[0;31m# Train the model with a smaller batch size\u001b[0m\u001b[0;34m\u001b[0m\u001b[0;34m\u001b[0m\u001b[0m\n\u001b[0;32m---> 38\u001b[0;31m \u001b[0mhistory_GRU\u001b[0m \u001b[0;34m=\u001b[0m \u001b[0mmodel_GRU\u001b[0m\u001b[0;34m.\u001b[0m\u001b[0mfit\u001b[0m\u001b[0;34m(\u001b[0m\u001b[0mx_train\u001b[0m\u001b[0;34m,\u001b[0m \u001b[0my_train\u001b[0m\u001b[0;34m,\u001b[0m \u001b[0mbatch_size\u001b[0m\u001b[0;34m=\u001b[0m\u001b[0;36m128\u001b[0m\u001b[0;34m,\u001b[0m \u001b[0mepochs\u001b[0m\u001b[0;34m=\u001b[0m\u001b[0;36m100\u001b[0m\u001b[0;34m,\u001b[0m \u001b[0mvalidation_data\u001b[0m\u001b[0;34m=\u001b[0m\u001b[0;34m(\u001b[0m\u001b[0mx_valid\u001b[0m\u001b[0;34m,\u001b[0m \u001b[0my_valid\u001b[0m\u001b[0;34m)\u001b[0m\u001b[0;34m,\u001b[0m \u001b[0mcallbacks\u001b[0m\u001b[0;34m=\u001b[0m\u001b[0mcallbacks\u001b[0m\u001b[0;34m)\u001b[0m\u001b[0;34m\u001b[0m\u001b[0;34m\u001b[0m\u001b[0m\n\u001b[0m",
            "\u001b[0;32m/usr/local/lib/python3.10/dist-packages/keras/src/utils/traceback_utils.py\u001b[0m in \u001b[0;36merror_handler\u001b[0;34m(*args, **kwargs)\u001b[0m\n\u001b[1;32m     63\u001b[0m         \u001b[0mfiltered_tb\u001b[0m \u001b[0;34m=\u001b[0m \u001b[0;32mNone\u001b[0m\u001b[0;34m\u001b[0m\u001b[0;34m\u001b[0m\u001b[0m\n\u001b[1;32m     64\u001b[0m         \u001b[0;32mtry\u001b[0m\u001b[0;34m:\u001b[0m\u001b[0;34m\u001b[0m\u001b[0;34m\u001b[0m\u001b[0m\n\u001b[0;32m---> 65\u001b[0;31m             \u001b[0;32mreturn\u001b[0m \u001b[0mfn\u001b[0m\u001b[0;34m(\u001b[0m\u001b[0;34m*\u001b[0m\u001b[0margs\u001b[0m\u001b[0;34m,\u001b[0m \u001b[0;34m**\u001b[0m\u001b[0mkwargs\u001b[0m\u001b[0;34m)\u001b[0m\u001b[0;34m\u001b[0m\u001b[0;34m\u001b[0m\u001b[0m\n\u001b[0m\u001b[1;32m     66\u001b[0m         \u001b[0;32mexcept\u001b[0m \u001b[0mException\u001b[0m \u001b[0;32mas\u001b[0m \u001b[0me\u001b[0m\u001b[0;34m:\u001b[0m\u001b[0;34m\u001b[0m\u001b[0;34m\u001b[0m\u001b[0m\n\u001b[1;32m     67\u001b[0m             \u001b[0mfiltered_tb\u001b[0m \u001b[0;34m=\u001b[0m \u001b[0m_process_traceback_frames\u001b[0m\u001b[0;34m(\u001b[0m\u001b[0me\u001b[0m\u001b[0;34m.\u001b[0m\u001b[0m__traceback__\u001b[0m\u001b[0;34m)\u001b[0m\u001b[0;34m\u001b[0m\u001b[0;34m\u001b[0m\u001b[0m\n",
            "\u001b[0;32m/usr/local/lib/python3.10/dist-packages/keras/src/engine/training.py\u001b[0m in \u001b[0;36mfit\u001b[0;34m(self, x, y, batch_size, epochs, verbose, callbacks, validation_split, validation_data, shuffle, class_weight, sample_weight, initial_epoch, steps_per_epoch, validation_steps, validation_batch_size, validation_freq, max_queue_size, workers, use_multiprocessing)\u001b[0m\n\u001b[1;32m   1781\u001b[0m                         ):\n\u001b[1;32m   1782\u001b[0m                             \u001b[0mcallbacks\u001b[0m\u001b[0;34m.\u001b[0m\u001b[0mon_train_batch_begin\u001b[0m\u001b[0;34m(\u001b[0m\u001b[0mstep\u001b[0m\u001b[0;34m)\u001b[0m\u001b[0;34m\u001b[0m\u001b[0;34m\u001b[0m\u001b[0m\n\u001b[0;32m-> 1783\u001b[0;31m                             \u001b[0mtmp_logs\u001b[0m \u001b[0;34m=\u001b[0m \u001b[0mself\u001b[0m\u001b[0;34m.\u001b[0m\u001b[0mtrain_function\u001b[0m\u001b[0;34m(\u001b[0m\u001b[0miterator\u001b[0m\u001b[0;34m)\u001b[0m\u001b[0;34m\u001b[0m\u001b[0;34m\u001b[0m\u001b[0m\n\u001b[0m\u001b[1;32m   1784\u001b[0m                             \u001b[0;32mif\u001b[0m \u001b[0mdata_handler\u001b[0m\u001b[0;34m.\u001b[0m\u001b[0mshould_sync\u001b[0m\u001b[0;34m:\u001b[0m\u001b[0;34m\u001b[0m\u001b[0;34m\u001b[0m\u001b[0m\n\u001b[1;32m   1785\u001b[0m                                 \u001b[0mcontext\u001b[0m\u001b[0;34m.\u001b[0m\u001b[0masync_wait\u001b[0m\u001b[0;34m(\u001b[0m\u001b[0;34m)\u001b[0m\u001b[0;34m\u001b[0m\u001b[0;34m\u001b[0m\u001b[0m\n",
            "\u001b[0;32m/usr/local/lib/python3.10/dist-packages/tensorflow/python/util/traceback_utils.py\u001b[0m in \u001b[0;36merror_handler\u001b[0;34m(*args, **kwargs)\u001b[0m\n\u001b[1;32m    148\u001b[0m     \u001b[0mfiltered_tb\u001b[0m \u001b[0;34m=\u001b[0m \u001b[0;32mNone\u001b[0m\u001b[0;34m\u001b[0m\u001b[0;34m\u001b[0m\u001b[0m\n\u001b[1;32m    149\u001b[0m     \u001b[0;32mtry\u001b[0m\u001b[0;34m:\u001b[0m\u001b[0;34m\u001b[0m\u001b[0;34m\u001b[0m\u001b[0m\n\u001b[0;32m--> 150\u001b[0;31m       \u001b[0;32mreturn\u001b[0m \u001b[0mfn\u001b[0m\u001b[0;34m(\u001b[0m\u001b[0;34m*\u001b[0m\u001b[0margs\u001b[0m\u001b[0;34m,\u001b[0m \u001b[0;34m**\u001b[0m\u001b[0mkwargs\u001b[0m\u001b[0;34m)\u001b[0m\u001b[0;34m\u001b[0m\u001b[0;34m\u001b[0m\u001b[0m\n\u001b[0m\u001b[1;32m    151\u001b[0m     \u001b[0;32mexcept\u001b[0m \u001b[0mException\u001b[0m \u001b[0;32mas\u001b[0m \u001b[0me\u001b[0m\u001b[0;34m:\u001b[0m\u001b[0;34m\u001b[0m\u001b[0;34m\u001b[0m\u001b[0m\n\u001b[1;32m    152\u001b[0m       \u001b[0mfiltered_tb\u001b[0m \u001b[0;34m=\u001b[0m \u001b[0m_process_traceback_frames\u001b[0m\u001b[0;34m(\u001b[0m\u001b[0me\u001b[0m\u001b[0;34m.\u001b[0m\u001b[0m__traceback__\u001b[0m\u001b[0;34m)\u001b[0m\u001b[0;34m\u001b[0m\u001b[0;34m\u001b[0m\u001b[0m\n",
            "\u001b[0;32m/usr/local/lib/python3.10/dist-packages/tensorflow/python/eager/polymorphic_function/polymorphic_function.py\u001b[0m in \u001b[0;36m__call__\u001b[0;34m(self, *args, **kwds)\u001b[0m\n\u001b[1;32m    829\u001b[0m \u001b[0;34m\u001b[0m\u001b[0m\n\u001b[1;32m    830\u001b[0m       \u001b[0;32mwith\u001b[0m \u001b[0mOptionalXlaContext\u001b[0m\u001b[0;34m(\u001b[0m\u001b[0mself\u001b[0m\u001b[0;34m.\u001b[0m\u001b[0m_jit_compile\u001b[0m\u001b[0;34m)\u001b[0m\u001b[0;34m:\u001b[0m\u001b[0;34m\u001b[0m\u001b[0;34m\u001b[0m\u001b[0m\n\u001b[0;32m--> 831\u001b[0;31m         \u001b[0mresult\u001b[0m \u001b[0;34m=\u001b[0m \u001b[0mself\u001b[0m\u001b[0;34m.\u001b[0m\u001b[0m_call\u001b[0m\u001b[0;34m(\u001b[0m\u001b[0;34m*\u001b[0m\u001b[0margs\u001b[0m\u001b[0;34m,\u001b[0m \u001b[0;34m**\u001b[0m\u001b[0mkwds\u001b[0m\u001b[0;34m)\u001b[0m\u001b[0;34m\u001b[0m\u001b[0;34m\u001b[0m\u001b[0m\n\u001b[0m\u001b[1;32m    832\u001b[0m \u001b[0;34m\u001b[0m\u001b[0m\n\u001b[1;32m    833\u001b[0m       \u001b[0mnew_tracing_count\u001b[0m \u001b[0;34m=\u001b[0m \u001b[0mself\u001b[0m\u001b[0;34m.\u001b[0m\u001b[0mexperimental_get_tracing_count\u001b[0m\u001b[0;34m(\u001b[0m\u001b[0;34m)\u001b[0m\u001b[0;34m\u001b[0m\u001b[0;34m\u001b[0m\u001b[0m\n",
            "\u001b[0;32m/usr/local/lib/python3.10/dist-packages/tensorflow/python/eager/polymorphic_function/polymorphic_function.py\u001b[0m in \u001b[0;36m_call\u001b[0;34m(self, *args, **kwds)\u001b[0m\n\u001b[1;32m    865\u001b[0m       \u001b[0;31m# In this case we have created variables on the first call, so we run the\u001b[0m\u001b[0;34m\u001b[0m\u001b[0;34m\u001b[0m\u001b[0m\n\u001b[1;32m    866\u001b[0m       \u001b[0;31m# defunned version which is guaranteed to never create variables.\u001b[0m\u001b[0;34m\u001b[0m\u001b[0;34m\u001b[0m\u001b[0m\n\u001b[0;32m--> 867\u001b[0;31m       return tracing_compilation.call_function(\n\u001b[0m\u001b[1;32m    868\u001b[0m           \u001b[0margs\u001b[0m\u001b[0;34m,\u001b[0m \u001b[0mkwds\u001b[0m\u001b[0;34m,\u001b[0m \u001b[0mself\u001b[0m\u001b[0;34m.\u001b[0m\u001b[0m_no_variable_creation_config\u001b[0m\u001b[0;34m\u001b[0m\u001b[0;34m\u001b[0m\u001b[0m\n\u001b[1;32m    869\u001b[0m       )\n",
            "\u001b[0;32m/usr/local/lib/python3.10/dist-packages/tensorflow/python/eager/polymorphic_function/tracing_compilation.py\u001b[0m in \u001b[0;36mcall_function\u001b[0;34m(args, kwargs, tracing_options)\u001b[0m\n\u001b[1;32m    137\u001b[0m   \u001b[0mbound_args\u001b[0m \u001b[0;34m=\u001b[0m \u001b[0mfunction\u001b[0m\u001b[0;34m.\u001b[0m\u001b[0mfunction_type\u001b[0m\u001b[0;34m.\u001b[0m\u001b[0mbind\u001b[0m\u001b[0;34m(\u001b[0m\u001b[0;34m*\u001b[0m\u001b[0margs\u001b[0m\u001b[0;34m,\u001b[0m \u001b[0;34m**\u001b[0m\u001b[0mkwargs\u001b[0m\u001b[0;34m)\u001b[0m\u001b[0;34m\u001b[0m\u001b[0;34m\u001b[0m\u001b[0m\n\u001b[1;32m    138\u001b[0m   \u001b[0mflat_inputs\u001b[0m \u001b[0;34m=\u001b[0m \u001b[0mfunction\u001b[0m\u001b[0;34m.\u001b[0m\u001b[0mfunction_type\u001b[0m\u001b[0;34m.\u001b[0m\u001b[0munpack_inputs\u001b[0m\u001b[0;34m(\u001b[0m\u001b[0mbound_args\u001b[0m\u001b[0;34m)\u001b[0m\u001b[0;34m\u001b[0m\u001b[0;34m\u001b[0m\u001b[0m\n\u001b[0;32m--> 139\u001b[0;31m   return function._call_flat(  # pylint: disable=protected-access\n\u001b[0m\u001b[1;32m    140\u001b[0m       \u001b[0mflat_inputs\u001b[0m\u001b[0;34m,\u001b[0m \u001b[0mcaptured_inputs\u001b[0m\u001b[0;34m=\u001b[0m\u001b[0mfunction\u001b[0m\u001b[0;34m.\u001b[0m\u001b[0mcaptured_inputs\u001b[0m\u001b[0;34m\u001b[0m\u001b[0;34m\u001b[0m\u001b[0m\n\u001b[1;32m    141\u001b[0m   )\n",
            "\u001b[0;32m/usr/local/lib/python3.10/dist-packages/tensorflow/python/eager/polymorphic_function/concrete_function.py\u001b[0m in \u001b[0;36m_call_flat\u001b[0;34m(self, tensor_inputs, captured_inputs)\u001b[0m\n\u001b[1;32m   1262\u001b[0m         and executing_eagerly):\n\u001b[1;32m   1263\u001b[0m       \u001b[0;31m# No tape is watching; skip to running the function.\u001b[0m\u001b[0;34m\u001b[0m\u001b[0;34m\u001b[0m\u001b[0m\n\u001b[0;32m-> 1264\u001b[0;31m       \u001b[0;32mreturn\u001b[0m \u001b[0mself\u001b[0m\u001b[0;34m.\u001b[0m\u001b[0m_inference_function\u001b[0m\u001b[0;34m.\u001b[0m\u001b[0mflat_call\u001b[0m\u001b[0;34m(\u001b[0m\u001b[0margs\u001b[0m\u001b[0;34m)\u001b[0m\u001b[0;34m\u001b[0m\u001b[0;34m\u001b[0m\u001b[0m\n\u001b[0m\u001b[1;32m   1265\u001b[0m     forward_backward = self._select_forward_and_backward_functions(\n\u001b[1;32m   1266\u001b[0m         \u001b[0margs\u001b[0m\u001b[0;34m,\u001b[0m\u001b[0;34m\u001b[0m\u001b[0;34m\u001b[0m\u001b[0m\n",
            "\u001b[0;32m/usr/local/lib/python3.10/dist-packages/tensorflow/python/eager/polymorphic_function/atomic_function.py\u001b[0m in \u001b[0;36mflat_call\u001b[0;34m(self, args)\u001b[0m\n\u001b[1;32m    215\u001b[0m   \u001b[0;32mdef\u001b[0m \u001b[0mflat_call\u001b[0m\u001b[0;34m(\u001b[0m\u001b[0mself\u001b[0m\u001b[0;34m,\u001b[0m \u001b[0margs\u001b[0m\u001b[0;34m:\u001b[0m \u001b[0mSequence\u001b[0m\u001b[0;34m[\u001b[0m\u001b[0mcore\u001b[0m\u001b[0;34m.\u001b[0m\u001b[0mTensor\u001b[0m\u001b[0;34m]\u001b[0m\u001b[0;34m)\u001b[0m \u001b[0;34m->\u001b[0m \u001b[0mAny\u001b[0m\u001b[0;34m:\u001b[0m\u001b[0;34m\u001b[0m\u001b[0;34m\u001b[0m\u001b[0m\n\u001b[1;32m    216\u001b[0m     \u001b[0;34m\"\"\"Calls with tensor inputs and returns the structured output.\"\"\"\u001b[0m\u001b[0;34m\u001b[0m\u001b[0;34m\u001b[0m\u001b[0m\n\u001b[0;32m--> 217\u001b[0;31m     \u001b[0mflat_outputs\u001b[0m \u001b[0;34m=\u001b[0m \u001b[0mself\u001b[0m\u001b[0;34m(\u001b[0m\u001b[0;34m*\u001b[0m\u001b[0margs\u001b[0m\u001b[0;34m)\u001b[0m\u001b[0;34m\u001b[0m\u001b[0;34m\u001b[0m\u001b[0m\n\u001b[0m\u001b[1;32m    218\u001b[0m     \u001b[0;32mreturn\u001b[0m \u001b[0mself\u001b[0m\u001b[0;34m.\u001b[0m\u001b[0mfunction_type\u001b[0m\u001b[0;34m.\u001b[0m\u001b[0mpack_output\u001b[0m\u001b[0;34m(\u001b[0m\u001b[0mflat_outputs\u001b[0m\u001b[0;34m)\u001b[0m\u001b[0;34m\u001b[0m\u001b[0;34m\u001b[0m\u001b[0m\n\u001b[1;32m    219\u001b[0m \u001b[0;34m\u001b[0m\u001b[0m\n",
            "\u001b[0;32m/usr/local/lib/python3.10/dist-packages/tensorflow/python/eager/polymorphic_function/atomic_function.py\u001b[0m in \u001b[0;36m__call__\u001b[0;34m(self, *args)\u001b[0m\n\u001b[1;32m    250\u001b[0m         \u001b[0;32mwith\u001b[0m \u001b[0mrecord\u001b[0m\u001b[0;34m.\u001b[0m\u001b[0mstop_recording\u001b[0m\u001b[0;34m(\u001b[0m\u001b[0;34m)\u001b[0m\u001b[0;34m:\u001b[0m\u001b[0;34m\u001b[0m\u001b[0;34m\u001b[0m\u001b[0m\n\u001b[1;32m    251\u001b[0m           \u001b[0;32mif\u001b[0m \u001b[0mself\u001b[0m\u001b[0;34m.\u001b[0m\u001b[0m_bound_context\u001b[0m\u001b[0;34m.\u001b[0m\u001b[0mexecuting_eagerly\u001b[0m\u001b[0;34m(\u001b[0m\u001b[0;34m)\u001b[0m\u001b[0;34m:\u001b[0m\u001b[0;34m\u001b[0m\u001b[0;34m\u001b[0m\u001b[0m\n\u001b[0;32m--> 252\u001b[0;31m             outputs = self._bound_context.call_function(\n\u001b[0m\u001b[1;32m    253\u001b[0m                 \u001b[0mself\u001b[0m\u001b[0;34m.\u001b[0m\u001b[0mname\u001b[0m\u001b[0;34m,\u001b[0m\u001b[0;34m\u001b[0m\u001b[0;34m\u001b[0m\u001b[0m\n\u001b[1;32m    254\u001b[0m                 \u001b[0mlist\u001b[0m\u001b[0;34m(\u001b[0m\u001b[0margs\u001b[0m\u001b[0;34m)\u001b[0m\u001b[0;34m,\u001b[0m\u001b[0;34m\u001b[0m\u001b[0;34m\u001b[0m\u001b[0m\n",
            "\u001b[0;32m/usr/local/lib/python3.10/dist-packages/tensorflow/python/eager/context.py\u001b[0m in \u001b[0;36mcall_function\u001b[0;34m(self, name, tensor_inputs, num_outputs)\u001b[0m\n\u001b[1;32m   1477\u001b[0m     \u001b[0mcancellation_context\u001b[0m \u001b[0;34m=\u001b[0m \u001b[0mcancellation\u001b[0m\u001b[0;34m.\u001b[0m\u001b[0mcontext\u001b[0m\u001b[0;34m(\u001b[0m\u001b[0;34m)\u001b[0m\u001b[0;34m\u001b[0m\u001b[0;34m\u001b[0m\u001b[0m\n\u001b[1;32m   1478\u001b[0m     \u001b[0;32mif\u001b[0m \u001b[0mcancellation_context\u001b[0m \u001b[0;32mis\u001b[0m \u001b[0;32mNone\u001b[0m\u001b[0;34m:\u001b[0m\u001b[0;34m\u001b[0m\u001b[0;34m\u001b[0m\u001b[0m\n\u001b[0;32m-> 1479\u001b[0;31m       outputs = execute.execute(\n\u001b[0m\u001b[1;32m   1480\u001b[0m           \u001b[0mname\u001b[0m\u001b[0;34m.\u001b[0m\u001b[0mdecode\u001b[0m\u001b[0;34m(\u001b[0m\u001b[0;34m\"utf-8\"\u001b[0m\u001b[0;34m)\u001b[0m\u001b[0;34m,\u001b[0m\u001b[0;34m\u001b[0m\u001b[0;34m\u001b[0m\u001b[0m\n\u001b[1;32m   1481\u001b[0m           \u001b[0mnum_outputs\u001b[0m\u001b[0;34m=\u001b[0m\u001b[0mnum_outputs\u001b[0m\u001b[0;34m,\u001b[0m\u001b[0;34m\u001b[0m\u001b[0;34m\u001b[0m\u001b[0m\n",
            "\u001b[0;32m/usr/local/lib/python3.10/dist-packages/tensorflow/python/eager/execute.py\u001b[0m in \u001b[0;36mquick_execute\u001b[0;34m(op_name, num_outputs, inputs, attrs, ctx, name)\u001b[0m\n\u001b[1;32m     58\u001b[0m         \u001b[0;32mfor\u001b[0m \u001b[0mt\u001b[0m \u001b[0;32min\u001b[0m \u001b[0minputs\u001b[0m\u001b[0;34m\u001b[0m\u001b[0;34m\u001b[0m\u001b[0m\n\u001b[1;32m     59\u001b[0m     ]\n\u001b[0;32m---> 60\u001b[0;31m     tensors = pywrap_tfe.TFE_Py_Execute(ctx._handle, device_name, op_name,\n\u001b[0m\u001b[1;32m     61\u001b[0m                                         inputs, attrs, num_outputs)\n\u001b[1;32m     62\u001b[0m   \u001b[0;32mexcept\u001b[0m \u001b[0mcore\u001b[0m\u001b[0;34m.\u001b[0m\u001b[0m_NotOkStatusException\u001b[0m \u001b[0;32mas\u001b[0m \u001b[0me\u001b[0m\u001b[0;34m:\u001b[0m\u001b[0;34m\u001b[0m\u001b[0;34m\u001b[0m\u001b[0m\n",
            "\u001b[0;31mKeyboardInterrupt\u001b[0m: "
          ]
        }
      ],
      "source": [
        "from keras.models import Sequential\n",
        "from keras.layers import GRU, Dropout, Dense, Bidirectional\n",
        "import keras\n",
        "from keras.optimizers import Adam\n",
        "from keras.layers import BatchNormalization\n",
        "from keras.callbacks import EarlyStopping, ReduceLROnPlateau\n",
        "\n",
        "# Create a Sequential model\n",
        "model_GRU = Sequential()\n",
        "\n",
        "# Add a Bidirectional GRU layer with return_sequences=True and dropout\n",
        "model_GRU.add(Bidirectional(GRU(50, return_sequences=True, input_shape=(x_train.shape[1], 1), dropout=0.2, recurrent_dropout=0.2)))\n",
        "\n",
        "# Add Batch Normalization\n",
        "model_GRU.add(BatchNormalization())\n",
        "\n",
        "# Add another Bidirectional GRU layer with return_sequences=False and activation function set to \"relu\"\n",
        "model_GRU.add(Bidirectional(GRU(64, return_sequences=False, activation='relu', dropout=0.2, recurrent_dropout=0.2)))\n",
        "\n",
        "# Add Batch Normalization\n",
        "model_GRU.add(BatchNormalization())\n",
        "\n",
        "# Add a Dense output layer with sigmoid activation function\n",
        "model_GRU.add(Dense(1, activation=\"sigmoid\"))\n",
        "\n",
        "# Compile the model with a lower learning rate and use ReduceLROnPlateau for learning rate scheduling\n",
        "model_GRU.compile(loss='binary_crossentropy', optimizer=Adam(learning_rate=0.001), metrics=[\"accuracy\"])\n",
        "\n",
        "print('model compiled')\n",
        "\n",
        "# Define early stopping and learning rate reduction callbacks\n",
        "callbacks = [EarlyStopping(patience=10, restore_best_weights=True), ReduceLROnPlateau(factor=0.1, patience=5)]\n",
        "\n",
        "# Print model summary\n",
        "#print(model_GRU.summary())\n",
        "\n",
        "# Train the model with a smaller batch size\n",
        "history_GRU = model_GRU.fit(x_train, y_train, batch_size=128, epochs=100, validation_data=(x_valid, y_valid), callbacks=callbacks)"
      ]
    },
    {
      "cell_type": "code",
      "execution_count": null,
      "metadata": {
        "id": "fhJjUwBj26Ht"
      },
      "outputs": [],
      "source": [
        "import matplotlib.pyplot as plt\n",
        "\n",
        "# Plot the training and validation accuracy over epochs\n",
        "plt.plot(history_GRU.history['accuracy'], label='Training Accuracy')\n",
        "plt.plot(history_GRU.history['val_accuracy'], label='Validation Accuracy')\n",
        "plt.xlabel('Epoch')\n",
        "plt.ylabel('Accuracy')\n",
        "plt.ylim([0, 1])\n",
        "plt.legend(loc='lower right')\n",
        "plt.show()\n",
        "\n",
        "# Plot the training and validation loss over epochs\n",
        "plt.plot(history_GRU.history['loss'], label='Training Loss')\n",
        "plt.plot(history_GRU.history['val_loss'], label='Validation Loss')\n",
        "plt.xlabel('Epoch')\n",
        "plt.ylabel('Loss')\n",
        "plt.legend(loc='upper right')\n",
        "plt.show()"
      ]
    },
    {
      "cell_type": "markdown",
      "metadata": {
        "id": "jguoxY3A26Ht"
      },
      "source": [
        "##Evaluation"
      ]
    },
    {
      "cell_type": "code",
      "execution_count": null,
      "metadata": {
        "id": "2Bil4Rs926Hu"
      },
      "outputs": [],
      "source": [
        "from sklearn.metrics import roc_auc_score\n",
        "\n",
        "threshold = 0.5\n",
        "\n",
        "y_train_pred = model_GRU.predict(x_train)\n",
        "# Convert probabilities to binary predictions\n",
        "y_train_pred_binary = (y_train_pred > threshold).astype(int)\n",
        "y_valid_pred = model_GRU.predict(x_valid)\n",
        "y_valid_pred_binary = (y_valid_pred > threshold).astype(int)\n",
        "\n",
        "from sklearn.metrics import accuracy_score, confusion_matrix, classification_report, roc_curve, auc, roc_auc_score\n",
        "accuracy_train = accuracy_score(y_train, y_train_pred_binary)\n",
        "auc_train = roc_auc_score(y_train, y_train_pred)\n",
        "\n",
        "accuracy_valid = accuracy_score(y_valid, y_valid_pred_binary)\n",
        "auc_valid = roc_auc_score(y_valid, y_valid_pred)\n",
        "\n",
        "print(f'Accuracy (train): {accuracy_train:.4f}')\n",
        "print(f'AUC (train): {auc_train:.4f}')\n",
        "\n",
        "print(f'Accuracy (valid): {accuracy_valid:.4f}')\n",
        "print(f'AUC (valid): {auc_valid:.4f}')"
      ]
    },
    {
      "cell_type": "code",
      "execution_count": null,
      "metadata": {
        "id": "1NJU36yi26Hu"
      },
      "outputs": [],
      "source": [
        "from sklearn.metrics import precision_score, recall_score, f1_score\n",
        "# Calculate precision, recall, and F1 score\n",
        "precision = precision_score(y_train, y_train_pred_binary, zero_division=1)\n",
        "recall = recall_score(y_train, y_train_pred_binary, zero_division=1)\n",
        "f1 = f1_score(y_train, y_train_pred_binary, zero_division=1)\n",
        "\n",
        "# Print with 4 digits limit\n",
        "print(\"For training set:\")\n",
        "print(\"Precision:\", round(precision, 4))\n",
        "print(\"Recall:\", round(recall, 4))\n",
        "print(\"F1 Score:\", round(f1, 4),\"\\n\")\n",
        "\n",
        "# Calculate precision, recall, and F1 score\n",
        "precision = precision_score(y_valid, y_valid_pred_binary, zero_division=1)\n",
        "recall = recall_score(y_valid, y_valid_pred_binary, zero_division=1)\n",
        "f1 = f1_score(y_valid, y_valid_pred_binary, zero_division=1)\n",
        "\n",
        "# Print with 4 digits limit\n",
        "print(\"For validation set:\")\n",
        "print(\"Precision:\", round(precision, 4))\n",
        "print(\"Recall:\", round(recall, 4))\n",
        "print(\"F1 Score:\", round(f1, 4))"
      ]
    },
    {
      "cell_type": "code",
      "execution_count": null,
      "metadata": {
        "id": "DbOMWMKW26Hu"
      },
      "outputs": [],
      "source": [
        "y_test_pred = model_GRU.predict(x_test)\n",
        "y_test_pred_binary = (y_test_pred > threshold).astype(int)"
      ]
    },
    {
      "cell_type": "code",
      "execution_count": null,
      "metadata": {
        "id": "jPsv2sRU26Hu"
      },
      "outputs": [],
      "source": [
        "# Assuming y_test_pred_binary is a numpy array\n",
        "predictions_df = pd.DataFrame(y_test_pred_binary, columns=['readmitted_within_30days'])\n",
        "merged_df = test[['id']].merge(predictions_df, left_index=True, right_index=True)\n",
        "merged_df.to_csv('predictions.csv', index=False)\n",
        "\n",
        "from google.colab import files\n",
        "files.download('predictions.csv')"
      ]
    }
  ],
  "metadata": {
    "accelerator": "GPU",
    "colab": {
      "provenance": [],
      "toc_visible": true,
      "include_colab_link": true
    },
    "kernelspec": {
      "display_name": "Python 3",
      "name": "python3"
    },
    "language_info": {
      "codemirror_mode": {
        "name": "ipython",
        "version": 3
      },
      "file_extension": ".py",
      "mimetype": "text/x-python",
      "name": "python",
      "nbconvert_exporter": "python",
      "pygments_lexer": "ipython3",
      "version": "3.7.0"
    }
  },
  "nbformat": 4,
  "nbformat_minor": 0
}
