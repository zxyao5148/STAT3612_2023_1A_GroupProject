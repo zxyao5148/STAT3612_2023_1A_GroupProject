{
  "cells": [
    {
      "cell_type": "markdown",
      "metadata": {
        "id": "view-in-github",
        "colab_type": "text"
      },
      "source": [
        "<a href=\"https://colab.research.google.com/github/zxyao5148/STAT3612_2023_1A_GroupProject/blob/main/RNN_Transformer/Bi_LSTM_latest_adj_imbalance.ipynb\" target=\"_parent\"><img src=\"https://colab.research.google.com/assets/colab-badge.svg\" alt=\"Open In Colab\"/></a>"
      ]
    },
    {
      "cell_type": "markdown",
      "metadata": {
        "id": "fFipp7tAAVxh"
      },
      "source": [
        "**Description:** This notebook demonstrates how to do timeseries classification using RNN models (Simple RNN, LSTM, and GRU).\n",
        "\n",
        "Reference: https://www.kaggle.com/code/thebrownviking20/intro-to-recurrent-neural-networks-lstm-gru/notebook"
      ]
    },
    {
      "cell_type": "markdown",
      "metadata": {
        "id": "ll7UTtsyAVxj"
      },
      "source": [
        "## Load the dataset"
      ]
    },
    {
      "cell_type": "code",
      "execution_count": null,
      "metadata": {
        "id": "U-qy06BXAVxk",
        "colab": {
          "base_uri": "https://localhost:8080/"
        },
        "outputId": "32e086b7-f138-4256-9b27-6e81d1fab20f"
      },
      "outputs": [
        {
          "output_type": "stream",
          "name": "stdout",
          "text": [
            "--2023-11-17 19:20:42--  https://raw.githubusercontent.com/zxyao5148/STAT3612_2023_1A_GroupProject/main/code_base/adjust_imbl.py\n",
            "Resolving raw.githubusercontent.com (raw.githubusercontent.com)... 185.199.108.133, 185.199.109.133, 185.199.110.133, ...\n",
            "Connecting to raw.githubusercontent.com (raw.githubusercontent.com)|185.199.108.133|:443... connected.\n",
            "HTTP request sent, awaiting response... 200 OK\n",
            "Length: 927 [text/plain]\n",
            "Saving to: ‘adjust_imbl.py’\n",
            "\n",
            "\radjust_imbl.py        0%[                    ]       0  --.-KB/s               \radjust_imbl.py      100%[===================>]     927  --.-KB/s    in 0s      \n",
            "\n",
            "2023-11-17 19:20:42 (73.9 MB/s) - ‘adjust_imbl.py’ saved [927/927]\n",
            "\n",
            "Original dataset shape Counter({0: 9564, 1: 2032})\n",
            "Resampled dataset shape Counter({0: 2032, 1: 2032})\n"
          ]
        }
      ],
      "source": [
        "import pandas as pd\n",
        "import requests\n",
        "from io import StringIO\n",
        "import numpy as np\n",
        "from sklearn.model_selection import train_test_split\n",
        "\n",
        "# Raw URLs for the CSV files\n",
        "train_url = \"https://raw.githubusercontent.com/zxyao5148/STAT3612_2023_1A_GroupProject/main/data_processing/train/train_valid_latest.csv\"\n",
        "test_url = \"https://raw.githubusercontent.com/zxyao5148/STAT3612_2023_1A_GroupProject/main/data_processing/test/test_latest.csv\"\n",
        "\n",
        "# Download the CSV files\n",
        "train_csv = requests.get(train_url).text\n",
        "test_csv = requests.get(test_url).text\n",
        "\n",
        "# Read the CSV files into pandas DataFrames\n",
        "train_valid = pd.read_csv(StringIO(train_csv))\n",
        "test = pd.read_csv(StringIO(test_csv))\n",
        "\n",
        "train_valid['deathtime'] = np.where(train_valid['deathtime'].notnull(), 1, 0)\n",
        "test['deathtime'] = np.where(test['deathtime'].notnull(), 1, 0)\n",
        "\n",
        "x_train_valid = train_valid[['deathtime']].join(train_valid.iloc[:, 9:])\n",
        "y_train_valid = train_valid.iloc[:, 8]\n",
        "\n",
        "!wget https://raw.githubusercontent.com/zxyao5148/STAT3612_2023_1A_GroupProject/main/code_base/adjust_imbl.py\n",
        "from adjust_imbl import adjust_imbl\n",
        "x_train_valid, y_train_valid = adjust_imbl(x_train_valid, y_train_valid)\n",
        "\n",
        "# with 80% of the data for training and 20% for validation\n",
        "x_train, x_valid, y_train, y_valid = train_test_split(x_train_valid, y_train_valid, test_size=0.2, random_state=3612)\n",
        "\n",
        "x_test = test[['deathtime']].join(test.iloc[:,8:])"
      ]
    },
    {
      "cell_type": "code",
      "execution_count": null,
      "metadata": {
        "id": "ElXnpwlhE0i8"
      },
      "outputs": [],
      "source": [
        "x_train = x_train.values.reshape((x_train.shape[0], x_train.shape[1], 1))\n",
        "x_valid = x_valid.values.reshape((x_valid.shape[0], x_valid.shape[1], 1))\n",
        "x_test = x_test.values.reshape((x_test.shape[0], x_test.shape[1], 1))\n",
        "\n",
        "# Reset the index of the y_train DataFrame\n",
        "y_train = y_train.reset_index(drop=True)\n",
        "\n",
        "# Shuffle the indices\n",
        "idx = np.random.permutation(len(x_train))\n",
        "\n",
        "# Reassign the values using the shuffled indices\n",
        "x_train = x_train[idx]\n",
        "y_train = y_train.iloc[idx]"
      ]
    },
    {
      "cell_type": "markdown",
      "metadata": {
        "id": "teAicBzgAVxl"
      },
      "source": [
        "## Build the model\n",
        "\n",
        "The model processes a tensor of shape `(batch size, sequence length, features)`,\n",
        "where `sequence length` is the number of time steps and `features` is each input\n",
        "timeseries.\n"
      ]
    },
    {
      "cell_type": "code",
      "execution_count": null,
      "metadata": {
        "id": "My1EkBMVAVxm"
      },
      "outputs": [],
      "source": [
        "from keras.layers import Dense, Activation, Dropout\n",
        "from keras.layers import LSTM, GRU, SimpleRNN\n",
        "from keras.models import Sequential\n",
        "import keras"
      ]
    },
    {
      "cell_type": "markdown",
      "source": [
        "#  Bidirectional LSTM"
      ],
      "metadata": {
        "id": "9MsiVoA-zIf5"
      }
    },
    {
      "cell_type": "code",
      "source": [
        "from keras.models import Sequential\n",
        "from keras.layers import LSTM, Dropout, Dense, Bidirectional\n",
        "import keras\n",
        "from keras.optimizers import Adam\n",
        "from keras.layers import BatchNormalization\n",
        "from keras.regularizers import l2\n",
        "from keras.callbacks import EarlyStopping, ReduceLROnPlateau\n",
        "\n",
        "model = Sequential()\n",
        "# Add a Bidirectional LSTM layer with return_sequences=True and L2 regularization\n",
        "model.add(Bidirectional(LSTM(64, return_sequences=True, input_shape=(x_train.shape[1], 1), kernel_regularizer=l2(0.01))))\n",
        "# Add Batch Normalization\n",
        "model.add(BatchNormalization())\n",
        "model.add(Dropout(0.3))\n",
        "# Add another Bidirectional LSTM layer with return_sequences=False and activation function set to \"tanh\"\n",
        "model.add(Bidirectional(LSTM(128, return_sequences=False, activation=\"tanh\", kernel_regularizer=l2(0.01))))\n",
        "# Add Batch Normalization\n",
        "model.add(BatchNormalization())\n",
        "model.add(Dropout(0.3))\n",
        "model.add(Dense(1, activation=\"sigmoid\"))\n",
        "\n",
        "# Compile the model with a lower learning rate and use ReduceLROnPlateau for learning rate scheduling\n",
        "model.compile(loss='binary_crossentropy', optimizer=Adam(learning_rate=0.001), metrics=[\"accuracy\"])\n",
        "\n",
        "print('model compiled')\n",
        "\n",
        "# Define early stopping and learning rate reduction callbacks\n",
        "callbacks = [EarlyStopping(patience=10, restore_best_weights=True), ReduceLROnPlateau(factor=0.1, patience=5)]\n",
        "\n",
        "# Print model summary\n",
        "#print(model.summary())\n",
        "\n",
        "# Train the model with a smaller batch size\n",
        "history_LSTM = model.fit(x_train, y_train, batch_size=128, epochs=100, validation_data=(x_valid, y_valid), callbacks=callbacks)"
      ],
      "metadata": {
        "colab": {
          "base_uri": "https://localhost:8080/"
        },
        "id": "NNvQqs6LzVl4",
        "outputId": "721c87da-ea71-4df3-b4c2-7bef55913e5b"
      },
      "execution_count": null,
      "outputs": [
        {
          "output_type": "stream",
          "name": "stdout",
          "text": [
            "model compiled\n",
            "Epoch 1/100\n",
            "26/26 [==============================] - 27s 96ms/step - loss: 3.9698 - accuracy: 0.7410 - val_loss: 3.2785 - val_accuracy: 0.4957 - lr: 0.0010\n",
            "Epoch 2/100\n",
            "26/26 [==============================] - 1s 40ms/step - loss: 2.5243 - accuracy: 0.7835 - val_loss: 2.2710 - val_accuracy: 0.4957 - lr: 0.0010\n",
            "Epoch 3/100\n",
            "26/26 [==============================] - 1s 39ms/step - loss: 1.7136 - accuracy: 0.7828 - val_loss: 1.7058 - val_accuracy: 0.4957 - lr: 0.0010\n",
            "Epoch 4/100\n",
            "26/26 [==============================] - 1s 40ms/step - loss: 1.2578 - accuracy: 0.7868 - val_loss: 1.4042 - val_accuracy: 0.4957 - lr: 0.0010\n",
            "Epoch 5/100\n",
            "26/26 [==============================] - 1s 39ms/step - loss: 0.9972 - accuracy: 0.7850 - val_loss: 1.2272 - val_accuracy: 0.4957 - lr: 0.0010\n",
            "Epoch 6/100\n",
            "26/26 [==============================] - 1s 39ms/step - loss: 0.8437 - accuracy: 0.7921 - val_loss: 1.1040 - val_accuracy: 0.4957 - lr: 0.0010\n",
            "Epoch 7/100\n",
            "26/26 [==============================] - 1s 43ms/step - loss: 0.7410 - accuracy: 0.7841 - val_loss: 1.0219 - val_accuracy: 0.4957 - lr: 0.0010\n",
            "Epoch 8/100\n",
            "26/26 [==============================] - 1s 43ms/step - loss: 0.6624 - accuracy: 0.7930 - val_loss: 0.9306 - val_accuracy: 0.4957 - lr: 0.0010\n",
            "Epoch 9/100\n",
            "26/26 [==============================] - 1s 42ms/step - loss: 0.6208 - accuracy: 0.7967 - val_loss: 0.9136 - val_accuracy: 0.4957 - lr: 0.0010\n",
            "Epoch 10/100\n",
            "26/26 [==============================] - 1s 41ms/step - loss: 0.5777 - accuracy: 0.7948 - val_loss: 0.8711 - val_accuracy: 0.4957 - lr: 0.0010\n",
            "Epoch 11/100\n",
            "26/26 [==============================] - 1s 40ms/step - loss: 0.5584 - accuracy: 0.7951 - val_loss: 0.8193 - val_accuracy: 0.4957 - lr: 0.0010\n",
            "Epoch 12/100\n",
            "26/26 [==============================] - 1s 40ms/step - loss: 0.5246 - accuracy: 0.8022 - val_loss: 0.7810 - val_accuracy: 0.4957 - lr: 0.0010\n",
            "Epoch 13/100\n",
            "26/26 [==============================] - 1s 40ms/step - loss: 0.5125 - accuracy: 0.8044 - val_loss: 0.7735 - val_accuracy: 0.4969 - lr: 0.0010\n",
            "Epoch 14/100\n",
            "26/26 [==============================] - 1s 40ms/step - loss: 0.4998 - accuracy: 0.8028 - val_loss: 0.7202 - val_accuracy: 0.4945 - lr: 0.0010\n",
            "Epoch 15/100\n",
            "26/26 [==============================] - 1s 40ms/step - loss: 0.4903 - accuracy: 0.8016 - val_loss: 0.6948 - val_accuracy: 0.4957 - lr: 0.0010\n",
            "Epoch 16/100\n",
            "26/26 [==============================] - 1s 40ms/step - loss: 0.4805 - accuracy: 0.7939 - val_loss: 0.6526 - val_accuracy: 0.6162 - lr: 0.0010\n",
            "Epoch 17/100\n",
            "26/26 [==============================] - 1s 40ms/step - loss: 0.4774 - accuracy: 0.7967 - val_loss: 0.6584 - val_accuracy: 0.5080 - lr: 0.0010\n",
            "Epoch 18/100\n",
            "26/26 [==============================] - 1s 40ms/step - loss: 0.4713 - accuracy: 0.8031 - val_loss: 0.6472 - val_accuracy: 0.4969 - lr: 0.0010\n",
            "Epoch 19/100\n",
            "26/26 [==============================] - 1s 40ms/step - loss: 0.4505 - accuracy: 0.8065 - val_loss: 0.6549 - val_accuracy: 0.5055 - lr: 0.0010\n",
            "Epoch 20/100\n",
            "26/26 [==============================] - 1s 43ms/step - loss: 0.4484 - accuracy: 0.8093 - val_loss: 0.5968 - val_accuracy: 0.5843 - lr: 0.0010\n",
            "Epoch 21/100\n",
            "26/26 [==============================] - 1s 44ms/step - loss: 0.4421 - accuracy: 0.8047 - val_loss: 0.5694 - val_accuracy: 0.7097 - lr: 0.0010\n",
            "Epoch 22/100\n",
            "26/26 [==============================] - 1s 43ms/step - loss: 0.4412 - accuracy: 0.8047 - val_loss: 0.5255 - val_accuracy: 0.7540 - lr: 0.0010\n",
            "Epoch 23/100\n",
            "26/26 [==============================] - 1s 42ms/step - loss: 0.4325 - accuracy: 0.8099 - val_loss: 0.5156 - val_accuracy: 0.7761 - lr: 0.0010\n",
            "Epoch 24/100\n",
            "26/26 [==============================] - 1s 42ms/step - loss: 0.4334 - accuracy: 0.8071 - val_loss: 0.4703 - val_accuracy: 0.7872 - lr: 0.0010\n",
            "Epoch 25/100\n",
            "26/26 [==============================] - 1s 41ms/step - loss: 0.4293 - accuracy: 0.8041 - val_loss: 0.4685 - val_accuracy: 0.7737 - lr: 0.0010\n",
            "Epoch 26/100\n",
            "26/26 [==============================] - 1s 40ms/step - loss: 0.4349 - accuracy: 0.8093 - val_loss: 0.4726 - val_accuracy: 0.7651 - lr: 0.0010\n",
            "Epoch 27/100\n",
            "26/26 [==============================] - 1s 41ms/step - loss: 0.4290 - accuracy: 0.8130 - val_loss: 0.4441 - val_accuracy: 0.8106 - lr: 0.0010\n",
            "Epoch 28/100\n",
            "26/26 [==============================] - 1s 40ms/step - loss: 0.4277 - accuracy: 0.8068 - val_loss: 0.4560 - val_accuracy: 0.7786 - lr: 0.0010\n",
            "Epoch 29/100\n",
            "26/26 [==============================] - 1s 41ms/step - loss: 0.4295 - accuracy: 0.8059 - val_loss: 0.4383 - val_accuracy: 0.7847 - lr: 0.0010\n",
            "Epoch 30/100\n",
            "26/26 [==============================] - 1s 40ms/step - loss: 0.4340 - accuracy: 0.8059 - val_loss: 0.4241 - val_accuracy: 0.7995 - lr: 0.0010\n",
            "Epoch 31/100\n",
            "26/26 [==============================] - 1s 41ms/step - loss: 0.4217 - accuracy: 0.8118 - val_loss: 0.4486 - val_accuracy: 0.7798 - lr: 0.0010\n",
            "Epoch 32/100\n",
            "26/26 [==============================] - 1s 42ms/step - loss: 0.4236 - accuracy: 0.8084 - val_loss: 0.4434 - val_accuracy: 0.7835 - lr: 0.0010\n",
            "Epoch 33/100\n",
            "26/26 [==============================] - 1s 45ms/step - loss: 0.4229 - accuracy: 0.8087 - val_loss: 0.4176 - val_accuracy: 0.8044 - lr: 0.0010\n",
            "Epoch 34/100\n",
            "26/26 [==============================] - 1s 45ms/step - loss: 0.4246 - accuracy: 0.8034 - val_loss: 0.4156 - val_accuracy: 0.8081 - lr: 0.0010\n",
            "Epoch 35/100\n",
            "26/26 [==============================] - 1s 42ms/step - loss: 0.4290 - accuracy: 0.8127 - val_loss: 0.4336 - val_accuracy: 0.7909 - lr: 0.0010\n",
            "Epoch 36/100\n",
            "26/26 [==============================] - 1s 41ms/step - loss: 0.4183 - accuracy: 0.8130 - val_loss: 0.4174 - val_accuracy: 0.7995 - lr: 0.0010\n",
            "Epoch 37/100\n",
            "26/26 [==============================] - 1s 41ms/step - loss: 0.4184 - accuracy: 0.8068 - val_loss: 0.4130 - val_accuracy: 0.8007 - lr: 0.0010\n",
            "Epoch 38/100\n",
            "26/26 [==============================] - 1s 41ms/step - loss: 0.4204 - accuracy: 0.8124 - val_loss: 0.4148 - val_accuracy: 0.8106 - lr: 0.0010\n",
            "Epoch 39/100\n",
            "26/26 [==============================] - 1s 41ms/step - loss: 0.4214 - accuracy: 0.8121 - val_loss: 0.4353 - val_accuracy: 0.7847 - lr: 0.0010\n",
            "Epoch 40/100\n",
            "26/26 [==============================] - 1s 41ms/step - loss: 0.4178 - accuracy: 0.8114 - val_loss: 0.4300 - val_accuracy: 0.7761 - lr: 0.0010\n",
            "Epoch 41/100\n",
            "26/26 [==============================] - 1s 41ms/step - loss: 0.4150 - accuracy: 0.8145 - val_loss: 0.4183 - val_accuracy: 0.8020 - lr: 0.0010\n",
            "Epoch 42/100\n",
            "26/26 [==============================] - 1s 41ms/step - loss: 0.4127 - accuracy: 0.8118 - val_loss: 0.4157 - val_accuracy: 0.8032 - lr: 0.0010\n",
            "Epoch 43/100\n",
            "26/26 [==============================] - 1s 41ms/step - loss: 0.4133 - accuracy: 0.8124 - val_loss: 0.4186 - val_accuracy: 0.7946 - lr: 1.0000e-04\n",
            "Epoch 44/100\n",
            "26/26 [==============================] - 1s 41ms/step - loss: 0.4063 - accuracy: 0.8148 - val_loss: 0.4170 - val_accuracy: 0.7995 - lr: 1.0000e-04\n",
            "Epoch 45/100\n",
            "26/26 [==============================] - 1s 44ms/step - loss: 0.4094 - accuracy: 0.8139 - val_loss: 0.4157 - val_accuracy: 0.7934 - lr: 1.0000e-04\n",
            "Epoch 46/100\n",
            "26/26 [==============================] - 1s 46ms/step - loss: 0.4043 - accuracy: 0.8188 - val_loss: 0.4140 - val_accuracy: 0.7946 - lr: 1.0000e-04\n",
            "Epoch 47/100\n",
            "26/26 [==============================] - 1s 45ms/step - loss: 0.4054 - accuracy: 0.8154 - val_loss: 0.4154 - val_accuracy: 0.7934 - lr: 1.0000e-04\n"
          ]
        }
      ]
    },
    {
      "cell_type": "code",
      "source": [
        "import matplotlib.pyplot as plt\n",
        "\n",
        "# Plot the training and validation accuracy over epochs\n",
        "plt.plot(history_LSTM.history['accuracy'], label='Training Accuracy')\n",
        "plt.plot(history_LSTM.history['val_accuracy'], label='Validation Accuracy')\n",
        "plt.xlabel('Epoch')\n",
        "plt.ylabel('Accuracy')\n",
        "plt.ylim([0, 1])\n",
        "plt.legend(loc='lower right')\n",
        "plt.show()\n",
        "\n",
        "# Plot the training and validation loss over epochs\n",
        "plt.plot(history_LSTM.history['loss'], label='Training Loss')\n",
        "plt.plot(history_LSTM.history['val_loss'], label='Validation Loss')\n",
        "plt.xlabel('Epoch')\n",
        "plt.ylabel('Loss')\n",
        "plt.legend(loc='upper right')\n",
        "plt.show()\n"
      ],
      "metadata": {
        "colab": {
          "base_uri": "https://localhost:8080/",
          "height": 887
        },
        "id": "QGBVZcU_0_Fw",
        "outputId": "4dd6438e-ac1b-44a9-f461-6ef30e28bc54"
      },
      "execution_count": null,
      "outputs": [
        {
          "output_type": "display_data",
          "data": {
            "text/plain": [
              "<Figure size 640x480 with 1 Axes>"
            ],
            "image/png": "[encoded data removed]"
          },
          "metadata": {}
        },
        {
          "output_type": "display_data",
          "data": {
            "text/plain": [
              "<Figure size 640x480 with 1 Axes>"
            ],
            "image/png": "[encoded data removed]"
          },
          "metadata": {}
        }
      ]
    },
    {
      "cell_type": "markdown",
      "metadata": {
        "id": "NEl8DpHrzmQH"
      },
      "source": [
        "##Evaluation"
      ]
    },
    {
      "cell_type": "code",
      "execution_count": null,
      "metadata": {
        "colab": {
          "base_uri": "https://localhost:8080/"
        },
        "outputId": "b5cccfe4-6a52-4a22-af0f-5e3e0b68816e",
        "id": "USYW_yNXzmQI"
      },
      "outputs": [
        {
          "output_type": "stream",
          "name": "stdout",
          "text": [
            "102/102 [==============================] - 2s 10ms/step\n",
            "26/26 [==============================] - 0s 9ms/step\n",
            "Accuracy (train): 0.8194\n",
            "AUC (train): 0.8646\n",
            "Accuracy (valid): 0.8007\n",
            "AUC (valid): 0.8563\n"
          ]
        }
      ],
      "source": [
        "from sklearn.metrics import roc_auc_score\n",
        "\n",
        "threshold = 0.5\n",
        "\n",
        "y_train_pred = model.predict(x_train)\n",
        "# Convert probabilities to binary predictions\n",
        "y_train_pred_binary = (y_train_pred > threshold).astype(int)\n",
        "y_valid_pred = model.predict(x_valid)\n",
        "y_valid_pred_binary = (y_valid_pred > threshold).astype(int)\n",
        "\n",
        "from sklearn.metrics import accuracy_score, confusion_matrix, classification_report, roc_curve, auc, roc_auc_score\n",
        "accuracy_train = accuracy_score(y_train, y_train_pred_binary)\n",
        "auc_train = roc_auc_score(y_train, y_train_pred)\n",
        "\n",
        "accuracy_valid = accuracy_score(y_valid, y_valid_pred_binary)\n",
        "auc_valid = roc_auc_score(y_valid, y_valid_pred)\n",
        "\n",
        "print(f'Accuracy (train): {accuracy_train:.4f}')\n",
        "print(f'AUC (train): {auc_train:.4f}')\n",
        "\n",
        "print(f'Accuracy (valid): {accuracy_valid:.4f}')\n",
        "print(f'AUC (valid): {auc_valid:.4f}')"
      ]
    },
    {
      "cell_type": "code",
      "execution_count": null,
      "metadata": {
        "colab": {
          "base_uri": "https://localhost:8080/"
        },
        "outputId": "8c02be7a-9e04-4c27-86e1-7f070aa80aac",
        "id": "WlO-I_zuzmQI"
      },
      "outputs": [
        {
          "output_type": "stream",
          "name": "stdout",
          "text": [
            "For training set:\n",
            "Precision: 0.9824\n",
            "Recall: 0.6513\n",
            "F1 Score: 0.7833 \n",
            "\n",
            "For validation set:\n",
            "Precision: 0.9382\n",
            "Recall: 0.6402\n",
            "F1 Score: 0.7611\n"
          ]
        }
      ],
      "source": [
        "from sklearn.metrics import precision_score, recall_score, f1_score\n",
        "# Calculate precision, recall, and F1 score\n",
        "precision = precision_score(y_train, y_train_pred_binary, zero_division=1)\n",
        "recall = recall_score(y_train, y_train_pred_binary, zero_division=1)\n",
        "f1 = f1_score(y_train, y_train_pred_binary, zero_division=1)\n",
        "\n",
        "# Print with 4 digits limit\n",
        "print(\"For training set:\")\n",
        "print(\"Precision:\", round(precision, 4))\n",
        "print(\"Recall:\", round(recall, 4))\n",
        "print(\"F1 Score:\", round(f1, 4),\"\\n\")\n",
        "\n",
        "# Calculate precision, recall, and F1 score\n",
        "precision = precision_score(y_valid, y_valid_pred_binary, zero_division=1)\n",
        "recall = recall_score(y_valid, y_valid_pred_binary, zero_division=1)\n",
        "f1 = f1_score(y_valid, y_valid_pred_binary, zero_division=1)\n",
        "\n",
        "# Print with 4 digits limit\n",
        "print(\"For validation set:\")\n",
        "print(\"Precision:\", round(precision, 4))\n",
        "print(\"Recall:\", round(recall, 4))\n",
        "print(\"F1 Score:\", round(f1, 4))"
      ]
    },
    {
      "cell_type": "code",
      "execution_count": null,
      "metadata": {
        "colab": {
          "base_uri": "https://localhost:8080/"
        },
        "outputId": "b8f689a2-a5dd-4ec3-ea6a-d0a4b8e9d16c",
        "id": "Vwi1uceMzmQI"
      },
      "outputs": [
        {
          "output_type": "stream",
          "name": "stdout",
          "text": [
            "92/92 [==============================] - 1s 9ms/step\n"
          ]
        }
      ],
      "source": [
        "y_test_pred = model.predict(x_test)\n",
        "y_test_pred_binary = (y_test_pred > threshold).astype(int)"
      ]
    },
    {
      "cell_type": "code",
      "execution_count": null,
      "metadata": {
        "colab": {
          "base_uri": "https://localhost:8080/",
          "height": 34
        },
        "outputId": "9be0156f-0b02-49a2-fad4-06efa9e9e217",
        "id": "z6AmCWTMzmQJ"
      },
      "outputs": [
        {
          "output_type": "display_data",
          "data": {
            "text/plain": [
              "<IPython.core.display.Javascript object>"
            ],
            "application/javascript": [
              "\n",
              "    async function download(id, filename, size) {\n",
              "      if (!google.colab.kernel.accessAllowed) {\n",
              "        return;\n",
              "      }\n",
              "      const div = document.createElement('div');\n",
              "      const label = document.createElement('label');\n",
              "      label.textContent = `Downloading \"${filename}\": `;\n",
              "      div.appendChild(label);\n",
              "      const progress = document.createElement('progress');\n",
              "      progress.max = size;\n",
              "      div.appendChild(progress);\n",
              "      document.body.appendChild(div);\n",
              "\n",
              "      const buffers = [];\n",
              "      let downloaded = 0;\n",
              "\n",
              "      const channel = await google.colab.kernel.comms.open(id);\n",
              "      // Send a message to notify the kernel that we're ready.\n",
              "      channel.send({})\n",
              "\n",
              "      for await (const message of channel.messages) {\n",
              "        // Send a message to notify the kernel that we're ready.\n",
              "        channel.send({})\n",
              "        if (message.buffers) {\n",
              "          for (const buffer of message.buffers) {\n",
              "            buffers.push(buffer);\n",
              "            downloaded += buffer.byteLength;\n",
              "            progress.value = downloaded;\n",
              "          }\n",
              "        }\n",
              "      }\n",
              "      const blob = new Blob(buffers, {type: 'application/binary'});\n",
              "      const a = document.createElement('a');\n",
              "      a.href = window.URL.createObjectURL(blob);\n",
              "      a.download = filename;\n",
              "      div.appendChild(a);\n",
              "      a.click();\n",
              "      div.remove();\n",
              "    }\n",
              "  "
            ]
          },
          "metadata": {}
        },
        {
          "output_type": "display_data",
          "data": {
            "text/plain": [
              "<IPython.core.display.Javascript object>"
            ],
            "application/javascript": [
              "download(\"download_b6e06ee3-2c6c-4686-8e3e-b3d3bd074658\", \"predictions.csv\", 58748)"
            ]
          },
          "metadata": {}
        }
      ],
      "source": [
        "# Assuming y_test_pred_binary is a numpy array\n",
        "predictions_df = pd.DataFrame(y_test_pred_binary, columns=['readmitted_within_30days'])\n",
        "merged_df = test[['id']].merge(predictions_df, left_index=True, right_index=True)\n",
        "merged_df.to_csv('predictions.csv', index=False)\n",
        "\n",
        "from google.colab import files\n",
        "files.download('predictions.csv')"
      ]
    }
  ],
  "metadata": {
    "accelerator": "GPU",
    "colab": {
      "provenance": [],
      "gpuType": "T4",
      "include_colab_link": true
    },
    "kernelspec": {
      "display_name": "Python 3",
      "name": "python3"
    },
    "language_info": {
      "codemirror_mode": {
        "name": "ipython",
        "version": 3
      },
      "file_extension": ".py",
      "mimetype": "text/x-python",
      "name": "python",
      "nbconvert_exporter": "python",
      "pygments_lexer": "ipython3",
      "version": "3.7.0"
    }
  },
  "nbformat": 4,
  "nbformat_minor": 0
}
