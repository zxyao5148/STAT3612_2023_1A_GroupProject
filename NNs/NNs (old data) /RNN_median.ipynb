{
  "cells": [
    {
      "cell_type": "markdown",
      "metadata": {
        "id": "view-in-github",
        "colab_type": "text"
      },
      "source": [
        "<a href=\"https://colab.research.google.com/github/zxyao5148/STAT3612_2023_1A_GroupProject/blob/main/RNN_Transformer/RNN_median.ipynb\" target=\"_parent\"><img src=\"https://colab.research.google.com/assets/colab-badge.svg\" alt=\"Open In Colab\"/></a>"
      ]
    },
    {
      "cell_type": "markdown",
      "metadata": {
        "id": "fFipp7tAAVxh"
      },
      "source": [
        "**Description:** This notebook demonstrates how to do timeseries classification using RNN models (Simple RNN, LSTM, and GRU).\n",
        "\n",
        "Reference: https://www.kaggle.com/code/thebrownviking20/intro-to-recurrent-neural-networks-lstm-gru/notebook"
      ]
    },
    {
      "cell_type": "markdown",
      "metadata": {
        "id": "ll7UTtsyAVxj"
      },
      "source": [
        "## Load the dataset"
      ]
    },
    {
      "cell_type": "code",
      "execution_count": 1,
      "metadata": {
        "id": "U-qy06BXAVxk"
      },
      "outputs": [],
      "source": [
        "import pandas as pd\n",
        "import requests\n",
        "from io import StringIO\n",
        "import numpy as np\n",
        "from sklearn.model_selection import train_test_split\n",
        "\n",
        "# Raw URLs for the CSV files\n",
        "train_url = \"https://raw.githubusercontent.com/zxyao5148/STAT3612_2023_1A_GroupProject/main/data_processing/train/train_valid_median.csv\"\n",
        "test_url = \"https://raw.githubusercontent.com/zxyao5148/STAT3612_2023_1A_GroupProject/main/data_processing/test/test_median.csv\"\n",
        "\n",
        "# Download the CSV files\n",
        "train_csv = requests.get(train_url).text\n",
        "test_csv = requests.get(test_url).text\n",
        "\n",
        "# Read the CSV files into pandas DataFrames\n",
        "train_valid = pd.read_csv(StringIO(train_csv))\n",
        "test = pd.read_csv(StringIO(test_csv))\n",
        "\n",
        "train_valid['deathtime'] = np.where(train_valid['deathtime'].notnull(), 1, 0)\n",
        "test['deathtime'] = np.where(test['deathtime'].notnull(), 1, 0)\n",
        "\n",
        "# with 80% of the data for training and 20% for validation\n",
        "train, valid = train_test_split(train_valid, test_size=0.2, random_state=3612)\n",
        "\n",
        "# Split the data into features (X) and target variable (y)\n",
        "x_train = train[['deathtime']].join(train.iloc[:, 9:])\n",
        "y_train = train.iloc[:, 8]\n",
        "\n",
        "x_valid = valid[['deathtime']].join(valid.iloc[:, 9:])\n",
        "y_valid = valid.iloc[:, 8]\n",
        "\n",
        "x_test = test[['deathtime']].join(test.iloc[:,8:])"
      ]
    },
    {
      "cell_type": "code",
      "execution_count": 2,
      "metadata": {
        "id": "ElXnpwlhE0i8"
      },
      "outputs": [],
      "source": [
        "x_train = x_train.values.reshape((x_train.shape[0], x_train.shape[1], 1))\n",
        "x_valid = x_valid.values.reshape((x_valid.shape[0], x_valid.shape[1], 1))\n",
        "x_test = x_test.values.reshape((x_test.shape[0], x_test.shape[1], 1))\n",
        "\n",
        "# Reset the index of the y_train DataFrame\n",
        "y_train = y_train.reset_index(drop=True)\n",
        "\n",
        "# Shuffle the indices\n",
        "idx = np.random.permutation(len(x_train))\n",
        "\n",
        "# Reassign the values using the shuffled indices\n",
        "x_train = x_train[idx]\n",
        "y_train = y_train.iloc[idx]"
      ]
    },
    {
      "cell_type": "markdown",
      "metadata": {
        "id": "teAicBzgAVxl"
      },
      "source": [
        "## Build the model\n",
        "\n",
        "The model processes a tensor of shape `(batch size, sequence length, features)`,\n",
        "where `sequence length` is the number of time steps and `features` is each input\n",
        "timeseries.\n"
      ]
    },
    {
      "cell_type": "code",
      "execution_count": 3,
      "metadata": {
        "id": "My1EkBMVAVxm"
      },
      "outputs": [],
      "source": [
        "from keras.layers import Dense, Activation, Dropout\n",
        "from keras.layers import LSTM, GRU, SimpleRNN\n",
        "from keras.models import Sequential\n",
        "import keras"
      ]
    },
    {
      "cell_type": "markdown",
      "metadata": {
        "id": "WnIPR8DVnL27"
      },
      "source": [
        "# Simple RNN"
      ]
    },
    {
      "cell_type": "code",
      "execution_count": 4,
      "metadata": {
        "colab": {
          "base_uri": "https://localhost:8080/"
        },
        "id": "ROFmOBEbAVxm",
        "outputId": "2e2e6b13-372e-4a60-9755-4a5a89c556b7"
      },
      "outputs": [
        {
          "output_type": "stream",
          "name": "stdout",
          "text": [
            "model compiled\n",
            "Model: \"sequential\"\n",
            "_________________________________________________________________\n",
            " Layer (type)                Output Shape              Param #   \n",
            "=================================================================\n",
            " simple_rnn (SimpleRNN)      (None, 150, 50)           2600      \n",
            "                                                                 \n",
            " dropout (Dropout)           (None, 150, 50)           0         \n",
            "                                                                 \n",
            " simple_rnn_1 (SimpleRNN)    (None, 100)               15100     \n",
            "                                                                 \n",
            " dropout_1 (Dropout)         (None, 100)               0         \n",
            "                                                                 \n",
            " dense (Dense)               (None, 1)                 101       \n",
            "                                                                 \n",
            "=================================================================\n",
            "Total params: 17801 (69.54 KB)\n",
            "Trainable params: 17801 (69.54 KB)\n",
            "Non-trainable params: 0 (0.00 Byte)\n",
            "_________________________________________________________________\n",
            "None\n",
            "Epoch 1/200\n",
            "19/19 [==============================] - 21s 364ms/step - loss: 0.5307 - accuracy: 0.7504 - val_loss: 0.4353 - val_accuracy: 0.8315\n",
            "Epoch 2/200\n",
            "19/19 [==============================] - 5s 276ms/step - loss: 0.4479 - accuracy: 0.8245 - val_loss: 0.4258 - val_accuracy: 0.8341\n",
            "Epoch 3/200\n",
            "19/19 [==============================] - 6s 305ms/step - loss: 0.4428 - accuracy: 0.8229 - val_loss: 0.4232 - val_accuracy: 0.8345\n",
            "Epoch 4/200\n",
            "19/19 [==============================] - 5s 243ms/step - loss: 0.4376 - accuracy: 0.8244 - val_loss: 0.4181 - val_accuracy: 0.8353\n",
            "Epoch 5/200\n",
            "19/19 [==============================] - 8s 429ms/step - loss: 0.4381 - accuracy: 0.8263 - val_loss: 0.4191 - val_accuracy: 0.8358\n",
            "Epoch 6/200\n",
            "19/19 [==============================] - 6s 316ms/step - loss: 0.4333 - accuracy: 0.8251 - val_loss: 0.4164 - val_accuracy: 0.8332\n",
            "Epoch 7/200\n",
            "19/19 [==============================] - 6s 349ms/step - loss: 0.4358 - accuracy: 0.8254 - val_loss: 0.4178 - val_accuracy: 0.8353\n",
            "Epoch 8/200\n",
            "19/19 [==============================] - 4s 231ms/step - loss: 0.4325 - accuracy: 0.8252 - val_loss: 0.4148 - val_accuracy: 0.8345\n",
            "Epoch 9/200\n",
            "19/19 [==============================] - 4s 234ms/step - loss: 0.4327 - accuracy: 0.8243 - val_loss: 0.4152 - val_accuracy: 0.8366\n",
            "Epoch 10/200\n",
            "19/19 [==============================] - 6s 334ms/step - loss: 0.4257 - accuracy: 0.8265 - val_loss: 0.4151 - val_accuracy: 0.8384\n",
            "Epoch 11/200\n",
            "19/19 [==============================] - 4s 232ms/step - loss: 0.4234 - accuracy: 0.8261 - val_loss: 0.4522 - val_accuracy: 0.8319\n",
            "Epoch 12/200\n",
            "19/19 [==============================] - 4s 234ms/step - loss: 0.4382 - accuracy: 0.8261 - val_loss: 0.4243 - val_accuracy: 0.8362\n",
            "Epoch 13/200\n",
            "19/19 [==============================] - 6s 338ms/step - loss: 0.4292 - accuracy: 0.8261 - val_loss: 0.4140 - val_accuracy: 0.8366\n",
            "Epoch 14/200\n",
            "19/19 [==============================] - 5s 243ms/step - loss: 0.4208 - accuracy: 0.8309 - val_loss: 0.4930 - val_accuracy: 0.8155\n",
            "Epoch 15/200\n",
            "19/19 [==============================] - 6s 327ms/step - loss: 0.4179 - accuracy: 0.8177 - val_loss: 0.8691 - val_accuracy: 0.3922\n",
            "Epoch 16/200\n",
            "19/19 [==============================] - 6s 298ms/step - loss: 0.4728 - accuracy: 0.8012 - val_loss: 0.4183 - val_accuracy: 0.8336\n",
            "Epoch 17/200\n",
            "19/19 [==============================] - 7s 397ms/step - loss: 0.4277 - accuracy: 0.8275 - val_loss: 0.4000 - val_accuracy: 0.8371\n",
            "Epoch 18/200\n",
            "19/19 [==============================] - 6s 288ms/step - loss: 0.3844 - accuracy: 0.8386 - val_loss: 0.3302 - val_accuracy: 0.8901\n",
            "Epoch 19/200\n",
            "19/19 [==============================] - 4s 229ms/step - loss: 0.3241 - accuracy: 0.8909 - val_loss: 0.2882 - val_accuracy: 0.8953\n",
            "Epoch 20/200\n",
            "19/19 [==============================] - 6s 323ms/step - loss: 0.4796 - accuracy: 0.7913 - val_loss: 0.6973 - val_accuracy: 0.6039\n",
            "Epoch 21/200\n",
            "19/19 [==============================] - 5s 231ms/step - loss: 0.4869 - accuracy: 0.8044 - val_loss: 0.4552 - val_accuracy: 0.8306\n",
            "Epoch 22/200\n",
            "19/19 [==============================] - 5s 244ms/step - loss: 0.4522 - accuracy: 0.8241 - val_loss: 0.4278 - val_accuracy: 0.8319\n",
            "Epoch 23/200\n",
            "19/19 [==============================] - 6s 327ms/step - loss: 0.4353 - accuracy: 0.8254 - val_loss: 0.4060 - val_accuracy: 0.8349\n",
            "Epoch 24/200\n",
            "19/19 [==============================] - 4s 221ms/step - loss: 0.4066 - accuracy: 0.8297 - val_loss: 0.3646 - val_accuracy: 0.8578\n",
            "Epoch 25/200\n",
            "19/19 [==============================] - 5s 238ms/step - loss: 0.3548 - accuracy: 0.8586 - val_loss: 0.3572 - val_accuracy: 0.8694\n",
            "Epoch 26/200\n",
            "19/19 [==============================] - 6s 342ms/step - loss: 0.3514 - accuracy: 0.8694 - val_loss: 0.2905 - val_accuracy: 0.9116\n",
            "Epoch 27/200\n",
            "19/19 [==============================] - 5s 240ms/step - loss: 0.2851 - accuracy: 0.9158 - val_loss: 0.2546 - val_accuracy: 0.9272\n",
            "Epoch 28/200\n",
            "19/19 [==============================] - 5s 261ms/step - loss: 0.2658 - accuracy: 0.9222 - val_loss: 0.2452 - val_accuracy: 0.9280\n",
            "Epoch 29/200\n",
            "19/19 [==============================] - 6s 291ms/step - loss: 0.2584 - accuracy: 0.9241 - val_loss: 0.2396 - val_accuracy: 0.9306\n",
            "Epoch 30/200\n",
            "19/19 [==============================] - 4s 233ms/step - loss: 0.2606 - accuracy: 0.9244 - val_loss: 0.2519 - val_accuracy: 0.9228\n",
            "Epoch 31/200\n",
            "19/19 [==============================] - 6s 340ms/step - loss: 0.2670 - accuracy: 0.9205 - val_loss: 0.2342 - val_accuracy: 0.9332\n",
            "Epoch 32/200\n",
            "19/19 [==============================] - 5s 231ms/step - loss: 0.2519 - accuracy: 0.9263 - val_loss: 0.2317 - val_accuracy: 0.9328\n",
            "Epoch 33/200\n",
            "19/19 [==============================] - 4s 233ms/step - loss: 0.2521 - accuracy: 0.9266 - val_loss: 0.2356 - val_accuracy: 0.9315\n",
            "Epoch 34/200\n",
            "19/19 [==============================] - 6s 330ms/step - loss: 0.2511 - accuracy: 0.9264 - val_loss: 0.2413 - val_accuracy: 0.9280\n",
            "Epoch 35/200\n",
            "19/19 [==============================] - 5s 241ms/step - loss: 0.2563 - accuracy: 0.9244 - val_loss: 0.2297 - val_accuracy: 0.9341\n",
            "Epoch 36/200\n",
            "19/19 [==============================] - 4s 229ms/step - loss: 0.2474 - accuracy: 0.9273 - val_loss: 0.2365 - val_accuracy: 0.9306\n",
            "Epoch 37/200\n",
            "19/19 [==============================] - 6s 331ms/step - loss: 0.2479 - accuracy: 0.9277 - val_loss: 0.2342 - val_accuracy: 0.9336\n",
            "Epoch 38/200\n",
            "19/19 [==============================] - 4s 224ms/step - loss: 0.2471 - accuracy: 0.9284 - val_loss: 0.2346 - val_accuracy: 0.9310\n",
            "Epoch 39/200\n",
            "19/19 [==============================] - 4s 226ms/step - loss: 0.2518 - accuracy: 0.9256 - val_loss: 0.2292 - val_accuracy: 0.9345\n",
            "Epoch 40/200\n",
            "19/19 [==============================] - 6s 313ms/step - loss: 0.2472 - accuracy: 0.9286 - val_loss: 0.2274 - val_accuracy: 0.9358\n",
            "Epoch 41/200\n",
            "19/19 [==============================] - 4s 232ms/step - loss: 0.2452 - accuracy: 0.9281 - val_loss: 0.2348 - val_accuracy: 0.9336\n",
            "Epoch 42/200\n",
            "19/19 [==============================] - 5s 288ms/step - loss: 0.2462 - accuracy: 0.9274 - val_loss: 0.2296 - val_accuracy: 0.9341\n",
            "Epoch 43/200\n",
            "19/19 [==============================] - 5s 257ms/step - loss: 0.2451 - accuracy: 0.9287 - val_loss: 0.2281 - val_accuracy: 0.9358\n",
            "Epoch 44/200\n",
            "19/19 [==============================] - 4s 234ms/step - loss: 0.2438 - accuracy: 0.9282 - val_loss: 0.2338 - val_accuracy: 0.9345\n",
            "Epoch 45/200\n",
            "19/19 [==============================] - 7s 350ms/step - loss: 0.2613 - accuracy: 0.9232 - val_loss: 0.2527 - val_accuracy: 0.9306\n",
            "Epoch 46/200\n",
            "19/19 [==============================] - 4s 234ms/step - loss: 0.2580 - accuracy: 0.9248 - val_loss: 0.2454 - val_accuracy: 0.9276\n",
            "Epoch 47/200\n",
            "19/19 [==============================] - 4s 237ms/step - loss: 0.3827 - accuracy: 0.8622 - val_loss: 1.1474 - val_accuracy: 0.4392\n",
            "Epoch 48/200\n",
            "19/19 [==============================] - 6s 319ms/step - loss: 0.5048 - accuracy: 0.8062 - val_loss: 0.4654 - val_accuracy: 0.8293\n",
            "Epoch 49/200\n",
            "19/19 [==============================] - 5s 240ms/step - loss: 0.4698 - accuracy: 0.8220 - val_loss: 0.4318 - val_accuracy: 0.8297\n",
            "Epoch 50/200\n",
            "19/19 [==============================] - 5s 238ms/step - loss: 0.4376 - accuracy: 0.8247 - val_loss: 0.3986 - val_accuracy: 0.8358\n"
          ]
        }
      ],
      "source": [
        "# Note: replace RNN with GRU or RNN if you want to try those\n",
        "# In Keras, the \"RNN\" layer is a wrapper for the RNN cell, not the actual cell itself.\n",
        "#specify the type of RNN cell to use, such as LSTM, GRU, or SimpleRNN\n",
        "\n",
        "model = Sequential()\n",
        "model.add(SimpleRNN(50, return_sequences=True, input_shape=(x_train.shape[1],1)))\n",
        "model.add(Dropout(0.2))\n",
        "model.add(SimpleRNN(100, return_sequences=False, activation = \"relu\"))\n",
        "model.add(Dropout(0.2))\n",
        "model.add(Dense(1, activation = \"sigmoid\"))\n",
        "\n",
        "model.compile(loss='binary_crossentropy', optimizer='Adam', metrics=[\"accuracy\"])\n",
        "\n",
        "print ('model compiled')\n",
        "\n",
        "callbacks = [keras.callbacks.EarlyStopping(patience=10, restore_best_weights=True)]\n",
        "\n",
        "print (model.summary())\n",
        "\n",
        "#Train the model\n",
        "history_RNN=model.fit(x_train, y_train, batch_size=512, epochs=200, validation_data = (x_valid, y_valid), callbacks=callbacks)"
      ]
    },
    {
      "cell_type": "code",
      "execution_count": 5,
      "metadata": {
        "colab": {
          "base_uri": "https://localhost:8080/",
          "height": 887
        },
        "id": "1-HwZ-HnknmJ",
        "outputId": "a994f1e8-a41e-4081-f271-43c573a819ff"
      },
      "outputs": [
        {
          "output_type": "display_data",
          "data": {
            "text/plain": [
              "<Figure size 640x480 with 1 Axes>"
            ],
            "image/png": "[encoded data removed]"
          },
          "metadata": {}
        },
        {
          "output_type": "display_data",
          "data": {
            "text/plain": [
              "<Figure size 640x480 with 1 Axes>"
            ],
            "image/png": "[encoded data removed]"
          },
          "metadata": {}
        }
      ],
      "source": [
        "import matplotlib.pyplot as plt\n",
        "\n",
        "# Plot the training and validation accuracy over epochs\n",
        "plt.plot(history_RNN.history['accuracy'], label='Training Accuracy')\n",
        "plt.plot(history_RNN.history['val_accuracy'], label='Validation Accuracy')\n",
        "plt.xlabel('Epoch')\n",
        "plt.ylabel('Accuracy')\n",
        "plt.ylim([0, 1])\n",
        "plt.legend(loc='lower right')\n",
        "plt.show()\n",
        "\n",
        "# Plot the training and validation loss over epochs\n",
        "plt.plot(history_RNN.history['loss'], label='Training Loss')\n",
        "plt.plot(history_RNN.history['val_loss'], label='Validation Loss')\n",
        "plt.xlabel('Epoch')\n",
        "plt.ylabel('Loss')\n",
        "plt.legend(loc='upper right')\n",
        "plt.show()\n"
      ]
    },
    {
      "cell_type": "markdown",
      "metadata": {
        "id": "OSsJHYO0R-p0"
      },
      "source": [
        "##Evaluation"
      ]
    },
    {
      "cell_type": "code",
      "execution_count": 6,
      "metadata": {
        "colab": {
          "base_uri": "https://localhost:8080/"
        },
        "id": "CJPGAOfCXdbQ",
        "outputId": "d01c84dc-a2eb-4780-df24-13b4dc021e90"
      },
      "outputs": [
        {
          "output_type": "stream",
          "name": "stdout",
          "text": [
            "290/290 [==============================] - 8s 28ms/step\n",
            "73/73 [==============================] - 2s 22ms/step\n",
            "Accuracy (train): 0.9292\n",
            "AUC (train): 0.8527\n",
            "Accuracy (valid): 0.9358\n",
            "AUC (valid): 0.8552\n"
          ]
        }
      ],
      "source": [
        "from sklearn.metrics import roc_auc_score\n",
        "\n",
        "threshold = 0.5\n",
        "\n",
        "y_train_pred = model.predict(x_train)\n",
        "# Convert probabilities to binary predictions\n",
        "y_train_pred_binary = (y_train_pred > threshold).astype(int)\n",
        "y_valid_pred = model.predict(x_valid)\n",
        "y_valid_pred_binary = (y_valid_pred > threshold).astype(int)\n",
        "\n",
        "from sklearn.metrics import accuracy_score, confusion_matrix, classification_report, roc_curve, auc, roc_auc_score\n",
        "accuracy_train = accuracy_score(y_train, y_train_pred_binary)\n",
        "auc_train = roc_auc_score(y_train, y_train_pred)\n",
        "\n",
        "accuracy_valid = accuracy_score(y_valid, y_valid_pred_binary)\n",
        "auc_valid = roc_auc_score(y_valid, y_valid_pred)\n",
        "\n",
        "print(f'Accuracy (train): {accuracy_train:.4f}')\n",
        "print(f'AUC (train): {auc_train:.4f}')\n",
        "\n",
        "print(f'Accuracy (valid): {accuracy_valid:.4f}')\n",
        "print(f'AUC (valid): {auc_valid:.4f}')"
      ]
    },
    {
      "cell_type": "code",
      "execution_count": 7,
      "metadata": {
        "colab": {
          "base_uri": "https://localhost:8080/"
        },
        "id": "GeA1W5inTJF5",
        "outputId": "729d0c26-f9e1-452d-ffdc-e8fbc279aeb3"
      },
      "outputs": [
        {
          "output_type": "stream",
          "name": "stdout",
          "text": [
            "For training set:\n",
            "Precision: 0.99\n",
            "Recall: 0.605\n",
            "F1 Score: 0.751 \n",
            "\n",
            "For validation set:\n",
            "Precision: 0.992\n",
            "Recall: 0.6269\n",
            "F1 Score: 0.7683\n"
          ]
        }
      ],
      "source": [
        "from sklearn.metrics import precision_score, recall_score, f1_score\n",
        "# Calculate precision, recall, and F1 score\n",
        "precision = precision_score(y_train, y_train_pred_binary, zero_division=1)\n",
        "recall = recall_score(y_train, y_train_pred_binary, zero_division=1)\n",
        "f1 = f1_score(y_train, y_train_pred_binary, zero_division=1)\n",
        "\n",
        "# Print with 4 digits limit\n",
        "print(\"For training set:\")\n",
        "print(\"Precision:\", round(precision, 4))\n",
        "print(\"Recall:\", round(recall, 4))\n",
        "print(\"F1 Score:\", round(f1, 4),\"\\n\")\n",
        "\n",
        "# Calculate precision, recall, and F1 score\n",
        "precision = precision_score(y_valid, y_valid_pred_binary, zero_division=1)\n",
        "recall = recall_score(y_valid, y_valid_pred_binary, zero_division=1)\n",
        "f1 = f1_score(y_valid, y_valid_pred_binary, zero_division=1)\n",
        "\n",
        "# Print with 4 digits limit\n",
        "print(\"For validation set:\")\n",
        "print(\"Precision:\", round(precision, 4))\n",
        "print(\"Recall:\", round(recall, 4))\n",
        "print(\"F1 Score:\", round(f1, 4))"
      ]
    },
    {
      "cell_type": "code",
      "execution_count": 8,
      "metadata": {
        "colab": {
          "base_uri": "https://localhost:8080/"
        },
        "id": "2n-_zbitBplK",
        "outputId": "c1834183-a4f0-4478-88e2-7d1fd824228c"
      },
      "outputs": [
        {
          "output_type": "stream",
          "name": "stdout",
          "text": [
            "92/92 [==============================] - 2s 23ms/step\n"
          ]
        }
      ],
      "source": [
        "y_test_pred = model.predict(x_test)\n",
        "y_test_pred_binary = (y_test_pred > threshold).astype(int)"
      ]
    },
    {
      "cell_type": "code",
      "execution_count": 9,
      "metadata": {
        "colab": {
          "base_uri": "https://localhost:8080/",
          "height": 17
        },
        "id": "avvAz5qEBxdp",
        "outputId": "63673841-d9b2-4602-9ace-9200dcdf2d39"
      },
      "outputs": [
        {
          "output_type": "display_data",
          "data": {
            "text/plain": [
              "<IPython.core.display.Javascript object>"
            ],
            "application/javascript": [
              "\n",
              "    async function download(id, filename, size) {\n",
              "      if (!google.colab.kernel.accessAllowed) {\n",
              "        return;\n",
              "      }\n",
              "      const div = document.createElement('div');\n",
              "      const label = document.createElement('label');\n",
              "      label.textContent = `Downloading \"${filename}\": `;\n",
              "      div.appendChild(label);\n",
              "      const progress = document.createElement('progress');\n",
              "      progress.max = size;\n",
              "      div.appendChild(progress);\n",
              "      document.body.appendChild(div);\n",
              "\n",
              "      const buffers = [];\n",
              "      let downloaded = 0;\n",
              "\n",
              "      const channel = await google.colab.kernel.comms.open(id);\n",
              "      // Send a message to notify the kernel that we're ready.\n",
              "      channel.send({})\n",
              "\n",
              "      for await (const message of channel.messages) {\n",
              "        // Send a message to notify the kernel that we're ready.\n",
              "        channel.send({})\n",
              "        if (message.buffers) {\n",
              "          for (const buffer of message.buffers) {\n",
              "            buffers.push(buffer);\n",
              "            downloaded += buffer.byteLength;\n",
              "            progress.value = downloaded;\n",
              "          }\n",
              "        }\n",
              "      }\n",
              "      const blob = new Blob(buffers, {type: 'application/binary'});\n",
              "      const a = document.createElement('a');\n",
              "      a.href = window.URL.createObjectURL(blob);\n",
              "      a.download = filename;\n",
              "      div.appendChild(a);\n",
              "      a.click();\n",
              "      div.remove();\n",
              "    }\n",
              "  "
            ]
          },
          "metadata": {}
        },
        {
          "output_type": "display_data",
          "data": {
            "text/plain": [
              "<IPython.core.display.Javascript object>"
            ],
            "application/javascript": [
              "download(\"download_32c1e46c-d9fd-4144-8554-da04a797251b\", \"predictions.csv\", 58748)"
            ]
          },
          "metadata": {}
        }
      ],
      "source": [
        "# Assuming y_test_pred_binary is a numpy array\n",
        "predictions_df = pd.DataFrame(y_test_pred_binary, columns=['readmitted_within_30days'])\n",
        "merged_df = test[['id']].merge(predictions_df, left_index=True, right_index=True)\n",
        "merged_df.to_csv('predictions.csv', index=False)\n",
        "\n",
        "from google.colab import files\n",
        "files.download('predictions.csv')"
      ]
    },
    {
      "cell_type": "markdown",
      "metadata": {
        "id": "hVdaA92rViHu"
      },
      "source": [
        "# LSTM"
      ]
    },
    {
      "cell_type": "code",
      "execution_count": 13,
      "metadata": {
        "colab": {
          "base_uri": "https://localhost:8080/"
        },
        "id": "itm25_POmxOr",
        "outputId": "faf2211f-7096-4a25-93d2-60e70ba66020"
      },
      "outputs": [
        {
          "output_type": "stream",
          "name": "stderr",
          "text": [
            "WARNING:tensorflow:Layer lstm_1 will not use cuDNN kernels since it doesn't meet the criteria. It will use a generic GPU kernel as fallback when running on GPU.\n"
          ]
        },
        {
          "output_type": "stream",
          "name": "stdout",
          "text": [
            "model compiled\n",
            "Model: \"sequential_4\"\n",
            "_________________________________________________________________\n",
            " Layer (type)                Output Shape              Param #   \n",
            "=================================================================\n",
            " lstm (LSTM)                 (None, 150, 50)           10400     \n",
            "                                                                 \n",
            " dropout_2 (Dropout)         (None, 150, 50)           0         \n",
            "                                                                 \n",
            " lstm_1 (LSTM)               (None, 100)               60400     \n",
            "                                                                 \n",
            " dropout_3 (Dropout)         (None, 100)               0         \n",
            "                                                                 \n",
            " dense_1 (Dense)             (None, 1)                 101       \n",
            "                                                                 \n",
            "=================================================================\n",
            "Total params: 70901 (276.96 KB)\n",
            "Trainable params: 70901 (276.96 KB)\n",
            "Non-trainable params: 0 (0.00 Byte)\n",
            "_________________________________________________________________\n",
            "None\n",
            "Epoch 1/200\n",
            "19/19 [==============================] - 11s 381ms/step - loss: 0.8300 - accuracy: 0.7781 - val_loss: 0.4951 - val_accuracy: 0.8302\n",
            "Epoch 2/200\n",
            "19/19 [==============================] - 8s 387ms/step - loss: 0.5562 - accuracy: 0.8234 - val_loss: 0.5794 - val_accuracy: 0.8302\n",
            "Epoch 3/200\n",
            "19/19 [==============================] - 8s 393ms/step - loss: 0.5708 - accuracy: 0.8234 - val_loss: 0.9554 - val_accuracy: 0.8302\n",
            "Epoch 4/200\n",
            "19/19 [==============================] - 5s 267ms/step - loss: 0.5439 - accuracy: 0.8234 - val_loss: 0.5033 - val_accuracy: 0.8302\n",
            "Epoch 5/200\n",
            "19/19 [==============================] - 7s 363ms/step - loss: 0.4728 - accuracy: 0.8234 - val_loss: 0.4586 - val_accuracy: 0.8302\n",
            "Epoch 6/200\n",
            "19/19 [==============================] - 5s 243ms/step - loss: 0.4564 - accuracy: 0.8234 - val_loss: 0.4484 - val_accuracy: 0.8302\n",
            "Epoch 7/200\n",
            "19/19 [==============================] - 5s 269ms/step - loss: 0.4527 - accuracy: 0.8234 - val_loss: 0.4447 - val_accuracy: 0.8302\n",
            "Epoch 8/200\n",
            "19/19 [==============================] - 6s 323ms/step - loss: 0.4537 - accuracy: 0.8234 - val_loss: 0.4479 - val_accuracy: 0.8302\n",
            "Epoch 9/200\n",
            "19/19 [==============================] - 5s 252ms/step - loss: 0.4515 - accuracy: 0.8234 - val_loss: 0.4432 - val_accuracy: 0.8302\n",
            "Epoch 10/200\n",
            "19/19 [==============================] - 7s 377ms/step - loss: 0.4482 - accuracy: 0.8234 - val_loss: 0.4385 - val_accuracy: 0.8302\n",
            "Epoch 11/200\n",
            "19/19 [==============================] - 5s 255ms/step - loss: 0.4458 - accuracy: 0.8234 - val_loss: 0.4399 - val_accuracy: 0.8302\n",
            "Epoch 12/200\n",
            "19/19 [==============================] - 5s 261ms/step - loss: 0.4428 - accuracy: 0.8234 - val_loss: 0.4380 - val_accuracy: 0.8302\n",
            "Epoch 13/200\n",
            "19/19 [==============================] - 6s 322ms/step - loss: 0.4455 - accuracy: 0.8234 - val_loss: 0.4361 - val_accuracy: 0.8302\n",
            "Epoch 14/200\n",
            "19/19 [==============================] - 5s 248ms/step - loss: 0.4416 - accuracy: 0.8234 - val_loss: 0.4342 - val_accuracy: 0.8302\n",
            "Epoch 15/200\n",
            "19/19 [==============================] - 7s 391ms/step - loss: 0.4464 - accuracy: 0.8231 - val_loss: 0.4365 - val_accuracy: 0.8302\n",
            "Epoch 16/200\n",
            "19/19 [==============================] - 5s 251ms/step - loss: 0.4415 - accuracy: 0.8234 - val_loss: 0.4329 - val_accuracy: 0.8302\n",
            "Epoch 17/200\n",
            "19/19 [==============================] - 5s 265ms/step - loss: 0.4396 - accuracy: 0.8234 - val_loss: 0.4331 - val_accuracy: 0.8302\n",
            "Epoch 18/200\n",
            "19/19 [==============================] - 6s 325ms/step - loss: 0.4399 - accuracy: 0.8234 - val_loss: 0.4315 - val_accuracy: 0.8302\n",
            "Epoch 19/200\n",
            "19/19 [==============================] - 5s 249ms/step - loss: 0.4400 - accuracy: 0.8236 - val_loss: 0.4296 - val_accuracy: 0.8302\n",
            "Epoch 20/200\n",
            "19/19 [==============================] - 7s 357ms/step - loss: 0.4376 - accuracy: 0.8240 - val_loss: 0.4317 - val_accuracy: 0.8306\n",
            "Epoch 21/200\n",
            "19/19 [==============================] - 5s 240ms/step - loss: 0.4389 - accuracy: 0.8235 - val_loss: 0.4332 - val_accuracy: 0.8306\n",
            "Epoch 22/200\n",
            "19/19 [==============================] - 5s 246ms/step - loss: 0.4382 - accuracy: 0.8235 - val_loss: 0.4306 - val_accuracy: 0.8306\n",
            "Epoch 23/200\n",
            "19/19 [==============================] - 7s 331ms/step - loss: 0.4378 - accuracy: 0.8235 - val_loss: 0.4291 - val_accuracy: 0.8306\n",
            "Epoch 24/200\n",
            "19/19 [==============================] - 5s 260ms/step - loss: 0.4353 - accuracy: 0.8241 - val_loss: 0.4373 - val_accuracy: 0.8302\n",
            "Epoch 25/200\n",
            "19/19 [==============================] - 7s 382ms/step - loss: 0.4429 - accuracy: 0.8236 - val_loss: 0.4320 - val_accuracy: 0.8306\n",
            "Epoch 26/200\n",
            "19/19 [==============================] - 6s 304ms/step - loss: 0.4384 - accuracy: 0.8238 - val_loss: 0.4294 - val_accuracy: 0.8306\n",
            "Epoch 27/200\n",
            "19/19 [==============================] - 7s 362ms/step - loss: 0.4363 - accuracy: 0.8236 - val_loss: 0.4267 - val_accuracy: 0.8306\n",
            "Epoch 28/200\n",
            "19/19 [==============================] - 5s 246ms/step - loss: 0.4386 - accuracy: 0.8235 - val_loss: 0.4317 - val_accuracy: 0.8297\n",
            "Epoch 29/200\n",
            "19/19 [==============================] - 5s 249ms/step - loss: 0.4372 - accuracy: 0.8242 - val_loss: 0.4262 - val_accuracy: 0.8306\n",
            "Epoch 30/200\n",
            "19/19 [==============================] - 7s 371ms/step - loss: 0.4353 - accuracy: 0.8241 - val_loss: 0.4311 - val_accuracy: 0.8306\n",
            "Epoch 31/200\n",
            "19/19 [==============================] - 5s 255ms/step - loss: 0.4359 - accuracy: 0.8240 - val_loss: 0.4248 - val_accuracy: 0.8306\n",
            "Epoch 32/200\n",
            "19/19 [==============================] - 7s 353ms/step - loss: 0.4328 - accuracy: 0.8255 - val_loss: 0.4345 - val_accuracy: 0.8323\n",
            "Epoch 33/200\n",
            "19/19 [==============================] - 5s 258ms/step - loss: 0.4373 - accuracy: 0.8244 - val_loss: 0.4210 - val_accuracy: 0.8310\n",
            "Epoch 34/200\n",
            "19/19 [==============================] - 5s 245ms/step - loss: 0.4318 - accuracy: 0.8245 - val_loss: 0.4151 - val_accuracy: 0.8328\n",
            "Epoch 35/200\n",
            "19/19 [==============================] - 7s 377ms/step - loss: 0.4220 - accuracy: 0.8254 - val_loss: 0.4035 - val_accuracy: 0.8328\n",
            "Epoch 36/200\n",
            "19/19 [==============================] - 5s 242ms/step - loss: 0.4013 - accuracy: 0.8243 - val_loss: 0.3668 - val_accuracy: 0.8431\n",
            "Epoch 37/200\n",
            "19/19 [==============================] - 7s 355ms/step - loss: 0.3919 - accuracy: 0.8273 - val_loss: 0.3564 - val_accuracy: 0.8500\n",
            "Epoch 38/200\n",
            "19/19 [==============================] - 5s 257ms/step - loss: 0.3672 - accuracy: 0.8407 - val_loss: 0.3421 - val_accuracy: 0.8526\n",
            "Epoch 39/200\n",
            "19/19 [==============================] - 5s 242ms/step - loss: 0.3497 - accuracy: 0.8522 - val_loss: 0.3633 - val_accuracy: 0.8116\n",
            "Epoch 40/200\n",
            "19/19 [==============================] - 7s 360ms/step - loss: 0.3410 - accuracy: 0.8567 - val_loss: 0.3188 - val_accuracy: 0.8651\n",
            "Epoch 41/200\n",
            "19/19 [==============================] - 5s 249ms/step - loss: 0.3353 - accuracy: 0.8618 - val_loss: 0.3840 - val_accuracy: 0.8026\n",
            "Epoch 42/200\n",
            "19/19 [==============================] - 7s 349ms/step - loss: 0.6191 - accuracy: 0.7352 - val_loss: 0.5057 - val_accuracy: 0.8233\n",
            "Epoch 43/200\n",
            "19/19 [==============================] - 5s 247ms/step - loss: 0.4784 - accuracy: 0.8238 - val_loss: 0.4367 - val_accuracy: 0.8310\n",
            "Epoch 44/200\n",
            "19/19 [==============================] - 5s 258ms/step - loss: 0.4470 - accuracy: 0.8248 - val_loss: 0.4210 - val_accuracy: 0.8332\n",
            "Epoch 45/200\n",
            "19/19 [==============================] - 7s 370ms/step - loss: 0.4323 - accuracy: 0.8275 - val_loss: 0.4242 - val_accuracy: 0.8336\n",
            "Epoch 46/200\n",
            "19/19 [==============================] - 5s 249ms/step - loss: 0.4339 - accuracy: 0.8274 - val_loss: 0.4185 - val_accuracy: 0.8336\n",
            "Epoch 47/200\n",
            "19/19 [==============================] - 7s 370ms/step - loss: 0.4314 - accuracy: 0.8277 - val_loss: 0.4254 - val_accuracy: 0.8366\n",
            "Epoch 48/200\n",
            "19/19 [==============================] - 5s 251ms/step - loss: 0.4324 - accuracy: 0.8295 - val_loss: 0.4147 - val_accuracy: 0.8358\n",
            "Epoch 49/200\n",
            "19/19 [==============================] - 5s 255ms/step - loss: 0.4269 - accuracy: 0.8302 - val_loss: 0.4143 - val_accuracy: 0.8353\n",
            "Epoch 50/200\n",
            "19/19 [==============================] - 7s 367ms/step - loss: 0.4294 - accuracy: 0.8290 - val_loss: 0.4188 - val_accuracy: 0.8384\n"
          ]
        }
      ],
      "source": [
        "model_LSTM = Sequential()\n",
        "model_LSTM.add(LSTM(50, return_sequences=True, input_shape=(x_train.shape[1], 1)))\n",
        "model_LSTM.add(Dropout(0.2))\n",
        "model_LSTM.add(LSTM(100, return_sequences=False, activation=\"relu\"))\n",
        "model_LSTM.add(Dropout(0.2))\n",
        "model_LSTM.add(Dense(1, activation=\"sigmoid\"))\n",
        "\n",
        "model_LSTM.compile(loss='binary_crossentropy', optimizer='Adam', metrics=[\"accuracy\"])\n",
        "\n",
        "print ('model compiled')\n",
        "\n",
        "callbacks = [keras.callbacks.EarlyStopping(patience=10, restore_best_weights=True)]\n",
        "\n",
        "print (model_LSTM.summary())\n",
        "\n",
        "#Train the model\n",
        "history_LSTM=model_LSTM.fit(x_train, y_train, batch_size=512, epochs=200, validation_data = (x_valid, y_valid), callbacks=callbacks)"
      ]
    },
    {
      "cell_type": "markdown",
      "metadata": {
        "id": "dFothgUaKGkQ"
      },
      "source": [
        "##Evaluation"
      ]
    },
    {
      "cell_type": "code",
      "execution_count": 14,
      "metadata": {
        "colab": {
          "base_uri": "https://localhost:8080/"
        },
        "id": "pYuRxMbDKGkQ",
        "outputId": "1c8c0baa-f341-480f-ae24-687ae5317bcd"
      },
      "outputs": [
        {
          "output_type": "stream",
          "name": "stdout",
          "text": [
            "290/290 [==============================] - 7s 24ms/step\n",
            "73/73 [==============================] - 2s 30ms/step\n",
            "Accuracy (train): 0.8635\n",
            "AUC (train): 0.8221\n",
            "Accuracy (valid): 0.8651\n",
            "AUC (valid): 0.8235\n"
          ]
        }
      ],
      "source": [
        "from sklearn.metrics import roc_auc_score\n",
        "\n",
        "threshold = 0.5\n",
        "\n",
        "y_train_pred = model_LSTM.predict(x_train)\n",
        "# Convert probabilities to binary predictions\n",
        "y_train_pred_binary = (y_train_pred > threshold).astype(int)\n",
        "y_valid_pred = model_LSTM.predict(x_valid)\n",
        "y_valid_pred_binary = (y_valid_pred > threshold).astype(int)\n",
        "\n",
        "from sklearn.metrics import accuracy_score, confusion_matrix, classification_report, roc_curve, auc, roc_auc_score\n",
        "accuracy_train = accuracy_score(y_train, y_train_pred_binary)\n",
        "auc_train = roc_auc_score(y_train, y_train_pred)\n",
        "\n",
        "accuracy_valid = accuracy_score(y_valid, y_valid_pred_binary)\n",
        "auc_valid = roc_auc_score(y_valid, y_valid_pred)\n",
        "\n",
        "print(f'Accuracy (train): {accuracy_train:.4f}')\n",
        "print(f'AUC (train): {auc_train:.4f}')\n",
        "\n",
        "print(f'Accuracy (valid): {accuracy_valid:.4f}')\n",
        "print(f'AUC (valid): {auc_valid:.4f}')"
      ]
    },
    {
      "cell_type": "code",
      "execution_count": 15,
      "metadata": {
        "colab": {
          "base_uri": "https://localhost:8080/"
        },
        "id": "WrmorL0-KGkZ",
        "outputId": "fc8d60ab-adea-4cef-a4dd-7d7ccc4f38b9"
      },
      "outputs": [
        {
          "output_type": "stream",
          "name": "stdout",
          "text": [
            "For training set:\n",
            "Precision: 0.8676\n",
            "Recall: 0.268\n",
            "F1 Score: 0.4095 \n",
            "\n",
            "For validation set:\n",
            "Precision: 0.8462\n",
            "Recall: 0.2513\n",
            "F1 Score: 0.3875\n"
          ]
        }
      ],
      "source": [
        "from sklearn.metrics import precision_score, recall_score, f1_score\n",
        "# Calculate precision, recall, and F1 score\n",
        "precision = precision_score(y_train, y_train_pred_binary, zero_division=1)\n",
        "recall = recall_score(y_train, y_train_pred_binary, zero_division=1)\n",
        "f1 = f1_score(y_train, y_train_pred_binary, zero_division=1)\n",
        "\n",
        "# Print with 4 digits limit\n",
        "print(\"For training set:\")\n",
        "print(\"Precision:\", round(precision, 4))\n",
        "print(\"Recall:\", round(recall, 4))\n",
        "print(\"F1 Score:\", round(f1, 4),\"\\n\")\n",
        "\n",
        "# Calculate precision, recall, and F1 score\n",
        "precision = precision_score(y_valid, y_valid_pred_binary, zero_division=1)\n",
        "recall = recall_score(y_valid, y_valid_pred_binary, zero_division=1)\n",
        "f1 = f1_score(y_valid, y_valid_pred_binary, zero_division=1)\n",
        "\n",
        "# Print with 4 digits limit\n",
        "print(\"For validation set:\")\n",
        "print(\"Precision:\", round(precision, 4))\n",
        "print(\"Recall:\", round(recall, 4))\n",
        "print(\"F1 Score:\", round(f1, 4))"
      ]
    },
    {
      "cell_type": "code",
      "execution_count": 16,
      "metadata": {
        "colab": {
          "base_uri": "https://localhost:8080/"
        },
        "id": "ZRnlfJgwKGkZ",
        "outputId": "1fbbcb3c-1ef6-4cc7-f223-898b731027b2"
      },
      "outputs": [
        {
          "output_type": "stream",
          "name": "stdout",
          "text": [
            "92/92 [==============================] - 2s 24ms/step\n"
          ]
        }
      ],
      "source": [
        "y_test_pred = model_LSTM.predict(x_test)\n",
        "y_test_pred_binary = (y_test_pred > threshold).astype(int)"
      ]
    },
    {
      "cell_type": "code",
      "execution_count": 19,
      "metadata": {
        "colab": {
          "base_uri": "https://localhost:8080/",
          "height": 17
        },
        "id": "JfyJ6xY0KGkg",
        "outputId": "2e77222f-3345-4b66-e32e-880adcd99ee7"
      },
      "outputs": [
        {
          "output_type": "display_data",
          "data": {
            "text/plain": [
              "<IPython.core.display.Javascript object>"
            ],
            "application/javascript": [
              "\n",
              "    async function download(id, filename, size) {\n",
              "      if (!google.colab.kernel.accessAllowed) {\n",
              "        return;\n",
              "      }\n",
              "      const div = document.createElement('div');\n",
              "      const label = document.createElement('label');\n",
              "      label.textContent = `Downloading \"${filename}\": `;\n",
              "      div.appendChild(label);\n",
              "      const progress = document.createElement('progress');\n",
              "      progress.max = size;\n",
              "      div.appendChild(progress);\n",
              "      document.body.appendChild(div);\n",
              "\n",
              "      const buffers = [];\n",
              "      let downloaded = 0;\n",
              "\n",
              "      const channel = await google.colab.kernel.comms.open(id);\n",
              "      // Send a message to notify the kernel that we're ready.\n",
              "      channel.send({})\n",
              "\n",
              "      for await (const message of channel.messages) {\n",
              "        // Send a message to notify the kernel that we're ready.\n",
              "        channel.send({})\n",
              "        if (message.buffers) {\n",
              "          for (const buffer of message.buffers) {\n",
              "            buffers.push(buffer);\n",
              "            downloaded += buffer.byteLength;\n",
              "            progress.value = downloaded;\n",
              "          }\n",
              "        }\n",
              "      }\n",
              "      const blob = new Blob(buffers, {type: 'application/binary'});\n",
              "      const a = document.createElement('a');\n",
              "      a.href = window.URL.createObjectURL(blob);\n",
              "      a.download = filename;\n",
              "      div.appendChild(a);\n",
              "      a.click();\n",
              "      div.remove();\n",
              "    }\n",
              "  "
            ]
          },
          "metadata": {}
        },
        {
          "output_type": "display_data",
          "data": {
            "text/plain": [
              "<IPython.core.display.Javascript object>"
            ],
            "application/javascript": [
              "download(\"download_ecdc6a40-d06b-4cd5-ab20-8e5614fd6e01\", \"predictions.csv\", 58748)"
            ]
          },
          "metadata": {}
        }
      ],
      "source": [
        "# Assuming y_test_pred_binary is a numpy array\n",
        "predictions_df = pd.DataFrame(y_test_pred_binary, columns=['readmitted_within_30days'])\n",
        "merged_df = test[['id']].merge(predictions_df, left_index=True, right_index=True)\n",
        "merged_df.to_csv('predictions.csv', index=False)\n",
        "\n",
        "from google.colab import files\n",
        "files.download('predictions.csv')"
      ]
    },
    {
      "cell_type": "markdown",
      "metadata": {
        "id": "zfYGf5E0n9Vx"
      },
      "source": [
        "# GRU"
      ]
    },
    {
      "cell_type": "code",
      "execution_count": 20,
      "metadata": {
        "colab": {
          "base_uri": "https://localhost:8080/"
        },
        "id": "xpfs6oajn9Vx",
        "outputId": "9b176b63-b1f4-4f85-c443-3a2918e8d253"
      },
      "outputs": [
        {
          "output_type": "stream",
          "name": "stderr",
          "text": [
            "WARNING:tensorflow:Layer gru_3 will not use cuDNN kernels since it doesn't meet the criteria. It will use a generic GPU kernel as fallback when running on GPU.\n"
          ]
        },
        {
          "output_type": "stream",
          "name": "stdout",
          "text": [
            "model compiled\n",
            "Model: \"sequential_6\"\n",
            "_________________________________________________________________\n",
            " Layer (type)                Output Shape              Param #   \n",
            "=================================================================\n",
            " gru_2 (GRU)                 (None, 150, 50)           7950      \n",
            "                                                                 \n",
            " dropout_6 (Dropout)         (None, 150, 50)           0         \n",
            "                                                                 \n",
            " gru_3 (GRU)                 (None, 64)                22272     \n",
            "                                                                 \n",
            " dropout_7 (Dropout)         (None, 64)                0         \n",
            "                                                                 \n",
            " dense_3 (Dense)             (None, 1)                 65        \n",
            "                                                                 \n",
            "=================================================================\n",
            "Total params: 30287 (118.31 KB)\n",
            "Trainable params: 30287 (118.31 KB)\n",
            "Non-trainable params: 0 (0.00 Byte)\n",
            "_________________________________________________________________\n",
            "None\n",
            "Epoch 1/200\n",
            "19/19 [==============================] - 11s 442ms/step - loss: 0.6168 - accuracy: 0.8049 - val_loss: 0.4869 - val_accuracy: 0.8302\n",
            "Epoch 2/200\n",
            "19/19 [==============================] - 6s 309ms/step - loss: 0.4622 - accuracy: 0.8233 - val_loss: 0.4466 - val_accuracy: 0.8302\n",
            "Epoch 3/200\n",
            "19/19 [==============================] - 10s 532ms/step - loss: 0.4496 - accuracy: 0.8234 - val_loss: 0.4400 - val_accuracy: 0.8302\n",
            "Epoch 4/200\n",
            "19/19 [==============================] - 6s 318ms/step - loss: 0.4476 - accuracy: 0.8234 - val_loss: 0.4396 - val_accuracy: 0.8302\n",
            "Epoch 5/200\n",
            "19/19 [==============================] - 8s 416ms/step - loss: 0.4483 - accuracy: 0.8234 - val_loss: 0.4412 - val_accuracy: 0.8302\n",
            "Epoch 6/200\n",
            "19/19 [==============================] - 6s 297ms/step - loss: 0.4493 - accuracy: 0.8234 - val_loss: 0.4392 - val_accuracy: 0.8302\n",
            "Epoch 7/200\n",
            "19/19 [==============================] - 8s 407ms/step - loss: 0.4457 - accuracy: 0.8233 - val_loss: 0.4381 - val_accuracy: 0.8302\n",
            "Epoch 8/200\n",
            "19/19 [==============================] - 6s 305ms/step - loss: 0.4458 - accuracy: 0.8233 - val_loss: 0.4379 - val_accuracy: 0.8302\n",
            "Epoch 9/200\n",
            "19/19 [==============================] - 8s 433ms/step - loss: 0.4457 - accuracy: 0.8240 - val_loss: 0.4377 - val_accuracy: 0.8302\n",
            "Epoch 10/200\n",
            "19/19 [==============================] - 6s 306ms/step - loss: 0.4467 - accuracy: 0.8233 - val_loss: 0.4367 - val_accuracy: 0.8297\n",
            "Epoch 11/200\n",
            "19/19 [==============================] - 8s 414ms/step - loss: 0.4465 - accuracy: 0.8236 - val_loss: 0.4364 - val_accuracy: 0.8302\n",
            "Epoch 12/200\n",
            "19/19 [==============================] - 6s 314ms/step - loss: 0.4448 - accuracy: 0.8237 - val_loss: 0.4358 - val_accuracy: 0.8302\n",
            "Epoch 13/200\n",
            "19/19 [==============================] - 8s 424ms/step - loss: 0.4459 - accuracy: 0.8230 - val_loss: 0.4371 - val_accuracy: 0.8302\n",
            "Epoch 14/200\n",
            "19/19 [==============================] - 6s 297ms/step - loss: 0.4462 - accuracy: 0.8234 - val_loss: 0.4373 - val_accuracy: 0.8297\n",
            "Epoch 15/200\n",
            "19/19 [==============================] - 8s 428ms/step - loss: 0.4457 - accuracy: 0.8234 - val_loss: 0.4359 - val_accuracy: 0.8302\n",
            "Epoch 16/200\n",
            "19/19 [==============================] - 5s 290ms/step - loss: 0.4444 - accuracy: 0.8237 - val_loss: 0.4370 - val_accuracy: 0.8297\n",
            "Epoch 17/200\n",
            "19/19 [==============================] - 8s 405ms/step - loss: 0.4451 - accuracy: 0.8238 - val_loss: 0.4349 - val_accuracy: 0.8306\n",
            "Epoch 18/200\n",
            "19/19 [==============================] - 6s 304ms/step - loss: 0.4443 - accuracy: 0.8242 - val_loss: 0.4353 - val_accuracy: 0.8293\n",
            "Epoch 19/200\n",
            "19/19 [==============================] - 7s 378ms/step - loss: 0.4438 - accuracy: 0.8230 - val_loss: 0.4362 - val_accuracy: 0.8302\n",
            "Epoch 20/200\n",
            "19/19 [==============================] - 6s 317ms/step - loss: 0.4429 - accuracy: 0.8245 - val_loss: 0.4346 - val_accuracy: 0.8289\n",
            "Epoch 21/200\n",
            "19/19 [==============================] - 7s 367ms/step - loss: 0.4442 - accuracy: 0.8243 - val_loss: 0.4352 - val_accuracy: 0.8289\n",
            "Epoch 22/200\n",
            "19/19 [==============================] - 6s 318ms/step - loss: 0.4437 - accuracy: 0.8238 - val_loss: 0.4354 - val_accuracy: 0.8289\n",
            "Epoch 23/200\n",
            "19/19 [==============================] - 6s 321ms/step - loss: 0.4455 - accuracy: 0.8229 - val_loss: 0.4351 - val_accuracy: 0.8284\n",
            "Epoch 24/200\n",
            "19/19 [==============================] - 7s 377ms/step - loss: 0.4443 - accuracy: 0.8234 - val_loss: 0.4342 - val_accuracy: 0.8306\n",
            "Epoch 25/200\n",
            "19/19 [==============================] - 6s 342ms/step - loss: 0.4432 - accuracy: 0.8230 - val_loss: 0.4351 - val_accuracy: 0.8297\n",
            "Epoch 26/200\n",
            "19/19 [==============================] - 8s 380ms/step - loss: 0.4424 - accuracy: 0.8242 - val_loss: 0.4332 - val_accuracy: 0.8306\n",
            "Epoch 27/200\n",
            "19/19 [==============================] - 6s 306ms/step - loss: 0.4441 - accuracy: 0.8264 - val_loss: 0.4340 - val_accuracy: 0.8310\n",
            "Epoch 28/200\n",
            "19/19 [==============================] - 8s 389ms/step - loss: 0.4437 - accuracy: 0.8246 - val_loss: 0.4359 - val_accuracy: 0.8310\n",
            "Epoch 29/200\n",
            "19/19 [==============================] - 6s 300ms/step - loss: 0.4430 - accuracy: 0.8240 - val_loss: 0.4334 - val_accuracy: 0.8297\n",
            "Epoch 30/200\n",
            "19/19 [==============================] - 8s 417ms/step - loss: 0.4411 - accuracy: 0.8237 - val_loss: 0.4326 - val_accuracy: 0.8297\n",
            "Epoch 31/200\n",
            "19/19 [==============================] - 6s 308ms/step - loss: 0.4425 - accuracy: 0.8249 - val_loss: 0.4334 - val_accuracy: 0.8336\n",
            "Epoch 32/200\n",
            "19/19 [==============================] - 8s 416ms/step - loss: 0.4418 - accuracy: 0.8244 - val_loss: 0.4325 - val_accuracy: 0.8306\n",
            "Epoch 33/200\n",
            "19/19 [==============================] - 6s 306ms/step - loss: 0.4415 - accuracy: 0.8243 - val_loss: 0.4328 - val_accuracy: 0.8284\n",
            "Epoch 34/200\n",
            "19/19 [==============================] - 8s 402ms/step - loss: 0.4401 - accuracy: 0.8241 - val_loss: 0.4327 - val_accuracy: 0.8297\n",
            "Epoch 35/200\n",
            "19/19 [==============================] - 6s 303ms/step - loss: 0.4412 - accuracy: 0.8243 - val_loss: 0.4329 - val_accuracy: 0.8293\n",
            "Epoch 36/200\n",
            "19/19 [==============================] - 8s 410ms/step - loss: 0.4421 - accuracy: 0.8247 - val_loss: 0.4322 - val_accuracy: 0.8310\n",
            "Epoch 37/200\n",
            "19/19 [==============================] - 6s 300ms/step - loss: 0.4413 - accuracy: 0.8245 - val_loss: 0.4328 - val_accuracy: 0.8302\n",
            "Epoch 38/200\n",
            "19/19 [==============================] - 8s 420ms/step - loss: 0.4414 - accuracy: 0.8240 - val_loss: 0.4321 - val_accuracy: 0.8289\n",
            "Epoch 39/200\n",
            "19/19 [==============================] - 6s 294ms/step - loss: 0.4422 - accuracy: 0.8243 - val_loss: 0.4335 - val_accuracy: 0.8302\n",
            "Epoch 40/200\n",
            "19/19 [==============================] - 8s 416ms/step - loss: 0.4411 - accuracy: 0.8246 - val_loss: 0.4317 - val_accuracy: 0.8293\n",
            "Epoch 41/200\n",
            "19/19 [==============================] - 6s 301ms/step - loss: 0.4402 - accuracy: 0.8243 - val_loss: 0.4331 - val_accuracy: 0.8302\n",
            "Epoch 42/200\n",
            "19/19 [==============================] - 8s 425ms/step - loss: 0.4418 - accuracy: 0.8259 - val_loss: 0.4328 - val_accuracy: 0.8293\n",
            "Epoch 43/200\n",
            "19/19 [==============================] - 6s 306ms/step - loss: 0.4417 - accuracy: 0.8251 - val_loss: 0.4316 - val_accuracy: 0.8293\n",
            "Epoch 44/200\n",
            "19/19 [==============================] - 8s 427ms/step - loss: 0.4414 - accuracy: 0.8244 - val_loss: 0.4317 - val_accuracy: 0.8297\n",
            "Epoch 45/200\n",
            "19/19 [==============================] - 6s 313ms/step - loss: 0.4416 - accuracy: 0.8243 - val_loss: 0.4323 - val_accuracy: 0.8306\n",
            "Epoch 46/200\n",
            "19/19 [==============================] - 8s 412ms/step - loss: 0.4411 - accuracy: 0.8260 - val_loss: 0.4316 - val_accuracy: 0.8293\n",
            "Epoch 47/200\n",
            "19/19 [==============================] - 6s 307ms/step - loss: 0.4401 - accuracy: 0.8240 - val_loss: 0.4315 - val_accuracy: 0.8306\n",
            "Epoch 48/200\n",
            "19/19 [==============================] - 8s 407ms/step - loss: 0.4399 - accuracy: 0.8252 - val_loss: 0.4320 - val_accuracy: 0.8310\n",
            "Epoch 49/200\n",
            "19/19 [==============================] - 6s 310ms/step - loss: 0.4406 - accuracy: 0.8246 - val_loss: 0.4314 - val_accuracy: 0.8293\n",
            "Epoch 50/200\n",
            "19/19 [==============================] - 8s 400ms/step - loss: 0.4410 - accuracy: 0.8254 - val_loss: 0.4316 - val_accuracy: 0.8310\n",
            "Epoch 51/200\n",
            "19/19 [==============================] - 6s 301ms/step - loss: 0.4407 - accuracy: 0.8251 - val_loss: 0.4317 - val_accuracy: 0.8306\n",
            "Epoch 52/200\n",
            "19/19 [==============================] - 8s 412ms/step - loss: 0.4403 - accuracy: 0.8252 - val_loss: 0.4309 - val_accuracy: 0.8302\n",
            "Epoch 53/200\n",
            "19/19 [==============================] - 6s 303ms/step - loss: 0.4397 - accuracy: 0.8255 - val_loss: 0.4307 - val_accuracy: 0.8306\n",
            "Epoch 54/200\n",
            "19/19 [==============================] - 8s 420ms/step - loss: 0.4418 - accuracy: 0.8246 - val_loss: 0.4307 - val_accuracy: 0.8306\n",
            "Epoch 55/200\n",
            "19/19 [==============================] - 6s 308ms/step - loss: 0.4397 - accuracy: 0.8248 - val_loss: 0.4315 - val_accuracy: 0.8315\n",
            "Epoch 56/200\n",
            "19/19 [==============================] - 7s 378ms/step - loss: 0.4408 - accuracy: 0.8254 - val_loss: 0.4306 - val_accuracy: 0.8297\n",
            "Epoch 57/200\n",
            "19/19 [==============================] - 6s 318ms/step - loss: 0.4404 - accuracy: 0.8243 - val_loss: 0.4316 - val_accuracy: 0.8302\n",
            "Epoch 58/200\n",
            "19/19 [==============================] - 8s 416ms/step - loss: 0.4403 - accuracy: 0.8260 - val_loss: 0.4311 - val_accuracy: 0.8297\n",
            "Epoch 59/200\n",
            "19/19 [==============================] - 6s 296ms/step - loss: 0.4414 - accuracy: 0.8248 - val_loss: 0.4313 - val_accuracy: 0.8297\n",
            "Epoch 60/200\n",
            "19/19 [==============================] - 9s 472ms/step - loss: 0.4402 - accuracy: 0.8251 - val_loss: 0.4315 - val_accuracy: 0.8293\n",
            "Epoch 61/200\n",
            "19/19 [==============================] - 7s 331ms/step - loss: 0.4410 - accuracy: 0.8251 - val_loss: 0.4316 - val_accuracy: 0.8302\n",
            "Epoch 62/200\n",
            "19/19 [==============================] - 7s 348ms/step - loss: 0.4393 - accuracy: 0.8247 - val_loss: 0.4313 - val_accuracy: 0.8297\n",
            "Epoch 63/200\n",
            "19/19 [==============================] - 7s 355ms/step - loss: 0.4394 - accuracy: 0.8251 - val_loss: 0.4311 - val_accuracy: 0.8297\n",
            "Epoch 64/200\n",
            "19/19 [==============================] - 6s 315ms/step - loss: 0.4401 - accuracy: 0.8257 - val_loss: 0.4303 - val_accuracy: 0.8310\n",
            "Epoch 65/200\n",
            "19/19 [==============================] - 7s 371ms/step - loss: 0.4405 - accuracy: 0.8248 - val_loss: 0.4311 - val_accuracy: 0.8297\n",
            "Epoch 66/200\n",
            "19/19 [==============================] - 6s 307ms/step - loss: 0.4396 - accuracy: 0.8247 - val_loss: 0.4330 - val_accuracy: 0.8302\n",
            "Epoch 67/200\n",
            "19/19 [==============================] - 8s 392ms/step - loss: 0.4411 - accuracy: 0.8266 - val_loss: 0.4306 - val_accuracy: 0.8315\n",
            "Epoch 68/200\n",
            "19/19 [==============================] - 6s 295ms/step - loss: 0.4394 - accuracy: 0.8258 - val_loss: 0.4307 - val_accuracy: 0.8315\n",
            "Epoch 69/200\n",
            "19/19 [==============================] - 8s 420ms/step - loss: 0.4391 - accuracy: 0.8255 - val_loss: 0.4305 - val_accuracy: 0.8306\n",
            "Epoch 70/200\n",
            "19/19 [==============================] - 6s 303ms/step - loss: 0.4382 - accuracy: 0.8261 - val_loss: 0.4307 - val_accuracy: 0.8306\n",
            "Epoch 71/200\n",
            "19/19 [==============================] - 8s 425ms/step - loss: 0.4396 - accuracy: 0.8259 - val_loss: 0.4310 - val_accuracy: 0.8315\n",
            "Epoch 72/200\n",
            "19/19 [==============================] - 6s 321ms/step - loss: 0.4388 - accuracy: 0.8246 - val_loss: 0.4309 - val_accuracy: 0.8302\n",
            "Epoch 73/200\n",
            "19/19 [==============================] - 8s 407ms/step - loss: 0.4398 - accuracy: 0.8254 - val_loss: 0.4305 - val_accuracy: 0.8306\n",
            "Epoch 74/200\n",
            "19/19 [==============================] - 6s 306ms/step - loss: 0.4392 - accuracy: 0.8256 - val_loss: 0.4297 - val_accuracy: 0.8297\n",
            "Epoch 75/200\n",
            "19/19 [==============================] - 8s 418ms/step - loss: 0.4391 - accuracy: 0.8246 - val_loss: 0.4299 - val_accuracy: 0.8306\n",
            "Epoch 76/200\n",
            "19/19 [==============================] - 6s 315ms/step - loss: 0.4378 - accuracy: 0.8256 - val_loss: 0.4311 - val_accuracy: 0.8310\n",
            "Epoch 77/200\n",
            "19/19 [==============================] - 8s 420ms/step - loss: 0.4389 - accuracy: 0.8252 - val_loss: 0.4297 - val_accuracy: 0.8310\n",
            "Epoch 78/200\n",
            "19/19 [==============================] - 6s 297ms/step - loss: 0.4393 - accuracy: 0.8258 - val_loss: 0.4305 - val_accuracy: 0.8306\n",
            "Epoch 79/200\n",
            "19/19 [==============================] - 8s 415ms/step - loss: 0.4395 - accuracy: 0.8257 - val_loss: 0.4303 - val_accuracy: 0.8306\n",
            "Epoch 80/200\n",
            "19/19 [==============================] - 6s 318ms/step - loss: 0.4379 - accuracy: 0.8259 - val_loss: 0.4312 - val_accuracy: 0.8293\n",
            "Epoch 81/200\n",
            "19/19 [==============================] - 8s 426ms/step - loss: 0.4383 - accuracy: 0.8260 - val_loss: 0.4312 - val_accuracy: 0.8293\n",
            "Epoch 82/200\n",
            "19/19 [==============================] - 6s 315ms/step - loss: 0.4379 - accuracy: 0.8261 - val_loss: 0.4329 - val_accuracy: 0.8306\n",
            "Epoch 83/200\n",
            "19/19 [==============================] - 8s 417ms/step - loss: 0.4367 - accuracy: 0.8277 - val_loss: 0.4313 - val_accuracy: 0.8306\n",
            "Epoch 84/200\n",
            "19/19 [==============================] - 6s 308ms/step - loss: 0.4368 - accuracy: 0.8268 - val_loss: 0.4311 - val_accuracy: 0.8302\n",
            "Epoch 85/200\n",
            "19/19 [==============================] - 8s 412ms/step - loss: 0.4384 - accuracy: 0.8264 - val_loss: 0.4315 - val_accuracy: 0.8315\n",
            "Epoch 86/200\n",
            "19/19 [==============================] - 6s 309ms/step - loss: 0.4386 - accuracy: 0.8266 - val_loss: 0.4304 - val_accuracy: 0.8306\n",
            "Epoch 87/200\n",
            "19/19 [==============================] - 8s 406ms/step - loss: 0.4373 - accuracy: 0.8259 - val_loss: 0.4303 - val_accuracy: 0.8306\n"
          ]
        }
      ],
      "source": [
        "model_GRU = Sequential()\n",
        "model_GRU.add(GRU(50, return_sequences=True, input_shape=(x_train.shape[1],1)))\n",
        "model_GRU.add(Dropout(0.2))\n",
        "model_GRU.add(GRU(64, return_sequences=False, activation='relu'))\n",
        "model_GRU.add(Dropout(0.2))\n",
        "model_GRU.add(Dense(1, activation = \"sigmoid\"))\n",
        "\n",
        "model_GRU.compile(loss='binary_crossentropy', optimizer='Adam', metrics=[\"accuracy\"])\n",
        "\n",
        "print('model compiled')\n",
        "\n",
        "callbacks = [keras.callbacks.EarlyStopping(patience=10, restore_best_weights=True)]\n",
        "\n",
        "print(model_GRU.summary())\n",
        "\n",
        "#Train the model\n",
        "history_GRU=model_GRU.fit(x_train, y_train, batch_size=512, epochs=200, validation_data = (x_valid, y_valid), callbacks=callbacks)"
      ]
    },
    {
      "cell_type": "code",
      "execution_count": 21,
      "metadata": {
        "colab": {
          "base_uri": "https://localhost:8080/",
          "height": 891
        },
        "id": "lDCUkhBFk_-i",
        "outputId": "167c1dc1-a47b-4ab4-ac79-67325b47ba0b"
      },
      "outputs": [
        {
          "output_type": "display_data",
          "data": {
            "text/plain": [
              "<Figure size 640x480 with 1 Axes>"
            ],
            "image/png": "[encoded data removed]"
          },
          "metadata": {}
        },
        {
          "output_type": "display_data",
          "data": {
            "text/plain": [
              "<Figure size 640x480 with 1 Axes>"
            ],
            "image/png": "[encoded data removed]"
          },
          "metadata": {}
        }
      ],
      "source": [
        "import matplotlib.pyplot as plt\n",
        "\n",
        "# Plot the training and validation accuracy over epochs\n",
        "plt.plot(history_GRU.history['accuracy'], label='Training Accuracy')\n",
        "plt.plot(history_GRU.history['val_accuracy'], label='Validation Accuracy')\n",
        "plt.xlabel('Epoch')\n",
        "plt.ylabel('Accuracy')\n",
        "plt.ylim([0, 1])\n",
        "plt.legend(loc='lower right')\n",
        "plt.show()\n",
        "\n",
        "# Plot the training and validation loss over epochs\n",
        "plt.plot(history_GRU.history['loss'], label='Training Loss')\n",
        "plt.plot(history_GRU.history['val_loss'], label='Validation Loss')\n",
        "plt.xlabel('Epoch')\n",
        "plt.ylabel('Loss')\n",
        "plt.legend(loc='upper right')\n",
        "plt.show()"
      ]
    },
    {
      "cell_type": "markdown",
      "metadata": {
        "id": "V1p29Vj-Kigk"
      },
      "source": [
        "##Evaluation"
      ]
    },
    {
      "cell_type": "code",
      "execution_count": 22,
      "metadata": {
        "colab": {
          "base_uri": "https://localhost:8080/"
        },
        "id": "rYJrSPYRKigs",
        "outputId": "babdbddf-ef0b-40a6-9af1-a0c2eb88fbd2"
      },
      "outputs": [
        {
          "output_type": "stream",
          "name": "stdout",
          "text": [
            "290/290 [==============================] - 9s 31ms/step\n",
            "73/73 [==============================] - 2s 27ms/step\n",
            "Accuracy (train): 0.8266\n",
            "AUC (train): 0.6727\n",
            "Accuracy (valid): 0.8310\n",
            "AUC (valid): 0.6645\n"
          ]
        }
      ],
      "source": [
        "from sklearn.metrics import roc_auc_score\n",
        "\n",
        "threshold = 0.5\n",
        "\n",
        "y_train_pred = model_GRU.predict(x_train)\n",
        "# Convert probabilities to binary predictions\n",
        "y_train_pred_binary = (y_train_pred > threshold).astype(int)\n",
        "y_valid_pred = model_GRU.predict(x_valid)\n",
        "y_valid_pred_binary = (y_valid_pred > threshold).astype(int)\n",
        "\n",
        "from sklearn.metrics import accuracy_score, confusion_matrix, classification_report, roc_curve, auc, roc_auc_score\n",
        "accuracy_train = accuracy_score(y_train, y_train_pred_binary)\n",
        "auc_train = roc_auc_score(y_train, y_train_pred)\n",
        "\n",
        "accuracy_valid = accuracy_score(y_valid, y_valid_pred_binary)\n",
        "auc_valid = roc_auc_score(y_valid, y_valid_pred)\n",
        "\n",
        "print(f'Accuracy (train): {accuracy_train:.4f}')\n",
        "print(f'AUC (train): {auc_train:.4f}')\n",
        "\n",
        "print(f'Accuracy (valid): {accuracy_valid:.4f}')\n",
        "print(f'AUC (valid): {auc_valid:.4f}')"
      ]
    },
    {
      "cell_type": "code",
      "execution_count": 23,
      "metadata": {
        "colab": {
          "base_uri": "https://localhost:8080/"
        },
        "id": "zg9ANRH6Kigs",
        "outputId": "7ea0d57d-12b1-46f2-deb5-5786dabff9ac"
      },
      "outputs": [
        {
          "output_type": "stream",
          "name": "stdout",
          "text": [
            "For training set:\n",
            "Precision: 0.6667\n",
            "Recall: 0.0366\n",
            "F1 Score: 0.0694 \n",
            "\n",
            "For validation set:\n",
            "Precision: 0.5312\n",
            "Recall: 0.0431\n",
            "F1 Score: 0.0798\n"
          ]
        }
      ],
      "source": [
        "from sklearn.metrics import precision_score, recall_score, f1_score\n",
        "# Calculate precision, recall, and F1 score\n",
        "precision = precision_score(y_train, y_train_pred_binary, zero_division=1)\n",
        "recall = recall_score(y_train, y_train_pred_binary, zero_division=1)\n",
        "f1 = f1_score(y_train, y_train_pred_binary, zero_division=1)\n",
        "\n",
        "# Print with 4 digits limit\n",
        "print(\"For training set:\")\n",
        "print(\"Precision:\", round(precision, 4))\n",
        "print(\"Recall:\", round(recall, 4))\n",
        "print(\"F1 Score:\", round(f1, 4),\"\\n\")\n",
        "\n",
        "# Calculate precision, recall, and F1 score\n",
        "precision = precision_score(y_valid, y_valid_pred_binary, zero_division=1)\n",
        "recall = recall_score(y_valid, y_valid_pred_binary, zero_division=1)\n",
        "f1 = f1_score(y_valid, y_valid_pred_binary, zero_division=1)\n",
        "\n",
        "# Print with 4 digits limit\n",
        "print(\"For validation set:\")\n",
        "print(\"Precision:\", round(precision, 4))\n",
        "print(\"Recall:\", round(recall, 4))\n",
        "print(\"F1 Score:\", round(f1, 4))"
      ]
    },
    {
      "cell_type": "code",
      "execution_count": 24,
      "metadata": {
        "colab": {
          "base_uri": "https://localhost:8080/"
        },
        "id": "9toVafWGKigt",
        "outputId": "693e9ec0-cfeb-4721-935e-e0c3a98f0722"
      },
      "outputs": [
        {
          "output_type": "stream",
          "name": "stdout",
          "text": [
            "92/92 [==============================] - 2s 26ms/step\n"
          ]
        }
      ],
      "source": [
        "y_test_pred = model_GRU.predict(x_test)\n",
        "y_test_pred_binary = (y_test_pred > threshold).astype(int)"
      ]
    },
    {
      "cell_type": "code",
      "execution_count": 27,
      "metadata": {
        "colab": {
          "base_uri": "https://localhost:8080/",
          "height": 17
        },
        "id": "tUxRN4J9Kigt",
        "outputId": "71b8d479-1662-44a4-a281-e1c095a84428"
      },
      "outputs": [
        {
          "output_type": "display_data",
          "data": {
            "text/plain": [
              "<IPython.core.display.Javascript object>"
            ],
            "application/javascript": [
              "\n",
              "    async function download(id, filename, size) {\n",
              "      if (!google.colab.kernel.accessAllowed) {\n",
              "        return;\n",
              "      }\n",
              "      const div = document.createElement('div');\n",
              "      const label = document.createElement('label');\n",
              "      label.textContent = `Downloading \"${filename}\": `;\n",
              "      div.appendChild(label);\n",
              "      const progress = document.createElement('progress');\n",
              "      progress.max = size;\n",
              "      div.appendChild(progress);\n",
              "      document.body.appendChild(div);\n",
              "\n",
              "      const buffers = [];\n",
              "      let downloaded = 0;\n",
              "\n",
              "      const channel = await google.colab.kernel.comms.open(id);\n",
              "      // Send a message to notify the kernel that we're ready.\n",
              "      channel.send({})\n",
              "\n",
              "      for await (const message of channel.messages) {\n",
              "        // Send a message to notify the kernel that we're ready.\n",
              "        channel.send({})\n",
              "        if (message.buffers) {\n",
              "          for (const buffer of message.buffers) {\n",
              "            buffers.push(buffer);\n",
              "            downloaded += buffer.byteLength;\n",
              "            progress.value = downloaded;\n",
              "          }\n",
              "        }\n",
              "      }\n",
              "      const blob = new Blob(buffers, {type: 'application/binary'});\n",
              "      const a = document.createElement('a');\n",
              "      a.href = window.URL.createObjectURL(blob);\n",
              "      a.download = filename;\n",
              "      div.appendChild(a);\n",
              "      a.click();\n",
              "      div.remove();\n",
              "    }\n",
              "  "
            ]
          },
          "metadata": {}
        },
        {
          "output_type": "display_data",
          "data": {
            "text/plain": [
              "<IPython.core.display.Javascript object>"
            ],
            "application/javascript": [
              "download(\"download_0caa19ae-3eca-4005-8d52-2a7dbca280d0\", \"predictions.csv\", 58748)"
            ]
          },
          "metadata": {}
        }
      ],
      "source": [
        "# Assuming y_test_pred_binary is a numpy array\n",
        "predictions_df = pd.DataFrame(y_test_pred_binary, columns=['readmitted_within_30days'])\n",
        "merged_df = test[['id']].merge(predictions_df, left_index=True, right_index=True)\n",
        "merged_df.to_csv('predictions.csv', index=False)\n",
        "\n",
        "from google.colab import files\n",
        "files.download('predictions.csv')"
      ]
    }
  ],
  "metadata": {
    "accelerator": "GPU",
    "colab": {
      "provenance": [],
      "toc_visible": true,
      "include_colab_link": true
    },
    "kernelspec": {
      "display_name": "Python 3",
      "name": "python3"
    },
    "language_info": {
      "codemirror_mode": {
        "name": "ipython",
        "version": 3
      },
      "file_extension": ".py",
      "mimetype": "text/x-python",
      "name": "python",
      "nbconvert_exporter": "python",
      "pygments_lexer": "ipython3",
      "version": "3.7.0"
    }
  },
  "nbformat": 4,
  "nbformat_minor": 0
}
