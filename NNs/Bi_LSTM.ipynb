{
  "cells": [
    {
      "cell_type": "markdown",
      "metadata": {
        "id": "fFipp7tAAVxh"
      },
      "source": [
        "**Description:** This notebook demonstrates how to do timeseries classification using RNN models (Simple RNN, LSTM, and GRU).\n",
        "\n",
        "Reference: https://www.kaggle.com/code/thebrownviking20/intro-to-recurrent-neural-networks-lstm-gru/notebook"
      ]
    },
    {
      "cell_type": "markdown",
      "metadata": {
        "id": "ll7UTtsyAVxj"
      },
      "source": [
        "## Load the dataset"
      ]
    },
    {
      "cell_type": "code",
      "source": [
        "import pandas as pd\n",
        "import requests\n",
        "from io import StringIO\n",
        "import numpy as np\n",
        "from sklearn.model_selection import train_test_split"
      ],
      "metadata": {
        "id": "Sy00dPEDE-46"
      },
      "execution_count": null,
      "outputs": []
    },
    {
      "cell_type": "code",
      "execution_count": null,
      "metadata": {
        "id": "U-qy06BXAVxk"
      },
      "outputs": [],
      "source": [
        "# combined data\n",
        "# load processed data\n",
        "train_mean = pd.read_csv('https://raw.githubusercontent.com/zxyao5148/STAT3612_2023_1A_GroupProject/main/data_processing/train/train_valid_mean_mode.csv')\n",
        "train_latest = pd.read_csv('https://raw.githubusercontent.com/zxyao5148/STAT3612_2023_1A_GroupProject/main/data_processing/train/train_valid_latest.csv')\n",
        "train_dispers = pd.read_csv('https://raw.githubusercontent.com/zxyao5148/STAT3612_2023_1A_GroupProject/main/data_processing/train/train_valid_entropy_std.csv')\n",
        "train_min = pd.read_csv('https://raw.githubusercontent.com/zxyao5148/STAT3612_2023_1A_GroupProject/main/data_processing/train/train_valid_min.csv')\n",
        "train_max = pd.read_csv('https://raw.githubusercontent.com/zxyao5148/STAT3612_2023_1A_GroupProject/main/data_processing/train/train_valid_max.csv')\n",
        "train_q1 = pd.read_csv('https://raw.githubusercontent.com/zxyao5148/STAT3612_2023_1A_GroupProject/main/data_processing/train/train_valid_q1.csv')\n",
        "train_q3 = pd.read_csv('https://raw.githubusercontent.com/zxyao5148/STAT3612_2023_1A_GroupProject/main/data_processing/train/train_valid_q3.csv')\n",
        "train_kurtosis = pd.read_csv('https://raw.githubusercontent.com/zxyao5148/STAT3612_2023_1A_GroupProject/main/data_processing/train/train_valid_kurtosis.csv')\n",
        "train_skewness = pd.read_csv('https://raw.githubusercontent.com/zxyao5148/STAT3612_2023_1A_GroupProject/main/data_processing/train/train_valid_skewness.csv')\n",
        "train_range = pd.read_csv('https://raw.githubusercontent.com/zxyao5148/STAT3612_2023_1A_GroupProject/main/data_processing/train/train_valid_range.csv')\n",
        "train_iqr = pd.read_csv('https://raw.githubusercontent.com/zxyao5148/STAT3612_2023_1A_GroupProject/main/data_processing/train/train_valid_iqr.csv')\n",
        "train_latest = train_latest.drop(train_latest.columns[0:13], axis=1)\n",
        "train_dispers = train_dispers.drop(train_dispers.columns[0:13], axis=1)\n",
        "train_min = train_min.drop(train_min.columns[0:13], axis=1)\n",
        "train_max = train_max.drop(train_max.columns[0:13], axis=1)\n",
        "train_q1 = train_q1.drop(train_q1.columns[0:13], axis=1)\n",
        "train_q3 = train_q3.drop(train_q3.columns[0:13], axis=1)\n",
        "train_kurtois = train_kurtosis.drop(train_kurtosis.columns[0:13], axis=1)\n",
        "train_skewness = train_skewness.drop(train_skewness.columns[0:13], axis=1)\n",
        "train_range = train_range.drop(train_range.columns[0:13], axis=1)\n",
        "train_iqr = train_iqr.drop(train_iqr.columns[0:13], axis=1)\n",
        "\n",
        "# merge train_ and train_latest\n",
        "train = pd.concat([train_mean, train_latest, train_dispers, train_min, train_max], axis=1)\n",
        "\n",
        "# load processed data\n",
        "test_mean = pd.read_csv('https://raw.githubusercontent.com/zxyao5148/STAT3612_2023_1A_GroupProject/main/data_processing/test/test_mean_mode.csv')\n",
        "test_latest = pd.read_csv('https://raw.githubusercontent.com/zxyao5148/STAT3612_2023_1A_GroupProject/main/data_processing/test/test_latest.csv')\n",
        "test_dispers = pd.read_csv('https://raw.githubusercontent.com/zxyao5148/STAT3612_2023_1A_GroupProject/main/data_processing/test/test_entropy_std.csv')\n",
        "test_min = pd.read_csv('https://raw.githubusercontent.com/zxyao5148/STAT3612_2023_1A_GroupProject/main/data_processing/test/test_min.csv')\n",
        "test_max = pd.read_csv('https://raw.githubusercontent.com/zxyao5148/STAT3612_2023_1A_GroupProject/main/data_processing/test/test_max.csv')\n",
        "test_q1 = pd.read_csv('https://raw.githubusercontent.com/zxyao5148/STAT3612_2023_1A_GroupProject/main/data_processing/test/test_q1.csv')\n",
        "test_q3 = pd.read_csv('https://raw.githubusercontent.com/zxyao5148/STAT3612_2023_1A_GroupProject/main/data_processing/test/test_q3.csv')\n",
        "test_kurtosis = pd.read_csv('https://raw.githubusercontent.com/zxyao5148/STAT3612_2023_1A_GroupProject/main/data_processing/test/test_kurtosis.csv')\n",
        "test_skewness = pd.read_csv('https://raw.githubusercontent.com/zxyao5148/STAT3612_2023_1A_GroupProject/main/data_processing/test/test_skewness.csv')\n",
        "test_range = pd.read_csv('https://raw.githubusercontent.com/zxyao5148/STAT3612_2023_1A_GroupProject/main/data_processing/test/test_range.csv')\n",
        "test_iqr = pd.read_csv('https://raw.githubusercontent.com/zxyao5148/STAT3612_2023_1A_GroupProject/main/data_processing/test/test_iqr.csv')\n",
        "test_latest = test_latest.drop(test_latest.columns[0:12], axis=1)\n",
        "test_dispers = test_dispers.drop(test_dispers.columns[0:12], axis=1)\n",
        "test_min = test_min.drop(test_min.columns[0:12], axis=1)\n",
        "test_max = test_max.drop(test_max.columns[0:12], axis=1)\n",
        "test_q1 = test_q1.drop(test_q1.columns[0:12], axis=1)\n",
        "test_q3 = test_q3.drop(test_q3.columns[0:12], axis=1)\n",
        "test_kurtosis = test_kurtosis.drop(test_kurtosis.columns[0:12], axis=1)\n",
        "test_skewness = test_skewness.drop(test_skewness.columns[0:12], axis=1)\n",
        "test_range = test_range.drop(test_range.columns[0:12], axis=1)\n",
        "test_iqr = test_iqr.drop(test_iqr.columns[0:12], axis=1)\n",
        "\n",
        "# merge train_mean and train_latest\n",
        "test = pd.concat([test_mean, test_latest, test_dispers, test_min, test_max], axis=1)"
      ]
    },
    {
      "cell_type": "code",
      "source": [
        "train = train.drop(train.columns[11], axis=1)\n",
        "test = test.drop(test.columns[11], axis=1)"
      ],
      "metadata": {
        "id": "NzzAFYiKFEPz"
      },
      "execution_count": null,
      "outputs": []
    },
    {
      "cell_type": "code",
      "source": [
        "x_train = pd.concat([train.iloc[:,10], train.iloc[:,12:]], axis=1)\n",
        "y_train = train.iloc[:,11]\n",
        "\n",
        "!wget https://raw.githubusercontent.com/zxyao5148/STAT3612_2023_1A_GroupProject/main/code_base/adjust_imbl.py\n",
        "from adjust_imbl import adjust_imbl\n",
        "x_train, y_train = adjust_imbl(x_train, y_train)\n",
        "\n",
        "# with 80% of the data for training and 20% for validation\n",
        "x_train, x_valid, y_train, y_valid = train_test_split(x_train, y_train, test_size=0.2, random_state=3612)\n",
        "\n",
        "x_test = test.iloc[:,10:]"
      ],
      "metadata": {
        "id": "dM-28emiKvtK",
        "colab": {
          "base_uri": "https://localhost:8080/"
        },
        "outputId": "a4e109df-cdb1-4ab0-b305-bb6bdc2d9509"
      },
      "execution_count": null,
      "outputs": [
        {
          "output_type": "stream",
          "name": "stdout",
          "text": [
            "--2023-11-22 03:38:38--  https://raw.githubusercontent.com/zxyao5148/STAT3612_2023_1A_GroupProject/main/code_base/adjust_imbl.py\n",
            "Resolving raw.githubusercontent.com (raw.githubusercontent.com)... 185.199.108.133, 185.199.111.133, 185.199.109.133, ...\n",
            "Connecting to raw.githubusercontent.com (raw.githubusercontent.com)|185.199.108.133|:443... connected.\n",
            "HTTP request sent, awaiting response... 200 OK\n",
            "Length: 927 [text/plain]\n",
            "Saving to: ‘adjust_imbl.py.1’\n",
            "\n",
            "\radjust_imbl.py.1      0%[                    ]       0  --.-KB/s               \radjust_imbl.py.1    100%[===================>]     927  --.-KB/s    in 0s      \n",
            "\n",
            "2023-11-22 03:38:38 (56.1 MB/s) - ‘adjust_imbl.py.1’ saved [927/927]\n",
            "\n",
            "Original dataset shape Counter({0: 9564, 1: 2032})\n",
            "Resampled dataset shape Counter({0: 2032, 1: 2032})\n"
          ]
        }
      ]
    },
    {
      "cell_type": "code",
      "source": [
        "from sklearn.decomposition import PCA\n",
        "from sklearn.preprocessing import StandardScaler\n",
        "\n",
        "pca = PCA(n_components=150)  # You can specify the number of components to reduce to\n",
        "scaler = StandardScaler()\n",
        "\n",
        "# Fit and transform the scaler on the training data\n",
        "x_train_scaled = scaler.fit_transform(x_train)\n",
        "\n",
        "# Fit PCA on the scaled training data\n",
        "pca.fit(x_train_scaled)\n",
        "\n",
        "# Transform the training, validation, and test data using the fitted PCA and scaler\n",
        "x_train = pca.transform(x_train_scaled)\n",
        "x_valid_scaled = scaler.transform(x_valid)\n",
        "x_valid = pca.transform(x_valid_scaled)\n",
        "x_test_scaled = scaler.transform(x_test)\n",
        "x_test = pca.transform(x_test_scaled)"
      ],
      "metadata": {
        "id": "IJTzau5NG1vh"
      },
      "execution_count": null,
      "outputs": []
    },
    {
      "cell_type": "code",
      "execution_count": null,
      "metadata": {
        "id": "ElXnpwlhE0i8"
      },
      "outputs": [],
      "source": [
        "x_train = x_train.reshape((x_train.shape[0], x_train.shape[1], 1))\n",
        "x_valid = x_valid.reshape((x_valid.shape[0], x_valid.shape[1], 1))\n",
        "x_test = x_test.reshape((x_test.shape[0], x_test.shape[1], 1))\n",
        "\n",
        "# Reset the index of the y_train DataFrame\n",
        "y_train = y_train.reset_index(drop=True)\n",
        "\n",
        "# Shuffle the indices\n",
        "idx = np.random.permutation(len(x_train))\n",
        "\n",
        "# Reassign the values using the shuffled indices\n",
        "x_train = x_train[idx]\n",
        "y_train = y_train.iloc[idx]"
      ]
    },
    {
      "cell_type": "markdown",
      "metadata": {
        "id": "teAicBzgAVxl"
      },
      "source": [
        "## Build the model\n",
        "\n",
        "The model processes a tensor of shape `(batch size, sequence length, features)`,\n",
        "where `sequence length` is the number of time steps and `features` is each input\n",
        "timeseries.\n"
      ]
    },
    {
      "cell_type": "code",
      "execution_count": null,
      "metadata": {
        "id": "My1EkBMVAVxm"
      },
      "outputs": [],
      "source": [
        "from keras.layers import Dense, Activation, Dropout\n",
        "from keras.layers import LSTM, GRU, SimpleRNN, Bidirectional\n",
        "from keras.models import Sequential\n",
        "import keras\n",
        "from keras.optimizers import Adam\n",
        "from keras.layers import BatchNormalization\n",
        "from keras.regularizers import l2\n",
        "from keras.callbacks import EarlyStopping, ReduceLROnPlateau"
      ]
    },
    {
      "cell_type": "markdown",
      "source": [
        "#  Bidirectional LSTM"
      ],
      "metadata": {
        "id": "9MsiVoA-zIf5"
      }
    },
    {
      "cell_type": "code",
      "source": [
        "from sklearn.metrics import roc_auc_score\n",
        "import tensorflow as tf\n",
        "\n",
        "# Define a custom metric function to calculate AUC\n",
        "def auc(y_true, y_pred):\n",
        "    auc = tf.py_function(roc_auc_score, (y_true, y_pred), tf.float32)\n",
        "    return auc\n",
        "\n",
        "model = Sequential()\n",
        "# Add a Bidirectional LSTM layer with return_sequences=True and L2 regularization\n",
        "model.add(Bidirectional(LSTM(64, return_sequences=True, input_shape=(x_train.shape[1], 1), kernel_regularizer=l2(0.01))))\n",
        "# Add Batch Normalization\n",
        "model.add(BatchNormalization())\n",
        "model.add(Dropout(0.3))\n",
        "# Add another Bidirectional LSTM layer with return_sequences=False and activation function set to \"tanh\"\n",
        "model.add(Bidirectional(LSTM(128, return_sequences=False, activation=\"tanh\", kernel_regularizer=l2(0.01))))\n",
        "# Add Batch Normalization\n",
        "model.add(BatchNormalization())\n",
        "model.add(Dropout(0.3))\n",
        "model.add(Dense(1, activation=\"sigmoid\"))\n",
        "\n",
        "# Compile the model with a lower learning rate and use ReduceLROnPlateau for learning rate scheduling\n",
        "model.compile(loss='binary_crossentropy', optimizer=Adam(learning_rate=1e-4), metrics=[\"accuracy\", auc])\n",
        "\n",
        "print('model compiled')\n",
        "\n",
        "# Define early stopping and learning rate reduction callbacks\n",
        "callbacks = [EarlyStopping(patience=10, restore_best_weights=True), ReduceLROnPlateau(factor=0.1, patience=5)]\n",
        "\n",
        "# Print model summary\n",
        "#print(model.summary())\n",
        "\n",
        "# Train the model with a smaller batch size\n",
        "history_LSTM = model.fit(x_train, y_train, batch_size=128, epochs=300, validation_data=(x_valid, y_valid), callbacks=callbacks)"
      ],
      "metadata": {
        "colab": {
          "base_uri": "https://localhost:8080/"
        },
        "id": "NNvQqs6LzVl4",
        "outputId": "43c261a6-e4de-4518-f043-1c19c409f788"
      },
      "execution_count": null,
      "outputs": [
        {
          "output_type": "stream",
          "name": "stdout",
          "text": [
            "model compiled\n",
            "Epoch 1/300\n",
            "26/26 [==============================] - 11s 101ms/step - loss: 4.8141 - accuracy: 0.5727 - auc: 0.5943 - val_loss: 4.6361 - val_accuracy: 0.6248 - val_auc: 0.6864 - lr: 1.0000e-04\n",
            "Epoch 2/300\n",
            "26/26 [==============================] - 1s 40ms/step - loss: 4.5771 - accuracy: 0.6173 - auc: 0.6524 - val_loss: 4.4590 - val_accuracy: 0.6199 - val_auc: 0.7294 - lr: 1.0000e-04\n",
            "Epoch 3/300\n",
            "26/26 [==============================] - 1s 40ms/step - loss: 4.3871 - accuracy: 0.6253 - auc: 0.6682 - val_loss: 4.2885 - val_accuracy: 0.6494 - val_auc: 0.7165 - lr: 1.0000e-04\n",
            "Epoch 4/300\n",
            "26/26 [==============================] - 1s 40ms/step - loss: 4.1990 - accuracy: 0.6309 - auc: 0.6790 - val_loss: 4.1226 - val_accuracy: 0.6470 - val_auc: 0.7039 - lr: 1.0000e-04\n",
            "Epoch 5/300\n",
            "26/26 [==============================] - 1s 43ms/step - loss: 4.0271 - accuracy: 0.6456 - auc: 0.6990 - val_loss: 3.9642 - val_accuracy: 0.6581 - val_auc: 0.7018 - lr: 1.0000e-04\n",
            "Epoch 6/300\n",
            "26/26 [==============================] - 1s 46ms/step - loss: 3.8937 - accuracy: 0.6300 - auc: 0.6834 - val_loss: 3.8113 - val_accuracy: 0.6593 - val_auc: 0.7154 - lr: 1.0000e-04\n",
            "Epoch 7/300\n",
            "26/26 [==============================] - 1s 46ms/step - loss: 3.7305 - accuracy: 0.6404 - auc: 0.6965 - val_loss: 3.6666 - val_accuracy: 0.6494 - val_auc: 0.7030 - lr: 1.0000e-04\n",
            "Epoch 8/300\n",
            "26/26 [==============================] - 1s 45ms/step - loss: 3.5861 - accuracy: 0.6463 - auc: 0.7023 - val_loss: 3.5289 - val_accuracy: 0.6482 - val_auc: 0.6997 - lr: 1.0000e-04\n",
            "Epoch 9/300\n",
            "26/26 [==============================] - 1s 40ms/step - loss: 3.4569 - accuracy: 0.6475 - auc: 0.7004 - val_loss: 3.3944 - val_accuracy: 0.6568 - val_auc: 0.7140 - lr: 1.0000e-04\n",
            "Epoch 10/300\n",
            "26/26 [==============================] - 1s 42ms/step - loss: 3.3350 - accuracy: 0.6413 - auc: 0.6974 - val_loss: 3.2681 - val_accuracy: 0.6470 - val_auc: 0.7163 - lr: 1.0000e-04\n",
            "Epoch 11/300\n",
            "26/26 [==============================] - 2s 58ms/step - loss: 3.2091 - accuracy: 0.6530 - auc: 0.7061 - val_loss: 3.1499 - val_accuracy: 0.6470 - val_auc: 0.7122 - lr: 1.0000e-04\n",
            "Epoch 12/300\n",
            "26/26 [==============================] - 1s 45ms/step - loss: 3.1089 - accuracy: 0.6380 - auc: 0.6920 - val_loss: 3.0303 - val_accuracy: 0.6556 - val_auc: 0.7259 - lr: 1.0000e-04\n",
            "Epoch 13/300\n",
            "26/26 [==============================] - 1s 43ms/step - loss: 2.9937 - accuracy: 0.6472 - auc: 0.7048 - val_loss: 2.9198 - val_accuracy: 0.6581 - val_auc: 0.7249 - lr: 1.0000e-04\n",
            "Epoch 14/300\n",
            "26/26 [==============================] - 1s 41ms/step - loss: 2.8944 - accuracy: 0.6509 - auc: 0.6993 - val_loss: 2.8114 - val_accuracy: 0.6704 - val_auc: 0.7372 - lr: 1.0000e-04\n",
            "Epoch 15/300\n",
            "26/26 [==============================] - 1s 41ms/step - loss: 2.7864 - accuracy: 0.6515 - auc: 0.7132 - val_loss: 2.7161 - val_accuracy: 0.6691 - val_auc: 0.7266 - lr: 1.0000e-04\n",
            "Epoch 16/300\n",
            "26/26 [==============================] - 1s 43ms/step - loss: 2.7019 - accuracy: 0.6487 - auc: 0.7048 - val_loss: 2.6131 - val_accuracy: 0.6740 - val_auc: 0.7438 - lr: 1.0000e-04\n",
            "Epoch 17/300\n",
            "26/26 [==============================] - 1s 44ms/step - loss: 2.6005 - accuracy: 0.6552 - auc: 0.7105 - val_loss: 2.5202 - val_accuracy: 0.6802 - val_auc: 0.7496 - lr: 1.0000e-04\n",
            "Epoch 18/300\n",
            "26/26 [==============================] - 1s 46ms/step - loss: 2.5214 - accuracy: 0.6663 - auc: 0.7163 - val_loss: 2.4380 - val_accuracy: 0.6753 - val_auc: 0.7496 - lr: 1.0000e-04\n",
            "Epoch 19/300\n",
            "26/26 [==============================] - 1s 47ms/step - loss: 2.4527 - accuracy: 0.6358 - auc: 0.6958 - val_loss: 2.3584 - val_accuracy: 0.6802 - val_auc: 0.7541 - lr: 1.0000e-04\n",
            "Epoch 20/300\n",
            "26/26 [==============================] - 1s 46ms/step - loss: 2.3567 - accuracy: 0.6521 - auc: 0.7197 - val_loss: 2.2701 - val_accuracy: 0.7023 - val_auc: 0.7695 - lr: 1.0000e-04\n",
            "Epoch 21/300\n",
            "26/26 [==============================] - 1s 42ms/step - loss: 2.3017 - accuracy: 0.6570 - auc: 0.7095 - val_loss: 2.2008 - val_accuracy: 0.7048 - val_auc: 0.7658 - lr: 1.0000e-04\n",
            "Epoch 22/300\n",
            "26/26 [==============================] - 1s 41ms/step - loss: 2.2298 - accuracy: 0.6570 - auc: 0.7183 - val_loss: 2.1435 - val_accuracy: 0.6937 - val_auc: 0.7579 - lr: 1.0000e-04\n",
            "Epoch 23/300\n",
            "26/26 [==============================] - 1s 41ms/step - loss: 2.1584 - accuracy: 0.6623 - auc: 0.7172 - val_loss: 2.0774 - val_accuracy: 0.6900 - val_auc: 0.7579 - lr: 1.0000e-04\n",
            "Epoch 24/300\n",
            "26/26 [==============================] - 1s 41ms/step - loss: 2.0983 - accuracy: 0.6564 - auc: 0.7131 - val_loss: 2.0083 - val_accuracy: 0.7060 - val_auc: 0.7705 - lr: 1.0000e-04\n",
            "Epoch 25/300\n",
            "26/26 [==============================] - 1s 41ms/step - loss: 2.0483 - accuracy: 0.6515 - auc: 0.7088 - val_loss: 1.9573 - val_accuracy: 0.6950 - val_auc: 0.7663 - lr: 1.0000e-04\n",
            "Epoch 26/300\n",
            "26/26 [==============================] - 1s 42ms/step - loss: 2.0044 - accuracy: 0.6376 - auc: 0.7009 - val_loss: 1.9057 - val_accuracy: 0.7048 - val_auc: 0.7665 - lr: 1.0000e-04\n",
            "Epoch 27/300\n",
            "26/26 [==============================] - 1s 43ms/step - loss: 1.9286 - accuracy: 0.6635 - auc: 0.7201 - val_loss: 1.8520 - val_accuracy: 0.7036 - val_auc: 0.7624 - lr: 1.0000e-04\n",
            "Epoch 28/300\n",
            "26/26 [==============================] - 1s 42ms/step - loss: 1.8796 - accuracy: 0.6589 - auc: 0.7192 - val_loss: 1.8074 - val_accuracy: 0.7011 - val_auc: 0.7637 - lr: 1.0000e-04\n",
            "Epoch 29/300\n",
            "26/26 [==============================] - 1s 43ms/step - loss: 1.8347 - accuracy: 0.6644 - auc: 0.7230 - val_loss: 1.7642 - val_accuracy: 0.7036 - val_auc: 0.7646 - lr: 1.0000e-04\n",
            "Epoch 30/300\n",
            "26/26 [==============================] - 1s 48ms/step - loss: 1.7942 - accuracy: 0.6567 - auc: 0.7176 - val_loss: 1.7133 - val_accuracy: 0.7171 - val_auc: 0.7710 - lr: 1.0000e-04\n",
            "Epoch 31/300\n",
            "26/26 [==============================] - 1s 46ms/step - loss: 1.7504 - accuracy: 0.6607 - auc: 0.7226 - val_loss: 1.6759 - val_accuracy: 0.7085 - val_auc: 0.7680 - lr: 1.0000e-04\n",
            "Epoch 32/300\n",
            "26/26 [==============================] - 1s 47ms/step - loss: 1.7194 - accuracy: 0.6509 - auc: 0.7127 - val_loss: 1.6496 - val_accuracy: 0.6974 - val_auc: 0.7614 - lr: 1.0000e-04\n",
            "Epoch 33/300\n",
            "26/26 [==============================] - 1s 43ms/step - loss: 1.6763 - accuracy: 0.6558 - auc: 0.7185 - val_loss: 1.5984 - val_accuracy: 0.7097 - val_auc: 0.7657 - lr: 1.0000e-04\n",
            "Epoch 34/300\n",
            "26/26 [==============================] - 1s 41ms/step - loss: 1.6307 - accuracy: 0.6638 - auc: 0.7214 - val_loss: 1.5668 - val_accuracy: 0.7122 - val_auc: 0.7678 - lr: 1.0000e-04\n",
            "Epoch 35/300\n",
            "26/26 [==============================] - 1s 46ms/step - loss: 1.6148 - accuracy: 0.6484 - auc: 0.7078 - val_loss: 1.5361 - val_accuracy: 0.6986 - val_auc: 0.7686 - lr: 1.0000e-04\n",
            "Epoch 36/300\n",
            "26/26 [==============================] - 2s 66ms/step - loss: 1.5590 - accuracy: 0.6659 - auc: 0.7275 - val_loss: 1.5037 - val_accuracy: 0.7036 - val_auc: 0.7657 - lr: 1.0000e-04\n",
            "Epoch 37/300\n",
            "26/26 [==============================] - 2s 65ms/step - loss: 1.5315 - accuracy: 0.6589 - auc: 0.7238 - val_loss: 1.4764 - val_accuracy: 0.7023 - val_auc: 0.7624 - lr: 1.0000e-04\n",
            "Epoch 38/300\n",
            "26/26 [==============================] - 1s 52ms/step - loss: 1.5083 - accuracy: 0.6650 - auc: 0.7184 - val_loss: 1.4471 - val_accuracy: 0.6999 - val_auc: 0.7685 - lr: 1.0000e-04\n",
            "Epoch 39/300\n",
            "26/26 [==============================] - 1s 42ms/step - loss: 1.4887 - accuracy: 0.6589 - auc: 0.7146 - val_loss: 1.4106 - val_accuracy: 0.7011 - val_auc: 0.7674 - lr: 1.0000e-04\n",
            "Epoch 40/300\n",
            "26/26 [==============================] - 1s 43ms/step - loss: 1.4404 - accuracy: 0.6721 - auc: 0.7330 - val_loss: 1.3967 - val_accuracy: 0.6950 - val_auc: 0.7651 - lr: 1.0000e-04\n",
            "Epoch 41/300\n",
            "26/26 [==============================] - 1s 47ms/step - loss: 1.4136 - accuracy: 0.6776 - auc: 0.7345 - val_loss: 1.3749 - val_accuracy: 0.7048 - val_auc: 0.7646 - lr: 1.0000e-04\n",
            "Epoch 42/300\n",
            "26/26 [==============================] - 1s 47ms/step - loss: 1.3966 - accuracy: 0.6715 - auc: 0.7272 - val_loss: 1.3464 - val_accuracy: 0.6986 - val_auc: 0.7664 - lr: 1.0000e-04\n",
            "Epoch 43/300\n",
            "26/26 [==============================] - 1s 47ms/step - loss: 1.3649 - accuracy: 0.6733 - auc: 0.7351 - val_loss: 1.3252 - val_accuracy: 0.6950 - val_auc: 0.7659 - lr: 1.0000e-04\n",
            "Epoch 44/300\n",
            "26/26 [==============================] - 1s 41ms/step - loss: 1.3488 - accuracy: 0.6743 - auc: 0.7299 - val_loss: 1.3136 - val_accuracy: 0.7011 - val_auc: 0.7649 - lr: 1.0000e-04\n",
            "Epoch 45/300\n",
            "26/26 [==============================] - 1s 40ms/step - loss: 1.3287 - accuracy: 0.6592 - auc: 0.7264 - val_loss: 1.2863 - val_accuracy: 0.6999 - val_auc: 0.7666 - lr: 1.0000e-04\n",
            "Epoch 46/300\n",
            "26/26 [==============================] - 1s 40ms/step - loss: 1.2959 - accuracy: 0.6819 - auc: 0.7376 - val_loss: 1.2648 - val_accuracy: 0.6986 - val_auc: 0.7659 - lr: 1.0000e-04\n",
            "Epoch 47/300\n",
            "26/26 [==============================] - 1s 42ms/step - loss: 1.2894 - accuracy: 0.6638 - auc: 0.7306 - val_loss: 1.2538 - val_accuracy: 0.6974 - val_auc: 0.7634 - lr: 1.0000e-04\n",
            "Epoch 48/300\n",
            "26/26 [==============================] - 1s 42ms/step - loss: 1.2683 - accuracy: 0.6659 - auc: 0.7275 - val_loss: 1.2253 - val_accuracy: 0.7122 - val_auc: 0.7632 - lr: 1.0000e-04\n",
            "Epoch 49/300\n",
            "26/26 [==============================] - 1s 41ms/step - loss: 1.2597 - accuracy: 0.6663 - auc: 0.7216 - val_loss: 1.2127 - val_accuracy: 0.7011 - val_auc: 0.7615 - lr: 1.0000e-04\n",
            "Epoch 50/300\n",
            "26/26 [==============================] - 1s 40ms/step - loss: 1.2402 - accuracy: 0.6684 - auc: 0.7264 - val_loss: 1.1895 - val_accuracy: 0.7085 - val_auc: 0.7611 - lr: 1.0000e-04\n",
            "Epoch 51/300\n",
            "26/26 [==============================] - 1s 40ms/step - loss: 1.2085 - accuracy: 0.6709 - auc: 0.7384 - val_loss: 1.1734 - val_accuracy: 0.7109 - val_auc: 0.7672 - lr: 1.0000e-04\n",
            "Epoch 52/300\n",
            "26/26 [==============================] - 1s 41ms/step - loss: 1.1928 - accuracy: 0.6684 - auc: 0.7364 - val_loss: 1.1619 - val_accuracy: 0.7097 - val_auc: 0.7645 - lr: 1.0000e-04\n",
            "Epoch 53/300\n",
            "26/26 [==============================] - 1s 45ms/step - loss: 1.1837 - accuracy: 0.6675 - auc: 0.7328 - val_loss: 1.1422 - val_accuracy: 0.7085 - val_auc: 0.7667 - lr: 1.0000e-04\n",
            "Epoch 54/300\n",
            "26/26 [==============================] - 1s 45ms/step - loss: 1.1678 - accuracy: 0.6746 - auc: 0.7304 - val_loss: 1.1338 - val_accuracy: 0.7073 - val_auc: 0.7618 - lr: 1.0000e-04\n",
            "Epoch 55/300\n",
            "26/26 [==============================] - 1s 46ms/step - loss: 1.1409 - accuracy: 0.6755 - auc: 0.7470 - val_loss: 1.1167 - val_accuracy: 0.7122 - val_auc: 0.7655 - lr: 1.0000e-04\n",
            "Epoch 56/300\n",
            "26/26 [==============================] - 1s 44ms/step - loss: 1.1335 - accuracy: 0.6666 - auc: 0.7374 - val_loss: 1.1058 - val_accuracy: 0.7109 - val_auc: 0.7666 - lr: 1.0000e-04\n",
            "Epoch 57/300\n",
            "26/26 [==============================] - 1s 40ms/step - loss: 1.1149 - accuracy: 0.6736 - auc: 0.7428 - val_loss: 1.0904 - val_accuracy: 0.6999 - val_auc: 0.7599 - lr: 1.0000e-04\n",
            "Epoch 58/300\n",
            "26/26 [==============================] - 1s 40ms/step - loss: 1.1139 - accuracy: 0.6641 - auc: 0.7325 - val_loss: 1.0920 - val_accuracy: 0.6999 - val_auc: 0.7607 - lr: 1.0000e-04\n",
            "Epoch 59/300\n",
            "26/26 [==============================] - 1s 42ms/step - loss: 1.0815 - accuracy: 0.6893 - auc: 0.7550 - val_loss: 1.0722 - val_accuracy: 0.7073 - val_auc: 0.7653 - lr: 1.0000e-04\n",
            "Epoch 60/300\n",
            "26/26 [==============================] - 1s 42ms/step - loss: 1.0902 - accuracy: 0.6743 - auc: 0.7360 - val_loss: 1.0572 - val_accuracy: 0.6974 - val_auc: 0.7658 - lr: 1.0000e-04\n",
            "Epoch 61/300\n",
            "26/26 [==============================] - 1s 41ms/step - loss: 1.0700 - accuracy: 0.6733 - auc: 0.7374 - val_loss: 1.0605 - val_accuracy: 0.7060 - val_auc: 0.7574 - lr: 1.0000e-04\n",
            "Epoch 62/300\n",
            "26/26 [==============================] - 1s 42ms/step - loss: 1.0619 - accuracy: 0.6672 - auc: 0.7413 - val_loss: 1.0413 - val_accuracy: 0.7097 - val_auc: 0.7646 - lr: 1.0000e-04\n",
            "Epoch 63/300\n",
            "26/26 [==============================] - 1s 42ms/step - loss: 1.0504 - accuracy: 0.6776 - auc: 0.7405 - val_loss: 1.0278 - val_accuracy: 0.7023 - val_auc: 0.7644 - lr: 1.0000e-04\n",
            "Epoch 64/300\n",
            "26/26 [==============================] - 1s 42ms/step - loss: 1.0413 - accuracy: 0.6807 - auc: 0.7429 - val_loss: 1.0308 - val_accuracy: 0.6986 - val_auc: 0.7564 - lr: 1.0000e-04\n",
            "Epoch 65/300\n",
            "26/26 [==============================] - 1s 42ms/step - loss: 1.0285 - accuracy: 0.6773 - auc: 0.7441 - val_loss: 1.0038 - val_accuracy: 0.7122 - val_auc: 0.7654 - lr: 1.0000e-04\n",
            "Epoch 66/300\n",
            "26/26 [==============================] - 1s 46ms/step - loss: 1.0197 - accuracy: 0.6733 - auc: 0.7393 - val_loss: 0.9975 - val_accuracy: 0.7011 - val_auc: 0.7667 - lr: 1.0000e-04\n",
            "Epoch 67/300\n",
            "26/26 [==============================] - 1s 48ms/step - loss: 1.0133 - accuracy: 0.6709 - auc: 0.7364 - val_loss: 0.9907 - val_accuracy: 0.6937 - val_auc: 0.7609 - lr: 1.0000e-04\n",
            "Epoch 68/300\n",
            "26/26 [==============================] - 1s 47ms/step - loss: 1.0010 - accuracy: 0.6792 - auc: 0.7421 - val_loss: 0.9851 - val_accuracy: 0.7023 - val_auc: 0.7626 - lr: 1.0000e-04\n",
            "Epoch 69/300\n",
            "26/26 [==============================] - 1s 41ms/step - loss: 0.9891 - accuracy: 0.6752 - auc: 0.7398 - val_loss: 0.9774 - val_accuracy: 0.6925 - val_auc: 0.7622 - lr: 1.0000e-04\n",
            "Epoch 70/300\n",
            "26/26 [==============================] - 1s 40ms/step - loss: 0.9800 - accuracy: 0.6779 - auc: 0.7456 - val_loss: 0.9707 - val_accuracy: 0.6999 - val_auc: 0.7586 - lr: 1.0000e-04\n",
            "Epoch 71/300\n",
            "26/26 [==============================] - 1s 40ms/step - loss: 0.9744 - accuracy: 0.6764 - auc: 0.7402 - val_loss: 0.9604 - val_accuracy: 0.7048 - val_auc: 0.7632 - lr: 1.0000e-04\n",
            "Epoch 72/300\n",
            "26/26 [==============================] - 1s 42ms/step - loss: 0.9674 - accuracy: 0.6699 - auc: 0.7408 - val_loss: 0.9551 - val_accuracy: 0.7011 - val_auc: 0.7648 - lr: 1.0000e-04\n",
            "Epoch 73/300\n",
            "26/26 [==============================] - 1s 42ms/step - loss: 0.9670 - accuracy: 0.6798 - auc: 0.7412 - val_loss: 0.9457 - val_accuracy: 0.7097 - val_auc: 0.7634 - lr: 1.0000e-04\n",
            "Epoch 74/300\n",
            "26/26 [==============================] - 1s 43ms/step - loss: 0.9453 - accuracy: 0.6878 - auc: 0.7503 - val_loss: 0.9368 - val_accuracy: 0.7146 - val_auc: 0.7666 - lr: 1.0000e-04\n",
            "Epoch 75/300\n",
            "26/26 [==============================] - 1s 46ms/step - loss: 0.9352 - accuracy: 0.6832 - auc: 0.7511 - val_loss: 0.9367 - val_accuracy: 0.7060 - val_auc: 0.7620 - lr: 1.0000e-04\n",
            "Epoch 76/300\n",
            "26/26 [==============================] - 1s 41ms/step - loss: 0.9318 - accuracy: 0.6906 - auc: 0.7479 - val_loss: 0.9233 - val_accuracy: 0.7085 - val_auc: 0.7624 - lr: 1.0000e-04\n",
            "Epoch 77/300\n",
            "26/26 [==============================] - 1s 41ms/step - loss: 0.9359 - accuracy: 0.6727 - auc: 0.7422 - val_loss: 0.9222 - val_accuracy: 0.6937 - val_auc: 0.7602 - lr: 1.0000e-04\n",
            "Epoch 78/300\n",
            "26/26 [==============================] - 1s 47ms/step - loss: 0.9216 - accuracy: 0.6850 - auc: 0.7474 - val_loss: 0.9135 - val_accuracy: 0.7060 - val_auc: 0.7639 - lr: 1.0000e-04\n",
            "Epoch 79/300\n",
            "26/26 [==============================] - 1s 48ms/step - loss: 0.9099 - accuracy: 0.6884 - auc: 0.7560 - val_loss: 0.9056 - val_accuracy: 0.7122 - val_auc: 0.7654 - lr: 1.0000e-04\n",
            "Epoch 80/300\n",
            "26/26 [==============================] - 1s 47ms/step - loss: 0.9059 - accuracy: 0.6869 - auc: 0.7507 - val_loss: 0.9073 - val_accuracy: 0.7036 - val_auc: 0.7610 - lr: 1.0000e-04\n",
            "Epoch 81/300\n",
            "26/26 [==============================] - 1s 42ms/step - loss: 0.9082 - accuracy: 0.6783 - auc: 0.7421 - val_loss: 0.8895 - val_accuracy: 0.7011 - val_auc: 0.7620 - lr: 1.0000e-04\n",
            "Epoch 82/300\n",
            "26/26 [==============================] - 1s 40ms/step - loss: 0.8931 - accuracy: 0.6856 - auc: 0.7494 - val_loss: 0.8914 - val_accuracy: 0.7183 - val_auc: 0.7664 - lr: 1.0000e-04\n",
            "Epoch 83/300\n",
            "26/26 [==============================] - 1s 40ms/step - loss: 0.8890 - accuracy: 0.6829 - auc: 0.7450 - val_loss: 0.8929 - val_accuracy: 0.7048 - val_auc: 0.7610 - lr: 1.0000e-04\n",
            "Epoch 84/300\n",
            "26/26 [==============================] - 1s 44ms/step - loss: 0.8852 - accuracy: 0.6807 - auc: 0.7469 - val_loss: 0.8835 - val_accuracy: 0.7073 - val_auc: 0.7609 - lr: 1.0000e-04\n",
            "Epoch 85/300\n",
            "26/26 [==============================] - 1s 46ms/step - loss: 0.8751 - accuracy: 0.6927 - auc: 0.7543 - val_loss: 0.8680 - val_accuracy: 0.7171 - val_auc: 0.7682 - lr: 1.0000e-04\n",
            "Epoch 86/300\n",
            "26/26 [==============================] - 1s 45ms/step - loss: 0.8733 - accuracy: 0.6783 - auc: 0.7546 - val_loss: 0.8740 - val_accuracy: 0.7122 - val_auc: 0.7669 - lr: 1.0000e-04\n",
            "Epoch 87/300\n",
            "26/26 [==============================] - 1s 45ms/step - loss: 0.8644 - accuracy: 0.6930 - auc: 0.7547 - val_loss: 0.8632 - val_accuracy: 0.7134 - val_auc: 0.7655 - lr: 1.0000e-04\n",
            "Epoch 88/300\n",
            "26/26 [==============================] - 1s 41ms/step - loss: 0.8581 - accuracy: 0.6850 - auc: 0.7529 - val_loss: 0.8603 - val_accuracy: 0.7073 - val_auc: 0.7633 - lr: 1.0000e-04\n",
            "Epoch 89/300\n",
            "26/26 [==============================] - 1s 41ms/step - loss: 0.8569 - accuracy: 0.6875 - auc: 0.7500 - val_loss: 0.8477 - val_accuracy: 0.7011 - val_auc: 0.7658 - lr: 1.0000e-04\n",
            "Epoch 90/300\n",
            "26/26 [==============================] - 1s 45ms/step - loss: 0.8495 - accuracy: 0.6743 - auc: 0.7531 - val_loss: 0.8553 - val_accuracy: 0.7036 - val_auc: 0.7601 - lr: 1.0000e-04\n",
            "Epoch 91/300\n",
            "26/26 [==============================] - 1s 47ms/step - loss: 0.8460 - accuracy: 0.6795 - auc: 0.7497 - val_loss: 0.8458 - val_accuracy: 0.7097 - val_auc: 0.7590 - lr: 1.0000e-04\n",
            "Epoch 92/300\n",
            "26/26 [==============================] - 1s 45ms/step - loss: 0.8411 - accuracy: 0.6850 - auc: 0.7544 - val_loss: 0.8391 - val_accuracy: 0.7146 - val_auc: 0.7643 - lr: 1.0000e-04\n",
            "Epoch 93/300\n",
            "26/26 [==============================] - 1s 44ms/step - loss: 0.8342 - accuracy: 0.6872 - auc: 0.7597 - val_loss: 0.8400 - val_accuracy: 0.7122 - val_auc: 0.7637 - lr: 1.0000e-04\n",
            "Epoch 94/300\n",
            "26/26 [==============================] - 1s 43ms/step - loss: 0.8279 - accuracy: 0.6936 - auc: 0.7613 - val_loss: 0.8321 - val_accuracy: 0.7134 - val_auc: 0.7643 - lr: 1.0000e-04\n",
            "Epoch 95/300\n",
            "26/26 [==============================] - 1s 40ms/step - loss: 0.8266 - accuracy: 0.6912 - auc: 0.7543 - val_loss: 0.8308 - val_accuracy: 0.7122 - val_auc: 0.7624 - lr: 1.0000e-04\n",
            "Epoch 96/300\n",
            "26/26 [==============================] - 1s 41ms/step - loss: 0.8131 - accuracy: 0.6967 - auc: 0.7631 - val_loss: 0.8277 - val_accuracy: 0.7109 - val_auc: 0.7638 - lr: 1.0000e-04\n",
            "Epoch 97/300\n",
            "26/26 [==============================] - 1s 40ms/step - loss: 0.8157 - accuracy: 0.6909 - auc: 0.7612 - val_loss: 0.8270 - val_accuracy: 0.7122 - val_auc: 0.7608 - lr: 1.0000e-04\n",
            "Epoch 98/300\n",
            "26/26 [==============================] - 1s 41ms/step - loss: 0.8079 - accuracy: 0.6810 - auc: 0.7591 - val_loss: 0.8274 - val_accuracy: 0.7060 - val_auc: 0.7649 - lr: 1.0000e-04\n",
            "Epoch 99/300\n",
            "26/26 [==============================] - 1s 42ms/step - loss: 0.8173 - accuracy: 0.6841 - auc: 0.7522 - val_loss: 0.8202 - val_accuracy: 0.7085 - val_auc: 0.7616 - lr: 1.0000e-04\n",
            "Epoch 100/300\n",
            "26/26 [==============================] - 1s 41ms/step - loss: 0.8031 - accuracy: 0.6952 - auc: 0.7602 - val_loss: 0.8119 - val_accuracy: 0.7011 - val_auc: 0.7628 - lr: 1.0000e-04\n",
            "Epoch 101/300\n",
            "26/26 [==============================] - 1s 41ms/step - loss: 0.8007 - accuracy: 0.6902 - auc: 0.7589 - val_loss: 0.8191 - val_accuracy: 0.7011 - val_auc: 0.7624 - lr: 1.0000e-04\n",
            "Epoch 102/300\n",
            "26/26 [==============================] - 1s 42ms/step - loss: 0.7945 - accuracy: 0.6872 - auc: 0.7581 - val_loss: 0.8185 - val_accuracy: 0.7011 - val_auc: 0.7531 - lr: 1.0000e-04\n",
            "Epoch 103/300\n",
            "26/26 [==============================] - 1s 46ms/step - loss: 0.7930 - accuracy: 0.6890 - auc: 0.7571 - val_loss: 0.7976 - val_accuracy: 0.7196 - val_auc: 0.7654 - lr: 1.0000e-04\n",
            "Epoch 104/300\n",
            "26/26 [==============================] - 1s 46ms/step - loss: 0.7868 - accuracy: 0.6949 - auc: 0.7657 - val_loss: 0.8056 - val_accuracy: 0.7048 - val_auc: 0.7577 - lr: 1.0000e-04\n",
            "Epoch 105/300\n",
            "26/26 [==============================] - 1s 45ms/step - loss: 0.7822 - accuracy: 0.6942 - auc: 0.7643 - val_loss: 0.8076 - val_accuracy: 0.7073 - val_auc: 0.7579 - lr: 1.0000e-04\n",
            "Epoch 106/300\n",
            "26/26 [==============================] - 1s 41ms/step - loss: 0.7721 - accuracy: 0.7029 - auc: 0.7747 - val_loss: 0.7944 - val_accuracy: 0.7146 - val_auc: 0.7667 - lr: 1.0000e-04\n",
            "Epoch 107/300\n",
            "26/26 [==============================] - 1s 40ms/step - loss: 0.7803 - accuracy: 0.6964 - auc: 0.7632 - val_loss: 0.7955 - val_accuracy: 0.7085 - val_auc: 0.7610 - lr: 1.0000e-04\n",
            "Epoch 108/300\n",
            "26/26 [==============================] - 1s 42ms/step - loss: 0.7733 - accuracy: 0.6961 - auc: 0.7647 - val_loss: 0.7775 - val_accuracy: 0.7146 - val_auc: 0.7654 - lr: 1.0000e-04\n",
            "Epoch 109/300\n",
            "26/26 [==============================] - 1s 40ms/step - loss: 0.7706 - accuracy: 0.6878 - auc: 0.7659 - val_loss: 0.8014 - val_accuracy: 0.7085 - val_auc: 0.7538 - lr: 1.0000e-04\n",
            "Epoch 110/300\n",
            "26/26 [==============================] - 1s 42ms/step - loss: 0.7654 - accuracy: 0.6976 - auc: 0.7674 - val_loss: 0.7946 - val_accuracy: 0.7134 - val_auc: 0.7592 - lr: 1.0000e-04\n",
            "Epoch 111/300\n",
            "26/26 [==============================] - 1s 41ms/step - loss: 0.7587 - accuracy: 0.6884 - auc: 0.7695 - val_loss: 0.7833 - val_accuracy: 0.7159 - val_auc: 0.7623 - lr: 1.0000e-04\n",
            "Epoch 112/300\n",
            "26/26 [==============================] - 1s 41ms/step - loss: 0.7501 - accuracy: 0.7029 - auc: 0.7747 - val_loss: 0.7833 - val_accuracy: 0.7134 - val_auc: 0.7569 - lr: 1.0000e-04\n",
            "Epoch 113/300\n",
            "26/26 [==============================] - 1s 42ms/step - loss: 0.7524 - accuracy: 0.7007 - auc: 0.7665 - val_loss: 0.7864 - val_accuracy: 0.7036 - val_auc: 0.7576 - lr: 1.0000e-04\n",
            "Epoch 114/300\n",
            "26/26 [==============================] - 1s 43ms/step - loss: 0.7538 - accuracy: 0.6979 - auc: 0.7701 - val_loss: 0.7805 - val_accuracy: 0.7134 - val_auc: 0.7582 - lr: 1.0000e-05\n",
            "Epoch 115/300\n",
            "26/26 [==============================] - 1s 46ms/step - loss: 0.7477 - accuracy: 0.6958 - auc: 0.7768 - val_loss: 0.7759 - val_accuracy: 0.7159 - val_auc: 0.7576 - lr: 1.0000e-05\n",
            "Epoch 116/300\n",
            "26/26 [==============================] - 1s 48ms/step - loss: 0.7450 - accuracy: 0.7010 - auc: 0.7724 - val_loss: 0.7761 - val_accuracy: 0.7171 - val_auc: 0.7573 - lr: 1.0000e-05\n",
            "Epoch 117/300\n",
            "26/26 [==============================] - 1s 46ms/step - loss: 0.7374 - accuracy: 0.7112 - auc: 0.7819 - val_loss: 0.7770 - val_accuracy: 0.7171 - val_auc: 0.7570 - lr: 1.0000e-05\n",
            "Epoch 118/300\n",
            "26/26 [==============================] - 1s 45ms/step - loss: 0.7447 - accuracy: 0.7075 - auc: 0.7740 - val_loss: 0.7769 - val_accuracy: 0.7196 - val_auc: 0.7570 - lr: 1.0000e-05\n",
            "Epoch 119/300\n",
            "26/26 [==============================] - 1s 41ms/step - loss: 0.7420 - accuracy: 0.7016 - auc: 0.7809 - val_loss: 0.7748 - val_accuracy: 0.7196 - val_auc: 0.7575 - lr: 1.0000e-05\n",
            "Epoch 120/300\n",
            "26/26 [==============================] - 1s 40ms/step - loss: 0.7435 - accuracy: 0.6939 - auc: 0.7757 - val_loss: 0.7752 - val_accuracy: 0.7208 - val_auc: 0.7582 - lr: 1.0000e-05\n",
            "Epoch 121/300\n",
            "26/26 [==============================] - 1s 41ms/step - loss: 0.7479 - accuracy: 0.6930 - auc: 0.7724 - val_loss: 0.7757 - val_accuracy: 0.7208 - val_auc: 0.7569 - lr: 1.0000e-05\n",
            "Epoch 122/300\n",
            "26/26 [==============================] - 1s 42ms/step - loss: 0.7454 - accuracy: 0.6986 - auc: 0.7752 - val_loss: 0.7748 - val_accuracy: 0.7171 - val_auc: 0.7578 - lr: 1.0000e-05\n",
            "Epoch 123/300\n",
            "26/26 [==============================] - 1s 40ms/step - loss: 0.7365 - accuracy: 0.7093 - auc: 0.7802 - val_loss: 0.7753 - val_accuracy: 0.7183 - val_auc: 0.7582 - lr: 1.0000e-05\n",
            "Epoch 124/300\n",
            "26/26 [==============================] - 1s 41ms/step - loss: 0.7381 - accuracy: 0.7124 - auc: 0.7800 - val_loss: 0.7762 - val_accuracy: 0.7109 - val_auc: 0.7568 - lr: 1.0000e-05\n",
            "Epoch 125/300\n",
            "26/26 [==============================] - 1s 41ms/step - loss: 0.7455 - accuracy: 0.6979 - auc: 0.7723 - val_loss: 0.7763 - val_accuracy: 0.7109 - val_auc: 0.7571 - lr: 1.0000e-06\n",
            "Epoch 126/300\n",
            "26/26 [==============================] - 1s 41ms/step - loss: 0.7368 - accuracy: 0.7072 - auc: 0.7811 - val_loss: 0.7765 - val_accuracy: 0.7109 - val_auc: 0.7570 - lr: 1.0000e-06\n",
            "Epoch 127/300\n",
            "26/26 [==============================] - 1s 42ms/step - loss: 0.7432 - accuracy: 0.7010 - auc: 0.7767 - val_loss: 0.7763 - val_accuracy: 0.7109 - val_auc: 0.7571 - lr: 1.0000e-06\n",
            "Epoch 128/300\n",
            "26/26 [==============================] - 1s 46ms/step - loss: 0.7437 - accuracy: 0.7004 - auc: 0.7727 - val_loss: 0.7764 - val_accuracy: 0.7109 - val_auc: 0.7571 - lr: 1.0000e-06\n",
            "Epoch 129/300\n",
            "26/26 [==============================] - 1s 47ms/step - loss: 0.7359 - accuracy: 0.7084 - auc: 0.7817 - val_loss: 0.7766 - val_accuracy: 0.7109 - val_auc: 0.7570 - lr: 1.0000e-06\n",
            "Epoch 130/300\n",
            "26/26 [==============================] - 1s 47ms/step - loss: 0.7332 - accuracy: 0.7106 - auc: 0.7842 - val_loss: 0.7766 - val_accuracy: 0.7122 - val_auc: 0.7573 - lr: 1.0000e-07\n",
            "Epoch 131/300\n",
            "26/26 [==============================] - 1s 43ms/step - loss: 0.7387 - accuracy: 0.7056 - auc: 0.7801 - val_loss: 0.7766 - val_accuracy: 0.7122 - val_auc: 0.7572 - lr: 1.0000e-07\n",
            "Epoch 132/300\n",
            "26/26 [==============================] - 1s 43ms/step - loss: 0.7540 - accuracy: 0.6961 - auc: 0.7651 - val_loss: 0.7766 - val_accuracy: 0.7122 - val_auc: 0.7573 - lr: 1.0000e-07\n"
          ]
        }
      ]
    },
    {
      "cell_type": "code",
      "source": [
        "import matplotlib.pyplot as plt\n",
        "\n",
        "# Plot the training and validation accuracy over epochs\n",
        "plt.plot(history_LSTM.history['accuracy'], label='Training Accuracy')\n",
        "plt.plot(history_LSTM.history['val_accuracy'], label='Validation Accuracy')\n",
        "plt.xlabel('Epoch')\n",
        "plt.ylabel('Accuracy')\n",
        "plt.ylim([0, 1])\n",
        "plt.legend(loc='lower right')\n",
        "plt.show()\n",
        "\n",
        "# Plot the training and validation auc over epochs\n",
        "plt.plot(history_LSTM.history['auc'], label='Training Auc')\n",
        "plt.plot(history_LSTM.history['val_auc'], label='Validation Auc')\n",
        "plt.xlabel('Epoch')\n",
        "plt.ylabel('Auc')\n",
        "plt.ylim([0, 1])\n",
        "plt.legend(loc='lower right')\n",
        "plt.show()\n",
        "\n",
        "# Plot the training and validation loss over epochs\n",
        "plt.plot(history_LSTM.history['loss'], label='Training Loss')\n",
        "plt.plot(history_LSTM.history['val_loss'], label='Validation Loss')\n",
        "plt.xlabel('Epoch')\n",
        "plt.ylabel('Loss')\n",
        "plt.legend(loc='upper right')\n",
        "plt.show()\n"
      ],
      "metadata": {
        "id": "QGBVZcU_0_Fw",
        "colab": {
          "base_uri": "https://localhost:8080/",
          "height": 1000
        },
        "outputId": "d21dda4c-1221-428a-b823-443d1c68152a"
      },
      "execution_count": null,
      "outputs": [
        {
          "output_type": "display_data",
          "data": {
            "text/plain": [
              "<Figure size 640x480 with 1 Axes>"
            ],
            "image/png": "[encoded data removed]"
          },
          "metadata": {}
        },
        {
          "output_type": "display_data",
          "data": {
            "text/plain": [
              "<Figure size 640x480 with 1 Axes>"
            ],
            "image/png": "[encoded data removed]"
          },
          "metadata": {}
        },
        {
          "output_type": "display_data",
          "data": {
            "text/plain": [
              "<Figure size 640x480 with 1 Axes>"
            ],
            "image/png": "[encoded data removed]"
          },
          "metadata": {}
        }
      ]
    },
    {
      "cell_type": "markdown",
      "metadata": {
        "id": "NEl8DpHrzmQH"
      },
      "source": [
        "##Evaluation"
      ]
    },
    {
      "cell_type": "code",
      "execution_count": null,
      "metadata": {
        "id": "USYW_yNXzmQI",
        "colab": {
          "base_uri": "https://localhost:8080/"
        },
        "outputId": "e2d292e1-1ba8-46f4-a350-79bd343dee78"
      },
      "outputs": [
        {
          "output_type": "stream",
          "name": "stdout",
          "text": [
            "102/102 [==============================] - 2s 10ms/step\n",
            "26/26 [==============================] - 0s 9ms/step\n",
            "Accuracy (train): 0.7352\n",
            "AUC (train): 0.8074\n",
            "Accuracy (valid): 0.7171\n",
            "AUC (valid): 0.7614\n"
          ]
        }
      ],
      "source": [
        "from sklearn.metrics import roc_auc_score\n",
        "\n",
        "threshold = 0.5\n",
        "\n",
        "y_train_pred = model.predict(x_train)\n",
        "# Convert probabilities to binary predictions\n",
        "y_train_pred_binary = (y_train_pred > threshold).astype(int)\n",
        "y_valid_pred = model.predict(x_valid)\n",
        "y_valid_pred_binary = (y_valid_pred > threshold).astype(int)\n",
        "\n",
        "from sklearn.metrics import accuracy_score, confusion_matrix, classification_report, roc_curve, auc, roc_auc_score\n",
        "accuracy_train = accuracy_score(y_train, y_train_pred_binary)\n",
        "auc_train = roc_auc_score(y_train, y_train_pred)\n",
        "\n",
        "accuracy_valid = accuracy_score(y_valid, y_valid_pred_binary)\n",
        "auc_valid = roc_auc_score(y_valid, y_valid_pred)\n",
        "\n",
        "print(f'Accuracy (train): {accuracy_train:.4f}')\n",
        "print(f'AUC (train): {auc_train:.4f}')\n",
        "\n",
        "print(f'Accuracy (valid): {accuracy_valid:.4f}')\n",
        "print(f'AUC (valid): {auc_valid:.4f}')"
      ]
    },
    {
      "cell_type": "code",
      "execution_count": null,
      "metadata": {
        "id": "WlO-I_zuzmQI",
        "colab": {
          "base_uri": "https://localhost:8080/"
        },
        "outputId": "b2b95f99-2bcb-4bad-d978-a8a1024784ad"
      },
      "outputs": [
        {
          "output_type": "stream",
          "name": "stdout",
          "text": [
            "For training set:\n",
            "Precision: 0.7704\n",
            "Recall: 0.6716\n",
            "F1 Score: 0.7176 \n",
            "\n",
            "For validation set:\n",
            "Precision: 0.7282\n",
            "Recall: 0.6849\n",
            "F1 Score: 0.7059\n"
          ]
        }
      ],
      "source": [
        "from sklearn.metrics import precision_score, recall_score, f1_score\n",
        "# Calculate precision, recall, and F1 score\n",
        "precision = precision_score(y_train, y_train_pred_binary, zero_division=1)\n",
        "recall = recall_score(y_train, y_train_pred_binary, zero_division=1)\n",
        "f1 = f1_score(y_train, y_train_pred_binary, zero_division=1)\n",
        "\n",
        "# Print with 4 digits limit\n",
        "print(\"For training set:\")\n",
        "print(\"Precision:\", round(precision, 4))\n",
        "print(\"Recall:\", round(recall, 4))\n",
        "print(\"F1 Score:\", round(f1, 4),\"\\n\")\n",
        "\n",
        "# Calculate precision, recall, and F1 score\n",
        "precision = precision_score(y_valid, y_valid_pred_binary, zero_division=1)\n",
        "recall = recall_score(y_valid, y_valid_pred_binary, zero_division=1)\n",
        "f1 = f1_score(y_valid, y_valid_pred_binary, zero_division=1)\n",
        "\n",
        "# Print with 4 digits limit\n",
        "print(\"For validation set:\")\n",
        "print(\"Precision:\", round(precision, 4))\n",
        "print(\"Recall:\", round(recall, 4))\n",
        "print(\"F1 Score:\", round(f1, 4))"
      ]
    },
    {
      "cell_type": "code",
      "execution_count": null,
      "metadata": {
        "id": "Vwi1uceMzmQI",
        "colab": {
          "base_uri": "https://localhost:8080/"
        },
        "outputId": "42c9f16c-e2aa-411e-d295-7687d8efe872"
      },
      "outputs": [
        {
          "output_type": "stream",
          "name": "stdout",
          "text": [
            "92/92 [==============================] - 1s 9ms/step\n"
          ]
        }
      ],
      "source": [
        "y_test_pred = model.predict(x_test)\n",
        "#y_test_pred_binary = (y_test_pred > threshold).astype(int)"
      ]
    },
    {
      "cell_type": "code",
      "execution_count": null,
      "metadata": {
        "id": "z6AmCWTMzmQJ",
        "colab": {
          "base_uri": "https://localhost:8080/",
          "height": 17
        },
        "outputId": "22034ee0-a3a2-4fb3-f600-f8fbcdbaa363"
      },
      "outputs": [
        {
          "output_type": "display_data",
          "data": {
            "text/plain": [
              "<IPython.core.display.Javascript object>"
            ],
            "application/javascript": [
              "\n",
              "    async function download(id, filename, size) {\n",
              "      if (!google.colab.kernel.accessAllowed) {\n",
              "        return;\n",
              "      }\n",
              "      const div = document.createElement('div');\n",
              "      const label = document.createElement('label');\n",
              "      label.textContent = `Downloading \"${filename}\": `;\n",
              "      div.appendChild(label);\n",
              "      const progress = document.createElement('progress');\n",
              "      progress.max = size;\n",
              "      div.appendChild(progress);\n",
              "      document.body.appendChild(div);\n",
              "\n",
              "      const buffers = [];\n",
              "      let downloaded = 0;\n",
              "\n",
              "      const channel = await google.colab.kernel.comms.open(id);\n",
              "      // Send a message to notify the kernel that we're ready.\n",
              "      channel.send({})\n",
              "\n",
              "      for await (const message of channel.messages) {\n",
              "        // Send a message to notify the kernel that we're ready.\n",
              "        channel.send({})\n",
              "        if (message.buffers) {\n",
              "          for (const buffer of message.buffers) {\n",
              "            buffers.push(buffer);\n",
              "            downloaded += buffer.byteLength;\n",
              "            progress.value = downloaded;\n",
              "          }\n",
              "        }\n",
              "      }\n",
              "      const blob = new Blob(buffers, {type: 'application/binary'});\n",
              "      const a = document.createElement('a');\n",
              "      a.href = window.URL.createObjectURL(blob);\n",
              "      a.download = filename;\n",
              "      div.appendChild(a);\n",
              "      a.click();\n",
              "      div.remove();\n",
              "    }\n",
              "  "
            ]
          },
          "metadata": {}
        },
        {
          "output_type": "display_data",
          "data": {
            "text/plain": [
              "<IPython.core.display.Javascript object>"
            ],
            "application/javascript": [
              "download(\"download_1f8e1db4-8f55-4eac-b37f-b3076fbc658d\", \"predictions.csv\", 84090)"
            ]
          },
          "metadata": {}
        }
      ],
      "source": [
        "# Assuming y_test_pred_binary is a numpy array\n",
        "predictions_df = pd.DataFrame(y_test_pred, columns=['readmitted_within_30days'])\n",
        "merged_df = test[['id']].merge(predictions_df, left_index=True, right_index=True)\n",
        "merged_df.to_csv('predictions.csv', index=False)\n",
        "\n",
        "from google.colab import files\n",
        "files.download('predictions.csv')"
      ]
    }
  ],
  "metadata": {
    "colab": {
      "provenance": [],
      "gpuType": "T4"
    },
    "kernelspec": {
      "display_name": "Python 3",
      "name": "python3"
    },
    "language_info": {
      "codemirror_mode": {
        "name": "ipython",
        "version": 3
      },
      "file_extension": ".py",
      "mimetype": "text/x-python",
      "name": "python",
      "nbconvert_exporter": "python",
      "pygments_lexer": "ipython3",
      "version": "3.7.0"
    },
    "accelerator": "GPU"
  },
  "nbformat": 4,
  "nbformat_minor": 0
}