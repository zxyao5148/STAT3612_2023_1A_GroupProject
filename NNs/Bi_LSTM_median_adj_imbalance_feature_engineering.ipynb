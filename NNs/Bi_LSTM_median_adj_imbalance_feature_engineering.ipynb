{
  "cells": [
    {
      "cell_type": "markdown",
      "metadata": {
        "id": "view-in-github",
        "colab_type": "text"
      },
      "source": [
        "<a href=\"https://colab.research.google.com/github/zxyao5148/STAT3612_2023_1A_GroupProject/blob/main/RNN_Transformer/Bi_LSTM_median_adj_imbalance_feature_engineering.ipynb\" target=\"_parent\"><img src=\"https://colab.research.google.com/assets/colab-badge.svg\" alt=\"Open In Colab\"/></a>"
      ]
    },
    {
      "cell_type": "markdown",
      "metadata": {
        "id": "fFipp7tAAVxh"
      },
      "source": [
        "**Description:** This notebook demonstrates how to do timeseries classification using RNN models (Simple RNN, LSTM, and GRU).\n",
        "\n",
        "Reference: https://www.kaggle.com/code/thebrownviking20/intro-to-recurrent-neural-networks-lstm-gru/notebook"
      ]
    },
    {
      "cell_type": "markdown",
      "metadata": {
        "id": "ll7UTtsyAVxj"
      },
      "source": [
        "## Load the dataset"
      ]
    },
    {
      "cell_type": "code",
      "execution_count": 80,
      "metadata": {
        "id": "U-qy06BXAVxk"
      },
      "outputs": [],
      "source": [
        "import pandas as pd\n",
        "import requests\n",
        "from io import StringIO\n",
        "import numpy as np\n",
        "from sklearn.model_selection import train_test_split\n",
        "\n",
        "# Raw URLs for the CSV files\n",
        "train_url = \"https://raw.githubusercontent.com/zxyao5148/STAT3612_2023_1A_GroupProject/main/RNN_Transformer/train_valid.csv\"\n",
        "test_url = \"https://raw.githubusercontent.com/zxyao5148/STAT3612_2023_1A_GroupProject/main/RNN_Transformer/test.csv\"\n",
        "\n",
        "# Download the CSV files\n",
        "train_csv = requests.get(train_url).text\n",
        "test_csv = requests.get(test_url).text\n",
        "\n",
        "# Read the CSV files into pandas DataFrames\n",
        "train_valid = pd.read_csv(StringIO(train_csv))\n",
        "test = pd.read_csv(StringIO(test_csv))"
      ]
    },
    {
      "cell_type": "code",
      "source": [
        "x_train_valid = train_valid.iloc[:,5:7].join(train_valid.iloc[:,8:])\n",
        "y_train_valid = train_valid.iloc[:,7]\n",
        "\n",
        "!wget https://raw.githubusercontent.com/zxyao5148/STAT3612_2023_1A_GroupProject/main/code_base/adjust_imbl.py\n",
        "from adjust_imbl import adjust_imbl\n",
        "x_train_valid, y_train_valid = adjust_imbl(x_train_valid, y_train_valid)\n",
        "\n",
        "# with 80% of the data for training and 20% for validation\n",
        "x_train, x_valid, y_train, y_valid = train_test_split(x_train_valid, y_train_valid, test_size=0.2, random_state=3612)\n",
        "\n",
        "x_test = test.iloc[:,5:]"
      ],
      "metadata": {
        "id": "dM-28emiKvtK",
        "colab": {
          "base_uri": "https://localhost:8080/"
        },
        "outputId": "68d9c954-17e8-4265-f82b-944355e6f7f2"
      },
      "execution_count": 81,
      "outputs": [
        {
          "output_type": "stream",
          "name": "stdout",
          "text": [
            "--2023-11-18 07:54:42--  https://raw.githubusercontent.com/zxyao5148/STAT3612_2023_1A_GroupProject/main/code_base/adjust_imbl.py\n",
            "Resolving raw.githubusercontent.com (raw.githubusercontent.com)... 185.199.109.133, 185.199.110.133, 185.199.108.133, ...\n",
            "Connecting to raw.githubusercontent.com (raw.githubusercontent.com)|185.199.109.133|:443... connected.\n",
            "HTTP request sent, awaiting response... 200 OK\n",
            "Length: 927 [text/plain]\n",
            "Saving to: ‘adjust_imbl.py.10’\n",
            "\n",
            "\radjust_imbl.py.10     0%[                    ]       0  --.-KB/s               \radjust_imbl.py.10   100%[===================>]     927  --.-KB/s    in 0s      \n",
            "\n",
            "2023-11-18 07:54:42 (73.4 MB/s) - ‘adjust_imbl.py.10’ saved [927/927]\n",
            "\n",
            "Original dataset shape Counter({0: 9564, 1: 2032})\n",
            "Resampled dataset shape Counter({0: 2032, 1: 2032})\n"
          ]
        }
      ]
    },
    {
      "cell_type": "code",
      "execution_count": 82,
      "metadata": {
        "id": "ElXnpwlhE0i8"
      },
      "outputs": [],
      "source": [
        "x_train = x_train.values.reshape((x_train.shape[0], x_train.shape[1], 1))\n",
        "x_valid = x_valid.values.reshape((x_valid.shape[0], x_valid.shape[1], 1))\n",
        "x_test = x_test.values.reshape((x_test.shape[0], x_test.shape[1], 1))\n",
        "\n",
        "# Reset the index of the y_train DataFrame\n",
        "y_train = y_train.reset_index(drop=True)\n",
        "\n",
        "# Shuffle the indices\n",
        "idx = np.random.permutation(len(x_train))\n",
        "\n",
        "# Reassign the values using the shuffled indices\n",
        "x_train = x_train[idx]\n",
        "y_train = y_train.iloc[idx]"
      ]
    },
    {
      "cell_type": "markdown",
      "metadata": {
        "id": "teAicBzgAVxl"
      },
      "source": [
        "## Build the model\n",
        "\n",
        "The model processes a tensor of shape `(batch size, sequence length, features)`,\n",
        "where `sequence length` is the number of time steps and `features` is each input\n",
        "timeseries.\n"
      ]
    },
    {
      "cell_type": "code",
      "execution_count": 83,
      "metadata": {
        "id": "My1EkBMVAVxm"
      },
      "outputs": [],
      "source": [
        "from keras.layers import Dense, Activation, Dropout\n",
        "from keras.layers import LSTM, GRU, SimpleRNN, Bidirectional\n",
        "from keras.models import Sequential\n",
        "import keras\n",
        "from keras.optimizers import Adam\n",
        "from keras.layers import BatchNormalization\n",
        "from keras.regularizers import l2\n",
        "from keras.callbacks import EarlyStopping, ReduceLROnPlateau"
      ]
    },
    {
      "cell_type": "markdown",
      "source": [
        "#  Bidirectional LSTM"
      ],
      "metadata": {
        "id": "9MsiVoA-zIf5"
      }
    },
    {
      "cell_type": "code",
      "source": [
        "model = Sequential()\n",
        "# Add a Bidirectional LSTM layer with return_sequences=True and L2 regularization\n",
        "model.add(Bidirectional(LSTM(64, return_sequences=True, input_shape=(x_train.shape[1], 1), kernel_regularizer=l2(0.01))))\n",
        "# Add Batch Normalization\n",
        "model.add(BatchNormalization())\n",
        "model.add(Dropout(0.3))\n",
        "# Add another Bidirectional LSTM layer with return_sequences=False and activation function set to \"tanh\"\n",
        "model.add(Bidirectional(LSTM(128, return_sequences=False, activation=\"tanh\", kernel_regularizer=l2(0.01))))\n",
        "# Add Batch Normalization\n",
        "model.add(BatchNormalization())\n",
        "model.add(Dropout(0.3))\n",
        "model.add(Dense(1, activation=\"sigmoid\"))\n",
        "\n",
        "# Compile the model with a lower learning rate and use ReduceLROnPlateau for learning rate scheduling\n",
        "model.compile(loss='binary_crossentropy', optimizer=Adam(learning_rate=0.001), metrics=[\"accuracy\"])\n",
        "\n",
        "print('model compiled')\n",
        "\n",
        "# Define early stopping and learning rate reduction callbacks\n",
        "callbacks = [EarlyStopping(patience=10, restore_best_weights=True), ReduceLROnPlateau(factor=0.1, patience=5)]\n",
        "\n",
        "# Print model summary\n",
        "#print(model.summary())\n",
        "\n",
        "# Train the model with a smaller batch size\n",
        "history_LSTM = model.fit(x_train, y_train, batch_size=128, epochs=200, validation_data=(x_valid, y_valid), callbacks=callbacks)"
      ],
      "metadata": {
        "colab": {
          "base_uri": "https://localhost:8080/"
        },
        "id": "NNvQqs6LzVl4",
        "outputId": "c8849040-b6db-4a76-ebdc-f2fe40f4d6e5"
      },
      "execution_count": 84,
      "outputs": [
        {
          "output_type": "stream",
          "name": "stdout",
          "text": [
            "model compiled\n",
            "Epoch 1/200\n",
            "26/26 [==============================] - 12s 126ms/step - loss: 4.0988 - accuracy: 0.6549 - val_loss: 3.3763 - val_accuracy: 0.4957 - lr: 0.0010\n",
            "Epoch 2/200\n",
            "26/26 [==============================] - 1s 44ms/step - loss: 2.6441 - accuracy: 0.8047 - val_loss: 2.4082 - val_accuracy: 0.6039 - lr: 0.0010\n",
            "Epoch 3/200\n",
            "26/26 [==============================] - 1s 44ms/step - loss: 1.7898 - accuracy: 0.8416 - val_loss: 1.8192 - val_accuracy: 0.6679 - lr: 0.0010\n",
            "Epoch 4/200\n",
            "26/26 [==============================] - 1s 44ms/step - loss: 1.3196 - accuracy: 0.8502 - val_loss: 1.4703 - val_accuracy: 0.6039 - lr: 0.0010\n",
            "Epoch 5/200\n",
            "26/26 [==============================] - 1s 44ms/step - loss: 1.0382 - accuracy: 0.8496 - val_loss: 1.2472 - val_accuracy: 0.7269 - lr: 0.0010\n",
            "Epoch 6/200\n",
            "26/26 [==============================] - 1s 44ms/step - loss: 0.8468 - accuracy: 0.8622 - val_loss: 1.0943 - val_accuracy: 0.6962 - lr: 0.0010\n",
            "Epoch 7/200\n",
            "26/26 [==============================] - 1s 46ms/step - loss: 0.7219 - accuracy: 0.8582 - val_loss: 0.9799 - val_accuracy: 0.6962 - lr: 0.0010\n",
            "Epoch 8/200\n",
            "26/26 [==============================] - 1s 50ms/step - loss: 0.6322 - accuracy: 0.8616 - val_loss: 0.8863 - val_accuracy: 0.7085 - lr: 0.0010\n",
            "Epoch 9/200\n",
            "26/26 [==============================] - 1s 48ms/step - loss: 0.5788 - accuracy: 0.8496 - val_loss: 0.8228 - val_accuracy: 0.6396 - lr: 0.0010\n",
            "Epoch 10/200\n",
            "26/26 [==============================] - 1s 47ms/step - loss: 0.5091 - accuracy: 0.8604 - val_loss: 0.7615 - val_accuracy: 0.6138 - lr: 0.0010\n",
            "Epoch 11/200\n",
            "26/26 [==============================] - 1s 44ms/step - loss: 0.4881 - accuracy: 0.8564 - val_loss: 0.7062 - val_accuracy: 0.8536 - lr: 0.0010\n",
            "Epoch 12/200\n",
            "26/26 [==============================] - 1s 44ms/step - loss: 0.4523 - accuracy: 0.8619 - val_loss: 0.6497 - val_accuracy: 0.7491 - lr: 0.0010\n",
            "Epoch 13/200\n",
            "26/26 [==============================] - 1s 44ms/step - loss: 0.4282 - accuracy: 0.8634 - val_loss: 0.6106 - val_accuracy: 0.8266 - lr: 0.0010\n",
            "Epoch 14/200\n",
            "26/26 [==============================] - 1s 44ms/step - loss: 0.4025 - accuracy: 0.8613 - val_loss: 0.5440 - val_accuracy: 0.8536 - lr: 0.0010\n",
            "Epoch 15/200\n",
            "26/26 [==============================] - 1s 44ms/step - loss: 0.3895 - accuracy: 0.8594 - val_loss: 0.5034 - val_accuracy: 0.8536 - lr: 0.0010\n",
            "Epoch 16/200\n",
            "26/26 [==============================] - 1s 44ms/step - loss: 0.3744 - accuracy: 0.8650 - val_loss: 0.4858 - val_accuracy: 0.8536 - lr: 0.0010\n",
            "Epoch 17/200\n",
            "26/26 [==============================] - 1s 44ms/step - loss: 0.3606 - accuracy: 0.8573 - val_loss: 0.4384 - val_accuracy: 0.8536 - lr: 0.0010\n",
            "Epoch 18/200\n",
            "26/26 [==============================] - 1s 44ms/step - loss: 0.3469 - accuracy: 0.8671 - val_loss: 0.4149 - val_accuracy: 0.8536 - lr: 0.0010\n",
            "Epoch 19/200\n",
            "26/26 [==============================] - 1s 47ms/step - loss: 0.3431 - accuracy: 0.8564 - val_loss: 0.3868 - val_accuracy: 0.8610 - lr: 0.0010\n",
            "Epoch 20/200\n",
            "26/26 [==============================] - 1s 48ms/step - loss: 0.3430 - accuracy: 0.8637 - val_loss: 0.3566 - val_accuracy: 0.8536 - lr: 0.0010\n",
            "Epoch 21/200\n",
            "26/26 [==============================] - 1s 47ms/step - loss: 0.3243 - accuracy: 0.8683 - val_loss: 0.3300 - val_accuracy: 0.8573 - lr: 0.0010\n",
            "Epoch 22/200\n",
            "26/26 [==============================] - 1s 45ms/step - loss: 0.3298 - accuracy: 0.8613 - val_loss: 0.3397 - val_accuracy: 0.8647 - lr: 0.0010\n",
            "Epoch 23/200\n",
            "26/26 [==============================] - 1s 44ms/step - loss: 0.3314 - accuracy: 0.8490 - val_loss: 0.3442 - val_accuracy: 0.8610 - lr: 0.0010\n",
            "Epoch 24/200\n",
            "26/26 [==============================] - 1s 46ms/step - loss: 0.3446 - accuracy: 0.8551 - val_loss: 0.3405 - val_accuracy: 0.8795 - lr: 0.0010\n",
            "Epoch 25/200\n",
            "26/26 [==============================] - 1s 44ms/step - loss: 0.3296 - accuracy: 0.8613 - val_loss: 0.3168 - val_accuracy: 0.8782 - lr: 0.0010\n",
            "Epoch 26/200\n",
            "26/26 [==============================] - 1s 44ms/step - loss: 0.3267 - accuracy: 0.8631 - val_loss: 0.3449 - val_accuracy: 0.8549 - lr: 0.0010\n",
            "Epoch 27/200\n",
            "26/26 [==============================] - 1s 44ms/step - loss: 0.3161 - accuracy: 0.8662 - val_loss: 0.3267 - val_accuracy: 0.8536 - lr: 0.0010\n",
            "Epoch 28/200\n",
            "26/26 [==============================] - 1s 45ms/step - loss: 0.3094 - accuracy: 0.8674 - val_loss: 0.2979 - val_accuracy: 0.8696 - lr: 0.0010\n",
            "Epoch 29/200\n",
            "26/26 [==============================] - 1s 44ms/step - loss: 0.3016 - accuracy: 0.8622 - val_loss: 0.3582 - val_accuracy: 0.8536 - lr: 0.0010\n",
            "Epoch 30/200\n",
            "26/26 [==============================] - 1s 45ms/step - loss: 0.3069 - accuracy: 0.8582 - val_loss: 0.2811 - val_accuracy: 0.8831 - lr: 0.0010\n",
            "Epoch 31/200\n",
            "26/26 [==============================] - 1s 47ms/step - loss: 0.3094 - accuracy: 0.8564 - val_loss: 0.2793 - val_accuracy: 0.8708 - lr: 0.0010\n",
            "Epoch 32/200\n",
            "26/26 [==============================] - 1s 48ms/step - loss: 0.3054 - accuracy: 0.8631 - val_loss: 0.2728 - val_accuracy: 0.8807 - lr: 0.0010\n",
            "Epoch 33/200\n",
            "26/26 [==============================] - 1s 49ms/step - loss: 0.2925 - accuracy: 0.8656 - val_loss: 0.2775 - val_accuracy: 0.8807 - lr: 0.0010\n",
            "Epoch 34/200\n",
            "26/26 [==============================] - 1s 45ms/step - loss: 0.2999 - accuracy: 0.8567 - val_loss: 0.2673 - val_accuracy: 0.8733 - lr: 0.0010\n",
            "Epoch 35/200\n",
            "26/26 [==============================] - 1s 45ms/step - loss: 0.2852 - accuracy: 0.8699 - val_loss: 0.2751 - val_accuracy: 0.8549 - lr: 0.0010\n",
            "Epoch 36/200\n",
            "26/26 [==============================] - 1s 45ms/step - loss: 0.2875 - accuracy: 0.8650 - val_loss: 0.2725 - val_accuracy: 0.8622 - lr: 0.0010\n",
            "Epoch 37/200\n",
            "26/26 [==============================] - 1s 45ms/step - loss: 0.2894 - accuracy: 0.8650 - val_loss: 0.2647 - val_accuracy: 0.8758 - lr: 0.0010\n",
            "Epoch 38/200\n",
            "26/26 [==============================] - 1s 45ms/step - loss: 0.2868 - accuracy: 0.8693 - val_loss: 0.2736 - val_accuracy: 0.8696 - lr: 0.0010\n",
            "Epoch 39/200\n",
            "26/26 [==============================] - 1s 45ms/step - loss: 0.2910 - accuracy: 0.8560 - val_loss: 0.2623 - val_accuracy: 0.8831 - lr: 0.0010\n",
            "Epoch 40/200\n",
            "26/26 [==============================] - 1s 44ms/step - loss: 0.2840 - accuracy: 0.8696 - val_loss: 0.2639 - val_accuracy: 0.8745 - lr: 0.0010\n",
            "Epoch 41/200\n",
            "26/26 [==============================] - 1s 45ms/step - loss: 0.2874 - accuracy: 0.8680 - val_loss: 0.2641 - val_accuracy: 0.8782 - lr: 0.0010\n",
            "Epoch 42/200\n",
            "26/26 [==============================] - 1s 46ms/step - loss: 0.2882 - accuracy: 0.8604 - val_loss: 0.2627 - val_accuracy: 0.8745 - lr: 0.0010\n",
            "Epoch 43/200\n",
            "26/26 [==============================] - 1s 47ms/step - loss: 0.2852 - accuracy: 0.8683 - val_loss: 0.2687 - val_accuracy: 0.8807 - lr: 0.0010\n",
            "Epoch 44/200\n",
            "26/26 [==============================] - 1s 47ms/step - loss: 0.2885 - accuracy: 0.8594 - val_loss: 0.2699 - val_accuracy: 0.8782 - lr: 0.0010\n",
            "Epoch 45/200\n",
            "26/26 [==============================] - 1s 45ms/step - loss: 0.2819 - accuracy: 0.8723 - val_loss: 0.2662 - val_accuracy: 0.8721 - lr: 1.0000e-04\n",
            "Epoch 46/200\n",
            "26/26 [==============================] - 1s 45ms/step - loss: 0.2743 - accuracy: 0.8665 - val_loss: 0.2608 - val_accuracy: 0.8770 - lr: 1.0000e-04\n",
            "Epoch 47/200\n",
            "26/26 [==============================] - 1s 45ms/step - loss: 0.2761 - accuracy: 0.8705 - val_loss: 0.2599 - val_accuracy: 0.8770 - lr: 1.0000e-04\n",
            "Epoch 48/200\n",
            "26/26 [==============================] - 1s 45ms/step - loss: 0.2780 - accuracy: 0.8668 - val_loss: 0.2568 - val_accuracy: 0.8844 - lr: 1.0000e-04\n",
            "Epoch 49/200\n",
            "26/26 [==============================] - 1s 45ms/step - loss: 0.2730 - accuracy: 0.8699 - val_loss: 0.2562 - val_accuracy: 0.8831 - lr: 1.0000e-04\n",
            "Epoch 50/200\n",
            "26/26 [==============================] - 1s 45ms/step - loss: 0.2783 - accuracy: 0.8671 - val_loss: 0.2556 - val_accuracy: 0.8844 - lr: 1.0000e-04\n",
            "Epoch 51/200\n",
            "26/26 [==============================] - 1s 45ms/step - loss: 0.2718 - accuracy: 0.8674 - val_loss: 0.2548 - val_accuracy: 0.8831 - lr: 1.0000e-04\n",
            "Epoch 52/200\n",
            "26/26 [==============================] - 1s 45ms/step - loss: 0.2703 - accuracy: 0.8723 - val_loss: 0.2545 - val_accuracy: 0.8844 - lr: 1.0000e-04\n",
            "Epoch 53/200\n",
            "26/26 [==============================] - 1s 47ms/step - loss: 0.2721 - accuracy: 0.8714 - val_loss: 0.2551 - val_accuracy: 0.8856 - lr: 1.0000e-04\n",
            "Epoch 54/200\n",
            "26/26 [==============================] - 1s 49ms/step - loss: 0.2758 - accuracy: 0.8637 - val_loss: 0.2534 - val_accuracy: 0.8819 - lr: 1.0000e-04\n",
            "Epoch 55/200\n",
            "26/26 [==============================] - 1s 48ms/step - loss: 0.2692 - accuracy: 0.8739 - val_loss: 0.2548 - val_accuracy: 0.8868 - lr: 1.0000e-04\n",
            "Epoch 56/200\n",
            "26/26 [==============================] - 1s 48ms/step - loss: 0.2647 - accuracy: 0.8754 - val_loss: 0.2529 - val_accuracy: 0.8868 - lr: 1.0000e-04\n",
            "Epoch 57/200\n",
            "26/26 [==============================] - 1s 45ms/step - loss: 0.2684 - accuracy: 0.8711 - val_loss: 0.2531 - val_accuracy: 0.8881 - lr: 1.0000e-04\n",
            "Epoch 58/200\n",
            "26/26 [==============================] - 1s 46ms/step - loss: 0.2671 - accuracy: 0.8733 - val_loss: 0.2522 - val_accuracy: 0.8856 - lr: 1.0000e-04\n",
            "Epoch 59/200\n",
            "26/26 [==============================] - 1s 45ms/step - loss: 0.2737 - accuracy: 0.8699 - val_loss: 0.2528 - val_accuracy: 0.8868 - lr: 1.0000e-04\n",
            "Epoch 60/200\n",
            "26/26 [==============================] - 1s 46ms/step - loss: 0.2726 - accuracy: 0.8687 - val_loss: 0.2519 - val_accuracy: 0.8844 - lr: 1.0000e-04\n",
            "Epoch 61/200\n",
            "26/26 [==============================] - 1s 45ms/step - loss: 0.2654 - accuracy: 0.8736 - val_loss: 0.2520 - val_accuracy: 0.8831 - lr: 1.0000e-04\n",
            "Epoch 62/200\n",
            "26/26 [==============================] - 1s 45ms/step - loss: 0.2674 - accuracy: 0.8760 - val_loss: 0.2541 - val_accuracy: 0.8868 - lr: 1.0000e-04\n",
            "Epoch 63/200\n",
            "26/26 [==============================] - 1s 46ms/step - loss: 0.2639 - accuracy: 0.8831 - val_loss: 0.2529 - val_accuracy: 0.8856 - lr: 1.0000e-04\n",
            "Epoch 64/200\n",
            "26/26 [==============================] - 1s 45ms/step - loss: 0.2649 - accuracy: 0.8748 - val_loss: 0.2537 - val_accuracy: 0.8819 - lr: 1.0000e-04\n",
            "Epoch 65/200\n",
            "26/26 [==============================] - 1s 49ms/step - loss: 0.2709 - accuracy: 0.8696 - val_loss: 0.2552 - val_accuracy: 0.8831 - lr: 1.0000e-04\n",
            "Epoch 66/200\n",
            "26/26 [==============================] - 1s 48ms/step - loss: 0.2616 - accuracy: 0.8745 - val_loss: 0.2539 - val_accuracy: 0.8831 - lr: 1.0000e-05\n",
            "Epoch 67/200\n",
            "26/26 [==============================] - 1s 48ms/step - loss: 0.2667 - accuracy: 0.8705 - val_loss: 0.2531 - val_accuracy: 0.8868 - lr: 1.0000e-05\n",
            "Epoch 68/200\n",
            "26/26 [==============================] - 1s 45ms/step - loss: 0.2620 - accuracy: 0.8797 - val_loss: 0.2527 - val_accuracy: 0.8868 - lr: 1.0000e-05\n",
            "Epoch 69/200\n",
            "26/26 [==============================] - 1s 45ms/step - loss: 0.2683 - accuracy: 0.8696 - val_loss: 0.2527 - val_accuracy: 0.8881 - lr: 1.0000e-05\n",
            "Epoch 70/200\n",
            "26/26 [==============================] - 1s 45ms/step - loss: 0.2647 - accuracy: 0.8785 - val_loss: 0.2525 - val_accuracy: 0.8881 - lr: 1.0000e-05\n"
          ]
        }
      ]
    },
    {
      "cell_type": "code",
      "source": [
        "import matplotlib.pyplot as plt\n",
        "\n",
        "# Plot the training and validation accuracy over epochs\n",
        "plt.plot(history_LSTM.history['accuracy'], label='Training Accuracy')\n",
        "plt.plot(history_LSTM.history['val_accuracy'], label='Validation Accuracy')\n",
        "plt.xlabel('Epoch')\n",
        "plt.ylabel('Accuracy')\n",
        "plt.ylim([0, 1])\n",
        "plt.legend(loc='lower right')\n",
        "plt.show()\n",
        "\n",
        "# Plot the training and validation loss over epochs\n",
        "plt.plot(history_LSTM.history['loss'], label='Training Loss')\n",
        "plt.plot(history_LSTM.history['val_loss'], label='Validation Loss')\n",
        "plt.xlabel('Epoch')\n",
        "plt.ylabel('Loss')\n",
        "plt.legend(loc='upper right')\n",
        "plt.show()\n"
      ],
      "metadata": {
        "colab": {
          "base_uri": "https://localhost:8080/",
          "height": 887
        },
        "id": "QGBVZcU_0_Fw",
        "outputId": "83dd33e9-581c-4bad-b2cf-9093f7d72718"
      },
      "execution_count": 85,
      "outputs": [
        {
          "output_type": "display_data",
          "data": {
            "text/plain": [
              "<Figure size 640x480 with 1 Axes>"
            ],
            "image/png": "[encoded data removed]"
          },
          "metadata": {}
        },
        {
          "output_type": "display_data",
          "data": {
            "text/plain": [
              "<Figure size 640x480 with 1 Axes>"
            ],
            "image/png": "[encoded data removed]"
          },
          "metadata": {}
        }
      ]
    },
    {
      "cell_type": "markdown",
      "metadata": {
        "id": "NEl8DpHrzmQH"
      },
      "source": [
        "##Evaluation"
      ]
    },
    {
      "cell_type": "code",
      "execution_count": 86,
      "metadata": {
        "colab": {
          "base_uri": "https://localhost:8080/"
        },
        "outputId": "4203e78d-6642-4ac6-a4aa-d5e69ec5dee5",
        "id": "USYW_yNXzmQI"
      },
      "outputs": [
        {
          "output_type": "stream",
          "name": "stdout",
          "text": [
            "102/102 [==============================] - 3s 14ms/step\n",
            "26/26 [==============================] - 0s 10ms/step\n",
            "Accuracy (train): 0.8791\n",
            "AUC (train): 0.9606\n",
            "Accuracy (valid): 0.8844\n",
            "AUC (valid): 0.9598\n"
          ]
        }
      ],
      "source": [
        "from sklearn.metrics import roc_auc_score\n",
        "\n",
        "threshold = 0.5\n",
        "\n",
        "y_train_pred = model.predict(x_train)\n",
        "# Convert probabilities to binary predictions\n",
        "y_train_pred_binary = (y_train_pred > threshold).astype(int)\n",
        "y_valid_pred = model.predict(x_valid)\n",
        "y_valid_pred_binary = (y_valid_pred > threshold).astype(int)\n",
        "\n",
        "from sklearn.metrics import accuracy_score, confusion_matrix, classification_report, roc_curve, auc, roc_auc_score\n",
        "accuracy_train = accuracy_score(y_train, y_train_pred_binary)\n",
        "auc_train = roc_auc_score(y_train, y_train_pred)\n",
        "\n",
        "accuracy_valid = accuracy_score(y_valid, y_valid_pred_binary)\n",
        "auc_valid = roc_auc_score(y_valid, y_valid_pred)\n",
        "\n",
        "print(f'Accuracy (train): {accuracy_train:.4f}')\n",
        "print(f'AUC (train): {auc_train:.4f}')\n",
        "\n",
        "print(f'Accuracy (valid): {accuracy_valid:.4f}')\n",
        "print(f'AUC (valid): {auc_valid:.4f}')"
      ]
    },
    {
      "cell_type": "code",
      "execution_count": 87,
      "metadata": {
        "id": "WlO-I_zuzmQI",
        "colab": {
          "base_uri": "https://localhost:8080/"
        },
        "outputId": "e8dabb07-073b-4c93-bde3-f77572d1909c"
      },
      "outputs": [
        {
          "output_type": "stream",
          "name": "stdout",
          "text": [
            "For training set:\n",
            "Precision: 0.8782\n",
            "Recall: 0.8809\n",
            "F1 Score: 0.8796 \n",
            "\n",
            "For validation set:\n",
            "Precision: 0.8892\n",
            "Recall: 0.8759\n",
            "F1 Score: 0.8825\n"
          ]
        }
      ],
      "source": [
        "from sklearn.metrics import precision_score, recall_score, f1_score\n",
        "# Calculate precision, recall, and F1 score\n",
        "precision = precision_score(y_train, y_train_pred_binary, zero_division=1)\n",
        "recall = recall_score(y_train, y_train_pred_binary, zero_division=1)\n",
        "f1 = f1_score(y_train, y_train_pred_binary, zero_division=1)\n",
        "\n",
        "# Print with 4 digits limit\n",
        "print(\"For training set:\")\n",
        "print(\"Precision:\", round(precision, 4))\n",
        "print(\"Recall:\", round(recall, 4))\n",
        "print(\"F1 Score:\", round(f1, 4),\"\\n\")\n",
        "\n",
        "# Calculate precision, recall, and F1 score\n",
        "precision = precision_score(y_valid, y_valid_pred_binary, zero_division=1)\n",
        "recall = recall_score(y_valid, y_valid_pred_binary, zero_division=1)\n",
        "f1 = f1_score(y_valid, y_valid_pred_binary, zero_division=1)\n",
        "\n",
        "# Print with 4 digits limit\n",
        "print(\"For validation set:\")\n",
        "print(\"Precision:\", round(precision, 4))\n",
        "print(\"Recall:\", round(recall, 4))\n",
        "print(\"F1 Score:\", round(f1, 4))"
      ]
    },
    {
      "cell_type": "code",
      "execution_count": 88,
      "metadata": {
        "id": "Vwi1uceMzmQI",
        "colab": {
          "base_uri": "https://localhost:8080/"
        },
        "outputId": "c860711c-8aff-4ec5-9567-71a7efe4ee9a"
      },
      "outputs": [
        {
          "output_type": "stream",
          "name": "stdout",
          "text": [
            "92/92 [==============================] - 1s 10ms/step\n"
          ]
        }
      ],
      "source": [
        "y_test_pred = model.predict(x_test)\n",
        "y_test_pred_binary = (y_test_pred > threshold).astype(int)"
      ]
    },
    {
      "cell_type": "code",
      "execution_count": 89,
      "metadata": {
        "id": "z6AmCWTMzmQJ",
        "colab": {
          "base_uri": "https://localhost:8080/",
          "height": 17
        },
        "outputId": "ba99bdc3-e8ee-4de3-c166-77324ec2de2f"
      },
      "outputs": [
        {
          "output_type": "display_data",
          "data": {
            "text/plain": [
              "<IPython.core.display.Javascript object>"
            ],
            "application/javascript": [
              "\n",
              "    async function download(id, filename, size) {\n",
              "      if (!google.colab.kernel.accessAllowed) {\n",
              "        return;\n",
              "      }\n",
              "      const div = document.createElement('div');\n",
              "      const label = document.createElement('label');\n",
              "      label.textContent = `Downloading \"${filename}\": `;\n",
              "      div.appendChild(label);\n",
              "      const progress = document.createElement('progress');\n",
              "      progress.max = size;\n",
              "      div.appendChild(progress);\n",
              "      document.body.appendChild(div);\n",
              "\n",
              "      const buffers = [];\n",
              "      let downloaded = 0;\n",
              "\n",
              "      const channel = await google.colab.kernel.comms.open(id);\n",
              "      // Send a message to notify the kernel that we're ready.\n",
              "      channel.send({})\n",
              "\n",
              "      for await (const message of channel.messages) {\n",
              "        // Send a message to notify the kernel that we're ready.\n",
              "        channel.send({})\n",
              "        if (message.buffers) {\n",
              "          for (const buffer of message.buffers) {\n",
              "            buffers.push(buffer);\n",
              "            downloaded += buffer.byteLength;\n",
              "            progress.value = downloaded;\n",
              "          }\n",
              "        }\n",
              "      }\n",
              "      const blob = new Blob(buffers, {type: 'application/binary'});\n",
              "      const a = document.createElement('a');\n",
              "      a.href = window.URL.createObjectURL(blob);\n",
              "      a.download = filename;\n",
              "      div.appendChild(a);\n",
              "      a.click();\n",
              "      div.remove();\n",
              "    }\n",
              "  "
            ]
          },
          "metadata": {}
        },
        {
          "output_type": "display_data",
          "data": {
            "text/plain": [
              "<IPython.core.display.Javascript object>"
            ],
            "application/javascript": [
              "download(\"download_f2292414-841f-44ef-809e-e504e2837ff3\", \"predictions.csv\", 58748)"
            ]
          },
          "metadata": {}
        }
      ],
      "source": [
        "# Assuming y_test_pred_binary is a numpy array\n",
        "predictions_df = pd.DataFrame(y_test_pred_binary, columns=['readmitted_within_30days'])\n",
        "merged_df = test[['id']].merge(predictions_df, left_index=True, right_index=True)\n",
        "merged_df.to_csv('predictions.csv', index=False)\n",
        "\n",
        "from google.colab import files\n",
        "files.download('predictions.csv')"
      ]
    }
  ],
  "metadata": {
    "accelerator": "GPU",
    "colab": {
      "provenance": [],
      "gpuType": "T4",
      "include_colab_link": true
    },
    "kernelspec": {
      "display_name": "Python 3",
      "name": "python3"
    },
    "language_info": {
      "codemirror_mode": {
        "name": "ipython",
        "version": 3
      },
      "file_extension": ".py",
      "mimetype": "text/x-python",
      "name": "python",
      "nbconvert_exporter": "python",
      "pygments_lexer": "ipython3",
      "version": "3.7.0"
    }
  },
  "nbformat": 4,
  "nbformat_minor": 0
}