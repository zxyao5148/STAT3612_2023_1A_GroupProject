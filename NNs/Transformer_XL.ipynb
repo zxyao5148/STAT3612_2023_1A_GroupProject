{
  "cells": [
    {
      "cell_type": "markdown",
      "metadata": {
        "id": "fFipp7tAAVxh"
      },
      "source": [
        "# Timeseries classification with a Transformer model\n",
        "\n",
        "[Code source](https://keras.io/examples/timeseries/timeseries_classification_transformer/)<br>\n",
        "**Description:** This notebook demonstrates how to do timeseries classification using a Transformer model."
      ]
    },
    {
      "cell_type": "markdown",
      "metadata": {
        "id": "ll7UTtsyAVxj"
      },
      "source": [
        "## Introduction\n",
        "\n",
        "This is the Transformer architecture from\n",
        "[Attention Is All You Need](https://arxiv.org/abs/1706.03762),\n",
        "applied to timeseries instead of natural language.\n",
        "\n",
        "This example requires TensorFlow 2.4 or higher.\n",
        "\n",
        "## Load the dataset\n",
        "\n",
        "We are going to use the same dataset and preprocessing as the\n",
        "[TimeSeries Classification from Scratch](https://keras.io/examples/timeseries/timeseries_classification_from_scratch)\n",
        "example."
      ]
    },
    {
      "cell_type": "code",
      "source": [
        "import pandas as pd\n",
        "import requests\n",
        "from io import StringIO\n",
        "import numpy as np\n",
        "from sklearn.model_selection import train_test_split"
      ],
      "metadata": {
        "id": "Etik5-Cq_IbE"
      },
      "execution_count": null,
      "outputs": []
    },
    {
      "cell_type": "code",
      "source": [
        "# combined data\n",
        "# load processed data\n",
        "train_mean = pd.read_csv('https://raw.githubusercontent.com/zxyao5148/STAT3612_2023_1A_GroupProject/main/data_processing/train/train_valid_mean_mode.csv')\n",
        "train_latest = pd.read_csv('https://raw.githubusercontent.com/zxyao5148/STAT3612_2023_1A_GroupProject/main/data_processing/train/train_valid_latest.csv')\n",
        "train_dispers = pd.read_csv('https://raw.githubusercontent.com/zxyao5148/STAT3612_2023_1A_GroupProject/main/data_processing/train/train_valid_entropy_std.csv')\n",
        "train_min = pd.read_csv('https://raw.githubusercontent.com/zxyao5148/STAT3612_2023_1A_GroupProject/main/data_processing/train/train_valid_min.csv')\n",
        "train_max = pd.read_csv('https://raw.githubusercontent.com/zxyao5148/STAT3612_2023_1A_GroupProject/main/data_processing/train/train_valid_max.csv')\n",
        "train_q1 = pd.read_csv('https://raw.githubusercontent.com/zxyao5148/STAT3612_2023_1A_GroupProject/main/data_processing/train/train_valid_q1.csv')\n",
        "train_q3 = pd.read_csv('https://raw.githubusercontent.com/zxyao5148/STAT3612_2023_1A_GroupProject/main/data_processing/train/train_valid_q3.csv')\n",
        "train_kurtosis = pd.read_csv('https://raw.githubusercontent.com/zxyao5148/STAT3612_2023_1A_GroupProject/main/data_processing/train/train_valid_kurtosis.csv')\n",
        "train_skewness = pd.read_csv('https://raw.githubusercontent.com/zxyao5148/STAT3612_2023_1A_GroupProject/main/data_processing/train/train_valid_skewness.csv')\n",
        "train_range = pd.read_csv('https://raw.githubusercontent.com/zxyao5148/STAT3612_2023_1A_GroupProject/main/data_processing/train/train_valid_range.csv')\n",
        "train_iqr = pd.read_csv('https://raw.githubusercontent.com/zxyao5148/STAT3612_2023_1A_GroupProject/main/data_processing/train/train_valid_iqr.csv')\n",
        "train_latest = train_latest.drop(train_latest.columns[0:13], axis=1)\n",
        "train_dispers = train_dispers.drop(train_dispers.columns[0:13], axis=1)\n",
        "train_min = train_min.drop(train_min.columns[0:13], axis=1)\n",
        "train_max = train_max.drop(train_max.columns[0:13], axis=1)\n",
        "train_q1 = train_q1.drop(train_q1.columns[0:13], axis=1)\n",
        "train_q3 = train_q3.drop(train_q3.columns[0:13], axis=1)\n",
        "train_kurtois = train_kurtosis.drop(train_kurtosis.columns[0:13], axis=1)\n",
        "train_skewness = train_skewness.drop(train_skewness.columns[0:13], axis=1)\n",
        "train_range = train_range.drop(train_range.columns[0:13], axis=1)\n",
        "train_iqr = train_iqr.drop(train_iqr.columns[0:13], axis=1)\n",
        "\n",
        "# merge train_ and train_latest\n",
        "train = pd.concat([train_mean, train_latest, train_dispers, train_min, train_max], axis=1)\n",
        "\n",
        "# load processed data\n",
        "test_mean = pd.read_csv('https://raw.githubusercontent.com/zxyao5148/STAT3612_2023_1A_GroupProject/main/data_processing/test/test_mean_mode.csv')\n",
        "test_latest = pd.read_csv('https://raw.githubusercontent.com/zxyao5148/STAT3612_2023_1A_GroupProject/main/data_processing/test/test_latest.csv')\n",
        "test_dispers = pd.read_csv('https://raw.githubusercontent.com/zxyao5148/STAT3612_2023_1A_GroupProject/main/data_processing/test/test_entropy_std.csv')\n",
        "test_min = pd.read_csv('https://raw.githubusercontent.com/zxyao5148/STAT3612_2023_1A_GroupProject/main/data_processing/test/test_min.csv')\n",
        "test_max = pd.read_csv('https://raw.githubusercontent.com/zxyao5148/STAT3612_2023_1A_GroupProject/main/data_processing/test/test_max.csv')\n",
        "test_q1 = pd.read_csv('https://raw.githubusercontent.com/zxyao5148/STAT3612_2023_1A_GroupProject/main/data_processing/test/test_q1.csv')\n",
        "test_q3 = pd.read_csv('https://raw.githubusercontent.com/zxyao5148/STAT3612_2023_1A_GroupProject/main/data_processing/test/test_q3.csv')\n",
        "test_kurtosis = pd.read_csv('https://raw.githubusercontent.com/zxyao5148/STAT3612_2023_1A_GroupProject/main/data_processing/test/test_kurtosis.csv')\n",
        "test_skewness = pd.read_csv('https://raw.githubusercontent.com/zxyao5148/STAT3612_2023_1A_GroupProject/main/data_processing/test/test_skewness.csv')\n",
        "test_range = pd.read_csv('https://raw.githubusercontent.com/zxyao5148/STAT3612_2023_1A_GroupProject/main/data_processing/test/test_range.csv')\n",
        "test_iqr = pd.read_csv('https://raw.githubusercontent.com/zxyao5148/STAT3612_2023_1A_GroupProject/main/data_processing/test/test_iqr.csv')\n",
        "test_latest = test_latest.drop(test_latest.columns[0:12], axis=1)\n",
        "test_dispers = test_dispers.drop(test_dispers.columns[0:12], axis=1)\n",
        "test_min = test_min.drop(test_min.columns[0:12], axis=1)\n",
        "test_max = test_max.drop(test_max.columns[0:12], axis=1)\n",
        "test_q1 = test_q1.drop(test_q1.columns[0:12], axis=1)\n",
        "test_q3 = test_q3.drop(test_q3.columns[0:12], axis=1)\n",
        "test_kurtosis = test_kurtosis.drop(test_kurtosis.columns[0:12], axis=1)\n",
        "test_skewness = test_skewness.drop(test_skewness.columns[0:12], axis=1)\n",
        "test_range = test_range.drop(test_range.columns[0:12], axis=1)\n",
        "test_iqr = test_iqr.drop(test_iqr.columns[0:12], axis=1)\n",
        "\n",
        "# merge train_mean and train_latest\n",
        "test = pd.concat([test_mean, test_latest, test_dispers, test_min, test_max], axis=1)"
      ],
      "metadata": {
        "id": "XTy-70aq-lHt"
      },
      "execution_count": null,
      "outputs": []
    },
    {
      "cell_type": "code",
      "source": [
        "train = train.drop(train.columns[11], axis=1)\n",
        "test = test.drop(test.columns[11], axis=1)"
      ],
      "metadata": {
        "id": "gcKNgAf8AJgT"
      },
      "execution_count": null,
      "outputs": []
    },
    {
      "cell_type": "code",
      "execution_count": null,
      "metadata": {
        "id": "ElXnpwlhE0i8",
        "colab": {
          "base_uri": "https://localhost:8080/"
        },
        "outputId": "dfcae707-b945-45fb-813c-13892cd8b4c4"
      },
      "outputs": [
        {
          "output_type": "stream",
          "name": "stdout",
          "text": [
            "--2023-12-05 05:05:27--  https://raw.githubusercontent.com/zxyao5148/STAT3612_2023_1A_GroupProject/main/code_base/adjust_imbl.py\n",
            "Resolving raw.githubusercontent.com (raw.githubusercontent.com)... 185.199.110.133, 185.199.111.133, 185.199.109.133, ...\n",
            "Connecting to raw.githubusercontent.com (raw.githubusercontent.com)|185.199.110.133|:443... connected.\n",
            "HTTP request sent, awaiting response... 200 OK\n",
            "Length: 927 [text/plain]\n",
            "Saving to: ‘adjust_imbl.py’\n",
            "\n",
            "\radjust_imbl.py        0%[                    ]       0  --.-KB/s               \radjust_imbl.py      100%[===================>]     927  --.-KB/s    in 0s      \n",
            "\n",
            "2023-12-05 05:05:27 (44.8 MB/s) - ‘adjust_imbl.py’ saved [927/927]\n",
            "\n",
            "Original dataset shape Counter({0: 9564, 1: 2032})\n",
            "Resampled dataset shape Counter({0: 2032, 1: 2032})\n"
          ]
        }
      ],
      "source": [
        "x_train = pd.concat([train.iloc[:,10], train.iloc[:,12:]], axis=1)\n",
        "y_train = train.iloc[:,11]\n",
        "\n",
        "!wget https://raw.githubusercontent.com/zxyao5148/STAT3612_2023_1A_GroupProject/main/code_base/adjust_imbl.py\n",
        "from adjust_imbl import adjust_imbl\n",
        "x_train, y_train = adjust_imbl(x_train, y_train)\n",
        "\n",
        "x_test = test.iloc[:,10:]"
      ]
    },
    {
      "cell_type": "code",
      "source": [
        "# standarize data\n",
        "from sklearn.preprocessing import StandardScaler\n",
        "scaler = StandardScaler()\n",
        "x_train = scaler.fit_transform(x_train)\n",
        "x_test = scaler.fit_transform(x_test)"
      ],
      "metadata": {
        "id": "9BynG2C0vyKK"
      },
      "execution_count": null,
      "outputs": []
    },
    {
      "cell_type": "code",
      "source": [
        "# Reshape the arrays\n",
        "x_train = x_train.reshape((x_train.shape[0], x_train.shape[1], 1))\n",
        "x_test = x_test.reshape((x_test.shape[0], x_test.shape[1], 1))\n",
        "\n",
        "x_train.shape\n",
        "\n",
        "# Reset the index of the y_train DataFrame\n",
        "y_train = y_train.reset_index(drop=True)\n",
        "\n",
        "# Shuffle the indices\n",
        "idx = np.random.permutation(len(x_train))\n",
        "\n",
        "# Reassign the values using the shuffled indices\n",
        "x_train = x_train[idx]\n",
        "y_train = y_train.iloc[idx]"
      ],
      "metadata": {
        "id": "b5V-AUZMQvgh"
      },
      "execution_count": null,
      "outputs": []
    },
    {
      "cell_type": "markdown",
      "metadata": {
        "id": "teAicBzgAVxl"
      },
      "source": [
        "## Build the model"
      ]
    },
    {
      "cell_type": "code",
      "source": [
        "from tensorflow import keras\n",
        "from tensorflow.keras import layers\n",
        "from keras.callbacks import EarlyStopping, ReduceLROnPlateau\n",
        "\n",
        "def transformer_xl_encoder(inputs, head_size, num_heads, ff_dim, dropout=0):\n",
        "    # Normalization and Attention\n",
        "    x = layers.LayerNormalization(epsilon=1e-4)(inputs)\n",
        "    x = layers.MultiHeadAttention(\n",
        "        key_dim=head_size, num_heads=num_heads, dropout=dropout\n",
        "    )(x, x)\n",
        "    x = layers.Dropout(dropout)(x)\n",
        "    res = x + inputs\n",
        "\n",
        "    # Feed Forward Part\n",
        "    x = layers.LayerNormalization(epsilon=1e-6)(res)\n",
        "    x = layers.Conv1D(filters=ff_dim, kernel_size=1, activation=\"relu\")(x)\n",
        "    x = layers.Dropout(dropout)(x)\n",
        "    x = layers.Conv1D(filters=inputs.shape[-1], kernel_size=1)(x)\n",
        "    return x + res\n",
        "\n",
        "def build_model(\n",
        "    input_shape,\n",
        "    head_size,\n",
        "    num_heads,\n",
        "    ff_dim,\n",
        "    num_transformer_blocks,\n",
        "    mlp_units,\n",
        "    dropout=0,\n",
        "    mlp_dropout=0,\n",
        "):\n",
        "    inputs = keras.Input(shape=input_shape)\n",
        "    x = inputs\n",
        "    for _ in range(num_transformer_blocks):\n",
        "        x = transformer_xl_encoder(x, head_size, num_heads, ff_dim, dropout)\n",
        "\n",
        "    x = layers.GlobalAveragePooling1D(data_format=\"channels_first\")(x)\n",
        "    for dim in mlp_units:\n",
        "        x = layers.Dense(dim, activation=\"relu\")(x)\n",
        "        x = layers.Dropout(mlp_dropout)(x)\n",
        "    outputs = layers.Dense(n_classes, activation=\"softmax\")(x)\n",
        "    return keras.Model(inputs, outputs)"
      ],
      "metadata": {
        "id": "v51Sr3KsXO9f"
      },
      "execution_count": null,
      "outputs": []
    },
    {
      "cell_type": "markdown",
      "metadata": {
        "id": "ThjL6P51AVxn"
      },
      "source": [
        "## Train"
      ]
    },
    {
      "cell_type": "code",
      "source": [
        "from sklearn.metrics import roc_auc_score\n",
        "import tensorflow as tf\n",
        "\n",
        "# Define a custom metric function to calculate AUC\n",
        "def auc(y_true, y_pred):\n",
        "    auc = tf.py_function(roc_auc_score, (y_true, y_pred[:, 1]), tf.float32)\n",
        "    return auc\n",
        "\n",
        "input_shape = x_train.shape[1:]\n",
        "n_classes = 2\n",
        "\n",
        "model = build_model(\n",
        "    input_shape,\n",
        "    head_size=256,\n",
        "    num_heads=4,\n",
        "    ff_dim=4,\n",
        "    num_transformer_blocks=4,\n",
        "    mlp_units=[128],\n",
        "    mlp_dropout=0.4,\n",
        "    dropout=0.25,\n",
        ")\n",
        "\n",
        "model.compile(\n",
        "    loss=\"sparse_categorical_crossentropy\",\n",
        "    optimizer=keras.optimizers.Adam(learning_rate=1e-4),\n",
        "    metrics=[\"sparse_categorical_accuracy\",auc],\n",
        ")\n",
        "model.summary()\n",
        "\n",
        "callbacks = [EarlyStopping(patience=10, restore_best_weights=True), ReduceLROnPlateau(factor=0.1, patience=5)]\n",
        "\n",
        "history=model.fit(\n",
        "    x_train,\n",
        "    y_train,\n",
        "    validation_split=0.2,\n",
        "    epochs=200,\n",
        "    batch_size=128,\n",
        "    callbacks=callbacks,\n",
        ")"
      ],
      "metadata": {
        "colab": {
          "base_uri": "https://localhost:8080/"
        },
        "id": "W8S6v0-rXLA_",
        "outputId": "d9930226-8947-4b91-bf7d-686abbdfbcbd"
      },
      "execution_count": null,
      "outputs": [
        {
          "output_type": "stream",
          "name": "stdout",
          "text": [
            "Model: \"model\"\n",
            "__________________________________________________________________________________________________\n",
            " Layer (type)                Output Shape                 Param #   Connected to                  \n",
            "==================================================================================================\n",
            " input_1 (InputLayer)        [(None, 467, 1)]             0         []                            \n",
            "                                                                                                  \n",
            " layer_normalization (Layer  (None, 467, 1)               2         ['input_1[0][0]']             \n",
            " Normalization)                                                                                   \n",
            "                                                                                                  \n",
            " multi_head_attention (Mult  (None, 467, 1)               7169      ['layer_normalization[0][0]', \n",
            " iHeadAttention)                                                     'layer_normalization[0][0]'] \n",
            "                                                                                                  \n",
            " dropout (Dropout)           (None, 467, 1)               0         ['multi_head_attention[0][0]']\n",
            "                                                                                                  \n",
            " tf.__operators__.add (TFOp  (None, 467, 1)               0         ['dropout[0][0]',             \n",
            " Lambda)                                                             'input_1[0][0]']             \n",
            "                                                                                                  \n",
            " layer_normalization_1 (Lay  (None, 467, 1)               2         ['tf.__operators__.add[0][0]']\n",
            " erNormalization)                                                                                 \n",
            "                                                                                                  \n",
            " conv1d (Conv1D)             (None, 467, 4)               8         ['layer_normalization_1[0][0]'\n",
            "                                                                    ]                             \n",
            "                                                                                                  \n",
            " dropout_1 (Dropout)         (None, 467, 4)               0         ['conv1d[0][0]']              \n",
            "                                                                                                  \n",
            " conv1d_1 (Conv1D)           (None, 467, 1)               5         ['dropout_1[0][0]']           \n",
            "                                                                                                  \n",
            " tf.__operators__.add_1 (TF  (None, 467, 1)               0         ['conv1d_1[0][0]',            \n",
            " OpLambda)                                                           'tf.__operators__.add[0][0]']\n",
            "                                                                                                  \n",
            " layer_normalization_2 (Lay  (None, 467, 1)               2         ['tf.__operators__.add_1[0][0]\n",
            " erNormalization)                                                   ']                            \n",
            "                                                                                                  \n",
            " multi_head_attention_1 (Mu  (None, 467, 1)               7169      ['layer_normalization_2[0][0]'\n",
            " ltiHeadAttention)                                                  , 'layer_normalization_2[0][0]\n",
            "                                                                    ']                            \n",
            "                                                                                                  \n",
            " dropout_2 (Dropout)         (None, 467, 1)               0         ['multi_head_attention_1[0][0]\n",
            "                                                                    ']                            \n",
            "                                                                                                  \n",
            " tf.__operators__.add_2 (TF  (None, 467, 1)               0         ['dropout_2[0][0]',           \n",
            " OpLambda)                                                           'tf.__operators__.add_1[0][0]\n",
            "                                                                    ']                            \n",
            "                                                                                                  \n",
            " layer_normalization_3 (Lay  (None, 467, 1)               2         ['tf.__operators__.add_2[0][0]\n",
            " erNormalization)                                                   ']                            \n",
            "                                                                                                  \n",
            " conv1d_2 (Conv1D)           (None, 467, 4)               8         ['layer_normalization_3[0][0]'\n",
            "                                                                    ]                             \n",
            "                                                                                                  \n",
            " dropout_3 (Dropout)         (None, 467, 4)               0         ['conv1d_2[0][0]']            \n",
            "                                                                                                  \n",
            " conv1d_3 (Conv1D)           (None, 467, 1)               5         ['dropout_3[0][0]']           \n",
            "                                                                                                  \n",
            " tf.__operators__.add_3 (TF  (None, 467, 1)               0         ['conv1d_3[0][0]',            \n",
            " OpLambda)                                                           'tf.__operators__.add_2[0][0]\n",
            "                                                                    ']                            \n",
            "                                                                                                  \n",
            " layer_normalization_4 (Lay  (None, 467, 1)               2         ['tf.__operators__.add_3[0][0]\n",
            " erNormalization)                                                   ']                            \n",
            "                                                                                                  \n",
            " multi_head_attention_2 (Mu  (None, 467, 1)               7169      ['layer_normalization_4[0][0]'\n",
            " ltiHeadAttention)                                                  , 'layer_normalization_4[0][0]\n",
            "                                                                    ']                            \n",
            "                                                                                                  \n",
            " dropout_4 (Dropout)         (None, 467, 1)               0         ['multi_head_attention_2[0][0]\n",
            "                                                                    ']                            \n",
            "                                                                                                  \n",
            " tf.__operators__.add_4 (TF  (None, 467, 1)               0         ['dropout_4[0][0]',           \n",
            " OpLambda)                                                           'tf.__operators__.add_3[0][0]\n",
            "                                                                    ']                            \n",
            "                                                                                                  \n",
            " layer_normalization_5 (Lay  (None, 467, 1)               2         ['tf.__operators__.add_4[0][0]\n",
            " erNormalization)                                                   ']                            \n",
            "                                                                                                  \n",
            " conv1d_4 (Conv1D)           (None, 467, 4)               8         ['layer_normalization_5[0][0]'\n",
            "                                                                    ]                             \n",
            "                                                                                                  \n",
            " dropout_5 (Dropout)         (None, 467, 4)               0         ['conv1d_4[0][0]']            \n",
            "                                                                                                  \n",
            " conv1d_5 (Conv1D)           (None, 467, 1)               5         ['dropout_5[0][0]']           \n",
            "                                                                                                  \n",
            " tf.__operators__.add_5 (TF  (None, 467, 1)               0         ['conv1d_5[0][0]',            \n",
            " OpLambda)                                                           'tf.__operators__.add_4[0][0]\n",
            "                                                                    ']                            \n",
            "                                                                                                  \n",
            " layer_normalization_6 (Lay  (None, 467, 1)               2         ['tf.__operators__.add_5[0][0]\n",
            " erNormalization)                                                   ']                            \n",
            "                                                                                                  \n",
            " multi_head_attention_3 (Mu  (None, 467, 1)               7169      ['layer_normalization_6[0][0]'\n",
            " ltiHeadAttention)                                                  , 'layer_normalization_6[0][0]\n",
            "                                                                    ']                            \n",
            "                                                                                                  \n",
            " dropout_6 (Dropout)         (None, 467, 1)               0         ['multi_head_attention_3[0][0]\n",
            "                                                                    ']                            \n",
            "                                                                                                  \n",
            " tf.__operators__.add_6 (TF  (None, 467, 1)               0         ['dropout_6[0][0]',           \n",
            " OpLambda)                                                           'tf.__operators__.add_5[0][0]\n",
            "                                                                    ']                            \n",
            "                                                                                                  \n",
            " layer_normalization_7 (Lay  (None, 467, 1)               2         ['tf.__operators__.add_6[0][0]\n",
            " erNormalization)                                                   ']                            \n",
            "                                                                                                  \n",
            " conv1d_6 (Conv1D)           (None, 467, 4)               8         ['layer_normalization_7[0][0]'\n",
            "                                                                    ]                             \n",
            "                                                                                                  \n",
            " dropout_7 (Dropout)         (None, 467, 4)               0         ['conv1d_6[0][0]']            \n",
            "                                                                                                  \n",
            " conv1d_7 (Conv1D)           (None, 467, 1)               5         ['dropout_7[0][0]']           \n",
            "                                                                                                  \n",
            " tf.__operators__.add_7 (TF  (None, 467, 1)               0         ['conv1d_7[0][0]',            \n",
            " OpLambda)                                                           'tf.__operators__.add_6[0][0]\n",
            "                                                                    ']                            \n",
            "                                                                                                  \n",
            " global_average_pooling1d (  (None, 467)                  0         ['tf.__operators__.add_7[0][0]\n",
            " GlobalAveragePooling1D)                                            ']                            \n",
            "                                                                                                  \n",
            " dense (Dense)               (None, 128)                  59904     ['global_average_pooling1d[0][\n",
            "                                                                    0]']                          \n",
            "                                                                                                  \n",
            " dropout_8 (Dropout)         (None, 128)                  0         ['dense[0][0]']               \n",
            "                                                                                                  \n",
            " dense_1 (Dense)             (None, 2)                    258       ['dropout_8[0][0]']           \n",
            "                                                                                                  \n",
            "==================================================================================================\n",
            "Total params: 88906 (347.29 KB)\n",
            "Trainable params: 88906 (347.29 KB)\n",
            "Non-trainable params: 0 (0.00 Byte)\n",
            "__________________________________________________________________________________________________\n",
            "Epoch 1/200\n",
            "26/26 [==============================] - 42s 910ms/step - loss: 0.8873 - sparse_categorical_accuracy: 0.5478 - auc: 0.5625 - val_loss: 0.7316 - val_sparse_categorical_accuracy: 0.5818 - val_auc: 0.6390 - lr: 1.0000e-04\n",
            "Epoch 2/200\n",
            "26/26 [==============================] - 24s 925ms/step - loss: 0.8041 - sparse_categorical_accuracy: 0.5912 - auc: 0.6286 - val_loss: 0.6976 - val_sparse_categorical_accuracy: 0.6224 - val_auc: 0.6840 - lr: 1.0000e-04\n",
            "Epoch 3/200\n",
            "26/26 [==============================] - 25s 954ms/step - loss: 0.7818 - sparse_categorical_accuracy: 0.6167 - auc: 0.6458 - val_loss: 0.6777 - val_sparse_categorical_accuracy: 0.6347 - val_auc: 0.7041 - lr: 1.0000e-04\n",
            "Epoch 4/200\n",
            "26/26 [==============================] - 24s 925ms/step - loss: 0.7409 - sparse_categorical_accuracy: 0.6376 - auc: 0.6773 - val_loss: 0.6644 - val_sparse_categorical_accuracy: 0.6494 - val_auc: 0.7146 - lr: 1.0000e-04\n",
            "Epoch 5/200\n",
            "26/26 [==============================] - 24s 913ms/step - loss: 0.6858 - sparse_categorical_accuracy: 0.6561 - auc: 0.7034 - val_loss: 0.6555 - val_sparse_categorical_accuracy: 0.6531 - val_auc: 0.7219 - lr: 1.0000e-04\n",
            "Epoch 6/200\n",
            "26/26 [==============================] - 24s 917ms/step - loss: 0.6846 - sparse_categorical_accuracy: 0.6576 - auc: 0.7036 - val_loss: 0.6489 - val_sparse_categorical_accuracy: 0.6630 - val_auc: 0.7285 - lr: 1.0000e-04\n",
            "Epoch 7/200\n",
            "26/26 [==============================] - 24s 921ms/step - loss: 0.6547 - sparse_categorical_accuracy: 0.6684 - auc: 0.7238 - val_loss: 0.6418 - val_sparse_categorical_accuracy: 0.6728 - val_auc: 0.7356 - lr: 1.0000e-04\n",
            "Epoch 8/200\n",
            "26/26 [==============================] - 24s 919ms/step - loss: 0.6377 - sparse_categorical_accuracy: 0.6890 - auc: 0.7385 - val_loss: 0.6364 - val_sparse_categorical_accuracy: 0.6790 - val_auc: 0.7421 - lr: 1.0000e-04\n",
            "Epoch 9/200\n",
            "26/26 [==============================] - 24s 918ms/step - loss: 0.6304 - sparse_categorical_accuracy: 0.6878 - auc: 0.7433 - val_loss: 0.6342 - val_sparse_categorical_accuracy: 0.6839 - val_auc: 0.7443 - lr: 1.0000e-04\n",
            "Epoch 10/200\n",
            "26/26 [==============================] - 24s 917ms/step - loss: 0.6034 - sparse_categorical_accuracy: 0.6961 - auc: 0.7523 - val_loss: 0.6267 - val_sparse_categorical_accuracy: 0.6876 - val_auc: 0.7492 - lr: 1.0000e-04\n",
            "Epoch 11/200\n",
            "26/26 [==============================] - 24s 919ms/step - loss: 0.5974 - sparse_categorical_accuracy: 0.7078 - auc: 0.7586 - val_loss: 0.6253 - val_sparse_categorical_accuracy: 0.6937 - val_auc: 0.7507 - lr: 1.0000e-04\n",
            "Epoch 12/200\n",
            "26/26 [==============================] - 24s 942ms/step - loss: 0.5991 - sparse_categorical_accuracy: 0.7118 - auc: 0.7610 - val_loss: 0.6226 - val_sparse_categorical_accuracy: 0.6913 - val_auc: 0.7505 - lr: 1.0000e-04\n",
            "Epoch 13/200\n",
            "26/26 [==============================] - 24s 917ms/step - loss: 0.5847 - sparse_categorical_accuracy: 0.7185 - auc: 0.7720 - val_loss: 0.6207 - val_sparse_categorical_accuracy: 0.6950 - val_auc: 0.7520 - lr: 1.0000e-04\n",
            "Epoch 14/200\n",
            "26/26 [==============================] - 24s 918ms/step - loss: 0.5870 - sparse_categorical_accuracy: 0.7090 - auc: 0.7722 - val_loss: 0.6184 - val_sparse_categorical_accuracy: 0.6999 - val_auc: 0.7560 - lr: 1.0000e-04\n",
            "Epoch 15/200\n",
            "26/26 [==============================] - 25s 946ms/step - loss: 0.5562 - sparse_categorical_accuracy: 0.7189 - auc: 0.7905 - val_loss: 0.6144 - val_sparse_categorical_accuracy: 0.6974 - val_auc: 0.7576 - lr: 1.0000e-04\n",
            "Epoch 16/200\n",
            "26/26 [==============================] - 24s 945ms/step - loss: 0.5585 - sparse_categorical_accuracy: 0.7225 - auc: 0.7874 - val_loss: 0.6142 - val_sparse_categorical_accuracy: 0.6986 - val_auc: 0.7580 - lr: 1.0000e-04\n",
            "Epoch 17/200\n",
            "26/26 [==============================] - 24s 945ms/step - loss: 0.5592 - sparse_categorical_accuracy: 0.7232 - auc: 0.7886 - val_loss: 0.6129 - val_sparse_categorical_accuracy: 0.6950 - val_auc: 0.7586 - lr: 1.0000e-04\n",
            "Epoch 18/200\n",
            "26/26 [==============================] - 24s 920ms/step - loss: 0.5486 - sparse_categorical_accuracy: 0.7309 - auc: 0.7932 - val_loss: 0.6108 - val_sparse_categorical_accuracy: 0.6937 - val_auc: 0.7586 - lr: 1.0000e-04\n",
            "Epoch 19/200\n",
            "26/26 [==============================] - 25s 948ms/step - loss: 0.5583 - sparse_categorical_accuracy: 0.7336 - auc: 0.7901 - val_loss: 0.6099 - val_sparse_categorical_accuracy: 0.6974 - val_auc: 0.7591 - lr: 1.0000e-04\n",
            "Epoch 20/200\n",
            "26/26 [==============================] - 24s 920ms/step - loss: 0.5405 - sparse_categorical_accuracy: 0.7382 - auc: 0.7971 - val_loss: 0.6085 - val_sparse_categorical_accuracy: 0.6974 - val_auc: 0.7602 - lr: 1.0000e-04\n",
            "Epoch 21/200\n",
            "26/26 [==============================] - 24s 921ms/step - loss: 0.5443 - sparse_categorical_accuracy: 0.7299 - auc: 0.8010 - val_loss: 0.6061 - val_sparse_categorical_accuracy: 0.6974 - val_auc: 0.7618 - lr: 1.0000e-04\n",
            "Epoch 22/200\n",
            "26/26 [==============================] - 24s 921ms/step - loss: 0.5356 - sparse_categorical_accuracy: 0.7370 - auc: 0.8034 - val_loss: 0.6056 - val_sparse_categorical_accuracy: 0.6999 - val_auc: 0.7604 - lr: 1.0000e-04\n",
            "Epoch 23/200\n",
            "26/26 [==============================] - 24s 945ms/step - loss: 0.5343 - sparse_categorical_accuracy: 0.7370 - auc: 0.8070 - val_loss: 0.6069 - val_sparse_categorical_accuracy: 0.6986 - val_auc: 0.7616 - lr: 1.0000e-04\n",
            "Epoch 24/200\n",
            "26/26 [==============================] - 24s 944ms/step - loss: 0.5265 - sparse_categorical_accuracy: 0.7401 - auc: 0.8084 - val_loss: 0.6072 - val_sparse_categorical_accuracy: 0.7060 - val_auc: 0.7616 - lr: 1.0000e-04\n",
            "Epoch 25/200\n",
            "26/26 [==============================] - 24s 918ms/step - loss: 0.5307 - sparse_categorical_accuracy: 0.7450 - auc: 0.8082 - val_loss: 0.6053 - val_sparse_categorical_accuracy: 0.6974 - val_auc: 0.7624 - lr: 1.0000e-04\n",
            "Epoch 26/200\n",
            "26/26 [==============================] - 24s 945ms/step - loss: 0.5175 - sparse_categorical_accuracy: 0.7364 - auc: 0.8154 - val_loss: 0.6052 - val_sparse_categorical_accuracy: 0.7060 - val_auc: 0.7618 - lr: 1.0000e-04\n",
            "Epoch 27/200\n",
            "26/26 [==============================] - 24s 919ms/step - loss: 0.5159 - sparse_categorical_accuracy: 0.7465 - auc: 0.8155 - val_loss: 0.6039 - val_sparse_categorical_accuracy: 0.6986 - val_auc: 0.7615 - lr: 1.0000e-04\n",
            "Epoch 28/200\n",
            "26/26 [==============================] - 24s 944ms/step - loss: 0.5079 - sparse_categorical_accuracy: 0.7508 - auc: 0.8248 - val_loss: 0.6066 - val_sparse_categorical_accuracy: 0.7011 - val_auc: 0.7618 - lr: 1.0000e-04\n",
            "Epoch 29/200\n",
            "26/26 [==============================] - 24s 944ms/step - loss: 0.5046 - sparse_categorical_accuracy: 0.7536 - auc: 0.8270 - val_loss: 0.6048 - val_sparse_categorical_accuracy: 0.7011 - val_auc: 0.7625 - lr: 1.0000e-04\n",
            "Epoch 30/200\n",
            "26/26 [==============================] - 24s 918ms/step - loss: 0.5061 - sparse_categorical_accuracy: 0.7487 - auc: 0.8232 - val_loss: 0.6064 - val_sparse_categorical_accuracy: 0.7048 - val_auc: 0.7609 - lr: 1.0000e-04\n",
            "Epoch 31/200\n",
            "26/26 [==============================] - 24s 945ms/step - loss: 0.4944 - sparse_categorical_accuracy: 0.7595 - auc: 0.8324 - val_loss: 0.6070 - val_sparse_categorical_accuracy: 0.7036 - val_auc: 0.7606 - lr: 1.0000e-04\n",
            "Epoch 32/200\n",
            "26/26 [==============================] - 24s 920ms/step - loss: 0.4959 - sparse_categorical_accuracy: 0.7647 - auc: 0.8331 - val_loss: 0.6069 - val_sparse_categorical_accuracy: 0.7048 - val_auc: 0.7601 - lr: 1.0000e-04\n",
            "Epoch 33/200\n",
            "26/26 [==============================] - 24s 921ms/step - loss: 0.4957 - sparse_categorical_accuracy: 0.7567 - auc: 0.8265 - val_loss: 0.6070 - val_sparse_categorical_accuracy: 0.7048 - val_auc: 0.7599 - lr: 1.0000e-05\n",
            "Epoch 34/200\n",
            "26/26 [==============================] - 24s 920ms/step - loss: 0.4961 - sparse_categorical_accuracy: 0.7628 - auc: 0.8297 - val_loss: 0.6069 - val_sparse_categorical_accuracy: 0.7060 - val_auc: 0.7600 - lr: 1.0000e-05\n",
            "Epoch 35/200\n",
            "26/26 [==============================] - 24s 945ms/step - loss: 0.4909 - sparse_categorical_accuracy: 0.7628 - auc: 0.8361 - val_loss: 0.6072 - val_sparse_categorical_accuracy: 0.7048 - val_auc: 0.7605 - lr: 1.0000e-05\n",
            "Epoch 36/200\n",
            "26/26 [==============================] - 24s 919ms/step - loss: 0.4996 - sparse_categorical_accuracy: 0.7588 - auc: 0.8332 - val_loss: 0.6071 - val_sparse_categorical_accuracy: 0.7060 - val_auc: 0.7609 - lr: 1.0000e-05\n",
            "Epoch 37/200\n",
            "26/26 [==============================] - 25s 947ms/step - loss: 0.4931 - sparse_categorical_accuracy: 0.7552 - auc: 0.8352 - val_loss: 0.6073 - val_sparse_categorical_accuracy: 0.7060 - val_auc: 0.7608 - lr: 1.0000e-05\n"
          ]
        }
      ]
    },
    {
      "cell_type": "code",
      "source": [
        "model.evaluate(x_train, y_train, verbose=1)"
      ],
      "metadata": {
        "colab": {
          "base_uri": "https://localhost:8080/"
        },
        "id": "hgZtWioArFya",
        "outputId": "68b46e08-c906-433f-82c4-0e6927c8cc7b"
      },
      "execution_count": null,
      "outputs": [
        {
          "output_type": "stream",
          "name": "stdout",
          "text": [
            "127/127 [==============================] - 10s 81ms/step - loss: 0.4962 - sparse_categorical_accuracy: 0.7692 - auc: 0.8311\n"
          ]
        },
        {
          "output_type": "execute_result",
          "data": {
            "text/plain": [
              "[0.4962042570114136, 0.7691929340362549, 0.8311447501182556]"
            ]
          },
          "metadata": {},
          "execution_count": 9
        }
      ]
    },
    {
      "cell_type": "code",
      "execution_count": null,
      "metadata": {
        "id": "Y_Z2ZOXat02p",
        "colab": {
          "base_uri": "https://localhost:8080/",
          "height": 1000
        },
        "outputId": "244cbcec-47c3-43bc-9361-bea1ee7589c5"
      },
      "outputs": [
        {
          "output_type": "display_data",
          "data": {
            "text/plain": [
              "<Figure size 640x480 with 1 Axes>"
            ],
            "image/png": "[encoded data removed]"
          },
          "metadata": {}
        },
        {
          "output_type": "display_data",
          "data": {
            "text/plain": [
              "<Figure size 640x480 with 1 Axes>"
            ],
            "image/png": "[encoded data removed]"
          },
          "metadata": {}
        },
        {
          "output_type": "display_data",
          "data": {
            "text/plain": [
              "<Figure size 640x480 with 1 Axes>"
            ],
            "image/png": "[encoded data removed]"
          },
          "metadata": {}
        }
      ],
      "source": [
        "import matplotlib.pyplot as plt\n",
        "\n",
        "# Plot the training and validation accuracy over epochs\n",
        "plt.plot(history.history['sparse_categorical_accuracy'], label='Training Accuracy')\n",
        "plt.plot(history.history['val_sparse_categorical_accuracy'], label='Validation Accuracy')\n",
        "plt.xlabel('Epoch')\n",
        "plt.ylabel('Accuracy')\n",
        "plt.ylim([0, 1])\n",
        "plt.legend(loc='lower right')\n",
        "plt.show()\n",
        "\n",
        "# Plot the training and validation auc over epochs\n",
        "plt.plot(history.history['auc'], label='Training Auc')\n",
        "plt.plot(history.history['val_auc'], label='Validation Auc')\n",
        "plt.xlabel('Epoch')\n",
        "plt.ylabel('Auc')\n",
        "plt.ylim([0, 1])\n",
        "plt.legend(loc='lower right')\n",
        "plt.show()\n",
        "\n",
        "# Plot the training and validation loss over epochs\n",
        "plt.plot(history.history['loss'], label='Training Loss')\n",
        "plt.plot(history.history['val_loss'], label='Validation Loss')\n",
        "plt.xlabel('Epoch')\n",
        "plt.ylabel('Loss')\n",
        "plt.legend(loc='upper right')\n",
        "plt.show()"
      ]
    },
    {
      "cell_type": "code",
      "execution_count": null,
      "metadata": {
        "id": "CJPGAOfCXdbQ",
        "colab": {
          "base_uri": "https://localhost:8080/"
        },
        "outputId": "ef5d2541-61d5-4e31-f9aa-bbcb9f65c0ab"
      },
      "outputs": [
        {
          "output_type": "stream",
          "name": "stdout",
          "text": [
            "127/127 [==============================] - 10s 76ms/step\n"
          ]
        }
      ],
      "source": [
        "from sklearn.metrics import roc_auc_score\n",
        "\n",
        "y_train_pred = model.predict(x_train)\n",
        "# Convert probabilities to binary predictions\n",
        "y_train_pred_binary = np.argmax(y_train_pred, axis=1) # Choose the class with the highest probability\n"
      ]
    },
    {
      "cell_type": "code",
      "execution_count": null,
      "metadata": {
        "id": "Sy0ek675ZiFH",
        "colab": {
          "base_uri": "https://localhost:8080/"
        },
        "outputId": "916d419c-ab6e-4708-e59f-25554e67a116"
      },
      "outputs": [
        {
          "output_type": "stream",
          "name": "stdout",
          "text": [
            "Accuracy (train): 0.7692\n",
            "AUC (train): 0.8344\n"
          ]
        }
      ],
      "source": [
        "from sklearn.metrics import accuracy_score, confusion_matrix, classification_report, roc_curve, auc, roc_auc_score\n",
        "accuracy_train = accuracy_score(y_train, y_train_pred_binary)\n",
        "auc_train = roc_auc_score(y_train, y_train_pred[:, 1])\n",
        "\n",
        "print(f'Accuracy (train): {accuracy_train:.4f}')\n",
        "print(f'AUC (train): {auc_train:.4f}')\n"
      ]
    },
    {
      "cell_type": "code",
      "execution_count": null,
      "metadata": {
        "id": "GeA1W5inTJF5",
        "colab": {
          "base_uri": "https://localhost:8080/"
        },
        "outputId": "ffcfdacd-f740-4f33-83e4-0c7a80f1f4e9"
      },
      "outputs": [
        {
          "output_type": "stream",
          "name": "stdout",
          "text": [
            "For training set:\n",
            "Precision: 0.808\n",
            "Recall: 0.7062\n",
            "F1 Score: 0.7537 \n",
            "\n"
          ]
        }
      ],
      "source": [
        "from sklearn.metrics import precision_score, recall_score, f1_score\n",
        "# Calculate precision, recall, and F1 score\n",
        "precision = precision_score(y_train, y_train_pred_binary)\n",
        "recall = recall_score(y_train, y_train_pred_binary)\n",
        "f1 = f1_score(y_train, y_train_pred_binary)\n",
        "\n",
        "# Print with 4 digits limit\n",
        "print(\"For training set:\")\n",
        "print(\"Precision:\", round(precision, 4))\n",
        "print(\"Recall:\", round(recall, 4))\n",
        "print(\"F1 Score:\", round(f1, 4),\"\\n\")"
      ]
    },
    {
      "cell_type": "markdown",
      "metadata": {
        "id": "z-wKWgSmudgB"
      },
      "source": [
        "## Export prediction"
      ]
    },
    {
      "cell_type": "code",
      "execution_count": null,
      "metadata": {
        "id": "Y6B7uK6asv-A",
        "colab": {
          "base_uri": "https://localhost:8080/"
        },
        "outputId": "ef6b03e4-f550-4686-ef31-68c62776df3c"
      },
      "outputs": [
        {
          "output_type": "stream",
          "name": "stdout",
          "text": [
            "92/92 [==============================] - 8s 78ms/step\n"
          ]
        }
      ],
      "source": [
        "y_test_pred = model.predict(x_test)\n",
        "#y_test_pred_binary = (y_test_pred > threshold).astype(int)"
      ]
    },
    {
      "cell_type": "code",
      "source": [
        "# Assuming y_test_pred_binary is a numpy array\n",
        "predictions_df = pd.DataFrame(y_test_pred[:, 1], columns=['readmitted_within_30days'])\n",
        "merged_df = test[['id']].merge(predictions_df, left_index=True, right_index=True)\n",
        "merged_df.to_csv('predictions.csv', index=False)\n",
        "\n",
        "from google.colab import files\n",
        "files.download('predictions.csv')"
      ],
      "metadata": {
        "id": "_qN4t543aJ4V",
        "colab": {
          "base_uri": "https://localhost:8080/",
          "height": 34
        },
        "outputId": "8559743a-a79c-479f-a64f-e65e1d8cdfe8"
      },
      "execution_count": null,
      "outputs": [
        {
          "output_type": "display_data",
          "data": {
            "text/plain": [
              "<IPython.core.display.Javascript object>"
            ],
            "application/javascript": [
              "\n",
              "    async function download(id, filename, size) {\n",
              "      if (!google.colab.kernel.accessAllowed) {\n",
              "        return;\n",
              "      }\n",
              "      const div = document.createElement('div');\n",
              "      const label = document.createElement('label');\n",
              "      label.textContent = `Downloading \"${filename}\": `;\n",
              "      div.appendChild(label);\n",
              "      const progress = document.createElement('progress');\n",
              "      progress.max = size;\n",
              "      div.appendChild(progress);\n",
              "      document.body.appendChild(div);\n",
              "\n",
              "      const buffers = [];\n",
              "      let downloaded = 0;\n",
              "\n",
              "      const channel = await google.colab.kernel.comms.open(id);\n",
              "      // Send a message to notify the kernel that we're ready.\n",
              "      channel.send({})\n",
              "\n",
              "      for await (const message of channel.messages) {\n",
              "        // Send a message to notify the kernel that we're ready.\n",
              "        channel.send({})\n",
              "        if (message.buffers) {\n",
              "          for (const buffer of message.buffers) {\n",
              "            buffers.push(buffer);\n",
              "            downloaded += buffer.byteLength;\n",
              "            progress.value = downloaded;\n",
              "          }\n",
              "        }\n",
              "      }\n",
              "      const blob = new Blob(buffers, {type: 'application/binary'});\n",
              "      const a = document.createElement('a');\n",
              "      a.href = window.URL.createObjectURL(blob);\n",
              "      a.download = filename;\n",
              "      div.appendChild(a);\n",
              "      a.click();\n",
              "      div.remove();\n",
              "    }\n",
              "  "
            ]
          },
          "metadata": {}
        },
        {
          "output_type": "display_data",
          "data": {
            "text/plain": [
              "<IPython.core.display.Javascript object>"
            ],
            "application/javascript": [
              "download(\"download_be69662a-0941-4f48-bbe2-d0ef76d2516a\", \"predictions.csv\", 83896)"
            ]
          },
          "metadata": {}
        }
      ]
    }
  ],
  "metadata": {
    "accelerator": "GPU",
    "colab": {
      "provenance": [],
      "gpuType": "T4",
      "toc_visible": true
    },
    "kernelspec": {
      "display_name": "Python 3",
      "name": "python3"
    },
    "language_info": {
      "codemirror_mode": {
        "name": "ipython",
        "version": 3
      },
      "file_extension": ".py",
      "mimetype": "text/x-python",
      "name": "python",
      "nbconvert_exporter": "python",
      "pygments_lexer": "ipython3",
      "version": "3.7.0"
    }
  },
  "nbformat": 4,
  "nbformat_minor": 0
}