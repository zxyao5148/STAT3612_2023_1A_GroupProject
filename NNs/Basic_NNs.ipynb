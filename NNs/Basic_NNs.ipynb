{
  "cells": [
    {
      "cell_type": "markdown",
      "metadata": {
        "id": "fFipp7tAAVxh"
      },
      "source": [
        "**Description:** This notebook demonstrates how to do timeseries classification using RNN models (Simple RNN, LSTM, and GRU).\n",
        "\n",
        "Reference: https://www.kaggle.com/code/thebrownviking20/intro-to-recurrent-neural-networks-lstm-gru/notebook"
      ]
    },
    {
      "cell_type": "markdown",
      "metadata": {
        "id": "ll7UTtsyAVxj"
      },
      "source": [
        "## Load the dataset"
      ]
    },
    {
      "cell_type": "code",
      "source": [
        "import pandas as pd\n",
        "import requests\n",
        "from io import StringIO\n",
        "import numpy as np\n",
        "from sklearn.model_selection import train_test_split"
      ],
      "metadata": {
        "id": "EtZwhaqtM1bA"
      },
      "execution_count": null,
      "outputs": []
    },
    {
      "cell_type": "code",
      "source": [
        "# combined data\n",
        "# load processed data\n",
        "train_mean = pd.read_csv('https://raw.githubusercontent.com/zxyao5148/STAT3612_2023_1A_GroupProject/main/data_processing/train/train_valid_mean_mode.csv')\n",
        "train_latest = pd.read_csv('https://raw.githubusercontent.com/zxyao5148/STAT3612_2023_1A_GroupProject/main/data_processing/train/train_valid_latest.csv')\n",
        "train_dispers = pd.read_csv('https://raw.githubusercontent.com/zxyao5148/STAT3612_2023_1A_GroupProject/main/data_processing/train/train_valid_entropy_std.csv')\n",
        "train_min = pd.read_csv('https://raw.githubusercontent.com/zxyao5148/STAT3612_2023_1A_GroupProject/main/data_processing/train/train_valid_min.csv')\n",
        "train_max = pd.read_csv('https://raw.githubusercontent.com/zxyao5148/STAT3612_2023_1A_GroupProject/main/data_processing/train/train_valid_max.csv')\n",
        "train_q1 = pd.read_csv('https://raw.githubusercontent.com/zxyao5148/STAT3612_2023_1A_GroupProject/main/data_processing/train/train_valid_q1.csv')\n",
        "train_q3 = pd.read_csv('https://raw.githubusercontent.com/zxyao5148/STAT3612_2023_1A_GroupProject/main/data_processing/train/train_valid_q3.csv')\n",
        "train_kurtosis = pd.read_csv('https://raw.githubusercontent.com/zxyao5148/STAT3612_2023_1A_GroupProject/main/data_processing/train/train_valid_kurtosis.csv')\n",
        "train_skewness = pd.read_csv('https://raw.githubusercontent.com/zxyao5148/STAT3612_2023_1A_GroupProject/main/data_processing/train/train_valid_skewness.csv')\n",
        "train_range = pd.read_csv('https://raw.githubusercontent.com/zxyao5148/STAT3612_2023_1A_GroupProject/main/data_processing/train/train_valid_range.csv')\n",
        "train_iqr = pd.read_csv('https://raw.githubusercontent.com/zxyao5148/STAT3612_2023_1A_GroupProject/main/data_processing/train/train_valid_iqr.csv')\n",
        "train_latest = train_latest.drop(train_latest.columns[0:13], axis=1)\n",
        "train_dispers = train_dispers.drop(train_dispers.columns[0:13], axis=1)\n",
        "train_min = train_min.drop(train_min.columns[0:13], axis=1)\n",
        "train_max = train_max.drop(train_max.columns[0:13], axis=1)\n",
        "train_q1 = train_q1.drop(train_q1.columns[0:13], axis=1)\n",
        "train_q3 = train_q3.drop(train_q3.columns[0:13], axis=1)\n",
        "train_kurtois = train_kurtosis.drop(train_kurtosis.columns[0:13], axis=1)\n",
        "train_skewness = train_skewness.drop(train_skewness.columns[0:13], axis=1)\n",
        "train_range = train_range.drop(train_range.columns[0:13], axis=1)\n",
        "train_iqr = train_iqr.drop(train_iqr.columns[0:13], axis=1)\n",
        "\n",
        "# merge train_ and train_latest\n",
        "train = pd.concat([train_mean, train_latest, train_dispers, train_min, train_max], axis=1)\n",
        "\n",
        "# load processed data\n",
        "test_mean = pd.read_csv('https://raw.githubusercontent.com/zxyao5148/STAT3612_2023_1A_GroupProject/main/data_processing/test/test_mean_mode.csv')\n",
        "test_latest = pd.read_csv('https://raw.githubusercontent.com/zxyao5148/STAT3612_2023_1A_GroupProject/main/data_processing/test/test_latest.csv')\n",
        "test_dispers = pd.read_csv('https://raw.githubusercontent.com/zxyao5148/STAT3612_2023_1A_GroupProject/main/data_processing/test/test_entropy_std.csv')\n",
        "test_min = pd.read_csv('https://raw.githubusercontent.com/zxyao5148/STAT3612_2023_1A_GroupProject/main/data_processing/test/test_min.csv')\n",
        "test_max = pd.read_csv('https://raw.githubusercontent.com/zxyao5148/STAT3612_2023_1A_GroupProject/main/data_processing/test/test_max.csv')\n",
        "test_q1 = pd.read_csv('https://raw.githubusercontent.com/zxyao5148/STAT3612_2023_1A_GroupProject/main/data_processing/test/test_q1.csv')\n",
        "test_q3 = pd.read_csv('https://raw.githubusercontent.com/zxyao5148/STAT3612_2023_1A_GroupProject/main/data_processing/test/test_q3.csv')\n",
        "test_kurtosis = pd.read_csv('https://raw.githubusercontent.com/zxyao5148/STAT3612_2023_1A_GroupProject/main/data_processing/test/test_kurtosis.csv')\n",
        "test_skewness = pd.read_csv('https://raw.githubusercontent.com/zxyao5148/STAT3612_2023_1A_GroupProject/main/data_processing/test/test_skewness.csv')\n",
        "test_range = pd.read_csv('https://raw.githubusercontent.com/zxyao5148/STAT3612_2023_1A_GroupProject/main/data_processing/test/test_range.csv')\n",
        "test_iqr = pd.read_csv('https://raw.githubusercontent.com/zxyao5148/STAT3612_2023_1A_GroupProject/main/data_processing/test/test_iqr.csv')\n",
        "test_latest = test_latest.drop(test_latest.columns[0:12], axis=1)\n",
        "test_dispers = test_dispers.drop(test_dispers.columns[0:12], axis=1)\n",
        "test_min = test_min.drop(test_min.columns[0:12], axis=1)\n",
        "test_max = test_max.drop(test_max.columns[0:12], axis=1)\n",
        "test_q1 = test_q1.drop(test_q1.columns[0:12], axis=1)\n",
        "test_q3 = test_q3.drop(test_q3.columns[0:12], axis=1)\n",
        "test_kurtosis = test_kurtosis.drop(test_kurtosis.columns[0:12], axis=1)\n",
        "test_skewness = test_skewness.drop(test_skewness.columns[0:12], axis=1)\n",
        "test_range = test_range.drop(test_range.columns[0:12], axis=1)\n",
        "test_iqr = test_iqr.drop(test_iqr.columns[0:12], axis=1)\n",
        "\n",
        "# merge train_mean and train_latest\n",
        "test = pd.concat([test_mean, test_latest, test_dispers, test_min, test_max], axis=1)"
      ],
      "metadata": {
        "id": "Ci_GwI3oM80A"
      },
      "execution_count": null,
      "outputs": []
    },
    {
      "cell_type": "code",
      "source": [
        "train = train.drop(train.columns[11], axis=1)\n",
        "test = test.drop(test.columns[11], axis=1)"
      ],
      "metadata": {
        "id": "1dFLblDTM-fg"
      },
      "execution_count": null,
      "outputs": []
    },
    {
      "cell_type": "code",
      "source": [
        "x_train = pd.concat([train.iloc[:,10], train.iloc[:,12:]], axis=1)\n",
        "y_train = train.iloc[:,11]\n",
        "\n",
        "!wget https://raw.githubusercontent.com/zxyao5148/STAT3612_2023_1A_GroupProject/main/code_base/adjust_imbl.py\n",
        "from adjust_imbl import adjust_imbl\n",
        "x_train, y_train = adjust_imbl(x_train, y_train)\n",
        "\n",
        "# with 80% of the data for training and 20% for validation\n",
        "x_train, x_valid, y_train, y_valid = train_test_split(x_train, y_train, test_size=0.2, random_state=3612)\n",
        "\n",
        "x_test = test.iloc[:,10:]"
      ],
      "metadata": {
        "colab": {
          "base_uri": "https://localhost:8080/"
        },
        "id": "rZUjD8Q9Nodh",
        "outputId": "6fafd08f-90a9-4de7-e2b3-fb71d43cdc21"
      },
      "execution_count": null,
      "outputs": [
        {
          "output_type": "stream",
          "name": "stdout",
          "text": [
            "--2023-12-05 04:22:28--  https://raw.githubusercontent.com/zxyao5148/STAT3612_2023_1A_GroupProject/main/code_base/adjust_imbl.py\n",
            "Resolving raw.githubusercontent.com (raw.githubusercontent.com)... 185.199.108.133, 185.199.109.133, 185.199.110.133, ...\n",
            "Connecting to raw.githubusercontent.com (raw.githubusercontent.com)|185.199.108.133|:443... connected.\n",
            "HTTP request sent, awaiting response... 200 OK\n",
            "Length: 927 [text/plain]\n",
            "Saving to: ‘adjust_imbl.py’\n",
            "\n",
            "\radjust_imbl.py        0%[                    ]       0  --.-KB/s               \radjust_imbl.py      100%[===================>]     927  --.-KB/s    in 0s      \n",
            "\n",
            "2023-12-05 04:22:28 (38.0 MB/s) - ‘adjust_imbl.py’ saved [927/927]\n",
            "\n",
            "Original dataset shape Counter({0: 9564, 1: 2032})\n",
            "Resampled dataset shape Counter({0: 2032, 1: 2032})\n"
          ]
        }
      ]
    },
    {
      "cell_type": "code",
      "source": [
        "from sklearn.decomposition import PCA\n",
        "from sklearn.preprocessing import StandardScaler\n",
        "\n",
        "pca = PCA(n_components=150)  # You can specify the number of components to reduce to\n",
        "scaler = StandardScaler()\n",
        "\n",
        "# Fit and transform the scaler on the training data\n",
        "x_train_scaled = scaler.fit_transform(x_train)\n",
        "\n",
        "# Fit PCA on the scaled training data\n",
        "pca.fit(x_train_scaled)\n",
        "\n",
        "# Transform the training, validation, and test data using the fitted PCA and scaler\n",
        "x_train = pca.transform(x_train_scaled)\n",
        "x_valid_scaled = scaler.transform(x_valid)\n",
        "x_valid = pca.transform(x_valid_scaled)\n",
        "x_test_scaled = scaler.transform(x_test)\n",
        "x_test = pca.transform(x_test_scaled)"
      ],
      "metadata": {
        "id": "zB0mI6IUNB55"
      },
      "execution_count": null,
      "outputs": []
    },
    {
      "cell_type": "code",
      "execution_count": null,
      "metadata": {
        "id": "ElXnpwlhE0i8"
      },
      "outputs": [],
      "source": [
        "x_train = x_train.reshape((x_train.shape[0], x_train.shape[1], 1))\n",
        "x_valid = x_valid.reshape((x_valid.shape[0], x_valid.shape[1], 1))\n",
        "x_test = x_test.reshape((x_test.shape[0], x_test.shape[1], 1))\n",
        "\n",
        "# Reset the index of the y_train DataFrame\n",
        "y_train = y_train.reset_index(drop=True)\n",
        "\n",
        "# Shuffle the indices\n",
        "idx = np.random.permutation(len(x_train))\n",
        "\n",
        "# Reassign the values using the shuffled indices\n",
        "x_train = x_train[idx]\n",
        "y_train = y_train.iloc[idx]"
      ]
    },
    {
      "cell_type": "markdown",
      "metadata": {
        "id": "teAicBzgAVxl"
      },
      "source": [
        "## Build the model\n",
        "\n",
        "The model processes a tensor of shape `(batch size, sequence length, features)`,\n",
        "where `sequence length` is the number of time steps and `features` is each input\n",
        "timeseries.\n"
      ]
    },
    {
      "cell_type": "code",
      "execution_count": null,
      "metadata": {
        "id": "My1EkBMVAVxm"
      },
      "outputs": [],
      "source": [
        "from keras.layers import Dense, Activation, Dropout\n",
        "from keras.layers import LSTM, GRU, SimpleRNN\n",
        "from keras.models import Sequential\n",
        "import keras"
      ]
    },
    {
      "cell_type": "markdown",
      "metadata": {
        "id": "WnIPR8DVnL27"
      },
      "source": [
        "# Simple RNN"
      ]
    },
    {
      "cell_type": "code",
      "execution_count": null,
      "metadata": {
        "colab": {
          "base_uri": "https://localhost:8080/"
        },
        "id": "ROFmOBEbAVxm",
        "outputId": "eeebfeed-a85e-43bd-9913-7e74245557a6"
      },
      "outputs": [
        {
          "output_type": "stream",
          "name": "stdout",
          "text": [
            "model compiled\n",
            "Model: \"sequential\"\n",
            "_________________________________________________________________\n",
            " Layer (type)                Output Shape              Param #   \n",
            "=================================================================\n",
            " simple_rnn (SimpleRNN)      (None, 150, 50)           2600      \n",
            "                                                                 \n",
            " dropout (Dropout)           (None, 150, 50)           0         \n",
            "                                                                 \n",
            " simple_rnn_1 (SimpleRNN)    (None, 100)               15100     \n",
            "                                                                 \n",
            " dropout_1 (Dropout)         (None, 100)               0         \n",
            "                                                                 \n",
            " dense (Dense)               (None, 1)                 101       \n",
            "                                                                 \n",
            "=================================================================\n",
            "Total params: 17801 (69.54 KB)\n",
            "Trainable params: 17801 (69.54 KB)\n",
            "Non-trainable params: 0 (0.00 Byte)\n",
            "_________________________________________________________________\n",
            "None\n",
            "Epoch 1/200\n",
            "7/7 [==============================] - 10s 274ms/step - loss: 0.7041 - accuracy: 0.5088 - val_loss: 0.6817 - val_accuracy: 0.5523\n",
            "Epoch 2/200\n",
            "7/7 [==============================] - 2s 237ms/step - loss: 0.6902 - accuracy: 0.5334 - val_loss: 0.6724 - val_accuracy: 0.5892\n",
            "Epoch 3/200\n",
            "7/7 [==============================] - 2s 240ms/step - loss: 0.6805 - accuracy: 0.5734 - val_loss: 0.6658 - val_accuracy: 0.6064\n",
            "Epoch 4/200\n",
            "7/7 [==============================] - 3s 467ms/step - loss: 0.6749 - accuracy: 0.5691 - val_loss: 0.6612 - val_accuracy: 0.6224\n",
            "Epoch 5/200\n",
            "7/7 [==============================] - 2s 219ms/step - loss: 0.6727 - accuracy: 0.5780 - val_loss: 0.6555 - val_accuracy: 0.6298\n",
            "Epoch 6/200\n",
            "7/7 [==============================] - 2s 220ms/step - loss: 0.6636 - accuracy: 0.5909 - val_loss: 0.6515 - val_accuracy: 0.6285\n",
            "Epoch 7/200\n",
            "7/7 [==============================] - 2s 225ms/step - loss: 0.6574 - accuracy: 0.6100 - val_loss: 0.6471 - val_accuracy: 0.6224\n",
            "Epoch 8/200\n",
            "7/7 [==============================] - 2s 229ms/step - loss: 0.6549 - accuracy: 0.6183 - val_loss: 0.6434 - val_accuracy: 0.6433\n",
            "Epoch 9/200\n",
            "7/7 [==============================] - 2s 239ms/step - loss: 0.6463 - accuracy: 0.6195 - val_loss: 0.6464 - val_accuracy: 0.6236\n",
            "Epoch 10/200\n",
            "7/7 [==============================] - 2s 221ms/step - loss: 0.6445 - accuracy: 0.6337 - val_loss: 0.6408 - val_accuracy: 0.6396\n",
            "Epoch 11/200\n",
            "7/7 [==============================] - 4s 594ms/step - loss: 0.6349 - accuracy: 0.6300 - val_loss: 0.6398 - val_accuracy: 0.6482\n",
            "Epoch 12/200\n",
            "7/7 [==============================] - 4s 543ms/step - loss: 0.6334 - accuracy: 0.6416 - val_loss: 0.6426 - val_accuracy: 0.6458\n",
            "Epoch 13/200\n",
            "7/7 [==============================] - 3s 363ms/step - loss: 0.6308 - accuracy: 0.6386 - val_loss: 0.6377 - val_accuracy: 0.6531\n",
            "Epoch 14/200\n",
            "7/7 [==============================] - 2s 244ms/step - loss: 0.6239 - accuracy: 0.6466 - val_loss: 0.6386 - val_accuracy: 0.6433\n",
            "Epoch 15/200\n",
            "7/7 [==============================] - 4s 649ms/step - loss: 0.6178 - accuracy: 0.6533 - val_loss: 0.6549 - val_accuracy: 0.6199\n",
            "Epoch 16/200\n",
            "7/7 [==============================] - 3s 457ms/step - loss: 0.6182 - accuracy: 0.6573 - val_loss: 0.6425 - val_accuracy: 0.6458\n",
            "Epoch 17/200\n",
            "7/7 [==============================] - 2s 231ms/step - loss: 0.6138 - accuracy: 0.6580 - val_loss: 0.6481 - val_accuracy: 0.6322\n",
            "Epoch 18/200\n",
            "7/7 [==============================] - 2s 243ms/step - loss: 0.6143 - accuracy: 0.6573 - val_loss: 0.6596 - val_accuracy: 0.6408\n",
            "Epoch 19/200\n",
            "7/7 [==============================] - 2s 232ms/step - loss: 0.6078 - accuracy: 0.6620 - val_loss: 0.6430 - val_accuracy: 0.6494\n",
            "Epoch 20/200\n",
            "7/7 [==============================] - 2s 224ms/step - loss: 0.6062 - accuracy: 0.6764 - val_loss: 0.6490 - val_accuracy: 0.6421\n",
            "Epoch 21/200\n",
            "7/7 [==============================] - 2s 230ms/step - loss: 0.6002 - accuracy: 0.6739 - val_loss: 0.6691 - val_accuracy: 0.6261\n",
            "Epoch 22/200\n",
            "7/7 [==============================] - 2s 263ms/step - loss: 0.5948 - accuracy: 0.6810 - val_loss: 0.6489 - val_accuracy: 0.6531\n",
            "Epoch 23/200\n",
            "7/7 [==============================] - 3s 440ms/step - loss: 0.5857 - accuracy: 0.6924 - val_loss: 0.6591 - val_accuracy: 0.6482\n"
          ]
        }
      ],
      "source": [
        "# In Keras, the \"RNN\" layer is a wrapper for the RNN cell, not the actual cell itself.\n",
        "# specify the type of RNN cell to use, such as LSTM, GRU, or SimpleRNN\n",
        "\n",
        "model = Sequential()\n",
        "model.add(SimpleRNN(50, return_sequences=True, input_shape=(x_train.shape[1],1)))\n",
        "model.add(Dropout(0.2))\n",
        "model.add(SimpleRNN(100, return_sequences=False, activation = \"relu\"))\n",
        "model.add(Dropout(0.2))\n",
        "model.add(Dense(1, activation = \"sigmoid\"))\n",
        "\n",
        "model.compile(loss='binary_crossentropy', optimizer='Adam', metrics=[\"accuracy\"])\n",
        "\n",
        "print ('model compiled')\n",
        "\n",
        "callbacks = [keras.callbacks.EarlyStopping(patience=10, restore_best_weights=True)]\n",
        "\n",
        "print (model.summary())\n",
        "\n",
        "#Train the model\n",
        "history_RNN=model.fit(x_train, y_train, batch_size=512, epochs=200, validation_data = (x_valid, y_valid), callbacks=callbacks)"
      ]
    },
    {
      "cell_type": "code",
      "execution_count": null,
      "metadata": {
        "colab": {
          "base_uri": "https://localhost:8080/",
          "height": 887
        },
        "id": "1-HwZ-HnknmJ",
        "outputId": "b260d9e2-f3c4-4934-cfb9-4bb3625cd66c"
      },
      "outputs": [
        {
          "output_type": "display_data",
          "data": {
            "text/plain": [
              "<Figure size 640x480 with 1 Axes>"
            ],
            "image/png": "[encoded data removed]"
          },
          "metadata": {}
        },
        {
          "output_type": "display_data",
          "data": {
            "text/plain": [
              "<Figure size 640x480 with 1 Axes>"
            ],
            "image/png": "[encoded data removed]"
          },
          "metadata": {}
        }
      ],
      "source": [
        "import matplotlib.pyplot as plt\n",
        "\n",
        "# Plot the training and validation accuracy over epochs\n",
        "plt.plot(history_RNN.history['accuracy'], label='Training Accuracy')\n",
        "plt.plot(history_RNN.history['val_accuracy'], label='Validation Accuracy')\n",
        "plt.xlabel('Epoch')\n",
        "plt.ylabel('Accuracy')\n",
        "plt.ylim([0, 1])\n",
        "plt.legend(loc='lower right')\n",
        "plt.show()\n",
        "\n",
        "# Plot the training and validation loss over epochs\n",
        "plt.plot(history_RNN.history['loss'], label='Training Loss')\n",
        "plt.plot(history_RNN.history['val_loss'], label='Validation Loss')\n",
        "plt.xlabel('Epoch')\n",
        "plt.ylabel('Loss')\n",
        "plt.legend(loc='upper right')\n",
        "plt.show()\n"
      ]
    },
    {
      "cell_type": "markdown",
      "metadata": {
        "id": "OSsJHYO0R-p0"
      },
      "source": [
        "##Evaluation"
      ]
    },
    {
      "cell_type": "code",
      "execution_count": null,
      "metadata": {
        "colab": {
          "base_uri": "https://localhost:8080/"
        },
        "id": "CJPGAOfCXdbQ",
        "outputId": "baf470fd-a228-40a0-da3c-cee56b068ca8"
      },
      "outputs": [
        {
          "output_type": "stream",
          "name": "stdout",
          "text": [
            "102/102 [==============================] - 3s 22ms/step\n",
            "26/26 [==============================] - 1s 22ms/step\n",
            "Accuracy (train): 0.6724\n",
            "AUC (train): 0.7338\n",
            "Accuracy (valid): 0.6531\n",
            "AUC (valid): 0.6989\n"
          ]
        }
      ],
      "source": [
        "from sklearn.metrics import roc_auc_score\n",
        "\n",
        "threshold = 0.5\n",
        "\n",
        "y_train_pred = model.predict(x_train)\n",
        "# Convert probabilities to binary predictions\n",
        "y_train_pred_binary = (y_train_pred > threshold).astype(int)\n",
        "y_valid_pred = model.predict(x_valid)\n",
        "y_valid_pred_binary = (y_valid_pred > threshold).astype(int)\n",
        "\n",
        "from sklearn.metrics import accuracy_score, confusion_matrix, classification_report, roc_curve, auc, roc_auc_score\n",
        "accuracy_train = accuracy_score(y_train, y_train_pred_binary)\n",
        "auc_train = roc_auc_score(y_train, y_train_pred)\n",
        "\n",
        "accuracy_valid = accuracy_score(y_valid, y_valid_pred_binary)\n",
        "auc_valid = roc_auc_score(y_valid, y_valid_pred)\n",
        "\n",
        "print(f'Accuracy (train): {accuracy_train:.4f}')\n",
        "print(f'AUC (train): {auc_train:.4f}')\n",
        "\n",
        "print(f'Accuracy (valid): {accuracy_valid:.4f}')\n",
        "print(f'AUC (valid): {auc_valid:.4f}')"
      ]
    },
    {
      "cell_type": "code",
      "execution_count": null,
      "metadata": {
        "colab": {
          "base_uri": "https://localhost:8080/"
        },
        "id": "GeA1W5inTJF5",
        "outputId": "9c0cc4c3-6cd6-46ca-ff3d-778b504695a3"
      },
      "outputs": [
        {
          "output_type": "stream",
          "name": "stdout",
          "text": [
            "For training set:\n",
            "Precision: 0.7046\n",
            "Recall: 0.5961\n",
            "F1 Score: 0.6458 \n",
            "\n",
            "For validation set:\n",
            "Precision: 0.6555\n",
            "Recall: 0.6328\n",
            "F1 Score: 0.6439\n"
          ]
        }
      ],
      "source": [
        "from sklearn.metrics import precision_score, recall_score, f1_score\n",
        "# Calculate precision, recall, and F1 score\n",
        "precision = precision_score(y_train, y_train_pred_binary, zero_division=1)\n",
        "recall = recall_score(y_train, y_train_pred_binary, zero_division=1)\n",
        "f1 = f1_score(y_train, y_train_pred_binary, zero_division=1)\n",
        "\n",
        "# Print with 4 digits limit\n",
        "print(\"For training set:\")\n",
        "print(\"Precision:\", round(precision, 4))\n",
        "print(\"Recall:\", round(recall, 4))\n",
        "print(\"F1 Score:\", round(f1, 4),\"\\n\")\n",
        "\n",
        "# Calculate precision, recall, and F1 score\n",
        "precision = precision_score(y_valid, y_valid_pred_binary, zero_division=1)\n",
        "recall = recall_score(y_valid, y_valid_pred_binary, zero_division=1)\n",
        "f1 = f1_score(y_valid, y_valid_pred_binary, zero_division=1)\n",
        "\n",
        "# Print with 4 digits limit\n",
        "print(\"For validation set:\")\n",
        "print(\"Precision:\", round(precision, 4))\n",
        "print(\"Recall:\", round(recall, 4))\n",
        "print(\"F1 Score:\", round(f1, 4))"
      ]
    },
    {
      "cell_type": "code",
      "execution_count": null,
      "metadata": {
        "colab": {
          "base_uri": "https://localhost:8080/"
        },
        "id": "2n-_zbitBplK",
        "outputId": "4cdb1d89-c1f3-499d-86b9-944586d87784"
      },
      "outputs": [
        {
          "output_type": "stream",
          "name": "stdout",
          "text": [
            "92/92 [==============================] - 3s 36ms/step\n"
          ]
        }
      ],
      "source": [
        "y_test_pred = model.predict(x_test)\n",
        "y_test_pred_binary = (y_test_pred > threshold).astype(int)"
      ]
    },
    {
      "cell_type": "markdown",
      "source": [
        "## Export"
      ],
      "metadata": {
        "id": "LZ567_BMOqKQ"
      }
    },
    {
      "cell_type": "code",
      "execution_count": null,
      "metadata": {
        "colab": {
          "base_uri": "https://localhost:8080/",
          "height": 17
        },
        "id": "avvAz5qEBxdp",
        "outputId": "7bcda67a-ee93-409f-8b69-0acde345f7ee"
      },
      "outputs": [
        {
          "output_type": "display_data",
          "data": {
            "text/plain": [
              "<IPython.core.display.Javascript object>"
            ],
            "application/javascript": [
              "\n",
              "    async function download(id, filename, size) {\n",
              "      if (!google.colab.kernel.accessAllowed) {\n",
              "        return;\n",
              "      }\n",
              "      const div = document.createElement('div');\n",
              "      const label = document.createElement('label');\n",
              "      label.textContent = `Downloading \"${filename}\": `;\n",
              "      div.appendChild(label);\n",
              "      const progress = document.createElement('progress');\n",
              "      progress.max = size;\n",
              "      div.appendChild(progress);\n",
              "      document.body.appendChild(div);\n",
              "\n",
              "      const buffers = [];\n",
              "      let downloaded = 0;\n",
              "\n",
              "      const channel = await google.colab.kernel.comms.open(id);\n",
              "      // Send a message to notify the kernel that we're ready.\n",
              "      channel.send({})\n",
              "\n",
              "      for await (const message of channel.messages) {\n",
              "        // Send a message to notify the kernel that we're ready.\n",
              "        channel.send({})\n",
              "        if (message.buffers) {\n",
              "          for (const buffer of message.buffers) {\n",
              "            buffers.push(buffer);\n",
              "            downloaded += buffer.byteLength;\n",
              "            progress.value = downloaded;\n",
              "          }\n",
              "        }\n",
              "      }\n",
              "      const blob = new Blob(buffers, {type: 'application/binary'});\n",
              "      const a = document.createElement('a');\n",
              "      a.href = window.URL.createObjectURL(blob);\n",
              "      a.download = filename;\n",
              "      div.appendChild(a);\n",
              "      a.click();\n",
              "      div.remove();\n",
              "    }\n",
              "  "
            ]
          },
          "metadata": {}
        },
        {
          "output_type": "display_data",
          "data": {
            "text/plain": [
              "<IPython.core.display.Javascript object>"
            ],
            "application/javascript": [
              "download(\"download_da6ae072-0184-4ea1-a7f8-a51a62c3d499\", \"RNN_Pred.csv\", 83887)"
            ]
          },
          "metadata": {}
        }
      ],
      "source": [
        "# Assuming y_test_pred_binary is a numpy array\n",
        "predictions_df = pd.DataFrame(y_test_pred, columns=['readmitted_within_30days'])\n",
        "merged_df = test[['id']].merge(predictions_df, left_index=True, right_index=True)\n",
        "merged_df.to_csv('RNN_Pred.csv', index=False)\n",
        "\n",
        "from google.colab import files\n",
        "files.download('RNN_Pred.csv')"
      ]
    },
    {
      "cell_type": "markdown",
      "metadata": {
        "id": "hVdaA92rViHu"
      },
      "source": [
        "# LSTM"
      ]
    },
    {
      "cell_type": "code",
      "execution_count": null,
      "metadata": {
        "colab": {
          "base_uri": "https://localhost:8080/"
        },
        "id": "itm25_POmxOr",
        "outputId": "4bd5a188-5662-47c9-ce3e-141535cfaa13"
      },
      "outputs": [
        {
          "output_type": "stream",
          "name": "stderr",
          "text": [
            "WARNING:tensorflow:Layer lstm_1 will not use cuDNN kernels since it doesn't meet the criteria. It will use a generic GPU kernel as fallback when running on GPU.\n"
          ]
        },
        {
          "output_type": "stream",
          "name": "stdout",
          "text": [
            "model compiled\n",
            "Model: \"sequential_1\"\n",
            "_________________________________________________________________\n",
            " Layer (type)                Output Shape              Param #   \n",
            "=================================================================\n",
            " lstm (LSTM)                 (None, 150, 50)           10400     \n",
            "                                                                 \n",
            " dropout_2 (Dropout)         (None, 150, 50)           0         \n",
            "                                                                 \n",
            " lstm_1 (LSTM)               (None, 100)               60400     \n",
            "                                                                 \n",
            " dropout_3 (Dropout)         (None, 100)               0         \n",
            "                                                                 \n",
            " dense_1 (Dense)             (None, 1)                 101       \n",
            "                                                                 \n",
            "=================================================================\n",
            "Total params: 70901 (276.96 KB)\n",
            "Trainable params: 70901 (276.96 KB)\n",
            "Non-trainable params: 0 (0.00 Byte)\n",
            "_________________________________________________________________\n",
            "None\n",
            "Epoch 1/200\n",
            "7/7 [==============================] - 8s 341ms/step - loss: 0.6926 - accuracy: 0.5042 - val_loss: 0.6921 - val_accuracy: 0.5326\n",
            "Epoch 2/200\n",
            "7/7 [==============================] - 2s 263ms/step - loss: 0.6912 - accuracy: 0.5288 - val_loss: 0.6910 - val_accuracy: 0.5597\n",
            "Epoch 3/200\n",
            "7/7 [==============================] - 2s 250ms/step - loss: 0.6889 - accuracy: 0.5460 - val_loss: 157595.8750 - val_accuracy: 0.5633\n",
            "Epoch 4/200\n",
            "7/7 [==============================] - 2s 246ms/step - loss: 417039200.0000 - accuracy: 0.5589 - val_loss: 0.6894 - val_accuracy: 0.5584\n",
            "Epoch 5/200\n",
            "7/7 [==============================] - 3s 438ms/step - loss: 0.6889 - accuracy: 0.5524 - val_loss: 0.6898 - val_accuracy: 0.5424\n",
            "Epoch 6/200\n",
            "7/7 [==============================] - 4s 586ms/step - loss: 0.6894 - accuracy: 0.5524 - val_loss: 0.6900 - val_accuracy: 0.5375\n",
            "Epoch 7/200\n",
            "7/7 [==============================] - 2s 283ms/step - loss: 0.6896 - accuracy: 0.5451 - val_loss: 0.6901 - val_accuracy: 0.5375\n",
            "Epoch 8/200\n",
            "7/7 [==============================] - 2s 255ms/step - loss: 0.6896 - accuracy: 0.5457 - val_loss: 0.6901 - val_accuracy: 0.5400\n",
            "Epoch 9/200\n",
            "7/7 [==============================] - 2s 253ms/step - loss: 0.6896 - accuracy: 0.5441 - val_loss: 0.6900 - val_accuracy: 0.5387\n",
            "Epoch 10/200\n",
            "7/7 [==============================] - 2s 250ms/step - loss: 0.6897 - accuracy: 0.5472 - val_loss: 0.6899 - val_accuracy: 0.5387\n",
            "Epoch 11/200\n",
            "7/7 [==============================] - 2s 343ms/step - loss: 0.6895 - accuracy: 0.5448 - val_loss: 0.6899 - val_accuracy: 0.5400\n",
            "Epoch 12/200\n",
            "7/7 [==============================] - 3s 384ms/step - loss: 0.6894 - accuracy: 0.5528 - val_loss: 0.6898 - val_accuracy: 0.5412\n",
            "Epoch 13/200\n",
            "7/7 [==============================] - 5s 706ms/step - loss: 0.6892 - accuracy: 0.5555 - val_loss: 0.6896 - val_accuracy: 0.5412\n",
            "Epoch 14/200\n",
            "7/7 [==============================] - 6s 819ms/step - loss: 0.6890 - accuracy: 0.5521 - val_loss: 0.6894 - val_accuracy: 0.5400\n"
          ]
        }
      ],
      "source": [
        "model_LSTM = Sequential()\n",
        "model_LSTM.add(LSTM(50, return_sequences=True, input_shape=(x_train.shape[1], 1)))\n",
        "model_LSTM.add(Dropout(0.2))\n",
        "model_LSTM.add(LSTM(100, return_sequences=False, activation=\"relu\"))\n",
        "model_LSTM.add(Dropout(0.2))\n",
        "model_LSTM.add(Dense(1, activation=\"sigmoid\"))\n",
        "\n",
        "model_LSTM.compile(loss='binary_crossentropy', optimizer='Adam', metrics=[\"accuracy\"])\n",
        "\n",
        "print ('model compiled')\n",
        "\n",
        "callbacks = [keras.callbacks.EarlyStopping(patience=10, restore_best_weights=True)]\n",
        "\n",
        "print (model_LSTM.summary())\n",
        "\n",
        "#Train the model\n",
        "history_LSTM=model_LSTM.fit(x_train, y_train, batch_size=512, epochs=200, validation_data = (x_valid, y_valid), callbacks=callbacks)"
      ]
    },
    {
      "cell_type": "code",
      "source": [
        "import matplotlib.pyplot as plt\n",
        "\n",
        "# Plot the training and validation accuracy over epochs\n",
        "plt.plot(history_LSTM.history['accuracy'], label='Training Accuracy')\n",
        "plt.plot(history_LSTM.history['val_accuracy'], label='Validation Accuracy')\n",
        "plt.xlabel('Epoch')\n",
        "plt.ylabel('Accuracy')\n",
        "plt.ylim([0, 1])\n",
        "plt.legend(loc='lower right')\n",
        "plt.show()\n",
        "\n",
        "# Plot the training and validation loss over epochs\n",
        "plt.plot(history_LSTM.history['loss'], label='Training Loss')\n",
        "plt.plot(history_LSTM.history['val_loss'], label='Validation Loss')\n",
        "plt.xlabel('Epoch')\n",
        "plt.ylabel('Loss')\n",
        "plt.legend(loc='upper right')\n",
        "plt.show()\n"
      ],
      "metadata": {
        "id": "xQp0oIVO0AL7",
        "colab": {
          "base_uri": "https://localhost:8080/",
          "height": 903
        },
        "outputId": "cc06e51a-c5ed-46ed-9977-4e98db60d0e0"
      },
      "execution_count": null,
      "outputs": [
        {
          "output_type": "display_data",
          "data": {
            "text/plain": [
              "<Figure size 640x480 with 1 Axes>"
            ],
            "image/png": "[encoded data removed]"
          },
          "metadata": {}
        },
        {
          "output_type": "display_data",
          "data": {
            "text/plain": [
              "<Figure size 640x480 with 1 Axes>"
            ],
            "image/png": "[encoded data removed]"
          },
          "metadata": {}
        }
      ]
    },
    {
      "cell_type": "markdown",
      "metadata": {
        "id": "dFothgUaKGkQ"
      },
      "source": [
        "##Evaluation"
      ]
    },
    {
      "cell_type": "code",
      "execution_count": null,
      "metadata": {
        "colab": {
          "base_uri": "https://localhost:8080/"
        },
        "id": "pYuRxMbDKGkQ",
        "outputId": "52ac491e-bcae-45ca-e7d3-882c3425fcd5"
      },
      "outputs": [
        {
          "output_type": "stream",
          "name": "stdout",
          "text": [
            "102/102 [==============================] - 11s 96ms/step\n",
            "26/26 [==============================] - 2s 55ms/step\n",
            "Accuracy (train): 0.5611\n",
            "AUC (train): 0.5880\n",
            "Accuracy (valid): 0.5584\n",
            "AUC (valid): 0.5890\n"
          ]
        }
      ],
      "source": [
        "from sklearn.metrics import roc_auc_score\n",
        "\n",
        "threshold = 0.5\n",
        "\n",
        "y_train_pred = model_LSTM.predict(x_train)\n",
        "# Convert probabilities to binary predictions\n",
        "y_train_pred_binary = (y_train_pred > threshold).astype(int)\n",
        "y_valid_pred = model_LSTM.predict(x_valid)\n",
        "y_valid_pred_binary = (y_valid_pred > threshold).astype(int)\n",
        "\n",
        "from sklearn.metrics import accuracy_score, confusion_matrix, classification_report, roc_curve, auc, roc_auc_score\n",
        "accuracy_train = accuracy_score(y_train, y_train_pred_binary)\n",
        "auc_train = roc_auc_score(y_train, y_train_pred)\n",
        "\n",
        "accuracy_valid = accuracy_score(y_valid, y_valid_pred_binary)\n",
        "auc_valid = roc_auc_score(y_valid, y_valid_pred)\n",
        "\n",
        "print(f'Accuracy (train): {accuracy_train:.4f}')\n",
        "print(f'AUC (train): {auc_train:.4f}')\n",
        "\n",
        "print(f'Accuracy (valid): {accuracy_valid:.4f}')\n",
        "print(f'AUC (valid): {auc_valid:.4f}')"
      ]
    },
    {
      "cell_type": "code",
      "execution_count": null,
      "metadata": {
        "colab": {
          "base_uri": "https://localhost:8080/"
        },
        "id": "WrmorL0-KGkZ",
        "outputId": "f3f2071f-c676-4af9-df82-7e38de4db79b"
      },
      "outputs": [
        {
          "output_type": "stream",
          "name": "stdout",
          "text": [
            "For training set:\n",
            "Precision: 0.5816\n",
            "Recall: 0.442\n",
            "F1 Score: 0.5023 \n",
            "\n",
            "For validation set:\n",
            "Precision: 0.5611\n",
            "Recall: 0.5012\n",
            "F1 Score: 0.5295\n"
          ]
        }
      ],
      "source": [
        "from sklearn.metrics import precision_score, recall_score, f1_score\n",
        "# Calculate precision, recall, and F1 score\n",
        "precision = precision_score(y_train, y_train_pred_binary, zero_division=1)\n",
        "recall = recall_score(y_train, y_train_pred_binary, zero_division=1)\n",
        "f1 = f1_score(y_train, y_train_pred_binary, zero_division=1)\n",
        "\n",
        "# Print with 4 digits limit\n",
        "print(\"For training set:\")\n",
        "print(\"Precision:\", round(precision, 4))\n",
        "print(\"Recall:\", round(recall, 4))\n",
        "print(\"F1 Score:\", round(f1, 4),\"\\n\")\n",
        "\n",
        "# Calculate precision, recall, and F1 score\n",
        "precision = precision_score(y_valid, y_valid_pred_binary, zero_division=1)\n",
        "recall = recall_score(y_valid, y_valid_pred_binary, zero_division=1)\n",
        "f1 = f1_score(y_valid, y_valid_pred_binary, zero_division=1)\n",
        "\n",
        "# Print with 4 digits limit\n",
        "print(\"For validation set:\")\n",
        "print(\"Precision:\", round(precision, 4))\n",
        "print(\"Recall:\", round(recall, 4))\n",
        "print(\"F1 Score:\", round(f1, 4))"
      ]
    },
    {
      "cell_type": "code",
      "execution_count": null,
      "metadata": {
        "colab": {
          "base_uri": "https://localhost:8080/"
        },
        "id": "ZRnlfJgwKGkZ",
        "outputId": "6bfb5e3d-55fa-44bb-cc6d-37a62ec1b15b"
      },
      "outputs": [
        {
          "output_type": "stream",
          "name": "stdout",
          "text": [
            "92/92 [==============================] - 2s 24ms/step\n"
          ]
        }
      ],
      "source": [
        "y_test_pred = model_LSTM.predict(x_test)\n",
        "y_test_pred_binary = (y_test_pred > threshold).astype(int)"
      ]
    },
    {
      "cell_type": "markdown",
      "source": [
        "## Export"
      ],
      "metadata": {
        "id": "7fSsGNfBOwzP"
      }
    },
    {
      "cell_type": "code",
      "execution_count": null,
      "metadata": {
        "colab": {
          "base_uri": "https://localhost:8080/",
          "height": 17
        },
        "id": "JfyJ6xY0KGkg",
        "outputId": "105815b8-ab9a-4a15-b16f-bf1f88f63d76"
      },
      "outputs": [
        {
          "output_type": "display_data",
          "data": {
            "text/plain": [
              "<IPython.core.display.Javascript object>"
            ],
            "application/javascript": [
              "\n",
              "    async function download(id, filename, size) {\n",
              "      if (!google.colab.kernel.accessAllowed) {\n",
              "        return;\n",
              "      }\n",
              "      const div = document.createElement('div');\n",
              "      const label = document.createElement('label');\n",
              "      label.textContent = `Downloading \"${filename}\": `;\n",
              "      div.appendChild(label);\n",
              "      const progress = document.createElement('progress');\n",
              "      progress.max = size;\n",
              "      div.appendChild(progress);\n",
              "      document.body.appendChild(div);\n",
              "\n",
              "      const buffers = [];\n",
              "      let downloaded = 0;\n",
              "\n",
              "      const channel = await google.colab.kernel.comms.open(id);\n",
              "      // Send a message to notify the kernel that we're ready.\n",
              "      channel.send({})\n",
              "\n",
              "      for await (const message of channel.messages) {\n",
              "        // Send a message to notify the kernel that we're ready.\n",
              "        channel.send({})\n",
              "        if (message.buffers) {\n",
              "          for (const buffer of message.buffers) {\n",
              "            buffers.push(buffer);\n",
              "            downloaded += buffer.byteLength;\n",
              "            progress.value = downloaded;\n",
              "          }\n",
              "        }\n",
              "      }\n",
              "      const blob = new Blob(buffers, {type: 'application/binary'});\n",
              "      const a = document.createElement('a');\n",
              "      a.href = window.URL.createObjectURL(blob);\n",
              "      a.download = filename;\n",
              "      div.appendChild(a);\n",
              "      a.click();\n",
              "      div.remove();\n",
              "    }\n",
              "  "
            ]
          },
          "metadata": {}
        },
        {
          "output_type": "display_data",
          "data": {
            "text/plain": [
              "<IPython.core.display.Javascript object>"
            ],
            "application/javascript": [
              "download(\"download_fef912be-a7a3-48b5-a5ea-0e09da16a4b9\", \"LSTM_Pred.csv\", 83877)"
            ]
          },
          "metadata": {}
        }
      ],
      "source": [
        "predictions_df = pd.DataFrame(y_test_pred, columns=['readmitted_within_30days'])\n",
        "merged_df = test[['id']].merge(predictions_df, left_index=True, right_index=True)\n",
        "merged_df.to_csv('LSTM_Pred.csv', index=False)\n",
        "\n",
        "from google.colab import files\n",
        "files.download('LSTM_Pred.csv')"
      ]
    },
    {
      "cell_type": "markdown",
      "metadata": {
        "id": "zfYGf5E0n9Vx"
      },
      "source": [
        "# GRU"
      ]
    },
    {
      "cell_type": "code",
      "execution_count": null,
      "metadata": {
        "colab": {
          "base_uri": "https://localhost:8080/"
        },
        "id": "xpfs6oajn9Vx",
        "outputId": "ef4fc545-5685-4ba3-f4b2-22e0c523bdce"
      },
      "outputs": [
        {
          "output_type": "stream",
          "name": "stderr",
          "text": [
            "WARNING:tensorflow:Layer gru_1 will not use cuDNN kernels since it doesn't meet the criteria. It will use a generic GPU kernel as fallback when running on GPU.\n"
          ]
        },
        {
          "output_type": "stream",
          "name": "stdout",
          "text": [
            "model compiled\n",
            "Model: \"sequential_2\"\n",
            "_________________________________________________________________\n",
            " Layer (type)                Output Shape              Param #   \n",
            "=================================================================\n",
            " gru (GRU)                   (None, 150, 50)           7950      \n",
            "                                                                 \n",
            " dropout_4 (Dropout)         (None, 150, 50)           0         \n",
            "                                                                 \n",
            " gru_1 (GRU)                 (None, 64)                22272     \n",
            "                                                                 \n",
            " dropout_5 (Dropout)         (None, 64)                0         \n",
            "                                                                 \n",
            " dense_2 (Dense)             (None, 1)                 65        \n",
            "                                                                 \n",
            "=================================================================\n",
            "Total params: 30287 (118.31 KB)\n",
            "Trainable params: 30287 (118.31 KB)\n",
            "Non-trainable params: 0 (0.00 Byte)\n",
            "_________________________________________________________________\n",
            "None\n",
            "Epoch 1/200\n",
            "7/7 [==============================] - 10s 713ms/step - loss: 0.6909 - accuracy: 0.5011 - val_loss: 0.6902 - val_accuracy: 0.5043\n",
            "Epoch 2/200\n",
            "7/7 [==============================] - 4s 443ms/step - loss: 0.6891 - accuracy: 0.5325 - val_loss: 0.6886 - val_accuracy: 0.5523\n",
            "Epoch 3/200\n",
            "7/7 [==============================] - 4s 625ms/step - loss: 0.6871 - accuracy: 0.5574 - val_loss: 0.6871 - val_accuracy: 0.5597\n",
            "Epoch 4/200\n",
            "7/7 [==============================] - 7s 981ms/step - loss: 0.6844 - accuracy: 0.5700 - val_loss: 0.6862 - val_accuracy: 0.5547\n",
            "Epoch 5/200\n",
            "7/7 [==============================] - 4s 550ms/step - loss: 0.6819 - accuracy: 0.5598 - val_loss: 0.6848 - val_accuracy: 0.5646\n",
            "Epoch 6/200\n",
            "7/7 [==============================] - 3s 423ms/step - loss: 0.6795 - accuracy: 0.5734 - val_loss: 0.6841 - val_accuracy: 0.5670\n",
            "Epoch 7/200\n",
            "7/7 [==============================] - 6s 877ms/step - loss: 0.6758 - accuracy: 0.5789 - val_loss: 0.6826 - val_accuracy: 0.5769\n",
            "Epoch 8/200\n",
            "7/7 [==============================] - 5s 713ms/step - loss: 0.6731 - accuracy: 0.5681 - val_loss: 0.6826 - val_accuracy: 0.5867\n",
            "Epoch 9/200\n",
            "7/7 [==============================] - 5s 688ms/step - loss: 0.6707 - accuracy: 0.5814 - val_loss: 0.6842 - val_accuracy: 0.5855\n",
            "Epoch 10/200\n",
            "7/7 [==============================] - 7s 893ms/step - loss: 0.6695 - accuracy: 0.5860 - val_loss: 0.6805 - val_accuracy: 0.6027\n",
            "Epoch 11/200\n",
            "7/7 [==============================] - 4s 565ms/step - loss: 0.6696 - accuracy: 0.5841 - val_loss: 0.6800 - val_accuracy: 0.5966\n",
            "Epoch 12/200\n",
            "7/7 [==============================] - 6s 908ms/step - loss: 0.6667 - accuracy: 0.5854 - val_loss: 0.6761 - val_accuracy: 0.6002\n",
            "Epoch 13/200\n",
            "7/7 [==============================] - 6s 832ms/step - loss: 0.6653 - accuracy: 0.5884 - val_loss: 0.6738 - val_accuracy: 0.6039\n",
            "Epoch 14/200\n",
            "7/7 [==============================] - 8s 1s/step - loss: 0.6644 - accuracy: 0.5863 - val_loss: 0.6724 - val_accuracy: 0.6101\n",
            "Epoch 15/200\n",
            "7/7 [==============================] - 6s 722ms/step - loss: 0.6625 - accuracy: 0.5970 - val_loss: 0.6725 - val_accuracy: 0.6089\n",
            "Epoch 16/200\n",
            "7/7 [==============================] - 6s 846ms/step - loss: 0.6618 - accuracy: 0.5989 - val_loss: 0.6710 - val_accuracy: 0.6138\n",
            "Epoch 17/200\n",
            "7/7 [==============================] - 6s 832ms/step - loss: 0.6619 - accuracy: 0.5983 - val_loss: 0.6727 - val_accuracy: 0.6113\n",
            "Epoch 18/200\n",
            "7/7 [==============================] - 5s 693ms/step - loss: 0.6624 - accuracy: 0.6014 - val_loss: 0.6738 - val_accuracy: 0.6138\n",
            "Epoch 19/200\n",
            "7/7 [==============================] - 4s 580ms/step - loss: 0.6605 - accuracy: 0.5980 - val_loss: 0.6723 - val_accuracy: 0.6162\n",
            "Epoch 20/200\n",
            "7/7 [==============================] - 5s 822ms/step - loss: 0.6610 - accuracy: 0.5927 - val_loss: 0.6727 - val_accuracy: 0.6089\n",
            "Epoch 21/200\n",
            "7/7 [==============================] - 5s 694ms/step - loss: 0.6585 - accuracy: 0.6023 - val_loss: 0.6703 - val_accuracy: 0.6199\n",
            "Epoch 22/200\n",
            "7/7 [==============================] - 4s 570ms/step - loss: 0.6573 - accuracy: 0.6050 - val_loss: 0.6706 - val_accuracy: 0.6236\n",
            "Epoch 23/200\n",
            "7/7 [==============================] - 7s 960ms/step - loss: 0.6606 - accuracy: 0.6044 - val_loss: 0.6764 - val_accuracy: 0.6039\n",
            "Epoch 24/200\n",
            "7/7 [==============================] - 5s 693ms/step - loss: 0.6572 - accuracy: 0.6023 - val_loss: 0.6720 - val_accuracy: 0.6125\n",
            "Epoch 25/200\n",
            "7/7 [==============================] - 7s 1s/step - loss: 0.6569 - accuracy: 0.6029 - val_loss: 0.6771 - val_accuracy: 0.6113\n",
            "Epoch 26/200\n",
            "7/7 [==============================] - 3s 316ms/step - loss: 0.6581 - accuracy: 0.6023 - val_loss: 0.6765 - val_accuracy: 0.6175\n",
            "Epoch 27/200\n",
            "7/7 [==============================] - 2s 311ms/step - loss: 0.6557 - accuracy: 0.6054 - val_loss: 0.6758 - val_accuracy: 0.6125\n",
            "Epoch 28/200\n",
            "7/7 [==============================] - 2s 341ms/step - loss: 0.6566 - accuracy: 0.6069 - val_loss: 0.6763 - val_accuracy: 0.6089\n",
            "Epoch 29/200\n",
            "7/7 [==============================] - 2s 313ms/step - loss: 0.6557 - accuracy: 0.6090 - val_loss: 0.6777 - val_accuracy: 0.6089\n",
            "Epoch 30/200\n",
            "7/7 [==============================] - 4s 577ms/step - loss: 0.6551 - accuracy: 0.6010 - val_loss: 0.6741 - val_accuracy: 0.6212\n",
            "Epoch 31/200\n",
            "7/7 [==============================] - 3s 339ms/step - loss: 0.6559 - accuracy: 0.6038 - val_loss: 0.6839 - val_accuracy: 0.6076\n"
          ]
        }
      ],
      "source": [
        "model_GRU = Sequential()\n",
        "model_GRU.add(GRU(50, return_sequences=True, input_shape=(x_train.shape[1],1)))\n",
        "model_GRU.add(Dropout(0.2))\n",
        "model_GRU.add(GRU(64, return_sequences=False, activation='relu'))\n",
        "model_GRU.add(Dropout(0.2))\n",
        "model_GRU.add(Dense(1, activation = \"sigmoid\"))\n",
        "\n",
        "model_GRU.compile(loss='binary_crossentropy', optimizer='Adam', metrics=[\"accuracy\"])\n",
        "\n",
        "print('model compiled')\n",
        "\n",
        "callbacks = [keras.callbacks.EarlyStopping(patience=10, restore_best_weights=True)]\n",
        "\n",
        "print(model_GRU.summary())\n",
        "\n",
        "#Train the model\n",
        "history_GRU=model_GRU.fit(x_train, y_train, batch_size=512, epochs=200, validation_data = (x_valid, y_valid), callbacks=callbacks)"
      ]
    },
    {
      "cell_type": "code",
      "execution_count": null,
      "metadata": {
        "colab": {
          "base_uri": "https://localhost:8080/",
          "height": 887
        },
        "id": "lDCUkhBFk_-i",
        "outputId": "71800d4d-f4c9-4023-c7e6-15a349bb9dce"
      },
      "outputs": [
        {
          "output_type": "display_data",
          "data": {
            "text/plain": [
              "<Figure size 640x480 with 1 Axes>"
            ],
            "image/png": "[encoded data removed]"
          },
          "metadata": {}
        },
        {
          "output_type": "display_data",
          "data": {
            "text/plain": [
              "<Figure size 640x480 with 1 Axes>"
            ],
            "image/png": "[encoded data removed]"
          },
          "metadata": {}
        }
      ],
      "source": [
        "import matplotlib.pyplot as plt\n",
        "\n",
        "# Plot the training and validation accuracy over epochs\n",
        "plt.plot(history_GRU.history['accuracy'], label='Training Accuracy')\n",
        "plt.plot(history_GRU.history['val_accuracy'], label='Validation Accuracy')\n",
        "plt.xlabel('Epoch')\n",
        "plt.ylabel('Accuracy')\n",
        "plt.ylim([0, 1])\n",
        "plt.legend(loc='lower right')\n",
        "plt.show()\n",
        "\n",
        "# Plot the training and validation loss over epochs\n",
        "plt.plot(history_GRU.history['loss'], label='Training Loss')\n",
        "plt.plot(history_GRU.history['val_loss'], label='Validation Loss')\n",
        "plt.xlabel('Epoch')\n",
        "plt.ylabel('Loss')\n",
        "plt.legend(loc='upper right')\n",
        "plt.show()"
      ]
    },
    {
      "cell_type": "markdown",
      "metadata": {
        "id": "V1p29Vj-Kigk"
      },
      "source": [
        "##Evaluation"
      ]
    },
    {
      "cell_type": "code",
      "execution_count": null,
      "metadata": {
        "colab": {
          "base_uri": "https://localhost:8080/"
        },
        "id": "rYJrSPYRKigs",
        "outputId": "eb663396-b0c5-4ea1-dbee-adb862b8b742"
      },
      "outputs": [
        {
          "output_type": "stream",
          "name": "stdout",
          "text": [
            "102/102 [==============================] - 3s 29ms/step\n",
            "26/26 [==============================] - 1s 28ms/step\n",
            "Accuracy (train): 0.6050\n",
            "AUC (train): 0.6492\n",
            "Accuracy (valid): 0.6199\n",
            "AUC (valid): 0.6501\n"
          ]
        }
      ],
      "source": [
        "from sklearn.metrics import roc_auc_score\n",
        "\n",
        "threshold = 0.5\n",
        "\n",
        "y_train_pred = model_GRU.predict(x_train)\n",
        "# Convert probabilities to binary predictions\n",
        "y_train_pred_binary = (y_train_pred > threshold).astype(int)\n",
        "y_valid_pred = model_GRU.predict(x_valid)\n",
        "y_valid_pred_binary = (y_valid_pred > threshold).astype(int)\n",
        "\n",
        "from sklearn.metrics import accuracy_score, confusion_matrix, classification_report, roc_curve, auc, roc_auc_score\n",
        "accuracy_train = accuracy_score(y_train, y_train_pred_binary)\n",
        "auc_train = roc_auc_score(y_train, y_train_pred)\n",
        "\n",
        "accuracy_valid = accuracy_score(y_valid, y_valid_pred_binary)\n",
        "auc_valid = roc_auc_score(y_valid, y_valid_pred)\n",
        "\n",
        "print(f'Accuracy (train): {accuracy_train:.4f}')\n",
        "print(f'AUC (train): {auc_train:.4f}')\n",
        "\n",
        "print(f'Accuracy (valid): {accuracy_valid:.4f}')\n",
        "print(f'AUC (valid): {auc_valid:.4f}')"
      ]
    },
    {
      "cell_type": "code",
      "execution_count": null,
      "metadata": {
        "colab": {
          "base_uri": "https://localhost:8080/"
        },
        "id": "zg9ANRH6Kigs",
        "outputId": "074031c9-f92c-4a22-a2d0-20d983891b86"
      },
      "outputs": [
        {
          "output_type": "stream",
          "name": "stdout",
          "text": [
            "For training set:\n",
            "Precision: 0.6383\n",
            "Recall: 0.4886\n",
            "F1 Score: 0.5535 \n",
            "\n",
            "For validation set:\n",
            "Precision: 0.6277\n",
            "Recall: 0.5732\n",
            "F1 Score: 0.5992\n"
          ]
        }
      ],
      "source": [
        "from sklearn.metrics import precision_score, recall_score, f1_score\n",
        "# Calculate precision, recall, and F1 score\n",
        "precision = precision_score(y_train, y_train_pred_binary, zero_division=1)\n",
        "recall = recall_score(y_train, y_train_pred_binary, zero_division=1)\n",
        "f1 = f1_score(y_train, y_train_pred_binary, zero_division=1)\n",
        "\n",
        "# Print with 4 digits limit\n",
        "print(\"For training set:\")\n",
        "print(\"Precision:\", round(precision, 4))\n",
        "print(\"Recall:\", round(recall, 4))\n",
        "print(\"F1 Score:\", round(f1, 4),\"\\n\")\n",
        "\n",
        "# Calculate precision, recall, and F1 score\n",
        "precision = precision_score(y_valid, y_valid_pred_binary, zero_division=1)\n",
        "recall = recall_score(y_valid, y_valid_pred_binary, zero_division=1)\n",
        "f1 = f1_score(y_valid, y_valid_pred_binary, zero_division=1)\n",
        "\n",
        "# Print with 4 digits limit\n",
        "print(\"For validation set:\")\n",
        "print(\"Precision:\", round(precision, 4))\n",
        "print(\"Recall:\", round(recall, 4))\n",
        "print(\"F1 Score:\", round(f1, 4))"
      ]
    },
    {
      "cell_type": "code",
      "execution_count": null,
      "metadata": {
        "colab": {
          "base_uri": "https://localhost:8080/"
        },
        "id": "9toVafWGKigt",
        "outputId": "1f9773a2-1e87-4522-9dbd-9202ad17ee79"
      },
      "outputs": [
        {
          "output_type": "stream",
          "name": "stdout",
          "text": [
            "92/92 [==============================] - 5s 52ms/step\n"
          ]
        }
      ],
      "source": [
        "y_test_pred = model_GRU.predict(x_test)\n",
        "y_test_pred_binary = (y_test_pred > threshold).astype(int)"
      ]
    },
    {
      "cell_type": "markdown",
      "source": [
        "## Export"
      ],
      "metadata": {
        "id": "SRw548JsOyqH"
      }
    },
    {
      "cell_type": "code",
      "execution_count": null,
      "metadata": {
        "colab": {
          "base_uri": "https://localhost:8080/",
          "height": 17
        },
        "id": "tUxRN4J9Kigt",
        "outputId": "79cd1ee1-1cbd-4f14-f023-c7d8a31696bc"
      },
      "outputs": [
        {
          "output_type": "display_data",
          "data": {
            "text/plain": [
              "<IPython.core.display.Javascript object>"
            ],
            "application/javascript": [
              "\n",
              "    async function download(id, filename, size) {\n",
              "      if (!google.colab.kernel.accessAllowed) {\n",
              "        return;\n",
              "      }\n",
              "      const div = document.createElement('div');\n",
              "      const label = document.createElement('label');\n",
              "      label.textContent = `Downloading \"${filename}\": `;\n",
              "      div.appendChild(label);\n",
              "      const progress = document.createElement('progress');\n",
              "      progress.max = size;\n",
              "      div.appendChild(progress);\n",
              "      document.body.appendChild(div);\n",
              "\n",
              "      const buffers = [];\n",
              "      let downloaded = 0;\n",
              "\n",
              "      const channel = await google.colab.kernel.comms.open(id);\n",
              "      // Send a message to notify the kernel that we're ready.\n",
              "      channel.send({})\n",
              "\n",
              "      for await (const message of channel.messages) {\n",
              "        // Send a message to notify the kernel that we're ready.\n",
              "        channel.send({})\n",
              "        if (message.buffers) {\n",
              "          for (const buffer of message.buffers) {\n",
              "            buffers.push(buffer);\n",
              "            downloaded += buffer.byteLength;\n",
              "            progress.value = downloaded;\n",
              "          }\n",
              "        }\n",
              "      }\n",
              "      const blob = new Blob(buffers, {type: 'application/binary'});\n",
              "      const a = document.createElement('a');\n",
              "      a.href = window.URL.createObjectURL(blob);\n",
              "      a.download = filename;\n",
              "      div.appendChild(a);\n",
              "      a.click();\n",
              "      div.remove();\n",
              "    }\n",
              "  "
            ]
          },
          "metadata": {}
        },
        {
          "output_type": "display_data",
          "data": {
            "text/plain": [
              "<IPython.core.display.Javascript object>"
            ],
            "application/javascript": [
              "download(\"download_058e0a8a-c50d-4ad4-abc6-5f8545027a06\", \"GRU_Pred.csv\", 83866)"
            ]
          },
          "metadata": {}
        }
      ],
      "source": [
        "# Assuming y_test_pred_binary is a numpy array\n",
        "predictions_df = pd.DataFrame(y_test_pred, columns=['readmitted_within_30days'])\n",
        "merged_df = test[['id']].merge(predictions_df, left_index=True, right_index=True)\n",
        "merged_df.to_csv('GRU_Pred.csv', index=False)\n",
        "\n",
        "from google.colab import files\n",
        "files.download('GRU_Pred.csv')"
      ]
    }
  ],
  "metadata": {
    "accelerator": "GPU",
    "colab": {
      "provenance": []
    },
    "kernelspec": {
      "display_name": "Python 3",
      "name": "python3"
    },
    "language_info": {
      "codemirror_mode": {
        "name": "ipython",
        "version": 3
      },
      "file_extension": ".py",
      "mimetype": "text/x-python",
      "name": "python",
      "nbconvert_exporter": "python",
      "pygments_lexer": "ipython3",
      "version": "3.7.0"
    }
  },
  "nbformat": 4,
  "nbformat_minor": 0
}