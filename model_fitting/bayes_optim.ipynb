{
 "cells": [
  {
   "cell_type": "markdown",
   "metadata": {},
   "source": [
    "# Bayesian Optimization for Hyperparameter Tuning"
   ]
  },
  {
   "cell_type": "code",
   "execution_count": 7,
   "metadata": {},
   "outputs": [],
   "source": [
    "# load library\n",
    "import numpy as np\n",
    "import pandas as pd\n",
    "import matplotlib.pyplot as plt\n",
    "import seaborn as sns\n",
    "import math\n",
    "import zipfile\n",
    "import urllib.request\n",
    "import io\n",
    "import warnings\n",
    "from xgboost import XGBClassifier\n",
    "from sklearn.model_selection import GridSearchCV, cross_val_score, train_test_split, KFold \n",
    "from sklearn.linear_model import LogisticRegression\n",
    "from sklearn.discriminant_analysis import LinearDiscriminantAnalysis, QuadraticDiscriminantAnalysis\n",
    "from sklearn.naive_bayes import GaussianNB\n",
    "from sklearn.neighbors import KNeighborsClassifier\n",
    "from sklearn.svm import SVC\n",
    "from sklearn.tree import DecisionTreeClassifier\n",
    "from sklearn.ensemble import BaggingClassifier, RandomForestClassifier, GradientBoostingClassifier, AdaBoostClassifier\n",
    "from sklearn.metrics import accuracy_score, confusion_matrix, classification_report, roc_curve, auc, roc_auc_score\n",
    "warnings.filterwarnings('ignore')\n",
    "#!pip install bayesian-optimization\n",
    "from bayes_opt import BayesianOptimization"
   ]
  },
  {
   "cell_type": "code",
   "execution_count": 2,
   "metadata": {},
   "outputs": [],
   "source": [
    "# load processed data\n",
    "train_latest = pd.read_csv('https://github.com/zxyao5148/STAT3612_2023_1A_GroupProject/raw/main/data_processing/train/all_feat/train_latest.csv')\n",
    "valid_latest = pd.read_csv('https://github.com/zxyao5148/STAT3612_2023_1A_GroupProject/raw/main/data_processing/valid/all_feat/valid_latest.csv')"
   ]
  },
  {
   "cell_type": "code",
   "execution_count": 3,
   "metadata": {},
   "outputs": [],
   "source": [
    "# separate response and features\n",
    "X_train = train_latest.drop(['id','subject_id','admittime','dischtime','readmitted_within_30days'], axis=1)\n",
    "y_train = train_latest[\"readmitted_within_30days\"]\n",
    "X_test = valid_latest.drop(['id','subject_id','admittime','dischtime','readmitted_within_30days'], axis=1)\n",
    "y_test = valid_latest[\"readmitted_within_30days\"]\n",
    "#from adjust_imbl import adjust_imbl\n",
    "#X_train, y_train = adjust_imbl(X_train, y_train)"
   ]
  },
  {
   "cell_type": "code",
   "execution_count": 43,
   "metadata": {},
   "outputs": [
    {
     "name": "stdout",
     "output_type": "stream",
     "text": [
      "|   iter    |  target   |     C     |\n",
      "-------------------------------------\n",
      "| \u001b[0m1        \u001b[0m | \u001b[0m0.7373   \u001b[0m | \u001b[0m37.45    \u001b[0m |\n",
      "| \u001b[0m2        \u001b[0m | \u001b[0m0.7368   \u001b[0m | \u001b[0m95.07    \u001b[0m |\n",
      "| \u001b[0m3        \u001b[0m | \u001b[0m0.7369   \u001b[0m | \u001b[0m73.2     \u001b[0m |\n",
      "| \u001b[0m4        \u001b[0m | \u001b[0m0.7369   \u001b[0m | \u001b[0m59.87    \u001b[0m |\n",
      "| \u001b[95m5        \u001b[0m | \u001b[95m0.7382   \u001b[0m | \u001b[95m15.6     \u001b[0m |\n",
      "| \u001b[95m6        \u001b[0m | \u001b[95m0.7382   \u001b[0m | \u001b[95m15.6     \u001b[0m |\n",
      "| \u001b[95m7        \u001b[0m | \u001b[95m0.7396   \u001b[0m | \u001b[95m5.809    \u001b[0m |\n",
      "| \u001b[0m8        \u001b[0m | \u001b[0m0.7368   \u001b[0m | \u001b[0m86.62    \u001b[0m |\n",
      "| \u001b[0m9        \u001b[0m | \u001b[0m0.7369   \u001b[0m | \u001b[0m60.11    \u001b[0m |\n",
      "| \u001b[0m10       \u001b[0m | \u001b[0m0.7369   \u001b[0m | \u001b[0m70.81    \u001b[0m |\n",
      "| \u001b[0m11       \u001b[0m | \u001b[0m0.5061   \u001b[0m | \u001b[0m0.001    \u001b[0m |\n",
      "| \u001b[0m12       \u001b[0m | \u001b[0m0.7388   \u001b[0m | \u001b[0m10.11    \u001b[0m |\n",
      "| \u001b[0m13       \u001b[0m | \u001b[0m0.7375   \u001b[0m | \u001b[0m29.35    \u001b[0m |\n",
      "| \u001b[0m14       \u001b[0m | \u001b[0m0.7371   \u001b[0m | \u001b[0m45.63    \u001b[0m |\n",
      "| \u001b[0m15       \u001b[0m | \u001b[0m0.7377   \u001b[0m | \u001b[0m22.69    \u001b[0m |\n",
      "| \u001b[0m16       \u001b[0m | \u001b[0m0.737    \u001b[0m | \u001b[0m52.16    \u001b[0m |\n",
      "| \u001b[0m17       \u001b[0m | \u001b[0m0.7368   \u001b[0m | \u001b[0m80.16    \u001b[0m |\n",
      "| \u001b[0m18       \u001b[0m | \u001b[0m0.7367   \u001b[0m | \u001b[0m99.99    \u001b[0m |\n",
      "| \u001b[0m19       \u001b[0m | \u001b[0m0.7369   \u001b[0m | \u001b[0m65.77    \u001b[0m |\n",
      "| \u001b[0m20       \u001b[0m | \u001b[0m0.7368   \u001b[0m | \u001b[0m90.81    \u001b[0m |\n",
      "=====================================\n",
      "|   iter    |  target   |     C     |\n",
      "-------------------------------------\n",
      "| \u001b[0m1        \u001b[0m | \u001b[0m0.7378   \u001b[0m | \u001b[0m37.45    \u001b[0m |\n",
      "| \u001b[0m2        \u001b[0m | \u001b[0m0.7372   \u001b[0m | \u001b[0m95.07    \u001b[0m |\n",
      "| \u001b[0m3        \u001b[0m | \u001b[0m0.7373   \u001b[0m | \u001b[0m73.2     \u001b[0m |\n",
      "| \u001b[0m4        \u001b[0m | \u001b[0m0.7375   \u001b[0m | \u001b[0m59.87    \u001b[0m |\n",
      "| \u001b[95m5        \u001b[0m | \u001b[95m0.7385   \u001b[0m | \u001b[95m15.6     \u001b[0m |\n",
      "| \u001b[0m6        \u001b[0m | \u001b[0m0.7385   \u001b[0m | \u001b[0m15.6     \u001b[0m |\n",
      "| \u001b[95m7        \u001b[0m | \u001b[95m0.7394   \u001b[0m | \u001b[95m5.809    \u001b[0m |\n",
      "| \u001b[0m8        \u001b[0m | \u001b[0m0.7372   \u001b[0m | \u001b[0m86.62    \u001b[0m |\n",
      "| \u001b[0m9        \u001b[0m | \u001b[0m0.7375   \u001b[0m | \u001b[0m60.11    \u001b[0m |\n",
      "| \u001b[0m10       \u001b[0m | \u001b[0m0.7374   \u001b[0m | \u001b[0m70.81    \u001b[0m |\n",
      "| \u001b[95m11       \u001b[0m | \u001b[95m0.7394   \u001b[0m | \u001b[95m5.714    \u001b[0m |\n",
      "| \u001b[0m12       \u001b[0m | \u001b[0m0.7385   \u001b[0m | \u001b[0m15.88    \u001b[0m |\n",
      "| \u001b[95m13       \u001b[0m | \u001b[95m0.7395   \u001b[0m | \u001b[95m5.477    \u001b[0m |\n",
      "| \u001b[95m14       \u001b[0m | \u001b[95m0.7395   \u001b[0m | \u001b[95m5.226    \u001b[0m |\n",
      "| \u001b[95m15       \u001b[0m | \u001b[95m0.7396   \u001b[0m | \u001b[95m4.914    \u001b[0m |\n",
      "| \u001b[95m16       \u001b[0m | \u001b[95m0.7397   \u001b[0m | \u001b[95m4.576    \u001b[0m |\n",
      "| \u001b[95m17       \u001b[0m | \u001b[95m0.7398   \u001b[0m | \u001b[95m4.21     \u001b[0m |\n",
      "| \u001b[95m18       \u001b[0m | \u001b[95m0.74     \u001b[0m | \u001b[95m3.839    \u001b[0m |\n",
      "| \u001b[95m19       \u001b[0m | \u001b[95m0.7401   \u001b[0m | \u001b[95m3.444    \u001b[0m |\n",
      "| \u001b[95m20       \u001b[0m | \u001b[95m0.7402   \u001b[0m | \u001b[95m3.05     \u001b[0m |\n",
      "=====================================\n",
      "Best result: {'C': 3.0498547358745687, 'penalty': 'l2'} with score: 0.740247175785534\n"
     ]
    }
   ],
   "source": [
    "# logistic regression\n",
    "def lr_objt_fun(C):\n",
    "    lr = LogisticRegression(C=C, penalty=penalty, solver='liblinear', random_state=42)\n",
    "    score = cross_val_score(lr, X_train, y_train, cv=5, scoring='roc_auc').mean()\n",
    "    return score\n",
    "pbounds = {'C': (0.001, 100)}\n",
    "penalties = ['l1', 'l2']\n",
    "best_score = -1\n",
    "best_params = None\n",
    "for penalty in penalties:\n",
    "    optimizer = BayesianOptimization(f=lr_objt_fun, pbounds=pbounds, random_state=42)\n",
    "    optimizer.maximize(init_points=10, n_iter=10)\n",
    "    if optimizer.max['target'] > best_score:\n",
    "        best_score = optimizer.max['target']\n",
    "        best_params = {'C': optimizer.max['params']['C'], 'penalty': penalty}\n",
    "print(f\"Best result: {best_params} with score: {best_score}\")"
   ]
  },
  {
   "cell_type": "code",
   "execution_count": 44,
   "metadata": {},
   "outputs": [
    {
     "name": "stdout",
     "output_type": "stream",
     "text": [
      "  0%|          | 0/100 [00:00<?, ?trial/s, best loss=?]"
     ]
    },
    {
     "name": "stdout",
     "output_type": "stream",
     "text": [
      "100%|██████████| 100/100 [15:38<00:00,  9.39s/trial, best loss: -0.849746130607094]\n",
      "{'C': 0.5487068708926907, 'penalty': 0}\n"
     ]
    }
   ],
   "source": [
    "def lr_objt_fun(args):\n",
    "    C, penalty = args\n",
    "    lr = LogisticRegression(C=C, penalty=penalty, solver='liblinear', random_state=42)\n",
    "    score = cross_val_score(lr, X_train, y_train, cv=5, scoring='accuracy').mean()\n",
    "    return -score  \n",
    "space = [\n",
    "    hp.loguniform('C', np.log(0.001), np.log(100)),  \n",
    "    hp.choice('penalty', ['l1','l2']) \n",
    "]\n",
    "trials = Trials()\n",
    "best = fmin(fn=lr_objt_fun, space=space, algo=tpe.suggest, max_evals=100, trials=trials)\n",
    "print(best)"
   ]
  }
 ],
 "metadata": {
  "kernelspec": {
   "display_name": "base",
   "language": "python",
   "name": "python3"
  },
  "language_info": {
   "codemirror_mode": {
    "name": "ipython",
    "version": 3
   },
   "file_extension": ".py",
   "mimetype": "text/x-python",
   "name": "python",
   "nbconvert_exporter": "python",
   "pygments_lexer": "ipython3",
   "version": "3.11.4"
  }
 },
 "nbformat": 4,
 "nbformat_minor": 2
}
