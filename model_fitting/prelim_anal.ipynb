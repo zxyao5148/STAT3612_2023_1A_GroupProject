{
 "cells": [
  {
   "cell_type": "code",
   "execution_count": 34,
   "metadata": {},
   "outputs": [],
   "source": [
    "# load library\n",
    "import numpy as np\n",
    "import pandas as pd\n",
    "import matplotlib.pyplot as plt\n",
    "import seaborn as sns\n",
    "import math\n",
    "import zipfile\n",
    "import urllib.request\n",
    "import io\n",
    "import warnings\n",
    "from xgboost import XGBClassifier\n",
    "from sklearn.model_selection import GridSearchCV, cross_val_score, train_test_split, KFold \n",
    "from sklearn.linear_model import LogisticRegression\n",
    "from sklearn.discriminant_analysis import LinearDiscriminantAnalysis, QuadraticDiscriminantAnalysis\n",
    "from sklearn.naive_bayes import GaussianNB\n",
    "from sklearn.neighbors import KNeighborsClassifier\n",
    "from sklearn.svm import SVC\n",
    "from sklearn.tree import DecisionTreeClassifier\n",
    "from sklearn.ensemble import BaggingClassifier, RandomForestClassifier, GradientBoostingClassifier, AdaBoostClassifier\n",
    "from sklearn.metrics import accuracy_score, confusion_matrix, classification_report, roc_curve, auc\n",
    "warnings.filterwarnings('ignore')"
   ]
  },
  {
   "cell_type": "code",
   "execution_count": 31,
   "metadata": {},
   "outputs": [],
   "source": [
    "# load raw and processed data\n",
    "train_merged_df_latest = pd.read_csv('https://github.com/zxyao5148/STAT3612_2023_1A_GroupProject/raw/main/data_processing/train_merged_latest_feat.csv')\n",
    "train_merged_df_median = pd.read_csv('https://github.com/zxyao5148/STAT3612_2023_1A_GroupProject/raw/main/data_processing/train_merged_median_feat.csv')\n",
    "test_merged_df_latest = pd.read_csv('https://github.com/zxyao5148/STAT3612_2023_1A_GroupProject/raw/main/data_processing/test_merged_latest_feat.csv')\n",
    "test_merged_df_median = pd.read_csv('https://github.com/zxyao5148/STAT3612_2023_1A_GroupProject/raw/main/data_processing/test_merged_median_feat.csv')"
   ]
  },
  {
   "cell_type": "code",
   "execution_count": 33,
   "metadata": {},
   "outputs": [
    {
     "data": {
      "text/html": [
       "<div>\n",
       "<style scoped>\n",
       "    .dataframe tbody tr th:only-of-type {\n",
       "        vertical-align: middle;\n",
       "    }\n",
       "\n",
       "    .dataframe tbody tr th {\n",
       "        vertical-align: top;\n",
       "    }\n",
       "\n",
       "    .dataframe thead th {\n",
       "        text-align: right;\n",
       "    }\n",
       "</style>\n",
       "<table border=\"1\" class=\"dataframe\">\n",
       "  <thead>\n",
       "    <tr style=\"text-align: right;\">\n",
       "      <th></th>\n",
       "      <th>id</th>\n",
       "      <th>subject_id</th>\n",
       "      <th>hadm_id</th>\n",
       "      <th>admittime</th>\n",
       "      <th>dischtime</th>\n",
       "      <th>deathtime</th>\n",
       "      <th>StudyDate</th>\n",
       "      <th>StudyTime</th>\n",
       "      <th>readmitted_within_30days</th>\n",
       "      <th>LoS</th>\n",
       "      <th>...</th>\n",
       "      <th>CARDIAC DRUGS</th>\n",
       "      <th>PRE-NATAL VITAMINS</th>\n",
       "      <th>ANESTHETICS</th>\n",
       "      <th>ANTIBIOTICS</th>\n",
       "      <th>ANTIHYPERGLYCEMICS</th>\n",
       "      <th>SEDATIVE/HYPNOTICS</th>\n",
       "      <th>ANTIDOTES</th>\n",
       "      <th>AUTONOMIC DRUGS</th>\n",
       "      <th>VITAMINS</th>\n",
       "      <th>BIOLOGICALS</th>\n",
       "    </tr>\n",
       "  </thead>\n",
       "  <tbody>\n",
       "    <tr>\n",
       "      <th>0</th>\n",
       "      <td>17195991_23542772</td>\n",
       "      <td>17195991</td>\n",
       "      <td>23542772</td>\n",
       "      <td>2110-01-11 22:47:00</td>\n",
       "      <td>2110-01-18 10:25:00</td>\n",
       "      <td>NaN</td>\n",
       "      <td>2110-01-16</td>\n",
       "      <td>90654.546</td>\n",
       "      <td>0</td>\n",
       "      <td>-0.405473</td>\n",
       "      <td>...</td>\n",
       "      <td>-0.379713</td>\n",
       "      <td>-0.013935</td>\n",
       "      <td>-0.455273</td>\n",
       "      <td>-0.449292</td>\n",
       "      <td>-0.318458</td>\n",
       "      <td>-0.418357</td>\n",
       "      <td>-0.047707</td>\n",
       "      <td>2.185809</td>\n",
       "      <td>-0.381595</td>\n",
       "      <td>-0.304994</td>\n",
       "    </tr>\n",
       "    <tr>\n",
       "      <th>1</th>\n",
       "      <td>13721591_20342223</td>\n",
       "      <td>13721591</td>\n",
       "      <td>20342223</td>\n",
       "      <td>2110-02-09 18:13:00</td>\n",
       "      <td>2110-02-22 20:51:00</td>\n",
       "      <td>NaN</td>\n",
       "      <td>2110-02-19</td>\n",
       "      <td>41948.468</td>\n",
       "      <td>0</td>\n",
       "      <td>-0.026227</td>\n",
       "      <td>...</td>\n",
       "      <td>-0.379713</td>\n",
       "      <td>-0.013935</td>\n",
       "      <td>0.210369</td>\n",
       "      <td>-0.130508</td>\n",
       "      <td>-0.232069</td>\n",
       "      <td>-0.418357</td>\n",
       "      <td>-0.047707</td>\n",
       "      <td>-0.306970</td>\n",
       "      <td>-0.381595</td>\n",
       "      <td>-0.304994</td>\n",
       "    </tr>\n",
       "    <tr>\n",
       "      <th>2</th>\n",
       "      <td>19170541_22178312</td>\n",
       "      <td>19170541</td>\n",
       "      <td>22178312</td>\n",
       "      <td>2110-02-28 21:48:00</td>\n",
       "      <td>2110-03-12 17:47:00</td>\n",
       "      <td>NaN</td>\n",
       "      <td>2110-03-11</td>\n",
       "      <td>81842.812</td>\n",
       "      <td>0</td>\n",
       "      <td>-0.134583</td>\n",
       "      <td>...</td>\n",
       "      <td>-0.379713</td>\n",
       "      <td>-0.013935</td>\n",
       "      <td>0.210369</td>\n",
       "      <td>-0.289900</td>\n",
       "      <td>-0.318458</td>\n",
       "      <td>-0.418357</td>\n",
       "      <td>-0.047707</td>\n",
       "      <td>-0.306970</td>\n",
       "      <td>-0.381595</td>\n",
       "      <td>-0.304994</td>\n",
       "    </tr>\n",
       "    <tr>\n",
       "      <th>3</th>\n",
       "      <td>15554295_27705504</td>\n",
       "      <td>15554295</td>\n",
       "      <td>27705504</td>\n",
       "      <td>2110-03-09 03:54:00</td>\n",
       "      <td>2110-05-18 11:34:00</td>\n",
       "      <td>NaN</td>\n",
       "      <td>2110-05-04</td>\n",
       "      <td>60653.312</td>\n",
       "      <td>0</td>\n",
       "      <td>3.061922</td>\n",
       "      <td>...</td>\n",
       "      <td>-0.379713</td>\n",
       "      <td>-0.013935</td>\n",
       "      <td>0.210369</td>\n",
       "      <td>1.463409</td>\n",
       "      <td>-0.232069</td>\n",
       "      <td>3.126321</td>\n",
       "      <td>-0.047707</td>\n",
       "      <td>1.354882</td>\n",
       "      <td>-0.381595</td>\n",
       "      <td>-0.304994</td>\n",
       "    </tr>\n",
       "    <tr>\n",
       "      <th>4</th>\n",
       "      <td>17643026_29919541</td>\n",
       "      <td>17643026</td>\n",
       "      <td>29919541</td>\n",
       "      <td>2110-03-25 11:15:00</td>\n",
       "      <td>2110-03-29 17:17:00</td>\n",
       "      <td>NaN</td>\n",
       "      <td>2110-03-28</td>\n",
       "      <td>140521.453</td>\n",
       "      <td>0</td>\n",
       "      <td>-0.513830</td>\n",
       "      <td>...</td>\n",
       "      <td>-0.379713</td>\n",
       "      <td>-0.013935</td>\n",
       "      <td>-0.455273</td>\n",
       "      <td>-0.608684</td>\n",
       "      <td>-0.059292</td>\n",
       "      <td>-0.418357</td>\n",
       "      <td>-0.047707</td>\n",
       "      <td>-0.306970</td>\n",
       "      <td>-0.381595</td>\n",
       "      <td>1.561410</td>\n",
       "    </tr>\n",
       "  </tbody>\n",
       "</table>\n",
       "<p>5 rows × 164 columns</p>\n",
       "</div>"
      ],
      "text/plain": [
       "                  id  subject_id   hadm_id            admittime  \\\n",
       "0  17195991_23542772    17195991  23542772  2110-01-11 22:47:00   \n",
       "1  13721591_20342223    13721591  20342223  2110-02-09 18:13:00   \n",
       "2  19170541_22178312    19170541  22178312  2110-02-28 21:48:00   \n",
       "3  15554295_27705504    15554295  27705504  2110-03-09 03:54:00   \n",
       "4  17643026_29919541    17643026  29919541  2110-03-25 11:15:00   \n",
       "\n",
       "             dischtime deathtime   StudyDate   StudyTime  \\\n",
       "0  2110-01-18 10:25:00       NaN  2110-01-16   90654.546   \n",
       "1  2110-02-22 20:51:00       NaN  2110-02-19   41948.468   \n",
       "2  2110-03-12 17:47:00       NaN  2110-03-11   81842.812   \n",
       "3  2110-05-18 11:34:00       NaN  2110-05-04   60653.312   \n",
       "4  2110-03-29 17:17:00       NaN  2110-03-28  140521.453   \n",
       "\n",
       "   readmitted_within_30days       LoS  ...  CARDIAC DRUGS  PRE-NATAL VITAMINS  \\\n",
       "0                         0 -0.405473  ...      -0.379713           -0.013935   \n",
       "1                         0 -0.026227  ...      -0.379713           -0.013935   \n",
       "2                         0 -0.134583  ...      -0.379713           -0.013935   \n",
       "3                         0  3.061922  ...      -0.379713           -0.013935   \n",
       "4                         0 -0.513830  ...      -0.379713           -0.013935   \n",
       "\n",
       "   ANESTHETICS  ANTIBIOTICS  ANTIHYPERGLYCEMICS  SEDATIVE/HYPNOTICS  \\\n",
       "0    -0.455273    -0.449292           -0.318458           -0.418357   \n",
       "1     0.210369    -0.130508           -0.232069           -0.418357   \n",
       "2     0.210369    -0.289900           -0.318458           -0.418357   \n",
       "3     0.210369     1.463409           -0.232069            3.126321   \n",
       "4    -0.455273    -0.608684           -0.059292           -0.418357   \n",
       "\n",
       "   ANTIDOTES  AUTONOMIC DRUGS  VITAMINS  BIOLOGICALS  \n",
       "0  -0.047707         2.185809 -0.381595    -0.304994  \n",
       "1  -0.047707        -0.306970 -0.381595    -0.304994  \n",
       "2  -0.047707        -0.306970 -0.381595    -0.304994  \n",
       "3  -0.047707         1.354882 -0.381595    -0.304994  \n",
       "4  -0.047707        -0.306970 -0.381595     1.561410  \n",
       "\n",
       "[5 rows x 164 columns]"
      ]
     },
     "execution_count": 33,
     "metadata": {},
     "output_type": "execute_result"
    }
   ],
   "source": [
    "train_merged_df_latest.head()"
   ]
  },
  {
   "cell_type": "code",
   "execution_count": 32,
   "metadata": {},
   "outputs": [
    {
     "ename": "KeyError",
     "evalue": "'readmitted_within_30days'",
     "output_type": "error",
     "traceback": [
      "\u001b[0;31m---------------------------------------------------------------------------\u001b[0m",
      "\u001b[0;31mKeyError\u001b[0m                                  Traceback (most recent call last)",
      "File \u001b[0;32m~/anaconda3/lib/python3.11/site-packages/pandas/core/indexes/base.py:3802\u001b[0m, in \u001b[0;36mIndex.get_loc\u001b[0;34m(self, key, method, tolerance)\u001b[0m\n\u001b[1;32m   3801\u001b[0m \u001b[39mtry\u001b[39;00m:\n\u001b[0;32m-> 3802\u001b[0m     \u001b[39mreturn\u001b[39;00m \u001b[39mself\u001b[39m\u001b[39m.\u001b[39m_engine\u001b[39m.\u001b[39mget_loc(casted_key)\n\u001b[1;32m   3803\u001b[0m \u001b[39mexcept\u001b[39;00m \u001b[39mKeyError\u001b[39;00m \u001b[39mas\u001b[39;00m err:\n",
      "File \u001b[0;32m~/anaconda3/lib/python3.11/site-packages/pandas/_libs/index.pyx:138\u001b[0m, in \u001b[0;36mpandas._libs.index.IndexEngine.get_loc\u001b[0;34m()\u001b[0m\n",
      "File \u001b[0;32m~/anaconda3/lib/python3.11/site-packages/pandas/_libs/index.pyx:165\u001b[0m, in \u001b[0;36mpandas._libs.index.IndexEngine.get_loc\u001b[0;34m()\u001b[0m\n",
      "File \u001b[0;32mpandas/_libs/hashtable_class_helper.pxi:5745\u001b[0m, in \u001b[0;36mpandas._libs.hashtable.PyObjectHashTable.get_item\u001b[0;34m()\u001b[0m\n",
      "File \u001b[0;32mpandas/_libs/hashtable_class_helper.pxi:5753\u001b[0m, in \u001b[0;36mpandas._libs.hashtable.PyObjectHashTable.get_item\u001b[0;34m()\u001b[0m\n",
      "\u001b[0;31mKeyError\u001b[0m: 'readmitted_within_30days'",
      "\nThe above exception was the direct cause of the following exception:\n",
      "\u001b[0;31mKeyError\u001b[0m                                  Traceback (most recent call last)",
      "\u001b[1;32m/Users/zxyao5148/Desktop/HKU/23-24 Sem1/STAT3612/STAT3612_2023_1A_GroupProject/model_fitting/prelim_anal.ipynb Cell 3\u001b[0m line \u001b[0;36m5\n\u001b[1;32m      <a href='vscode-notebook-cell:/Users/zxyao5148/Desktop/HKU/23-24%20Sem1/STAT3612/STAT3612_2023_1A_GroupProject/model_fitting/prelim_anal.ipynb#W2sZmlsZQ%3D%3D?line=2'>3</a>\u001b[0m y_train \u001b[39m=\u001b[39m train_merged_df_latest[\u001b[39m'\u001b[39m\u001b[39mreadmitted_within_30days\u001b[39m\u001b[39m'\u001b[39m]\n\u001b[1;32m      <a href='vscode-notebook-cell:/Users/zxyao5148/Desktop/HKU/23-24%20Sem1/STAT3612/STAT3612_2023_1A_GroupProject/model_fitting/prelim_anal.ipynb#W2sZmlsZQ%3D%3D?line=3'>4</a>\u001b[0m X_test \u001b[39m=\u001b[39m test_merged_df_latest\u001b[39m.\u001b[39miloc[:, \u001b[39m3\u001b[39m:]\n\u001b[0;32m----> <a href='vscode-notebook-cell:/Users/zxyao5148/Desktop/HKU/23-24%20Sem1/STAT3612/STAT3612_2023_1A_GroupProject/model_fitting/prelim_anal.ipynb#W2sZmlsZQ%3D%3D?line=4'>5</a>\u001b[0m y_test \u001b[39m=\u001b[39m test_merged_df_latest[\u001b[39m'\u001b[39m\u001b[39mreadmitted_within_30days\u001b[39m\u001b[39m'\u001b[39m]\n",
      "File \u001b[0;32m~/anaconda3/lib/python3.11/site-packages/pandas/core/frame.py:3807\u001b[0m, in \u001b[0;36mDataFrame.__getitem__\u001b[0;34m(self, key)\u001b[0m\n\u001b[1;32m   3805\u001b[0m \u001b[39mif\u001b[39;00m \u001b[39mself\u001b[39m\u001b[39m.\u001b[39mcolumns\u001b[39m.\u001b[39mnlevels \u001b[39m>\u001b[39m \u001b[39m1\u001b[39m:\n\u001b[1;32m   3806\u001b[0m     \u001b[39mreturn\u001b[39;00m \u001b[39mself\u001b[39m\u001b[39m.\u001b[39m_getitem_multilevel(key)\n\u001b[0;32m-> 3807\u001b[0m indexer \u001b[39m=\u001b[39m \u001b[39mself\u001b[39m\u001b[39m.\u001b[39mcolumns\u001b[39m.\u001b[39mget_loc(key)\n\u001b[1;32m   3808\u001b[0m \u001b[39mif\u001b[39;00m is_integer(indexer):\n\u001b[1;32m   3809\u001b[0m     indexer \u001b[39m=\u001b[39m [indexer]\n",
      "File \u001b[0;32m~/anaconda3/lib/python3.11/site-packages/pandas/core/indexes/base.py:3804\u001b[0m, in \u001b[0;36mIndex.get_loc\u001b[0;34m(self, key, method, tolerance)\u001b[0m\n\u001b[1;32m   3802\u001b[0m     \u001b[39mreturn\u001b[39;00m \u001b[39mself\u001b[39m\u001b[39m.\u001b[39m_engine\u001b[39m.\u001b[39mget_loc(casted_key)\n\u001b[1;32m   3803\u001b[0m \u001b[39mexcept\u001b[39;00m \u001b[39mKeyError\u001b[39;00m \u001b[39mas\u001b[39;00m err:\n\u001b[0;32m-> 3804\u001b[0m     \u001b[39mraise\u001b[39;00m \u001b[39mKeyError\u001b[39;00m(key) \u001b[39mfrom\u001b[39;00m \u001b[39merr\u001b[39;00m\n\u001b[1;32m   3805\u001b[0m \u001b[39mexcept\u001b[39;00m \u001b[39mTypeError\u001b[39;00m:\n\u001b[1;32m   3806\u001b[0m     \u001b[39m# If we have a listlike key, _check_indexing_error will raise\u001b[39;00m\n\u001b[1;32m   3807\u001b[0m     \u001b[39m#  InvalidIndexError. Otherwise we fall through and re-raise\u001b[39;00m\n\u001b[1;32m   3808\u001b[0m     \u001b[39m#  the TypeError.\u001b[39;00m\n\u001b[1;32m   3809\u001b[0m     \u001b[39mself\u001b[39m\u001b[39m.\u001b[39m_check_indexing_error(key)\n",
      "\u001b[0;31mKeyError\u001b[0m: 'readmitted_within_30days'"
     ]
    }
   ],
   "source": [
    "# separate response and features\n",
    "X_train = train_merged_df_latest.iloc[:, 3:]\n",
    "y_train = train_merged_df_latest['readmitted_within_30days']\n",
    "X_test = test_merged_df_latest.iloc[:, 3:]\n",
    "y_test = test_merged_df_latest['readmitted_within_30days']"
   ]
  },
  {
   "cell_type": "code",
   "execution_count": 4,
   "metadata": {},
   "outputs": [
    {
     "name": "stdout",
     "output_type": "stream",
     "text": [
      "Logistic Regression Training Error: 0.8522\n",
      "Logistic Regression Testing Error: 0.8439\n"
     ]
    }
   ],
   "source": [
    "# logistic regression\n",
    "lr = LogisticRegression()\n",
    "lr.fit(X_train, y_train)\n",
    "lr_accuracy_train = accuracy_score(y_train, lr.predict(X_train))\n",
    "lr_accuracy_test = cross_val_score(lr, X_train, y_train, cv=5)\n",
    "print(f'LR Accuracy (train): {lr_accuracy_train:.4f}')\n",
    "print(f'LR Accuracy (cv): {lr_accuracy_test.mean():.4f}')"
   ]
  },
  {
   "cell_type": "code",
   "execution_count": 5,
   "metadata": {},
   "outputs": [
    {
     "name": "stdout",
     "output_type": "stream",
     "text": [
      "Linear Discriminant Analysis Training Accuracy: 0.8530\n",
      "Linear Discriminant Analysis Testing Accuracy: 0.8409\n"
     ]
    }
   ],
   "source": [
    "# Linear discriminant analysis\n",
    "lda = LinearDiscriminantAnalysis()\n",
    "lda_accuracy_train = accuracy_score(y_train, lda.predict(X_train))\n",
    "lda_accuracy_test = cross_val_score(lda, X_train, y_train, cv=5)\n",
    "print(f'LDA Accuracy (train): {lda_accuracy_train:.4f}')\n",
    "print(f'LDA Accuracy (cv): {lda_accuracy_test.mean():.4f}')"
   ]
  },
  {
   "cell_type": "code",
   "execution_count": 6,
   "metadata": {},
   "outputs": [
    {
     "name": "stdout",
     "output_type": "stream",
     "text": [
      "Quadratic Discriminant Analysis Training Accuracy: 0.1940\n",
      "Quadratic Discriminant Analysis Testing Accuracy: 0.8215\n"
     ]
    }
   ],
   "source": [
    "# Quadratic discriminant analysis\n",
    "from sklearn.model_selection import cross_val_score\n",
    "qda = QuadraticDiscriminantAnalysis()\n",
    "qda_accuracy_train = accuracy_score(y_train, qda.predict(X_train))\n",
    "qda_accuracy_test = cross_val_score(qda, X_train, y_train, cv=5)\n",
    "print(f'QDA Accuracy (train): {qda_accuracy_train:.4f}')\n",
    "print(f'QDA Accuracy (cv): {qda_accuracy_test.mean():.4f}')"
   ]
  },
  {
   "cell_type": "code",
   "execution_count": 7,
   "metadata": {},
   "outputs": [
    {
     "name": "stdout",
     "output_type": "stream",
     "text": [
      "Gaussian Naive Bayes Training Accuracy: 0.1984\n",
      "Gaussian Naive Bayes Testing Accuracy: 0.8215\n"
     ]
    }
   ],
   "source": [
    "# Gaussian naive bayes\n",
    "gnb = GaussianNB()\n",
    "gnb.fit(X_train, y_train)\n",
    "gnb_accuracy_train = accuracy_score(y_train, gnb.predict(X_train))\n",
    "gnb_accuracy_test = cross_val_score(gnb, X_train, y_train, cv=5)\n",
    "print(f'GNB Accuracy (train): {gnb_accuracy_train:.4f}')\n",
    "print(f'GNB Accuracy (cv): {gnb_accuracy_test.mean():.4f}')"
   ]
  },
  {
   "cell_type": "code",
   "execution_count": 29,
   "metadata": {},
   "outputs": [
    {
     "ename": "AttributeError",
     "evalue": "'NoneType' object has no attribute 'split'",
     "output_type": "error",
     "traceback": [
      "\u001b[0;31m---------------------------------------------------------------------------\u001b[0m",
      "\u001b[0;31mAttributeError\u001b[0m                            Traceback (most recent call last)",
      "\u001b[1;32m/Users/zxyao5148/Desktop/HKU/23-24 Sem1/STAT3612/STAT3612_2023_1A_GroupProject/model_fitting/prelim_anal.ipynb Cell 8\u001b[0m line \u001b[0;36m4\n\u001b[1;32m      <a href='vscode-notebook-cell:/Users/zxyao5148/Desktop/HKU/23-24%20Sem1/STAT3612/STAT3612_2023_1A_GroupProject/model_fitting/prelim_anal.ipynb#X10sZmlsZQ%3D%3D?line=1'>2</a>\u001b[0m knn \u001b[39m=\u001b[39m KNeighborsClassifier(n_neighbors\u001b[39m=\u001b[39m\u001b[39m5\u001b[39m)\n\u001b[1;32m      <a href='vscode-notebook-cell:/Users/zxyao5148/Desktop/HKU/23-24%20Sem1/STAT3612/STAT3612_2023_1A_GroupProject/model_fitting/prelim_anal.ipynb#X10sZmlsZQ%3D%3D?line=2'>3</a>\u001b[0m knn\u001b[39m.\u001b[39mfit(X_train, y_train)\n\u001b[0;32m----> <a href='vscode-notebook-cell:/Users/zxyao5148/Desktop/HKU/23-24%20Sem1/STAT3612/STAT3612_2023_1A_GroupProject/model_fitting/prelim_anal.ipynb#X10sZmlsZQ%3D%3D?line=3'>4</a>\u001b[0m knn_accuracy_train \u001b[39m=\u001b[39m knn\u001b[39m.\u001b[39mscore(X_train, y_train)\n\u001b[1;32m      <a href='vscode-notebook-cell:/Users/zxyao5148/Desktop/HKU/23-24%20Sem1/STAT3612/STAT3612_2023_1A_GroupProject/model_fitting/prelim_anal.ipynb#X10sZmlsZQ%3D%3D?line=4'>5</a>\u001b[0m knn_accuracy_test \u001b[39m=\u001b[39m knn\u001b[39m.\u001b[39mscore(X_test, y_test)\n\u001b[1;32m      <a href='vscode-notebook-cell:/Users/zxyao5148/Desktop/HKU/23-24%20Sem1/STAT3612/STAT3612_2023_1A_GroupProject/model_fitting/prelim_anal.ipynb#X10sZmlsZQ%3D%3D?line=5'>6</a>\u001b[0m \u001b[39mprint\u001b[39m(\u001b[39mf\u001b[39m\u001b[39m'\u001b[39m\u001b[39mK-Nearest Neighbors Training Accuracy: \u001b[39m\u001b[39m{\u001b[39;00mknn_accuracy_train\u001b[39m:\u001b[39;00m\u001b[39m.4f\u001b[39m\u001b[39m}\u001b[39;00m\u001b[39m'\u001b[39m)\n",
      "File \u001b[0;32m~/anaconda3/lib/python3.11/site-packages/sklearn/base.py:706\u001b[0m, in \u001b[0;36mClassifierMixin.score\u001b[0;34m(self, X, y, sample_weight)\u001b[0m\n\u001b[1;32m    681\u001b[0m \u001b[39m\u001b[39m\u001b[39m\"\"\"\u001b[39;00m\n\u001b[1;32m    682\u001b[0m \u001b[39mReturn the mean accuracy on the given test data and labels.\u001b[39;00m\n\u001b[1;32m    683\u001b[0m \n\u001b[0;32m   (...)\u001b[0m\n\u001b[1;32m    702\u001b[0m \u001b[39m    Mean accuracy of ``self.predict(X)`` w.r.t. `y`.\u001b[39;00m\n\u001b[1;32m    703\u001b[0m \u001b[39m\"\"\"\u001b[39;00m\n\u001b[1;32m    704\u001b[0m \u001b[39mfrom\u001b[39;00m \u001b[39m.\u001b[39;00m\u001b[39mmetrics\u001b[39;00m \u001b[39mimport\u001b[39;00m accuracy_score\n\u001b[0;32m--> 706\u001b[0m \u001b[39mreturn\u001b[39;00m accuracy_score(y, \u001b[39mself\u001b[39m\u001b[39m.\u001b[39mpredict(X), sample_weight\u001b[39m=\u001b[39msample_weight)\n",
      "File \u001b[0;32m~/anaconda3/lib/python3.11/site-packages/sklearn/neighbors/_classification.py:266\u001b[0m, in \u001b[0;36mKNeighborsClassifier.predict\u001b[0;34m(self, X)\u001b[0m\n\u001b[1;32m    263\u001b[0m         \u001b[39mreturn\u001b[39;00m \u001b[39mself\u001b[39m\u001b[39m.\u001b[39mclasses_[np\u001b[39m.\u001b[39margmax(probabilities, axis\u001b[39m=\u001b[39m\u001b[39m1\u001b[39m)]\n\u001b[1;32m    264\u001b[0m     \u001b[39m# In that case, we do not need the distances to perform\u001b[39;00m\n\u001b[1;32m    265\u001b[0m     \u001b[39m# the weighting so we do not compute them.\u001b[39;00m\n\u001b[0;32m--> 266\u001b[0m     neigh_ind \u001b[39m=\u001b[39m \u001b[39mself\u001b[39m\u001b[39m.\u001b[39mkneighbors(X, return_distance\u001b[39m=\u001b[39m\u001b[39mFalse\u001b[39;00m)\n\u001b[1;32m    267\u001b[0m     neigh_dist \u001b[39m=\u001b[39m \u001b[39mNone\u001b[39;00m\n\u001b[1;32m    268\u001b[0m \u001b[39melse\u001b[39;00m:\n",
      "File \u001b[0;32m~/anaconda3/lib/python3.11/site-packages/sklearn/neighbors/_base.py:822\u001b[0m, in \u001b[0;36mKNeighborsMixin.kneighbors\u001b[0;34m(self, X, n_neighbors, return_distance)\u001b[0m\n\u001b[1;32m    815\u001b[0m use_pairwise_distances_reductions \u001b[39m=\u001b[39m (\n\u001b[1;32m    816\u001b[0m     \u001b[39mself\u001b[39m\u001b[39m.\u001b[39m_fit_method \u001b[39m==\u001b[39m \u001b[39m\"\u001b[39m\u001b[39mbrute\u001b[39m\u001b[39m\"\u001b[39m\n\u001b[1;32m    817\u001b[0m     \u001b[39mand\u001b[39;00m ArgKmin\u001b[39m.\u001b[39mis_usable_for(\n\u001b[1;32m    818\u001b[0m         X \u001b[39mif\u001b[39;00m X \u001b[39mis\u001b[39;00m \u001b[39mnot\u001b[39;00m \u001b[39mNone\u001b[39;00m \u001b[39melse\u001b[39;00m \u001b[39mself\u001b[39m\u001b[39m.\u001b[39m_fit_X, \u001b[39mself\u001b[39m\u001b[39m.\u001b[39m_fit_X, \u001b[39mself\u001b[39m\u001b[39m.\u001b[39meffective_metric_\n\u001b[1;32m    819\u001b[0m     )\n\u001b[1;32m    820\u001b[0m )\n\u001b[1;32m    821\u001b[0m \u001b[39mif\u001b[39;00m use_pairwise_distances_reductions:\n\u001b[0;32m--> 822\u001b[0m     results \u001b[39m=\u001b[39m ArgKmin\u001b[39m.\u001b[39mcompute(\n\u001b[1;32m    823\u001b[0m         X\u001b[39m=\u001b[39mX,\n\u001b[1;32m    824\u001b[0m         Y\u001b[39m=\u001b[39m\u001b[39mself\u001b[39m\u001b[39m.\u001b[39m_fit_X,\n\u001b[1;32m    825\u001b[0m         k\u001b[39m=\u001b[39mn_neighbors,\n\u001b[1;32m    826\u001b[0m         metric\u001b[39m=\u001b[39m\u001b[39mself\u001b[39m\u001b[39m.\u001b[39meffective_metric_,\n\u001b[1;32m    827\u001b[0m         metric_kwargs\u001b[39m=\u001b[39m\u001b[39mself\u001b[39m\u001b[39m.\u001b[39meffective_metric_params_,\n\u001b[1;32m    828\u001b[0m         strategy\u001b[39m=\u001b[39m\u001b[39m\"\u001b[39m\u001b[39mauto\u001b[39m\u001b[39m\"\u001b[39m,\n\u001b[1;32m    829\u001b[0m         return_distance\u001b[39m=\u001b[39mreturn_distance,\n\u001b[1;32m    830\u001b[0m     )\n\u001b[1;32m    832\u001b[0m \u001b[39melif\u001b[39;00m (\n\u001b[1;32m    833\u001b[0m     \u001b[39mself\u001b[39m\u001b[39m.\u001b[39m_fit_method \u001b[39m==\u001b[39m \u001b[39m\"\u001b[39m\u001b[39mbrute\u001b[39m\u001b[39m\"\u001b[39m \u001b[39mand\u001b[39;00m \u001b[39mself\u001b[39m\u001b[39m.\u001b[39mmetric \u001b[39m==\u001b[39m \u001b[39m\"\u001b[39m\u001b[39mprecomputed\u001b[39m\u001b[39m\"\u001b[39m \u001b[39mand\u001b[39;00m issparse(X)\n\u001b[1;32m    834\u001b[0m ):\n\u001b[1;32m    835\u001b[0m     results \u001b[39m=\u001b[39m _kneighbors_from_graph(\n\u001b[1;32m    836\u001b[0m         X, n_neighbors\u001b[39m=\u001b[39mn_neighbors, return_distance\u001b[39m=\u001b[39mreturn_distance\n\u001b[1;32m    837\u001b[0m     )\n",
      "File \u001b[0;32m~/anaconda3/lib/python3.11/site-packages/sklearn/metrics/_pairwise_distances_reduction/_dispatcher.py:259\u001b[0m, in \u001b[0;36mArgKmin.compute\u001b[0;34m(cls, X, Y, k, metric, chunk_size, metric_kwargs, strategy, return_distance)\u001b[0m\n\u001b[1;32m    178\u001b[0m \u001b[39m\u001b[39m\u001b[39m\"\"\"Compute the argkmin reduction.\u001b[39;00m\n\u001b[1;32m    179\u001b[0m \n\u001b[1;32m    180\u001b[0m \u001b[39mParameters\u001b[39;00m\n\u001b[0;32m   (...)\u001b[0m\n\u001b[1;32m    256\u001b[0m \u001b[39mreturns.\u001b[39;00m\n\u001b[1;32m    257\u001b[0m \u001b[39m\"\"\"\u001b[39;00m\n\u001b[1;32m    258\u001b[0m \u001b[39mif\u001b[39;00m X\u001b[39m.\u001b[39mdtype \u001b[39m==\u001b[39m Y\u001b[39m.\u001b[39mdtype \u001b[39m==\u001b[39m np\u001b[39m.\u001b[39mfloat64:\n\u001b[0;32m--> 259\u001b[0m     \u001b[39mreturn\u001b[39;00m ArgKmin64\u001b[39m.\u001b[39mcompute(\n\u001b[1;32m    260\u001b[0m         X\u001b[39m=\u001b[39mX,\n\u001b[1;32m    261\u001b[0m         Y\u001b[39m=\u001b[39mY,\n\u001b[1;32m    262\u001b[0m         k\u001b[39m=\u001b[39mk,\n\u001b[1;32m    263\u001b[0m         metric\u001b[39m=\u001b[39mmetric,\n\u001b[1;32m    264\u001b[0m         chunk_size\u001b[39m=\u001b[39mchunk_size,\n\u001b[1;32m    265\u001b[0m         metric_kwargs\u001b[39m=\u001b[39mmetric_kwargs,\n\u001b[1;32m    266\u001b[0m         strategy\u001b[39m=\u001b[39mstrategy,\n\u001b[1;32m    267\u001b[0m         return_distance\u001b[39m=\u001b[39mreturn_distance,\n\u001b[1;32m    268\u001b[0m     )\n\u001b[1;32m    270\u001b[0m \u001b[39mif\u001b[39;00m X\u001b[39m.\u001b[39mdtype \u001b[39m==\u001b[39m Y\u001b[39m.\u001b[39mdtype \u001b[39m==\u001b[39m np\u001b[39m.\u001b[39mfloat32:\n\u001b[1;32m    271\u001b[0m     \u001b[39mreturn\u001b[39;00m ArgKmin32\u001b[39m.\u001b[39mcompute(\n\u001b[1;32m    272\u001b[0m         X\u001b[39m=\u001b[39mX,\n\u001b[1;32m    273\u001b[0m         Y\u001b[39m=\u001b[39mY,\n\u001b[0;32m   (...)\u001b[0m\n\u001b[1;32m    279\u001b[0m         return_distance\u001b[39m=\u001b[39mreturn_distance,\n\u001b[1;32m    280\u001b[0m     )\n",
      "File \u001b[0;32msklearn/metrics/_pairwise_distances_reduction/_argkmin.pyx:90\u001b[0m, in \u001b[0;36msklearn.metrics._pairwise_distances_reduction._argkmin.ArgKmin64.compute\u001b[0;34m()\u001b[0m\n",
      "File \u001b[0;32m~/anaconda3/lib/python3.11/site-packages/sklearn/utils/fixes.py:74\u001b[0m, in \u001b[0;36mthreadpool_limits\u001b[0;34m(limits, user_api)\u001b[0m\n\u001b[1;32m     72\u001b[0m     \u001b[39mreturn\u001b[39;00m controller\u001b[39m.\u001b[39mlimit(limits\u001b[39m=\u001b[39mlimits, user_api\u001b[39m=\u001b[39muser_api)\n\u001b[1;32m     73\u001b[0m \u001b[39melse\u001b[39;00m:\n\u001b[0;32m---> 74\u001b[0m     \u001b[39mreturn\u001b[39;00m threadpoolctl\u001b[39m.\u001b[39mthreadpool_limits(limits\u001b[39m=\u001b[39mlimits, user_api\u001b[39m=\u001b[39muser_api)\n",
      "File \u001b[0;32m~/anaconda3/lib/python3.11/site-packages/threadpoolctl.py:171\u001b[0m, in \u001b[0;36mthreadpool_limits.__init__\u001b[0;34m(self, limits, user_api)\u001b[0m\n\u001b[1;32m    167\u001b[0m \u001b[39mdef\u001b[39;00m \u001b[39m__init__\u001b[39m(\u001b[39mself\u001b[39m, limits\u001b[39m=\u001b[39m\u001b[39mNone\u001b[39;00m, user_api\u001b[39m=\u001b[39m\u001b[39mNone\u001b[39;00m):\n\u001b[1;32m    168\u001b[0m     \u001b[39mself\u001b[39m\u001b[39m.\u001b[39m_limits, \u001b[39mself\u001b[39m\u001b[39m.\u001b[39m_user_api, \u001b[39mself\u001b[39m\u001b[39m.\u001b[39m_prefixes \u001b[39m=\u001b[39m \\\n\u001b[1;32m    169\u001b[0m         \u001b[39mself\u001b[39m\u001b[39m.\u001b[39m_check_params(limits, user_api)\n\u001b[0;32m--> 171\u001b[0m     \u001b[39mself\u001b[39m\u001b[39m.\u001b[39m_original_info \u001b[39m=\u001b[39m \u001b[39mself\u001b[39m\u001b[39m.\u001b[39m_set_threadpool_limits()\n",
      "File \u001b[0;32m~/anaconda3/lib/python3.11/site-packages/threadpoolctl.py:268\u001b[0m, in \u001b[0;36mthreadpool_limits._set_threadpool_limits\u001b[0;34m(self)\u001b[0m\n\u001b[1;32m    265\u001b[0m \u001b[39mif\u001b[39;00m \u001b[39mself\u001b[39m\u001b[39m.\u001b[39m_limits \u001b[39mis\u001b[39;00m \u001b[39mNone\u001b[39;00m:\n\u001b[1;32m    266\u001b[0m     \u001b[39mreturn\u001b[39;00m \u001b[39mNone\u001b[39;00m\n\u001b[0;32m--> 268\u001b[0m modules \u001b[39m=\u001b[39m _ThreadpoolInfo(prefixes\u001b[39m=\u001b[39m\u001b[39mself\u001b[39m\u001b[39m.\u001b[39m_prefixes,\n\u001b[1;32m    269\u001b[0m                           user_api\u001b[39m=\u001b[39m\u001b[39mself\u001b[39m\u001b[39m.\u001b[39m_user_api)\n\u001b[1;32m    270\u001b[0m \u001b[39mfor\u001b[39;00m module \u001b[39min\u001b[39;00m modules:\n\u001b[1;32m    271\u001b[0m     \u001b[39m# self._limits is a dict {key: num_threads} where key is either\u001b[39;00m\n\u001b[1;32m    272\u001b[0m     \u001b[39m# a prefix or a user_api. If a module matches both, the limit\u001b[39;00m\n\u001b[1;32m    273\u001b[0m     \u001b[39m# corresponding to the prefix is chosed.\u001b[39;00m\n\u001b[1;32m    274\u001b[0m     \u001b[39mif\u001b[39;00m module\u001b[39m.\u001b[39mprefix \u001b[39min\u001b[39;00m \u001b[39mself\u001b[39m\u001b[39m.\u001b[39m_limits:\n",
      "File \u001b[0;32m~/anaconda3/lib/python3.11/site-packages/threadpoolctl.py:340\u001b[0m, in \u001b[0;36m_ThreadpoolInfo.__init__\u001b[0;34m(self, user_api, prefixes, modules)\u001b[0m\n\u001b[1;32m    337\u001b[0m     \u001b[39mself\u001b[39m\u001b[39m.\u001b[39muser_api \u001b[39m=\u001b[39m [] \u001b[39mif\u001b[39;00m user_api \u001b[39mis\u001b[39;00m \u001b[39mNone\u001b[39;00m \u001b[39melse\u001b[39;00m user_api\n\u001b[1;32m    339\u001b[0m     \u001b[39mself\u001b[39m\u001b[39m.\u001b[39mmodules \u001b[39m=\u001b[39m []\n\u001b[0;32m--> 340\u001b[0m     \u001b[39mself\u001b[39m\u001b[39m.\u001b[39m_load_modules()\n\u001b[1;32m    341\u001b[0m     \u001b[39mself\u001b[39m\u001b[39m.\u001b[39m_warn_if_incompatible_openmp()\n\u001b[1;32m    342\u001b[0m \u001b[39melse\u001b[39;00m:\n",
      "File \u001b[0;32m~/anaconda3/lib/python3.11/site-packages/threadpoolctl.py:371\u001b[0m, in \u001b[0;36m_ThreadpoolInfo._load_modules\u001b[0;34m(self)\u001b[0m\n\u001b[1;32m    369\u001b[0m \u001b[39m\u001b[39m\u001b[39m\"\"\"Loop through loaded libraries and store supported ones\"\"\"\u001b[39;00m\n\u001b[1;32m    370\u001b[0m \u001b[39mif\u001b[39;00m sys\u001b[39m.\u001b[39mplatform \u001b[39m==\u001b[39m \u001b[39m\"\u001b[39m\u001b[39mdarwin\u001b[39m\u001b[39m\"\u001b[39m:\n\u001b[0;32m--> 371\u001b[0m     \u001b[39mself\u001b[39m\u001b[39m.\u001b[39m_find_modules_with_dyld()\n\u001b[1;32m    372\u001b[0m \u001b[39melif\u001b[39;00m sys\u001b[39m.\u001b[39mplatform \u001b[39m==\u001b[39m \u001b[39m\"\u001b[39m\u001b[39mwin32\u001b[39m\u001b[39m\"\u001b[39m:\n\u001b[1;32m    373\u001b[0m     \u001b[39mself\u001b[39m\u001b[39m.\u001b[39m_find_modules_with_enum_process_module_ex()\n",
      "File \u001b[0;32m~/anaconda3/lib/python3.11/site-packages/threadpoolctl.py:428\u001b[0m, in \u001b[0;36m_ThreadpoolInfo._find_modules_with_dyld\u001b[0;34m(self)\u001b[0m\n\u001b[1;32m    425\u001b[0m filepath \u001b[39m=\u001b[39m filepath\u001b[39m.\u001b[39mdecode(\u001b[39m\"\u001b[39m\u001b[39mutf-8\u001b[39m\u001b[39m\"\u001b[39m)\n\u001b[1;32m    427\u001b[0m \u001b[39m# Store the module if it is supported and selected\u001b[39;00m\n\u001b[0;32m--> 428\u001b[0m \u001b[39mself\u001b[39m\u001b[39m.\u001b[39m_make_module_from_path(filepath)\n",
      "File \u001b[0;32m~/anaconda3/lib/python3.11/site-packages/threadpoolctl.py:515\u001b[0m, in \u001b[0;36m_ThreadpoolInfo._make_module_from_path\u001b[0;34m(self, filepath)\u001b[0m\n\u001b[1;32m    513\u001b[0m \u001b[39mif\u001b[39;00m prefix \u001b[39min\u001b[39;00m \u001b[39mself\u001b[39m\u001b[39m.\u001b[39mprefixes \u001b[39mor\u001b[39;00m user_api \u001b[39min\u001b[39;00m \u001b[39mself\u001b[39m\u001b[39m.\u001b[39muser_api:\n\u001b[1;32m    514\u001b[0m     module_class \u001b[39m=\u001b[39m \u001b[39mglobals\u001b[39m()[module_class]\n\u001b[0;32m--> 515\u001b[0m     module \u001b[39m=\u001b[39m module_class(filepath, prefix, user_api, internal_api)\n\u001b[1;32m    516\u001b[0m     \u001b[39mself\u001b[39m\u001b[39m.\u001b[39mmodules\u001b[39m.\u001b[39mappend(module)\n",
      "File \u001b[0;32m~/anaconda3/lib/python3.11/site-packages/threadpoolctl.py:606\u001b[0m, in \u001b[0;36m_Module.__init__\u001b[0;34m(self, filepath, prefix, user_api, internal_api)\u001b[0m\n\u001b[1;32m    604\u001b[0m \u001b[39mself\u001b[39m\u001b[39m.\u001b[39minternal_api \u001b[39m=\u001b[39m internal_api\n\u001b[1;32m    605\u001b[0m \u001b[39mself\u001b[39m\u001b[39m.\u001b[39m_dynlib \u001b[39m=\u001b[39m ctypes\u001b[39m.\u001b[39mCDLL(filepath, mode\u001b[39m=\u001b[39m_RTLD_NOLOAD)\n\u001b[0;32m--> 606\u001b[0m \u001b[39mself\u001b[39m\u001b[39m.\u001b[39mversion \u001b[39m=\u001b[39m \u001b[39mself\u001b[39m\u001b[39m.\u001b[39mget_version()\n\u001b[1;32m    607\u001b[0m \u001b[39mself\u001b[39m\u001b[39m.\u001b[39mnum_threads \u001b[39m=\u001b[39m \u001b[39mself\u001b[39m\u001b[39m.\u001b[39mget_num_threads()\n\u001b[1;32m    608\u001b[0m \u001b[39mself\u001b[39m\u001b[39m.\u001b[39m_get_extra_info()\n",
      "File \u001b[0;32m~/anaconda3/lib/python3.11/site-packages/threadpoolctl.py:646\u001b[0m, in \u001b[0;36m_OpenBLASModule.get_version\u001b[0;34m(self)\u001b[0m\n\u001b[1;32m    643\u001b[0m get_config \u001b[39m=\u001b[39m \u001b[39mgetattr\u001b[39m(\u001b[39mself\u001b[39m\u001b[39m.\u001b[39m_dynlib, \u001b[39m\"\u001b[39m\u001b[39mopenblas_get_config\u001b[39m\u001b[39m\"\u001b[39m,\n\u001b[1;32m    644\u001b[0m                      \u001b[39mlambda\u001b[39;00m: \u001b[39mNone\u001b[39;00m)\n\u001b[1;32m    645\u001b[0m get_config\u001b[39m.\u001b[39mrestype \u001b[39m=\u001b[39m ctypes\u001b[39m.\u001b[39mc_char_p\n\u001b[0;32m--> 646\u001b[0m config \u001b[39m=\u001b[39m get_config()\u001b[39m.\u001b[39msplit()\n\u001b[1;32m    647\u001b[0m \u001b[39mif\u001b[39;00m config[\u001b[39m0\u001b[39m] \u001b[39m==\u001b[39m \u001b[39mb\u001b[39m\u001b[39m\"\u001b[39m\u001b[39mOpenBLAS\u001b[39m\u001b[39m\"\u001b[39m:\n\u001b[1;32m    648\u001b[0m     \u001b[39mreturn\u001b[39;00m config[\u001b[39m1\u001b[39m]\u001b[39m.\u001b[39mdecode(\u001b[39m\"\u001b[39m\u001b[39mutf-8\u001b[39m\u001b[39m\"\u001b[39m)\n",
      "\u001b[0;31mAttributeError\u001b[0m: 'NoneType' object has no attribute 'split'"
     ]
    }
   ],
   "source": [
    "# K-nearest neighbors\n",
    "param_grid = {'n_neighbors': [3, 5, 7, 9, 11]}\n",
    "knn = KNeighborsClassifier()\n",
    "grid_search = GridSearchCV(knn, param_grid, cv=5)\n",
    "grid_search.fit(X_train, y_train)\n",
    "print(f'KNN Best Parameters: {grid_search.best_params_}')\n",
    "print(f'KNN Accuracy (train): {accuracy_score(y_train, grid_search.predict(X_train)):.4f}')\n",
    "print(f'KNN Accuracy (cv): {grid_search.best_score_:.4f}')"
   ]
  },
  {
   "cell_type": "code",
   "execution_count": 43,
   "metadata": {},
   "outputs": [
    {
     "name": "stdout",
     "output_type": "stream",
     "text": [
      "Support Vector Machine Training Accuracy: 0.8570\n",
      "Support Vector Machine Testing Accuracy: 0.8430\n"
     ]
    }
   ],
   "source": [
    "# Support vector machine\n",
    "param_grid = {\n",
    "    'C': [0.1, 1, 10],\n",
    "    'kernel': ['linear', 'rbf', 'poly'],\n",
    "    'degree': [2, 3, 4],\n",
    "    'gamma': ['scale', 'auto']\n",
    "}\n",
    "svm = SVC()\n",
    "grid_search = GridSearchCV(estimator=svm, param_grid=param_grid, cv=5)\n",
    "grid_search.fit(X_train, y_train)\n",
    "print(f'SVM Best Parameters: {grid_search.best_params_}')\n",
    "print(f'SVM Accuracy (train): {accuracy_score(y_train, grid_search.predict(X_train)):.4f}')\n",
    "print(f'SVM Accuracy (cv): {grid_search.best_score_:.4f}')"
   ]
  },
  {
   "cell_type": "code",
   "execution_count": 44,
   "metadata": {},
   "outputs": [
    {
     "name": "stdout",
     "output_type": "stream",
     "text": [
      "Decision Tree Training Accuracy: 1.0000\n",
      "Decision Tree Testing Accuracy: 0.7591\n"
     ]
    }
   ],
   "source": [
    "# Decision Tree\n",
    "param_grid = {\n",
    "    'max_depth': [3, 5, 7, 9],\n",
    "    'min_samples_split': [2, 4, 6],\n",
    "    'min_samples_leaf': [1, 2, 4]\n",
    "}\n",
    "dt = DecisionTreeClassifier()\n",
    "grid_search = GridSearchCV(estimator=dt, param_grid=param_grid, cv=5)\n",
    "grid_search.fit(X_train, y_train)\n",
    "print(f'DT Best Parameters: {grid_search.best_params_}')\n",
    "print(f'DT Accuracy (train): {accuracy_score(y_train, grid_search.predict(X_train)):.4f}')\n",
    "print(f'DT Accuracy (cv): {grid_search.best_score_:.4f}')"
   ]
  },
  {
   "cell_type": "code",
   "execution_count": 45,
   "metadata": {},
   "outputs": [
    {
     "name": "stdout",
     "output_type": "stream",
     "text": [
      "Bagging Training Accuracy: 0.9828\n",
      "Bagging Testing Accuracy: 0.8430\n"
     ]
    }
   ],
   "source": [
    "# Bagging\n",
    "param_grid = {\n",
    "    'n_estimators': [50, 100, 200],\n",
    "    'max_samples': [0.5, 0.7, 0.9],\n",
    "    'max_features': [0.5, 0.7, 0.9]\n",
    "}\n",
    "grid_search = GridSearchCV(estimator=BaggingClassifier(), param_grid=param_grid, cv=5)\n",
    "grid_search.fit(X_train, y_train)\n",
    "print(f'Bagging Best Parameters: {grid_search.best_params}')\n",
    "print(f'Bagging Accuracy (train): {accuracy_score(y_train, grid_search.predict(X_train)):.4f}') \n",
    "print(f'Bagging Accuracy (cv): {grid_search.best_score_:.4f}')"
   ]
  },
  {
   "cell_type": "code",
   "execution_count": 46,
   "metadata": {},
   "outputs": [
    {
     "name": "stdout",
     "output_type": "stream",
     "text": [
      "Random Forests Training Accuracy: 0.9999\n",
      "Random Forests Testing Accuracy: 0.8589\n"
     ]
    }
   ],
   "source": [
    "# Random forest\n",
    "param_grid = {\n",
    "    'n_estimators': [50, 100, 200],\n",
    "    'max_depth': [3, 5, 7],\n",
    "    'min_samples_split': [2, 4, 6],\n",
    "    'min_samples_leaf': [1, 2, 4]\n",
    "}\n",
    "rf = RandomForestClassifier(random_state=42)\n",
    "grid_search = GridSearchCV(estimator=rf, param_grid=param_grid, cv=5)\n",
    "grid_search.fit(X_train, y_train)\n",
    "print(f'RF Best Parameters: {grid_search.best_params_}')\n",
    "print(f'RF Accuracy (train): {accuracy_score(y_train, grid_search.predict(X_train)):.4f}') \n",
    "print(f'RF Accuracy (cv): {grid_search.best_score_:.4f}')"
   ]
  },
  {
   "cell_type": "code",
   "execution_count": 47,
   "metadata": {},
   "outputs": [
    {
     "name": "stdout",
     "output_type": "stream",
     "text": [
      "Gradient Boosting Training Accuracy: 0.8712\n",
      "Gradient Boosting Testing Accuracy: 0.8624\n"
     ]
    }
   ],
   "source": [
    "# Gradient boosting\n",
    "param_grid = {\n",
    "    'learning_rate': [0.1, 0.05, 0.01],\n",
    "    'max_depth': [3, 4, 5],\n",
    "    'min_samples_split': [2, 3, 4],\n",
    "    'n_estimators': [50, 100, 200]\n",
    "}\n",
    "gb = GradientBoostingClassifier()\n",
    "grid_search = GridSearchCV(estimator=gb, param_grid=param_grid, cv=5)\n",
    "grid_search.fit(X_train, y_train)\n",
    "print(f'GB Best Parameters: {grid_search.best_params_}')\n",
    "print(f'GB Accuracy (train): {accuracy_score(y_train, grid_search.predict(X_train)):.4f}')\n",
    "print(f'GB Accuracy (cv): {grid_search.best_score_:.4f}')"
   ]
  },
  {
   "cell_type": "code",
   "execution_count": 15,
   "metadata": {},
   "outputs": [
    {
     "name": "stdout",
     "output_type": "stream",
     "text": [
      "AdaBoost Training Accuracy: 0.8561\n",
      "AdaBoost Testing Accuracy: 0.8482\n"
     ]
    }
   ],
   "source": [
    "# AdaBoost\n",
    "param_grid = {\n",
    "    'n_estimators': [50, 100, 200],\n",
    "    'learning_rate': [0.01, 0.1, 1]\n",
    "}\n",
    "ada = AdaBoostClassifier()\n",
    "grid_search = GridSearchCV(estimator=ada, param_grid=param_grid, cv=5)\n",
    "grid_search.fit(X_train, y_train)\n",
    "print(f'AdaBoost Best Parameters: {grid_search.best_params_}')\n",
    "print(f'AdaBoost Accuracy (train): {accuracy_score(y_train, grid_search.predict(X_train)):.4f}')\n",
    "print(f'AdaBoost Accuracy (cv): {grid_search.best_score_:.4f}')"
   ]
  },
  {
   "cell_type": "code",
   "execution_count": 27,
   "metadata": {},
   "outputs": [
    {
     "name": "stdout",
     "output_type": "stream",
     "text": [
      "XGBoost Best Hyperparameters: {'learning_rate': 0.1, 'max_depth': 3, 'n_estimators': 500}\n",
      "XGBoost Accuracy (train): 0.9011\n",
      "XGBoost Accuracy (cv): 0.8641\n"
     ]
    }
   ],
   "source": [
    "# XGBoost\n",
    "param_grid = {\n",
    "    'max_depth': [3, 4, 5],\n",
    "    'learning_rate': [0.1, 0.01, 0.001],\n",
    "    'n_estimators': [100, 500, 1000]\n",
    "}\n",
    "xgb = XGBClassifier()\n",
    "grid_search = GridSearchCV(estimator=xgb, param_grid=param_grid, cv=5)\n",
    "grid_search.fit(X_train, y_train)\n",
    "print(f'XGBoost Best Hyperparameters: {grid_search.best_params_}')\n",
    "print(f'XGBoost Accuracy (train): {accuracy_score(y_train, grid_search.predict(X_train)):.4f}')\n",
    "print(f'XGBoost Accuracy (cv): {grid_search.best_score_:.4f}')"
   ]
  }
 ],
 "metadata": {
  "kernelspec": {
   "display_name": "Python 3",
   "language": "python",
   "name": "python3"
  },
  "language_info": {
   "codemirror_mode": {
    "name": "ipython",
    "version": 3
   },
   "file_extension": ".py",
   "mimetype": "text/x-python",
   "name": "python",
   "nbconvert_exporter": "python",
   "pygments_lexer": "ipython3",
   "version": "3.11.4"
  }
 },
 "nbformat": 4,
 "nbformat_minor": 2
}
