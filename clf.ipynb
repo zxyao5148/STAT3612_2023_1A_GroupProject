{
 "cells": [
  {
   "cell_type": "code",
   "execution_count": 25,
   "metadata": {},
   "outputs": [],
   "source": [
    "# load library\n",
    "import numpy as np\n",
    "import pandas as pd\n",
    "import matplotlib.pyplot as plt\n",
    "import seaborn as sns\n",
    "import math\n",
    "import zipfile\n",
    "import urllib.request\n",
    "import io\n",
    "import warnings\n",
    "from xgboost import XGBClassifier\n",
    "from sklearn.metrics import accuracy_score, confusion_matrix, classification_report, roc_curve, auc\n",
    "from sklearn.linear_model import LogisticRegression\n",
    "from sklearn.discriminant_analysis import LinearDiscriminantAnalysis, QuadraticDiscriminantAnalysis\n",
    "from sklearn.naive_bayes import GaussianNB\n",
    "from sklearn.neighbors import KNeighborsClassifier\n",
    "from sklearn.svm import SVC\n",
    "from sklearn.tree import DecisionTreeClassifier\n",
    "from sklearn.ensemble import BaggingClassifier, RandomForestClassifier, GradientBoostingClassifier, AdaBoostClassifier\n",
    "from sklearn.metrics import accuracy_score, confusion_matrix, classification_report, roc_curve, auc\n",
    "warnings.filterwarnings('ignore')\n",
    "\n"
   ]
  },
  {
   "cell_type": "code",
   "execution_count": 16,
   "metadata": {},
   "outputs": [],
   "source": [
    "# load raw and processed data\n",
    "train_merged_df_latest = pd.read_csv('https://github.com/zxyao5148/STAT3612_2023_1A_GroupProject/raw/main/data_processing/train_merged_latest_feat.csv')\n",
    "train_merged_df_median = pd.read_csv('https://github.com/zxyao5148/STAT3612_2023_1A_GroupProject/raw/main/data_processing/train_merged_median_feat.csv')\n",
    "valid_merged_df_latest = pd.read_csv('https://github.com/zxyao5148/STAT3612_2023_1A_GroupProject/raw/main/data_processing/valid_merged_latest_feat.csv')\n",
    "valid_merged_df_median = pd.read_csv('https://github.com/zxyao5148/STAT3612_2023_1A_GroupProject/raw/main/data_processing/valid_merged_median_feat.csv')\n",
    "test_merged_df_latest = pd.read_csv('https://github.com/zxyao5148/STAT3612_2023_1A_GroupProject/raw/main/data_processing/test_merged_latest_feat.csv')\n",
    "test_merged_df_median = pd.read_csv('https://github.com/zxyao5148/STAT3612_2023_1A_GroupProject/raw/main/data_processing/test_merged_median_feat.csv')"
   ]
  },
  {
   "cell_type": "code",
   "execution_count": 17,
   "metadata": {},
   "outputs": [],
   "source": [
    "# separate response and features\n",
    "X_train = train_merged_df_latest.iloc[:, 9:]\n",
    "y_train = train_merged_df_latest['readmitted_within_30days']\n"
   ]
  },
  {
   "cell_type": "code",
   "execution_count": 18,
   "metadata": {},
   "outputs": [
    {
     "name": "stdout",
     "output_type": "stream",
     "text": [
      "Logistic Regression Training Error: 0.8522\n"
     ]
    }
   ],
   "source": [
    "# logistic regression\n",
    "lr = LogisticRegression()\n",
    "lr.fit(X_train, y_train)\n",
    "lr_accuracy_train = accuracy_score(y_train, lr.predict(X_train))\n",
    "print(f'Logistic Regression Training Error: {lr_accuracy_train:.4f}')"
   ]
  },
  {
   "cell_type": "code",
   "execution_count": 19,
   "metadata": {},
   "outputs": [
    {
     "name": "stdout",
     "output_type": "stream",
     "text": [
      "Linear Discriminant Analysis Training Accuracy: 0.8530\n"
     ]
    }
   ],
   "source": [
    "# Linear discriminant analysis\n",
    "lda = LinearDiscriminantAnalysis()\n",
    "lda.fit(X_train, y_train)\n",
    "lda_accuracy_train = accuracy_score(y_train, lda.predict(X_train))\n",
    "print(f'Linear Discriminant Analysis Training Accuracy: {lda_accuracy_train:.4f}')"
   ]
  },
  {
   "cell_type": "code",
   "execution_count": 20,
   "metadata": {},
   "outputs": [
    {
     "name": "stdout",
     "output_type": "stream",
     "text": [
      "Quadratic Discriminant Analysis Training Accuracy: 0.1942\n"
     ]
    }
   ],
   "source": [
    "# Quadratic discriminant analysis\n",
    "qda = QuadraticDiscriminantAnalysis()\n",
    "qda.fit(X_train, y_train)\n",
    "qda_accuracy_train = accuracy_score(y_train, qda.predict(X_train))\n",
    "print(f'Quadratic Discriminant Analysis Training Accuracy: {qda_accuracy_train:.4f}')"
   ]
  },
  {
   "cell_type": "code",
   "execution_count": 21,
   "metadata": {},
   "outputs": [
    {
     "name": "stdout",
     "output_type": "stream",
     "text": [
      "Gaussian Naive Bayes Training Accuracy: 0.1984\n"
     ]
    }
   ],
   "source": [
    "# Gaussian naive bayes\n",
    "gnb = GaussianNB()\n",
    "gnb.fit(X_train, y_train)\n",
    "gnb_accuracy_train = accuracy_score(y_train, gnb.predict(X_train))\n",
    "print(f'Gaussian Naive Bayes Training Accuracy: {gnb_accuracy_train:.4f}')"
   ]
  },
  {
   "cell_type": "code",
   "execution_count": 27,
   "metadata": {},
   "outputs": [],
   "source": [
    "# k-nearest neighbors\n",
    "#knn = KNeighborsClassifier()\n",
    "#knn.fit(X_train, y_train)\n",
    "#knn_accuracy_train = accuracy_score(y_train, knn.predict(X_train))\n",
    "#print(f'K-Nearest Neighbors Training Accuracy: {knn_accuracy_train:.4f}')"
   ]
  },
  {
   "cell_type": "code",
   "execution_count": 28,
   "metadata": {},
   "outputs": [
    {
     "name": "stdout",
     "output_type": "stream",
     "text": [
      "Support Vector Machine Training Accuracy: 0.8570\n"
     ]
    }
   ],
   "source": [
    "# Support Vector Machine\n",
    "svm = SVC()\n",
    "svm.fit(X_train, y_train)\n",
    "svm_accuracy_train = accuracy_score(y_train, svm.predict(X_train))\n",
    "print(f'Support Vector Machine Training Accuracy: {svm_accuracy_train:.4f}')"
   ]
  },
  {
   "cell_type": "code",
   "execution_count": 29,
   "metadata": {},
   "outputs": [
    {
     "name": "stdout",
     "output_type": "stream",
     "text": [
      "Decision Tree Training Accuracy: 1.0000\n"
     ]
    }
   ],
   "source": [
    "# Decision Tree\n",
    "dt = DecisionTreeClassifier()\n",
    "dt.fit(X_train, y_train)\n",
    "dt_accuracy_train = accuracy_score(y_train, dt.predict(X_train))\n",
    "print(f'Decision Tree Training Accuracy: {dt_accuracy_train:.4f}')"
   ]
  },
  {
   "cell_type": "code",
   "execution_count": 31,
   "metadata": {},
   "outputs": [
    {
     "name": "stdout",
     "output_type": "stream",
     "text": [
      "Bagging Training Accuracy: 0.9832\n"
     ]
    }
   ],
   "source": [
    "# Bagging\n",
    "bagging = BaggingClassifier()\n",
    "bagging.fit(X_train, y_train)\n",
    "bagging_accuracy_train = accuracy_score(y_train, bagging.predict(X_train))\n",
    "print(f'Bagging Training Accuracy: {bagging_accuracy_train:.4f}')"
   ]
  },
  {
   "cell_type": "code",
   "execution_count": 32,
   "metadata": {},
   "outputs": [
    {
     "name": "stdout",
     "output_type": "stream",
     "text": [
      "Random Forests Training Accuracy: 1.0000\n"
     ]
    }
   ],
   "source": [
    "# Random forest\n",
    "rf = RandomForestClassifier()\n",
    "rf.fit(X_train, y_train)\n",
    "rf_accuracy_train = accuracy_score(y_train, rf.predict(X_train))\n",
    "print(f'Random Forests Training Accuracy: {rf_accuracy_train:.4f}')"
   ]
  },
  {
   "cell_type": "code",
   "execution_count": 33,
   "metadata": {},
   "outputs": [
    {
     "name": "stdout",
     "output_type": "stream",
     "text": [
      "Gradient Boosting Training Accuracy: 0.8712\n"
     ]
    }
   ],
   "source": [
    "# Gradient boosting\n",
    "gb = GradientBoostingClassifier()\n",
    "gb.fit(X_train, y_train)\n",
    "gb_accuracy_train = accuracy_score(y_train, gb.predict(X_train))\n",
    "print(f'Gradient Boosting Training Accuracy: {gb_accuracy_train:.4f}')"
   ]
  },
  {
   "cell_type": "code",
   "execution_count": 34,
   "metadata": {},
   "outputs": [
    {
     "name": "stdout",
     "output_type": "stream",
     "text": [
      "AdaBoost Training Accuracy: 0.8561\n"
     ]
    }
   ],
   "source": [
    "# AdaBoost\n",
    "ada = AdaBoostClassifier()\n",
    "ada.fit(X_train, y_train)\n",
    "ada_accuracy_train = accuracy_score(y_train, ada.predict(X_train))\n",
    "print(f'AdaBoost Training Accuracy: {ada_accuracy_train:.4f}')"
   ]
  },
  {
   "cell_type": "code",
   "execution_count": 35,
   "metadata": {},
   "outputs": [
    {
     "name": "stdout",
     "output_type": "stream",
     "text": [
      "XGBoost Training Accuracy: 0.9562\n"
     ]
    }
   ],
   "source": [
    "# XGBoost\n",
    "xgb = XGBClassifier()\n",
    "xgb.fit(X_train, y_train)\n",
    "xgb_accuracy_train = accuracy_score(y_train, xgb.predict(X_train))\n",
    "print(f'XGBoost Training Accuracy: {xgb_accuracy_train:.4f}')"
   ]
  }
 ],
 "metadata": {
  "kernelspec": {
   "display_name": "Python 3",
   "language": "python",
   "name": "python3"
  },
  "language_info": {
   "codemirror_mode": {
    "name": "ipython",
    "version": 3
   },
   "file_extension": ".py",
   "mimetype": "text/x-python",
   "name": "python",
   "nbconvert_exporter": "python",
   "pygments_lexer": "ipython3",
   "version": "3.11.4"
  }
 },
 "nbformat": 4,
 "nbformat_minor": 2
}
